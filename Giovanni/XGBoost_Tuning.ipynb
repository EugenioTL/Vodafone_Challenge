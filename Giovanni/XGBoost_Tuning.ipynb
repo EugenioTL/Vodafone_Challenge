{
 "cells": [
  {
   "cell_type": "code",
   "execution_count": 1,
   "metadata": {},
   "outputs": [],
   "source": [
    "import pandas as pd\n",
    "import numpy as np\n",
    "import xgboost as xgb\n",
    "#from xgboost.sklearn import XGBClassifier\n",
    "from xgboost import XGBClassifier\n",
    "# from sklearn import cross_validation, metrics\n",
    "# from sklearn.grid_search import GridSearchCV\n",
    "from sklearn.model_selection import GridSearchCV\n",
    "from sklearn.model_selection import StratifiedKFold\n",
    "from sklearn.metrics import f1_score\n",
    "\n",
    "from sklearn.model_selection import train_test_split\n",
    "from sklearn.metrics import accuracy_score\n",
    "from sklearn import metrics\n",
    "\n",
    "from xgboost import plot_importance\n",
    "from matplotlib import pyplot\n",
    "import matplotlib.pyplot as plt\n",
    "%matplotlib inline\n",
    "from matplotlib.pylab import rcParams\n",
    "rcParams['figure.figsize'] = 12, 8\n",
    "\n",
    "from numpy import sort\n",
    "from sklearn.feature_selection import SelectFromModel\n",
    "\n",
    "# # Ignore warnings\n",
    "# import warnings\n",
    "# warnings.simplefilter('ignore')"
   ]
  },
  {
   "cell_type": "code",
   "execution_count": 2,
   "metadata": {},
   "outputs": [],
   "source": [
    "# Import the train set and test set\n",
    "# train_data2 = pd.read_csv(\"trainset.csv\", delimiter=\",\")\n",
    "# test_data2 = pd.read_csv(\"testset.csv\", delimiter=\",\")\n",
    "\n",
    "# train = pd.read_csv(\"normalized_train_dataset.csv\", delimiter=\",\")\n",
    "# test = pd.read_csv(\"normalized_test_dataset.csv\", delimiter=\",\")\n",
    "train = pd.read_csv(\"final_train.csv\", delimiter=\",\")\n",
    "test = pd.read_csv(\"final_test.csv\", delimiter=\",\")"
   ]
  },
  {
   "cell_type": "code",
   "execution_count": 3,
   "metadata": {},
   "outputs": [
    {
     "data": {
      "text/plain": [
       "((9567, 35), (3190, 34))"
      ]
     },
     "execution_count": 3,
     "metadata": {},
     "output_type": "execute_result"
    }
   ],
   "source": [
    "train.shape, test.shape"
   ]
  },
  {
   "cell_type": "code",
   "execution_count": 4,
   "metadata": {},
   "outputs": [],
   "source": [
    "target = 'Product'\n",
    "IDcol = 'ID'"
   ]
  },
  {
   "cell_type": "code",
   "execution_count": null,
   "metadata": {},
   "outputs": [],
   "source": []
  },
  {
   "cell_type": "code",
   "execution_count": null,
   "metadata": {},
   "outputs": [],
   "source": []
  },
  {
   "cell_type": "code",
   "execution_count": null,
   "metadata": {
    "scrolled": false
   },
   "outputs": [],
   "source": []
  },
  {
   "cell_type": "code",
   "execution_count": 5,
   "metadata": {},
   "outputs": [],
   "source": [
    "def modelfit(alg, dtrain, predictors,numfeat,useTrainCV=True, cv_folds=5, early_stopping_rounds=100):\n",
    "\n",
    "    if useTrainCV:\n",
    "        xgb_param = alg.get_xgb_params()\n",
    "        xgtrain = xgb.DMatrix(dtrain[predictors].values, label=dtrain[target].values)\n",
    "        cvresult = xgb.cv(xgb_param, xgtrain, num_boost_round=alg.get_params()['n_estimators'], nfold=cv_folds,\n",
    "            metrics=['merror', 'mlogloss'], early_stopping_rounds=early_stopping_rounds, \n",
    "                          verbose_eval=True)\n",
    "        alg.set_params(n_estimators=cvresult.shape[0])\n",
    "        #print(cvresult)\n",
    "    \n",
    "    #Fit the algorithm on the data\n",
    "    alg.fit(dtrain[predictors], dtrain['Product'],eval_metric='merror')\n",
    "        \n",
    "    #Predict training set:\n",
    "    dtrain_predictions = alg.predict(dtrain[predictors])\n",
    "    #dtrain_predprob = alg.predict_proba(dtrain[predictors])[:,1]\n",
    "\n",
    "    #Print model report:\n",
    "    print(\"\\nModel Report\")\n",
    "    print(\"Accuracy : %.4g\" % metrics.accuracy_score(dtrain['Product'].values, dtrain_predictions))\n",
    "    print(\"f1_micro : %.4g\" % metrics.f1_score(dtrain['Product'], dtrain_predictions, average='micro'))\n",
    "    print(\"f1_macro : %.4g\" % metrics.f1_score(dtrain['Product'], dtrain_predictions, average='macro'))\n",
    "    print(\"f1_weighted : %.4g\" % metrics.f1_score(dtrain['Product'], dtrain_predictions, average='weighted'))\n",
    "                    \n",
    "#     feat_imp = pd.Series(alg.booster().get_fscore()).sort_values(ascending=False)\n",
    "#     feat_imp.plot(kind='bar', title='Feature Importances')\n",
    "#     plt.ylabel('Feature Importance Score')\n",
    "    plot_importance(alg)\n",
    "    plt.show()\n",
    "    thresholds = alg.feature_importances_\n",
    "    print(\"Feature_Importances: \")\n",
    "    print(dtrain.columns[thresholds.argsort()[-numfeat:][::-1]])\n",
    "    print(\"Model: \" + str(alg.get_xgb_params()))\n",
    "    print(\"n_estimator: \" + str(cvresult.shape[0]))\n",
    "    return cvresult.shape[0]"
   ]
  },
  {
   "cell_type": "code",
   "execution_count": null,
   "metadata": {},
   "outputs": [],
   "source": []
  },
  {
   "cell_type": "code",
   "execution_count": null,
   "metadata": {},
   "outputs": [],
   "source": []
  },
  {
   "cell_type": "code",
   "execution_count": 6,
   "metadata": {},
   "outputs": [],
   "source": [
    "def important_features(model, nfeatures = 10):\n",
    "    model.fit()\n",
    "    thresholds = model.feature_importances_\n",
    "    \n",
    "    return train.column[thresholds.argsort()[-nfeatures:][::-1]]"
   ]
  },
  {
   "cell_type": "markdown",
   "metadata": {},
   "source": [
    "# Step 1- Find the number of estimators for a high learning rate"
   ]
  },
  {
   "cell_type": "code",
   "execution_count": 7,
   "metadata": {},
   "outputs": [
    {
     "data": {
      "text/plain": [
       "Index(['ID', 'DeviceFlag4G', 'DataArpu', 'DataAllowanceContinuous',\n",
       "       'DeviceFlagSmartphone', 'MonthlyVoiceTrafficCount',\n",
       "       'MonthlySMSTrafficCount', 'MonthlyDataTraffic', 'CustomerGender',\n",
       "       'CustomerExpatriate', 'ChurnScore', 'AirportConnectionsDuration',\n",
       "       'AirportConnectionsCount', 'StationConnectionsDuration',\n",
       "       'StationConnectionsCount', 'ParkingConnectionsDuration',\n",
       "       'ParkingConnectionsCount', 'File-Transfer', 'Games',\n",
       "       'Instant-Messaging-Applications', 'Mail', 'Music-Streaming',\n",
       "       'Network-Operation', 'P2P-Applications', 'Security',\n",
       "       'Streaming-Applications', 'Terminals', 'Unclassified', 'VoIP',\n",
       "       'Web-Applications', 'IsModified', 'CustomerAge', 'Region', 'Province',\n",
       "       'Product'],\n",
       "      dtype='object')"
      ]
     },
     "execution_count": 7,
     "metadata": {},
     "output_type": "execute_result"
    }
   ],
   "source": [
    "train.columns"
   ]
  },
  {
   "cell_type": "code",
   "execution_count": 8,
   "metadata": {
    "scrolled": true
   },
   "outputs": [
    {
     "name": "stdout",
     "output_type": "stream",
     "text": [
      "[0]\ttrain-merror:0.406815+0.00167685\ttrain-mlogloss:1.3346+0.000475091\ttest-merror:0.411832+0.00747232\ttest-mlogloss:1.33585+0.000819127\n",
      "[1]\ttrain-merror:0.406867+0.00220602\ttrain-mlogloss:1.29158+0.000758169\ttest-merror:0.412145+0.0084519\ttest-mlogloss:1.29408+0.00129246\n",
      "[2]\ttrain-merror:0.406005+0.00243155\ttrain-mlogloss:1.25511+0.0011552\ttest-merror:0.413085+0.00821859\ttest-mlogloss:1.25893+0.00197002\n",
      "[3]\ttrain-merror:0.406449+0.00254358\ttrain-mlogloss:1.22393+0.00142489\ttest-merror:0.413504+0.00832785\ttest-mlogloss:1.22881+0.00233658\n",
      "[4]\ttrain-merror:0.405796+0.00254206\ttrain-mlogloss:1.19688+0.00176565\ttest-merror:0.412249+0.00866306\ttest-mlogloss:1.20313+0.00276407\n",
      "[5]\ttrain-merror:0.404933+0.00248621\ttrain-mlogloss:1.17346+0.00199521\ttest-merror:0.412145+0.00757225\ttest-mlogloss:1.1808+0.00342002\n",
      "[6]\ttrain-merror:0.40394+0.00196138\ttrain-mlogloss:1.1531+0.00213388\ttest-merror:0.413085+0.00756061\ttest-mlogloss:1.16166+0.00394275\n",
      "[7]\ttrain-merror:0.403287+0.00276715\ttrain-mlogloss:1.13546+0.00214829\ttest-merror:0.414967+0.0081168\ttest-mlogloss:1.14523+0.00421366\n",
      "[8]\ttrain-merror:0.40313+0.00259836\ttrain-mlogloss:1.11968+0.00237546\ttest-merror:0.415908+0.00835959\ttest-mlogloss:1.13069+0.00451855\n",
      "[9]\ttrain-merror:0.403078+0.00262547\ttrain-mlogloss:1.1061+0.002454\ttest-merror:0.415908+0.00898328\ttest-mlogloss:1.11835+0.00474082\n",
      "[10]\ttrain-merror:0.403314+0.00244584\ttrain-mlogloss:1.09409+0.00256391\ttest-merror:0.414654+0.00937876\ttest-mlogloss:1.10755+0.00502898\n",
      "[11]\ttrain-merror:0.403392+0.0017662\ttrain-mlogloss:1.08325+0.00282975\ttest-merror:0.414339+0.0102724\ttest-mlogloss:1.09783+0.00520404\n",
      "[12]\ttrain-merror:0.403601+0.00237569\ttrain-mlogloss:1.07338+0.00302385\ttest-merror:0.415594+0.00909608\ttest-mlogloss:1.08898+0.00535518\n",
      "[13]\ttrain-merror:0.403131+0.0026235\ttrain-mlogloss:1.06465+0.00302958\ttest-merror:0.416221+0.0102641\ttest-mlogloss:1.08149+0.00567159\n",
      "[14]\ttrain-merror:0.403261+0.003136\ttrain-mlogloss:1.05675+0.00332461\ttest-merror:0.416325+0.0101456\ttest-mlogloss:1.07455+0.00567584\n",
      "[15]\ttrain-merror:0.403104+0.00266077\ttrain-mlogloss:1.04947+0.00330095\ttest-merror:0.415907+0.00973653\ttest-mlogloss:1.06846+0.00618766\n",
      "[16]\ttrain-merror:0.402791+0.00239671\ttrain-mlogloss:1.04291+0.00341945\ttest-merror:0.414862+0.0084324\ttest-mlogloss:1.06318+0.00641295\n",
      "[17]\ttrain-merror:0.402948+0.00297175\ttrain-mlogloss:1.03701+0.0036356\ttest-merror:0.41528+0.00814242\ttest-mlogloss:1.05822+0.00659499\n",
      "[18]\ttrain-merror:0.402503+0.00271123\ttrain-mlogloss:1.03142+0.00349227\ttest-merror:0.415907+0.00828936\ttest-mlogloss:1.05368+0.00695865\n",
      "[19]\ttrain-merror:0.401511+0.00289457\ttrain-mlogloss:1.02603+0.0035146\ttest-merror:0.415594+0.00759899\ttest-mlogloss:1.04942+0.00716521\n",
      "[20]\ttrain-merror:0.401171+0.00272871\ttrain-mlogloss:1.02124+0.0035519\ttest-merror:0.416012+0.00844192\ttest-mlogloss:1.0457+0.00761116\n",
      "[21]\ttrain-merror:0.401118+0.00316294\ttrain-mlogloss:1.01685+0.00342075\ttest-merror:0.41549+0.00846494\ttest-mlogloss:1.04263+0.00799396\n",
      "[22]\ttrain-merror:0.400648+0.00327274\ttrain-mlogloss:1.01275+0.00341538\ttest-merror:0.415595+0.00791973\ttest-mlogloss:1.03972+0.00814844\n",
      "[23]\ttrain-merror:0.399968+0.0031725\ttrain-mlogloss:1.00897+0.00344094\ttest-merror:0.41549+0.00645125\ttest-mlogloss:1.0372+0.00832935\n",
      "[24]\ttrain-merror:0.398976+0.00304205\ttrain-mlogloss:1.00519+0.00341117\ttest-merror:0.415698+0.00692019\ttest-mlogloss:1.03453+0.00838414\n",
      "[25]\ttrain-merror:0.397826+0.00266559\ttrain-mlogloss:1.00174+0.003491\ttest-merror:0.415281+0.00791292\ttest-mlogloss:1.03242+0.0081919\n",
      "[26]\ttrain-merror:0.397225+0.00313956\ttrain-mlogloss:0.99847+0.00342159\ttest-merror:0.415594+0.00850936\ttest-mlogloss:1.03032+0.0084569\n",
      "[27]\ttrain-merror:0.396624+0.00270647\ttrain-mlogloss:0.995368+0.00341344\ttest-merror:0.413921+0.00916833\ttest-mlogloss:1.0285+0.0084937\n",
      "[28]\ttrain-merror:0.396075+0.00285519\ttrain-mlogloss:0.99262+0.00343258\ttest-merror:0.414653+0.00834059\ttest-mlogloss:1.02678+0.00863269\n",
      "[29]\ttrain-merror:0.395082+0.00278962\ttrain-mlogloss:0.989887+0.00339491\ttest-merror:0.414444+0.00846086\ttest-mlogloss:1.02527+0.00871671\n",
      "[30]\ttrain-merror:0.394168+0.00224645\ttrain-mlogloss:0.987297+0.00343122\ttest-merror:0.413398+0.00858678\ttest-mlogloss:1.02372+0.00850662\n",
      "[31]\ttrain-merror:0.393383+0.00240007\ttrain-mlogloss:0.984887+0.00340477\ttest-merror:0.412771+0.00861651\ttest-mlogloss:1.02249+0.00854193\n",
      "[32]\ttrain-merror:0.39239+0.00234559\ttrain-mlogloss:0.982595+0.00347944\ttest-merror:0.412249+0.00814343\ttest-mlogloss:1.02128+0.00846708\n",
      "[33]\ttrain-merror:0.391397+0.00232589\ttrain-mlogloss:0.980286+0.00359032\ttest-merror:0.412249+0.00739262\ttest-mlogloss:1.02025+0.00849556\n",
      "[34]\ttrain-merror:0.391058+0.00201699\ttrain-mlogloss:0.97805+0.0034024\ttest-merror:0.41089+0.00840459\ttest-mlogloss:1.019+0.00876556\n",
      "[35]\ttrain-merror:0.390195+0.00191197\ttrain-mlogloss:0.975997+0.00336486\ttest-merror:0.410785+0.00759673\ttest-mlogloss:1.0181+0.00880595\n",
      "[36]\ttrain-merror:0.388967+0.00186417\ttrain-mlogloss:0.973673+0.00340428\ttest-merror:0.410577+0.00696258\ttest-mlogloss:1.01694+0.00886549\n",
      "[37]\ttrain-merror:0.388288+0.00194319\ttrain-mlogloss:0.971763+0.00328512\ttest-merror:0.409322+0.008194\ttest-mlogloss:1.01597+0.00898274\n",
      "[38]\ttrain-merror:0.387478+0.00170528\ttrain-mlogloss:0.969757+0.00336894\ttest-merror:0.409845+0.00748619\ttest-mlogloss:1.01502+0.00899945\n",
      "[39]\ttrain-merror:0.387112+0.00229571\ttrain-mlogloss:0.967837+0.00341288\ttest-merror:0.408904+0.00838934\ttest-mlogloss:1.01419+0.00903813\n",
      "[40]\ttrain-merror:0.387033+0.00212946\ttrain-mlogloss:0.965944+0.0033548\ttest-merror:0.409218+0.0079475\ttest-mlogloss:1.01347+0.0091745\n",
      "[41]\ttrain-merror:0.386354+0.00175393\ttrain-mlogloss:0.964139+0.00340171\ttest-merror:0.409009+0.0080003\ttest-mlogloss:1.01274+0.00922364\n",
      "[42]\ttrain-merror:0.385675+0.00201917\ttrain-mlogloss:0.962441+0.00337472\ttest-merror:0.408904+0.00739419\ttest-mlogloss:1.01207+0.00923294\n",
      "[43]\ttrain-merror:0.38476+0.0017227\ttrain-mlogloss:0.960648+0.00338998\ttest-merror:0.408695+0.00749628\ttest-mlogloss:1.01133+0.00932991\n",
      "[44]\ttrain-merror:0.383715+0.001868\ttrain-mlogloss:0.959034+0.00340115\ttest-merror:0.408173+0.0070939\ttest-mlogloss:1.01066+0.00939806\n",
      "[45]\ttrain-merror:0.382879+0.0017481\ttrain-mlogloss:0.957488+0.00339416\ttest-merror:0.408695+0.00708296\ttest-mlogloss:1.01011+0.00937302\n",
      "[46]\ttrain-merror:0.382225+0.00208813\ttrain-mlogloss:0.955987+0.00352048\ttest-merror:0.409009+0.00788683\ttest-mlogloss:1.00969+0.00954565\n",
      "[47]\ttrain-merror:0.381337+0.0022409\ttrain-mlogloss:0.954321+0.00350403\ttest-merror:0.408695+0.00786511\ttest-mlogloss:1.00894+0.00951949\n",
      "[48]\ttrain-merror:0.380422+0.00228685\ttrain-mlogloss:0.952923+0.00339523\ttest-merror:0.408696+0.00732765\ttest-mlogloss:1.0084+0.00959097\n",
      "[49]\ttrain-merror:0.380265+0.00214241\ttrain-mlogloss:0.951374+0.00349103\ttest-merror:0.408696+0.00725416\ttest-mlogloss:1.00786+0.00962657\n",
      "[50]\ttrain-merror:0.379298+0.00222855\ttrain-mlogloss:0.94978+0.0034501\ttest-merror:0.408591+0.0074759\ttest-mlogloss:1.0072+0.00966732\n",
      "[51]\ttrain-merror:0.378541+0.00165438\ttrain-mlogloss:0.948289+0.00347412\ttest-merror:0.408382+0.00727793\ttest-mlogloss:1.00664+0.00974963\n",
      "[52]\ttrain-merror:0.378149+0.00210885\ttrain-mlogloss:0.946876+0.0035492\ttest-merror:0.408278+0.007786\ttest-mlogloss:1.00624+0.00960892\n",
      "[53]\ttrain-merror:0.377234+0.00201401\ttrain-mlogloss:0.945551+0.00349727\ttest-merror:0.407964+0.00737277\ttest-mlogloss:1.00587+0.00976721\n",
      "[54]\ttrain-merror:0.376032+0.00207276\ttrain-mlogloss:0.944005+0.00350347\ttest-merror:0.407128+0.00746082\ttest-mlogloss:1.00543+0.00989717\n",
      "[55]\ttrain-merror:0.375457+0.00232451\ttrain-mlogloss:0.942701+0.00341384\ttest-merror:0.407337+0.00740561\ttest-mlogloss:1.00506+0.0100788\n",
      "[56]\ttrain-merror:0.375144+0.00247485\ttrain-mlogloss:0.941368+0.00346661\ttest-merror:0.407232+0.00740284\ttest-mlogloss:1.00467+0.00999523\n",
      "[57]\ttrain-merror:0.37449+0.00267626\ttrain-mlogloss:0.94011+0.003551\ttest-merror:0.406919+0.00732561\ttest-mlogloss:1.00418+0.00993499\n",
      "[58]\ttrain-merror:0.373471+0.00253795\ttrain-mlogloss:0.938833+0.00351805\ttest-merror:0.406814+0.00727817\ttest-mlogloss:1.00388+0.0100844\n",
      "[59]\ttrain-merror:0.372792+0.00212656\ttrain-mlogloss:0.937467+0.00356763\ttest-merror:0.406501+0.0071184\ttest-mlogloss:1.00348+0.0100149\n",
      "[60]\ttrain-merror:0.372191+0.00215363\ttrain-mlogloss:0.936246+0.00359225\ttest-merror:0.406187+0.00700019\ttest-mlogloss:1.00307+0.010024\n"
     ]
    },
    {
     "name": "stdout",
     "output_type": "stream",
     "text": [
      "[61]\ttrain-merror:0.371459+0.00189316\ttrain-mlogloss:0.934946+0.00358573\ttest-merror:0.406292+0.00770848\ttest-mlogloss:1.00268+0.00998201\n",
      "[62]\ttrain-merror:0.370466+0.00155545\ttrain-mlogloss:0.933706+0.00360642\ttest-merror:0.406501+0.00716577\ttest-mlogloss:1.00232+0.0100576\n",
      "[63]\ttrain-merror:0.369917+0.00170002\ttrain-mlogloss:0.93244+0.0036089\ttest-merror:0.406083+0.00680886\ttest-mlogloss:1.00195+0.0101173\n",
      "[64]\ttrain-merror:0.368663+0.00173482\ttrain-mlogloss:0.931204+0.00369422\ttest-merror:0.406397+0.00794732\ttest-mlogloss:1.00172+0.0101267\n",
      "[65]\ttrain-merror:0.36814+0.00194167\ttrain-mlogloss:0.93004+0.00368498\ttest-merror:0.404933+0.00730945\ttest-mlogloss:1.00139+0.0100896\n",
      "[66]\ttrain-merror:0.367174+0.00196751\ttrain-mlogloss:0.928779+0.00374434\ttest-merror:0.405351+0.00668354\ttest-mlogloss:1.0012+0.0100236\n",
      "[67]\ttrain-merror:0.366834+0.00151564\ttrain-mlogloss:0.927587+0.00392916\ttest-merror:0.405247+0.00662807\ttest-mlogloss:1.00093+0.0100952\n",
      "[68]\ttrain-merror:0.366285+0.00168246\ttrain-mlogloss:0.926419+0.00394677\ttest-merror:0.405456+0.00693228\ttest-mlogloss:1.00056+0.0101635\n",
      "[69]\ttrain-merror:0.365527+0.00144544\ttrain-mlogloss:0.925133+0.00397526\ttest-merror:0.405038+0.00662077\ttest-mlogloss:1.0002+0.0101871\n",
      "[70]\ttrain-merror:0.365162+0.00158517\ttrain-mlogloss:0.923865+0.00399933\ttest-merror:0.404619+0.00653379\ttest-mlogloss:0.999791+0.0102352\n",
      "[71]\ttrain-merror:0.364456+0.00162192\ttrain-mlogloss:0.922816+0.00401734\ttest-merror:0.40462+0.00681674\ttest-mlogloss:0.999587+0.0100928\n",
      "[72]\ttrain-merror:0.36396+0.00128042\ttrain-mlogloss:0.921654+0.00404624\ttest-merror:0.405142+0.00694851\ttest-mlogloss:0.99937+0.0100789\n",
      "[73]\ttrain-merror:0.363437+0.00171055\ttrain-mlogloss:0.920609+0.00407032\ttest-merror:0.405247+0.00651968\ttest-mlogloss:0.999051+0.0101216\n",
      "[74]\ttrain-merror:0.362601+0.00166325\ttrain-mlogloss:0.919498+0.00412173\ttest-merror:0.405351+0.00620163\ttest-mlogloss:0.998815+0.0101277\n",
      "[75]\ttrain-merror:0.36213+0.0014202\ttrain-mlogloss:0.918318+0.00413777\ttest-merror:0.405665+0.00667126\ttest-mlogloss:0.998471+0.0102953\n",
      "[76]\ttrain-merror:0.361451+0.00144243\ttrain-mlogloss:0.917235+0.00414396\ttest-merror:0.405247+0.00664974\ttest-mlogloss:0.998296+0.0102945\n",
      "[77]\ttrain-merror:0.360589+0.00180873\ttrain-mlogloss:0.916128+0.00412234\ttest-merror:0.405142+0.00683902\ttest-mlogloss:0.997994+0.0104791\n",
      "[78]\ttrain-merror:0.360014+0.00164469\ttrain-mlogloss:0.915131+0.00421354\ttest-merror:0.404933+0.00635664\ttest-mlogloss:0.997911+0.0104678\n",
      "[79]\ttrain-merror:0.359386+0.00205782\ttrain-mlogloss:0.913994+0.00421598\ttest-merror:0.405038+0.00606566\ttest-mlogloss:0.997654+0.0105214\n",
      "[80]\ttrain-merror:0.359308+0.00214896\ttrain-mlogloss:0.912962+0.00428125\ttest-merror:0.405456+0.00544691\ttest-mlogloss:0.997521+0.0105218\n",
      "[81]\ttrain-merror:0.358655+0.00239105\ttrain-mlogloss:0.911816+0.00439688\ttest-merror:0.40556+0.00453328\ttest-mlogloss:0.997178+0.0106608\n",
      "[82]\ttrain-merror:0.357662+0.00229822\ttrain-mlogloss:0.910761+0.00443858\ttest-merror:0.404933+0.00525274\ttest-mlogloss:0.996975+0.0107854\n",
      "[83]\ttrain-merror:0.357165+0.00228437\ttrain-mlogloss:0.909696+0.00454354\ttest-merror:0.405247+0.00496682\ttest-mlogloss:0.996786+0.0108196\n",
      "[84]\ttrain-merror:0.356982+0.00198379\ttrain-mlogloss:0.90873+0.00451204\ttest-merror:0.405456+0.00486659\ttest-mlogloss:0.996605+0.0109438\n",
      "[85]\ttrain-merror:0.3568+0.00189791\ttrain-mlogloss:0.90771+0.00452549\ttest-merror:0.405665+0.0046891\ttest-mlogloss:0.996416+0.0109416\n",
      "[86]\ttrain-merror:0.356016+0.00200665\ttrain-mlogloss:0.906602+0.00445209\ttest-merror:0.405665+0.00540134\ttest-mlogloss:0.996058+0.0108671\n",
      "[87]\ttrain-merror:0.355022+0.00226813\ttrain-mlogloss:0.905667+0.00449563\ttest-merror:0.405142+0.00530947\ttest-mlogloss:0.995912+0.0109482\n",
      "[88]\ttrain-merror:0.354186+0.00220086\ttrain-mlogloss:0.904733+0.00443571\ttest-merror:0.405247+0.00510122\ttest-mlogloss:0.995828+0.0109444\n",
      "[89]\ttrain-merror:0.354082+0.00218993\ttrain-mlogloss:0.903788+0.00436698\ttest-merror:0.405247+0.00492703\ttest-mlogloss:0.995646+0.0109604\n",
      "[90]\ttrain-merror:0.353664+0.00228334\ttrain-mlogloss:0.902753+0.00444574\ttest-merror:0.405665+0.00507609\ttest-mlogloss:0.995439+0.0109217\n",
      "[91]\ttrain-merror:0.353246+0.0021606\ttrain-mlogloss:0.901787+0.00443108\ttest-merror:0.404828+0.00605894\ttest-mlogloss:0.995315+0.0109134\n",
      "[92]\ttrain-merror:0.352383+0.00250125\ttrain-mlogloss:0.900781+0.00440441\ttest-merror:0.404201+0.00539968\ttest-mlogloss:0.995113+0.0110236\n",
      "[93]\ttrain-merror:0.352044+0.00208448\ttrain-mlogloss:0.899825+0.00441073\ttest-merror:0.404097+0.00596141\ttest-mlogloss:0.99502+0.0109847\n",
      "[94]\ttrain-merror:0.351416+0.00231905\ttrain-mlogloss:0.898819+0.00447223\ttest-merror:0.404201+0.00555696\ttest-mlogloss:0.994649+0.0109697\n",
      "[95]\ttrain-merror:0.350972+0.0020717\ttrain-mlogloss:0.897817+0.00452548\ttest-merror:0.404724+0.00508869\ttest-mlogloss:0.9946+0.0109427\n",
      "[96]\ttrain-merror:0.350136+0.00233345\ttrain-mlogloss:0.896851+0.00456006\ttest-merror:0.404829+0.00521149\ttest-mlogloss:0.994516+0.0108542\n",
      "[97]\ttrain-merror:0.349979+0.00240339\ttrain-mlogloss:0.895944+0.00471535\ttest-merror:0.404515+0.00581552\ttest-mlogloss:0.994407+0.010814\n",
      "[98]\ttrain-merror:0.349195+0.00240807\ttrain-mlogloss:0.895073+0.00469201\ttest-merror:0.404097+0.00613135\ttest-mlogloss:0.994149+0.0108648\n",
      "[99]\ttrain-merror:0.348463+0.00228043\ttrain-mlogloss:0.894267+0.0047673\ttest-merror:0.403365+0.00609301\ttest-mlogloss:0.994075+0.0107549\n"
     ]
    },
    {
     "name": "stderr",
     "output_type": "stream",
     "text": [
      "C:\\Users\\giano\\Anaconda3\\envs\\voda\\lib\\site-packages\\sklearn\\preprocessing\\label.py:151: DeprecationWarning: The truth value of an empty array is ambiguous. Returning False, but in future this will result in an error. Use `array.size > 0` to check that an array is not empty.\n",
      "  if diff:\n"
     ]
    },
    {
     "name": "stdout",
     "output_type": "stream",
     "text": [
      "\n",
      "Model Report\n",
      "Accuracy : 0.6444\n",
      "f1_micro : 0.6444\n",
      "f1_macro : 0.4228\n",
      "f1_weighted : 0.5837\n"
     ]
    },
    {
     "data": {
      "image/png": "[encoded data removed]",
      "text/plain": [
       "<Figure size 432x288 with 1 Axes>"
      ]
     },
     "metadata": {},
     "output_type": "display_data"
    },
    {
     "name": "stdout",
     "output_type": "stream",
     "text": [
      "Feature_Importances: \n",
      "Index(['DeviceFlag4G', 'MonthlySMSTrafficCount', 'CustomerExpatriate',\n",
      "       'DeviceFlagSmartphone', 'DataArpu', 'Instant-Messaging-Applications',\n",
      "       'MonthlyVoiceTrafficCount', 'Network-Operation', 'Games', 'IsModified',\n",
      "       'CustomerAge', 'Web-Applications', 'Region', 'P2P-Applications',\n",
      "       'File-Transfer', 'MonthlyDataTraffic', 'ParkingConnectionsCount',\n",
      "       'Security', 'VoIP', 'Terminals', 'Unclassified', 'Music-Streaming',\n",
      "       'Mail', 'StationConnectionsCount', 'AirportConnectionsDuration',\n",
      "       'AirportConnectionsCount', 'Streaming-Applications',\n",
      "       'ParkingConnectionsDuration'],\n",
      "      dtype='object')\n",
      "Model: {'base_score': 0.5, 'booster': 'gbtree', 'colsample_bylevel': 1, 'colsample_bytree': 1, 'gamma': 0, 'learning_rate': 0.1, 'max_delta_step': 0, 'max_depth': 3, 'min_child_weight': 1, 'missing': None, 'n_estimators': 100, 'nthread': 1, 'objective': 'multi:softprob', 'reg_alpha': 0, 'reg_lambda': 1, 'scale_pos_weight': 1, 'seed': 0, 'silent': 1, 'subsample': 1, 'num_class': 4}\n",
      "n_estimator: 100\n"
     ]
    },
    {
     "data": {
      "text/plain": [
       "100"
      ]
     },
     "execution_count": 8,
     "metadata": {},
     "output_type": "execute_result"
    }
   ],
   "source": [
    "predictors = [x for x in train.columns if x not in [target, IDcol]]\n",
    "xgb0 = XGBClassifier(\n",
    "        objective='multi:softmax',\n",
    "        num_class=4)\n",
    "# print(train[predictors].values)\n",
    "modelfit(xgb0, train, predictors, 28)"
   ]
  },
  {
   "cell_type": "code",
   "execution_count": 9,
   "metadata": {},
   "outputs": [
    {
     "data": {
      "text/plain": [
       "XGBClassifier(base_score=0.5, booster='gbtree', colsample_bylevel=1,\n",
       "       colsample_bytree=1, gamma=0, learning_rate=0.1, max_delta_step=0,\n",
       "       max_depth=3, min_child_weight=1, missing=None, n_estimators=100,\n",
       "       n_jobs=1, nthread=None, num_class=4, objective='multi:softprob',\n",
       "       random_state=0, reg_alpha=0, reg_lambda=1, scale_pos_weight=1,\n",
       "       seed=None, silent=True, subsample=1)"
      ]
     },
     "execution_count": 9,
     "metadata": {},
     "output_type": "execute_result"
    }
   ],
   "source": [
    "xgb0"
   ]
  },
  {
   "cell_type": "code",
   "execution_count": 10,
   "metadata": {},
   "outputs": [],
   "source": [
    "learning_rate = 0.1\n",
    "n_estimators = 1000\n",
    "max_depth = 5\n",
    "min_child_weight = 1\n",
    "gamma = 0\n",
    "subsample = 0.8\n",
    "colsample_bytree = 0.8\n",
    "reg_alpha = 0.005\n",
    "cv = 5"
   ]
  },
  {
   "cell_type": "code",
   "execution_count": 11,
   "metadata": {
    "scrolled": true
   },
   "outputs": [
    {
     "name": "stdout",
     "output_type": "stream",
     "text": [
      "[0]\ttrain-merror:0.389646+0.00447678\ttrain-mlogloss:1.32974+0.00102939\ttest-merror:0.421135+0.00649325\ttest-mlogloss:1.33431+0.00122373\n",
      "[1]\ttrain-merror:0.377208+0.00308654\ttrain-mlogloss:1.28014+0.00105101\ttest-merror:0.414968+0.00546756\ttest-mlogloss:1.2898+0.00219806\n",
      "[2]\ttrain-merror:0.372896+0.00214443\ttrain-mlogloss:1.23831+0.00114294\ttest-merror:0.410056+0.00794913\ttest-mlogloss:1.2528+0.00301248\n",
      "[3]\ttrain-merror:0.371694+0.00354464\ttrain-mlogloss:1.20194+0.00159335\ttest-merror:0.408592+0.00722293\ttest-mlogloss:1.2217+0.00388726\n",
      "[4]\ttrain-merror:0.369891+0.00325515\ttrain-mlogloss:1.16929+0.00169883\ttest-merror:0.409219+0.00783391\ttest-mlogloss:1.19381+0.00426843\n",
      "[5]\ttrain-merror:0.366782+0.00306893\ttrain-mlogloss:1.14107+0.00216665\ttest-merror:0.408697+0.00860657\ttest-mlogloss:1.17021+0.00468846\n",
      "[6]\ttrain-merror:0.364613+0.00327366\ttrain-mlogloss:1.11589+0.00241007\ttest-merror:0.407233+0.00747179\ttest-mlogloss:1.14957+0.00491245\n",
      "[7]\ttrain-merror:0.362731+0.00419562\ttrain-mlogloss:1.09367+0.00195455\ttest-merror:0.408174+0.00833293\ttest-mlogloss:1.13132+0.00544589\n",
      "[8]\ttrain-merror:0.361399+0.00432714\ttrain-mlogloss:1.07384+0.00200758\ttest-merror:0.406606+0.00937011\ttest-mlogloss:1.11557+0.00592797\n",
      "[9]\ttrain-merror:0.360144+0.00333982\ttrain-mlogloss:1.05539+0.00239529\ttest-merror:0.407024+0.00970552\ttest-mlogloss:1.10142+0.00609234\n",
      "[10]\ttrain-merror:0.357636+0.00343913\ttrain-mlogloss:1.03871+0.00273026\ttest-merror:0.408069+0.00910683\ttest-mlogloss:1.08886+0.00651757\n",
      "[11]\ttrain-merror:0.356904+0.00363636\ttrain-mlogloss:1.02387+0.00291789\ttest-merror:0.407547+0.00952086\ttest-mlogloss:1.07832+0.00673301\n",
      "[12]\ttrain-merror:0.35612+0.00396365\ttrain-mlogloss:1.00998+0.00330014\ttest-merror:0.40786+0.0099283\ttest-mlogloss:1.06875+0.00694033\n",
      "[13]\ttrain-merror:0.355467+0.00406454\ttrain-mlogloss:0.997806+0.00342697\ttest-merror:0.406501+0.00917147\ttest-mlogloss:1.06061+0.00706432\n",
      "[14]\ttrain-merror:0.353454+0.0035376\ttrain-mlogloss:0.986336+0.00386267\ttest-merror:0.405978+0.00866677\ttest-mlogloss:1.05326+0.00731218\n",
      "[15]\ttrain-merror:0.350894+0.00380412\ttrain-mlogloss:0.975568+0.00398464\ttest-merror:0.405874+0.00975995\ttest-mlogloss:1.04676+0.00736566\n",
      "[16]\ttrain-merror:0.349378+0.00408357\ttrain-mlogloss:0.965689+0.00396825\ttest-merror:0.405142+0.00754146\ttest-mlogloss:1.04074+0.00759276\n",
      "[17]\ttrain-merror:0.347418+0.00406371\ttrain-mlogloss:0.95672+0.00411519\ttest-merror:0.405455+0.00851159\ttest-mlogloss:1.03572+0.0074003\n",
      "[18]\ttrain-merror:0.345563+0.00365823\ttrain-mlogloss:0.948148+0.00447546\ttest-merror:0.405769+0.0083459\ttest-mlogloss:1.03091+0.00748494\n",
      "[19]\ttrain-merror:0.343054+0.00358333\ttrain-mlogloss:0.940042+0.00472727\ttest-merror:0.405874+0.00824006\ttest-mlogloss:1.0266+0.00775467\n",
      "[20]\ttrain-merror:0.342348+0.00273594\ttrain-mlogloss:0.932607+0.00479006\ttest-merror:0.404829+0.00775285\ttest-mlogloss:1.02272+0.00818215\n",
      "[21]\ttrain-merror:0.340075+0.00288072\ttrain-mlogloss:0.925322+0.00486754\ttest-merror:0.402738+0.00832669\ttest-mlogloss:1.019+0.00819871\n",
      "[22]\ttrain-merror:0.337749+0.0027653\ttrain-mlogloss:0.918556+0.00463792\ttest-merror:0.402947+0.00796815\ttest-mlogloss:1.01587+0.00858234\n",
      "[23]\ttrain-merror:0.33673+0.00312966\ttrain-mlogloss:0.912523+0.00472077\ttest-merror:0.403575+0.00716151\ttest-mlogloss:1.01326+0.00871322\n",
      "[24]\ttrain-merror:0.334431+0.00278775\ttrain-mlogloss:0.906793+0.00474938\ttest-merror:0.402738+0.00829925\ttest-mlogloss:1.01057+0.00859732\n",
      "[25]\ttrain-merror:0.332994+0.00249775\ttrain-mlogloss:0.901082+0.00488509\ttest-merror:0.40232+0.00775005\ttest-mlogloss:1.00844+0.00861095\n",
      "[26]\ttrain-merror:0.330642+0.00249833\ttrain-mlogloss:0.895803+0.00506149\ttest-merror:0.402216+0.00799873\ttest-mlogloss:1.00643+0.00893891\n",
      "[27]\ttrain-merror:0.328734+0.00223485\ttrain-mlogloss:0.890414+0.00503133\ttest-merror:0.40138+0.00762193\ttest-mlogloss:1.00466+0.00912402\n",
      "[28]\ttrain-merror:0.326696+0.00221709\ttrain-mlogloss:0.88531+0.00506944\ttest-merror:0.401066+0.00844335\ttest-mlogloss:1.00311+0.00945179\n",
      "[29]\ttrain-merror:0.324397+0.0026278\ttrain-mlogloss:0.880183+0.00502494\ttest-merror:0.40138+0.00912814\ttest-mlogloss:1.00141+0.00971407\n",
      "[30]\ttrain-merror:0.322646+0.00228177\ttrain-mlogloss:0.875624+0.00528324\ttest-merror:0.399603+0.00817189\ttest-mlogloss:1.00005+0.00978448\n",
      "[31]\ttrain-merror:0.321287+0.00214346\ttrain-mlogloss:0.871175+0.00563239\ttest-merror:0.399708+0.00754284\ttest-mlogloss:0.998869+0.00995347\n",
      "[32]\ttrain-merror:0.31985+0.00181026\ttrain-mlogloss:0.867156+0.00544508\ttest-merror:0.400544+0.00719804\ttest-mlogloss:0.997819+0.0102436\n",
      "[33]\ttrain-merror:0.318334+0.0016944\ttrain-mlogloss:0.862739+0.00546211\ttest-merror:0.400962+0.00674692\ttest-mlogloss:0.996972+0.0102845\n",
      "[34]\ttrain-merror:0.317184+0.00172723\ttrain-mlogloss:0.858555+0.00548204\ttest-merror:0.399603+0.00617258\ttest-mlogloss:0.996148+0.0102596\n",
      "[35]\ttrain-merror:0.315773+0.00180416\ttrain-mlogloss:0.854541+0.00563625\ttest-merror:0.399812+0.00731444\ttest-mlogloss:0.99505+0.0103732\n",
      "[36]\ttrain-merror:0.313656+0.00168176\ttrain-mlogloss:0.850525+0.00538803\ttest-merror:0.399185+0.00641521\ttest-mlogloss:0.994315+0.010332\n",
      "[37]\ttrain-merror:0.311879+0.00164288\ttrain-mlogloss:0.846666+0.00539265\ttest-merror:0.399185+0.00651169\ttest-mlogloss:0.993489+0.0105142\n",
      "[38]\ttrain-merror:0.310547+0.00185597\ttrain-mlogloss:0.842751+0.00532815\ttest-merror:0.400021+0.00641422\ttest-mlogloss:0.992739+0.0107759\n",
      "[39]\ttrain-merror:0.308299+0.00204364\ttrain-mlogloss:0.839227+0.0052439\ttest-merror:0.400125+0.00633329\ttest-mlogloss:0.991989+0.0109727\n",
      "[40]\ttrain-merror:0.306993+0.0021036\ttrain-mlogloss:0.835588+0.00543325\ttest-merror:0.400021+0.00699446\ttest-mlogloss:0.991283+0.0113221\n",
      "[41]\ttrain-merror:0.305556+0.00241144\ttrain-mlogloss:0.832125+0.00564142\ttest-merror:0.400335+0.00403414\ttest-mlogloss:0.990524+0.0112712\n",
      "[42]\ttrain-merror:0.303674+0.00240299\ttrain-mlogloss:0.829057+0.00573245\ttest-merror:0.399812+0.00482617\ttest-mlogloss:0.990193+0.0113951\n",
      "[43]\ttrain-merror:0.301741+0.00261725\ttrain-mlogloss:0.825775+0.00562302\ttest-merror:0.398348+0.00507751\ttest-mlogloss:0.989876+0.0114222\n",
      "[44]\ttrain-merror:0.299493+0.00251981\ttrain-mlogloss:0.822566+0.00579895\ttest-merror:0.398766+0.00465077\ttest-mlogloss:0.989693+0.0113228\n",
      "[45]\ttrain-merror:0.298134+0.00254054\ttrain-mlogloss:0.819315+0.00586861\ttest-merror:0.398558+0.00418699\ttest-mlogloss:0.989199+0.0113134\n",
      "[46]\ttrain-merror:0.297141+0.00162349\ttrain-mlogloss:0.816375+0.00575159\ttest-merror:0.399289+0.00409609\ttest-mlogloss:0.988787+0.0110888\n",
      "[47]\ttrain-merror:0.295312+0.00136741\ttrain-mlogloss:0.81313+0.00557547\ttest-merror:0.39793+0.0057038\ttest-mlogloss:0.988407+0.0113167\n",
      "[48]\ttrain-merror:0.294241+0.0013917\ttrain-mlogloss:0.810233+0.00542079\ttest-merror:0.397617+0.00453943\ttest-mlogloss:0.988047+0.0114189\n",
      "[49]\ttrain-merror:0.292385+0.00122381\ttrain-mlogloss:0.807115+0.00532377\ttest-merror:0.398558+0.00467977\ttest-mlogloss:0.987853+0.0117783\n",
      "[50]\ttrain-merror:0.291183+0.00178292\ttrain-mlogloss:0.804133+0.00523535\ttest-merror:0.399185+0.00391914\ttest-mlogloss:0.987841+0.0118755\n",
      "[51]\ttrain-merror:0.289511+0.00187374\ttrain-mlogloss:0.800801+0.00501062\ttest-merror:0.398767+0.00428875\ttest-mlogloss:0.98753+0.012112\n",
      "[52]\ttrain-merror:0.288021+0.00167325\ttrain-mlogloss:0.797687+0.0050955\ttest-merror:0.398453+0.00427749\ttest-mlogloss:0.987416+0.0121506\n",
      "[53]\ttrain-merror:0.28661+0.0015752\ttrain-mlogloss:0.794409+0.00495178\ttest-merror:0.398453+0.00393138\ttest-mlogloss:0.987138+0.0123448\n",
      "[54]\ttrain-merror:0.285957+0.00228173\ttrain-mlogloss:0.791789+0.00450061\ttest-merror:0.39814+0.00352595\ttest-mlogloss:0.987103+0.0125516\n",
      "[55]\ttrain-merror:0.284206+0.00135119\ttrain-mlogloss:0.788734+0.004392\ttest-merror:0.397931+0.0040731\ttest-mlogloss:0.986862+0.0127422\n",
      "[56]\ttrain-merror:0.282691+0.00193375\ttrain-mlogloss:0.785568+0.00403201\ttest-merror:0.398767+0.00390158\ttest-mlogloss:0.986592+0.012817\n",
      "[57]\ttrain-merror:0.281698+0.00176697\ttrain-mlogloss:0.783011+0.00383221\ttest-merror:0.398871+0.00343342\ttest-mlogloss:0.986444+0.0128782\n",
      "[58]\ttrain-merror:0.279189+0.00245548\ttrain-mlogloss:0.780194+0.0038472\ttest-merror:0.398558+0.00420204\ttest-mlogloss:0.986308+0.0131773\n",
      "[59]\ttrain-merror:0.277569+0.002011\ttrain-mlogloss:0.777486+0.00418234\ttest-merror:0.398348+0.00481198\ttest-mlogloss:0.98637+0.0133185\n"
     ]
    },
    {
     "name": "stdout",
     "output_type": "stream",
     "text": [
      "[60]\ttrain-merror:0.276628+0.00204558\ttrain-mlogloss:0.774573+0.00451011\ttest-merror:0.398976+0.00478395\ttest-mlogloss:0.986502+0.0135005\n",
      "[61]\ttrain-merror:0.275687+0.0019518\ttrain-mlogloss:0.771795+0.0044551\ttest-merror:0.399185+0.00500883\ttest-mlogloss:0.986307+0.0136207\n",
      "[62]\ttrain-merror:0.274485+0.0019996\ttrain-mlogloss:0.769254+0.00420863\ttest-merror:0.399185+0.00529336\ttest-mlogloss:0.986096+0.0137116\n",
      "[63]\ttrain-merror:0.272839+0.00225164\ttrain-mlogloss:0.766428+0.0038384\ttest-merror:0.39908+0.00634705\ttest-mlogloss:0.986059+0.0137118\n",
      "[64]\ttrain-merror:0.270984+0.00261186\ttrain-mlogloss:0.763425+0.0041069\ttest-merror:0.398244+0.0058759\ttest-mlogloss:0.985382+0.0135464\n",
      "[65]\ttrain-merror:0.269938+0.00266057\ttrain-mlogloss:0.760846+0.00402261\ttest-merror:0.397408+0.00548483\ttest-mlogloss:0.985289+0.0135956\n",
      "[66]\ttrain-merror:0.268867+0.00303661\ttrain-mlogloss:0.758395+0.00399332\ttest-merror:0.397617+0.00547197\ttest-mlogloss:0.985356+0.0134855\n",
      "[67]\ttrain-merror:0.267482+0.00287277\ttrain-mlogloss:0.756029+0.00415382\ttest-merror:0.397826+0.00521719\ttest-mlogloss:0.985385+0.0132908\n",
      "[68]\ttrain-merror:0.265967+0.00329059\ttrain-mlogloss:0.753735+0.00420698\ttest-merror:0.397303+0.00401748\ttest-mlogloss:0.9854+0.0133177\n",
      "[69]\ttrain-merror:0.26513+0.00334362\ttrain-mlogloss:0.751538+0.00433069\ttest-merror:0.397094+0.00390811\ttest-mlogloss:0.985344+0.0133213\n",
      "[70]\ttrain-merror:0.264007+0.00326343\ttrain-mlogloss:0.748806+0.00438104\ttest-merror:0.39793+0.00526296\ttest-mlogloss:0.984879+0.0132671\n",
      "[71]\ttrain-merror:0.262387+0.00315328\ttrain-mlogloss:0.746486+0.00427911\ttest-merror:0.398348+0.00480045\ttest-mlogloss:0.984838+0.0131076\n",
      "[72]\ttrain-merror:0.260819+0.00348351\ttrain-mlogloss:0.744145+0.00434471\ttest-merror:0.397721+0.00471378\ttest-mlogloss:0.984738+0.0131521\n",
      "[73]\ttrain-merror:0.25993+0.00365244\ttrain-mlogloss:0.741984+0.00433423\ttest-merror:0.398348+0.00521499\ttest-mlogloss:0.984793+0.0129154\n",
      "[74]\ttrain-merror:0.258885+0.00373107\ttrain-mlogloss:0.739847+0.00442961\ttest-merror:0.398139+0.00463215\ttest-mlogloss:0.984816+0.0128542\n",
      "[75]\ttrain-merror:0.257474+0.00371757\ttrain-mlogloss:0.737121+0.00401101\ttest-merror:0.398244+0.00528441\ttest-mlogloss:0.984648+0.0130033\n",
      "[76]\ttrain-merror:0.256376+0.00350679\ttrain-mlogloss:0.734866+0.00443452\ttest-merror:0.398349+0.00399501\ttest-mlogloss:0.984718+0.0130569\n",
      "[77]\ttrain-merror:0.25439+0.0031442\ttrain-mlogloss:0.732557+0.00438689\ttest-merror:0.39793+0.00483587\ttest-mlogloss:0.984832+0.0130989\n",
      "[78]\ttrain-merror:0.253632+0.00320782\ttrain-mlogloss:0.730651+0.00441665\ttest-merror:0.398035+0.00449591\ttest-mlogloss:0.984887+0.0129995\n",
      "[79]\ttrain-merror:0.252065+0.00339706\ttrain-mlogloss:0.728133+0.00466664\ttest-merror:0.398035+0.00503946\ttest-mlogloss:0.984821+0.0129728\n",
      "[80]\ttrain-merror:0.250967+0.00364788\ttrain-mlogloss:0.72584+0.00481518\ttest-merror:0.39814+0.00463457\ttest-mlogloss:0.984854+0.0130203\n",
      "[81]\ttrain-merror:0.249635+0.00385312\ttrain-mlogloss:0.723329+0.00479536\ttest-merror:0.399185+0.00455364\ttest-mlogloss:0.984769+0.0133028\n",
      "[82]\ttrain-merror:0.248276+0.00377547\ttrain-mlogloss:0.720893+0.00491082\ttest-merror:0.400021+0.00461398\ttest-mlogloss:0.984587+0.0132261\n",
      "[83]\ttrain-merror:0.247387+0.00354095\ttrain-mlogloss:0.718818+0.00494847\ttest-merror:0.400021+0.00562015\ttest-mlogloss:0.984611+0.0131563\n",
      "[84]\ttrain-merror:0.245715+0.00371967\ttrain-mlogloss:0.716197+0.00514687\ttest-merror:0.399916+0.00499903\ttest-mlogloss:0.984701+0.0132046\n",
      "[85]\ttrain-merror:0.244513+0.00343378\ttrain-mlogloss:0.714017+0.00529025\ttest-merror:0.399812+0.00545347\ttest-mlogloss:0.984833+0.013313\n",
      "[86]\ttrain-merror:0.243729+0.0036786\ttrain-mlogloss:0.712019+0.00521556\ttest-merror:0.399289+0.00518824\ttest-mlogloss:0.984648+0.0134214\n",
      "[87]\ttrain-merror:0.24237+0.00351255\ttrain-mlogloss:0.709589+0.00518603\ttest-merror:0.399185+0.00422265\ttest-mlogloss:0.984546+0.0134865\n",
      "[88]\ttrain-merror:0.241351+0.00269377\ttrain-mlogloss:0.707386+0.00517447\ttest-merror:0.399185+0.00522876\ttest-mlogloss:0.984267+0.0134388\n",
      "[89]\ttrain-merror:0.240175+0.00272521\ttrain-mlogloss:0.705369+0.00521141\ttest-merror:0.398662+0.00566596\ttest-mlogloss:0.984301+0.0135914\n",
      "[90]\ttrain-merror:0.239208+0.00263325\ttrain-mlogloss:0.703394+0.0047981\ttest-merror:0.39814+0.00629111\ttest-mlogloss:0.984091+0.0138851\n",
      "[91]\ttrain-merror:0.238058+0.00261255\ttrain-mlogloss:0.701259+0.00483322\ttest-merror:0.398871+0.00602382\ttest-mlogloss:0.983951+0.0139028\n",
      "[92]\ttrain-merror:0.236908+0.00218099\ttrain-mlogloss:0.699051+0.00494633\ttest-merror:0.398871+0.00635252\ttest-mlogloss:0.983853+0.0139201\n",
      "[93]\ttrain-merror:0.235785+0.00201421\ttrain-mlogloss:0.69692+0.00494445\ttest-merror:0.398662+0.00647089\ttest-mlogloss:0.98378+0.0136577\n",
      "[94]\ttrain-merror:0.234713+0.00241324\ttrain-mlogloss:0.694636+0.00522885\ttest-merror:0.398766+0.00631319\ttest-mlogloss:0.98359+0.0137226\n",
      "[95]\ttrain-merror:0.234138+0.00270341\ttrain-mlogloss:0.69234+0.00527972\ttest-merror:0.399184+0.00569658\ttest-mlogloss:0.983798+0.0138003\n",
      "[96]\ttrain-merror:0.233276+0.0022955\ttrain-mlogloss:0.690314+0.00530621\ttest-merror:0.399394+0.00557538\ttest-mlogloss:0.984034+0.0138399\n",
      "[97]\ttrain-merror:0.232178+0.00207522\ttrain-mlogloss:0.688117+0.00526449\ttest-merror:0.399707+0.00701707\ttest-mlogloss:0.984019+0.0139007\n",
      "[98]\ttrain-merror:0.231473+0.00268093\ttrain-mlogloss:0.686171+0.0053062\ttest-merror:0.399184+0.00704491\ttest-mlogloss:0.984043+0.0138551\n",
      "[99]\ttrain-merror:0.230532+0.00200053\ttrain-mlogloss:0.684248+0.00533454\ttest-merror:0.399394+0.0063768\ttest-mlogloss:0.984095+0.0140846\n",
      "[100]\ttrain-merror:0.229121+0.00166382\ttrain-mlogloss:0.682028+0.00535014\ttest-merror:0.39908+0.00711032\ttest-mlogloss:0.984115+0.014282\n",
      "[101]\ttrain-merror:0.228102+0.00149345\ttrain-mlogloss:0.680002+0.00530349\ttest-merror:0.398662+0.00612574\ttest-mlogloss:0.984258+0.014467\n",
      "[102]\ttrain-merror:0.227553+0.00155866\ttrain-mlogloss:0.678257+0.00521421\ttest-merror:0.399184+0.00711792\ttest-mlogloss:0.984168+0.014334\n",
      "[103]\ttrain-merror:0.226743+0.0019328\ttrain-mlogloss:0.67642+0.00526009\ttest-merror:0.399184+0.00712092\ttest-mlogloss:0.984114+0.0143337\n",
      "[104]\ttrain-merror:0.225437+0.00146171\ttrain-mlogloss:0.674355+0.00537456\ttest-merror:0.399603+0.00705622\ttest-mlogloss:0.98425+0.0144175\n",
      "[105]\ttrain-merror:0.225149+0.00160366\ttrain-mlogloss:0.672447+0.00508751\ttest-merror:0.399603+0.0071452\ttest-mlogloss:0.984134+0.0146165\n",
      "[106]\ttrain-merror:0.224234+0.00157573\ttrain-mlogloss:0.670679+0.00508145\ttest-merror:0.398767+0.00677432\ttest-mlogloss:0.984455+0.0146615\n",
      "[107]\ttrain-merror:0.223006+0.00110175\ttrain-mlogloss:0.668781+0.00541762\ttest-merror:0.398662+0.00672105\ttest-mlogloss:0.984794+0.0145685\n",
      "[108]\ttrain-merror:0.222353+0.000931418\ttrain-mlogloss:0.667041+0.00528083\ttest-merror:0.399603+0.00631015\ttest-mlogloss:0.984759+0.014482\n",
      "[109]\ttrain-merror:0.2217+0.00128589\ttrain-mlogloss:0.665189+0.00502905\ttest-merror:0.399185+0.00647402\ttest-mlogloss:0.984925+0.014485\n",
      "[110]\ttrain-merror:0.220393+0.00132262\ttrain-mlogloss:0.663228+0.00502726\ttest-merror:0.40023+0.00745348\ttest-mlogloss:0.985272+0.0144955\n",
      "[111]\ttrain-merror:0.219478+0.00138212\ttrain-mlogloss:0.661525+0.00507211\ttest-merror:0.399498+0.00766519\ttest-mlogloss:0.985488+0.0146642\n",
      "[112]\ttrain-merror:0.218538+0.00145276\ttrain-mlogloss:0.659646+0.00526296\ttest-merror:0.400335+0.00780123\ttest-mlogloss:0.985684+0.0145307\n",
      "[113]\ttrain-merror:0.217545+0.00131126\ttrain-mlogloss:0.657711+0.00505915\ttest-merror:0.399917+0.00781235\ttest-mlogloss:0.985841+0.0142875\n",
      "[114]\ttrain-merror:0.216108+0.00132106\ttrain-mlogloss:0.65567+0.00481499\ttest-merror:0.399707+0.00801716\ttest-mlogloss:0.98582+0.0143203\n",
      "[115]\ttrain-merror:0.21535+0.00109509\ttrain-mlogloss:0.653878+0.00493929\ttest-merror:0.399185+0.00732793\ttest-mlogloss:0.985897+0.0143871\n",
      "[116]\ttrain-merror:0.214121+0.00136928\ttrain-mlogloss:0.6523+0.00499434\ttest-merror:0.398976+0.00727493\ttest-mlogloss:0.985829+0.0144255\n",
      "[117]\ttrain-merror:0.21271+0.00179182\ttrain-mlogloss:0.650375+0.00500005\ttest-merror:0.39814+0.006158\ttest-mlogloss:0.985815+0.0144285\n",
      "[118]\ttrain-merror:0.211665+0.00170414\ttrain-mlogloss:0.648765+0.00510082\ttest-merror:0.398871+0.00613953\ttest-mlogloss:0.985853+0.0144079\n",
      "[119]\ttrain-merror:0.211038+0.00145214\ttrain-mlogloss:0.647019+0.00509697\ttest-merror:0.399185+0.00773174\ttest-mlogloss:0.98591+0.0144292\n"
     ]
    },
    {
     "name": "stdout",
     "output_type": "stream",
     "text": [
      "[120]\ttrain-merror:0.210306+0.00162906\ttrain-mlogloss:0.64521+0.0047531\ttest-merror:0.399499+0.00797161\ttest-mlogloss:0.986143+0.0143787\n",
      "[121]\ttrain-merror:0.209575+0.00187217\ttrain-mlogloss:0.643499+0.00483521\ttest-merror:0.399394+0.00881665\ttest-mlogloss:0.986224+0.0142845\n",
      "[122]\ttrain-merror:0.208712+0.00175961\ttrain-mlogloss:0.641946+0.00489273\ttest-merror:0.39908+0.00830193\ttest-mlogloss:0.98658+0.0142376\n",
      "[123]\ttrain-merror:0.207797+0.00203322\ttrain-mlogloss:0.640024+0.00527152\ttest-merror:0.398767+0.00803508\ttest-mlogloss:0.986453+0.014141\n",
      "[124]\ttrain-merror:0.206883+0.00214929\ttrain-mlogloss:0.637995+0.00495136\ttest-merror:0.399707+0.00842706\ttest-mlogloss:0.986581+0.0142807\n",
      "[125]\ttrain-merror:0.206256+0.00239845\ttrain-mlogloss:0.63618+0.00494611\ttest-merror:0.398871+0.00747503\ttest-mlogloss:0.986648+0.0143777\n",
      "[126]\ttrain-merror:0.205289+0.00277649\ttrain-mlogloss:0.634271+0.00500059\ttest-merror:0.399603+0.00728214\ttest-mlogloss:0.986954+0.0142075\n",
      "[127]\ttrain-merror:0.203747+0.00242114\ttrain-mlogloss:0.632395+0.0049103\ttest-merror:0.398662+0.00699549\ttest-mlogloss:0.987049+0.0143385\n",
      "[128]\ttrain-merror:0.202859+0.00178433\ttrain-mlogloss:0.630764+0.0049476\ttest-merror:0.399916+0.00782557\ttest-mlogloss:0.987314+0.0145059\n",
      "[129]\ttrain-merror:0.202075+0.00200929\ttrain-mlogloss:0.629335+0.00491842\ttest-merror:0.399603+0.00789855\ttest-mlogloss:0.987458+0.0144571\n",
      "[130]\ttrain-merror:0.200795+0.00289864\ttrain-mlogloss:0.627372+0.00506649\ttest-merror:0.399394+0.00798703\ttest-mlogloss:0.987608+0.0143739\n",
      "[131]\ttrain-merror:0.199854+0.00309441\ttrain-mlogloss:0.62566+0.0051372\ttest-merror:0.399185+0.00808944\ttest-mlogloss:0.987611+0.0143451\n",
      "[132]\ttrain-merror:0.199148+0.00319471\ttrain-mlogloss:0.624118+0.00505761\ttest-merror:0.399498+0.00859698\ttest-mlogloss:0.987616+0.0143666\n",
      "[133]\ttrain-merror:0.198129+0.00301134\ttrain-mlogloss:0.622602+0.0047667\ttest-merror:0.398662+0.00764336\ttest-mlogloss:0.987789+0.0143071\n",
      "[134]\ttrain-merror:0.197502+0.00303466\ttrain-mlogloss:0.62093+0.00479582\ttest-merror:0.398766+0.00797495\ttest-mlogloss:0.98787+0.0142983\n",
      "[135]\ttrain-merror:0.195856+0.00257307\ttrain-mlogloss:0.618829+0.00474628\ttest-merror:0.399394+0.00868662\ttest-mlogloss:0.987598+0.0142735\n",
      "[136]\ttrain-merror:0.194941+0.00298109\ttrain-mlogloss:0.617364+0.00465863\ttest-merror:0.399289+0.00840302\ttest-mlogloss:0.987791+0.0141506\n",
      "[137]\ttrain-merror:0.194079+0.00275209\ttrain-mlogloss:0.615767+0.00431552\ttest-merror:0.399394+0.00787116\ttest-mlogloss:0.987912+0.0141888\n",
      "[138]\ttrain-merror:0.193425+0.00263657\ttrain-mlogloss:0.614218+0.00440887\ttest-merror:0.399603+0.00928748\ttest-mlogloss:0.988065+0.0139542\n",
      "[139]\ttrain-merror:0.192563+0.0024865\ttrain-mlogloss:0.612583+0.00446248\ttest-merror:0.399394+0.0092288\ttest-mlogloss:0.988295+0.0138607\n",
      "[140]\ttrain-merror:0.191649+0.00266027\ttrain-mlogloss:0.611015+0.00416495\ttest-merror:0.400125+0.00966601\ttest-mlogloss:0.988381+0.0136496\n",
      "[141]\ttrain-merror:0.190656+0.00249417\ttrain-mlogloss:0.609503+0.00403288\ttest-merror:0.399916+0.0096767\ttest-mlogloss:0.988599+0.0136349\n",
      "[142]\ttrain-merror:0.189976+0.00287397\ttrain-mlogloss:0.6079+0.00400702\ttest-merror:0.399916+0.00966079\ttest-mlogloss:0.988869+0.0136443\n",
      "[143]\ttrain-merror:0.189401+0.00276671\ttrain-mlogloss:0.606271+0.00408598\ttest-merror:0.399707+0.00944018\ttest-mlogloss:0.988954+0.0136681\n",
      "[144]\ttrain-merror:0.188356+0.0031958\ttrain-mlogloss:0.604525+0.00389809\ttest-merror:0.399812+0.00907019\ttest-mlogloss:0.989166+0.0137268\n",
      "[145]\ttrain-merror:0.187651+0.00377045\ttrain-mlogloss:0.602944+0.00398029\ttest-merror:0.399707+0.00871172\ttest-mlogloss:0.989375+0.0136419\n",
      "[146]\ttrain-merror:0.186605+0.00343913\ttrain-mlogloss:0.60136+0.0042963\ttest-merror:0.399603+0.0085216\ttest-mlogloss:0.989492+0.0137278\n",
      "[147]\ttrain-merror:0.185978+0.00354164\ttrain-mlogloss:0.5998+0.00447921\ttest-merror:0.399916+0.0087098\ttest-mlogloss:0.989636+0.0137106\n",
      "[148]\ttrain-merror:0.185194+0.00308887\ttrain-mlogloss:0.598258+0.00458331\ttest-merror:0.40023+0.00908519\ttest-mlogloss:0.989748+0.0137349\n",
      "[149]\ttrain-merror:0.184645+0.0027466\ttrain-mlogloss:0.596558+0.00432648\ttest-merror:0.40023+0.00767356\ttest-mlogloss:0.990016+0.0136824\n",
      "[150]\ttrain-merror:0.1836+0.00284332\ttrain-mlogloss:0.594925+0.00440219\ttest-merror:0.400544+0.00761266\ttest-mlogloss:0.990136+0.0135894\n",
      "[151]\ttrain-merror:0.182581+0.00283978\ttrain-mlogloss:0.593312+0.00453926\ttest-merror:0.400231+0.0073978\ttest-mlogloss:0.990208+0.0136901\n",
      "[152]\ttrain-merror:0.18164+0.0029082\ttrain-mlogloss:0.591586+0.00445215\ttest-merror:0.400962+0.00816569\ttest-mlogloss:0.99023+0.0136735\n",
      "[153]\ttrain-merror:0.18083+0.00300358\ttrain-mlogloss:0.590082+0.00414422\ttest-merror:0.400649+0.00799723\ttest-mlogloss:0.990332+0.0137005\n",
      "[154]\ttrain-merror:0.179576+0.00284153\ttrain-mlogloss:0.588584+0.00403898\ttest-merror:0.40023+0.00827543\ttest-mlogloss:0.990342+0.0136721\n",
      "[155]\ttrain-merror:0.179184+0.00273897\ttrain-mlogloss:0.586975+0.00414658\ttest-merror:0.399603+0.00819737\ttest-mlogloss:0.990468+0.0136908\n",
      "[156]\ttrain-merror:0.178687+0.00302397\ttrain-mlogloss:0.585385+0.00411566\ttest-merror:0.399707+0.00808291\ttest-mlogloss:0.990547+0.0135344\n",
      "[157]\ttrain-merror:0.177694+0.00214439\ttrain-mlogloss:0.583769+0.00416316\ttest-merror:0.399394+0.0075797\ttest-mlogloss:0.990733+0.0135971\n",
      "[158]\ttrain-merror:0.176754+0.00241016\ttrain-mlogloss:0.582226+0.00414365\ttest-merror:0.400753+0.0081715\ttest-mlogloss:0.990937+0.0134207\n",
      "[159]\ttrain-merror:0.176205+0.00241527\ttrain-mlogloss:0.580989+0.00414411\ttest-merror:0.400335+0.00901103\ttest-mlogloss:0.990946+0.0131169\n",
      "[160]\ttrain-merror:0.175395+0.00294814\ttrain-mlogloss:0.579408+0.00417426\ttest-merror:0.400649+0.00769109\ttest-mlogloss:0.991159+0.0130309\n",
      "[161]\ttrain-merror:0.174924+0.00265924\ttrain-mlogloss:0.577828+0.00423351\ttest-merror:0.400544+0.00737633\ttest-mlogloss:0.991247+0.012945\n",
      "[162]\ttrain-merror:0.17414+0.00291502\ttrain-mlogloss:0.576143+0.00415085\ttest-merror:0.401067+0.00711549\ttest-mlogloss:0.991502+0.0128911\n",
      "[163]\ttrain-merror:0.172965+0.00265529\ttrain-mlogloss:0.574555+0.0042089\ttest-merror:0.401171+0.00717635\ttest-mlogloss:0.991643+0.0127858\n",
      "[164]\ttrain-merror:0.171789+0.00289093\ttrain-mlogloss:0.572903+0.00422678\ttest-merror:0.401171+0.00695036\ttest-mlogloss:0.991582+0.0126461\n",
      "[165]\ttrain-merror:0.170979+0.00279977\ttrain-mlogloss:0.571318+0.00422339\ttest-merror:0.401067+0.00654223\ttest-mlogloss:0.991766+0.0125767\n",
      "[166]\ttrain-merror:0.170351+0.0025048\ttrain-mlogloss:0.569787+0.00440673\ttest-merror:0.401485+0.00624187\ttest-mlogloss:0.991772+0.012599\n",
      "[167]\ttrain-merror:0.169202+0.0022703\ttrain-mlogloss:0.568175+0.00449319\ttest-merror:0.401066+0.00682175\ttest-mlogloss:0.99162+0.0126987\n",
      "[168]\ttrain-merror:0.168731+0.00224795\ttrain-mlogloss:0.56682+0.00438684\ttest-merror:0.401066+0.00683459\ttest-mlogloss:0.991791+0.0126778\n",
      "[169]\ttrain-merror:0.16779+0.00193622\ttrain-mlogloss:0.565177+0.00433068\ttest-merror:0.401485+0.00635794\ttest-mlogloss:0.991958+0.0127467\n",
      "[170]\ttrain-merror:0.166797+0.00193132\ttrain-mlogloss:0.563579+0.00455833\ttest-merror:0.401171+0.00664795\ttest-mlogloss:0.992199+0.0128243\n",
      "[171]\ttrain-merror:0.165935+0.0022284\ttrain-mlogloss:0.562069+0.00468938\ttest-merror:0.400753+0.00634473\ttest-mlogloss:0.992156+0.0128425\n",
      "[172]\ttrain-merror:0.165073+0.00197903\ttrain-mlogloss:0.560631+0.00489982\ttest-merror:0.400648+0.0065385\ttest-mlogloss:0.992165+0.0128595\n",
      "[173]\ttrain-merror:0.164393+0.00193121\ttrain-mlogloss:0.559429+0.00489167\ttest-merror:0.400126+0.00680061\ttest-mlogloss:0.992184+0.0129655\n",
      "[174]\ttrain-merror:0.163819+0.00224218\ttrain-mlogloss:0.558085+0.00490078\ttest-merror:0.400335+0.00675485\ttest-mlogloss:0.992308+0.012993\n",
      "[175]\ttrain-merror:0.162956+0.00220382\ttrain-mlogloss:0.556501+0.00492194\ttest-merror:0.400126+0.00617739\ttest-mlogloss:0.992485+0.0130511\n",
      "[176]\ttrain-merror:0.161754+0.00176513\ttrain-mlogloss:0.5549+0.0048983\ttest-merror:0.400962+0.00610323\ttest-mlogloss:0.99261+0.01303\n",
      "[177]\ttrain-merror:0.160996+0.00200034\ttrain-mlogloss:0.553421+0.00470215\ttest-merror:0.401694+0.00673563\ttest-mlogloss:0.992724+0.0131894\n",
      "[178]\ttrain-merror:0.16016+0.00184475\ttrain-mlogloss:0.551797+0.00462535\ttest-merror:0.402007+0.00736923\ttest-mlogloss:0.992884+0.0132435\n",
      "[179]\ttrain-merror:0.159559+0.00181483\ttrain-mlogloss:0.550331+0.00486526\ttest-merror:0.401693+0.00710726\ttest-mlogloss:0.992907+0.0132239\n"
     ]
    },
    {
     "name": "stdout",
     "output_type": "stream",
     "text": [
      "[180]\ttrain-merror:0.158801+0.00198994\ttrain-mlogloss:0.549028+0.00477372\ttest-merror:0.400648+0.00659845\ttest-mlogloss:0.993135+0.0132375\n",
      "[181]\ttrain-merror:0.158253+0.00188192\ttrain-mlogloss:0.547677+0.00466211\ttest-merror:0.40023+0.00592633\ttest-mlogloss:0.993296+0.0130904\n",
      "[182]\ttrain-merror:0.156946+0.00141917\ttrain-mlogloss:0.545965+0.00494419\ttest-merror:0.400962+0.00628703\ttest-mlogloss:0.993197+0.0130566\n",
      "[183]\ttrain-merror:0.156345+0.00170628\ttrain-mlogloss:0.544747+0.00489321\ttest-merror:0.400544+0.00645327\ttest-mlogloss:0.993365+0.0129501\n",
      "[184]\ttrain-merror:0.15577+0.00182885\ttrain-mlogloss:0.543322+0.00475589\ttest-merror:0.40023+0.00672763\ttest-mlogloss:0.993645+0.012978\n",
      "[185]\ttrain-merror:0.155117+0.00190272\ttrain-mlogloss:0.541915+0.00469514\ttest-merror:0.400543+0.00640908\ttest-mlogloss:0.993666+0.0130664\n",
      "[186]\ttrain-merror:0.154045+0.00176848\ttrain-mlogloss:0.540601+0.00447701\ttest-merror:0.40138+0.00613255\ttest-mlogloss:0.993952+0.0129832\n",
      "[187]\ttrain-merror:0.153549+0.00179826\ttrain-mlogloss:0.539321+0.0046348\ttest-merror:0.40117+0.0064762\ttest-mlogloss:0.994203+0.0127598\n",
      "[188]\ttrain-merror:0.152582+0.00182288\ttrain-mlogloss:0.537902+0.00455406\ttest-merror:0.400543+0.00763818\ttest-mlogloss:0.994439+0.0126906\n",
      "[189]\ttrain-merror:0.151667+0.002138\ttrain-mlogloss:0.536465+0.00440994\ttest-merror:0.400021+0.00741209\ttest-mlogloss:0.994744+0.0127716\n",
      "[190]\ttrain-merror:0.150857+0.00213939\ttrain-mlogloss:0.534978+0.00423917\ttest-merror:0.400335+0.00742428\ttest-mlogloss:0.994925+0.0126698\n",
      "[191]\ttrain-merror:0.150491+0.00217738\ttrain-mlogloss:0.533816+0.00401583\ttest-merror:0.401066+0.00685682\ttest-mlogloss:0.995025+0.0126484\n",
      "[192]\ttrain-merror:0.149942+0.00248118\ttrain-mlogloss:0.532579+0.00402043\ttest-merror:0.400439+0.00664216\ttest-mlogloss:0.995058+0.0126292\n",
      "[193]\ttrain-merror:0.149342+0.00205714\ttrain-mlogloss:0.531264+0.00403632\ttest-merror:0.400648+0.00622702\ttest-mlogloss:0.995112+0.0126355\n"
     ]
    },
    {
     "name": "stderr",
     "output_type": "stream",
     "text": [
      "C:\\Users\\giano\\Anaconda3\\envs\\voda\\lib\\site-packages\\sklearn\\preprocessing\\label.py:151: DeprecationWarning: The truth value of an empty array is ambiguous. Returning False, but in future this will result in an error. Use `array.size > 0` to check that an array is not empty.\n",
      "  if diff:\n"
     ]
    },
    {
     "name": "stdout",
     "output_type": "stream",
     "text": [
      "\n",
      "Model Report\n",
      "Accuracy : 0.744\n",
      "f1_micro : 0.744\n",
      "f1_macro : 0.6266\n",
      "f1_weighted : 0.7175\n"
     ]
    },
    {
     "data": {
      "image/png": "[encoded data removed]",
      "text/plain": [
       "<Figure size 432x288 with 1 Axes>"
      ]
     },
     "metadata": {},
     "output_type": "display_data"
    },
    {
     "name": "stdout",
     "output_type": "stream",
     "text": [
      "Feature_Importances: \n",
      "Index(['CustomerExpatriate', 'DeviceFlag4G', 'MonthlySMSTrafficCount',\n",
      "       'DeviceFlagSmartphone', 'Region', 'DataArpu',\n",
      "       'MonthlyVoiceTrafficCount', 'Games', 'Instant-Messaging-Applications',\n",
      "       'Network-Operation', 'Security', 'Unclassified', 'Terminals',\n",
      "       'P2P-Applications', 'VoIP', 'CustomerAge', 'ParkingConnectionsCount',\n",
      "       'File-Transfer', 'Mail', 'IsModified', 'Music-Streaming',\n",
      "       'StationConnectionsCount', 'AirportConnectionsCount',\n",
      "       'ParkingConnectionsDuration', 'MonthlyDataTraffic',\n",
      "       'AirportConnectionsDuration', 'StationConnectionsDuration',\n",
      "       'Web-Applications'],\n",
      "      dtype='object')\n",
      "Model: {'base_score': 0.5, 'booster': 'gbtree', 'colsample_bylevel': 1, 'colsample_bytree': 0.8, 'gamma': 0, 'learning_rate': 0.1, 'max_delta_step': 0, 'max_depth': 5, 'min_child_weight': 1, 'missing': None, 'n_estimators': 95, 'nthread': 4, 'objective': 'multi:softprob', 'reg_alpha': 0, 'reg_lambda': 1, 'scale_pos_weight': 1, 'seed': 27, 'silent': 1, 'subsample': 0.8, 'num_class': 4}\n",
      "n_estimator: 95\n"
     ]
    }
   ],
   "source": [
    "predictors = [x for x in train.columns if x not in [target, IDcol]]\n",
    "xgb1 = XGBClassifier(\n",
    "        learning_rate=learning_rate,\n",
    "        n_estimators=n_estimators,\n",
    "        max_depth=max_depth,\n",
    "        min_child_weight=min_child_weight,\n",
    "        gamma=gamma,\n",
    "        subsample=subsample,\n",
    "        colsample_bytree=colsample_bytree,\n",
    "        objective='multi:softprob',\n",
    "        num_class=4,\n",
    "        nthread=4,\n",
    "        scale_pos_weight=1,\n",
    "        seed=27)\n",
    "n_estimators = modelfit(xgb1, train, predictors, 28)"
   ]
  },
  {
   "cell_type": "code",
   "execution_count": null,
   "metadata": {},
   "outputs": [],
   "source": []
  },
  {
   "cell_type": "code",
   "execution_count": 12,
   "metadata": {},
   "outputs": [
    {
     "name": "stdout",
     "output_type": "stream",
     "text": [
      "Fitting 5 folds for each of 12 candidates, totalling 60 fits\n"
     ]
    },
    {
     "name": "stderr",
     "output_type": "stream",
     "text": [
      "[Parallel(n_jobs=4)]: Done  42 tasks      | elapsed:   57.6s\n",
      "[Parallel(n_jobs=4)]: Done  60 out of  60 | elapsed:  1.6min finished\n"
     ]
    },
    {
     "data": {
      "text/plain": [
       "([{'max_depth': 3, 'min_child_weight': 1},\n",
       "  {'max_depth': 3, 'min_child_weight': 3},\n",
       "  {'max_depth': 3, 'min_child_weight': 5},\n",
       "  {'max_depth': 5, 'min_child_weight': 1},\n",
       "  {'max_depth': 5, 'min_child_weight': 3},\n",
       "  {'max_depth': 5, 'min_child_weight': 5},\n",
       "  {'max_depth': 7, 'min_child_weight': 1},\n",
       "  {'max_depth': 7, 'min_child_weight': 3},\n",
       "  {'max_depth': 7, 'min_child_weight': 5},\n",
       "  {'max_depth': 9, 'min_child_weight': 1},\n",
       "  {'max_depth': 9, 'min_child_weight': 3},\n",
       "  {'max_depth': 9, 'min_child_weight': 5}],\n",
       " {'max_depth': 9, 'min_child_weight': 1},\n",
       " 0.5868105430519608)"
      ]
     },
     "execution_count": 12,
     "metadata": {},
     "output_type": "execute_result"
    }
   ],
   "source": [
    "#Grid seach on subsample and max_features\n",
    "#Choose all predictors except target & IDcols\n",
    "param_test1 = {\n",
    "    'max_depth':range(3,10,2),\n",
    "    'min_child_weight':range(1,6,2)\n",
    "}\n",
    "gsearch1 = GridSearchCV(estimator = XGBClassifier( learning_rate =learning_rate, n_estimators=n_estimators, max_depth=max_depth,\n",
    "                                        min_child_weight=min_child_weight, gamma=gamma, subsample=subsample,\n",
    "                                        colsample_bytree=colsample_bytree, objective='multi:softprob', num_class=4, nthread=4, scale_pos_weight=1, seed=27), \n",
    "                       param_grid = param_test1, scoring='f1_micro',n_jobs=4,iid=False, cv=cv,verbose=1,  return_train_score=True)\n",
    "gsearch1.fit(train[predictors],train[target])\n",
    "gsearch1.cv_results_['params'], gsearch1.best_params_, gsearch1.best_score_"
   ]
  },
  {
   "cell_type": "code",
   "execution_count": 13,
   "metadata": {},
   "outputs": [],
   "source": [
    "#gsearch1.cv_results_['params'],"
   ]
  },
  {
   "cell_type": "code",
   "execution_count": null,
   "metadata": {},
   "outputs": [],
   "source": []
  },
  {
   "cell_type": "code",
   "execution_count": 14,
   "metadata": {},
   "outputs": [
    {
     "data": {
      "text/plain": [
       "(9, 1)"
      ]
     },
     "execution_count": 14,
     "metadata": {},
     "output_type": "execute_result"
    }
   ],
   "source": [
    "max_depth = gsearch1.best_params_['max_depth']\n",
    "min_child_weight = gsearch1.best_params_['min_child_weight']\n",
    "max_depth,min_child_weight"
   ]
  },
  {
   "cell_type": "code",
   "execution_count": 15,
   "metadata": {},
   "outputs": [
    {
     "name": "stdout",
     "output_type": "stream",
     "text": [
      "Fitting 5 folds for each of 9 candidates, totalling 45 fits\n"
     ]
    },
    {
     "name": "stderr",
     "output_type": "stream",
     "text": [
      "[Parallel(n_jobs=4)]: Done  45 out of  45 | elapsed:  1.9min finished\n",
      "C:\\Users\\giano\\Anaconda3\\envs\\voda\\lib\\site-packages\\sklearn\\model_selection\\_search.py:761: DeprecationWarning: The grid_scores_ attribute was deprecated in version 0.18 in favor of the more elaborate cv_results_ attribute. The grid_scores_ attribute will not be available from 0.20\n",
      "  DeprecationWarning)\n"
     ]
    },
    {
     "data": {
      "text/plain": [
       "([mean: 0.58608, std: 0.01297, params: {'max_depth': 8, 'min_child_weight': 0},\n",
       "  mean: 0.59130, std: 0.01540, params: {'max_depth': 8, 'min_child_weight': 1},\n",
       "  mean: 0.58535, std: 0.01200, params: {'max_depth': 8, 'min_child_weight': 2},\n",
       "  mean: 0.59099, std: 0.01027, params: {'max_depth': 9, 'min_child_weight': 0},\n",
       "  mean: 0.58681, std: 0.01050, params: {'max_depth': 9, 'min_child_weight': 1},\n",
       "  mean: 0.58733, std: 0.01415, params: {'max_depth': 9, 'min_child_weight': 2},\n",
       "  mean: 0.59183, std: 0.00945, params: {'max_depth': 10, 'min_child_weight': 0},\n",
       "  mean: 0.59089, std: 0.01203, params: {'max_depth': 10, 'min_child_weight': 1},\n",
       "  mean: 0.58660, std: 0.01544, params: {'max_depth': 10, 'min_child_weight': 2}],\n",
       " {'max_depth': 10, 'min_child_weight': 0},\n",
       " 0.5918268724483076)"
      ]
     },
     "execution_count": 15,
     "metadata": {},
     "output_type": "execute_result"
    }
   ],
   "source": [
    "#Grid seach on subsample and max_features\n",
    "#Choose all predictors except target & IDcols\n",
    "param_test2 = {\n",
    "    'max_depth':[max_depth-1,max_depth,max_depth+1],\n",
    "    'min_child_weight':[min_child_weight-1,min_child_weight,min_child_weight+1]\n",
    "}\n",
    "gsearch2 = GridSearchCV(estimator = XGBClassifier( learning_rate=learning_rate, n_estimators=n_estimators, max_depth=max_depth,\n",
    "                                        min_child_weight=min_child_weight, gamma=gamma, subsample=subsample, colsample_bytree=colsample_bytree,\n",
    "                                        objective='multi:softprob', num_class=4, nthread=4, scale_pos_weight=1,seed=27), \n",
    "                       param_grid = param_test2, scoring='f1_micro',n_jobs=4,iid=False, cv=cv, verbose=1)\n",
    "gsearch2.fit(train[predictors],train[target])\n",
    "gsearch2.grid_scores_, gsearch2.best_params_, gsearch2.best_score_"
   ]
  },
  {
   "cell_type": "code",
   "execution_count": 16,
   "metadata": {},
   "outputs": [
    {
     "data": {
      "text/plain": [
       "(10, 0)"
      ]
     },
     "execution_count": 16,
     "metadata": {},
     "output_type": "execute_result"
    }
   ],
   "source": [
    "max_depth = gsearch2.best_params_['max_depth']\n",
    "min_child_weight = gsearch2.best_params_['min_child_weight']\n",
    "max_depth,min_child_weight"
   ]
  },
  {
   "cell_type": "code",
   "execution_count": 17,
   "metadata": {},
   "outputs": [
    {
     "name": "stdout",
     "output_type": "stream",
     "text": [
      "Fitting 5 folds for each of 4 candidates, totalling 20 fits\n"
     ]
    },
    {
     "name": "stderr",
     "output_type": "stream",
     "text": [
      "[Parallel(n_jobs=4)]: Done  20 out of  20 | elapsed:   57.5s finished\n",
      "C:\\Users\\giano\\Anaconda3\\envs\\voda\\lib\\site-packages\\sklearn\\model_selection\\_search.py:761: DeprecationWarning: The grid_scores_ attribute was deprecated in version 0.18 in favor of the more elaborate cv_results_ attribute. The grid_scores_ attribute will not be available from 0.20\n",
      "  DeprecationWarning)\n"
     ]
    },
    {
     "data": {
      "text/plain": [
       "([mean: 0.59183, std: 0.00945, params: {'min_child_weight': 0},\n",
       "  mean: 0.58660, std: 0.01544, params: {'min_child_weight': 2},\n",
       "  mean: 0.58315, std: 0.01007, params: {'min_child_weight': 4},\n",
       "  mean: 0.58462, std: 0.01212, params: {'min_child_weight': 6}],\n",
       " {'min_child_weight': 0},\n",
       " 0.5918268724483076)"
      ]
     },
     "execution_count": 17,
     "metadata": {},
     "output_type": "execute_result"
    }
   ],
   "source": [
    "#Grid seach on subsample and max_features#Grid se \n",
    "#Choose all predictors except target & IDcols\n",
    "param_test2b = {\n",
    "    'min_child_weight':[min_child_weight,min_child_weight+2,min_child_weight+4,min_child_weight+6]\n",
    "}\n",
    "gsearch2b = GridSearchCV(estimator = XGBClassifier( learning_rate=learning_rate, n_estimators=n_estimators, max_depth=max_depth,\n",
    "                                        min_child_weight=min_child_weight, gamma=gamma, subsample=subsample, colsample_bytree=colsample_bytree,\n",
    "                                        objective='multi:softprob', num_class=4, nthread=4, scale_pos_weight=1,seed=27), \n",
    "                       param_grid = param_test2b, scoring='f1_micro',n_jobs=4,iid=False, cv=cv, verbose=1)\n",
    "gsearch2b.fit(train[predictors],train[target])\n",
    "gsearch2b.grid_scores_, gsearch2b.best_params_, gsearch2b.best_score_"
   ]
  },
  {
   "cell_type": "code",
   "execution_count": 18,
   "metadata": {},
   "outputs": [
    {
     "data": {
      "text/plain": [
       "0"
      ]
     },
     "execution_count": 18,
     "metadata": {},
     "output_type": "execute_result"
    }
   ],
   "source": [
    "min_child_weight = gsearch2b.best_params_['min_child_weight']\n",
    "min_child_weight"
   ]
  },
  {
   "cell_type": "code",
   "execution_count": 19,
   "metadata": {},
   "outputs": [
    {
     "name": "stdout",
     "output_type": "stream",
     "text": [
      "Fitting 5 folds for each of 5 candidates, totalling 25 fits\n"
     ]
    },
    {
     "name": "stderr",
     "output_type": "stream",
     "text": [
      "[Parallel(n_jobs=4)]: Done  25 out of  25 | elapsed:  1.4min finished\n",
      "C:\\Users\\giano\\Anaconda3\\envs\\voda\\lib\\site-packages\\sklearn\\model_selection\\_search.py:761: DeprecationWarning: The grid_scores_ attribute was deprecated in version 0.18 in favor of the more elaborate cv_results_ attribute. The grid_scores_ attribute will not be available from 0.20\n",
      "  DeprecationWarning)\n"
     ]
    },
    {
     "data": {
      "text/plain": [
       "([mean: 0.59183, std: 0.00945, params: {'gamma': 0.0},\n",
       "  mean: 0.59036, std: 0.00859, params: {'gamma': 0.1},\n",
       "  mean: 0.59057, std: 0.01026, params: {'gamma': 0.2},\n",
       "  mean: 0.59266, std: 0.00944, params: {'gamma': 0.3},\n",
       "  mean: 0.58806, std: 0.01025, params: {'gamma': 0.4}],\n",
       " {'gamma': 0.3},\n",
       " 0.5926634193042609)"
      ]
     },
     "execution_count": 19,
     "metadata": {},
     "output_type": "execute_result"
    }
   ],
   "source": [
    "#Grid seach on subsample and max_features\n",
    "#Choose all predictors except target & IDcols\n",
    "param_test3 = {\n",
    "    'gamma':[i/10.0 for i in range(0,5)]\n",
    "}\n",
    "gsearch3 = GridSearchCV(estimator = XGBClassifier( learning_rate =learning_rate, n_estimators=n_estimators, max_depth=max_depth,\n",
    "                                        min_child_weight=min_child_weight, gamma=gamma, subsample=subsample, colsample_bytree=colsample_bytree,\n",
    "                                        objective='multi:softprob', num_class=4, nthread=4, scale_pos_weight=1,seed=27), \n",
    "                       param_grid = param_test3, scoring='f1_micro',n_jobs=4,iid=False, cv=cv, verbose=1)\n",
    "gsearch3.fit(train[predictors],train[target])\n",
    "gsearch3.grid_scores_, gsearch3.best_params_, gsearch3.best_score_"
   ]
  },
  {
   "cell_type": "code",
   "execution_count": 20,
   "metadata": {},
   "outputs": [
    {
     "data": {
      "text/plain": [
       "0.3"
      ]
     },
     "execution_count": 20,
     "metadata": {},
     "output_type": "execute_result"
    }
   ],
   "source": [
    "gamma = gsearch3.best_params_['gamma']\n",
    "gamma"
   ]
  },
  {
   "cell_type": "code",
   "execution_count": 21,
   "metadata": {
    "scrolled": true
   },
   "outputs": [
    {
     "name": "stdout",
     "output_type": "stream",
     "text": [
      "[0]\ttrain-merror:0.260453+0.00545275\ttrain-mlogloss:1.29978+0.00120184\ttest-merror:0.452181+0.0122532\ttest-mlogloss:1.33231+0.001687\n",
      "[1]\ttrain-merror:0.214357+0.00384677\ttrain-mlogloss:1.22233+0.00118963\ttest-merror:0.429602+0.00741971\ttest-mlogloss:1.28533+0.00225664\n",
      "[2]\ttrain-merror:0.196587+0.00349766\ttrain-mlogloss:1.15514+0.00210579\ttest-merror:0.419568+0.00578574\ttest-mlogloss:1.2469+0.00284169\n",
      "[3]\ttrain-merror:0.185089+0.00459134\ttrain-mlogloss:1.09531+0.00281088\ttest-merror:0.416432+0.00673752\ttest-mlogloss:1.2144+0.0034049\n",
      "[4]\ttrain-merror:0.176074+0.00467334\ttrain-mlogloss:1.0406+0.00430591\ttest-merror:0.411311+0.00542798\ttest-mlogloss:1.18566+0.00408559\n",
      "[5]\ttrain-merror:0.169593+0.00618396\ttrain-mlogloss:0.991421+0.00559122\ttest-merror:0.408488+0.00591063\ttest-mlogloss:1.16137+0.00496397\n",
      "[6]\ttrain-merror:0.160421+0.0054201\ttrain-mlogloss:0.945893+0.00566257\ttest-merror:0.407442+0.00509993\ttest-mlogloss:1.13984+0.00560661\n",
      "[7]\ttrain-merror:0.15509+0.00342458\ttrain-mlogloss:0.904872+0.00436201\ttest-merror:0.402948+0.00537151\ttest-mlogloss:1.12058+0.00639743\n",
      "[8]\ttrain-merror:0.149576+0.00417808\ttrain-mlogloss:0.866989+0.00443859\ttest-merror:0.403784+0.004047\ttest-mlogloss:1.1044+0.00647387\n",
      "[9]\ttrain-merror:0.144167+0.00374205\ttrain-mlogloss:0.831528+0.00442901\ttest-merror:0.404411+0.00373817\ttest-mlogloss:1.09033+0.00688668\n",
      "[10]\ttrain-merror:0.140875+0.00318347\ttrain-mlogloss:0.799457+0.00415507\ttest-merror:0.402425+0.00220929\ttest-mlogloss:1.07827+0.00704103\n",
      "[11]\ttrain-merror:0.136119+0.00322216\ttrain-mlogloss:0.770084+0.00576666\ttest-merror:0.401902+0.00384668\ttest-mlogloss:1.06706+0.00752042\n",
      "[12]\ttrain-merror:0.131519+0.00378548\ttrain-mlogloss:0.741623+0.00598461\ttest-merror:0.400752+0.00415067\ttest-mlogloss:1.05757+0.00720244\n",
      "[13]\ttrain-merror:0.127705+0.00309091\ttrain-mlogloss:0.715673+0.00629992\ttest-merror:0.400334+0.00571126\ttest-mlogloss:1.04944+0.0077034\n",
      "[14]\ttrain-merror:0.124673+0.00281091\ttrain-mlogloss:0.691564+0.00662451\ttest-merror:0.401484+0.00600162\ttest-mlogloss:1.04221+0.00771121\n",
      "[15]\ttrain-merror:0.120336+0.00251373\ttrain-mlogloss:0.66898+0.00623494\ttest-merror:0.402738+0.00633081\ttest-mlogloss:1.03587+0.00842028\n",
      "[16]\ttrain-merror:0.116599+0.00217517\ttrain-mlogloss:0.647554+0.00594282\ttest-merror:0.401379+0.00461359\ttest-mlogloss:1.03024+0.00863477\n",
      "[17]\ttrain-merror:0.112757+0.00203995\ttrain-mlogloss:0.627133+0.00613456\ttest-merror:0.402216+0.00508149\ttest-mlogloss:1.02532+0.00823275\n",
      "[18]\ttrain-merror:0.109674+0.00302818\ttrain-mlogloss:0.608067+0.00695593\ttest-merror:0.400543+0.00570895\ttest-mlogloss:1.02026+0.00854464\n",
      "[19]\ttrain-merror:0.105911+0.00285371\ttrain-mlogloss:0.589691+0.00706705\ttest-merror:0.401693+0.00597302\ttest-mlogloss:1.01666+0.0084788\n",
      "[20]\ttrain-merror:0.102095+0.00235916\ttrain-mlogloss:0.572597+0.00669506\ttest-merror:0.40232+0.00672103\ttest-mlogloss:1.01323+0.00882196\n",
      "[21]\ttrain-merror:0.0990906+0.00288531\ttrain-mlogloss:0.556093+0.00712413\ttest-merror:0.402215+0.00577409\ttest-mlogloss:1.01027+0.0086149\n",
      "[22]\ttrain-merror:0.0962422+0.00335868\ttrain-mlogloss:0.540877+0.00779582\ttest-merror:0.40232+0.00469016\ttest-mlogloss:1.00724+0.00883406\n",
      "[23]\ttrain-merror:0.0933676+0.00378427\ttrain-mlogloss:0.527613+0.00851574\ttest-merror:0.400857+0.00488365\ttest-mlogloss:1.00536+0.00889231\n",
      "[24]\ttrain-merror:0.0905454+0.00398771\ttrain-mlogloss:0.514302+0.00767744\ttest-merror:0.401902+0.00426724\ttest-mlogloss:1.00354+0.00893231\n",
      "[25]\ttrain-merror:0.0875928+0.00402975\ttrain-mlogloss:0.501796+0.00807448\ttest-merror:0.40232+0.00462618\ttest-mlogloss:1.00144+0.00949586\n",
      "[26]\ttrain-merror:0.0843526+0.00482897\ttrain-mlogloss:0.489749+0.00854337\ttest-merror:0.402007+0.00464169\ttest-mlogloss:0.999995+0.00967975\n",
      "[27]\ttrain-merror:0.0808508+0.00420321\ttrain-mlogloss:0.477092+0.00813861\ttest-merror:0.401484+0.00458218\ttest-mlogloss:0.998987+0.00989928\n",
      "[28]\ttrain-merror:0.078891+0.00420201\ttrain-mlogloss:0.46633+0.00814737\ttest-merror:0.401171+0.00576629\ttest-mlogloss:0.998121+0.0107421\n",
      "[29]\ttrain-merror:0.076147+0.00463284\ttrain-mlogloss:0.455472+0.00860577\ttest-merror:0.401589+0.00578194\ttest-mlogloss:0.997047+0.0108007\n",
      "[30]\ttrain-merror:0.0738476+0.00407216\ttrain-mlogloss:0.44474+0.00851963\ttest-merror:0.401902+0.00463784\ttest-mlogloss:0.996401+0.0106538\n",
      "[31]\ttrain-merror:0.0712084+0.00365957\ttrain-mlogloss:0.434674+0.00794263\ttest-merror:0.40347+0.00530758\ttest-mlogloss:0.996182+0.0110204\n",
      "[32]\ttrain-merror:0.0697972+0.0038478\ttrain-mlogloss:0.425913+0.00778803\ttest-merror:0.403157+0.00395232\ttest-mlogloss:0.995786+0.0112781\n",
      "[33]\ttrain-merror:0.067994+0.00387427\ttrain-mlogloss:0.41703+0.00757728\ttest-merror:0.402529+0.00379169\ttest-mlogloss:0.99522+0.0114806\n",
      "[34]\ttrain-merror:0.0664002+0.00328622\ttrain-mlogloss:0.409524+0.00713087\ttest-merror:0.403365+0.0039999\ttest-mlogloss:0.995369+0.0116423\n",
      "[35]\ttrain-merror:0.064414+0.00283186\ttrain-mlogloss:0.402172+0.00684246\ttest-merror:0.402739+0.00450506\ttest-mlogloss:0.995217+0.0119664\n",
      "[36]\ttrain-merror:0.0626892+0.00283467\ttrain-mlogloss:0.394244+0.00710046\ttest-merror:0.401798+0.00578323\ttest-mlogloss:0.995511+0.0122498\n",
      "[37]\ttrain-merror:0.0610692+0.00290966\ttrain-mlogloss:0.387278+0.00673595\ttest-merror:0.401589+0.00495398\ttest-mlogloss:0.995568+0.0124558\n",
      "[38]\ttrain-merror:0.059031+0.00249277\ttrain-mlogloss:0.380074+0.00648947\ttest-merror:0.402111+0.00396438\ttest-mlogloss:0.99562+0.0126227\n",
      "[39]\ttrain-merror:0.0583518+0.00266002\ttrain-mlogloss:0.373544+0.00620568\ttest-merror:0.401902+0.00318909\ttest-mlogloss:0.995843+0.0127165\n",
      "[40]\ttrain-merror:0.0570974+0.00294802\ttrain-mlogloss:0.367296+0.00606491\ttest-merror:0.400961+0.00397543\ttest-mlogloss:0.995849+0.0126694\n",
      "[41]\ttrain-merror:0.055451+0.00290694\ttrain-mlogloss:0.361098+0.00613063\ttest-merror:0.402006+0.00495403\ttest-mlogloss:0.995922+0.0129304\n",
      "[42]\ttrain-merror:0.054458+0.00317314\ttrain-mlogloss:0.355875+0.00591747\ttest-merror:0.402007+0.00407573\ttest-mlogloss:0.996077+0.0130355\n",
      "[43]\ttrain-merror:0.053256+0.00268267\ttrain-mlogloss:0.350605+0.00585968\ttest-merror:0.400962+0.00426723\ttest-mlogloss:0.996343+0.0133401\n",
      "[44]\ttrain-merror:0.0518974+0.00228014\ttrain-mlogloss:0.345065+0.00616215\ttest-merror:0.401171+0.00557175\ttest-mlogloss:0.996875+0.0134497\n",
      "[45]\ttrain-merror:0.0508518+0.00243055\ttrain-mlogloss:0.339562+0.00680808\ttest-merror:0.401589+0.00519285\ttest-mlogloss:0.997657+0.0137519\n",
      "[46]\ttrain-merror:0.0498328+0.00244366\ttrain-mlogloss:0.335156+0.00648177\ttest-merror:0.400962+0.00519707\ttest-mlogloss:0.997769+0.0136101\n",
      "[47]\ttrain-merror:0.0489182+0.00213798\ttrain-mlogloss:0.330253+0.00590122\ttest-merror:0.400962+0.00496045\ttest-mlogloss:0.998204+0.0132089\n",
      "[48]\ttrain-merror:0.0477944+0.00243775\ttrain-mlogloss:0.3255+0.00616198\ttest-merror:0.40023+0.00459574\ttest-mlogloss:0.998399+0.0135882\n",
      "[49]\ttrain-merror:0.0465664+0.00215728\ttrain-mlogloss:0.320601+0.00572944\ttest-merror:0.400125+0.00461756\ttest-mlogloss:0.998779+0.0138204\n",
      "[50]\ttrain-merror:0.045312+0.00248218\ttrain-mlogloss:0.315485+0.00664122\ttest-merror:0.401066+0.00496959\ttest-mlogloss:0.999207+0.0136682\n",
      "[51]\ttrain-merror:0.044345+0.00236133\ttrain-mlogloss:0.310907+0.00643753\ttest-merror:0.399916+0.00481261\ttest-mlogloss:0.999393+0.0138534\n",
      "[52]\ttrain-merror:0.0434304+0.00227832\ttrain-mlogloss:0.30654+0.00678355\ttest-merror:0.399602+0.006362\ttest-mlogloss:0.999771+0.0141877\n",
      "[53]\ttrain-merror:0.0423852+0.00162427\ttrain-mlogloss:0.302525+0.00637779\ttest-merror:0.40023+0.00459062\ttest-mlogloss:1.00029+0.0143774\n",
      "[54]\ttrain-merror:0.041549+0.00179504\ttrain-mlogloss:0.299015+0.00610902\ttest-merror:0.400335+0.0053198\ttest-mlogloss:1.00064+0.0143594\n",
      "[55]\ttrain-merror:0.040556+0.00169036\ttrain-mlogloss:0.295233+0.00557428\ttest-merror:0.399289+0.00638379\ttest-mlogloss:1.00086+0.0145765\n",
      "[56]\ttrain-merror:0.039537+0.00154065\ttrain-mlogloss:0.290406+0.00563993\ttest-merror:0.40023+0.00710468\ttest-mlogloss:1.00183+0.0148897\n",
      "[57]\ttrain-merror:0.0388314+0.00159654\ttrain-mlogloss:0.286694+0.00526683\ttest-merror:0.399603+0.00660151\ttest-mlogloss:1.00249+0.0151565\n",
      "[58]\ttrain-merror:0.0380474+0.00161382\ttrain-mlogloss:0.282608+0.00486995\ttest-merror:0.400125+0.00751632\ttest-mlogloss:1.0029+0.0150964\n",
      "[59]\ttrain-merror:0.0372896+0.00163525\ttrain-mlogloss:0.278917+0.00526456\ttest-merror:0.400857+0.00696349\ttest-mlogloss:1.00354+0.0152691\n"
     ]
    },
    {
     "name": "stdout",
     "output_type": "stream",
     "text": [
      "[60]\ttrain-merror:0.036532+0.00165559\ttrain-mlogloss:0.275247+0.00500985\ttest-merror:0.400648+0.00828494\ttest-mlogloss:1.0042+0.0152875\n",
      "[61]\ttrain-merror:0.0358262+0.00152393\ttrain-mlogloss:0.271783+0.00531561\ttest-merror:0.399498+0.00784171\ttest-mlogloss:1.00457+0.0152923\n",
      "[62]\ttrain-merror:0.0354342+0.00162229\ttrain-mlogloss:0.268589+0.00505669\ttest-merror:0.399185+0.00819036\ttest-mlogloss:1.0052+0.015037\n",
      "[63]\ttrain-merror:0.0345196+0.00166774\ttrain-mlogloss:0.264847+0.00466533\ttest-merror:0.399603+0.0083611\ttest-mlogloss:1.00579+0.015298\n",
      "[64]\ttrain-merror:0.0337358+0.00211722\ttrain-mlogloss:0.261178+0.00440311\ttest-merror:0.400439+0.00777393\ttest-mlogloss:1.0064+0.0152325\n",
      "[65]\ttrain-merror:0.0331608+0.0021412\ttrain-mlogloss:0.258035+0.00460991\ttest-merror:0.401066+0.00755112\ttest-mlogloss:1.0068+0.0152469\n",
      "[66]\ttrain-merror:0.0326906+0.00216193\ttrain-mlogloss:0.255404+0.00469412\ttest-merror:0.400543+0.00662162\ttest-mlogloss:1.00718+0.0155942\n",
      "[67]\ttrain-merror:0.0319588+0.00211239\ttrain-mlogloss:0.252828+0.00480173\ttest-merror:0.400543+0.00688356\ttest-mlogloss:1.00756+0.0156066\n",
      "[68]\ttrain-merror:0.0313318+0.00211901\ttrain-mlogloss:0.249889+0.00458762\ttest-merror:0.401484+0.00623988\ttest-mlogloss:1.0078+0.0155633\n",
      "[69]\ttrain-merror:0.0308874+0.0019792\ttrain-mlogloss:0.246973+0.00463502\ttest-merror:0.400753+0.00569165\ttest-mlogloss:1.00848+0.0156643\n",
      "[70]\ttrain-merror:0.0299206+0.00217227\ttrain-mlogloss:0.243385+0.00496069\ttest-merror:0.401589+0.00588377\ttest-mlogloss:1.00921+0.0160173\n",
      "[71]\ttrain-merror:0.0296068+0.00208976\ttrain-mlogloss:0.240588+0.00479895\ttest-merror:0.400439+0.005945\ttest-mlogloss:1.0098+0.0162299\n",
      "[72]\ttrain-merror:0.0293456+0.00236545\ttrain-mlogloss:0.238226+0.00489697\ttest-merror:0.400335+0.00673913\ttest-mlogloss:1.01023+0.0160717\n",
      "[73]\ttrain-merror:0.0287184+0.00213765\ttrain-mlogloss:0.235567+0.00470048\ttest-merror:0.399812+0.00612093\ttest-mlogloss:1.01093+0.016201\n",
      "[74]\ttrain-merror:0.028405+0.00216664\ttrain-mlogloss:0.233367+0.00469181\ttest-merror:0.399603+0.00694461\ttest-mlogloss:1.01154+0.0162418\n",
      "[75]\ttrain-merror:0.0276996+0.00191833\ttrain-mlogloss:0.230749+0.00430077\ttest-merror:0.400857+0.00641885\ttest-mlogloss:1.01228+0.0159392\n",
      "[76]\ttrain-merror:0.0270984+0.00197415\ttrain-mlogloss:0.228345+0.00434319\ttest-merror:0.40023+0.00661532\ttest-mlogloss:1.01303+0.0158663\n",
      "[77]\ttrain-merror:0.0266802+0.00190333\ttrain-mlogloss:0.226138+0.00461578\ttest-merror:0.400544+0.00648975\ttest-mlogloss:1.01367+0.016051\n",
      "[78]\ttrain-merror:0.0261576+0.00167217\ttrain-mlogloss:0.22398+0.00454778\ttest-merror:0.400126+0.0063582\ttest-mlogloss:1.01427+0.0161405\n",
      "[79]\ttrain-merror:0.0255826+0.00165992\ttrain-mlogloss:0.22149+0.00451527\ttest-merror:0.401589+0.00671643\ttest-mlogloss:1.01507+0.0162966\n",
      "[80]\ttrain-merror:0.0254784+0.00159218\ttrain-mlogloss:0.219313+0.00481868\ttest-merror:0.401066+0.00743993\ttest-mlogloss:1.01582+0.0163\n",
      "[81]\ttrain-merror:0.0250866+0.00144356\ttrain-mlogloss:0.217262+0.00467711\ttest-merror:0.401171+0.00786123\ttest-mlogloss:1.01674+0.0165443\n",
      "[82]\ttrain-merror:0.024799+0.00165999\ttrain-mlogloss:0.215116+0.00459989\ttest-merror:0.401798+0.00780928\ttest-mlogloss:1.01709+0.0166465\n",
      "[83]\ttrain-merror:0.0245896+0.00163477\ttrain-mlogloss:0.212953+0.00456699\ttest-merror:0.40117+0.00740895\ttest-mlogloss:1.01749+0.0165446\n",
      "[84]\ttrain-merror:0.0241976+0.00160527\ttrain-mlogloss:0.210907+0.00459736\ttest-merror:0.401171+0.00679535\ttest-mlogloss:1.01833+0.016578\n",
      "[85]\ttrain-merror:0.0238846+0.00159917\ttrain-mlogloss:0.208833+0.00463953\ttest-merror:0.401589+0.00755702\ttest-mlogloss:1.01911+0.0166738\n",
      "[86]\ttrain-merror:0.023649+0.00147587\ttrain-mlogloss:0.206654+0.00434272\ttest-merror:0.401171+0.00671491\ttest-mlogloss:1.0198+0.0169079\n",
      "[87]\ttrain-merror:0.0232308+0.00131566\ttrain-mlogloss:0.204428+0.00432037\ttest-merror:0.400648+0.00773942\ttest-mlogloss:1.02051+0.0171972\n",
      "[88]\ttrain-merror:0.0229696+0.00132583\ttrain-mlogloss:0.202242+0.00435936\ttest-merror:0.401694+0.00712499\ttest-mlogloss:1.02172+0.0175509\n",
      "[89]\ttrain-merror:0.0230218+0.00128129\ttrain-mlogloss:0.200602+0.00428226\ttest-merror:0.401484+0.00711775\ttest-mlogloss:1.02209+0.0175035\n",
      "[90]\ttrain-merror:0.0227344+0.00121481\ttrain-mlogloss:0.198786+0.00404358\ttest-merror:0.401275+0.00633558\ttest-mlogloss:1.02285+0.017441\n",
      "[91]\ttrain-merror:0.0222902+0.000922256\ttrain-mlogloss:0.196697+0.00390496\ttest-merror:0.401275+0.00576675\ttest-mlogloss:1.02348+0.0173959\n",
      "[92]\ttrain-merror:0.0218982+0.0010174\ttrain-mlogloss:0.194767+0.00408105\ttest-merror:0.400544+0.00604842\ttest-mlogloss:1.02402+0.017309\n",
      "[93]\ttrain-merror:0.0213496+0.000944913\ttrain-mlogloss:0.192947+0.00396221\ttest-merror:0.400544+0.00659335\ttest-mlogloss:1.02476+0.0173729\n",
      "[94]\ttrain-merror:0.0211144+0.000869357\ttrain-mlogloss:0.191284+0.00391716\ttest-merror:0.39929+0.00696784\ttest-mlogloss:1.02521+0.0175367\n",
      "[95]\ttrain-merror:0.0210098+0.000944169\ttrain-mlogloss:0.189642+0.00381603\ttest-merror:0.399812+0.00742334\ttest-mlogloss:1.02572+0.0176809\n",
      "[96]\ttrain-merror:0.0205394+0.00100737\ttrain-mlogloss:0.187856+0.00392882\ttest-merror:0.399708+0.00775478\ttest-mlogloss:1.02634+0.0179296\n",
      "[97]\ttrain-merror:0.0205132+0.000931587\ttrain-mlogloss:0.18634+0.00377545\ttest-merror:0.400439+0.00805714\ttest-mlogloss:1.02695+0.0180275\n",
      "[98]\ttrain-merror:0.0203562+0.000717877\ttrain-mlogloss:0.184669+0.0036037\ttest-merror:0.401171+0.00671246\ttest-mlogloss:1.02747+0.0178967\n",
      "[99]\ttrain-merror:0.019886+0.00077714\ttrain-mlogloss:0.183078+0.00367023\ttest-merror:0.401589+0.0078244\ttest-mlogloss:1.02813+0.0179202\n",
      "[100]\ttrain-merror:0.0194156+0.00085787\ttrain-mlogloss:0.181472+0.00369276\ttest-merror:0.402216+0.00716888\ttest-mlogloss:1.02873+0.0180792\n",
      "[101]\ttrain-merror:0.019076+0.000739564\ttrain-mlogloss:0.179821+0.00362803\ttest-merror:0.401484+0.00676228\ttest-mlogloss:1.02936+0.0182333\n",
      "[102]\ttrain-merror:0.0187884+0.000888134\ttrain-mlogloss:0.178331+0.0036894\ttest-merror:0.400857+0.00660268\ttest-mlogloss:1.02998+0.017945\n",
      "[103]\ttrain-merror:0.0185794+0.000903349\ttrain-mlogloss:0.176765+0.00344926\ttest-merror:0.400962+0.00702646\ttest-mlogloss:1.03041+0.0178168\n",
      "[104]\ttrain-merror:0.018501+0.000865556\ttrain-mlogloss:0.175498+0.0032374\ttest-merror:0.401171+0.00603353\ttest-mlogloss:1.03088+0.0178687\n",
      "[105]\ttrain-merror:0.0182922+0.000814325\ttrain-mlogloss:0.174135+0.00328357\ttest-merror:0.401067+0.0065364\ttest-mlogloss:1.03134+0.0181165\n",
      "[106]\ttrain-merror:0.0180306+0.000676394\ttrain-mlogloss:0.172742+0.00308829\ttest-merror:0.401903+0.00685853\ttest-mlogloss:1.03185+0.0179298\n",
      "[107]\ttrain-merror:0.0177954+0.000647145\ttrain-mlogloss:0.171573+0.00300958\ttest-merror:0.401589+0.00721534\ttest-mlogloss:1.03243+0.0177722\n",
      "[108]\ttrain-merror:0.0176388+0.00066609\ttrain-mlogloss:0.170264+0.00301151\ttest-merror:0.402739+0.00668296\ttest-mlogloss:1.03318+0.0178104\n",
      "[109]\ttrain-merror:0.0174296+0.000727752\ttrain-mlogloss:0.168875+0.0028531\ttest-merror:0.40253+0.00708236\ttest-mlogloss:1.03392+0.017924\n",
      "[110]\ttrain-merror:0.0171686+0.00084911\ttrain-mlogloss:0.167594+0.0028043\ttest-merror:0.402425+0.00688722\ttest-mlogloss:1.03475+0.0180083\n",
      "[111]\ttrain-merror:0.016933+0.000722992\ttrain-mlogloss:0.166221+0.00289632\ttest-merror:0.402947+0.00678803\ttest-mlogloss:1.03529+0.0180696\n",
      "[112]\ttrain-merror:0.016698+0.000641958\ttrain-mlogloss:0.165071+0.0028719\ttest-merror:0.403679+0.00702006\ttest-mlogloss:1.03587+0.0179666\n",
      "[113]\ttrain-merror:0.0164628+0.000495846\ttrain-mlogloss:0.163812+0.00269285\ttest-merror:0.402948+0.00658334\ttest-mlogloss:1.03654+0.0181026\n",
      "[114]\ttrain-merror:0.0162278+0.00066832\ttrain-mlogloss:0.162498+0.00242049\ttest-merror:0.403261+0.00722644\ttest-mlogloss:1.03718+0.0184529\n",
      "[115]\ttrain-merror:0.0160186+0.000684274\ttrain-mlogloss:0.161272+0.00252041\ttest-merror:0.402007+0.007251\ttest-mlogloss:1.03792+0.0182912\n",
      "[116]\ttrain-merror:0.0157834+0.000712427\ttrain-mlogloss:0.160058+0.00265604\ttest-merror:0.402425+0.00692464\ttest-mlogloss:1.03864+0.0185026\n",
      "[117]\ttrain-merror:0.0157312+0.000764031\ttrain-mlogloss:0.159051+0.0025896\ttest-merror:0.402948+0.00727044\ttest-mlogloss:1.03915+0.0183879\n",
      "[118]\ttrain-merror:0.0156002+0.000828616\ttrain-mlogloss:0.158127+0.00256024\ttest-merror:0.402634+0.00666638\ttest-mlogloss:1.03937+0.0185729\n",
      "[119]\ttrain-merror:0.0155742+0.000844073\ttrain-mlogloss:0.157145+0.00259998\ttest-merror:0.403157+0.00619247\ttest-mlogloss:1.04023+0.0184166\n"
     ]
    },
    {
     "name": "stdout",
     "output_type": "stream",
     "text": [
      "[120]\ttrain-merror:0.0153654+0.00083674\ttrain-mlogloss:0.15605+0.00247949\ttest-merror:0.40253+0.00664374\ttest-mlogloss:1.04084+0.0183964\n",
      "[121]\ttrain-merror:0.0151562+0.000813779\ttrain-mlogloss:0.155197+0.00244695\ttest-merror:0.40253+0.00645558\ttest-mlogloss:1.04159+0.0185024\n",
      "[122]\ttrain-merror:0.014921+0.000780874\ttrain-mlogloss:0.154145+0.00242143\ttest-merror:0.402216+0.0065203\ttest-mlogloss:1.04215+0.0184335\n",
      "[123]\ttrain-merror:0.0147904+0.000832155\ttrain-mlogloss:0.153165+0.00247215\ttest-merror:0.402634+0.00686161\ttest-mlogloss:1.04258+0.018626\n",
      "[124]\ttrain-merror:0.0146076+0.000914048\ttrain-mlogloss:0.152109+0.00257183\ttest-merror:0.402007+0.00671743\ttest-mlogloss:1.04309+0.0188768\n",
      "[125]\ttrain-merror:0.014529+0.000939809\ttrain-mlogloss:0.151118+0.00251143\ttest-merror:0.402529+0.00761826\ttest-mlogloss:1.04376+0.0187321\n",
      "[126]\ttrain-merror:0.01432+0.000768761\ttrain-mlogloss:0.150201+0.00261759\ttest-merror:0.401902+0.00804117\ttest-mlogloss:1.04409+0.0186725\n",
      "[127]\ttrain-merror:0.0142156+0.000736128\ttrain-mlogloss:0.149359+0.00253954\ttest-merror:0.401902+0.00727239\ttest-mlogloss:1.04454+0.0188029\n",
      "[128]\ttrain-merror:0.0142416+0.000734552\ttrain-mlogloss:0.148476+0.00247782\ttest-merror:0.401798+0.0071376\ttest-mlogloss:1.04518+0.01886\n",
      "[129]\ttrain-merror:0.0140586+0.000708946\ttrain-mlogloss:0.147647+0.0024661\ttest-merror:0.401798+0.00705435\ttest-mlogloss:1.04594+0.019177\n",
      "[130]\ttrain-merror:0.0139018+0.000812097\ttrain-mlogloss:0.146795+0.00247372\ttest-merror:0.400021+0.00740737\ttest-mlogloss:1.04663+0.0193275\n",
      "[131]\ttrain-merror:0.0138494+0.000842692\ttrain-mlogloss:0.14599+0.00245249\ttest-merror:0.40023+0.00807542\ttest-mlogloss:1.0471+0.0194117\n",
      "[132]\ttrain-merror:0.0137712+0.000958699\ttrain-mlogloss:0.145245+0.00243111\ttest-merror:0.400334+0.00832954\ttest-mlogloss:1.04776+0.0193996\n",
      "[133]\ttrain-merror:0.0136666+0.000892507\ttrain-mlogloss:0.144489+0.00244676\ttest-merror:0.399811+0.00842317\ttest-mlogloss:1.04801+0.0193046\n",
      "[134]\ttrain-merror:0.0135622+0.00078573\ttrain-mlogloss:0.143727+0.0025139\ttest-merror:0.401066+0.0076536\ttest-mlogloss:1.04861+0.0194199\n"
     ]
    },
    {
     "name": "stderr",
     "output_type": "stream",
     "text": [
      "C:\\Users\\giano\\Anaconda3\\envs\\voda\\lib\\site-packages\\sklearn\\preprocessing\\label.py:151: DeprecationWarning: The truth value of an empty array is ambiguous. Returning False, but in future this will result in an error. Use `array.size > 0` to check that an array is not empty.\n",
      "  if diff:\n"
     ]
    },
    {
     "name": "stdout",
     "output_type": "stream",
     "text": [
      "\n",
      "Model Report\n",
      "Accuracy : 0.9202\n",
      "f1_micro : 0.9202\n",
      "f1_macro : 0.8973\n",
      "f1_weighted : 0.9184\n"
     ]
    },
    {
     "data": {
      "image/png": "[encoded data removed]",
      "text/plain": [
       "<Figure size 432x288 with 1 Axes>"
      ]
     },
     "metadata": {},
     "output_type": "display_data"
    },
    {
     "name": "stdout",
     "output_type": "stream",
     "text": [
      "Feature_Importances: \n",
      "Index(['CustomerExpatriate', 'DeviceFlagSmartphone', 'MonthlySMSTrafficCount',\n",
      "       'DataArpu', 'DeviceFlag4G', 'Region', 'MonthlyVoiceTrafficCount',\n",
      "       'ParkingConnectionsCount', 'CustomerAge', 'Games',\n",
      "       'Instant-Messaging-Applications', 'Security', 'P2P-Applications',\n",
      "       'Unclassified', 'Terminals', 'VoIP', 'File-Transfer',\n",
      "       'Network-Operation', 'IsModified', 'Mail', 'Music-Streaming',\n",
      "       'StationConnectionsCount', 'AirportConnectionsCount', 'ID',\n",
      "       'ChurnScore', 'ParkingConnectionsDuration',\n",
      "       'StationConnectionsDuration', 'DataAllowanceContinuous'],\n",
      "      dtype='object')\n",
      "Model: {'base_score': 0.5, 'booster': 'gbtree', 'colsample_bylevel': 1, 'colsample_bytree': 0.8, 'gamma': 0.3, 'learning_rate': 0.1, 'max_delta_step': 0, 'max_depth': 10, 'min_child_weight': 0, 'missing': None, 'n_estimators': 36, 'nthread': 4, 'objective': 'multi:softprob', 'reg_alpha': 0, 'reg_lambda': 1, 'scale_pos_weight': 1, 'seed': 27, 'silent': 1, 'subsample': 0.8, 'num_class': 4}\n",
      "n_estimator: 36\n"
     ]
    }
   ],
   "source": [
    "predictors = [x for x in train.columns if x not in [target, IDcol]]\n",
    "xgb2 = XGBClassifier(\n",
    "        learning_rate =learning_rate,\n",
    "        n_estimators=1000,\n",
    "        max_depth=max_depth,\n",
    "        min_child_weight=min_child_weight,\n",
    "        gamma=gamma,\n",
    "        subsample=subsample,\n",
    "        colsample_bytree=colsample_bytree,\n",
    "        objective='multi:softprob', \n",
    "        num_class=4,\n",
    "        nthread=4,\n",
    "        scale_pos_weight=1,\n",
    "        seed=27)\n",
    "n_estimators = modelfit(xgb2, train, predictors,28)"
   ]
  },
  {
   "cell_type": "markdown",
   "metadata": {},
   "source": [
    "# Tune subsample and colsample_bytree"
   ]
  },
  {
   "cell_type": "code",
   "execution_count": 22,
   "metadata": {},
   "outputs": [
    {
     "name": "stdout",
     "output_type": "stream",
     "text": [
      "Fitting 5 folds for each of 16 candidates, totalling 80 fits\n"
     ]
    },
    {
     "name": "stderr",
     "output_type": "stream",
     "text": [
      "[Parallel(n_jobs=4)]: Done  42 tasks      | elapsed:   47.4s\n",
      "[Parallel(n_jobs=4)]: Done  80 out of  80 | elapsed:  1.6min finished\n",
      "C:\\Users\\giano\\Anaconda3\\envs\\voda\\lib\\site-packages\\sklearn\\model_selection\\_search.py:761: DeprecationWarning: The grid_scores_ attribute was deprecated in version 0.18 in favor of the more elaborate cv_results_ attribute. The grid_scores_ attribute will not be available from 0.20\n",
      "  DeprecationWarning)\n"
     ]
    },
    {
     "data": {
      "text/plain": [
       "([mean: 0.59245, std: 0.00805, params: {'colsample_bytree': 0.6, 'subsample': 0.6},\n",
       "  mean: 0.59423, std: 0.00740, params: {'colsample_bytree': 0.6, 'subsample': 0.7},\n",
       "  mean: 0.59433, std: 0.00527, params: {'colsample_bytree': 0.6, 'subsample': 0.8},\n",
       "  mean: 0.59663, std: 0.00735, params: {'colsample_bytree': 0.6, 'subsample': 0.9},\n",
       "  mean: 0.58984, std: 0.00980, params: {'colsample_bytree': 0.7, 'subsample': 0.6},\n",
       "  mean: 0.59590, std: 0.00859, params: {'colsample_bytree': 0.7, 'subsample': 0.7},\n",
       "  mean: 0.59486, std: 0.00607, params: {'colsample_bytree': 0.7, 'subsample': 0.8},\n",
       "  mean: 0.59590, std: 0.00908, params: {'colsample_bytree': 0.7, 'subsample': 0.9},\n",
       "  mean: 0.59632, std: 0.00882, params: {'colsample_bytree': 0.8, 'subsample': 0.6},\n",
       "  mean: 0.59768, std: 0.01030, params: {'colsample_bytree': 0.8, 'subsample': 0.7},\n",
       "  mean: 0.59883, std: 0.00942, params: {'colsample_bytree': 0.8, 'subsample': 0.8},\n",
       "  mean: 0.59925, std: 0.00737, params: {'colsample_bytree': 0.8, 'subsample': 0.9},\n",
       "  mean: 0.59737, std: 0.00807, params: {'colsample_bytree': 0.9, 'subsample': 0.6},\n",
       "  mean: 0.59695, std: 0.01064, params: {'colsample_bytree': 0.9, 'subsample': 0.7},\n",
       "  mean: 0.59674, std: 0.00762, params: {'colsample_bytree': 0.9, 'subsample': 0.8},\n",
       "  mean: 0.59663, std: 0.00662, params: {'colsample_bytree': 0.9, 'subsample': 0.9}],\n",
       " {'colsample_bytree': 0.8, 'subsample': 0.9},\n",
       " 0.5992470371743911)"
      ]
     },
     "execution_count": 22,
     "metadata": {},
     "output_type": "execute_result"
    }
   ],
   "source": [
    "#Grid seach on subsample and max_features\n",
    "#Choose all predictors except target & IDcols\n",
    "param_test4 = {\n",
    "    'subsample':[i/10.0 for i in range(6,10)],\n",
    "    'colsample_bytree':[i/10.0 for i in range(6,10)]\n",
    "}\n",
    "gsearch4 = GridSearchCV(estimator = XGBClassifier( learning_rate =learning_rate, n_estimators=n_estimators, max_depth=max_depth,\n",
    "                                        min_child_weight=min_child_weight, gamma=gamma, subsample=subsample, colsample_bytree=colsample_bytree,\n",
    "                                        objective='multi:softprob', num_class=4, nthread=4, scale_pos_weight=1,seed=27), \n",
    "                       param_grid = param_test4, scoring='f1_micro',n_jobs=4,iid=False, cv=cv, verbose=1)\n",
    "gsearch4.fit(train[predictors],train[target])\n",
    "gsearch4.grid_scores_, gsearch4.best_params_, gsearch4.best_score_"
   ]
  },
  {
   "cell_type": "code",
   "execution_count": 23,
   "metadata": {},
   "outputs": [
    {
     "data": {
      "text/plain": [
       "(0.9, 0.8)"
      ]
     },
     "execution_count": 23,
     "metadata": {},
     "output_type": "execute_result"
    }
   ],
   "source": [
    "subsample = gsearch4.best_params_['subsample']\n",
    "colsample_bytree = gsearch4.best_params_['colsample_bytree']\n",
    "subsample,colsample_bytree"
   ]
  },
  {
   "cell_type": "code",
   "execution_count": 24,
   "metadata": {},
   "outputs": [
    {
     "name": "stdout",
     "output_type": "stream",
     "text": [
      "Fitting 5 folds for each of 4 candidates, totalling 20 fits\n"
     ]
    },
    {
     "name": "stderr",
     "output_type": "stream",
     "text": [
      "[Parallel(n_jobs=4)]: Done  20 out of  20 | elapsed:   24.7s finished\n",
      "C:\\Users\\giano\\Anaconda3\\envs\\voda\\lib\\site-packages\\sklearn\\model_selection\\_search.py:761: DeprecationWarning: The grid_scores_ attribute was deprecated in version 0.18 in favor of the more elaborate cv_results_ attribute. The grid_scores_ attribute will not be available from 0.20\n",
      "  DeprecationWarning)\n"
     ]
    },
    {
     "data": {
      "text/plain": [
       "([mean: 0.59486, std: 0.00567, params: {'colsample_bytree': 0.75, 'subsample': 0.85},\n",
       "  mean: 0.59433, std: 0.00759, params: {'colsample_bytree': 0.75, 'subsample': 0.9},\n",
       "  mean: 0.59277, std: 0.00833, params: {'colsample_bytree': 0.8, 'subsample': 0.85},\n",
       "  mean: 0.59925, std: 0.00737, params: {'colsample_bytree': 0.8, 'subsample': 0.9}],\n",
       " {'colsample_bytree': 0.8, 'subsample': 0.9},\n",
       " 0.5992470371743911)"
      ]
     },
     "execution_count": 24,
     "metadata": {},
     "output_type": "execute_result"
    }
   ],
   "source": [
    "#Grid seach on subsample and max_features\n",
    "#Choose all predictors except target & IDcols\n",
    "param_test5 = {\n",
    "    'subsample':[i/100.0 for i in range(int(subsample*100-5),int(subsample*100+5),5)],\n",
    "    'colsample_bytree':[i/100.0 for i in range(int(colsample_bytree*100-5),int(colsample_bytree*100+5),5)]\n",
    "}\n",
    "gsearch5 = GridSearchCV(estimator = XGBClassifier( learning_rate =learning_rate, n_estimators=n_estimators, max_depth=max_depth,\n",
    "                                        min_child_weight=min_child_weight, gamma=gamma, subsample=subsample, colsample_bytree=colsample_bytree,\n",
    "                                        objective='multi:softprob', num_class=4, nthread=4, scale_pos_weight=1,seed=27), \n",
    "                       param_grid = param_test5, scoring='f1_micro',n_jobs=4,iid=False, cv=cv, verbose=1)\n",
    "gsearch5.fit(train[predictors],train[target])\n",
    "gsearch5.grid_scores_, gsearch5.best_params_, gsearch5.best_score_"
   ]
  },
  {
   "cell_type": "code",
   "execution_count": 25,
   "metadata": {},
   "outputs": [
    {
     "data": {
      "text/plain": [
       "(0.9, 0.8)"
      ]
     },
     "execution_count": 25,
     "metadata": {},
     "output_type": "execute_result"
    }
   ],
   "source": [
    "subsample = gsearch5.best_params_['subsample']\n",
    "colsample_bytree = gsearch5.best_params_['colsample_bytree']\n",
    "subsample,colsample_bytree"
   ]
  },
  {
   "cell_type": "markdown",
   "metadata": {},
   "source": [
    "# regularization:"
   ]
  },
  {
   "cell_type": "code",
   "execution_count": 26,
   "metadata": {},
   "outputs": [
    {
     "name": "stdout",
     "output_type": "stream",
     "text": [
      "Fitting 5 folds for each of 5 candidates, totalling 25 fits\n"
     ]
    },
    {
     "name": "stderr",
     "output_type": "stream",
     "text": [
      "[Parallel(n_jobs=4)]: Done  25 out of  25 | elapsed:   32.5s finished\n",
      "C:\\Users\\giano\\Anaconda3\\envs\\voda\\lib\\site-packages\\sklearn\\model_selection\\_search.py:761: DeprecationWarning: The grid_scores_ attribute was deprecated in version 0.18 in favor of the more elaborate cv_results_ attribute. The grid_scores_ attribute will not be available from 0.20\n",
      "  DeprecationWarning)\n"
     ]
    },
    {
     "data": {
      "text/plain": [
       "([mean: 0.59747, std: 0.00939, params: {'reg_alpha': 1e-05},\n",
       "  mean: 0.59538, std: 0.00656, params: {'reg_alpha': 0.01},\n",
       "  mean: 0.59528, std: 0.00589, params: {'reg_alpha': 0.1},\n",
       "  mean: 0.59559, std: 0.00804, params: {'reg_alpha': 1},\n",
       "  mean: 0.56329, std: 0.00154, params: {'reg_alpha': 100}],\n",
       " {'reg_alpha': 1e-05},\n",
       " 0.5974697240536384)"
      ]
     },
     "execution_count": 26,
     "metadata": {},
     "output_type": "execute_result"
    }
   ],
   "source": [
    "#Grid seach on subsample and max_features\n",
    "#Choose all predictors except target & IDcols\n",
    "param_test6 = {\n",
    "    'reg_alpha':[1e-5, 1e-2, 0.1, 1, 100]\n",
    "}\n",
    "gsearch6 = GridSearchCV(estimator = XGBClassifier( learning_rate =learning_rate, n_estimators=n_estimators, max_depth=max_depth,\n",
    "                                        min_child_weight=min_child_weight, gamma=gamma, subsample=subsample, colsample_bytree=colsample_bytree,\n",
    "                                        objective='multi:softprob', num_class=4, nthread=4, scale_pos_weight=1,seed=27), \n",
    "                       param_grid = param_test6, scoring='f1_micro',n_jobs=4,iid=False, cv=cv, verbose=1)\n",
    "gsearch6.fit(train[predictors],train[target])\n",
    "gsearch6.grid_scores_, gsearch6.best_params_, gsearch6.best_score_"
   ]
  },
  {
   "cell_type": "code",
   "execution_count": 27,
   "metadata": {},
   "outputs": [
    {
     "data": {
      "text/plain": [
       "1e-05"
      ]
     },
     "execution_count": 27,
     "metadata": {},
     "output_type": "execute_result"
    }
   ],
   "source": [
    "reg_alpha = gsearch6.best_params_['reg_alpha']\n",
    "reg_alpha"
   ]
  },
  {
   "cell_type": "code",
   "execution_count": 28,
   "metadata": {},
   "outputs": [
    {
     "name": "stdout",
     "output_type": "stream",
     "text": [
      "Fitting 5 folds for each of 5 candidates, totalling 25 fits\n"
     ]
    },
    {
     "name": "stderr",
     "output_type": "stream",
     "text": [
      "[Parallel(n_jobs=4)]: Done  25 out of  25 | elapsed:   36.3s finished\n",
      "C:\\Users\\giano\\Anaconda3\\envs\\voda\\lib\\site-packages\\sklearn\\model_selection\\_search.py:761: DeprecationWarning: The grid_scores_ attribute was deprecated in version 0.18 in favor of the more elaborate cv_results_ attribute. The grid_scores_ attribute will not be available from 0.20\n",
      "  DeprecationWarning)\n"
     ]
    },
    {
     "data": {
      "text/plain": [
       "([mean: 0.59925, std: 0.00737, params: {'reg_alpha': 0},\n",
       "  mean: 0.59538, std: 0.00656, params: {'reg_alpha': 0.01},\n",
       "  mean: 0.59611, std: 0.00503, params: {'reg_alpha': 0.05},\n",
       "  mean: 0.59528, std: 0.00589, params: {'reg_alpha': 0.1},\n",
       "  mean: 0.59653, std: 0.00665, params: {'reg_alpha': 0.5}],\n",
       " {'reg_alpha': 0},\n",
       " 0.5992470371743911)"
      ]
     },
     "execution_count": 28,
     "metadata": {},
     "output_type": "execute_result"
    }
   ],
   "source": [
    "#Grid seach on subsample and max_features\n",
    "#Choose all predictors except target & IDcols\n",
    "param_test7 = {\n",
    "    'reg_alpha':[0, 0.01, 0.05, 0.1, 0.5]\n",
    "}\n",
    "gsearch7 = GridSearchCV(estimator = XGBClassifier( learning_rate =learning_rate, n_estimators=n_estimators, max_depth=max_depth,\n",
    "                                        min_child_weight=min_child_weight, gamma=gamma, subsample=subsample, colsample_bytree=colsample_bytree,\n",
    "                                        objective='multi:softprob', num_class=4, nthread=4, scale_pos_weight=1,seed=27), \n",
    "                       param_grid = param_test7, scoring='f1_micro',n_jobs=4,iid=False, cv=cv,verbose=1)\n",
    "gsearch7.fit(train[predictors],train[target])\n",
    "gsearch7.grid_scores_, gsearch7.best_params_, gsearch7.best_score_"
   ]
  },
  {
   "cell_type": "code",
   "execution_count": 29,
   "metadata": {},
   "outputs": [
    {
     "data": {
      "text/plain": [
       "0"
      ]
     },
     "execution_count": 29,
     "metadata": {},
     "output_type": "execute_result"
    }
   ],
   "source": [
    "reg_alpha = gsearch7.best_params_['reg_alpha']\n",
    "reg_alpha"
   ]
  },
  {
   "cell_type": "code",
   "execution_count": 30,
   "metadata": {
    "scrolled": true
   },
   "outputs": [
    {
     "name": "stdout",
     "output_type": "stream",
     "text": [
      "[0]\ttrain-merror:0.244852+0.00603173\ttrain-mlogloss:1.29803+0.00129218\ttest-merror:0.449464+0.0124691\ttest-mlogloss:1.33182+0.00146999\n",
      "[1]\ttrain-merror:0.202414+0.0056694\ttrain-mlogloss:1.21961+0.00197687\ttest-merror:0.424794+0.00728837\ttest-mlogloss:1.28485+0.00323369\n",
      "[2]\ttrain-merror:0.18279+0.00447485\ttrain-mlogloss:1.14947+0.00267341\ttest-merror:0.415805+0.00824254\ttest-mlogloss:1.24629+0.00460424\n",
      "[3]\ttrain-merror:0.173513+0.00545254\ttrain-mlogloss:1.08828+0.00335346\ttest-merror:0.412147+0.00802537\ttest-mlogloss:1.21415+0.00505242\n",
      "[4]\ttrain-merror:0.166144+0.00308549\ttrain-mlogloss:1.03229+0.00295399\ttest-merror:0.410996+0.00897995\ttest-mlogloss:1.1862+0.00585422\n",
      "[5]\ttrain-merror:0.159428+0.00231089\ttrain-mlogloss:0.982445+0.00341069\ttest-merror:0.406711+0.0079314\ttest-mlogloss:1.16146+0.00672129\n",
      "[6]\ttrain-merror:0.15253+0.00436408\ttrain-mlogloss:0.936357+0.00367711\ttest-merror:0.404517+0.00571931\ttest-mlogloss:1.13955+0.00749324\n",
      "[7]\ttrain-merror:0.146075+0.00263801\ttrain-mlogloss:0.894087+0.00307805\ttest-merror:0.405352+0.00520413\ttest-mlogloss:1.12088+0.0075838\n",
      "[8]\ttrain-merror:0.141763+0.00251668\ttrain-mlogloss:0.855457+0.00300522\ttest-merror:0.405143+0.00738121\ttest-mlogloss:1.10498+0.00812949\n",
      "[9]\ttrain-merror:0.137242+0.00293294\ttrain-mlogloss:0.819827+0.00397563\ttest-merror:0.404099+0.00857441\ttest-mlogloss:1.09085+0.00900607\n",
      "[10]\ttrain-merror:0.132721+0.002831\ttrain-mlogloss:0.78689+0.00435881\ttest-merror:0.403576+0.00617657\ttest-mlogloss:1.07819+0.00894961\n",
      "[11]\ttrain-merror:0.12922+0.00273532\ttrain-mlogloss:0.755864+0.00515385\ttest-merror:0.403367+0.00595507\ttest-mlogloss:1.06669+0.00908855\n",
      "[12]\ttrain-merror:0.123706+0.00329891\ttrain-mlogloss:0.726375+0.00535819\ttest-merror:0.401903+0.00406341\ttest-mlogloss:1.05692+0.00950991\n",
      "[13]\ttrain-merror:0.120126+0.00288121\ttrain-mlogloss:0.69996+0.00520304\ttest-merror:0.402216+0.00566851\ttest-mlogloss:1.04819+0.0102681\n",
      "[14]\ttrain-merror:0.115057+0.00236167\ttrain-mlogloss:0.674195+0.00542186\ttest-merror:0.40253+0.00557018\ttest-mlogloss:1.04083+0.00978969\n",
      "[15]\ttrain-merror:0.110928+0.00302803\ttrain-mlogloss:0.65089+0.0054406\ttest-merror:0.400649+0.00560631\ttest-mlogloss:1.03416+0.0100081\n",
      "[16]\ttrain-merror:0.107165+0.00307454\ttrain-mlogloss:0.629334+0.00556348\ttest-merror:0.402112+0.00718124\ttest-mlogloss:1.02827+0.00999579\n",
      "[17]\ttrain-merror:0.103428+0.00232929\ttrain-mlogloss:0.608234+0.00561159\ttest-merror:0.402216+0.00692207\ttest-mlogloss:1.02345+0.0101928\n",
      "[18]\ttrain-merror:0.099953+0.00295835\ttrain-mlogloss:0.588165+0.00575311\ttest-merror:0.402111+0.00789572\ttest-mlogloss:1.01778+0.00996824\n",
      "[19]\ttrain-merror:0.0964776+0.00321778\ttrain-mlogloss:0.569897+0.00625621\ttest-merror:0.402321+0.0083373\ttest-mlogloss:1.01393+0.0104\n",
      "[20]\ttrain-merror:0.0924794+0.00338254\ttrain-mlogloss:0.552698+0.00652724\ttest-merror:0.401589+0.00636636\ttest-mlogloss:1.01066+0.0106283\n",
      "[21]\ttrain-merror:0.0891606+0.00317915\ttrain-mlogloss:0.535907+0.00643688\ttest-merror:0.402634+0.0069458\ttest-mlogloss:1.0074+0.0106914\n",
      "[22]\ttrain-merror:0.0862078+0.00334088\ttrain-mlogloss:0.520489+0.00655149\ttest-merror:0.401066+0.00683132\ttest-mlogloss:1.00488+0.0108571\n",
      "[23]\ttrain-merror:0.0833856+0.00341881\ttrain-mlogloss:0.506172+0.00703324\ttest-merror:0.402634+0.00634402\ttest-mlogloss:1.00281+0.0110092\n",
      "[24]\ttrain-merror:0.0809556+0.00293711\ttrain-mlogloss:0.491917+0.00663368\ttest-merror:0.401171+0.00605988\ttest-mlogloss:1.00051+0.0113909\n",
      "[25]\ttrain-merror:0.078342+0.00330766\ttrain-mlogloss:0.479594+0.00698142\ttest-merror:0.402425+0.00635148\ttest-mlogloss:0.998806+0.0115921\n",
      "[26]\ttrain-merror:0.075755+0.00410218\ttrain-mlogloss:0.467741+0.00758926\ttest-merror:0.403157+0.00638549\ttest-mlogloss:0.997662+0.0118861\n",
      "[27]\ttrain-merror:0.0730374+0.00419422\ttrain-mlogloss:0.455692+0.00731783\ttest-merror:0.402948+0.0071637\ttest-mlogloss:0.99638+0.0117712\n",
      "[28]\ttrain-merror:0.0710254+0.00406802\ttrain-mlogloss:0.444924+0.00770836\ttest-merror:0.403157+0.00651919\ttest-mlogloss:0.995291+0.0119257\n",
      "[29]\ttrain-merror:0.0689088+0.00372639\ttrain-mlogloss:0.434469+0.0076892\ttest-merror:0.402112+0.00665171\ttest-mlogloss:0.994277+0.0120361\n",
      "[30]\ttrain-merror:0.0666092+0.00373879\ttrain-mlogloss:0.424435+0.00761064\ttest-merror:0.402426+0.00750182\ttest-mlogloss:0.993371+0.0125279\n",
      "[31]\ttrain-merror:0.0643618+0.00401038\ttrain-mlogloss:0.4149+0.00767119\ttest-merror:0.402007+0.00600619\ttest-mlogloss:0.992936+0.0129028\n",
      "[32]\ttrain-merror:0.0618006+0.00401\ttrain-mlogloss:0.405417+0.00839831\ttest-merror:0.400544+0.00631238\ttest-mlogloss:0.992448+0.012961\n",
      "[33]\ttrain-merror:0.0604682+0.0039096\ttrain-mlogloss:0.396961+0.00846726\ttest-merror:0.399917+0.00642212\ttest-mlogloss:0.992011+0.0136961\n",
      "[34]\ttrain-merror:0.0587696+0.00379422\ttrain-mlogloss:0.388651+0.0075707\ttest-merror:0.400962+0.00631739\ttest-mlogloss:0.991499+0.0137747\n",
      "[35]\ttrain-merror:0.057071+0.00348622\ttrain-mlogloss:0.381532+0.0078714\ttest-merror:0.401694+0.00572537\ttest-mlogloss:0.991476+0.0140591\n",
      "[36]\ttrain-merror:0.0557122+0.00371357\ttrain-mlogloss:0.373845+0.00752747\ttest-merror:0.402425+0.00600606\ttest-mlogloss:0.991532+0.01422\n",
      "[37]\ttrain-merror:0.0540136+0.00369955\ttrain-mlogloss:0.366018+0.00722892\ttest-merror:0.40253+0.0063932\ttest-mlogloss:0.990967+0.0146579\n",
      "[38]\ttrain-merror:0.0530206+0.00381025\ttrain-mlogloss:0.359706+0.00675822\ttest-merror:0.400858+0.00617624\ttest-mlogloss:0.990904+0.014905\n",
      "[39]\ttrain-merror:0.0515836+0.00359234\ttrain-mlogloss:0.353498+0.00648205\ttest-merror:0.401171+0.00641669\ttest-mlogloss:0.99114+0.0150142\n",
      "[40]\ttrain-merror:0.0503554+0.00354383\ttrain-mlogloss:0.347857+0.00673063\ttest-merror:0.40138+0.00783334\ttest-mlogloss:0.991141+0.0150458\n",
      "[41]\ttrain-merror:0.0487874+0.00349933\ttrain-mlogloss:0.341823+0.00638282\ttest-merror:0.400962+0.00722191\ttest-mlogloss:0.991523+0.0152251\n",
      "[42]\ttrain-merror:0.0478988+0.00358994\ttrain-mlogloss:0.336439+0.00680889\ttest-merror:0.401171+0.00769768\ttest-mlogloss:0.991772+0.0153479\n",
      "[43]\ttrain-merror:0.0468014+0.0030223\ttrain-mlogloss:0.33064+0.00682614\ttest-merror:0.401171+0.00794043\ttest-mlogloss:0.991992+0.0153828\n",
      "[44]\ttrain-merror:0.0457822+0.00290691\ttrain-mlogloss:0.325628+0.00689821\ttest-merror:0.402216+0.00668877\ttest-mlogloss:0.992414+0.0155015\n",
      "[45]\ttrain-merror:0.0448416+0.00295718\ttrain-mlogloss:0.320904+0.00714489\ttest-merror:0.40138+0.00829788\ttest-mlogloss:0.992527+0.0159161\n",
      "[46]\ttrain-merror:0.043718+0.00286334\ttrain-mlogloss:0.315815+0.00707312\ttest-merror:0.402008+0.00758484\ttest-mlogloss:0.992921+0.0158533\n",
      "[47]\ttrain-merror:0.042699+0.0026111\ttrain-mlogloss:0.311257+0.00650178\ttest-merror:0.401172+0.00887237\ttest-mlogloss:0.993318+0.0159457\n",
      "[48]\ttrain-merror:0.0418104+0.00259625\ttrain-mlogloss:0.307065+0.00656164\ttest-merror:0.399917+0.00864475\ttest-mlogloss:0.993236+0.0159853\n",
      "[49]\ttrain-merror:0.041523+0.00251933\ttrain-mlogloss:0.30336+0.00668381\ttest-merror:0.400962+0.00863536\ttest-mlogloss:0.993529+0.0159103\n",
      "[50]\ttrain-merror:0.0406866+0.00254129\ttrain-mlogloss:0.299463+0.00666807\ttest-merror:0.401484+0.00887601\ttest-mlogloss:0.994024+0.0161829\n",
      "[51]\ttrain-merror:0.0398764+0.00296873\ttrain-mlogloss:0.295171+0.00662769\ttest-merror:0.402112+0.00799711\ttest-mlogloss:0.994315+0.0162159\n",
      "[52]\ttrain-merror:0.0392494+0.00282379\ttrain-mlogloss:0.291492+0.00674839\ttest-merror:0.401485+0.00650867\ttest-mlogloss:0.994547+0.0163437\n",
      "[53]\ttrain-merror:0.0386484+0.00299472\ttrain-mlogloss:0.287812+0.00691917\ttest-merror:0.40253+0.00751834\ttest-mlogloss:0.995005+0.0163095\n",
      "[54]\ttrain-merror:0.0380996+0.00285387\ttrain-mlogloss:0.28463+0.00687274\ttest-merror:0.40253+0.00769237\ttest-mlogloss:0.995415+0.0166854\n",
      "[55]\ttrain-merror:0.0374986+0.00285542\ttrain-mlogloss:0.281308+0.00693177\ttest-merror:0.402321+0.00704218\ttest-mlogloss:0.995818+0.0168355\n",
      "[56]\ttrain-merror:0.0365842+0.00264202\ttrain-mlogloss:0.277449+0.00669455\ttest-merror:0.402216+0.00665424\ttest-mlogloss:0.996175+0.0168296\n",
      "[57]\ttrain-merror:0.0358524+0.00231975\ttrain-mlogloss:0.273792+0.00597482\ttest-merror:0.401903+0.00675558\ttest-mlogloss:0.996662+0.0168664\n",
      "[58]\ttrain-merror:0.0353038+0.00220023\ttrain-mlogloss:0.270415+0.00575858\ttest-merror:0.401798+0.00685245\ttest-mlogloss:0.997095+0.01679\n",
      "[59]\ttrain-merror:0.0344152+0.00249864\ttrain-mlogloss:0.266933+0.00608093\ttest-merror:0.401903+0.00672174\ttest-mlogloss:0.997551+0.017096\n"
     ]
    },
    {
     "name": "stdout",
     "output_type": "stream",
     "text": [
      "[60]\ttrain-merror:0.0339188+0.00228127\ttrain-mlogloss:0.264153+0.00586553\ttest-merror:0.402112+0.0069637\ttest-mlogloss:0.998111+0.0170357\n",
      "[61]\ttrain-merror:0.0335266+0.00201948\ttrain-mlogloss:0.261105+0.00599685\ttest-merror:0.401694+0.00692421\ttest-mlogloss:0.998512+0.0169069\n",
      "[62]\ttrain-merror:0.0332654+0.00193469\ttrain-mlogloss:0.258509+0.00611917\ttest-merror:0.400544+0.00636273\ttest-mlogloss:0.999048+0.0171897\n",
      "[63]\ttrain-merror:0.032586+0.00211563\ttrain-mlogloss:0.255582+0.0060053\ttest-merror:0.401381+0.00624214\ttest-mlogloss:0.999534+0.0172904\n",
      "[64]\ttrain-merror:0.0319588+0.00192297\ttrain-mlogloss:0.252707+0.00535253\ttest-merror:0.401172+0.00664325\ttest-mlogloss:1.00012+0.0174064\n",
      "[65]\ttrain-merror:0.0315408+0.00192624\ttrain-mlogloss:0.250003+0.00519504\ttest-merror:0.400858+0.00645553\ttest-mlogloss:1.00052+0.0174693\n",
      "[66]\ttrain-merror:0.030992+0.0019169\ttrain-mlogloss:0.247353+0.00518884\ttest-merror:0.400963+0.00703295\ttest-mlogloss:1.00106+0.0176254\n",
      "[67]\ttrain-merror:0.0304692+0.00195033\ttrain-mlogloss:0.244803+0.00533622\ttest-merror:0.401276+0.00734063\ttest-mlogloss:1.00168+0.017745\n",
      "[68]\ttrain-merror:0.0298944+0.00163442\ttrain-mlogloss:0.241739+0.00511284\ttest-merror:0.401067+0.00770801\ttest-mlogloss:1.00245+0.0178108\n",
      "[69]\ttrain-merror:0.0294238+0.00154397\ttrain-mlogloss:0.239333+0.00473029\ttest-merror:0.402112+0.00683408\ttest-mlogloss:1.00288+0.0180117\n",
      "[70]\ttrain-merror:0.0289016+0.00153739\ttrain-mlogloss:0.236739+0.00442941\ttest-merror:0.401589+0.00662139\ttest-mlogloss:1.00332+0.0180988\n",
      "[71]\ttrain-merror:0.0286404+0.00131197\ttrain-mlogloss:0.234285+0.00464735\ttest-merror:0.401589+0.00719593\ttest-mlogloss:1.00416+0.0180545\n",
      "[72]\ttrain-merror:0.0283006+0.00129155\ttrain-mlogloss:0.231795+0.00487298\ttest-merror:0.401589+0.00710379\ttest-mlogloss:1.00484+0.0181496\n",
      "[73]\ttrain-merror:0.0278826+0.00157028\ttrain-mlogloss:0.22952+0.00510189\ttest-merror:0.400649+0.00721475\ttest-mlogloss:1.00552+0.0182366\n",
      "[74]\ttrain-merror:0.0273858+0.00143882\ttrain-mlogloss:0.227377+0.00509303\ttest-merror:0.400544+0.00644076\ttest-mlogloss:1.00609+0.0182272\n",
      "[75]\ttrain-merror:0.02702+0.00149461\ttrain-mlogloss:0.225217+0.00542996\ttest-merror:0.400962+0.00698465\ttest-mlogloss:1.00692+0.0183295\n",
      "[76]\ttrain-merror:0.0265234+0.00141405\ttrain-mlogloss:0.222732+0.00532333\ttest-merror:0.400126+0.00701034\ttest-mlogloss:1.00746+0.0182421\n",
      "[77]\ttrain-merror:0.026001+0.00131673\ttrain-mlogloss:0.220623+0.0051177\ttest-merror:0.400126+0.00723057\ttest-mlogloss:1.00773+0.0184171\n",
      "[78]\ttrain-merror:0.025818+0.00125471\ttrain-mlogloss:0.218101+0.00498163\ttest-merror:0.399812+0.00646433\ttest-mlogloss:1.00823+0.0184531\n",
      "[79]\ttrain-merror:0.0255044+0.00141063\ttrain-mlogloss:0.216359+0.00489842\ttest-merror:0.399394+0.00727955\ttest-mlogloss:1.00874+0.0184794\n",
      "[80]\ttrain-merror:0.0250078+0.00121327\ttrain-mlogloss:0.214153+0.00491976\ttest-merror:0.399603+0.00842785\ttest-mlogloss:1.00919+0.0183651\n",
      "[81]\ttrain-merror:0.0245112+0.00149098\ttrain-mlogloss:0.212172+0.00459306\ttest-merror:0.400335+0.00837933\ttest-mlogloss:1.00991+0.0183146\n",
      "[82]\ttrain-merror:0.0242504+0.00141115\ttrain-mlogloss:0.210314+0.00460303\ttest-merror:0.40023+0.00861328\ttest-mlogloss:1.01026+0.0184451\n",
      "[83]\ttrain-merror:0.0238842+0.00154472\ttrain-mlogloss:0.208285+0.00470533\ttest-merror:0.400544+0.00816961\ttest-mlogloss:1.01085+0.0185246\n",
      "[84]\ttrain-merror:0.0234662+0.00135443\ttrain-mlogloss:0.206494+0.00453698\ttest-merror:0.400544+0.00739026\ttest-mlogloss:1.01147+0.0185032\n",
      "[85]\ttrain-merror:0.0231526+0.00139155\ttrain-mlogloss:0.204554+0.0042849\ttest-merror:0.400753+0.00736378\ttest-mlogloss:1.012+0.01874\n",
      "[86]\ttrain-merror:0.023022+0.00155384\ttrain-mlogloss:0.202668+0.00416766\ttest-merror:0.400858+0.00679508\ttest-mlogloss:1.01265+0.0186191\n",
      "[87]\ttrain-merror:0.0227866+0.00141632\ttrain-mlogloss:0.201105+0.00417263\ttest-merror:0.401276+0.00765016\ttest-mlogloss:1.01312+0.0183596\n",
      "[88]\ttrain-merror:0.0225514+0.0012252\ttrain-mlogloss:0.199193+0.0038535\ttest-merror:0.40138+0.00723766\ttest-mlogloss:1.01372+0.0183516\n",
      "[89]\ttrain-merror:0.0223686+0.00123559\ttrain-mlogloss:0.197595+0.00381405\ttest-merror:0.400439+0.00692309\ttest-mlogloss:1.01429+0.0184327\n",
      "[90]\ttrain-merror:0.0221596+0.00118802\ttrain-mlogloss:0.19617+0.00399405\ttest-merror:0.400753+0.00690912\ttest-mlogloss:1.0148+0.0182831\n",
      "[91]\ttrain-merror:0.0219244+0.00132603\ttrain-mlogloss:0.194267+0.00380769\ttest-merror:0.400022+0.00744556\ttest-mlogloss:1.01547+0.0183998\n",
      "[92]\ttrain-merror:0.0217414+0.00119099\ttrain-mlogloss:0.19268+0.0039733\ttest-merror:0.400126+0.00725033\ttest-mlogloss:1.01626+0.0184305\n",
      "[93]\ttrain-merror:0.0215586+0.00116931\ttrain-mlogloss:0.191042+0.00398204\ttest-merror:0.400021+0.00746333\ttest-mlogloss:1.0167+0.0184887\n",
      "[94]\ttrain-merror:0.0213234+0.00112286\ttrain-mlogloss:0.189379+0.00396295\ttest-merror:0.400962+0.00633601\ttest-mlogloss:1.01714+0.0186864\n",
      "[95]\ttrain-merror:0.0209052+0.000901632\ttrain-mlogloss:0.187834+0.003871\ttest-merror:0.400858+0.00717179\ttest-mlogloss:1.01803+0.0186537\n",
      "[96]\ttrain-merror:0.020853+0.000892853\ttrain-mlogloss:0.18641+0.00388071\ttest-merror:0.400858+0.0071048\ttest-mlogloss:1.01846+0.0187202\n",
      "[97]\ttrain-merror:0.0205394+0.00106937\ttrain-mlogloss:0.185015+0.0040909\ttest-merror:0.400858+0.00746733\ttest-mlogloss:1.019+0.0190505\n",
      "[98]\ttrain-merror:0.0203564+0.00103692\ttrain-mlogloss:0.183714+0.00430558\ttest-merror:0.401067+0.00678975\ttest-mlogloss:1.01969+0.0193411\n",
      "[99]\ttrain-merror:0.0200166+0.00098626\ttrain-mlogloss:0.182299+0.00439324\ttest-merror:0.40044+0.00667629\ttest-mlogloss:1.02055+0.0194979\n",
      "[100]\ttrain-merror:0.019703+0.00119575\ttrain-mlogloss:0.180557+0.00433768\ttest-merror:0.401276+0.00724279\ttest-mlogloss:1.02121+0.0196198\n",
      "[101]\ttrain-merror:0.019546+0.00130046\ttrain-mlogloss:0.179104+0.00422951\ttest-merror:0.401276+0.00704985\ttest-mlogloss:1.02198+0.0197359\n",
      "[102]\ttrain-merror:0.019285+0.00130026\ttrain-mlogloss:0.177547+0.00417003\ttest-merror:0.40044+0.00654795\ttest-mlogloss:1.0228+0.0198494\n",
      "[103]\ttrain-merror:0.0191804+0.00124636\ttrain-mlogloss:0.176334+0.00412139\ttest-merror:0.400649+0.00774431\ttest-mlogloss:1.02335+0.0195011\n",
      "[104]\ttrain-merror:0.018893+0.0013543\ttrain-mlogloss:0.174921+0.00421652\ttest-merror:0.400544+0.00719927\ttest-mlogloss:1.02409+0.0195744\n",
      "[105]\ttrain-merror:0.0187884+0.00129985\ttrain-mlogloss:0.173805+0.00409394\ttest-merror:0.400335+0.00811159\ttest-mlogloss:1.02452+0.0199747\n",
      "[106]\ttrain-merror:0.0185532+0.00129087\ttrain-mlogloss:0.172368+0.00412424\ttest-merror:0.400544+0.00757466\ttest-mlogloss:1.025+0.0200438\n",
      "[107]\ttrain-merror:0.0183966+0.00127342\ttrain-mlogloss:0.171232+0.00414683\ttest-merror:0.399812+0.00799071\ttest-mlogloss:1.02543+0.0198178\n",
      "[108]\ttrain-merror:0.0183706+0.00128724\ttrain-mlogloss:0.170213+0.00430086\ttest-merror:0.399813+0.00821881\ttest-mlogloss:1.02606+0.0200538\n",
      "[109]\ttrain-merror:0.0182136+0.00128456\ttrain-mlogloss:0.169111+0.00409848\ttest-merror:0.400649+0.00848497\ttest-mlogloss:1.02644+0.0201804\n",
      "[110]\ttrain-merror:0.0179786+0.00135427\ttrain-mlogloss:0.167969+0.0041488\ttest-merror:0.400231+0.00859842\ttest-mlogloss:1.02704+0.0206\n",
      "[111]\ttrain-merror:0.0177172+0.00126575\ttrain-mlogloss:0.166848+0.00424078\ttest-merror:0.399917+0.00858868\ttest-mlogloss:1.02751+0.0207011\n",
      "[112]\ttrain-merror:0.0175866+0.00132665\ttrain-mlogloss:0.165977+0.00441334\ttest-merror:0.400126+0.00904676\ttest-mlogloss:1.0279+0.0205734\n",
      "[113]\ttrain-merror:0.0175082+0.00134033\ttrain-mlogloss:0.16486+0.00434203\ttest-merror:0.399708+0.00885723\ttest-mlogloss:1.02829+0.020959\n",
      "[114]\ttrain-merror:0.0174818+0.00126257\ttrain-mlogloss:0.163772+0.00427379\ttest-merror:0.399185+0.00890887\ttest-mlogloss:1.02879+0.0210123\n",
      "[115]\ttrain-merror:0.0172728+0.00111001\ttrain-mlogloss:0.162697+0.00429473\ttest-merror:0.400022+0.00942328\ttest-mlogloss:1.02933+0.0210768\n",
      "[116]\ttrain-merror:0.0172208+0.00131057\ttrain-mlogloss:0.161736+0.00427218\ttest-merror:0.400231+0.00919672\ttest-mlogloss:1.02968+0.0212393\n",
      "[117]\ttrain-merror:0.0170378+0.00122763\ttrain-mlogloss:0.160747+0.00402529\ttest-merror:0.400545+0.00961749\ttest-mlogloss:1.03018+0.0210632\n",
      "[118]\ttrain-merror:0.0169594+0.00131314\ttrain-mlogloss:0.159959+0.00377209\ttest-merror:0.40044+0.0098045\ttest-mlogloss:1.0307+0.0211308\n",
      "[119]\ttrain-merror:0.0167762+0.00138691\ttrain-mlogloss:0.158836+0.00381264\ttest-merror:0.399395+0.00976994\ttest-mlogloss:1.03124+0.02109\n"
     ]
    },
    {
     "name": "stdout",
     "output_type": "stream",
     "text": [
      "[120]\ttrain-merror:0.0165152+0.00138944\ttrain-mlogloss:0.157914+0.00398107\ttest-merror:0.399081+0.00922259\ttest-mlogloss:1.03175+0.0211588\n",
      "[121]\ttrain-merror:0.0161752+0.00143209\ttrain-mlogloss:0.156944+0.00402634\ttest-merror:0.398767+0.00827688\ttest-mlogloss:1.0322+0.0211357\n",
      "[122]\ttrain-merror:0.0159142+0.00111306\ttrain-mlogloss:0.155952+0.00381626\ttest-merror:0.399081+0.00841114\ttest-mlogloss:1.0328+0.0211532\n",
      "[123]\ttrain-merror:0.0158616+0.00118505\ttrain-mlogloss:0.154898+0.00373266\ttest-merror:0.398976+0.00842801\ttest-mlogloss:1.03329+0.0214371\n",
      "[124]\ttrain-merror:0.0158356+0.00132098\ttrain-mlogloss:0.153948+0.00360588\ttest-merror:0.399603+0.00852982\ttest-mlogloss:1.03388+0.0214409\n",
      "[125]\ttrain-merror:0.015679+0.00126142\ttrain-mlogloss:0.153061+0.00366347\ttest-merror:0.399604+0.00875479\ttest-mlogloss:1.03449+0.0212776\n",
      "[126]\ttrain-merror:0.0154962+0.00130055\ttrain-mlogloss:0.152151+0.00357852\ttest-merror:0.400022+0.00827937\ttest-mlogloss:1.03493+0.0214253\n",
      "[127]\ttrain-merror:0.0154962+0.00134458\ttrain-mlogloss:0.151374+0.00334726\ttest-merror:0.400649+0.00830016\ttest-mlogloss:1.03519+0.0214052\n",
      "[128]\ttrain-merror:0.015496+0.0011994\ttrain-mlogloss:0.150498+0.00342921\ttest-merror:0.400962+0.00859204\ttest-mlogloss:1.03574+0.0214569\n",
      "[129]\ttrain-merror:0.0153914+0.0011932\ttrain-mlogloss:0.149814+0.00338916\ttest-merror:0.401798+0.00836445\ttest-mlogloss:1.03635+0.0214216\n",
      "[130]\ttrain-merror:0.0153128+0.00116121\ttrain-mlogloss:0.149054+0.0032257\ttest-merror:0.401589+0.00869047\ttest-mlogloss:1.0369+0.0212993\n",
      "[131]\ttrain-merror:0.0152346+0.00111072\ttrain-mlogloss:0.148314+0.00332889\ttest-merror:0.401799+0.0087814\ttest-mlogloss:1.03747+0.0215373\n",
      "[132]\ttrain-merror:0.0151302+0.00103027\ttrain-mlogloss:0.147615+0.00335581\ttest-merror:0.401903+0.00866194\ttest-mlogloss:1.03792+0.0215118\n",
      "[133]\ttrain-merror:0.0150778+0.00102765\ttrain-mlogloss:0.146946+0.0032954\ttest-merror:0.402426+0.00856585\ttest-mlogloss:1.03837+0.0214777\n",
      "[134]\ttrain-merror:0.0150518+0.00101702\ttrain-mlogloss:0.146166+0.00334807\ttest-merror:0.402739+0.00867866\ttest-mlogloss:1.03878+0.0214647\n",
      "[135]\ttrain-merror:0.014895+0.0010584\ttrain-mlogloss:0.145456+0.00335417\ttest-merror:0.40253+0.0084948\ttest-mlogloss:1.03918+0.0216299\n",
      "[136]\ttrain-merror:0.0147642+0.000854946\ttrain-mlogloss:0.144652+0.00333955\ttest-merror:0.40138+0.00817527\ttest-mlogloss:1.03972+0.0217348\n",
      "[137]\ttrain-merror:0.0146336+0.000862665\ttrain-mlogloss:0.143744+0.00314358\ttest-merror:0.401694+0.00856992\ttest-mlogloss:1.04032+0.0217683\n"
     ]
    },
    {
     "name": "stderr",
     "output_type": "stream",
     "text": [
      "C:\\Users\\giano\\Anaconda3\\envs\\voda\\lib\\site-packages\\sklearn\\preprocessing\\label.py:151: DeprecationWarning: The truth value of an empty array is ambiguous. Returning False, but in future this will result in an error. Use `array.size > 0` to check that an array is not empty.\n",
      "  if diff:\n"
     ]
    },
    {
     "name": "stdout",
     "output_type": "stream",
     "text": [
      "\n",
      "Model Report\n",
      "Accuracy : 0.9338\n",
      "f1_micro : 0.9338\n",
      "f1_macro : 0.915\n",
      "f1_weighted : 0.9327\n"
     ]
    },
    {
     "data": {
      "image/png": "[encoded data removed]",
      "text/plain": [
       "<Figure size 432x288 with 1 Axes>"
      ]
     },
     "metadata": {},
     "output_type": "display_data"
    },
    {
     "name": "stdout",
     "output_type": "stream",
     "text": [
      "Feature_Importances: \n",
      "Index(['CustomerExpatriate', 'MonthlySMSTrafficCount', 'DeviceFlagSmartphone',\n",
      "       'DeviceFlag4G', 'Region', 'DataArpu', 'MonthlyVoiceTrafficCount',\n",
      "       'Games', 'CustomerAge', 'ParkingConnectionsCount',\n",
      "       'Instant-Messaging-Applications', 'Security', 'Unclassified',\n",
      "       'P2P-Applications', 'VoIP', 'File-Transfer', 'Terminals',\n",
      "       'Network-Operation', 'IsModified', 'Mail', 'Music-Streaming',\n",
      "       'StationConnectionsCount', 'AirportConnectionsCount', 'ID',\n",
      "       'ChurnScore', 'ParkingConnectionsDuration', 'DataAllowanceContinuous',\n",
      "       'StationConnectionsDuration'],\n",
      "      dtype='object')\n",
      "Model: {'base_score': 0.5, 'booster': 'gbtree', 'colsample_bylevel': 1, 'colsample_bytree': 0.8, 'gamma': 0.3, 'learning_rate': 0.1, 'max_delta_step': 0, 'max_depth': 10, 'min_child_weight': 0, 'missing': None, 'n_estimators': 39, 'nthread': 4, 'objective': 'multi:softprob', 'reg_alpha': 0, 'reg_lambda': 1, 'scale_pos_weight': 1, 'seed': 27, 'silent': 1, 'subsample': 0.9, 'num_class': 4}\n",
      "n_estimator: 39\n"
     ]
    }
   ],
   "source": [
    "xgb3 = XGBClassifier(\n",
    "        learning_rate =learning_rate,\n",
    "        n_estimators=1000,\n",
    "        max_depth=max_depth,\n",
    "        min_child_weight=min_child_weight,\n",
    "        gamma=gamma,\n",
    "        subsample=subsample,\n",
    "        colsample_bytree=colsample_bytree,\n",
    "        reg_alpha=reg_alpha,\n",
    "        objective='multi:softprob', \n",
    "        num_class=4,\n",
    "        nthread=4,\n",
    "        scale_pos_weight=1,\n",
    "        seed=27)\n",
    "n_estimators = modelfit(xgb3, train, predictors, 28)"
   ]
  },
  {
   "cell_type": "code",
   "execution_count": 31,
   "metadata": {},
   "outputs": [
    {
     "name": "stdout",
     "output_type": "stream",
     "text": [
      "[0]\ttrain-merror:0.244852+0.00603173\ttrain-mlogloss:1.37722+0.000132522\ttest-merror:0.449464+0.0124691\ttest-mlogloss:1.38061+0.000146149\n",
      "[1]\ttrain-merror:0.206831+0.00601992\ttrain-mlogloss:1.36812+0.000208086\ttest-merror:0.426048+0.0069401\ttest-mlogloss:1.37492+0.000324018\n",
      "[2]\ttrain-merror:0.191622+0.00549986\ttrain-mlogloss:1.3591+0.000345325\ttest-merror:0.416641+0.00755508\ttest-mlogloss:1.36945+0.000527508\n",
      "[3]\ttrain-merror:0.185141+0.00676766\ttrain-mlogloss:1.35038+0.000512554\ttest-merror:0.412041+0.00611934\ttest-mlogloss:1.36409+0.000648254\n",
      "[4]\ttrain-merror:0.182424+0.00460219\ttrain-mlogloss:1.34164+0.000566088\ttest-merror:0.408801+0.00771449\ttest-mlogloss:1.35874+0.000752771\n",
      "[5]\ttrain-merror:0.179314+0.0050675\ttrain-mlogloss:1.33306+0.000615575\ttest-merror:0.405979+0.00521596\ttest-mlogloss:1.35352+0.000910494\n",
      "[6]\ttrain-merror:0.178713+0.00530357\ttrain-mlogloss:1.32466+0.000583787\ttest-merror:0.411519+0.00595603\ttest-mlogloss:1.34844+0.00102526\n",
      "[7]\ttrain-merror:0.175996+0.00388353\ttrain-mlogloss:1.31629+0.000509575\ttest-merror:0.409115+0.00616336\ttest-mlogloss:1.3434+0.00107346\n",
      "[8]\ttrain-merror:0.174558+0.00329523\ttrain-mlogloss:1.30796+0.000587329\ttest-merror:0.409324+0.00583038\ttest-mlogloss:1.33843+0.00105016\n",
      "[9]\ttrain-merror:0.173356+0.00395578\ttrain-mlogloss:1.2997+0.000660568\ttest-merror:0.406084+0.0069656\ttest-mlogloss:1.33356+0.00119065\n",
      "[10]\ttrain-merror:0.173879+0.00410565\ttrain-mlogloss:1.29158+0.000746481\ttest-merror:0.40692+0.00569532\ttest-mlogloss:1.32866+0.00125309\n",
      "[11]\ttrain-merror:0.17218+0.00447921\ttrain-mlogloss:1.28368+0.000821522\ttest-merror:0.405665+0.0071794\ttest-mlogloss:1.32391+0.00133592\n",
      "[12]\ttrain-merror:0.1709+0.00350038\ttrain-mlogloss:1.27572+0.000819829\ttest-merror:0.403784+0.00604525\ttest-mlogloss:1.31918+0.00139192\n",
      "[13]\ttrain-merror:0.169044+0.00314315\ttrain-mlogloss:1.26792+0.000866772\ttest-merror:0.403261+0.00655705\ttest-mlogloss:1.31459+0.00156133\n",
      "[14]\ttrain-merror:0.168339+0.00375778\ttrain-mlogloss:1.26021+0.00099596\ttest-merror:0.403575+0.00597298\ttest-mlogloss:1.31015+0.00160891\n",
      "[15]\ttrain-merror:0.167398+0.00352034\ttrain-mlogloss:1.25253+0.000879106\ttest-merror:0.402529+0.00580979\ttest-mlogloss:1.30565+0.00159947\n",
      "[16]\ttrain-merror:0.166039+0.00328244\ttrain-mlogloss:1.24501+0.000942759\ttest-merror:0.401589+0.00702128\ttest-mlogloss:1.30122+0.00163563\n",
      "[17]\ttrain-merror:0.165255+0.00347807\ttrain-mlogloss:1.23768+0.000940589\ttest-merror:0.400439+0.00793195\ttest-mlogloss:1.29704+0.00167616\n",
      "[18]\ttrain-merror:0.165282+0.00419876\ttrain-mlogloss:1.23033+0.00100811\ttest-merror:0.400125+0.00744697\ttest-mlogloss:1.29282+0.00184467\n",
      "[19]\ttrain-merror:0.164524+0.00406171\ttrain-mlogloss:1.22308+0.00110542\ttest-merror:0.399393+0.00835343\ttest-mlogloss:1.28858+0.00188409\n",
      "[20]\ttrain-merror:0.163792+0.0046586\ttrain-mlogloss:1.2158+0.00113738\ttest-merror:0.399498+0.00793065\ttest-mlogloss:1.28445+0.00194712\n",
      "[21]\ttrain-merror:0.163087+0.00423781\ttrain-mlogloss:1.20864+0.00120259\ttest-merror:0.400648+0.00698979\ttest-mlogloss:1.28033+0.00197244\n",
      "[22]\ttrain-merror:0.161728+0.00486198\ttrain-mlogloss:1.20153+0.00131047\ttest-merror:0.400753+0.00737003\ttest-mlogloss:1.2764+0.00212377\n",
      "[23]\ttrain-merror:0.16144+0.00441432\ttrain-mlogloss:1.19459+0.00129724\ttest-merror:0.400648+0.00671048\ttest-mlogloss:1.27247+0.00221154\n",
      "[24]\ttrain-merror:0.160996+0.00435467\ttrain-mlogloss:1.18769+0.00135605\ttest-merror:0.401694+0.00821489\ttest-mlogloss:1.26859+0.0022954\n",
      "[25]\ttrain-merror:0.161336+0.00359358\ttrain-mlogloss:1.18112+0.00129684\ttest-merror:0.401066+0.0070875\ttest-mlogloss:1.26472+0.0024384\n",
      "[26]\ttrain-merror:0.160839+0.00312566\ttrain-mlogloss:1.17444+0.00125192\ttest-merror:0.400125+0.00703916\ttest-mlogloss:1.26095+0.00251004\n",
      "[27]\ttrain-merror:0.159742+0.00304032\ttrain-mlogloss:1.16787+0.00126118\ttest-merror:0.400753+0.00698635\ttest-mlogloss:1.25721+0.00252008\n",
      "[28]\ttrain-merror:0.159271+0.00371982\ttrain-mlogloss:1.16124+0.00133894\ttest-merror:0.401484+0.00754238\ttest-mlogloss:1.25353+0.002595\n",
      "[29]\ttrain-merror:0.158723+0.0034685\ttrain-mlogloss:1.15463+0.00129607\ttest-merror:0.40138+0.00669143\ttest-mlogloss:1.24989+0.0026204\n",
      "[30]\ttrain-merror:0.158017+0.00315853\ttrain-mlogloss:1.14812+0.00127823\ttest-merror:0.399498+0.00724019\ttest-mlogloss:1.24628+0.00275359\n",
      "[31]\ttrain-merror:0.157364+0.00348879\ttrain-mlogloss:1.14184+0.00134079\ttest-merror:0.401275+0.00702831\ttest-mlogloss:1.24294+0.00286551\n",
      "[32]\ttrain-merror:0.156737+0.0030118\ttrain-mlogloss:1.13562+0.00138374\ttest-merror:0.400962+0.00637655\ttest-mlogloss:1.23956+0.00298421\n",
      "[33]\ttrain-merror:0.156292+0.00295347\ttrain-mlogloss:1.12946+0.00129866\ttest-merror:0.400544+0.00633511\ttest-mlogloss:1.23621+0.00307845\n",
      "[34]\ttrain-merror:0.155874+0.00338195\ttrain-mlogloss:1.12336+0.00141633\ttest-merror:0.400962+0.00678042\ttest-mlogloss:1.23292+0.00320589\n",
      "[35]\ttrain-merror:0.155509+0.00355999\ttrain-mlogloss:1.11728+0.00150669\ttest-merror:0.401589+0.00583348\ttest-mlogloss:1.22955+0.00328146\n",
      "[36]\ttrain-merror:0.154777+0.00346538\ttrain-mlogloss:1.11123+0.00161883\ttest-merror:0.402007+0.00567846\ttest-mlogloss:1.22631+0.00336685\n",
      "[37]\ttrain-merror:0.153993+0.00346651\ttrain-mlogloss:1.10522+0.00170673\ttest-merror:0.401798+0.00613065\ttest-mlogloss:1.22312+0.00344244\n",
      "[38]\ttrain-merror:0.153627+0.00368345\ttrain-mlogloss:1.09934+0.00168023\ttest-merror:0.402112+0.00546229\ttest-mlogloss:1.22001+0.00348445\n",
      "[39]\ttrain-merror:0.153157+0.00408189\ttrain-mlogloss:1.09357+0.00175037\ttest-merror:0.403157+0.00586744\ttest-mlogloss:1.21698+0.00351157\n",
      "[40]\ttrain-merror:0.15266+0.00369943\ttrain-mlogloss:1.08781+0.0018334\ttest-merror:0.402634+0.00451601\ttest-mlogloss:1.21395+0.00344365\n",
      "[41]\ttrain-merror:0.152033+0.00352399\ttrain-mlogloss:1.082+0.00174353\ttest-merror:0.401485+0.00560884\ttest-mlogloss:1.21092+0.00352442\n",
      "[42]\ttrain-merror:0.151458+0.00337931\ttrain-mlogloss:1.0764+0.00178619\ttest-merror:0.402112+0.00438086\ttest-mlogloss:1.20796+0.00354485\n",
      "[43]\ttrain-merror:0.150883+0.00343818\ttrain-mlogloss:1.07074+0.00193499\ttest-merror:0.401694+0.0052684\ttest-mlogloss:1.20492+0.00364445\n",
      "[44]\ttrain-merror:0.150674+0.00336476\ttrain-mlogloss:1.06512+0.00205027\ttest-merror:0.401485+0.00480501\ttest-mlogloss:1.20203+0.00365015\n",
      "[45]\ttrain-merror:0.149707+0.00377621\ttrain-mlogloss:1.05967+0.00207991\ttest-merror:0.401798+0.00500625\ttest-mlogloss:1.19919+0.00367552\n",
      "[46]\ttrain-merror:0.14942+0.00357975\ttrain-mlogloss:1.05422+0.00213109\ttest-merror:0.401902+0.00479434\ttest-mlogloss:1.19643+0.003719\n",
      "[47]\ttrain-merror:0.14861+0.00353254\ttrain-mlogloss:1.04886+0.00217169\ttest-merror:0.402635+0.00493714\ttest-mlogloss:1.1936+0.00383671\n",
      "[48]\ttrain-merror:0.148087+0.0033541\ttrain-mlogloss:1.04352+0.00232506\ttest-merror:0.403053+0.00464316\ttest-mlogloss:1.19086+0.00383697\n",
      "[49]\ttrain-merror:0.147408+0.0035319\ttrain-mlogloss:1.03833+0.00233716\ttest-merror:0.403157+0.0044211\ttest-mlogloss:1.18824+0.00388027\n",
      "[50]\ttrain-merror:0.147016+0.0038799\ttrain-mlogloss:1.03304+0.00248113\ttest-merror:0.402425+0.00419628\ttest-mlogloss:1.18555+0.00388084\n",
      "[51]\ttrain-merror:0.146598+0.00369331\ttrain-mlogloss:1.02779+0.00254367\ttest-merror:0.402216+0.00342252\ttest-mlogloss:1.18288+0.00395771\n",
      "[52]\ttrain-merror:0.14618+0.00371282\ttrain-mlogloss:1.02253+0.00263545\ttest-merror:0.402007+0.00467854\ttest-mlogloss:1.18021+0.0040509\n",
      "[53]\ttrain-merror:0.1455+0.00356248\ttrain-mlogloss:1.01743+0.00265172\ttest-merror:0.40138+0.00426594\ttest-mlogloss:1.17762+0.00409674\n",
      "[54]\ttrain-merror:0.145631+0.00367758\ttrain-mlogloss:1.01242+0.00283641\ttest-merror:0.400649+0.00525605\ttest-mlogloss:1.17511+0.004141\n",
      "[55]\ttrain-merror:0.145265+0.0035008\ttrain-mlogloss:1.00742+0.00275265\ttest-merror:0.401276+0.00550139\ttest-mlogloss:1.17265+0.00422666\n",
      "[56]\ttrain-merror:0.144324+0.00314016\ttrain-mlogloss:1.00246+0.00274209\ttest-merror:0.400858+0.00531725\ttest-mlogloss:1.17018+0.0042169\n",
      "[57]\ttrain-merror:0.143932+0.0032265\ttrain-mlogloss:0.997596+0.00279155\ttest-merror:0.400335+0.00551318\ttest-mlogloss:1.16776+0.00424379\n",
      "[58]\ttrain-merror:0.143671+0.00297872\ttrain-mlogloss:0.992696+0.00274177\ttest-merror:0.40044+0.00475953\ttest-mlogloss:1.16542+0.00430771\n",
      "[59]\ttrain-merror:0.143018+0.00309288\ttrain-mlogloss:0.98784+0.00271615\ttest-merror:0.399917+0.00577424\ttest-mlogloss:1.16309+0.00432647\n",
      "[60]\ttrain-merror:0.142652+0.0032344\ttrain-mlogloss:0.983068+0.00277436\ttest-merror:0.399603+0.0045709\ttest-mlogloss:1.16075+0.00441349\n"
     ]
    },
    {
     "name": "stdout",
     "output_type": "stream",
     "text": [
      "[61]\ttrain-merror:0.142286+0.00334322\ttrain-mlogloss:0.978305+0.0027367\ttest-merror:0.399081+0.00518494\ttest-mlogloss:1.15841+0.00441618\n",
      "[62]\ttrain-merror:0.141894+0.00329031\ttrain-mlogloss:0.973618+0.00279955\ttest-merror:0.400439+0.00417717\ttest-mlogloss:1.15619+0.00439537\n",
      "[63]\ttrain-merror:0.141685+0.00308073\ttrain-mlogloss:0.968883+0.00281044\ttest-merror:0.400126+0.003945\ttest-mlogloss:1.15392+0.00443866\n",
      "[64]\ttrain-merror:0.140666+0.0031437\ttrain-mlogloss:0.964261+0.00290934\ttest-merror:0.399917+0.00422926\ttest-mlogloss:1.15178+0.00454128\n",
      "[65]\ttrain-merror:0.140483+0.00308071\ttrain-mlogloss:0.959747+0.00297376\ttest-merror:0.400022+0.00506804\ttest-mlogloss:1.14963+0.00459704\n",
      "[66]\ttrain-merror:0.140352+0.00347154\ttrain-mlogloss:0.955275+0.00299402\ttest-merror:0.400335+0.00470687\ttest-mlogloss:1.14757+0.00461143\n",
      "[67]\ttrain-merror:0.139803+0.0032356\ttrain-mlogloss:0.950618+0.00300955\ttest-merror:0.400648+0.00411013\ttest-mlogloss:1.14541+0.0046425\n",
      "[68]\ttrain-merror:0.139594+0.00325595\ttrain-mlogloss:0.946062+0.00299732\ttest-merror:0.401171+0.00478175\ttest-mlogloss:1.14325+0.00475465\n",
      "[69]\ttrain-merror:0.138889+0.00332328\ttrain-mlogloss:0.941543+0.0030343\ttest-merror:0.40138+0.00476214\ttest-mlogloss:1.1412+0.00475009\n",
      "[70]\ttrain-merror:0.138236+0.00320775\ttrain-mlogloss:0.937057+0.00301003\ttest-merror:0.40138+0.00504528\ttest-mlogloss:1.13913+0.00473449\n",
      "[71]\ttrain-merror:0.137634+0.00335214\ttrain-mlogloss:0.932686+0.00311985\ttest-merror:0.400857+0.00437438\ttest-mlogloss:1.13708+0.00479916\n",
      "[72]\ttrain-merror:0.137242+0.0034836\ttrain-mlogloss:0.928286+0.00316963\ttest-merror:0.401171+0.0051044\ttest-mlogloss:1.13507+0.00485702\n",
      "[73]\ttrain-merror:0.136746+0.00306171\ttrain-mlogloss:0.924006+0.00324446\ttest-merror:0.400753+0.00515681\ttest-mlogloss:1.13316+0.00487378\n",
      "[74]\ttrain-merror:0.136171+0.00332092\ttrain-mlogloss:0.919787+0.0033235\ttest-merror:0.400857+0.00448559\ttest-mlogloss:1.13122+0.00493312\n",
      "[75]\ttrain-merror:0.135701+0.00375673\ttrain-mlogloss:0.915544+0.00334028\ttest-merror:0.400648+0.00414997\ttest-mlogloss:1.12934+0.00495114\n",
      "[76]\ttrain-merror:0.135309+0.00355569\ttrain-mlogloss:0.911377+0.00330218\ttest-merror:0.400962+0.0046053\ttest-mlogloss:1.12755+0.00502486\n",
      "[77]\ttrain-merror:0.134656+0.00352073\ttrain-mlogloss:0.907202+0.00338428\ttest-merror:0.400544+0.0042389\ttest-mlogloss:1.12572+0.00510093\n",
      "[78]\ttrain-merror:0.134368+0.00342101\ttrain-mlogloss:0.903042+0.00341096\ttest-merror:0.400126+0.00475401\ttest-mlogloss:1.1239+0.00516902\n",
      "[79]\ttrain-merror:0.134002+0.00338367\ttrain-mlogloss:0.898882+0.0034543\ttest-merror:0.400126+0.00504387\ttest-mlogloss:1.12202+0.00519294\n",
      "[80]\ttrain-merror:0.133166+0.00340931\ttrain-mlogloss:0.894763+0.00346484\ttest-merror:0.40023+0.00432708\ttest-mlogloss:1.12021+0.00523769\n",
      "[81]\ttrain-merror:0.1328+0.0036056\ttrain-mlogloss:0.89083+0.00344985\ttest-merror:0.399185+0.0037857\ttest-mlogloss:1.11848+0.0051813\n",
      "[82]\ttrain-merror:0.132251+0.00388442\ttrain-mlogloss:0.88673+0.00349628\ttest-merror:0.398976+0.00452322\ttest-mlogloss:1.11665+0.00518724\n",
      "[83]\ttrain-merror:0.132016+0.00373804\ttrain-mlogloss:0.882789+0.00348878\ttest-merror:0.399603+0.0042361\ttest-mlogloss:1.115+0.00534\n",
      "[84]\ttrain-merror:0.131311+0.00344476\ttrain-mlogloss:0.878848+0.00349372\ttest-merror:0.399603+0.00451096\ttest-mlogloss:1.11329+0.00540775\n",
      "[85]\ttrain-merror:0.130788+0.00384708\ttrain-mlogloss:0.874901+0.00356117\ttest-merror:0.400021+0.00468716\ttest-mlogloss:1.11163+0.00541265\n",
      "[86]\ttrain-merror:0.130527+0.00375724\ttrain-mlogloss:0.871023+0.00356147\ttest-merror:0.40023+0.00447381\ttest-mlogloss:1.10993+0.00548574\n",
      "[87]\ttrain-merror:0.129978+0.0034422\ttrain-mlogloss:0.867213+0.00358195\ttest-merror:0.400125+0.00489398\ttest-mlogloss:1.10832+0.00549532\n",
      "[88]\ttrain-merror:0.12956+0.0035286\ttrain-mlogloss:0.863373+0.00358215\ttest-merror:0.399916+0.00507444\ttest-mlogloss:1.10665+0.00556326\n",
      "[89]\ttrain-merror:0.128959+0.00368931\ttrain-mlogloss:0.859667+0.00356947\ttest-merror:0.399603+0.00465343\ttest-mlogloss:1.10499+0.00559978\n",
      "[90]\ttrain-merror:0.128645+0.00349812\ttrain-mlogloss:0.85589+0.00357067\ttest-merror:0.400126+0.00465361\ttest-mlogloss:1.10338+0.00562805\n",
      "[91]\ttrain-merror:0.128306+0.00346733\ttrain-mlogloss:0.852217+0.00364142\ttest-merror:0.400648+0.00458042\ttest-mlogloss:1.10176+0.0056646\n",
      "[92]\ttrain-merror:0.127522+0.00331289\ttrain-mlogloss:0.848476+0.00356296\ttest-merror:0.40023+0.00484686\ttest-mlogloss:1.10025+0.0057307\n",
      "[93]\ttrain-merror:0.127495+0.00356253\ttrain-mlogloss:0.844843+0.00369229\ttest-merror:0.399917+0.00508353\ttest-mlogloss:1.09873+0.00572671\n",
      "[94]\ttrain-merror:0.126973+0.00375737\ttrain-mlogloss:0.841191+0.00370134\ttest-merror:0.400021+0.00566307\ttest-mlogloss:1.09725+0.00578128\n",
      "[95]\ttrain-merror:0.126999+0.00352514\ttrain-mlogloss:0.837549+0.00385963\ttest-merror:0.400335+0.00574436\ttest-mlogloss:1.09578+0.0058235\n",
      "[96]\ttrain-merror:0.126633+0.00358592\ttrain-mlogloss:0.834003+0.00392126\ttest-merror:0.400021+0.00566307\ttest-mlogloss:1.09432+0.00585648\n",
      "[97]\ttrain-merror:0.126189+0.00357025\ttrain-mlogloss:0.830472+0.00391677\ttest-merror:0.400543+0.00630235\ttest-mlogloss:1.09295+0.00591357\n",
      "[98]\ttrain-merror:0.125431+0.00359335\ttrain-mlogloss:0.827+0.00389169\ttest-merror:0.40023+0.0064728\ttest-mlogloss:1.09155+0.00593706\n",
      "[99]\ttrain-merror:0.125092+0.00379088\ttrain-mlogloss:0.823474+0.00388282\ttest-merror:0.400544+0.00581886\ttest-mlogloss:1.0901+0.00601822\n",
      "[100]\ttrain-merror:0.124699+0.0036936\ttrain-mlogloss:0.820014+0.00395466\ttest-merror:0.400335+0.00586835\ttest-mlogloss:1.08873+0.006117\n",
      "[101]\ttrain-merror:0.124569+0.00350482\ttrain-mlogloss:0.816565+0.00393553\ttest-merror:0.400335+0.00585323\ttest-mlogloss:1.0874+0.00613245\n",
      "[102]\ttrain-merror:0.123915+0.00342699\ttrain-mlogloss:0.813094+0.00393256\ttest-merror:0.400126+0.00638647\ttest-mlogloss:1.08602+0.00620155\n",
      "[103]\ttrain-merror:0.123445+0.00349159\ttrain-mlogloss:0.809743+0.00393631\ttest-merror:0.399603+0.00603282\ttest-mlogloss:1.0847+0.00624111\n",
      "[104]\ttrain-merror:0.123262+0.00355412\ttrain-mlogloss:0.806375+0.00401682\ttest-merror:0.399812+0.00600479\ttest-mlogloss:1.08342+0.00634895\n",
      "[105]\ttrain-merror:0.122844+0.0033609\ttrain-mlogloss:0.803104+0.00401128\ttest-merror:0.399394+0.00587562\ttest-mlogloss:1.08209+0.00643432\n",
      "[106]\ttrain-merror:0.122348+0.00342535\ttrain-mlogloss:0.799766+0.00399259\ttest-merror:0.399394+0.00592899\ttest-mlogloss:1.08076+0.00645762\n",
      "[107]\ttrain-merror:0.122217+0.00334955\ttrain-mlogloss:0.796539+0.00403778\ttest-merror:0.399394+0.0061036\ttest-mlogloss:1.07943+0.00647449\n",
      "[108]\ttrain-merror:0.121851+0.00313035\ttrain-mlogloss:0.793209+0.00396753\ttest-merror:0.399603+0.00608133\ttest-mlogloss:1.07813+0.00653368\n",
      "[109]\ttrain-merror:0.121381+0.00306192\ttrain-mlogloss:0.78995+0.00403335\ttest-merror:0.399603+0.0057164\ttest-mlogloss:1.07685+0.00662053\n",
      "[110]\ttrain-merror:0.121015+0.00301018\ttrain-mlogloss:0.786805+0.00396087\ttest-merror:0.399916+0.00560112\ttest-mlogloss:1.07562+0.00667766\n",
      "[111]\ttrain-merror:0.121041+0.00314038\ttrain-mlogloss:0.783614+0.00402103\ttest-merror:0.399498+0.00604003\ttest-mlogloss:1.07441+0.00671036\n",
      "[112]\ttrain-merror:0.120492+0.00315509\ttrain-mlogloss:0.780406+0.00405397\ttest-merror:0.399707+0.00642845\ttest-mlogloss:1.07314+0.00671747\n",
      "[113]\ttrain-merror:0.119996+0.00336097\ttrain-mlogloss:0.777263+0.00403432\ttest-merror:0.399289+0.00630659\ttest-mlogloss:1.07202+0.00679352\n",
      "[114]\ttrain-merror:0.119656+0.00337126\ttrain-mlogloss:0.774179+0.00402492\ttest-merror:0.399185+0.00582591\ttest-mlogloss:1.07083+0.00682813\n",
      "[115]\ttrain-merror:0.119395+0.0034033\ttrain-mlogloss:0.771036+0.00415064\ttest-merror:0.398871+0.00641951\ttest-mlogloss:1.06965+0.00688913\n",
      "[116]\ttrain-merror:0.11916+0.00346234\ttrain-mlogloss:0.767999+0.00416272\ttest-merror:0.399707+0.00576179\ttest-mlogloss:1.06855+0.00694355\n",
      "[117]\ttrain-merror:0.118663+0.00349969\ttrain-mlogloss:0.764924+0.00413308\ttest-merror:0.399603+0.00619355\ttest-mlogloss:1.06743+0.00700054\n",
      "[118]\ttrain-merror:0.118114+0.00367275\ttrain-mlogloss:0.761863+0.00411324\ttest-merror:0.399394+0.00633189\ttest-mlogloss:1.06632+0.00707153\n",
      "[119]\ttrain-merror:0.117958+0.00326792\ttrain-mlogloss:0.758983+0.00408804\ttest-merror:0.399708+0.00659784\ttest-mlogloss:1.06521+0.00709909\n",
      "[120]\ttrain-merror:0.117827+0.00335557\ttrain-mlogloss:0.756112+0.0041162\ttest-merror:0.399603+0.00608329\ttest-mlogloss:1.06415+0.00714407\n"
     ]
    },
    {
     "name": "stdout",
     "output_type": "stream",
     "text": [
      "[121]\ttrain-merror:0.117357+0.00360738\ttrain-mlogloss:0.753161+0.00409381\ttest-merror:0.400125+0.00620208\ttest-mlogloss:1.06306+0.00722571\n",
      "[122]\ttrain-merror:0.116782+0.00331658\ttrain-mlogloss:0.750309+0.00419833\ttest-merror:0.399916+0.00598785\ttest-mlogloss:1.062+0.0072243\n",
      "[123]\ttrain-merror:0.116573+0.00323925\ttrain-mlogloss:0.747458+0.00423719\ttest-merror:0.400439+0.00598789\ttest-mlogloss:1.06096+0.00727829\n",
      "[124]\ttrain-merror:0.116076+0.00311297\ttrain-mlogloss:0.744487+0.00424571\ttest-merror:0.400753+0.00602313\ttest-mlogloss:1.05987+0.00734171\n",
      "[125]\ttrain-merror:0.115553+0.00315999\ttrain-mlogloss:0.741632+0.00425315\ttest-merror:0.401066+0.00649356\ttest-mlogloss:1.05886+0.00738504\n",
      "[126]\ttrain-merror:0.115266+0.00321838\ttrain-mlogloss:0.738728+0.00428083\ttest-merror:0.400753+0.00651321\ttest-mlogloss:1.05781+0.00742436\n",
      "[127]\ttrain-merror:0.114743+0.00302084\ttrain-mlogloss:0.735877+0.00429653\ttest-merror:0.400753+0.0060214\ttest-mlogloss:1.05677+0.0074508\n",
      "[128]\ttrain-merror:0.114456+0.00315342\ttrain-mlogloss:0.73302+0.00435488\ttest-merror:0.400126+0.00624791\ttest-mlogloss:1.05575+0.0074748\n",
      "[129]\ttrain-merror:0.11409+0.00328848\ttrain-mlogloss:0.730158+0.00440547\ttest-merror:0.399603+0.00638319\ttest-mlogloss:1.05476+0.00753582\n",
      "[130]\ttrain-merror:0.113672+0.0033235\ttrain-mlogloss:0.727363+0.0044765\ttest-merror:0.40023+0.00580324\ttest-mlogloss:1.05378+0.00760368\n",
      "[131]\ttrain-merror:0.113411+0.00324536\ttrain-mlogloss:0.724583+0.00461468\ttest-merror:0.40023+0.00622134\ttest-mlogloss:1.05282+0.00765357\n",
      "[132]\ttrain-merror:0.113149+0.00296099\ttrain-mlogloss:0.721837+0.00461991\ttest-merror:0.400648+0.00666438\ttest-mlogloss:1.05186+0.00771066\n",
      "[133]\ttrain-merror:0.112862+0.00287318\ttrain-mlogloss:0.719068+0.0045475\ttest-merror:0.400648+0.00656873\ttest-mlogloss:1.05096+0.00780686\n",
      "[134]\ttrain-merror:0.112261+0.00303027\ttrain-mlogloss:0.716378+0.00460288\ttest-merror:0.400543+0.00664331\ttest-mlogloss:1.05009+0.00786995\n",
      "[135]\ttrain-merror:0.111686+0.00334953\ttrain-mlogloss:0.713695+0.00463841\ttest-merror:0.399812+0.00711123\ttest-mlogloss:1.04924+0.00790591\n",
      "[136]\ttrain-merror:0.111529+0.0030851\ttrain-mlogloss:0.711027+0.00467151\ttest-merror:0.400335+0.00673879\ttest-mlogloss:1.04838+0.00796084\n",
      "[137]\ttrain-merror:0.111033+0.00293075\ttrain-mlogloss:0.708463+0.00480881\ttest-merror:0.400439+0.00712181\ttest-mlogloss:1.04753+0.00805394\n",
      "[138]\ttrain-merror:0.110641+0.00309011\ttrain-mlogloss:0.705699+0.00487094\ttest-merror:0.400335+0.00670112\ttest-mlogloss:1.04665+0.00810632\n",
      "[139]\ttrain-merror:0.110118+0.00321488\ttrain-mlogloss:0.703142+0.00490357\ttest-merror:0.400126+0.00634336\ttest-mlogloss:1.04581+0.00812159\n",
      "[140]\ttrain-merror:0.109726+0.00318804\ttrain-mlogloss:0.700589+0.00494568\ttest-merror:0.400335+0.00669328\ttest-mlogloss:1.04498+0.00809333\n",
      "[141]\ttrain-merror:0.10936+0.00343593\ttrain-mlogloss:0.697939+0.00495688\ttest-merror:0.399812+0.0064773\ttest-mlogloss:1.04413+0.00812364\n",
      "[142]\ttrain-merror:0.109047+0.0033273\ttrain-mlogloss:0.695351+0.00492006\ttest-merror:0.400021+0.00617242\ttest-mlogloss:1.04333+0.00810146\n",
      "[143]\ttrain-merror:0.108629+0.00339266\ttrain-mlogloss:0.692841+0.00497409\ttest-merror:0.400126+0.00656356\ttest-mlogloss:1.04255+0.00818477\n",
      "[144]\ttrain-merror:0.108341+0.0034484\ttrain-mlogloss:0.690282+0.00498902\ttest-merror:0.399603+0.00596725\ttest-mlogloss:1.04172+0.00824621\n",
      "[145]\ttrain-merror:0.108184+0.00353325\ttrain-mlogloss:0.687874+0.00503668\ttest-merror:0.400335+0.00621223\ttest-mlogloss:1.04086+0.00835466\n",
      "[146]\ttrain-merror:0.107766+0.00336549\ttrain-mlogloss:0.685335+0.00507759\ttest-merror:0.399707+0.00603217\ttest-mlogloss:1.04006+0.00834711\n",
      "[147]\ttrain-merror:0.107557+0.00351331\ttrain-mlogloss:0.682888+0.00503334\ttest-merror:0.399812+0.00608416\ttest-mlogloss:1.03928+0.00835299\n",
      "[148]\ttrain-merror:0.107061+0.00377922\ttrain-mlogloss:0.680418+0.00512939\ttest-merror:0.399603+0.00600894\ttest-mlogloss:1.03854+0.00839106\n",
      "[149]\ttrain-merror:0.106669+0.00368474\ttrain-mlogloss:0.677931+0.0051224\ttest-merror:0.399498+0.00599484\ttest-mlogloss:1.03779+0.00840509\n",
      "[150]\ttrain-merror:0.106486+0.00362043\ttrain-mlogloss:0.67552+0.00525558\ttest-merror:0.399289+0.00627859\ttest-mlogloss:1.03698+0.00843508\n",
      "[151]\ttrain-merror:0.106198+0.00366458\ttrain-mlogloss:0.672968+0.00528342\ttest-merror:0.399394+0.00621537\ttest-mlogloss:1.03625+0.00846513\n",
      "[152]\ttrain-merror:0.106146+0.00350803\ttrain-mlogloss:0.670571+0.00523153\ttest-merror:0.39908+0.00591916\ttest-mlogloss:1.03549+0.00845132\n",
      "[153]\ttrain-merror:0.105702+0.00355071\ttrain-mlogloss:0.66816+0.00525182\ttest-merror:0.398976+0.00599314\ttest-mlogloss:1.03476+0.00848166\n",
      "[154]\ttrain-merror:0.105362+0.00333078\ttrain-mlogloss:0.665683+0.00525864\ttest-merror:0.399708+0.00530522\ttest-mlogloss:1.03405+0.00853068\n",
      "[155]\ttrain-merror:0.104918+0.00315003\ttrain-mlogloss:0.663308+0.00528372\ttest-merror:0.399394+0.00616406\ttest-mlogloss:1.03334+0.0085859\n",
      "[156]\ttrain-merror:0.104604+0.0031944\ttrain-mlogloss:0.661017+0.00529058\ttest-merror:0.399603+0.00607601\ttest-mlogloss:1.03264+0.00860422\n",
      "[157]\ttrain-merror:0.104212+0.00313825\ttrain-mlogloss:0.658714+0.00525627\ttest-merror:0.400125+0.0058914\ttest-mlogloss:1.03195+0.00865606\n",
      "[158]\ttrain-merror:0.10416+0.00308839\ttrain-mlogloss:0.656402+0.00527424\ttest-merror:0.400335+0.00564651\ttest-mlogloss:1.03126+0.00872384\n",
      "[159]\ttrain-merror:0.103533+0.00306433\ttrain-mlogloss:0.654081+0.0053738\ttest-merror:0.40023+0.00538516\ttest-mlogloss:1.03059+0.00874748\n",
      "[160]\ttrain-merror:0.103219+0.00295705\ttrain-mlogloss:0.651772+0.00537895\ttest-merror:0.400021+0.00526491\ttest-mlogloss:1.02993+0.00886497\n",
      "[161]\ttrain-merror:0.102906+0.00291357\ttrain-mlogloss:0.64955+0.00550651\ttest-merror:0.40023+0.00585377\ttest-mlogloss:1.02926+0.00893427\n",
      "[162]\ttrain-merror:0.102331+0.00283048\ttrain-mlogloss:0.647335+0.00554426\ttest-merror:0.400335+0.00563437\ttest-mlogloss:1.02864+0.0089956\n",
      "[163]\ttrain-merror:0.102017+0.00295084\ttrain-mlogloss:0.645065+0.00553371\ttest-merror:0.400335+0.00568648\ttest-mlogloss:1.02801+0.00905071\n",
      "[164]\ttrain-merror:0.101782+0.00274612\ttrain-mlogloss:0.642962+0.00568111\ttest-merror:0.400439+0.00595664\ttest-mlogloss:1.02739+0.00907991\n",
      "[165]\ttrain-merror:0.101625+0.00302939\ttrain-mlogloss:0.640662+0.0057305\ttest-merror:0.399917+0.00602576\ttest-mlogloss:1.02675+0.00914627\n",
      "[166]\ttrain-merror:0.101442+0.0030845\ttrain-mlogloss:0.638526+0.00570695\ttest-merror:0.400126+0.00572373\ttest-mlogloss:1.02612+0.00916418\n",
      "[167]\ttrain-merror:0.100998+0.00293586\ttrain-mlogloss:0.636389+0.00572303\ttest-merror:0.399812+0.00560138\ttest-mlogloss:1.02553+0.00922076\n",
      "[168]\ttrain-merror:0.100815+0.00301921\ttrain-mlogloss:0.634312+0.00569583\ttest-merror:0.400126+0.00571032\ttest-mlogloss:1.02491+0.00924742\n",
      "[169]\ttrain-merror:0.100397+0.00294354\ttrain-mlogloss:0.632171+0.00570549\ttest-merror:0.399603+0.00606647\ttest-mlogloss:1.02431+0.00930309\n",
      "[170]\ttrain-merror:0.0999528+0.00283416\ttrain-mlogloss:0.629993+0.00575713\ttest-merror:0.399394+0.00583036\ttest-mlogloss:1.02366+0.00938228\n",
      "[171]\ttrain-merror:0.0997176+0.0031438\ttrain-mlogloss:0.62791+0.00579822\ttest-merror:0.399394+0.00600557\ttest-mlogloss:1.0231+0.0094175\n",
      "[172]\ttrain-merror:0.0994042+0.00282635\ttrain-mlogloss:0.625701+0.00582132\ttest-merror:0.40023+0.00544547\ttest-mlogloss:1.02251+0.00946369\n",
      "[173]\ttrain-merror:0.0991948+0.00290699\ttrain-mlogloss:0.623742+0.00583326\ttest-merror:0.399916+0.00552053\ttest-mlogloss:1.02196+0.00949276\n",
      "[174]\ttrain-merror:0.0988816+0.00277509\ttrain-mlogloss:0.621644+0.00583331\ttest-merror:0.400021+0.00504186\ttest-mlogloss:1.02142+0.00952073\n",
      "[175]\ttrain-merror:0.0986984+0.00267256\ttrain-mlogloss:0.619566+0.00582537\ttest-merror:0.399499+0.00485862\ttest-mlogloss:1.02085+0.00952672\n",
      "[176]\ttrain-merror:0.0980974+0.00289512\ttrain-mlogloss:0.61751+0.00593482\ttest-merror:0.399394+0.00497455\ttest-mlogloss:1.02032+0.0095235\n",
      "[177]\ttrain-merror:0.0979408+0.0031069\ttrain-mlogloss:0.615414+0.00594481\ttest-merror:0.399185+0.00505661\ttest-mlogloss:1.0198+0.00961177\n",
      "[178]\ttrain-merror:0.0974704+0.003193\ttrain-mlogloss:0.613332+0.0059255\ttest-merror:0.398871+0.00493516\ttest-mlogloss:1.0192+0.00967541\n",
      "[179]\ttrain-merror:0.0971306+0.00324125\ttrain-mlogloss:0.61128+0.00590336\ttest-merror:0.39929+0.0051545\ttest-mlogloss:1.01862+0.0097492\n",
      "[180]\ttrain-merror:0.097026+0.00319224\ttrain-mlogloss:0.609263+0.00589141\ttest-merror:0.399394+0.00478686\ttest-mlogloss:1.01811+0.00978543\n"
     ]
    },
    {
     "name": "stdout",
     "output_type": "stream",
     "text": [
      "[181]\ttrain-merror:0.0967124+0.00311443\ttrain-mlogloss:0.607311+0.00586926\ttest-merror:0.399394+0.00548468\ttest-mlogloss:1.01762+0.0098463\n",
      "[182]\ttrain-merror:0.0962162+0.0031311\ttrain-mlogloss:0.605318+0.00597624\ttest-merror:0.399499+0.00520844\ttest-mlogloss:1.01707+0.00983842\n",
      "[183]\ttrain-merror:0.0958242+0.00302032\ttrain-mlogloss:0.603291+0.0060044\ttest-merror:0.399185+0.00524109\ttest-mlogloss:1.01655+0.0098564\n",
      "[184]\ttrain-merror:0.09538+0.00315148\ttrain-mlogloss:0.601203+0.00601505\ttest-merror:0.39908+0.00506543\ttest-mlogloss:1.01602+0.00986075\n",
      "[185]\ttrain-merror:0.095197+0.00310115\ttrain-mlogloss:0.599282+0.00608366\ttest-merror:0.398976+0.00529987\ttest-mlogloss:1.01552+0.00988492\n",
      "[186]\ttrain-merror:0.0946744+0.00319544\ttrain-mlogloss:0.597367+0.00609605\ttest-merror:0.398872+0.00500314\ttest-mlogloss:1.01502+0.0099278\n",
      "[187]\ttrain-merror:0.094439+0.00313535\ttrain-mlogloss:0.595426+0.00612056\ttest-merror:0.398767+0.0053907\ttest-mlogloss:1.01453+0.00997696\n",
      "[188]\ttrain-merror:0.0942824+0.00309973\ttrain-mlogloss:0.593461+0.00621433\ttest-merror:0.398662+0.00492474\ttest-mlogloss:1.01405+0.00999759\n",
      "[189]\ttrain-merror:0.093995+0.00319839\ttrain-mlogloss:0.591632+0.00620257\ttest-merror:0.399185+0.0052931\ttest-mlogloss:1.01363+0.0100037\n",
      "[190]\ttrain-merror:0.0937598+0.00315688\ttrain-mlogloss:0.589806+0.0062039\ttest-merror:0.399185+0.00539531\ttest-mlogloss:1.01316+0.0100467\n",
      "[191]\ttrain-merror:0.0933676+0.00313777\ttrain-mlogloss:0.587966+0.00614173\ttest-merror:0.398871+0.00511543\ttest-mlogloss:1.01276+0.0100919\n",
      "[192]\ttrain-merror:0.0929236+0.00325266\ttrain-mlogloss:0.586171+0.00612823\ttest-merror:0.398558+0.00500872\ttest-mlogloss:1.01233+0.0101504\n",
      "[193]\ttrain-merror:0.0928714+0.00344391\ttrain-mlogloss:0.584347+0.00612351\ttest-merror:0.398767+0.00478939\ttest-mlogloss:1.01189+0.0101697\n",
      "[194]\ttrain-merror:0.092584+0.00322901\ttrain-mlogloss:0.582439+0.00617426\ttest-merror:0.398767+0.00512868\ttest-mlogloss:1.01144+0.0101975\n",
      "[195]\ttrain-merror:0.0921396+0.00324249\ttrain-mlogloss:0.580641+0.00615855\ttest-merror:0.398662+0.00549913\ttest-mlogloss:1.01101+0.0102351\n",
      "[196]\ttrain-merror:0.0916954+0.00324592\ttrain-mlogloss:0.578781+0.00628028\ttest-merror:0.398871+0.00500514\ttest-mlogloss:1.01058+0.0102354\n",
      "[197]\ttrain-merror:0.0913818+0.00315352\ttrain-mlogloss:0.577026+0.00633534\ttest-merror:0.398767+0.00495923\ttest-mlogloss:1.01017+0.0102556\n",
      "[198]\ttrain-merror:0.0911206+0.00342872\ttrain-mlogloss:0.575197+0.00630203\ttest-merror:0.398662+0.00507512\ttest-mlogloss:1.00977+0.0102699\n",
      "[199]\ttrain-merror:0.0907022+0.00332437\ttrain-mlogloss:0.573355+0.00637271\ttest-merror:0.398662+0.00483253\ttest-mlogloss:1.00934+0.0103296\n",
      "[200]\ttrain-merror:0.0904674+0.00345388\ttrain-mlogloss:0.571564+0.00637595\ttest-merror:0.398871+0.00483622\ttest-mlogloss:1.00893+0.0103103\n",
      "[201]\ttrain-merror:0.0903626+0.00341789\ttrain-mlogloss:0.569778+0.00639565\ttest-merror:0.399185+0.00410152\ttest-mlogloss:1.00853+0.0103046\n",
      "[202]\ttrain-merror:0.0898926+0.00321326\ttrain-mlogloss:0.568052+0.00648444\ttest-merror:0.398871+0.00490595\ttest-mlogloss:1.00814+0.0103245\n",
      "[203]\ttrain-merror:0.0897876+0.00325861\ttrain-mlogloss:0.566339+0.00650704\ttest-merror:0.398871+0.00515585\ttest-mlogloss:1.00775+0.0103953\n",
      "[204]\ttrain-merror:0.0895002+0.00323852\ttrain-mlogloss:0.5646+0.0064434\ttest-merror:0.398767+0.00564781\ttest-mlogloss:1.0074+0.0104188\n",
      "[205]\ttrain-merror:0.0891346+0.00315495\ttrain-mlogloss:0.562872+0.00637699\ttest-merror:0.398871+0.00561082\ttest-mlogloss:1.00704+0.0103786\n",
      "[206]\ttrain-merror:0.0887948+0.00320843\ttrain-mlogloss:0.561085+0.00643443\ttest-merror:0.398558+0.00518858\ttest-mlogloss:1.00674+0.0104069\n",
      "[207]\ttrain-merror:0.0883766+0.00312614\ttrain-mlogloss:0.559471+0.00638532\ttest-merror:0.398244+0.00516266\ttest-mlogloss:1.00641+0.0104298\n",
      "[208]\ttrain-merror:0.0881416+0.00302751\ttrain-mlogloss:0.557805+0.00631967\ttest-merror:0.397826+0.00548213\ttest-mlogloss:1.00603+0.0104265\n",
      "[209]\ttrain-merror:0.0879322+0.00298138\ttrain-mlogloss:0.55619+0.00633599\ttest-merror:0.398558+0.00555314\ttest-mlogloss:1.00567+0.0104636\n",
      "[210]\ttrain-merror:0.0878018+0.00298914\ttrain-mlogloss:0.554477+0.00628133\ttest-merror:0.398139+0.00533143\ttest-mlogloss:1.00537+0.010489\n",
      "[211]\ttrain-merror:0.0875926+0.00289564\ttrain-mlogloss:0.552836+0.00629848\ttest-merror:0.39814+0.0050754\ttest-mlogloss:1.00501+0.0105255\n",
      "[212]\ttrain-merror:0.0872532+0.00295741\ttrain-mlogloss:0.551125+0.00635062\ttest-merror:0.398349+0.00565273\ttest-mlogloss:1.00469+0.0105933\n",
      "[213]\ttrain-merror:0.0870962+0.0030102\ttrain-mlogloss:0.54949+0.00635065\ttest-merror:0.398349+0.00539538\ttest-mlogloss:1.00431+0.0106128\n",
      "[214]\ttrain-merror:0.086861+0.00307367\ttrain-mlogloss:0.54783+0.00637785\ttest-merror:0.398453+0.00502406\ttest-mlogloss:1.00395+0.010641\n",
      "[215]\ttrain-merror:0.0865734+0.00316798\ttrain-mlogloss:0.546133+0.00636055\ttest-merror:0.398558+0.00517974\ttest-mlogloss:1.00362+0.0106682\n",
      "[216]\ttrain-merror:0.0862078+0.00304747\ttrain-mlogloss:0.544542+0.0063716\ttest-merror:0.398558+0.00517974\ttest-mlogloss:1.00331+0.0106815\n",
      "[217]\ttrain-merror:0.086103+0.00314499\ttrain-mlogloss:0.542895+0.00644993\ttest-merror:0.398662+0.00455316\ttest-mlogloss:1.00294+0.0107438\n",
      "[218]\ttrain-merror:0.085685+0.00306993\ttrain-mlogloss:0.541298+0.00649244\ttest-merror:0.398871+0.004939\ttest-mlogloss:1.00264+0.0107571\n",
      "[219]\ttrain-merror:0.085502+0.00309298\ttrain-mlogloss:0.539687+0.00648024\ttest-merror:0.398767+0.00488168\ttest-mlogloss:1.00234+0.0108071\n",
      "[220]\ttrain-merror:0.0851622+0.00309187\ttrain-mlogloss:0.538177+0.00656861\ttest-merror:0.399185+0.00526562\ttest-mlogloss:1.00198+0.0107932\n",
      "[221]\ttrain-merror:0.0847442+0.00309218\ttrain-mlogloss:0.536551+0.00657143\ttest-merror:0.398662+0.00512223\ttest-mlogloss:1.00168+0.0108147\n",
      "[222]\ttrain-merror:0.084483+0.00321009\ttrain-mlogloss:0.535067+0.00660544\ttest-merror:0.398662+0.00499937\ttest-mlogloss:1.00135+0.0108476\n",
      "[223]\ttrain-merror:0.0842216+0.00319746\ttrain-mlogloss:0.533487+0.00661336\ttest-merror:0.398139+0.00498392\ttest-mlogloss:1.00097+0.0108361\n",
      "[224]\ttrain-merror:0.0837516+0.00309264\ttrain-mlogloss:0.531966+0.00661518\ttest-merror:0.398558+0.0051673\ttest-mlogloss:1.0007+0.0108611\n",
      "[225]\ttrain-merror:0.0833856+0.00303038\ttrain-mlogloss:0.530462+0.00663864\ttest-merror:0.398349+0.00484508\ttest-mlogloss:1.00041+0.0108802\n",
      "[226]\ttrain-merror:0.0832024+0.00300253\ttrain-mlogloss:0.528926+0.00670925\ttest-merror:0.398349+0.00493893\ttest-mlogloss:1.00008+0.0109404\n",
      "[227]\ttrain-merror:0.0830196+0.00291935\ttrain-mlogloss:0.527471+0.00670003\ttest-merror:0.398453+0.0052016\ttest-mlogloss:0.999828+0.0109657\n",
      "[228]\ttrain-merror:0.0826016+0.00311529\ttrain-mlogloss:0.525967+0.0067508\ttest-merror:0.398349+0.00489889\ttest-mlogloss:0.999557+0.0109748\n",
      "[229]\ttrain-merror:0.0822094+0.00321246\ttrain-mlogloss:0.524444+0.00678902\ttest-merror:0.398453+0.00505632\ttest-mlogloss:0.999292+0.011044\n",
      "[230]\ttrain-merror:0.0819224+0.00311165\ttrain-mlogloss:0.522953+0.00685414\ttest-merror:0.398558+0.00473717\ttest-mlogloss:0.999066+0.0110393\n",
      "[231]\ttrain-merror:0.0816608+0.00311905\ttrain-mlogloss:0.521468+0.00675907\ttest-merror:0.398244+0.00455739\ttest-mlogloss:0.998785+0.0111001\n",
      "[232]\ttrain-merror:0.0814518+0.00302111\ttrain-mlogloss:0.520015+0.00676318\ttest-merror:0.398244+0.00488149\ttest-mlogloss:0.998554+0.0110891\n",
      "[233]\ttrain-merror:0.0812688+0.00325083\ttrain-mlogloss:0.518605+0.00684343\ttest-merror:0.398453+0.00546765\ttest-mlogloss:0.998324+0.0111203\n",
      "[234]\ttrain-merror:0.081086+0.00312702\ttrain-mlogloss:0.517172+0.00679622\ttest-merror:0.398662+0.00516275\ttest-mlogloss:0.998017+0.011181\n",
      "[235]\ttrain-merror:0.0807202+0.00302251\ttrain-mlogloss:0.515763+0.00677806\ttest-merror:0.398558+0.00528224\ttest-mlogloss:0.99776+0.0112606\n",
      "[236]\ttrain-merror:0.0804328+0.00286516\ttrain-mlogloss:0.514353+0.00675808\ttest-merror:0.397931+0.00540525\ttest-mlogloss:0.997529+0.0112872\n",
      "[237]\ttrain-merror:0.0801452+0.00302958\ttrain-mlogloss:0.512969+0.00670478\ttest-merror:0.39814+0.00523597\ttest-mlogloss:0.997253+0.0113001\n",
      "[238]\ttrain-merror:0.07991+0.00331052\ttrain-mlogloss:0.511539+0.0067514\ttest-merror:0.398244+0.00517493\ttest-mlogloss:0.996987+0.0112772\n",
      "[239]\ttrain-merror:0.0798056+0.00316085\ttrain-mlogloss:0.51015+0.00673899\ttest-merror:0.398453+0.00503076\ttest-mlogloss:0.996725+0.0113093\n",
      "[240]\ttrain-merror:0.0793612+0.00328373\ttrain-mlogloss:0.508727+0.00672451\ttest-merror:0.398453+0.00487159\ttest-mlogloss:0.99648+0.0112681\n"
     ]
    },
    {
     "name": "stdout",
     "output_type": "stream",
     "text": [
      "[241]\ttrain-merror:0.0790998+0.00337857\ttrain-mlogloss:0.507292+0.00678464\ttest-merror:0.398767+0.00499442\ttest-mlogloss:0.996218+0.0112816\n",
      "[242]\ttrain-merror:0.0788648+0.00352151\ttrain-mlogloss:0.505942+0.0067899\ttest-merror:0.398767+0.00507472\ttest-mlogloss:0.995988+0.0112778\n",
      "[243]\ttrain-merror:0.0785252+0.00363795\ttrain-mlogloss:0.504551+0.00676326\ttest-merror:0.398871+0.00524968\ttest-mlogloss:0.995776+0.0113284\n",
      "[244]\ttrain-merror:0.0781068+0.00358623\ttrain-mlogloss:0.503186+0.00684649\ttest-merror:0.398872+0.00552783\ttest-mlogloss:0.995565+0.0113739\n",
      "[245]\ttrain-merror:0.0779764+0.00366438\ttrain-mlogloss:0.501861+0.00696184\ttest-merror:0.398662+0.00501638\ttest-mlogloss:0.995354+0.0113308\n",
      "[246]\ttrain-merror:0.0775582+0.00376872\ttrain-mlogloss:0.50047+0.00690363\ttest-merror:0.398767+0.00488817\ttest-mlogloss:0.995091+0.0113331\n",
      "[247]\ttrain-merror:0.07748+0.0037893\ttrain-mlogloss:0.499112+0.00693023\ttest-merror:0.398976+0.00547984\ttest-mlogloss:0.994876+0.0113323\n",
      "[248]\ttrain-merror:0.07714+0.0037897\ttrain-mlogloss:0.497728+0.00691877\ttest-merror:0.397931+0.00531117\ttest-mlogloss:0.994708+0.0114168\n",
      "[249]\ttrain-merror:0.0770356+0.00381953\ttrain-mlogloss:0.496399+0.00690412\ttest-merror:0.398453+0.0051591\ttest-mlogloss:0.994491+0.0114506\n",
      "[250]\ttrain-merror:0.076879+0.00380136\ttrain-mlogloss:0.49517+0.00685228\ttest-merror:0.398454+0.00565414\ttest-mlogloss:0.994295+0.0114439\n",
      "[251]\ttrain-merror:0.0764866+0.00374891\ttrain-mlogloss:0.493811+0.0068119\ttest-merror:0.398662+0.00529631\ttest-mlogloss:0.994056+0.0114491\n",
      "[252]\ttrain-merror:0.076173+0.00373922\ttrain-mlogloss:0.492574+0.00672065\ttest-merror:0.398035+0.00547089\ttest-mlogloss:0.993859+0.0114697\n",
      "[253]\ttrain-merror:0.075938+0.00360121\ttrain-mlogloss:0.491306+0.00667668\ttest-merror:0.398244+0.00556944\ttest-mlogloss:0.993671+0.011497\n",
      "[254]\ttrain-merror:0.075703+0.00355471\ttrain-mlogloss:0.490002+0.00668236\ttest-merror:0.398767+0.00528728\ttest-mlogloss:0.993495+0.0115147\n",
      "[255]\ttrain-merror:0.075494+0.00351466\ttrain-mlogloss:0.488757+0.00672978\ttest-merror:0.398558+0.0054229\ttest-mlogloss:0.993273+0.0114882\n",
      "[256]\ttrain-merror:0.0752326+0.0036275\ttrain-mlogloss:0.487387+0.00670294\ttest-merror:0.398663+0.00568437\ttest-mlogloss:0.993105+0.0115368\n",
      "[257]\ttrain-merror:0.074945+0.00377423\ttrain-mlogloss:0.486103+0.0066682\ttest-merror:0.398767+0.00556176\ttest-mlogloss:0.992911+0.011542\n",
      "[258]\ttrain-merror:0.074788+0.00384761\ttrain-mlogloss:0.484843+0.00667114\ttest-merror:0.398558+0.00581214\ttest-mlogloss:0.992736+0.0115591\n",
      "[259]\ttrain-merror:0.074553+0.00389356\ttrain-mlogloss:0.483635+0.00674934\ttest-merror:0.398349+0.00525372\ttest-mlogloss:0.992527+0.011551\n",
      "[260]\ttrain-merror:0.0743442+0.00386828\ttrain-mlogloss:0.482387+0.00677869\ttest-merror:0.398558+0.00551883\ttest-mlogloss:0.992318+0.0115576\n",
      "[261]\ttrain-merror:0.0736908+0.0038225\ttrain-mlogloss:0.481173+0.00680094\ttest-merror:0.398558+0.00558179\ttest-mlogloss:0.992144+0.0115087\n",
      "[262]\ttrain-merror:0.0735338+0.00374069\ttrain-mlogloss:0.479916+0.00685207\ttest-merror:0.398662+0.00604193\ttest-mlogloss:0.991958+0.0115053\n",
      "[263]\ttrain-merror:0.0734032+0.00372766\ttrain-mlogloss:0.47866+0.00681393\ttest-merror:0.398245+0.0061528\ttest-mlogloss:0.991765+0.0115138\n",
      "[264]\ttrain-merror:0.073142+0.00370698\ttrain-mlogloss:0.477502+0.00684287\ttest-merror:0.398244+0.00581139\ttest-mlogloss:0.991598+0.011545\n",
      "[265]\ttrain-merror:0.0729328+0.00372233\ttrain-mlogloss:0.476273+0.00686448\ttest-merror:0.398349+0.00582047\ttest-mlogloss:0.991379+0.0115715\n",
      "[266]\ttrain-merror:0.0726716+0.00367812\ttrain-mlogloss:0.475026+0.00688217\ttest-merror:0.398244+0.0056531\ttest-mlogloss:0.991239+0.0115882\n",
      "[267]\ttrain-merror:0.0722274+0.00367975\ttrain-mlogloss:0.473859+0.0069023\ttest-merror:0.39814+0.0054668\ttest-mlogloss:0.991076+0.0116324\n",
      "[268]\ttrain-merror:0.0718354+0.00363358\ttrain-mlogloss:0.472659+0.00692777\ttest-merror:0.397931+0.00556478\ttest-mlogloss:0.990935+0.0116343\n",
      "[269]\ttrain-merror:0.0714696+0.00352421\ttrain-mlogloss:0.471441+0.00693815\ttest-merror:0.397826+0.00599428\ttest-mlogloss:0.990766+0.0116223\n",
      "[270]\ttrain-merror:0.071182+0.00353978\ttrain-mlogloss:0.470193+0.00691958\ttest-merror:0.398245+0.00551781\ttest-mlogloss:0.990612+0.011632\n",
      "[271]\ttrain-merror:0.0711038+0.00362213\ttrain-mlogloss:0.468985+0.00697728\ttest-merror:0.398453+0.00591123\ttest-mlogloss:0.990466+0.0116852\n",
      "[272]\ttrain-merror:0.0708686+0.00363787\ttrain-mlogloss:0.467744+0.00699582\ttest-merror:0.398662+0.0057091\ttest-mlogloss:0.990311+0.0116812\n",
      "[273]\ttrain-merror:0.0706596+0.00360137\ttrain-mlogloss:0.466652+0.00696635\ttest-merror:0.39814+0.00619036\ttest-mlogloss:0.990197+0.0116931\n",
      "[274]\ttrain-merror:0.070424+0.00366636\ttrain-mlogloss:0.465499+0.00701902\ttest-merror:0.398454+0.00608951\ttest-mlogloss:0.990051+0.0117071\n",
      "[275]\ttrain-merror:0.070398+0.00370303\ttrain-mlogloss:0.4644+0.00708091\ttest-merror:0.398454+0.00593305\ttest-mlogloss:0.989884+0.0117335\n",
      "[276]\ttrain-merror:0.0701106+0.00353818\ttrain-mlogloss:0.463357+0.00709485\ttest-merror:0.398454+0.00576317\ttest-mlogloss:0.989757+0.0117273\n",
      "[277]\ttrain-merror:0.06998+0.00366416\ttrain-mlogloss:0.462175+0.00706781\ttest-merror:0.398767+0.00564902\ttest-mlogloss:0.989579+0.0117431\n",
      "[278]\ttrain-merror:0.069719+0.00356413\ttrain-mlogloss:0.461037+0.00704775\ttest-merror:0.398558+0.00571714\ttest-mlogloss:0.989483+0.0117708\n",
      "[279]\ttrain-merror:0.069405+0.00366677\ttrain-mlogloss:0.459858+0.00698719\ttest-merror:0.398767+0.00573903\ttest-mlogloss:0.989325+0.0118147\n",
      "[280]\ttrain-merror:0.0691698+0.00354778\ttrain-mlogloss:0.458729+0.00691914\ttest-merror:0.398872+0.00574455\ttest-mlogloss:0.989171+0.0118193\n",
      "[281]\ttrain-merror:0.0691176+0.00357413\ttrain-mlogloss:0.457647+0.00696539\ttest-merror:0.398454+0.00590708\ttest-mlogloss:0.989078+0.0117987\n",
      "[282]\ttrain-merror:0.0689088+0.00354778\ttrain-mlogloss:0.456531+0.0069596\ttest-merror:0.398663+0.00596165\ttest-mlogloss:0.988925+0.0118324\n",
      "[283]\ttrain-merror:0.0686998+0.00358591\ttrain-mlogloss:0.455334+0.00702501\ttest-merror:0.398872+0.0051843\ttest-mlogloss:0.988813+0.0118404\n",
      "[284]\ttrain-merror:0.068412+0.00374174\ttrain-mlogloss:0.454228+0.00707416\ttest-merror:0.398558+0.00527541\ttest-mlogloss:0.988725+0.011861\n",
      "[285]\ttrain-merror:0.068203+0.00363485\ttrain-mlogloss:0.453083+0.00706166\ttest-merror:0.398035+0.00542826\ttest-mlogloss:0.988573+0.0118313\n",
      "[286]\ttrain-merror:0.0678636+0.00349261\ttrain-mlogloss:0.451957+0.00703323\ttest-merror:0.398245+0.0057773\ttest-mlogloss:0.988485+0.0118232\n",
      "[287]\ttrain-merror:0.0677328+0.00362487\ttrain-mlogloss:0.450808+0.00704324\ttest-merror:0.398454+0.0054976\ttest-mlogloss:0.988336+0.0118626\n",
      "[288]\ttrain-merror:0.0675756+0.00364817\ttrain-mlogloss:0.449751+0.00705693\ttest-merror:0.398558+0.00597852\ttest-mlogloss:0.988254+0.0118618\n",
      "[289]\ttrain-merror:0.0672624+0.00369279\ttrain-mlogloss:0.448716+0.00703008\ttest-merror:0.39814+0.00611373\ttest-mlogloss:0.988152+0.0118722\n",
      "[290]\ttrain-merror:0.0669488+0.00369753\ttrain-mlogloss:0.44765+0.0070854\ttest-merror:0.398454+0.00596236\ttest-mlogloss:0.988011+0.0119329\n",
      "[291]\ttrain-merror:0.0668442+0.00370006\ttrain-mlogloss:0.446609+0.00718731\ttest-merror:0.398558+0.00622713\ttest-mlogloss:0.987906+0.0119741\n",
      "[292]\ttrain-merror:0.0667658+0.00361744\ttrain-mlogloss:0.445535+0.007196\ttest-merror:0.398558+0.00626738\ttest-mlogloss:0.987805+0.0120483\n",
      "[293]\ttrain-merror:0.0666876+0.00365468\ttrain-mlogloss:0.444464+0.00720789\ttest-merror:0.398349+0.00637536\ttest-mlogloss:0.987715+0.0120634\n",
      "[294]\ttrain-merror:0.0664784+0.00354372\ttrain-mlogloss:0.443444+0.00721131\ttest-merror:0.398767+0.00627013\ttest-mlogloss:0.987577+0.0120531\n",
      "[295]\ttrain-merror:0.0663216+0.00343567\ttrain-mlogloss:0.442339+0.00717004\ttest-merror:0.398558+0.00603669\ttest-mlogloss:0.987447+0.0120777\n",
      "[296]\ttrain-merror:0.0661126+0.00349094\ttrain-mlogloss:0.441316+0.0072028\ttest-merror:0.398245+0.00606986\ttest-mlogloss:0.987312+0.01208\n",
      "[297]\ttrain-merror:0.0658252+0.00340663\ttrain-mlogloss:0.440268+0.00719085\ttest-merror:0.398349+0.0054274\ttest-mlogloss:0.987211+0.0121273\n",
      "[298]\ttrain-merror:0.0655638+0.00337454\ttrain-mlogloss:0.439235+0.00719534\ttest-merror:0.398558+0.00542865\ttest-mlogloss:0.987103+0.0121235\n",
      "[299]\ttrain-merror:0.065433+0.00359763\ttrain-mlogloss:0.438192+0.00716453\ttest-merror:0.398663+0.00542823\ttest-mlogloss:0.987016+0.0121185\n"
     ]
    },
    {
     "name": "stdout",
     "output_type": "stream",
     "text": [
      "[300]\ttrain-merror:0.0650412+0.00343172\ttrain-mlogloss:0.437125+0.00720314\ttest-merror:0.398558+0.00585499\ttest-mlogloss:0.986896+0.0121397\n",
      "[301]\ttrain-merror:0.064806+0.00329638\ttrain-mlogloss:0.43611+0.00719816\ttest-merror:0.398454+0.00564428\ttest-mlogloss:0.986818+0.0121295\n",
      "[302]\ttrain-merror:0.0644402+0.00332552\ttrain-mlogloss:0.434998+0.00721408\ttest-merror:0.398245+0.00574837\ttest-mlogloss:0.986745+0.0121334\n",
      "[303]\ttrain-merror:0.0641004+0.00318533\ttrain-mlogloss:0.434056+0.00719041\ttest-merror:0.398454+0.00569989\ttest-mlogloss:0.986646+0.0121175\n",
      "[304]\ttrain-merror:0.0640222+0.0030901\ttrain-mlogloss:0.433049+0.0072001\ttest-merror:0.398663+0.00602705\ttest-mlogloss:0.98651+0.0121452\n",
      "[305]\ttrain-merror:0.063761+0.00325078\ttrain-mlogloss:0.432062+0.00719767\ttest-merror:0.398245+0.00629988\ttest-mlogloss:0.986468+0.0121476\n",
      "[306]\ttrain-merror:0.0635778+0.00316301\ttrain-mlogloss:0.431025+0.00719723\ttest-merror:0.398558+0.00610313\ttest-mlogloss:0.986394+0.0122119\n",
      "[307]\ttrain-merror:0.063421+0.00318002\ttrain-mlogloss:0.430004+0.00716291\ttest-merror:0.398663+0.00556792\ttest-mlogloss:0.986375+0.0122149\n",
      "[308]\ttrain-merror:0.0632902+0.00328971\ttrain-mlogloss:0.429087+0.00716746\ttest-merror:0.398454+0.00569652\ttest-mlogloss:0.986322+0.0122273\n",
      "[309]\ttrain-merror:0.0630292+0.00328961\ttrain-mlogloss:0.428115+0.00722754\ttest-merror:0.398767+0.00567215\ttest-mlogloss:0.986265+0.012254\n",
      "[310]\ttrain-merror:0.063003+0.0032624\ttrain-mlogloss:0.427067+0.00728113\ttest-merror:0.398349+0.00569309\ttest-mlogloss:0.986154+0.0122996\n",
      "[311]\ttrain-merror:0.0627938+0.00334507\ttrain-mlogloss:0.42609+0.00733504\ttest-merror:0.398663+0.00567245\ttest-mlogloss:0.986072+0.0123505\n",
      "[312]\ttrain-merror:0.0625586+0.00332362\ttrain-mlogloss:0.425117+0.00740955\ttest-merror:0.398663+0.00590474\ttest-mlogloss:0.986005+0.0123998\n",
      "[313]\ttrain-merror:0.0624018+0.00326486\ttrain-mlogloss:0.42415+0.00740782\ttest-merror:0.398349+0.00584624\ttest-mlogloss:0.985958+0.0124302\n",
      "[314]\ttrain-merror:0.062245+0.00335725\ttrain-mlogloss:0.423269+0.00743663\ttest-merror:0.398767+0.00606139\ttest-mlogloss:0.985876+0.0124378\n",
      "[315]\ttrain-merror:0.06201+0.00321956\ttrain-mlogloss:0.422335+0.00744718\ttest-merror:0.398767+0.00606139\ttest-mlogloss:0.985801+0.0124352\n",
      "[316]\ttrain-merror:0.061827+0.00305723\ttrain-mlogloss:0.421404+0.00745845\ttest-merror:0.398454+0.00571943\ttest-mlogloss:0.985755+0.0124148\n",
      "[317]\ttrain-merror:0.0616438+0.00313326\ttrain-mlogloss:0.420483+0.00747748\ttest-merror:0.398663+0.00586179\ttest-mlogloss:0.985676+0.0124297\n",
      "[318]\ttrain-merror:0.0615656+0.00321387\ttrain-mlogloss:0.41958+0.00742359\ttest-merror:0.398349+0.00579721\ttest-mlogloss:0.985632+0.0124564\n",
      "[319]\ttrain-merror:0.0612522+0.00303794\ttrain-mlogloss:0.418658+0.0074561\ttest-merror:0.398558+0.00619009\ttest-mlogloss:0.985603+0.0124809\n",
      "[320]\ttrain-merror:0.0611738+0.00308286\ttrain-mlogloss:0.417745+0.0075092\ttest-merror:0.39814+0.00588607\ttest-mlogloss:0.985551+0.0125012\n",
      "[321]\ttrain-merror:0.0609648+0.0032214\ttrain-mlogloss:0.41679+0.00746103\ttest-merror:0.39814+0.00607253\ttest-mlogloss:0.985501+0.0124701\n",
      "[322]\ttrain-merror:0.0608862+0.00321858\ttrain-mlogloss:0.415792+0.00741951\ttest-merror:0.397618+0.00592318\ttest-mlogloss:0.98542+0.0125267\n",
      "[323]\ttrain-merror:0.0605988+0.00320823\ttrain-mlogloss:0.414851+0.00742036\ttest-merror:0.397617+0.00576024\ttest-mlogloss:0.985371+0.0125684\n",
      "[324]\ttrain-merror:0.0604682+0.00327167\ttrain-mlogloss:0.41399+0.00739117\ttest-merror:0.397513+0.0057796\ttest-mlogloss:0.985331+0.0125811\n",
      "[325]\ttrain-merror:0.0603638+0.00302508\ttrain-mlogloss:0.413105+0.00737998\ttest-merror:0.397722+0.0061171\ttest-mlogloss:0.985282+0.0125927\n",
      "[326]\ttrain-merror:0.0602326+0.0029452\ttrain-mlogloss:0.412236+0.00734742\ttest-merror:0.397722+0.0057391\ttest-mlogloss:0.985248+0.0126222\n",
      "[327]\ttrain-merror:0.060024+0.00314985\ttrain-mlogloss:0.411307+0.00736642\ttest-merror:0.398036+0.0057795\ttest-mlogloss:0.985204+0.0126043\n",
      "[328]\ttrain-merror:0.0598668+0.00316369\ttrain-mlogloss:0.41039+0.0073735\ttest-merror:0.397618+0.0059839\ttest-mlogloss:0.985146+0.0125936\n",
      "[329]\ttrain-merror:0.059423+0.00309466\ttrain-mlogloss:0.409505+0.00736601\ttest-merror:0.397722+0.00619334\ttest-mlogloss:0.985108+0.0125796\n",
      "[330]\ttrain-merror:0.0593182+0.00314147\ttrain-mlogloss:0.408619+0.00734836\ttest-merror:0.397408+0.00631682\ttest-mlogloss:0.985007+0.0125976\n",
      "[331]\ttrain-merror:0.0591354+0.00310712\ttrain-mlogloss:0.407774+0.00736639\ttest-merror:0.397618+0.00604378\ttest-mlogloss:0.984943+0.0126268\n",
      "[332]\ttrain-merror:0.059057+0.0031045\ttrain-mlogloss:0.406891+0.00744204\ttest-merror:0.397617+0.00622354\ttest-mlogloss:0.984922+0.0126517\n",
      "[333]\ttrain-merror:0.0588478+0.00297621\ttrain-mlogloss:0.40602+0.00741829\ttest-merror:0.397722+0.00645938\ttest-mlogloss:0.984853+0.0126603\n",
      "[334]\ttrain-merror:0.0586912+0.00294351\ttrain-mlogloss:0.405206+0.00737419\ttest-merror:0.397618+0.00628122\ttest-mlogloss:0.984815+0.0126835\n",
      "[335]\ttrain-merror:0.0584562+0.00270093\ttrain-mlogloss:0.404404+0.00732237\ttest-merror:0.397722+0.00631897\ttest-mlogloss:0.984778+0.012688\n",
      "[336]\ttrain-merror:0.05809+0.00277184\ttrain-mlogloss:0.403509+0.00721995\ttest-merror:0.397513+0.00625016\ttest-mlogloss:0.984726+0.0126852\n",
      "[337]\ttrain-merror:0.0579332+0.00271088\ttrain-mlogloss:0.40268+0.0072045\ttest-merror:0.397304+0.00601053\ttest-mlogloss:0.984674+0.0126945\n",
      "[338]\ttrain-merror:0.0577506+0.00255743\ttrain-mlogloss:0.40187+0.00716317\ttest-merror:0.397199+0.00582989\ttest-mlogloss:0.984645+0.0127002\n",
      "[339]\ttrain-merror:0.0577242+0.00262357\ttrain-mlogloss:0.401055+0.00715138\ttest-merror:0.397513+0.00552478\ttest-mlogloss:0.98462+0.0127088\n",
      "[340]\ttrain-merror:0.0573844+0.00269403\ttrain-mlogloss:0.400235+0.00723596\ttest-merror:0.397304+0.00554344\ttest-mlogloss:0.984579+0.0127314\n",
      "[341]\ttrain-merror:0.0572278+0.00271868\ttrain-mlogloss:0.399395+0.00717566\ttest-merror:0.397304+0.00555907\ttest-mlogloss:0.984518+0.012711\n",
      "[342]\ttrain-merror:0.057019+0.00264836\ttrain-mlogloss:0.398547+0.00719613\ttest-merror:0.39699+0.00553473\ttest-mlogloss:0.984486+0.0127302\n",
      "[343]\ttrain-merror:0.0568882+0.00270192\ttrain-mlogloss:0.397724+0.00723555\ttest-merror:0.397304+0.00538935\ttest-mlogloss:0.984449+0.0127434\n",
      "[344]\ttrain-merror:0.056627+0.00266023\ttrain-mlogloss:0.396878+0.00714786\ttest-merror:0.397408+0.00542937\ttest-mlogloss:0.98445+0.0127515\n",
      "[345]\ttrain-merror:0.0564176+0.00263008\ttrain-mlogloss:0.396001+0.00715099\ttest-merror:0.397408+0.0052136\ttest-mlogloss:0.984396+0.0127263\n",
      "[346]\ttrain-merror:0.0564176+0.0025766\ttrain-mlogloss:0.395234+0.00710144\ttest-merror:0.397513+0.00538038\ttest-mlogloss:0.984321+0.012751\n",
      "[347]\ttrain-merror:0.0562086+0.00274832\ttrain-mlogloss:0.394418+0.00707838\ttest-merror:0.397617+0.00525276\ttest-mlogloss:0.984279+0.0127661\n",
      "[348]\ttrain-merror:0.0559736+0.0027495\ttrain-mlogloss:0.393619+0.00707395\ttest-merror:0.397513+0.00499058\ttest-mlogloss:0.984274+0.0127718\n",
      "[349]\ttrain-merror:0.0559214+0.00268866\ttrain-mlogloss:0.392762+0.00707807\ttest-merror:0.397304+0.00523534\ttest-mlogloss:0.98423+0.0127935\n",
      "[350]\ttrain-merror:0.0556862+0.00280689\ttrain-mlogloss:0.39197+0.0070229\ttest-merror:0.396886+0.00528655\ttest-mlogloss:0.984198+0.0128409\n",
      "[351]\ttrain-merror:0.0555554+0.00269012\ttrain-mlogloss:0.391189+0.00697728\ttest-merror:0.397199+0.00514089\ttest-mlogloss:0.984205+0.0128724\n",
      "[352]\ttrain-merror:0.0555292+0.0027212\ttrain-mlogloss:0.390371+0.00697614\ttest-merror:0.397199+0.0055378\ttest-mlogloss:0.984166+0.0129214\n",
      "[353]\ttrain-merror:0.0553202+0.00260291\ttrain-mlogloss:0.389562+0.00699072\ttest-merror:0.397304+0.00609725\ttest-mlogloss:0.98411+0.0129523\n",
      "[354]\ttrain-merror:0.0552158+0.00269084\ttrain-mlogloss:0.388758+0.00701589\ttest-merror:0.397304+0.00593396\ttest-mlogloss:0.984124+0.0129703\n",
      "[355]\ttrain-merror:0.0550066+0.00272636\ttrain-mlogloss:0.388019+0.0070293\ttest-merror:0.397513+0.00584789\ttest-mlogloss:0.984083+0.0129884\n",
      "[356]\ttrain-merror:0.0547978+0.00266629\ttrain-mlogloss:0.387295+0.00707647\ttest-merror:0.397199+0.00613696\ttest-mlogloss:0.984045+0.0129972\n",
      "[357]\ttrain-merror:0.0546148+0.00263349\ttrain-mlogloss:0.386493+0.00708579\ttest-merror:0.397513+0.00619241\ttest-mlogloss:0.984018+0.0129991\n",
      "[358]\ttrain-merror:0.0545884+0.00273058\ttrain-mlogloss:0.385655+0.00707405\ttest-merror:0.397617+0.00597681\ttest-mlogloss:0.983963+0.0130043\n"
     ]
    },
    {
     "name": "stdout",
     "output_type": "stream",
     "text": [
      "[359]\ttrain-merror:0.054484+0.00267228\ttrain-mlogloss:0.384796+0.00708163\ttest-merror:0.397408+0.00553501\ttest-mlogloss:0.983916+0.0130347\n",
      "[360]\ttrain-merror:0.054275+0.00257257\ttrain-mlogloss:0.383981+0.00708729\ttest-merror:0.397617+0.00588098\ttest-mlogloss:0.983943+0.0130342\n",
      "[361]\ttrain-merror:0.054118+0.00266476\ttrain-mlogloss:0.383235+0.00705622\ttest-merror:0.397199+0.00591001\ttest-mlogloss:0.983883+0.0130414\n",
      "[362]\ttrain-merror:0.0540138+0.00260431\ttrain-mlogloss:0.382444+0.00703696\ttest-merror:0.39699+0.00596768\ttest-mlogloss:0.983826+0.0130905\n",
      "[363]\ttrain-merror:0.0539092+0.00260816\ttrain-mlogloss:0.381637+0.00700548\ttest-merror:0.397513+0.00610918\ttest-mlogloss:0.983799+0.0131203\n",
      "[364]\ttrain-merror:0.053726+0.00260685\ttrain-mlogloss:0.380921+0.00701883\ttest-merror:0.397513+0.00610918\ttest-mlogloss:0.983803+0.0131255\n",
      "[365]\ttrain-merror:0.0535432+0.00266276\ttrain-mlogloss:0.380161+0.00703263\ttest-merror:0.398036+0.00588116\ttest-mlogloss:0.983821+0.0131344\n",
      "[366]\ttrain-merror:0.053282+0.00257136\ttrain-mlogloss:0.37943+0.007005\ttest-merror:0.398244+0.00593038\ttest-mlogloss:0.983815+0.0131262\n",
      "[367]\ttrain-merror:0.0532296+0.00254216\ttrain-mlogloss:0.378705+0.00701338\ttest-merror:0.398349+0.00571026\ttest-mlogloss:0.983785+0.0131243\n",
      "[368]\ttrain-merror:0.0530988+0.00260459\ttrain-mlogloss:0.377968+0.00696679\ttest-merror:0.397931+0.0058274\ttest-mlogloss:0.983745+0.0131265\n",
      "[369]\ttrain-merror:0.0528902+0.00257943\ttrain-mlogloss:0.377218+0.0069272\ttest-merror:0.397617+0.00553209\ttest-mlogloss:0.983729+0.0131349\n",
      "[370]\ttrain-merror:0.0527594+0.00266297\ttrain-mlogloss:0.37644+0.00694086\ttest-merror:0.397617+0.0053102\ttest-mlogloss:0.983691+0.0131613\n",
      "[371]\ttrain-merror:0.0526026+0.00251938\ttrain-mlogloss:0.375664+0.0068713\ttest-merror:0.397826+0.00585203\ttest-mlogloss:0.983665+0.013188\n",
      "[372]\ttrain-merror:0.0525504+0.00258238\ttrain-mlogloss:0.374969+0.00686342\ttest-merror:0.397826+0.00576171\ttest-mlogloss:0.983644+0.0132126\n",
      "[373]\ttrain-merror:0.0524198+0.00261508\ttrain-mlogloss:0.374242+0.00680897\ttest-merror:0.398245+0.00529776\ttest-mlogloss:0.983652+0.013219\n",
      "[374]\ttrain-merror:0.0523938+0.00261438\ttrain-mlogloss:0.373468+0.00685173\ttest-merror:0.398349+0.00555923\ttest-mlogloss:0.983647+0.0132477\n",
      "[375]\ttrain-merror:0.0522106+0.00258084\ttrain-mlogloss:0.372746+0.00686863\ttest-merror:0.39814+0.00522944\ttest-mlogloss:0.983637+0.0132232\n",
      "[376]\ttrain-merror:0.0520276+0.00258193\ttrain-mlogloss:0.372082+0.00680754\ttest-merror:0.397826+0.00502843\ttest-mlogloss:0.9836+0.013209\n",
      "[377]\ttrain-merror:0.0518186+0.00247191\ttrain-mlogloss:0.371388+0.00681161\ttest-merror:0.398349+0.00502851\ttest-mlogloss:0.983585+0.0132481\n",
      "[378]\ttrain-merror:0.0515574+0.00244245\ttrain-mlogloss:0.370662+0.00681714\ttest-merror:0.398454+0.00512295\ttest-mlogloss:0.98356+0.0132584\n",
      "[379]\ttrain-merror:0.051505+0.002297\ttrain-mlogloss:0.369979+0.00679792\ttest-merror:0.398453+0.00561368\ttest-mlogloss:0.983567+0.0132526\n",
      "[380]\ttrain-merror:0.051453+0.00238421\ttrain-mlogloss:0.369316+0.00681923\ttest-merror:0.398558+0.00545127\ttest-mlogloss:0.983566+0.0132594\n",
      "[381]\ttrain-merror:0.0514006+0.00232643\ttrain-mlogloss:0.3686+0.00682091\ttest-merror:0.398453+0.00550955\ttest-mlogloss:0.983518+0.0132429\n",
      "[382]\ttrain-merror:0.051296+0.00231927\ttrain-mlogloss:0.367909+0.00684119\ttest-merror:0.398035+0.0052805\ttest-mlogloss:0.98347+0.013233\n",
      "[383]\ttrain-merror:0.0512436+0.00235553\ttrain-mlogloss:0.367318+0.00683635\ttest-merror:0.39814+0.00529068\ttest-mlogloss:0.983476+0.0132107\n",
      "[384]\ttrain-merror:0.0511652+0.00232838\ttrain-mlogloss:0.366683+0.00679686\ttest-merror:0.398349+0.00508292\ttest-mlogloss:0.983478+0.0132358\n",
      "[385]\ttrain-merror:0.0510868+0.00229623\ttrain-mlogloss:0.366021+0.0068153\ttest-merror:0.398245+0.00536992\ttest-mlogloss:0.983485+0.0132105\n",
      "[386]\ttrain-merror:0.0509038+0.00243818\ttrain-mlogloss:0.365313+0.00684093\ttest-merror:0.398349+0.00587277\ttest-mlogloss:0.983476+0.0132175\n",
      "[387]\ttrain-merror:0.0507474+0.00254948\ttrain-mlogloss:0.364579+0.00682537\ttest-merror:0.398245+0.00533091\ttest-mlogloss:0.983467+0.0132059\n",
      "[388]\ttrain-merror:0.0506428+0.0025573\ttrain-mlogloss:0.363968+0.00676294\ttest-merror:0.398349+0.00528508\ttest-mlogloss:0.983465+0.0131986\n",
      "[389]\ttrain-merror:0.0505382+0.00251549\ttrain-mlogloss:0.363337+0.00675851\ttest-merror:0.398245+0.00527555\ttest-mlogloss:0.983456+0.0132098\n",
      "[390]\ttrain-merror:0.0504338+0.00243094\ttrain-mlogloss:0.362704+0.00671869\ttest-merror:0.398454+0.00530951\ttest-mlogloss:0.983433+0.0132131\n",
      "[391]\ttrain-merror:0.0503292+0.00252495\ttrain-mlogloss:0.362029+0.00667508\ttest-merror:0.398245+0.00508954\ttest-mlogloss:0.983437+0.0132359\n",
      "[392]\ttrain-merror:0.0501986+0.00256789\ttrain-mlogloss:0.361406+0.00670838\ttest-merror:0.39814+0.00511357\ttest-mlogloss:0.983427+0.0132531\n",
      "[393]\ttrain-merror:0.0501724+0.00253789\ttrain-mlogloss:0.360794+0.00671158\ttest-merror:0.398036+0.0049289\ttest-mlogloss:0.983404+0.0132768\n",
      "[394]\ttrain-merror:0.0501462+0.00257194\ttrain-mlogloss:0.360157+0.00668396\ttest-merror:0.398035+0.00511005\ttest-mlogloss:0.983429+0.0132719\n",
      "[395]\ttrain-merror:0.0499634+0.00259462\ttrain-mlogloss:0.359473+0.00666452\ttest-merror:0.397931+0.00492303\ttest-mlogloss:0.983428+0.0133213\n",
      "[396]\ttrain-merror:0.0498588+0.00251177\ttrain-mlogloss:0.358851+0.00656518\ttest-merror:0.397931+0.00501141\ttest-mlogloss:0.983432+0.013312\n",
      "[397]\ttrain-merror:0.0496498+0.0024641\ttrain-mlogloss:0.358237+0.00655857\ttest-merror:0.397931+0.00484044\ttest-mlogloss:0.983411+0.0133255\n",
      "[398]\ttrain-merror:0.049493+0.00238019\ttrain-mlogloss:0.357557+0.00646372\ttest-merror:0.397722+0.00432907\ttest-mlogloss:0.983392+0.0133532\n",
      "[399]\ttrain-merror:0.0493102+0.00238786\ttrain-mlogloss:0.356925+0.00649008\ttest-merror:0.398244+0.00499036\ttest-mlogloss:0.983372+0.0133865\n",
      "[400]\ttrain-merror:0.0493886+0.00237966\ttrain-mlogloss:0.356243+0.00652296\ttest-merror:0.398244+0.00492861\ttest-mlogloss:0.983383+0.0133576\n",
      "[401]\ttrain-merror:0.0491794+0.00240037\ttrain-mlogloss:0.355573+0.00652598\ttest-merror:0.398244+0.00497279\ttest-mlogloss:0.98341+0.0133958\n",
      "[402]\ttrain-merror:0.0491536+0.00229239\ttrain-mlogloss:0.354965+0.00653069\ttest-merror:0.397931+0.00477904\ttest-mlogloss:0.983404+0.0133827\n",
      "[403]\ttrain-merror:0.0488136+0.00234257\ttrain-mlogloss:0.354267+0.00656519\ttest-merror:0.397617+0.00520087\ttest-mlogloss:0.983421+0.0133966\n",
      "[404]\ttrain-merror:0.0487612+0.00237421\ttrain-mlogloss:0.353627+0.00660405\ttest-merror:0.397513+0.00548548\ttest-mlogloss:0.983406+0.013421\n",
      "[405]\ttrain-merror:0.0485784+0.0024714\ttrain-mlogloss:0.35298+0.00660002\ttest-merror:0.397199+0.00563999\ttest-mlogloss:0.983461+0.0134027\n",
      "[406]\ttrain-merror:0.0484216+0.00227476\ttrain-mlogloss:0.352336+0.006576\ttest-merror:0.397618+0.00556417\ttest-mlogloss:0.983467+0.0134448\n",
      "[407]\ttrain-merror:0.0483692+0.00220886\ttrain-mlogloss:0.351653+0.00653984\ttest-merror:0.397827+0.00533903\ttest-mlogloss:0.983472+0.0134463\n",
      "[408]\ttrain-merror:0.048317+0.00227582\ttrain-mlogloss:0.351045+0.00655403\ttest-merror:0.397722+0.00509876\ttest-mlogloss:0.983483+0.0134664\n",
      "[409]\ttrain-merror:0.0481602+0.00228392\ttrain-mlogloss:0.350429+0.00654306\ttest-merror:0.397826+0.00521284\ttest-mlogloss:0.983491+0.0135236\n",
      "[410]\ttrain-merror:0.0481602+0.00228392\ttrain-mlogloss:0.349864+0.00657022\ttest-merror:0.397722+0.00522557\ttest-mlogloss:0.98352+0.0135138\n",
      "[411]\ttrain-merror:0.0480034+0.00230766\ttrain-mlogloss:0.349279+0.00658122\ttest-merror:0.397513+0.00484872\ttest-mlogloss:0.983552+0.0134907\n",
      "[412]\ttrain-merror:0.047925+0.00226267\ttrain-mlogloss:0.348696+0.00660393\ttest-merror:0.397304+0.00492991\ttest-mlogloss:0.983557+0.0135187\n",
      "[413]\ttrain-merror:0.047742+0.00225811\ttrain-mlogloss:0.348107+0.00661453\ttest-merror:0.397617+0.00495945\ttest-mlogloss:0.98356+0.0135432\n",
      "[414]\ttrain-merror:0.0476114+0.00230875\ttrain-mlogloss:0.347497+0.00663973\ttest-merror:0.397304+0.00492991\ttest-mlogloss:0.98359+0.0135675\n",
      "[415]\ttrain-merror:0.047533+0.00231163\ttrain-mlogloss:0.346935+0.00665584\ttest-merror:0.397617+0.00466\ttest-mlogloss:0.983594+0.013591\n",
      "[416]\ttrain-merror:0.0473762+0.00222291\ttrain-mlogloss:0.346396+0.00661846\ttest-merror:0.397617+0.00480293\ttest-mlogloss:0.98359+0.0135924\n",
      "[417]\ttrain-merror:0.0472982+0.002222\ttrain-mlogloss:0.345823+0.00658038\ttest-merror:0.397513+0.00461805\ttest-mlogloss:0.983611+0.0136055\n"
     ]
    },
    {
     "name": "stdout",
     "output_type": "stream",
     "text": [
      "[418]\ttrain-merror:0.047246+0.00216389\ttrain-mlogloss:0.345193+0.00655342\ttest-merror:0.397722+0.00484103\ttest-mlogloss:0.983666+0.0135982\n",
      "[419]\ttrain-merror:0.047115+0.00216864\ttrain-mlogloss:0.344648+0.00651069\ttest-merror:0.397826+0.0048498\ttest-mlogloss:0.98367+0.0136177\n",
      "[420]\ttrain-merror:0.0470364+0.00222221\ttrain-mlogloss:0.34406+0.00649038\ttest-merror:0.39814+0.00513963\ttest-mlogloss:0.983673+0.0136114\n",
      "[421]\ttrain-merror:0.046932+0.00207862\ttrain-mlogloss:0.343493+0.0064818\ttest-merror:0.397931+0.00484686\ttest-mlogloss:0.983666+0.0136279\n",
      "[422]\ttrain-merror:0.0468798+0.0021634\ttrain-mlogloss:0.342921+0.00647434\ttest-merror:0.39814+0.00520707\ttest-mlogloss:0.983681+0.0136069\n",
      "[423]\ttrain-merror:0.046749+0.00207853\ttrain-mlogloss:0.342393+0.00643122\ttest-merror:0.398244+0.00530815\ttest-mlogloss:0.983688+0.0136225\n",
      "[424]\ttrain-merror:0.0466184+0.00205547\ttrain-mlogloss:0.341809+0.00640134\ttest-merror:0.39814+0.00542658\ttest-mlogloss:0.983716+0.0136216\n",
      "[425]\ttrain-merror:0.0465402+0.00199489\ttrain-mlogloss:0.341277+0.00637621\ttest-merror:0.398035+0.00517541\ttest-mlogloss:0.983754+0.0136132\n",
      "[426]\ttrain-merror:0.0463834+0.00202101\ttrain-mlogloss:0.340736+0.00637731\ttest-merror:0.397826+0.00543554\ttest-mlogloss:0.983761+0.0136366\n",
      "[427]\ttrain-merror:0.046305+0.00205089\ttrain-mlogloss:0.340138+0.00641131\ttest-merror:0.397931+0.00530308\ttest-mlogloss:0.983804+0.0136489\n",
      "[428]\ttrain-merror:0.0459652+0.002052\ttrain-mlogloss:0.339567+0.00643715\ttest-merror:0.397617+0.00540603\ttest-mlogloss:0.983829+0.0136714\n",
      "[429]\ttrain-merror:0.0459652+0.00210753\ttrain-mlogloss:0.338922+0.00646545\ttest-merror:0.397722+0.00536296\ttest-mlogloss:0.983829+0.0136992\n",
      "[430]\ttrain-merror:0.045965+0.00213975\ttrain-mlogloss:0.338354+0.00643619\ttest-merror:0.397617+0.00550984\ttest-mlogloss:0.98383+0.0137157\n",
      "[431]\ttrain-merror:0.0458346+0.00210421\ttrain-mlogloss:0.337825+0.00640905\ttest-merror:0.397617+0.00550984\ttest-mlogloss:0.983849+0.0137218\n",
      "[432]\ttrain-merror:0.0458346+0.00207838\ttrain-mlogloss:0.33729+0.00643085\ttest-merror:0.397826+0.00522003\ttest-mlogloss:0.983847+0.0137525\n",
      "[433]\ttrain-merror:0.045756+0.00193923\ttrain-mlogloss:0.336663+0.00642935\ttest-merror:0.397931+0.00508195\ttest-mlogloss:0.983874+0.0137811\n",
      "[434]\ttrain-merror:0.0456256+0.00215256\ttrain-mlogloss:0.336081+0.00644967\ttest-merror:0.39814+0.00482085\ttest-mlogloss:0.983894+0.0137917\n",
      "[435]\ttrain-merror:0.0454164+0.00202871\ttrain-mlogloss:0.335523+0.00639277\ttest-merror:0.398035+0.00494858\ttest-mlogloss:0.983924+0.0137502\n",
      "[436]\ttrain-merror:0.0452858+0.00206757\ttrain-mlogloss:0.334993+0.00634116\ttest-merror:0.39814+0.00482085\ttest-mlogloss:0.983954+0.0137499\n",
      "[437]\ttrain-merror:0.0452858+0.00203729\ttrain-mlogloss:0.334466+0.0063154\ttest-merror:0.397722+0.00526634\ttest-mlogloss:0.983984+0.0137157\n",
      "[438]\ttrain-merror:0.0452334+0.0020187\ttrain-mlogloss:0.333925+0.00627564\ttest-merror:0.397722+0.0047727\ttest-mlogloss:0.984016+0.0137396\n",
      "[439]\ttrain-merror:0.045129+0.00204916\ttrain-mlogloss:0.333398+0.00630691\ttest-merror:0.397722+0.00499625\ttest-mlogloss:0.984011+0.0137431\n",
      "[440]\ttrain-merror:0.0450506+0.00213059\ttrain-mlogloss:0.332886+0.00635442\ttest-merror:0.397513+0.00504062\ttest-mlogloss:0.984014+0.0137467\n",
      "[441]\ttrain-merror:0.0450246+0.00215617\ttrain-mlogloss:0.332345+0.0063666\ttest-merror:0.397826+0.00503936\ttest-mlogloss:0.984041+0.0137674\n",
      "[442]\ttrain-merror:0.0448154+0.00212375\ttrain-mlogloss:0.331879+0.0063559\ttest-merror:0.397931+0.005125\ttest-mlogloss:0.984054+0.0137362\n",
      "[443]\ttrain-merror:0.0447632+0.0021958\ttrain-mlogloss:0.331376+0.00627597\ttest-merror:0.39814+0.00495968\ttest-mlogloss:0.984069+0.0137646\n",
      "[444]\ttrain-merror:0.0446062+0.00213898\ttrain-mlogloss:0.330819+0.00629832\ttest-merror:0.39814+0.00507509\ttest-mlogloss:0.984107+0.0137815\n",
      "[445]\ttrain-merror:0.044502+0.00214037\ttrain-mlogloss:0.330262+0.0062655\ttest-merror:0.398244+0.00532034\ttest-mlogloss:0.984115+0.0138118\n",
      "[446]\ttrain-merror:0.044502+0.00216921\ttrain-mlogloss:0.329687+0.0063157\ttest-merror:0.39814+0.00507509\ttest-mlogloss:0.984131+0.0137692\n",
      "[447]\ttrain-merror:0.0444236+0.00209627\ttrain-mlogloss:0.329156+0.00631609\ttest-merror:0.398035+0.00519658\ttest-mlogloss:0.984158+0.0137888\n",
      "[448]\ttrain-merror:0.0442144+0.00223723\ttrain-mlogloss:0.328629+0.00625835\ttest-merror:0.398244+0.00513249\ttest-mlogloss:0.984191+0.0138306\n",
      "[449]\ttrain-merror:0.044162+0.00219004\ttrain-mlogloss:0.328128+0.00624767\ttest-merror:0.39814+0.00511801\ttest-mlogloss:0.984222+0.0138223\n",
      "[450]\ttrain-merror:0.0440576+0.0021721\ttrain-mlogloss:0.327639+0.00627538\ttest-merror:0.398244+0.00532665\ttest-mlogloss:0.984217+0.0138543\n",
      "[451]\ttrain-merror:0.043927+0.00221265\ttrain-mlogloss:0.327139+0.00636082\ttest-merror:0.398349+0.00514907\ttest-mlogloss:0.984235+0.0138605\n",
      "[452]\ttrain-merror:0.0438224+0.00228588\ttrain-mlogloss:0.32659+0.00629608\ttest-merror:0.398453+0.00529534\ttest-mlogloss:0.984255+0.0138844\n",
      "[453]\ttrain-merror:0.0437702+0.00226515\ttrain-mlogloss:0.326093+0.00626403\ttest-merror:0.39814+0.00552103\ttest-mlogloss:0.984283+0.0138711\n",
      "[454]\ttrain-merror:0.0434564+0.00228404\ttrain-mlogloss:0.325614+0.00621306\ttest-merror:0.398453+0.00545391\ttest-mlogloss:0.984261+0.0138905\n",
      "[455]\ttrain-merror:0.0434044+0.00228528\ttrain-mlogloss:0.325065+0.00618499\ttest-merror:0.398558+0.00528224\ttest-mlogloss:0.984267+0.0139063\n",
      "[456]\ttrain-merror:0.043326+0.00233744\ttrain-mlogloss:0.324611+0.00620787\ttest-merror:0.398244+0.00531224\ttest-mlogloss:0.984302+0.013921\n",
      "[457]\ttrain-merror:0.0431692+0.00227855\ttrain-mlogloss:0.324173+0.00619287\ttest-merror:0.398035+0.00553061\ttest-mlogloss:0.984336+0.0139493\n",
      "[458]\ttrain-merror:0.0431952+0.00239244\ttrain-mlogloss:0.3236+0.00616836\ttest-merror:0.39814+0.0056862\ttest-mlogloss:0.984369+0.0140072\n",
      "[459]\ttrain-merror:0.043143+0.00234317\ttrain-mlogloss:0.323132+0.00612799\ttest-merror:0.397931+0.00554698\ttest-mlogloss:0.984383+0.0140159\n",
      "[460]\ttrain-merror:0.0430908+0.00229901\ttrain-mlogloss:0.322661+0.0060953\ttest-merror:0.398244+0.00567812\ttest-mlogloss:0.984409+0.0140329\n",
      "[461]\ttrain-merror:0.0429602+0.00227955\ttrain-mlogloss:0.322095+0.0060618\ttest-merror:0.398453+0.00573131\ttest-mlogloss:0.984428+0.0140527\n",
      "[462]\ttrain-merror:0.0428818+0.00224956\ttrain-mlogloss:0.321571+0.00606215\ttest-merror:0.398349+0.00556323\ttest-mlogloss:0.984469+0.0140473\n",
      "[463]\ttrain-merror:0.0428034+0.00223898\ttrain-mlogloss:0.3211+0.00605741\ttest-merror:0.398349+0.00556323\ttest-mlogloss:0.984495+0.0140744\n",
      "[464]\ttrain-merror:0.0427772+0.00226931\ttrain-mlogloss:0.320636+0.00608743\ttest-merror:0.398453+0.00581656\ttest-mlogloss:0.984491+0.014072\n",
      "[465]\ttrain-merror:0.042751+0.00225535\ttrain-mlogloss:0.320191+0.00607438\ttest-merror:0.398453+0.00557312\ttest-mlogloss:0.984501+0.0140375\n",
      "[466]\ttrain-merror:0.042568+0.00221893\ttrain-mlogloss:0.319702+0.00602138\ttest-merror:0.398453+0.00545999\ttest-mlogloss:0.984523+0.0140556\n",
      "[467]\ttrain-merror:0.0424898+0.00230176\ttrain-mlogloss:0.319232+0.00605223\ttest-merror:0.398662+0.00524671\ttest-mlogloss:0.984554+0.0140489\n",
      "[468]\ttrain-merror:0.042516+0.00233005\ttrain-mlogloss:0.318725+0.0060555\ttest-merror:0.398453+0.00509313\ttest-mlogloss:0.984589+0.0140392\n",
      "[469]\ttrain-merror:0.0423328+0.0022953\ttrain-mlogloss:0.318259+0.00603798\ttest-merror:0.398558+0.00552724\ttest-mlogloss:0.98464+0.0140495\n",
      "[470]\ttrain-merror:0.0422544+0.00234313\ttrain-mlogloss:0.317806+0.00604596\ttest-merror:0.398558+0.00527023\ttest-mlogloss:0.984677+0.0140263\n",
      "[471]\ttrain-merror:0.0422022+0.00231729\ttrain-mlogloss:0.317365+0.00603944\ttest-merror:0.398348+0.00522734\ttest-mlogloss:0.984705+0.0140496\n",
      "[472]\ttrain-merror:0.0421238+0.00225557\ttrain-mlogloss:0.316879+0.00596258\ttest-merror:0.398244+0.00558352\ttest-mlogloss:0.984752+0.0140757\n",
      "[473]\ttrain-merror:0.0419934+0.00219294\ttrain-mlogloss:0.316441+0.00596557\ttest-merror:0.398349+0.00559099\ttest-mlogloss:0.984784+0.0141086\n",
      "[474]\ttrain-merror:0.0419672+0.00222514\ttrain-mlogloss:0.315934+0.0059651\ttest-merror:0.398244+0.00578553\ttest-mlogloss:0.984815+0.0141245\n",
      "[475]\ttrain-merror:0.0418888+0.0022052\ttrain-mlogloss:0.315498+0.00597592\ttest-merror:0.398453+0.00572947\ttest-mlogloss:0.984844+0.0141457\n",
      "[476]\ttrain-merror:0.041915+0.00223724\ttrain-mlogloss:0.315066+0.00597555\ttest-merror:0.398871+0.00638137\ttest-mlogloss:0.984864+0.0141722\n"
     ]
    },
    {
     "name": "stdout",
     "output_type": "stream",
     "text": [
      "[477]\ttrain-merror:0.0417318+0.00230208\ttrain-mlogloss:0.314568+0.00592168\ttest-merror:0.398662+0.0062784\ttest-mlogloss:0.984879+0.0141796\n",
      "[478]\ttrain-merror:0.0417058+0.00221713\ttrain-mlogloss:0.314166+0.00592679\ttest-merror:0.398767+0.00633384\ttest-mlogloss:0.984904+0.0142001\n",
      "[479]\ttrain-merror:0.0415492+0.00219333\ttrain-mlogloss:0.313686+0.00594555\ttest-merror:0.398453+0.00585974\ttest-mlogloss:0.984988+0.0141791\n",
      "[480]\ttrain-merror:0.0414186+0.00212844\ttrain-mlogloss:0.313228+0.00586385\ttest-merror:0.398558+0.00624075\ttest-mlogloss:0.984997+0.014191\n",
      "[481]\ttrain-merror:0.04134+0.00211327\ttrain-mlogloss:0.312767+0.00589814\ttest-merror:0.398558+0.00624075\ttest-mlogloss:0.985065+0.0142017\n",
      "[482]\ttrain-merror:0.0411834+0.00216097\ttrain-mlogloss:0.312311+0.00589663\ttest-merror:0.398558+0.0060213\ttest-mlogloss:0.985106+0.0142145\n",
      "[483]\ttrain-merror:0.040922+0.00203911\ttrain-mlogloss:0.311814+0.00586315\ttest-merror:0.398662+0.00600277\ttest-mlogloss:0.985136+0.014195\n",
      "[484]\ttrain-merror:0.0408696+0.00205914\ttrain-mlogloss:0.311342+0.00587907\ttest-merror:0.398453+0.00629134\ttest-mlogloss:0.985161+0.0141804\n",
      "[485]\ttrain-merror:0.0406346+0.00207483\ttrain-mlogloss:0.310905+0.0059233\ttest-merror:0.398453+0.00625967\ttest-mlogloss:0.985201+0.0141858\n",
      "[486]\ttrain-merror:0.04053+0.0020207\ttrain-mlogloss:0.310469+0.00588877\ttest-merror:0.398244+0.00603299\ttest-mlogloss:0.985251+0.0142238\n",
      "[487]\ttrain-merror:0.040321+0.00194518\ttrain-mlogloss:0.310095+0.00589963\ttest-merror:0.398453+0.00619294\ttest-mlogloss:0.985273+0.0142012\n",
      "[488]\ttrain-merror:0.0402948+0.0020458\ttrain-mlogloss:0.30971+0.00586787\ttest-merror:0.398558+0.00603377\ttest-mlogloss:0.985318+0.0141956\n",
      "[489]\ttrain-merror:0.0400856+0.00201906\ttrain-mlogloss:0.309296+0.00581527\ttest-merror:0.398558+0.00603377\ttest-mlogloss:0.985355+0.0141872\n",
      "[490]\ttrain-merror:0.0400594+0.00204965\ttrain-mlogloss:0.308866+0.0058729\ttest-merror:0.398662+0.00608382\ttest-mlogloss:0.985361+0.014178\n",
      "[491]\ttrain-merror:0.039955+0.00199033\ttrain-mlogloss:0.308417+0.00587137\ttest-merror:0.398349+0.0062547\ttest-mlogloss:0.985408+0.0141866\n",
      "[492]\ttrain-merror:0.0399288+0.00200092\ttrain-mlogloss:0.307963+0.00588978\ttest-merror:0.398349+0.00626894\ttest-mlogloss:0.985471+0.0141864\n",
      "[493]\ttrain-merror:0.0398242+0.00193103\ttrain-mlogloss:0.307543+0.00584488\ttest-merror:0.398349+0.00610457\ttest-mlogloss:0.985517+0.014187\n",
      "[494]\ttrain-merror:0.0398244+0.00193263\ttrain-mlogloss:0.307124+0.00583904\ttest-merror:0.398558+0.00603377\ttest-mlogloss:0.985538+0.0141778\n",
      "[495]\ttrain-merror:0.0398244+0.00193263\ttrain-mlogloss:0.306713+0.00582584\ttest-merror:0.398453+0.00631551\ttest-mlogloss:0.985573+0.0141956\n",
      "[496]\ttrain-merror:0.039798+0.00198363\ttrain-mlogloss:0.306288+0.005806\ttest-merror:0.398349+0.00637936\ttest-mlogloss:0.985574+0.0142164\n",
      "[497]\ttrain-merror:0.0397198+0.00192521\ttrain-mlogloss:0.305879+0.00578391\ttest-merror:0.398349+0.00603305\ttest-mlogloss:0.985635+0.0142065\n",
      "[498]\ttrain-merror:0.0395632+0.00193807\ttrain-mlogloss:0.305521+0.00575921\ttest-merror:0.398662+0.00605\ttest-mlogloss:0.985676+0.0142128\n"
     ]
    },
    {
     "name": "stderr",
     "output_type": "stream",
     "text": [
      "C:\\Users\\giano\\Anaconda3\\envs\\voda\\lib\\site-packages\\sklearn\\preprocessing\\label.py:151: DeprecationWarning: The truth value of an empty array is ambiguous. Returning False, but in future this will result in an error. Use `array.size > 0` to check that an array is not empty.\n",
      "  if diff:\n"
     ]
    },
    {
     "name": "stdout",
     "output_type": "stream",
     "text": [
      "\n",
      "Model Report\n",
      "Accuracy : 0.9394\n",
      "f1_micro : 0.9394\n",
      "f1_macro : 0.9233\n",
      "f1_weighted : 0.9384\n"
     ]
    },
    {
     "data": {
      "image/png": "[encoded data removed]",
      "text/plain": [
       "<Figure size 432x288 with 1 Axes>"
      ]
     },
     "metadata": {},
     "output_type": "display_data"
    },
    {
     "name": "stdout",
     "output_type": "stream",
     "text": [
      "Feature_Importances: \n",
      "Index(['CustomerExpatriate', 'DeviceFlagSmartphone', 'MonthlySMSTrafficCount',\n",
      "       'DeviceFlag4G', 'Region', 'DataArpu', 'MonthlyVoiceTrafficCount',\n",
      "       'Games', 'CustomerAge', 'Instant-Messaging-Applications',\n",
      "       'ParkingConnectionsCount', 'Security', 'Unclassified', 'Terminals',\n",
      "       'P2P-Applications', 'VoIP', 'File-Transfer', 'Network-Operation',\n",
      "       'IsModified', 'Mail', 'Music-Streaming', 'StationConnectionsCount',\n",
      "       'AirportConnectionsCount', 'ID', 'ChurnScore',\n",
      "       'ParkingConnectionsDuration', 'StationConnectionsDuration',\n",
      "       'DataAllowanceContinuous'],\n",
      "      dtype='object')\n",
      "Model: {'base_score': 0.5, 'booster': 'gbtree', 'colsample_bylevel': 1, 'colsample_bytree': 0.8, 'gamma': 0.3, 'learning_rate': 0.01, 'max_delta_step': 0, 'max_depth': 10, 'min_child_weight': 0, 'missing': None, 'n_estimators': 400, 'nthread': 4, 'objective': 'multi:softprob', 'reg_alpha': 0, 'reg_lambda': 1, 'scale_pos_weight': 1, 'seed': 27, 'silent': 1, 'subsample': 0.9, 'num_class': 4}\n",
      "n_estimator: 400\n"
     ]
    }
   ],
   "source": [
    "xgb4 = XGBClassifier(\n",
    "        learning_rate =0.01,\n",
    "        n_estimators=5000,\n",
    "        max_depth=max_depth,\n",
    "        min_child_weight=min_child_weight,\n",
    "        gamma=gamma,\n",
    "        subsample=subsample,\n",
    "        colsample_bytree=colsample_bytree,\n",
    "        reg_alpha=reg_alpha,\n",
    "        objective='multi:softprob', \n",
    "        num_class=4,\n",
    "        nthread=4,\n",
    "        scale_pos_weight=1,\n",
    "        seed=27)\n",
    "n_estimators = modelfit(xgb4, train, predictors, 28)"
   ]
  },
  {
   "cell_type": "code",
   "execution_count": 32,
   "metadata": {},
   "outputs": [],
   "source": [
    "# #Grid seach on subsample and max_features\n",
    "# #Choose all predictors except target & IDcols\n",
    "# param_test8 = {\n",
    "#     #learning_rate = [0.0001, 0.001, 0.01, 0.1, 0.2, 0.3]\n",
    "#     'learning_rate' : [0.0001, 0.001, 0.01, 0.1, 0.2, 0.3],\n",
    "#     'n_estimators' : [50, 100, 150, 200, 300, 5000]\n",
    "# }\n",
    "# gsearch8 = GridSearchCV(estimator = XGBClassifier(  max_depth=max_depth,\n",
    "#                                         min_child_weight=min_child_weight, gamma=gamma, subsample=subsample, colsample_bytree=colsample_bytree,\n",
    "#                                         objective='multi:softprob', num_class=4, nthread=4, scale_pos_weight=1,seed=27), \n",
    "#                        param_grid = param_test8, scoring='f1_micro',n_jobs=4,iid=False, cv=cv,verbose=1)\n",
    "# gsearch8.fit(train[predictors],train[target])\n",
    "# gsearch8.grid_scores_, gsearch8.best_params_, gsearch8.best_score_"
   ]
  },
  {
   "cell_type": "code",
   "execution_count": null,
   "metadata": {},
   "outputs": [],
   "source": []
  },
  {
   "cell_type": "code",
   "execution_count": null,
   "metadata": {},
   "outputs": [],
   "source": []
  },
  {
   "cell_type": "code",
   "execution_count": null,
   "metadata": {},
   "outputs": [],
   "source": []
  },
  {
   "cell_type": "code",
   "execution_count": 33,
   "metadata": {},
   "outputs": [
    {
     "data": {
      "text/plain": [
       "Index(['ID', 'DeviceFlag4G', 'DataArpu', 'DataAllowanceContinuous',\n",
       "       'DeviceFlagSmartphone', 'MonthlyVoiceTrafficCount',\n",
       "       'MonthlySMSTrafficCount', 'MonthlyDataTraffic', 'CustomerGender',\n",
       "       'CustomerExpatriate', 'ChurnScore', 'AirportConnectionsDuration',\n",
       "       'AirportConnectionsCount', 'StationConnectionsDuration',\n",
       "       'StationConnectionsCount', 'ParkingConnectionsDuration',\n",
       "       'ParkingConnectionsCount', 'File-Transfer', 'Games',\n",
       "       'Instant-Messaging-Applications', 'Mail', 'Music-Streaming',\n",
       "       'Network-Operation', 'P2P-Applications', 'Security',\n",
       "       'Streaming-Applications', 'Terminals', 'Unclassified', 'VoIP',\n",
       "       'Web-Applications', 'IsModified', 'CustomerAge', 'Region', 'Province',\n",
       "       'Product'],\n",
       "      dtype='object')"
      ]
     },
     "execution_count": 33,
     "metadata": {},
     "output_type": "execute_result"
    }
   ],
   "source": [
    "train.columns"
   ]
  },
  {
   "cell_type": "code",
   "execution_count": 34,
   "metadata": {},
   "outputs": [
    {
     "data": {
      "text/plain": [
       "((9567, 33), (9567,), (3190, 33))"
      ]
     },
     "execution_count": 34,
     "metadata": {},
     "output_type": "execute_result"
    }
   ],
   "source": [
    "train[predictors].shape,train[target].shape,test[predictors].shape"
   ]
  },
  {
   "cell_type": "code",
   "execution_count": null,
   "metadata": {},
   "outputs": [],
   "source": []
  },
  {
   "cell_type": "code",
   "execution_count": null,
   "metadata": {},
   "outputs": [],
   "source": []
  },
  {
   "cell_type": "code",
   "execution_count": null,
   "metadata": {},
   "outputs": [],
   "source": []
  },
  {
   "cell_type": "code",
   "execution_count": null,
   "metadata": {},
   "outputs": [],
   "source": []
  },
  {
   "cell_type": "code",
   "execution_count": null,
   "metadata": {},
   "outputs": [],
   "source": []
  },
  {
   "cell_type": "code",
   "execution_count": 35,
   "metadata": {},
   "outputs": [
    {
     "ename": "KeyError",
     "evalue": "\"['ZipCode'] not in index\"",
     "output_type": "error",
     "traceback": [
      "\u001b[1;31m---------------------------------------------------------------------------\u001b[0m",
      "\u001b[1;31mKeyError\u001b[0m                                  Traceback (most recent call last)",
      "\u001b[1;32m<ipython-input-35-8a5754ff42bc>\u001b[0m in \u001b[0;36m<module>\u001b[1;34m()\u001b[0m\n\u001b[0;32m      2\u001b[0m        \u001b[1;34m'MonthlySMSTrafficCount'\u001b[0m\u001b[1;33m,\u001b[0m \u001b[1;34m'DataArpu'\u001b[0m\u001b[1;33m,\u001b[0m \u001b[1;34m'DeviceFlagSmartphone'\u001b[0m\u001b[1;33m,\u001b[0m \u001b[1;34m'Region'\u001b[0m\u001b[1;33m,\u001b[0m\u001b[1;33m\u001b[0m\u001b[0m\n\u001b[0;32m      3\u001b[0m        'Instant-Messaging-Applications', 'MonthlyVoiceTrafficCount', 'Games']\n\u001b[1;32m----> 4\u001b[1;33m \u001b[0mtrain\u001b[0m\u001b[1;33m[\u001b[0m\u001b[0mpred\u001b[0m\u001b[1;33m]\u001b[0m\u001b[1;33m.\u001b[0m\u001b[0mhead\u001b[0m\u001b[1;33m(\u001b[0m\u001b[1;33m)\u001b[0m\u001b[1;33m\u001b[0m\u001b[0m\n\u001b[0m",
      "\u001b[1;32m~\\Anaconda3\\envs\\voda\\lib\\site-packages\\pandas\\core\\frame.py\u001b[0m in \u001b[0;36m__getitem__\u001b[1;34m(self, key)\u001b[0m\n\u001b[0;32m   2131\u001b[0m         \u001b[1;32mif\u001b[0m \u001b[0misinstance\u001b[0m\u001b[1;33m(\u001b[0m\u001b[0mkey\u001b[0m\u001b[1;33m,\u001b[0m \u001b[1;33m(\u001b[0m\u001b[0mSeries\u001b[0m\u001b[1;33m,\u001b[0m \u001b[0mnp\u001b[0m\u001b[1;33m.\u001b[0m\u001b[0mndarray\u001b[0m\u001b[1;33m,\u001b[0m \u001b[0mIndex\u001b[0m\u001b[1;33m,\u001b[0m \u001b[0mlist\u001b[0m\u001b[1;33m)\u001b[0m\u001b[1;33m)\u001b[0m\u001b[1;33m:\u001b[0m\u001b[1;33m\u001b[0m\u001b[0m\n\u001b[0;32m   2132\u001b[0m             \u001b[1;31m# either boolean or fancy integer index\u001b[0m\u001b[1;33m\u001b[0m\u001b[1;33m\u001b[0m\u001b[0m\n\u001b[1;32m-> 2133\u001b[1;33m             \u001b[1;32mreturn\u001b[0m \u001b[0mself\u001b[0m\u001b[1;33m.\u001b[0m\u001b[0m_getitem_array\u001b[0m\u001b[1;33m(\u001b[0m\u001b[0mkey\u001b[0m\u001b[1;33m)\u001b[0m\u001b[1;33m\u001b[0m\u001b[0m\n\u001b[0m\u001b[0;32m   2134\u001b[0m         \u001b[1;32melif\u001b[0m \u001b[0misinstance\u001b[0m\u001b[1;33m(\u001b[0m\u001b[0mkey\u001b[0m\u001b[1;33m,\u001b[0m \u001b[0mDataFrame\u001b[0m\u001b[1;33m)\u001b[0m\u001b[1;33m:\u001b[0m\u001b[1;33m\u001b[0m\u001b[0m\n\u001b[0;32m   2135\u001b[0m             \u001b[1;32mreturn\u001b[0m \u001b[0mself\u001b[0m\u001b[1;33m.\u001b[0m\u001b[0m_getitem_frame\u001b[0m\u001b[1;33m(\u001b[0m\u001b[0mkey\u001b[0m\u001b[1;33m)\u001b[0m\u001b[1;33m\u001b[0m\u001b[0m\n",
      "\u001b[1;32m~\\Anaconda3\\envs\\voda\\lib\\site-packages\\pandas\\core\\frame.py\u001b[0m in \u001b[0;36m_getitem_array\u001b[1;34m(self, key)\u001b[0m\n\u001b[0;32m   2175\u001b[0m             \u001b[1;32mreturn\u001b[0m \u001b[0mself\u001b[0m\u001b[1;33m.\u001b[0m\u001b[0m_take\u001b[0m\u001b[1;33m(\u001b[0m\u001b[0mindexer\u001b[0m\u001b[1;33m,\u001b[0m \u001b[0maxis\u001b[0m\u001b[1;33m=\u001b[0m\u001b[1;36m0\u001b[0m\u001b[1;33m,\u001b[0m \u001b[0mconvert\u001b[0m\u001b[1;33m=\u001b[0m\u001b[1;32mFalse\u001b[0m\u001b[1;33m)\u001b[0m\u001b[1;33m\u001b[0m\u001b[0m\n\u001b[0;32m   2176\u001b[0m         \u001b[1;32melse\u001b[0m\u001b[1;33m:\u001b[0m\u001b[1;33m\u001b[0m\u001b[0m\n\u001b[1;32m-> 2177\u001b[1;33m             \u001b[0mindexer\u001b[0m \u001b[1;33m=\u001b[0m \u001b[0mself\u001b[0m\u001b[1;33m.\u001b[0m\u001b[0mloc\u001b[0m\u001b[1;33m.\u001b[0m\u001b[0m_convert_to_indexer\u001b[0m\u001b[1;33m(\u001b[0m\u001b[0mkey\u001b[0m\u001b[1;33m,\u001b[0m \u001b[0maxis\u001b[0m\u001b[1;33m=\u001b[0m\u001b[1;36m1\u001b[0m\u001b[1;33m)\u001b[0m\u001b[1;33m\u001b[0m\u001b[0m\n\u001b[0m\u001b[0;32m   2178\u001b[0m             \u001b[1;32mreturn\u001b[0m \u001b[0mself\u001b[0m\u001b[1;33m.\u001b[0m\u001b[0m_take\u001b[0m\u001b[1;33m(\u001b[0m\u001b[0mindexer\u001b[0m\u001b[1;33m,\u001b[0m \u001b[0maxis\u001b[0m\u001b[1;33m=\u001b[0m\u001b[1;36m1\u001b[0m\u001b[1;33m,\u001b[0m \u001b[0mconvert\u001b[0m\u001b[1;33m=\u001b[0m\u001b[1;32mTrue\u001b[0m\u001b[1;33m)\u001b[0m\u001b[1;33m\u001b[0m\u001b[0m\n\u001b[0;32m   2179\u001b[0m \u001b[1;33m\u001b[0m\u001b[0m\n",
      "\u001b[1;32m~\\Anaconda3\\envs\\voda\\lib\\site-packages\\pandas\\core\\indexing.py\u001b[0m in \u001b[0;36m_convert_to_indexer\u001b[1;34m(self, obj, axis, is_setter)\u001b[0m\n\u001b[0;32m   1267\u001b[0m                 \u001b[1;32mif\u001b[0m \u001b[0mmask\u001b[0m\u001b[1;33m.\u001b[0m\u001b[0many\u001b[0m\u001b[1;33m(\u001b[0m\u001b[1;33m)\u001b[0m\u001b[1;33m:\u001b[0m\u001b[1;33m\u001b[0m\u001b[0m\n\u001b[0;32m   1268\u001b[0m                     raise KeyError('{mask} not in index'\n\u001b[1;32m-> 1269\u001b[1;33m                                    .format(mask=objarr[mask]))\n\u001b[0m\u001b[0;32m   1270\u001b[0m \u001b[1;33m\u001b[0m\u001b[0m\n\u001b[0;32m   1271\u001b[0m                 \u001b[1;32mreturn\u001b[0m \u001b[0m_values_from_object\u001b[0m\u001b[1;33m(\u001b[0m\u001b[0mindexer\u001b[0m\u001b[1;33m)\u001b[0m\u001b[1;33m\u001b[0m\u001b[0m\n",
      "\u001b[1;31mKeyError\u001b[0m: \"['ZipCode'] not in index\""
     ]
    }
   ],
   "source": [
    "pred = ['CustomerExpatriate', 'ZipCode', 'DeviceFlag4G',\n",
    "       'MonthlySMSTrafficCount', 'DataArpu', 'DeviceFlagSmartphone', 'Region',\n",
    "       'Instant-Messaging-Applications', 'MonthlyVoiceTrafficCount', 'Games']\n",
    "train[pred].head()"
   ]
  },
  {
   "cell_type": "code",
   "execution_count": null,
   "metadata": {
    "scrolled": true
   },
   "outputs": [],
   "source": []
  },
  {
   "cell_type": "code",
   "execution_count": null,
   "metadata": {},
   "outputs": [],
   "source": []
  },
  {
   "cell_type": "code",
   "execution_count": 38,
   "metadata": {},
   "outputs": [
    {
     "name": "stdout",
     "output_type": "stream",
     "text": [
      "F1 score on unseen data: 48.495%\n"
     ]
    },
    {
     "name": "stderr",
     "output_type": "stream",
     "text": [
      "C:\\Users\\giano\\Anaconda3\\envs\\voda\\lib\\site-packages\\sklearn\\preprocessing\\label.py:151: DeprecationWarning: The truth value of an empty array is ambiguous. Returning False, but in future this will result in an error. Use `array.size > 0` to check that an array is not empty.\n",
      "  if diff:\n"
     ]
    }
   ],
   "source": [
    "# X_train, X_test, y_train, y_test = train_test_split(train[predictors], train[target], test_size=0.33, random_state=7)\n",
    "# eval_set = [(X_test, y_test)]\n",
    "predictors = [x for x in train.columns if x not in [target, IDcol]]\n",
    "features = ['CustomerExpatriate', 'MonthlySMSTrafficCount', 'DeviceFlagSmartphone',\n",
    "       'DeviceFlag4G', 'Region', 'DataArpu', 'MonthlyVoiceTrafficCount',\n",
    "       'Games', 'CustomerAge', 'ParkingConnectionsCount',\n",
    "       'Instant-Messaging-Applications', 'Security', 'Unclassified',\n",
    "       'P2P-Applications', 'VoIP', 'File-Transfer', 'Terminals',\n",
    "       'Network-Operation', 'IsModified', 'Mail', 'Music-Streaming',\n",
    "       'StationConnectionsCount', 'AirportConnectionsCount', 'ID',\n",
    "       'ChurnScore', 'ParkingConnectionsDuration', 'DataAllowanceContinuous',\n",
    "       'StationConnectionsDuration']\n",
    "xgb3.fit(train[features],\n",
    "      train[target],\n",
    "      eval_metric=\"merror\",\n",
    "      verbose=True)\n",
    "\n",
    "y_pred_new_data = xgb3.predict(test[features])\n",
    "predictions = [round(value) for value in y_pred_new_data]\n",
    "\n",
    "print(\"F1 score on unseen data: %.3f%%\" % (f1_score(train[target][0:3190], y_pred_new_data[0:3190], average='micro')*100))"
   ]
  },
  {
   "cell_type": "code",
   "execution_count": 49,
   "metadata": {},
   "outputs": [
    {
     "name": "stdout",
     "output_type": "stream",
     "text": [
      "F1 score on unseen data: 48.871%\n"
     ]
    },
    {
     "name": "stderr",
     "output_type": "stream",
     "text": [
      "C:\\Users\\giano\\Anaconda3\\envs\\voda\\lib\\site-packages\\sklearn\\preprocessing\\label.py:151: DeprecationWarning: The truth value of an empty array is ambiguous. Returning False, but in future this will result in an error. Use `array.size > 0` to check that an array is not empty.\n",
      "  if diff:\n"
     ]
    }
   ],
   "source": [
    "# X_train, X_test, y_train, y_test = train_test_split(train[predictors], train[target], test_size=0.33, random_state=7)\n",
    "# eval_set = [(X_test, y_test)]\n",
    "predictors = [x for x in train.columns if x not in [target, IDcol]]\n",
    "features = ['CustomerExpatriate', 'DeviceFlagSmartphone', 'MonthlySMSTrafficCount',\n",
    "       'DeviceFlag4G', 'Region', 'DataArpu', 'MonthlyVoiceTrafficCount',\n",
    "       'Games', 'CustomerAge', 'Instant-Messaging-Applications',\n",
    "       'ParkingConnectionsCount', 'Security', 'Unclassified', 'Terminals',\n",
    "       'P2P-Applications', 'VoIP', 'File-Transfer', 'Network-Operation',\n",
    "       'IsModified', 'Mail', 'Music-Streaming', 'StationConnectionsCount',\n",
    "       'AirportConnectionsCount', 'ID', 'ChurnScore',\n",
    "       'ParkingConnectionsDuration', 'StationConnectionsDuration',\n",
    "       'DataAllowanceContinuous']\n",
    "xgb4.fit(train[features],\n",
    "      train[target],\n",
    "      eval_metric=\"merror\",\n",
    "      verbose=True)\n",
    "\n",
    "y_pred_new_data = xgb4.predict(test[features])\n",
    "predictions = [round(value) for value in y_pred_new_data]\n",
    "\n",
    "print(\"F1 score on unseen data: %.3f%%\" % (f1_score(train[target][0:3190], y_pred_new_data[0:3190], average='micro')*100))"
   ]
  },
  {
   "cell_type": "code",
   "execution_count": null,
   "metadata": {},
   "outputs": [],
   "source": [
    "predictors = [x for x in train.columns if x not in [target, IDcol]]\n",
    "features = ['CustomerExpatriate', 'ZipCode', 'DeviceFlag4G',\n",
    "       'MonthlySMSTrafficCount', 'DataArpu', 'DeviceFlagSmartphone', 'Region',\n",
    "       'Games', 'Instant-Messaging-Applications', 'MonthlyVoiceTrafficCount']\n",
    "xgb = XGBClassifier(\n",
    "                    learning_rate =0.1,\n",
    "                    n_estimators=135,\n",
    "                    max_depth=4,\n",
    "                    min_child_weight=2,\n",
    "                    gamma=0.0,\n",
    "                    subsample=0.8,\n",
    "                    colsample_bytree=0.8,\n",
    "                    colsample_bylevel=1,\n",
    "                    reg_alpha=0.05,\n",
    "                    nthread=4,\n",
    "                    scale_pos_weight=1,\n",
    "                    seed=27,\n",
    "                    objective= 'multi:softprob',\n",
    "                    num_class= 4)\n",
    "\n",
    "xgb.fit(train[features],\n",
    "      train[target],\n",
    "      verbose=True)\n",
    "\n",
    "y_pred_new_data = xgb.predict(test[features])\n",
    "predictions = [round(value) for value in y_pred_new_data]\n",
    "\n",
    "print(\"F1 score on unseen data: %.3f%%\" % (f1_score(train[target][0:3190], y_pred_new_data[0:3190], average='micro')*100))\n",
    "print(\"F1 score on unseen data: %.3f%%\" % (f1_score(train[target][0:3190], y_pred_new_data[0:3190], average='macro')*100))\n",
    "print(\"F1 score on unseen data: %.3f%%\" % (f1_score(train[target][0:3190], y_pred_new_data[0:3190], average='weighted')*100))"
   ]
  },
  {
   "cell_type": "code",
   "execution_count": null,
   "metadata": {},
   "outputs": [],
   "source": [
    "xgb"
   ]
  },
  {
   "cell_type": "code",
   "execution_count": null,
   "metadata": {},
   "outputs": [],
   "source": [
    "pd.DataFrame({'Product': y_pred_new_data}).describe(),pd.DataFrame({'Product': predictions}).describe()"
   ]
  },
  {
   "cell_type": "code",
   "execution_count": 50,
   "metadata": {},
   "outputs": [
    {
     "data": {
      "text/html": [
       "<div>\n",
       "<style scoped>\n",
       "    .dataframe tbody tr th:only-of-type {\n",
       "        vertical-align: middle;\n",
       "    }\n",
       "\n",
       "    .dataframe tbody tr th {\n",
       "        vertical-align: top;\n",
       "    }\n",
       "\n",
       "    .dataframe thead th {\n",
       "        text-align: right;\n",
       "    }\n",
       "</style>\n",
       "<table border=\"1\" class=\"dataframe\">\n",
       "  <thead>\n",
       "    <tr style=\"text-align: right;\">\n",
       "      <th></th>\n",
       "      <th>ID</th>\n",
       "      <th>Product</th>\n",
       "    </tr>\n",
       "  </thead>\n",
       "  <tbody>\n",
       "    <tr>\n",
       "      <th>0</th>\n",
       "      <td>1261</td>\n",
       "      <td>Non-Customer</td>\n",
       "    </tr>\n",
       "    <tr>\n",
       "      <th>1</th>\n",
       "      <td>5764</td>\n",
       "      <td>Non-Customer</td>\n",
       "    </tr>\n",
       "    <tr>\n",
       "      <th>2</th>\n",
       "      <td>10617</td>\n",
       "      <td>Non-Customer</td>\n",
       "    </tr>\n",
       "    <tr>\n",
       "      <th>3</th>\n",
       "      <td>10687</td>\n",
       "      <td>Non-Customer</td>\n",
       "    </tr>\n",
       "    <tr>\n",
       "      <th>4</th>\n",
       "      <td>4111</td>\n",
       "      <td>Non-Customer</td>\n",
       "    </tr>\n",
       "    <tr>\n",
       "      <th>5</th>\n",
       "      <td>12058</td>\n",
       "      <td>V-Bag</td>\n",
       "    </tr>\n",
       "    <tr>\n",
       "      <th>6</th>\n",
       "      <td>1346</td>\n",
       "      <td>Non-Customer</td>\n",
       "    </tr>\n",
       "    <tr>\n",
       "      <th>7</th>\n",
       "      <td>9791</td>\n",
       "      <td>Non-Customer</td>\n",
       "    </tr>\n",
       "    <tr>\n",
       "      <th>8</th>\n",
       "      <td>1044</td>\n",
       "      <td>Non-Customer</td>\n",
       "    </tr>\n",
       "    <tr>\n",
       "      <th>9</th>\n",
       "      <td>2046</td>\n",
       "      <td>Non-Customer</td>\n",
       "    </tr>\n",
       "    <tr>\n",
       "      <th>10</th>\n",
       "      <td>10739</td>\n",
       "      <td>Non-Customer</td>\n",
       "    </tr>\n",
       "    <tr>\n",
       "      <th>11</th>\n",
       "      <td>3995</td>\n",
       "      <td>Non-Customer</td>\n",
       "    </tr>\n",
       "    <tr>\n",
       "      <th>12</th>\n",
       "      <td>9868</td>\n",
       "      <td>V-Bag</td>\n",
       "    </tr>\n",
       "    <tr>\n",
       "      <th>13</th>\n",
       "      <td>8915</td>\n",
       "      <td>Non-Customer</td>\n",
       "    </tr>\n",
       "    <tr>\n",
       "      <th>14</th>\n",
       "      <td>1720</td>\n",
       "      <td>Non-Customer</td>\n",
       "    </tr>\n",
       "    <tr>\n",
       "      <th>15</th>\n",
       "      <td>12661</td>\n",
       "      <td>Non-Customer</td>\n",
       "    </tr>\n",
       "    <tr>\n",
       "      <th>16</th>\n",
       "      <td>4300</td>\n",
       "      <td>Non-Customer</td>\n",
       "    </tr>\n",
       "    <tr>\n",
       "      <th>17</th>\n",
       "      <td>10067</td>\n",
       "      <td>Non-Customer</td>\n",
       "    </tr>\n",
       "    <tr>\n",
       "      <th>18</th>\n",
       "      <td>7390</td>\n",
       "      <td>V-Bag</td>\n",
       "    </tr>\n",
       "    <tr>\n",
       "      <th>19</th>\n",
       "      <td>9616</td>\n",
       "      <td>Non-Customer</td>\n",
       "    </tr>\n",
       "    <tr>\n",
       "      <th>20</th>\n",
       "      <td>5165</td>\n",
       "      <td>Non-Customer</td>\n",
       "    </tr>\n",
       "    <tr>\n",
       "      <th>21</th>\n",
       "      <td>11135</td>\n",
       "      <td>Non-Customer</td>\n",
       "    </tr>\n",
       "    <tr>\n",
       "      <th>22</th>\n",
       "      <td>10644</td>\n",
       "      <td>Non-Customer</td>\n",
       "    </tr>\n",
       "    <tr>\n",
       "      <th>23</th>\n",
       "      <td>7435</td>\n",
       "      <td>Non-Customer</td>\n",
       "    </tr>\n",
       "    <tr>\n",
       "      <th>24</th>\n",
       "      <td>1634</td>\n",
       "      <td>Non-Customer</td>\n",
       "    </tr>\n",
       "    <tr>\n",
       "      <th>25</th>\n",
       "      <td>1325</td>\n",
       "      <td>V-Bag</td>\n",
       "    </tr>\n",
       "    <tr>\n",
       "      <th>26</th>\n",
       "      <td>2843</td>\n",
       "      <td>V-Bag</td>\n",
       "    </tr>\n",
       "    <tr>\n",
       "      <th>27</th>\n",
       "      <td>7407</td>\n",
       "      <td>Non-Customer</td>\n",
       "    </tr>\n",
       "    <tr>\n",
       "      <th>28</th>\n",
       "      <td>1960</td>\n",
       "      <td>V-Bag</td>\n",
       "    </tr>\n",
       "    <tr>\n",
       "      <th>29</th>\n",
       "      <td>8371</td>\n",
       "      <td>Non-Customer</td>\n",
       "    </tr>\n",
       "    <tr>\n",
       "      <th>...</th>\n",
       "      <td>...</td>\n",
       "      <td>...</td>\n",
       "    </tr>\n",
       "    <tr>\n",
       "      <th>3160</th>\n",
       "      <td>356</td>\n",
       "      <td>Non-Customer</td>\n",
       "    </tr>\n",
       "    <tr>\n",
       "      <th>3161</th>\n",
       "      <td>2003</td>\n",
       "      <td>Non-Customer</td>\n",
       "    </tr>\n",
       "    <tr>\n",
       "      <th>3162</th>\n",
       "      <td>7590</td>\n",
       "      <td>Non-Customer</td>\n",
       "    </tr>\n",
       "    <tr>\n",
       "      <th>3163</th>\n",
       "      <td>3312</td>\n",
       "      <td>Non-Customer</td>\n",
       "    </tr>\n",
       "    <tr>\n",
       "      <th>3164</th>\n",
       "      <td>6083</td>\n",
       "      <td>V-Pet</td>\n",
       "    </tr>\n",
       "    <tr>\n",
       "      <th>3165</th>\n",
       "      <td>1809</td>\n",
       "      <td>V-Bag</td>\n",
       "    </tr>\n",
       "    <tr>\n",
       "      <th>3166</th>\n",
       "      <td>519</td>\n",
       "      <td>Non-Customer</td>\n",
       "    </tr>\n",
       "    <tr>\n",
       "      <th>3167</th>\n",
       "      <td>6842</td>\n",
       "      <td>Non-Customer</td>\n",
       "    </tr>\n",
       "    <tr>\n",
       "      <th>3168</th>\n",
       "      <td>6681</td>\n",
       "      <td>Non-Customer</td>\n",
       "    </tr>\n",
       "    <tr>\n",
       "      <th>3169</th>\n",
       "      <td>11827</td>\n",
       "      <td>Non-Customer</td>\n",
       "    </tr>\n",
       "    <tr>\n",
       "      <th>3170</th>\n",
       "      <td>7682</td>\n",
       "      <td>Non-Customer</td>\n",
       "    </tr>\n",
       "    <tr>\n",
       "      <th>3171</th>\n",
       "      <td>3270</td>\n",
       "      <td>Non-Customer</td>\n",
       "    </tr>\n",
       "    <tr>\n",
       "      <th>3172</th>\n",
       "      <td>8992</td>\n",
       "      <td>Non-Customer</td>\n",
       "    </tr>\n",
       "    <tr>\n",
       "      <th>3173</th>\n",
       "      <td>11806</td>\n",
       "      <td>Non-Customer</td>\n",
       "    </tr>\n",
       "    <tr>\n",
       "      <th>3174</th>\n",
       "      <td>1482</td>\n",
       "      <td>Non-Customer</td>\n",
       "    </tr>\n",
       "    <tr>\n",
       "      <th>3175</th>\n",
       "      <td>5885</td>\n",
       "      <td>Non-Customer</td>\n",
       "    </tr>\n",
       "    <tr>\n",
       "      <th>3176</th>\n",
       "      <td>8092</td>\n",
       "      <td>Non-Customer</td>\n",
       "    </tr>\n",
       "    <tr>\n",
       "      <th>3177</th>\n",
       "      <td>4172</td>\n",
       "      <td>Non-Customer</td>\n",
       "    </tr>\n",
       "    <tr>\n",
       "      <th>3178</th>\n",
       "      <td>2000</td>\n",
       "      <td>Non-Customer</td>\n",
       "    </tr>\n",
       "    <tr>\n",
       "      <th>3179</th>\n",
       "      <td>10916</td>\n",
       "      <td>Non-Customer</td>\n",
       "    </tr>\n",
       "    <tr>\n",
       "      <th>3180</th>\n",
       "      <td>1084</td>\n",
       "      <td>Non-Customer</td>\n",
       "    </tr>\n",
       "    <tr>\n",
       "      <th>3181</th>\n",
       "      <td>131</td>\n",
       "      <td>Non-Customer</td>\n",
       "    </tr>\n",
       "    <tr>\n",
       "      <th>3182</th>\n",
       "      <td>5608</td>\n",
       "      <td>Non-Customer</td>\n",
       "    </tr>\n",
       "    <tr>\n",
       "      <th>3183</th>\n",
       "      <td>1018</td>\n",
       "      <td>Non-Customer</td>\n",
       "    </tr>\n",
       "    <tr>\n",
       "      <th>3184</th>\n",
       "      <td>1984</td>\n",
       "      <td>Non-Customer</td>\n",
       "    </tr>\n",
       "    <tr>\n",
       "      <th>3185</th>\n",
       "      <td>11870</td>\n",
       "      <td>Non-Customer</td>\n",
       "    </tr>\n",
       "    <tr>\n",
       "      <th>3186</th>\n",
       "      <td>7448</td>\n",
       "      <td>Non-Customer</td>\n",
       "    </tr>\n",
       "    <tr>\n",
       "      <th>3187</th>\n",
       "      <td>6369</td>\n",
       "      <td>Non-Customer</td>\n",
       "    </tr>\n",
       "    <tr>\n",
       "      <th>3188</th>\n",
       "      <td>8873</td>\n",
       "      <td>Non-Customer</td>\n",
       "    </tr>\n",
       "    <tr>\n",
       "      <th>3189</th>\n",
       "      <td>172</td>\n",
       "      <td>Non-Customer</td>\n",
       "    </tr>\n",
       "  </tbody>\n",
       "</table>\n",
       "<p>3190 rows × 2 columns</p>\n",
       "</div>"
      ],
      "text/plain": [
       "         ID       Product\n",
       "0      1261  Non-Customer\n",
       "1      5764  Non-Customer\n",
       "2     10617  Non-Customer\n",
       "3     10687  Non-Customer\n",
       "4      4111  Non-Customer\n",
       "5     12058         V-Bag\n",
       "6      1346  Non-Customer\n",
       "7      9791  Non-Customer\n",
       "8      1044  Non-Customer\n",
       "9      2046  Non-Customer\n",
       "10    10739  Non-Customer\n",
       "11     3995  Non-Customer\n",
       "12     9868         V-Bag\n",
       "13     8915  Non-Customer\n",
       "14     1720  Non-Customer\n",
       "15    12661  Non-Customer\n",
       "16     4300  Non-Customer\n",
       "17    10067  Non-Customer\n",
       "18     7390         V-Bag\n",
       "19     9616  Non-Customer\n",
       "20     5165  Non-Customer\n",
       "21    11135  Non-Customer\n",
       "22    10644  Non-Customer\n",
       "23     7435  Non-Customer\n",
       "24     1634  Non-Customer\n",
       "25     1325         V-Bag\n",
       "26     2843         V-Bag\n",
       "27     7407  Non-Customer\n",
       "28     1960         V-Bag\n",
       "29     8371  Non-Customer\n",
       "...     ...           ...\n",
       "3160    356  Non-Customer\n",
       "3161   2003  Non-Customer\n",
       "3162   7590  Non-Customer\n",
       "3163   3312  Non-Customer\n",
       "3164   6083         V-Pet\n",
       "3165   1809         V-Bag\n",
       "3166    519  Non-Customer\n",
       "3167   6842  Non-Customer\n",
       "3168   6681  Non-Customer\n",
       "3169  11827  Non-Customer\n",
       "3170   7682  Non-Customer\n",
       "3171   3270  Non-Customer\n",
       "3172   8992  Non-Customer\n",
       "3173  11806  Non-Customer\n",
       "3174   1482  Non-Customer\n",
       "3175   5885  Non-Customer\n",
       "3176   8092  Non-Customer\n",
       "3177   4172  Non-Customer\n",
       "3178   2000  Non-Customer\n",
       "3179  10916  Non-Customer\n",
       "3180   1084  Non-Customer\n",
       "3181    131  Non-Customer\n",
       "3182   5608  Non-Customer\n",
       "3183   1018  Non-Customer\n",
       "3184   1984  Non-Customer\n",
       "3185  11870  Non-Customer\n",
       "3186   7448  Non-Customer\n",
       "3187   6369  Non-Customer\n",
       "3188   8873  Non-Customer\n",
       "3189    172  Non-Customer\n",
       "\n",
       "[3190 rows x 2 columns]"
      ]
     },
     "execution_count": 50,
     "metadata": {},
     "output_type": "execute_result"
    }
   ],
   "source": [
    "#{'Non-Customer': 0, 'V-Auto': 1, 'V-Bag': 2, 'V-Pet': 3}\n",
    "\n",
    "y = pd.DataFrame({'Product': y_pred_new_data})\n",
    "submit = test['ID']\n",
    "submit = pd.DataFrame({'ID': submit})\n",
    "\n",
    "pred = y\n",
    "pred = pd.DataFrame({'Product': y_pred_new_data})\n",
    "\n",
    "product = []\n",
    "product = pred.Product\n",
    "product.replace({ \n",
    "    int(0) : 'Non-Customer', \n",
    "    int(1) : 'V-Auto', \n",
    "    int(2) : 'V-Bag', \n",
    "    int(3) : 'V-Pet'},\n",
    "    inplace=True)\n",
    "\n",
    "submit = submit.join(product)\n",
    "submit"
   ]
  },
  {
   "cell_type": "code",
   "execution_count": 51,
   "metadata": {},
   "outputs": [
    {
     "data": {
      "text/plain": [
       "count             3190\n",
       "unique               4\n",
       "top       Non-Customer\n",
       "freq              2680\n",
       "Name: Product, dtype: object"
      ]
     },
     "execution_count": 51,
     "metadata": {},
     "output_type": "execute_result"
    }
   ],
   "source": [
    "submit.Product.describe()"
   ]
  },
  {
   "cell_type": "code",
   "execution_count": 52,
   "metadata": {},
   "outputs": [],
   "source": [
    "submit.to_csv('result_xgbfl.csv', index = False, encoding='utf-8')"
   ]
  },
  {
   "cell_type": "code",
   "execution_count": null,
   "metadata": {},
   "outputs": [],
   "source": []
  },
  {
   "cell_type": "code",
   "execution_count": null,
   "metadata": {},
   "outputs": [],
   "source": []
  },
  {
   "cell_type": "code",
   "execution_count": 46,
   "metadata": {},
   "outputs": [
    {
     "name": "stderr",
     "output_type": "stream",
     "text": [
      "C:\\Users\\giano\\Anaconda3\\envs\\voda\\lib\\site-packages\\sklearn\\preprocessing\\label.py:151: DeprecationWarning: The truth value of an empty array is ambiguous. Returning False, but in future this will result in an error. Use `array.size > 0` to check that an array is not empty.\n",
      "  if diff:\n"
     ]
    },
    {
     "name": "stdout",
     "output_type": "stream",
     "text": [
      "Accuracy: 61.08%\n"
     ]
    },
    {
     "name": "stderr",
     "output_type": "stream",
     "text": [
      "C:\\Users\\giano\\Anaconda3\\envs\\voda\\lib\\site-packages\\sklearn\\preprocessing\\label.py:151: DeprecationWarning: The truth value of an empty array is ambiguous. Returning False, but in future this will result in an error. Use `array.size > 0` to check that an array is not empty.\n",
      "  if diff:\n"
     ]
    },
    {
     "name": "stdout",
     "output_type": "stream",
     "text": [
      "Thresh=0.005, n=34, Accuracy: 61.15%\n"
     ]
    },
    {
     "name": "stderr",
     "output_type": "stream",
     "text": [
      "C:\\Users\\giano\\Anaconda3\\envs\\voda\\lib\\site-packages\\sklearn\\preprocessing\\label.py:151: DeprecationWarning: The truth value of an empty array is ambiguous. Returning False, but in future this will result in an error. Use `array.size > 0` to check that an array is not empty.\n",
      "  if diff:\n"
     ]
    },
    {
     "name": "stdout",
     "output_type": "stream",
     "text": [
      "Thresh=0.005, n=33, Accuracy: 61.02%\n"
     ]
    },
    {
     "name": "stderr",
     "output_type": "stream",
     "text": [
      "C:\\Users\\giano\\Anaconda3\\envs\\voda\\lib\\site-packages\\sklearn\\preprocessing\\label.py:151: DeprecationWarning: The truth value of an empty array is ambiguous. Returning False, but in future this will result in an error. Use `array.size > 0` to check that an array is not empty.\n",
      "  if diff:\n"
     ]
    },
    {
     "name": "stdout",
     "output_type": "stream",
     "text": [
      "Thresh=0.006, n=32, Accuracy: 60.83%\n"
     ]
    },
    {
     "name": "stderr",
     "output_type": "stream",
     "text": [
      "C:\\Users\\giano\\Anaconda3\\envs\\voda\\lib\\site-packages\\sklearn\\preprocessing\\label.py:151: DeprecationWarning: The truth value of an empty array is ambiguous. Returning False, but in future this will result in an error. Use `array.size > 0` to check that an array is not empty.\n",
      "  if diff:\n"
     ]
    },
    {
     "name": "stdout",
     "output_type": "stream",
     "text": [
      "Thresh=0.006, n=31, Accuracy: 60.83%\n"
     ]
    },
    {
     "name": "stderr",
     "output_type": "stream",
     "text": [
      "C:\\Users\\giano\\Anaconda3\\envs\\voda\\lib\\site-packages\\sklearn\\preprocessing\\label.py:151: DeprecationWarning: The truth value of an empty array is ambiguous. Returning False, but in future this will result in an error. Use `array.size > 0` to check that an array is not empty.\n",
      "  if diff:\n"
     ]
    },
    {
     "name": "stdout",
     "output_type": "stream",
     "text": [
      "Thresh=0.007, n=30, Accuracy: 60.45%\n"
     ]
    },
    {
     "name": "stderr",
     "output_type": "stream",
     "text": [
      "C:\\Users\\giano\\Anaconda3\\envs\\voda\\lib\\site-packages\\sklearn\\preprocessing\\label.py:151: DeprecationWarning: The truth value of an empty array is ambiguous. Returning False, but in future this will result in an error. Use `array.size > 0` to check that an array is not empty.\n",
      "  if diff:\n"
     ]
    },
    {
     "name": "stdout",
     "output_type": "stream",
     "text": [
      "Thresh=0.008, n=29, Accuracy: 60.73%\n"
     ]
    },
    {
     "name": "stderr",
     "output_type": "stream",
     "text": [
      "C:\\Users\\giano\\Anaconda3\\envs\\voda\\lib\\site-packages\\sklearn\\preprocessing\\label.py:151: DeprecationWarning: The truth value of an empty array is ambiguous. Returning False, but in future this will result in an error. Use `array.size > 0` to check that an array is not empty.\n",
      "  if diff:\n"
     ]
    },
    {
     "name": "stdout",
     "output_type": "stream",
     "text": [
      "Thresh=0.008, n=28, Accuracy: 60.96%\n"
     ]
    },
    {
     "name": "stderr",
     "output_type": "stream",
     "text": [
      "C:\\Users\\giano\\Anaconda3\\envs\\voda\\lib\\site-packages\\sklearn\\preprocessing\\label.py:151: DeprecationWarning: The truth value of an empty array is ambiguous. Returning False, but in future this will result in an error. Use `array.size > 0` to check that an array is not empty.\n",
      "  if diff:\n"
     ]
    },
    {
     "name": "stdout",
     "output_type": "stream",
     "text": [
      "Thresh=0.009, n=27, Accuracy: 60.92%\n"
     ]
    },
    {
     "name": "stderr",
     "output_type": "stream",
     "text": [
      "C:\\Users\\giano\\Anaconda3\\envs\\voda\\lib\\site-packages\\sklearn\\preprocessing\\label.py:151: DeprecationWarning: The truth value of an empty array is ambiguous. Returning False, but in future this will result in an error. Use `array.size > 0` to check that an array is not empty.\n",
      "  if diff:\n"
     ]
    },
    {
     "name": "stdout",
     "output_type": "stream",
     "text": [
      "Thresh=0.009, n=26, Accuracy: 60.73%\n"
     ]
    },
    {
     "name": "stderr",
     "output_type": "stream",
     "text": [
      "C:\\Users\\giano\\Anaconda3\\envs\\voda\\lib\\site-packages\\sklearn\\preprocessing\\label.py:151: DeprecationWarning: The truth value of an empty array is ambiguous. Returning False, but in future this will result in an error. Use `array.size > 0` to check that an array is not empty.\n",
      "  if diff:\n"
     ]
    },
    {
     "name": "stdout",
     "output_type": "stream",
     "text": [
      "Thresh=0.010, n=25, Accuracy: 60.83%\n"
     ]
    },
    {
     "name": "stderr",
     "output_type": "stream",
     "text": [
      "C:\\Users\\giano\\Anaconda3\\envs\\voda\\lib\\site-packages\\sklearn\\preprocessing\\label.py:151: DeprecationWarning: The truth value of an empty array is ambiguous. Returning False, but in future this will result in an error. Use `array.size > 0` to check that an array is not empty.\n",
      "  if diff:\n"
     ]
    },
    {
     "name": "stdout",
     "output_type": "stream",
     "text": [
      "Thresh=0.013, n=24, Accuracy: 60.83%\n"
     ]
    },
    {
     "name": "stderr",
     "output_type": "stream",
     "text": [
      "C:\\Users\\giano\\Anaconda3\\envs\\voda\\lib\\site-packages\\sklearn\\preprocessing\\label.py:151: DeprecationWarning: The truth value of an empty array is ambiguous. Returning False, but in future this will result in an error. Use `array.size > 0` to check that an array is not empty.\n",
      "  if diff:\n"
     ]
    },
    {
     "name": "stdout",
     "output_type": "stream",
     "text": [
      "Thresh=0.015, n=23, Accuracy: 60.86%\n"
     ]
    },
    {
     "name": "stderr",
     "output_type": "stream",
     "text": [
      "C:\\Users\\giano\\Anaconda3\\envs\\voda\\lib\\site-packages\\sklearn\\preprocessing\\label.py:151: DeprecationWarning: The truth value of an empty array is ambiguous. Returning False, but in future this will result in an error. Use `array.size > 0` to check that an array is not empty.\n",
      "  if diff:\n"
     ]
    },
    {
     "name": "stdout",
     "output_type": "stream",
     "text": [
      "Thresh=0.017, n=22, Accuracy: 60.54%\n"
     ]
    },
    {
     "name": "stderr",
     "output_type": "stream",
     "text": [
      "C:\\Users\\giano\\Anaconda3\\envs\\voda\\lib\\site-packages\\sklearn\\preprocessing\\label.py:151: DeprecationWarning: The truth value of an empty array is ambiguous. Returning False, but in future this will result in an error. Use `array.size > 0` to check that an array is not empty.\n",
      "  if diff:\n"
     ]
    },
    {
     "name": "stdout",
     "output_type": "stream",
     "text": [
      "Thresh=0.020, n=21, Accuracy: 60.70%\n"
     ]
    },
    {
     "name": "stderr",
     "output_type": "stream",
     "text": [
      "C:\\Users\\giano\\Anaconda3\\envs\\voda\\lib\\site-packages\\sklearn\\preprocessing\\label.py:151: DeprecationWarning: The truth value of an empty array is ambiguous. Returning False, but in future this will result in an error. Use `array.size > 0` to check that an array is not empty.\n",
      "  if diff:\n"
     ]
    },
    {
     "name": "stdout",
     "output_type": "stream",
     "text": [
      "Thresh=0.025, n=20, Accuracy: 60.73%\n"
     ]
    },
    {
     "name": "stderr",
     "output_type": "stream",
     "text": [
      "C:\\Users\\giano\\Anaconda3\\envs\\voda\\lib\\site-packages\\sklearn\\preprocessing\\label.py:151: DeprecationWarning: The truth value of an empty array is ambiguous. Returning False, but in future this will result in an error. Use `array.size > 0` to check that an array is not empty.\n",
      "  if diff:\n"
     ]
    },
    {
     "name": "stdout",
     "output_type": "stream",
     "text": [
      "Thresh=0.027, n=19, Accuracy: 60.26%\n"
     ]
    },
    {
     "name": "stderr",
     "output_type": "stream",
     "text": [
      "C:\\Users\\giano\\Anaconda3\\envs\\voda\\lib\\site-packages\\sklearn\\preprocessing\\label.py:151: DeprecationWarning: The truth value of an empty array is ambiguous. Returning False, but in future this will result in an error. Use `array.size > 0` to check that an array is not empty.\n",
      "  if diff:\n"
     ]
    },
    {
     "name": "stdout",
     "output_type": "stream",
     "text": [
      "Thresh=0.028, n=18, Accuracy: 60.04%\n"
     ]
    },
    {
     "name": "stderr",
     "output_type": "stream",
     "text": [
      "C:\\Users\\giano\\Anaconda3\\envs\\voda\\lib\\site-packages\\sklearn\\preprocessing\\label.py:151: DeprecationWarning: The truth value of an empty array is ambiguous. Returning False, but in future this will result in an error. Use `array.size > 0` to check that an array is not empty.\n",
      "  if diff:\n"
     ]
    },
    {
     "name": "stdout",
     "output_type": "stream",
     "text": [
      "Thresh=0.029, n=17, Accuracy: 60.13%\n"
     ]
    },
    {
     "name": "stderr",
     "output_type": "stream",
     "text": [
      "C:\\Users\\giano\\Anaconda3\\envs\\voda\\lib\\site-packages\\sklearn\\preprocessing\\label.py:151: DeprecationWarning: The truth value of an empty array is ambiguous. Returning False, but in future this will result in an error. Use `array.size > 0` to check that an array is not empty.\n",
      "  if diff:\n"
     ]
    },
    {
     "name": "stdout",
     "output_type": "stream",
     "text": [
      "Thresh=0.030, n=16, Accuracy: 60.35%\n"
     ]
    },
    {
     "name": "stderr",
     "output_type": "stream",
     "text": [
      "C:\\Users\\giano\\Anaconda3\\envs\\voda\\lib\\site-packages\\sklearn\\preprocessing\\label.py:151: DeprecationWarning: The truth value of an empty array is ambiguous. Returning False, but in future this will result in an error. Use `array.size > 0` to check that an array is not empty.\n",
      "  if diff:\n"
     ]
    },
    {
     "name": "stdout",
     "output_type": "stream",
     "text": [
      "Thresh=0.030, n=15, Accuracy: 60.13%\n"
     ]
    },
    {
     "name": "stderr",
     "output_type": "stream",
     "text": [
      "C:\\Users\\giano\\Anaconda3\\envs\\voda\\lib\\site-packages\\sklearn\\preprocessing\\label.py:151: DeprecationWarning: The truth value of an empty array is ambiguous. Returning False, but in future this will result in an error. Use `array.size > 0` to check that an array is not empty.\n",
      "  if diff:\n"
     ]
    },
    {
     "name": "stdout",
     "output_type": "stream",
     "text": [
      "Thresh=0.030, n=14, Accuracy: 60.48%\n"
     ]
    },
    {
     "name": "stderr",
     "output_type": "stream",
     "text": [
      "C:\\Users\\giano\\Anaconda3\\envs\\voda\\lib\\site-packages\\sklearn\\preprocessing\\label.py:151: DeprecationWarning: The truth value of an empty array is ambiguous. Returning False, but in future this will result in an error. Use `array.size > 0` to check that an array is not empty.\n",
      "  if diff:\n"
     ]
    },
    {
     "name": "stdout",
     "output_type": "stream",
     "text": [
      "Thresh=0.030, n=13, Accuracy: 60.10%\n"
     ]
    },
    {
     "name": "stderr",
     "output_type": "stream",
     "text": [
      "C:\\Users\\giano\\Anaconda3\\envs\\voda\\lib\\site-packages\\sklearn\\preprocessing\\label.py:151: DeprecationWarning: The truth value of an empty array is ambiguous. Returning False, but in future this will result in an error. Use `array.size > 0` to check that an array is not empty.\n",
      "  if diff:\n"
     ]
    },
    {
     "name": "stdout",
     "output_type": "stream",
     "text": [
      "Thresh=0.033, n=12, Accuracy: 60.35%\n"
     ]
    },
    {
     "name": "stderr",
     "output_type": "stream",
     "text": [
      "C:\\Users\\giano\\Anaconda3\\envs\\voda\\lib\\site-packages\\sklearn\\preprocessing\\label.py:151: DeprecationWarning: The truth value of an empty array is ambiguous. Returning False, but in future this will result in an error. Use `array.size > 0` to check that an array is not empty.\n",
      "  if diff:\n"
     ]
    },
    {
     "name": "stdout",
     "output_type": "stream",
     "text": [
      "Thresh=0.034, n=11, Accuracy: 60.42%\n"
     ]
    },
    {
     "name": "stderr",
     "output_type": "stream",
     "text": [
      "C:\\Users\\giano\\Anaconda3\\envs\\voda\\lib\\site-packages\\sklearn\\preprocessing\\label.py:151: DeprecationWarning: The truth value of an empty array is ambiguous. Returning False, but in future this will result in an error. Use `array.size > 0` to check that an array is not empty.\n",
      "  if diff:\n"
     ]
    },
    {
     "name": "stdout",
     "output_type": "stream",
     "text": [
      "Thresh=0.034, n=10, Accuracy: 60.13%\n"
     ]
    },
    {
     "name": "stderr",
     "output_type": "stream",
     "text": [
      "C:\\Users\\giano\\Anaconda3\\envs\\voda\\lib\\site-packages\\sklearn\\preprocessing\\label.py:151: DeprecationWarning: The truth value of an empty array is ambiguous. Returning False, but in future this will result in an error. Use `array.size > 0` to check that an array is not empty.\n",
      "  if diff:\n"
     ]
    },
    {
     "name": "stdout",
     "output_type": "stream",
     "text": [
      "Thresh=0.036, n=9, Accuracy: 60.13%\n"
     ]
    },
    {
     "name": "stderr",
     "output_type": "stream",
     "text": [
      "C:\\Users\\giano\\Anaconda3\\envs\\voda\\lib\\site-packages\\sklearn\\preprocessing\\label.py:151: DeprecationWarning: The truth value of an empty array is ambiguous. Returning False, but in future this will result in an error. Use `array.size > 0` to check that an array is not empty.\n",
      "  if diff:\n"
     ]
    },
    {
     "name": "stdout",
     "output_type": "stream",
     "text": [
      "Thresh=0.045, n=8, Accuracy: 59.91%\n"
     ]
    },
    {
     "name": "stderr",
     "output_type": "stream",
     "text": [
      "C:\\Users\\giano\\Anaconda3\\envs\\voda\\lib\\site-packages\\sklearn\\preprocessing\\label.py:151: DeprecationWarning: The truth value of an empty array is ambiguous. Returning False, but in future this will result in an error. Use `array.size > 0` to check that an array is not empty.\n",
      "  if diff:\n"
     ]
    },
    {
     "name": "stdout",
     "output_type": "stream",
     "text": [
      "Thresh=0.050, n=7, Accuracy: 59.50%\n"
     ]
    },
    {
     "name": "stderr",
     "output_type": "stream",
     "text": [
      "C:\\Users\\giano\\Anaconda3\\envs\\voda\\lib\\site-packages\\sklearn\\preprocessing\\label.py:151: DeprecationWarning: The truth value of an empty array is ambiguous. Returning False, but in future this will result in an error. Use `array.size > 0` to check that an array is not empty.\n",
      "  if diff:\n"
     ]
    },
    {
     "name": "stdout",
     "output_type": "stream",
     "text": [
      "Thresh=0.053, n=6, Accuracy: 59.53%\n"
     ]
    },
    {
     "name": "stderr",
     "output_type": "stream",
     "text": [
      "C:\\Users\\giano\\Anaconda3\\envs\\voda\\lib\\site-packages\\sklearn\\preprocessing\\label.py:151: DeprecationWarning: The truth value of an empty array is ambiguous. Returning False, but in future this will result in an error. Use `array.size > 0` to check that an array is not empty.\n",
      "  if diff:\n"
     ]
    },
    {
     "name": "stdout",
     "output_type": "stream",
     "text": [
      "Thresh=0.053, n=5, Accuracy: 59.34%\n"
     ]
    },
    {
     "name": "stderr",
     "output_type": "stream",
     "text": [
      "C:\\Users\\giano\\Anaconda3\\envs\\voda\\lib\\site-packages\\sklearn\\preprocessing\\label.py:151: DeprecationWarning: The truth value of an empty array is ambiguous. Returning False, but in future this will result in an error. Use `array.size > 0` to check that an array is not empty.\n",
      "  if diff:\n"
     ]
    },
    {
     "name": "stdout",
     "output_type": "stream",
     "text": [
      "Thresh=0.061, n=4, Accuracy: 59.15%\n"
     ]
    },
    {
     "name": "stderr",
     "output_type": "stream",
     "text": [
      "C:\\Users\\giano\\Anaconda3\\envs\\voda\\lib\\site-packages\\sklearn\\preprocessing\\label.py:151: DeprecationWarning: The truth value of an empty array is ambiguous. Returning False, but in future this will result in an error. Use `array.size > 0` to check that an array is not empty.\n",
      "  if diff:\n"
     ]
    },
    {
     "name": "stdout",
     "output_type": "stream",
     "text": [
      "Thresh=0.065, n=3, Accuracy: 58.96%\n"
     ]
    },
    {
     "name": "stderr",
     "output_type": "stream",
     "text": [
      "C:\\Users\\giano\\Anaconda3\\envs\\voda\\lib\\site-packages\\sklearn\\preprocessing\\label.py:151: DeprecationWarning: The truth value of an empty array is ambiguous. Returning False, but in future this will result in an error. Use `array.size > 0` to check that an array is not empty.\n",
      "  if diff:\n"
     ]
    },
    {
     "name": "stdout",
     "output_type": "stream",
     "text": [
      "Thresh=0.074, n=2, Accuracy: 58.71%\n",
      "Thresh=0.096, n=1, Accuracy: 57.19%\n"
     ]
    },
    {
     "name": "stderr",
     "output_type": "stream",
     "text": [
      "C:\\Users\\giano\\Anaconda3\\envs\\voda\\lib\\site-packages\\sklearn\\preprocessing\\label.py:151: DeprecationWarning: The truth value of an empty array is ambiguous. Returning False, but in future this will result in an error. Use `array.size > 0` to check that an array is not empty.\n",
      "  if diff:\n"
     ]
    }
   ],
   "source": [
    "# predictors = [x for x in train.columns if x not in [target]]\n",
    "# # split data into X and y\n",
    "# X = train[predictors]\n",
    "# Y = train[target]\n",
    "# # split data into train and test sets\n",
    "# X_train, X_test, y_train, y_test = train_test_split(X, Y, test_size=0.33, random_state=7)\n",
    "# # fit model on all training data\n",
    "# model = xgb4\n",
    "# model.fit(X_train, y_train)\n",
    "# # make predictions for test data and evaluate\n",
    "# y_pred = model.predict(X_test)\n",
    "# predictions = [round(value) for value in y_pred]\n",
    "# accuracy = accuracy_score(y_test, predictions)\n",
    "# print(\"Accuracy: %.2f%%\" % (accuracy * 100.0))\n",
    "# # Fit model using each importance as a threshold\n",
    "# thresholds = sort(model.feature_importances_)\n",
    "# for thresh in thresholds:\n",
    "#     # select features using threshold\n",
    "#     selection = SelectFromModel(model, threshold=thresh, prefit=True)\n",
    "#     select_X_train = selection.transform(X_train)\n",
    "#     # train model\n",
    "#     selection_model = XGBClassifier(objective='multi:softprob', \n",
    "#         num_class=4)\n",
    "#     selection_model.fit(select_X_train, y_train)\n",
    "#     # eval model\n",
    "#     select_X_test = selection.transform(X_test)\n",
    "#     y_pred = selection_model.predict(select_X_test)\n",
    "#     predictions = [round(value) for value in y_pred]\n",
    "#     accuracy = accuracy_score(y_test, predictions)\n",
    "#     print(\"Thresh=%.3f, n=%d, Accuracy: %.2f%%\" % (thresh, select_X_train.shape[1], accuracy*100.0))"
   ]
  },
  {
   "cell_type": "code",
   "execution_count": 47,
   "metadata": {},
   "outputs": [
    {
     "data": {
      "text/plain": [
       "Index(['ID', 'ChurnScore', 'MonthlyVoiceTrafficCount', 'MonthlyDataTraffic',\n",
       "       'Province', 'DataArpu', 'DataAllowanceContinuous',\n",
       "       'MonthlySMSTrafficCount', 'Region', 'Instant-Messaging-Applications',\n",
       "       'File-Transfer', 'Mail', 'Security', 'Streaming-Applications',\n",
       "       'Web-Applications', 'Unclassified', 'VoIP', 'Games', 'P2P-Applications',\n",
       "       'CustomerAge', 'Music-Streaming', 'Network-Operation',\n",
       "       'ParkingConnectionsDuration', 'StationConnectionsDuration',\n",
       "       'ParkingConnectionsCount', 'AirportConnectionsDuration', 'DeviceFlag4G',\n",
       "       'DeviceFlagSmartphone', 'CustomerGender', 'StationConnectionsCount',\n",
       "       'AirportConnectionsCount', 'Terminals', 'CustomerExpatriate',\n",
       "       'IsModified'],\n",
       "      dtype='object')"
      ]
     },
     "execution_count": 47,
     "metadata": {},
     "output_type": "execute_result"
    }
   ],
   "source": [
    "thresholds = model.feature_importances_\n",
    "thresholds\n",
    "\n",
    "thresholds.argsort()[-34:][::-1]\n",
    "train.columns[thresholds.argsort()[-34:][::-1]]"
   ]
  },
  {
   "cell_type": "code",
   "execution_count": null,
   "metadata": {},
   "outputs": [],
   "source": []
  },
  {
   "cell_type": "code",
   "execution_count": null,
   "metadata": {},
   "outputs": [],
   "source": [
    "res_top = pd.read_csv(\"result_xgb062.csv\", delimiter=\",\")"
   ]
  },
  {
   "cell_type": "code",
   "execution_count": null,
   "metadata": {},
   "outputs": [],
   "source": [
    "res_top.Product.describe()"
   ]
  }
 ],
 "metadata": {
  "kernelspec": {
   "display_name": "Python 3",
   "language": "python",
   "name": "python3"
  },
  "language_info": {
   "codemirror_mode": {
    "name": "ipython",
    "version": 3
   },
   "file_extension": ".py",
   "mimetype": "text/x-python",
   "name": "python",
   "nbconvert_exporter": "python",
   "pygments_lexer": "ipython3",
   "version": "3.6.5"
  }
 },
 "nbformat": 4,
 "nbformat_minor": 2
}
