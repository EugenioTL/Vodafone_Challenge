{
 "cells": [
  {
   "cell_type": "code",
   "execution_count": 1,
   "metadata": {},
   "outputs": [],
   "source": [
    "import pandas as pd\n",
    "import numpy as np\n",
    "import xgboost as xgb\n",
    "#from xgboost.sklearn import XGBClassifier\n",
    "from xgboost import XGBClassifier\n",
    "# from sklearn import cross_validation, metrics\n",
    "# from sklearn.grid_search import GridSearchCV\n",
    "from sklearn.model_selection import GridSearchCV\n",
    "from sklearn.model_selection import StratifiedKFold\n",
    "from sklearn.metrics import f1_score\n",
    "\n",
    "from sklearn.model_selection import train_test_split\n",
    "from sklearn.metrics import accuracy_score\n",
    "from sklearn import metrics\n",
    "\n",
    "from xgboost import plot_importance\n",
    "from matplotlib import pyplot\n",
    "import matplotlib.pyplot as plt\n",
    "%matplotlib inline\n",
    "from matplotlib.pylab import rcParams\n",
    "rcParams['figure.figsize'] = 12, 8\n",
    "\n",
    "from numpy import sort\n",
    "from sklearn.feature_selection import SelectFromModel\n",
    "\n",
    "# # Ignore warnings\n",
    "# import warnings\n",
    "# warnings.simplefilter('ignore')"
   ]
  },
  {
   "cell_type": "code",
   "execution_count": 2,
   "metadata": {},
   "outputs": [],
   "source": [
    "# Import the train set and test set\n",
    "train_data2 = pd.read_csv(\"trainset.csv\", delimiter=\",\")\n",
    "test_data2 = pd.read_csv(\"testset.csv\", delimiter=\",\")\n",
    "\n",
    "train = pd.read_csv(\"normalized_train_dataset.csv\", delimiter=\",\").fillna(0)\n",
    "test = pd.read_csv(\"normalized_test_dataset.csv\", delimiter=\",\").fillna(0)\n",
    "\n",
    "#train = train.dropna()\n",
    "# test = test.dropna()"
   ]
  },
  {
   "cell_type": "code",
   "execution_count": 3,
   "metadata": {},
   "outputs": [
    {
     "data": {
      "text/plain": [
       "((9567, 35), (3190, 34))"
      ]
     },
     "execution_count": 3,
     "metadata": {},
     "output_type": "execute_result"
    }
   ],
   "source": [
    "train.shape, test.shape"
   ]
  },
  {
   "cell_type": "code",
   "execution_count": 4,
   "metadata": {},
   "outputs": [],
   "source": [
    "target = 'Product'\n",
    "IDcol = 'ID'"
   ]
  },
  {
   "cell_type": "code",
   "execution_count": null,
   "metadata": {},
   "outputs": [],
   "source": []
  },
  {
   "cell_type": "code",
   "execution_count": null,
   "metadata": {},
   "outputs": [],
   "source": []
  },
  {
   "cell_type": "code",
   "execution_count": 5,
   "metadata": {
    "scrolled": false
   },
   "outputs": [],
   "source": [
    "#test_results = pd.read_csv('test_results.csv')\n",
    "def modelfit2(alg, dtrain, dtest, predictors,useTrainCV=True, cv_folds=5, early_stopping_rounds=50):\n",
    "    \n",
    "    # fit model on training data\n",
    "    model = alg\n",
    "    \n",
    "    X_train, X_test, y_train, y_test = train_test_split(dtrain[predictors], dtrain[target], test_size=0.33, random_state=7)\n",
    "    eval_set = [(X_test, y_test)]\n",
    "    model.fit(X_train,\n",
    "              y_train,\n",
    "              early_stopping_rounds=early_stopping_rounds,\n",
    "              eval_metric=\"merror\",\n",
    "              eval_set=eval_set,\n",
    "              verbose=False)\n",
    "    \n",
    "    # make predictions for test data\n",
    "    y_pred = model.predict(X_test)\n",
    "    predictions = [round(value) for value in y_pred]\n",
    "    # evaluate predictions\n",
    "    accuracy = accuracy_score(y_test, predictions)\n",
    "    f1_scor = f1_score(y_test, predictions, average='micro')  \n",
    "    print(\"Accuracy: %.2f%%\" % (accuracy * 100.0))\n",
    "    print(\"f1_micro: %.2f%%\" % (f1_scor * 100.0))\n",
    "    \n",
    "#     if useTrainCV:\n",
    "#         xgb_param = alg.get_xgb_params()\n",
    "#         xgtrain = xgb.DMatrix(dtrain[predictors].values, label=dtrain[target].values)\n",
    "#         xgtest = xgb.DMatrix(dtest[predictors].values)\n",
    "#         cvresult = xgb.cv(xgb_param, xgtrain, num_boost_round=alg.get_params()['n_estimators'], nfold=cv_folds,\n",
    "#             metrics='merror',\n",
    "#                           early_stopping_rounds=early_stopping_rounds)\n",
    "#         alg.set_params(n_estimators=cvresult.shape[0])\n",
    "    \n",
    "#     #Fit the algorithm on the data\n",
    "#     alg.fit(dtrain[predictors], dtrain['Product'],eval_metric='auc')\n",
    "        \n",
    "#     #Predict training set:\n",
    "#     dtrain_predictions = alg.predict(dtrain[predictors])\n",
    "#     dtrain_predprob = alg.predict_proba(dtrain[predictors])[:,1]\n",
    "        \n",
    "#     #Print model report:\n",
    "#     print(\"\\nModel Report\")\n",
    "#     print(\"Accuracy : %.4g\" % metrics.accuracy_score(dtrain['Product'].values, dtrain_predictions))\n",
    "#     #print(\"AUC Score (Train): %f\" % metrics.roc_auc_score(dtrain['Product'], dtrain_predprob))\n",
    "    \n",
    "# #     Predict on testing data:\n",
    "    dtest['predprob'] = alg.predict_proba(dtest[predictors])[:,1]\n",
    "    results = test_results.merge(dtest[['ID','predprob']], on='ID')\n",
    "    #print(dtest[['ID','predprob']])\n",
    "#     #print('AUC Score (Test): %f' % metrics.roc_auc_score(results['Product'], results['predprob']))\n",
    "        \n",
    "    #feat_imp = pd.Series(model.booster().get_fscore()).sort_values(ascending=False)\n",
    "#     feat_imp.plot(kind='bar', title='Feature Importances')\n",
    "#     plt.ylabel('Feature Importance Score')\n",
    "\n",
    "    plot_importance(model)\n",
    "    plt.show()\n",
    "    print(\"Model: \" + str(model))\n",
    "    thresholds = alg.feature_importances_\n",
    "    print(\"Feature_Importances: \")\n",
    "    print(dtrain.columns[thresholds.argsort()[-10:][::-1]])"
   ]
  },
  {
   "cell_type": "code",
   "execution_count": 6,
   "metadata": {},
   "outputs": [],
   "source": [
    "def modelfit(alg, dtrain, predictors,useTrainCV=True, cv_folds=5, early_stopping_rounds=50):\n",
    "\n",
    "    if useTrainCV:\n",
    "        xgb_param = alg.get_xgb_params()\n",
    "        xgtrain = xgb.DMatrix(dtrain[predictors].values, label=dtrain[target].values)\n",
    "        cvresult = xgb.cv(xgb_param, xgtrain, num_boost_round=alg.get_params()['n_estimators'], nfold=cv_folds,\n",
    "            metrics='merror', early_stopping_rounds=early_stopping_rounds, \n",
    "                          verbose_eval=True)\n",
    "        alg.set_params(n_estimators=cvresult.shape[0])\n",
    "    \n",
    "    #Fit the algorithm on the data\n",
    "    alg.fit(dtrain[predictors], dtrain['Product'],eval_metric='auc')\n",
    "        \n",
    "    #Predict training set:\n",
    "    dtrain_predictions = alg.predict(dtrain[predictors])\n",
    "    #dtrain_predprob = alg.predict_proba(dtrain[predictors])[:,1]\n",
    "\n",
    "    #Print model report:\n",
    "    print(\"\\nModel Report\")\n",
    "    print(\"Accuracy : %.4g\" % metrics.accuracy_score(dtrain['Product'].values, dtrain_predictions))\n",
    "    print(\"F1_score : %f\" % metrics.f1_score(dtrain['Product'], dtrain_predictions, average='micro'))\n",
    "                    \n",
    "#     feat_imp = pd.Series(alg.booster().get_fscore()).sort_values(ascending=False)\n",
    "#     feat_imp.plot(kind='bar', title='Feature Importances')\n",
    "#     plt.ylabel('Feature Importance Score')\n",
    "    plot_importance(alg)\n",
    "    plt.show()\n",
    "    thresholds = alg.feature_importances_\n",
    "    print(\"Feature_Importances: \")\n",
    "    print(dtrain.columns[thresholds.argsort()[-10:][::-1]])\n",
    "    print(\"Model: \" + str(alg.get_xgb_params()))\n",
    "    print(\"n_estimator: \" + str(cvresult.shape[0]))\n",
    "    return cvresult.shape[0]"
   ]
  },
  {
   "cell_type": "code",
   "execution_count": null,
   "metadata": {},
   "outputs": [],
   "source": []
  },
  {
   "cell_type": "code",
   "execution_count": null,
   "metadata": {},
   "outputs": [],
   "source": []
  },
  {
   "cell_type": "code",
   "execution_count": 7,
   "metadata": {},
   "outputs": [],
   "source": [
    "def important_features(model, nfeatures = 10):\n",
    "    model.fit()\n",
    "    thresholds = model.feature_importances_\n",
    "    \n",
    "    return train.column[thresholds.argsort()[-nfeatures:][::-1]]"
   ]
  },
  {
   "cell_type": "markdown",
   "metadata": {},
   "source": [
    "# Step 1- Find the number of estimators for a high learning rate"
   ]
  },
  {
   "cell_type": "code",
   "execution_count": 8,
   "metadata": {
    "scrolled": true
   },
   "outputs": [
    {
     "name": "stdout",
     "output_type": "stream",
     "text": [
      "[0]\ttrain-merror:0.401589+0.0028903\ttest-merror:0.410787+0.00586996\n",
      "[1]\ttrain-merror:0.400125+0.00291954\ttest-merror:0.408592+0.00666203\n",
      "[2]\ttrain-merror:0.396833+0.00449211\ttest-merror:0.407337+0.00329834\n",
      "[3]\ttrain-merror:0.3978+0.00440758\ttest-merror:0.407547+0.00199268\n",
      "[4]\ttrain-merror:0.397094+0.00437699\ttest-merror:0.407442+0.00214641\n",
      "[5]\ttrain-merror:0.39435+0.00318593\ttest-merror:0.405143+0.00510756\n",
      "[6]\ttrain-merror:0.392051+0.00159886\ttest-merror:0.402843+0.00305371\n",
      "[7]\ttrain-merror:0.391737+0.00114767\ttest-merror:0.402216+0.00274118\n",
      "[8]\ttrain-merror:0.391424+0.000203104\ttest-merror:0.400752+0.00218629\n",
      "[9]\ttrain-merror:0.391345+0.000965181\ttest-merror:0.400543+0.0014937\n",
      "[10]\ttrain-merror:0.391005+0.000786361\ttest-merror:0.400334+0.0018371\n",
      "[11]\ttrain-merror:0.391476+0.000564058\ttest-merror:0.400334+0.000842247\n",
      "[12]\ttrain-merror:0.391633+0.000613144\ttest-merror:0.401065+0.00297469\n",
      "[13]\ttrain-merror:0.391188+0.00115696\ttest-merror:0.400438+0.00197331\n",
      "[14]\ttrain-merror:0.390901+0.00102413\ttest-merror:0.40117+0.00120865\n",
      "[15]\ttrain-merror:0.390901+0.000729787\ttest-merror:0.400752+0.00197565\n",
      "[16]\ttrain-merror:0.39077+0.000960044\ttest-merror:0.401484+0.00247006\n",
      "[17]\ttrain-merror:0.390404+0.00103766\ttest-merror:0.401379+0.00214397\n",
      "[18]\ttrain-merror:0.390143+0.00137307\ttest-merror:0.400543+0.00251722\n",
      "[19]\ttrain-merror:0.389986+0.00152497\ttest-merror:0.399811+0.0023718\n",
      "[20]\ttrain-merror:0.389307+0.00121339\ttest-merror:0.399811+0.00276744\n",
      "[21]\ttrain-merror:0.38868+0.00145954\ttest-merror:0.399184+0.00365844\n",
      "[22]\ttrain-merror:0.388366+0.0012042\ttest-merror:0.400438+0.00462745\n",
      "[23]\ttrain-merror:0.388+0.00111321\ttest-merror:0.400125+0.00482715\n",
      "[24]\ttrain-merror:0.386642+0.00123958\ttest-merror:0.399079+0.00531815\n",
      "[25]\ttrain-merror:0.386223+0.00119113\ttest-merror:0.398557+0.0054745\n",
      "[26]\ttrain-merror:0.385753+0.00115774\ttest-merror:0.398661+0.0045429\n",
      "[27]\ttrain-merror:0.385074+0.000968283\ttest-merror:0.398348+0.00417624\n",
      "[28]\ttrain-merror:0.384211+0.00143141\ttest-merror:0.397407+0.00481906\n",
      "[29]\ttrain-merror:0.383688+0.0013516\ttest-merror:0.396989+0.00536599\n",
      "[30]\ttrain-merror:0.383244+0.00157339\ttest-merror:0.397093+0.00533494\n",
      "[31]\ttrain-merror:0.382487+0.00160467\ttest-merror:0.397198+0.0052371\n",
      "[32]\ttrain-merror:0.38152+0.0017519\ttest-merror:0.397512+0.00462924\n",
      "[33]\ttrain-merror:0.380971+0.00149\ttest-merror:0.396885+0.00321503\n",
      "[34]\ttrain-merror:0.380318+0.0012317\ttest-merror:0.397198+0.00357688\n",
      "[35]\ttrain-merror:0.379638+0.00152593\ttest-merror:0.39678+0.00476973\n",
      "[36]\ttrain-merror:0.379455+0.00175995\ttest-merror:0.395944+0.00326188\n",
      "[37]\ttrain-merror:0.378855+0.00184409\ttest-merror:0.396153+0.00448942\n",
      "[38]\ttrain-merror:0.377887+0.00162369\ttest-merror:0.39563+0.00425712\n",
      "[39]\ttrain-merror:0.377104+0.00183555\ttest-merror:0.396257+0.00467946\n",
      "[40]\ttrain-merror:0.376294+0.00160537\ttest-merror:0.395212+0.00363982\n",
      "[41]\ttrain-merror:0.375483+0.00208932\ttest-merror:0.394272+0.00250541\n",
      "[42]\ttrain-merror:0.374908+0.00233426\ttest-merror:0.394167+0.00293212\n",
      "[43]\ttrain-merror:0.374438+0.00224296\ttest-merror:0.393853+0.00243377\n",
      "[44]\ttrain-merror:0.373523+0.00197396\ttest-merror:0.394481+0.00193773\n",
      "[45]\ttrain-merror:0.372948+0.00186397\ttest-merror:0.394167+0.00282947\n",
      "[46]\ttrain-merror:0.371851+0.00176518\ttest-merror:0.393331+0.0026934\n",
      "[47]\ttrain-merror:0.370492+0.00189018\ttest-merror:0.393121+0.00261732\n",
      "[48]\ttrain-merror:0.370205+0.00179823\ttest-merror:0.392808+0.00229552\n",
      "[49]\ttrain-merror:0.369421+0.00202129\ttest-merror:0.392913+0.00285487\n",
      "[50]\ttrain-merror:0.369029+0.00225076\ttest-merror:0.393331+0.00340372\n",
      "[51]\ttrain-merror:0.368402+0.00231688\ttest-merror:0.392913+0.00355988\n",
      "[52]\ttrain-merror:0.367984+0.00218537\ttest-merror:0.392913+0.00382579\n",
      "[53]\ttrain-merror:0.367226+0.00215551\ttest-merror:0.393436+0.00336399\n",
      "[54]\ttrain-merror:0.36652+0.00183238\ttest-merror:0.393227+0.00310822\n",
      "[55]\ttrain-merror:0.366024+0.00184011\ttest-merror:0.393853+0.00333178\n",
      "[56]\ttrain-merror:0.365135+0.00209429\ttest-merror:0.39354+0.00271962\n",
      "[57]\ttrain-merror:0.364587+0.00206409\ttest-merror:0.394167+0.00248004\n",
      "[58]\ttrain-merror:0.364064+0.00221929\ttest-merror:0.393122+0.00384276\n",
      "[59]\ttrain-merror:0.36375+0.0019853\ttest-merror:0.393017+0.0042945\n",
      "[60]\ttrain-merror:0.363254+0.00196028\ttest-merror:0.392704+0.0043441\n",
      "[61]\ttrain-merror:0.362444+0.00172868\ttest-merror:0.391658+0.00403872\n",
      "[62]\ttrain-merror:0.361843+0.00159243\ttest-merror:0.391554+0.00423463\n",
      "[63]\ttrain-merror:0.361242+0.00189075\ttest-merror:0.392077+0.00418808\n",
      "[64]\ttrain-merror:0.360954+0.00175416\ttest-merror:0.391032+0.00400935\n",
      "[65]\ttrain-merror:0.359961+0.00190937\ttest-merror:0.390613+0.00456517\n",
      "[66]\ttrain-merror:0.359465+0.00187042\ttest-merror:0.3903+0.00475863\n",
      "[67]\ttrain-merror:0.358576+0.00180818\ttest-merror:0.390195+0.00407096\n",
      "[68]\ttrain-merror:0.358106+0.00142746\ttest-merror:0.389777+0.00402724\n",
      "[69]\ttrain-merror:0.357218+0.00175256\ttest-merror:0.389568+0.0043193\n",
      "[70]\ttrain-merror:0.356643+0.00150131\ttest-merror:0.389777+0.00394216\n",
      "[71]\ttrain-merror:0.355963+0.00165055\ttest-merror:0.38915+0.0042368\n",
      "[72]\ttrain-merror:0.355545+0.00185664\ttest-merror:0.389045+0.00441441\n",
      "[73]\ttrain-merror:0.354944+0.00185506\ttest-merror:0.388941+0.00446911\n",
      "[74]\ttrain-merror:0.354839+0.00187003\ttest-merror:0.38915+0.00391555\n",
      "[75]\ttrain-merror:0.354003+0.00176133\ttest-merror:0.388523+0.00378218\n",
      "[76]\ttrain-merror:0.353716+0.00191911\ttest-merror:0.388941+0.00426602\n",
      "[77]\ttrain-merror:0.353298+0.00201516\ttest-merror:0.389255+0.00367556\n",
      "[78]\ttrain-merror:0.352461+0.0021285\ttest-merror:0.389359+0.00313589\n",
      "[79]\ttrain-merror:0.351442+0.00216283\ttest-merror:0.389882+0.00359076\n",
      "[80]\ttrain-merror:0.35092+0.00223541\ttest-merror:0.389777+0.00348645\n",
      "[81]\ttrain-merror:0.350502+0.0019105\ttest-merror:0.389673+0.00284111\n",
      "[82]\ttrain-merror:0.350057+0.00226726\ttest-merror:0.389359+0.00253036\n",
      "[83]\ttrain-merror:0.34943+0.00235579\ttest-merror:0.389672+0.00263739\n",
      "[84]\ttrain-merror:0.348803+0.00261082\ttest-merror:0.390195+0.00309498\n",
      "[85]\ttrain-merror:0.347836+0.00274466\ttest-merror:0.389463+0.00314225\n",
      "[86]\ttrain-merror:0.347967+0.00244741\ttest-merror:0.389881+0.00344773\n",
      "[87]\ttrain-merror:0.347287+0.00273258\ttest-merror:0.389777+0.00351084\n",
      "[88]\ttrain-merror:0.346791+0.00260613\ttest-merror:0.389045+0.0030915\n",
      "[89]\ttrain-merror:0.346033+0.0023746\ttest-merror:0.388836+0.00304662\n",
      "[90]\ttrain-merror:0.345327+0.00236725\ttest-merror:0.388523+0.00411106\n",
      "[91]\ttrain-merror:0.344701+0.00218845\ttest-merror:0.388523+0.00419019\n",
      "[92]\ttrain-merror:0.344465+0.00225977\ttest-merror:0.388418+0.00417447\n",
      "[93]\ttrain-merror:0.343655+0.00209859\ttest-merror:0.388627+0.00442034\n",
      "[94]\ttrain-merror:0.343315+0.00226342\ttest-merror:0.388313+0.00422747\n",
      "[95]\ttrain-merror:0.342793+0.00239306\ttest-merror:0.388+0.00454093\n",
      "[96]\ttrain-merror:0.342166+0.00241735\ttest-merror:0.387895+0.00462481\n",
      "[97]\ttrain-merror:0.341826+0.00200289\ttest-merror:0.388104+0.00446227\n",
      "[98]\ttrain-merror:0.341277+0.00214105\ttest-merror:0.388627+0.00460656\n",
      "[99]\ttrain-merror:0.341147+0.00220935\ttest-merror:0.388732+0.00426141\n"
     ]
    },
    {
     "name": "stderr",
     "output_type": "stream",
     "text": [
      "C:\\Users\\giano\\Anaconda3\\envs\\voda\\lib\\site-packages\\sklearn\\preprocessing\\label.py:151: DeprecationWarning: The truth value of an empty array is ambiguous. Returning False, but in future this will result in an error. Use `array.size > 0` to check that an array is not empty.\n",
      "  if diff:\n"
     ]
    },
    {
     "name": "stdout",
     "output_type": "stream",
     "text": [
      "\n",
      "Model Report\n",
      "Accuracy : 0.6503\n",
      "F1_score : 0.650256\n"
     ]
    },
    {
     "data": {
      "image/png": "[encoded data removed]",
      "text/plain": [
       "<Figure size 432x288 with 1 Axes>"
      ]
     },
     "metadata": {},
     "output_type": "display_data"
    },
    {
     "name": "stdout",
     "output_type": "stream",
     "text": [
      "Feature_Importances: \n",
      "Index(['DeviceFlag4G', 'ZipCode', 'CustomerExpatriate',\n",
      "       'MonthlySMSTrafficCount', 'DeviceFlagSmartphone', 'DataArpu',\n",
      "       'Instant-Messaging-Applications', 'Web-Applications',\n",
      "       'MonthlyVoiceTrafficCount', 'Network-Operation'],\n",
      "      dtype='object')\n",
      "Model: {'base_score': 0.5, 'booster': 'gbtree', 'colsample_bylevel': 1, 'colsample_bytree': 1, 'gamma': 0, 'learning_rate': 0.1, 'max_delta_step': 0, 'max_depth': 3, 'min_child_weight': 1, 'missing': None, 'n_estimators': 100, 'nthread': 1, 'objective': 'multi:softprob', 'reg_alpha': 0, 'reg_lambda': 1, 'scale_pos_weight': 1, 'seed': 0, 'silent': 1, 'subsample': 1, 'num_class': 4}\n",
      "n_estimator: 100\n"
     ]
    },
    {
     "data": {
      "text/plain": [
       "100"
      ]
     },
     "execution_count": 8,
     "metadata": {},
     "output_type": "execute_result"
    }
   ],
   "source": [
    "predictors = [x for x in train.columns if x not in [target, IDcol]]\n",
    "xgb0 = XGBClassifier(\n",
    "        objective='multi:softprob',\n",
    "        num_class=4)\n",
    "# print(train[predictors].values)\n",
    "modelfit(xgb0, train, predictors)"
   ]
  },
  {
   "cell_type": "code",
   "execution_count": 9,
   "metadata": {},
   "outputs": [],
   "source": [
    "learning_rate = 0.1\n",
    "n_estimators = 1000\n",
    "max_depth = 5\n",
    "min_child_weight = 1\n",
    "gamma = 0\n",
    "subsample = 0.8\n",
    "colsample_bytree = 0.8\n",
    "reg_alpha = 0.005\n",
    "cv = 5"
   ]
  },
  {
   "cell_type": "code",
   "execution_count": 10,
   "metadata": {
    "scrolled": true
   },
   "outputs": [
    {
     "name": "stdout",
     "output_type": "stream",
     "text": [
      "[0]\ttrain-merror:0.377548+0.00229726\ttest-merror:0.413817+0.0103026\n",
      "[1]\ttrain-merror:0.368141+0.00103387\ttest-merror:0.407859+0.00929939\n",
      "[2]\ttrain-merror:0.364377+0.00389966\ttest-merror:0.405768+0.00791067\n",
      "[3]\ttrain-merror:0.360144+0.00131836\ttest-merror:0.40002+0.00573827\n",
      "[4]\ttrain-merror:0.358419+0.00215498\ttest-merror:0.401379+0.00390386\n",
      "[5]\ttrain-merror:0.356433+0.00203045\ttest-merror:0.399916+0.00443046\n",
      "[6]\ttrain-merror:0.354683+0.00211395\ttest-merror:0.39887+0.00539516\n",
      "[7]\ttrain-merror:0.352827+0.0023388\ttest-merror:0.398138+0.00529579\n",
      "[8]\ttrain-merror:0.351338+0.00223813\ttest-merror:0.397198+0.00485902\n",
      "[9]\ttrain-merror:0.350083+0.0019854\ttest-merror:0.396675+0.00596361\n",
      "[10]\ttrain-merror:0.348725+0.00225553\ttest-merror:0.396883+0.00803925\n",
      "[11]\ttrain-merror:0.346922+0.00252438\ttest-merror:0.396152+0.0070527\n",
      "[12]\ttrain-merror:0.344596+0.00233536\ttest-merror:0.395421+0.00756463\n",
      "[13]\ttrain-merror:0.343368+0.00264325\ttest-merror:0.393853+0.00681277\n",
      "[14]\ttrain-merror:0.342558+0.00188136\ttest-merror:0.394375+0.00710743\n",
      "[15]\ttrain-merror:0.340519+0.00218184\ttest-merror:0.393539+0.00762201\n",
      "[16]\ttrain-merror:0.339265+0.00195519\ttest-merror:0.394166+0.00752726\n",
      "[17]\ttrain-merror:0.338194+0.00216417\ttest-merror:0.393853+0.00655489\n",
      "[18]\ttrain-merror:0.33741+0.00268545\ttest-merror:0.393435+0.00588495\n",
      "[19]\ttrain-merror:0.335711+0.00220757\ttest-merror:0.393539+0.00597458\n",
      "[20]\ttrain-merror:0.335006+0.00297387\ttest-merror:0.39448+0.00675095\n",
      "[21]\ttrain-merror:0.333333+0.00301447\ttest-merror:0.393853+0.00615503\n",
      "[22]\ttrain-merror:0.331478+0.0031815\ttest-merror:0.393226+0.00601792\n",
      "[23]\ttrain-merror:0.330537+0.00355504\ttest-merror:0.392598+0.00605628\n",
      "[24]\ttrain-merror:0.329492+0.00373074\ttest-merror:0.392076+0.00572604\n",
      "[25]\ttrain-merror:0.328211+0.0037764\ttest-merror:0.392703+0.00572178\n",
      "[26]\ttrain-merror:0.326905+0.0029932\ttest-merror:0.392389+0.00621358\n",
      "[27]\ttrain-merror:0.324893+0.00329549\ttest-merror:0.392703+0.00563709\n",
      "[28]\ttrain-merror:0.323455+0.00381541\ttest-merror:0.392076+0.00547991\n",
      "[29]\ttrain-merror:0.321313+0.00348238\ttest-merror:0.392599+0.00637916\n",
      "[30]\ttrain-merror:0.319719+0.00381394\ttest-merror:0.391031+0.00653865\n",
      "[31]\ttrain-merror:0.317942+0.00341736\ttest-merror:0.391344+0.00689867\n",
      "[32]\ttrain-merror:0.316243+0.00281678\ttest-merror:0.391658+0.00643873\n",
      "[33]\ttrain-merror:0.315146+0.00301456\ttest-merror:0.390613+0.00674706\n",
      "[34]\ttrain-merror:0.313891+0.00265628\ttest-merror:0.390508+0.00667722\n",
      "[35]\ttrain-merror:0.313081+0.00304625\ttest-merror:0.390508+0.00629315\n",
      "[36]\ttrain-merror:0.310625+0.00322781\ttest-merror:0.391449+0.00611759\n",
      "[37]\ttrain-merror:0.308952+0.00345474\ttest-merror:0.39124+0.00615153\n",
      "[38]\ttrain-merror:0.308796+0.00370232\ttest-merror:0.390508+0.00592438\n",
      "[39]\ttrain-merror:0.307306+0.00367714\ttest-merror:0.39009+0.00681071\n",
      "[40]\ttrain-merror:0.305947+0.00348944\ttest-merror:0.390194+0.00588137\n",
      "[41]\ttrain-merror:0.304458+0.00386027\ttest-merror:0.390195+0.0056403\n",
      "[42]\ttrain-merror:0.303256+0.00395285\ttest-merror:0.39009+0.00599384\n",
      "[43]\ttrain-merror:0.301975+0.0041683\ttest-merror:0.390194+0.0070505\n",
      "[44]\ttrain-merror:0.299885+0.00400619\ttest-merror:0.389776+0.00753433\n",
      "[45]\ttrain-merror:0.298082+0.00418612\ttest-merror:0.389149+0.00740499\n",
      "[46]\ttrain-merror:0.296357+0.00384205\ttest-merror:0.388731+0.0074672\n",
      "[47]\ttrain-merror:0.295469+0.00393904\ttest-merror:0.388417+0.00808108\n",
      "[48]\ttrain-merror:0.293587+0.00328133\ttest-merror:0.38894+0.0072917\n",
      "[49]\ttrain-merror:0.292516+0.00330945\ttest-merror:0.389358+0.00678598\n",
      "[50]\ttrain-merror:0.290948+0.00315251\ttest-merror:0.389253+0.00700381\n",
      "[51]\ttrain-merror:0.289171+0.00374787\ttest-merror:0.390194+0.00778138\n",
      "[52]\ttrain-merror:0.287603+0.00440859\ttest-merror:0.390299+0.00791457\n",
      "[53]\ttrain-merror:0.286767+0.00419871\ttest-merror:0.38873+0.00879128\n",
      "[54]\ttrain-merror:0.286166+0.00432708\ttest-merror:0.389044+0.00852658\n",
      "[55]\ttrain-merror:0.284938+0.0041455\ttest-merror:0.38894+0.00865789\n",
      "[56]\ttrain-merror:0.283501+0.00462834\ttest-merror:0.388417+0.00811098\n",
      "[57]\ttrain-merror:0.281985+0.00419834\ttest-merror:0.389358+0.00791877\n",
      "[58]\ttrain-merror:0.280626+0.0043829\ttest-merror:0.38894+0.00764414\n",
      "[59]\ttrain-merror:0.279293+0.00441152\ttest-merror:0.388835+0.00788869\n",
      "[60]\ttrain-merror:0.278091+0.00440234\ttest-merror:0.388208+0.00739701\n",
      "[61]\ttrain-merror:0.27668+0.00496004\ttest-merror:0.38779+0.00690185\n",
      "[62]\ttrain-merror:0.275373+0.00506091\ttest-merror:0.388104+0.0082902\n",
      "[63]\ttrain-merror:0.274014+0.00495883\ttest-merror:0.387999+0.00803942\n",
      "[64]\ttrain-merror:0.272577+0.00453748\ttest-merror:0.387685+0.00792793\n",
      "[65]\ttrain-merror:0.271454+0.00419672\ttest-merror:0.388208+0.00817139\n",
      "[66]\ttrain-merror:0.269677+0.00530665\ttest-merror:0.388208+0.00693736\n",
      "[67]\ttrain-merror:0.267612+0.00516616\ttest-merror:0.388417+0.00741628\n",
      "[68]\ttrain-merror:0.26675+0.00505676\ttest-merror:0.388521+0.00681255\n",
      "[69]\ttrain-merror:0.26513+0.0054132\ttest-merror:0.388417+0.00680472\n",
      "[70]\ttrain-merror:0.263719+0.00545386\ttest-merror:0.388731+0.00729501\n",
      "[71]\ttrain-merror:0.262412+0.00455124\ttest-merror:0.387999+0.00770219\n",
      "[72]\ttrain-merror:0.260844+0.00427464\ttest-merror:0.388626+0.00805422\n",
      "[73]\ttrain-merror:0.260087+0.00460035\ttest-merror:0.388835+0.00777982\n",
      "[74]\ttrain-merror:0.25878+0.00445478\ttest-merror:0.388835+0.00802082\n",
      "[75]\ttrain-merror:0.257055+0.00476248\ttest-merror:0.389253+0.00858531\n",
      "[76]\ttrain-merror:0.256219+0.00442905\ttest-merror:0.388835+0.0084816\n",
      "[77]\ttrain-merror:0.255435+0.00422446\ttest-merror:0.388208+0.00815777\n",
      "[78]\ttrain-merror:0.254207+0.00423253\ttest-merror:0.388626+0.00783294\n",
      "[79]\ttrain-merror:0.253135+0.00432593\ttest-merror:0.388208+0.00712997\n",
      "[80]\ttrain-merror:0.251541+0.00369288\ttest-merror:0.388104+0.00770493\n",
      "[81]\ttrain-merror:0.250496+0.0035478\ttest-merror:0.387476+0.00770052\n",
      "[82]\ttrain-merror:0.24966+0.00363695\ttest-merror:0.387372+0.00840789\n",
      "[83]\ttrain-merror:0.248275+0.00302085\ttest-merror:0.38779+0.00805921\n",
      "[84]\ttrain-merror:0.246707+0.00314392\ttest-merror:0.387895+0.00931149\n",
      "[85]\ttrain-merror:0.245453+0.00331891\ttest-merror:0.387685+0.00841207\n",
      "[86]\ttrain-merror:0.24446+0.00293995\ttest-merror:0.387999+0.00823932\n",
      "[87]\ttrain-merror:0.243336+0.00337057\ttest-merror:0.388104+0.00799562\n",
      "[88]\ttrain-merror:0.242605+0.00352821\ttest-merror:0.387476+0.0085418\n",
      "[89]\ttrain-merror:0.241821+0.00347455\ttest-merror:0.387162+0.00844779\n",
      "[90]\ttrain-merror:0.240776+0.00264567\ttest-merror:0.387476+0.00824917\n",
      "[91]\ttrain-merror:0.23973+0.00273921\ttest-merror:0.38779+0.00794463\n",
      "[92]\ttrain-merror:0.238554+0.00285084\ttest-merror:0.387685+0.00722326\n",
      "[93]\ttrain-merror:0.237222+0.00283617\ttest-merror:0.387894+0.00782914\n",
      "[94]\ttrain-merror:0.236307+0.00253037\ttest-merror:0.387894+0.00768383\n",
      "[95]\ttrain-merror:0.235001+0.00308076\ttest-merror:0.387999+0.0071136\n",
      "[96]\ttrain-merror:0.234635+0.00305954\ttest-merror:0.387894+0.00741083\n",
      "[97]\ttrain-merror:0.233851+0.00303057\ttest-merror:0.387058+0.00687794\n",
      "[98]\ttrain-merror:0.232675+0.00313422\ttest-merror:0.387477+0.00705683\n",
      "[99]\ttrain-merror:0.231211+0.00293926\ttest-merror:0.387372+0.00748159\n",
      "[100]\ttrain-merror:0.230009+0.00260794\ttest-merror:0.387372+0.00738393\n",
      "[101]\ttrain-merror:0.228703+0.00230931\ttest-merror:0.387058+0.00723777\n",
      "[102]\ttrain-merror:0.227501+0.00257502\ttest-merror:0.387267+0.00693771\n",
      "[103]\ttrain-merror:0.226821+0.00271965\ttest-merror:0.387163+0.00681867\n",
      "[104]\ttrain-merror:0.226089+0.00258309\ttest-merror:0.387372+0.00677293\n",
      "[105]\ttrain-merror:0.224835+0.00255424\ttest-merror:0.38685+0.00688603\n",
      "[106]\ttrain-merror:0.223973+0.0027012\ttest-merror:0.387477+0.00652454\n",
      "[107]\ttrain-merror:0.222797+0.00216969\ttest-merror:0.387058+0.00707212\n",
      "[108]\ttrain-merror:0.221543+0.00253448\ttest-merror:0.387058+0.00662195\n",
      "[109]\ttrain-merror:0.220236+0.00238053\ttest-merror:0.387372+0.00722561\n",
      "[110]\ttrain-merror:0.219243+0.00192499\ttest-merror:0.387372+0.007507\n",
      "[111]\ttrain-merror:0.218407+0.00194638\ttest-merror:0.387058+0.00761789\n",
      "[112]\ttrain-merror:0.217702+0.00210374\ttest-merror:0.386954+0.00752844\n",
      "[113]\ttrain-merror:0.21663+0.00218589\ttest-merror:0.387058+0.0064719\n",
      "[114]\ttrain-merror:0.215585+0.00228214\ttest-merror:0.387058+0.00607128\n",
      "[115]\ttrain-merror:0.214644+0.00197606\ttest-merror:0.386745+0.00671876\n",
      "[116]\ttrain-merror:0.213259+0.00234223\ttest-merror:0.386327+0.0065422\n",
      "[117]\ttrain-merror:0.212109+0.0023436\ttest-merror:0.386013+0.00590045\n"
     ]
    },
    {
     "name": "stdout",
     "output_type": "stream",
     "text": [
      "[118]\ttrain-merror:0.210959+0.00197594\ttest-merror:0.385804+0.00567062\n",
      "[119]\ttrain-merror:0.209601+0.00185776\ttest-merror:0.385595+0.00637171\n",
      "[120]\ttrain-merror:0.208451+0.00190211\ttest-merror:0.386013+0.00526997\n",
      "[121]\ttrain-merror:0.207484+0.00172673\ttest-merror:0.385909+0.00509325\n",
      "[122]\ttrain-merror:0.206543+0.00206532\ttest-merror:0.386327+0.00423633\n",
      "[123]\ttrain-merror:0.20623+0.00211086\ttest-merror:0.386222+0.00386146\n",
      "[124]\ttrain-merror:0.204923+0.00198282\ttest-merror:0.386118+0.00379968\n",
      "[125]\ttrain-merror:0.204061+0.00197299\ttest-merror:0.385804+0.00473118\n",
      "[126]\ttrain-merror:0.203381+0.00167158\ttest-merror:0.385491+0.00422218\n",
      "[127]\ttrain-merror:0.202388+0.00190302\ttest-merror:0.385177+0.00483807\n",
      "[128]\ttrain-merror:0.201683+0.00229632\ttest-merror:0.384132+0.00510967\n",
      "[129]\ttrain-merror:0.200533+0.00182532\ttest-merror:0.385387+0.005192\n",
      "[130]\ttrain-merror:0.199723+0.00144974\ttest-merror:0.385909+0.00447332\n",
      "[131]\ttrain-merror:0.198521+0.00179694\ttest-merror:0.385282+0.00429942\n",
      "[132]\ttrain-merror:0.197632+0.00188911\ttest-merror:0.385177+0.00443925\n",
      "[133]\ttrain-merror:0.1963+0.00114407\ttest-merror:0.385596+0.00540045\n",
      "[134]\ttrain-merror:0.195542+0.00124166\ttest-merror:0.385805+0.00503091\n",
      "[135]\ttrain-merror:0.194418+0.000855436\ttest-merror:0.385596+0.00448254\n",
      "[136]\ttrain-merror:0.193399+0.00142399\ttest-merror:0.386014+0.00452029\n",
      "[137]\ttrain-merror:0.192642+0.000923197\ttest-merror:0.386119+0.00481682\n",
      "[138]\ttrain-merror:0.19191+0.00115722\ttest-merror:0.386537+0.00451587\n",
      "[139]\ttrain-merror:0.190734+0.00126556\ttest-merror:0.387895+0.00522369\n",
      "[140]\ttrain-merror:0.190159+0.00109257\ttest-merror:0.387268+0.00511129\n",
      "[141]\ttrain-merror:0.189506+0.000810898\ttest-merror:0.387582+0.00550153\n",
      "[142]\ttrain-merror:0.188722+0.000876285\ttest-merror:0.387791+0.00531719\n",
      "[143]\ttrain-merror:0.187598+0.000777704\ttest-merror:0.387163+0.00551742\n",
      "[144]\ttrain-merror:0.186919+0.000719723\ttest-merror:0.387268+0.00560347\n",
      "[145]\ttrain-merror:0.185951+0.000668334\ttest-merror:0.387268+0.00548514\n",
      "[146]\ttrain-merror:0.184671+0.00132312\ttest-merror:0.386954+0.00621866\n",
      "[147]\ttrain-merror:0.183652+0.00119816\ttest-merror:0.387163+0.00558865\n",
      "[148]\ttrain-merror:0.182816+0.00120654\ttest-merror:0.386641+0.00579376\n",
      "[149]\ttrain-merror:0.182346+0.00130058\ttest-merror:0.386327+0.00624025\n",
      "[150]\ttrain-merror:0.181928+0.00141896\ttest-merror:0.386118+0.00605112\n",
      "[151]\ttrain-merror:0.180987+0.00158912\ttest-merror:0.387582+0.0057602\n",
      "[152]\ttrain-merror:0.180072+0.00115992\ttest-merror:0.387163+0.00585825\n",
      "[153]\ttrain-merror:0.178975+0.00186242\ttest-merror:0.387268+0.00613489\n",
      "[154]\ttrain-merror:0.177668+0.00208761\ttest-merror:0.387581+0.00624982\n",
      "[155]\ttrain-merror:0.177067+0.00142478\ttest-merror:0.388208+0.00649108\n",
      "[156]\ttrain-merror:0.176388+0.00133749\ttest-merror:0.388104+0.00623406\n",
      "[157]\ttrain-merror:0.175787+0.00120083\ttest-merror:0.387477+0.00618691\n",
      "[158]\ttrain-merror:0.174741+0.00168378\ttest-merror:0.387895+0.00636842\n",
      "[159]\ttrain-merror:0.174036+0.0017398\ttest-merror:0.387163+0.00588032\n",
      "[160]\ttrain-merror:0.173043+0.0014217\ttest-merror:0.387058+0.0065654\n",
      "[161]\ttrain-merror:0.172154+0.00142627\ttest-merror:0.387581+0.00709461\n",
      "[162]\ttrain-merror:0.171475+0.00156294\ttest-merror:0.387163+0.00699812\n",
      "[163]\ttrain-merror:0.170534+0.001391\ttest-merror:0.387894+0.00771183\n",
      "[164]\ttrain-merror:0.169986+0.00189231\ttest-merror:0.387999+0.00742891\n",
      "[165]\ttrain-merror:0.169332+0.00173644\ttest-merror:0.388312+0.00761976\n",
      "[166]\ttrain-merror:0.168679+0.00157462\ttest-merror:0.387999+0.00767452\n",
      "[167]\ttrain-merror:0.167111+0.000951942\ttest-merror:0.387894+0.00773075\n",
      "[168]\ttrain-merror:0.166457+0.00109012\ttest-merror:0.38779+0.0078066\n",
      "[169]\ttrain-merror:0.165674+0.00102777\ttest-merror:0.387999+0.00815223\n",
      "[170]\ttrain-merror:0.16489+0.00103876\ttest-merror:0.387999+0.00817384\n",
      "[171]\ttrain-merror:0.164106+0.0015004\ttest-merror:0.387372+0.00825562\n",
      "[172]\ttrain-merror:0.162982+0.00167797\ttest-merror:0.386745+0.00700606\n",
      "[173]\ttrain-merror:0.162198+0.00186258\ttest-merror:0.387059+0.00647497\n",
      "[174]\ttrain-merror:0.161597+0.00164336\ttest-merror:0.387059+0.00651186\n",
      "[175]\ttrain-merror:0.160918+0.00152402\ttest-merror:0.387685+0.0073064\n",
      "[176]\ttrain-merror:0.16016+0.00124225\ttest-merror:0.387686+0.0071198\n",
      "[177]\ttrain-merror:0.159245+0.00114051\ttest-merror:0.387581+0.00693705\n"
     ]
    },
    {
     "name": "stderr",
     "output_type": "stream",
     "text": [
      "C:\\Users\\giano\\Anaconda3\\envs\\voda\\lib\\site-packages\\sklearn\\preprocessing\\label.py:151: DeprecationWarning: The truth value of an empty array is ambiguous. Returning False, but in future this will result in an error. Use `array.size > 0` to check that an array is not empty.\n",
      "  if diff:\n"
     ]
    },
    {
     "name": "stdout",
     "output_type": "stream",
     "text": [
      "\n",
      "Model Report\n",
      "Accuracy : 0.7764\n",
      "F1_score : 0.776419\n"
     ]
    },
    {
     "data": {
      "image/png": "[encoded data removed]",
      "text/plain": [
       "<Figure size 432x288 with 1 Axes>"
      ]
     },
     "metadata": {},
     "output_type": "display_data"
    },
    {
     "name": "stdout",
     "output_type": "stream",
     "text": [
      "Feature_Importances: \n",
      "Index(['ZipCode', 'CustomerExpatriate', 'MonthlySMSTrafficCount',\n",
      "       'DeviceFlagSmartphone', 'DeviceFlag4G', 'DataArpu',\n",
      "       'Instant-Messaging-Applications', 'MonthlyVoiceTrafficCount',\n",
      "       'Network-Operation', 'Games'],\n",
      "      dtype='object')\n",
      "Model: {'base_score': 0.5, 'booster': 'gbtree', 'colsample_bylevel': 1, 'colsample_bytree': 0.8, 'gamma': 0, 'learning_rate': 0.1, 'max_delta_step': 0, 'max_depth': 5, 'min_child_weight': 1, 'missing': None, 'n_estimators': 129, 'nthread': 4, 'objective': 'multi:softprob', 'reg_alpha': 0, 'reg_lambda': 1, 'scale_pos_weight': 1, 'seed': 27, 'silent': 1, 'subsample': 0.8, 'num_class': 4}\n",
      "n_estimator: 129\n"
     ]
    }
   ],
   "source": [
    "predictors = [x for x in train.columns if x not in [target, IDcol]]\n",
    "xgb1 = XGBClassifier(\n",
    "        learning_rate=learning_rate,\n",
    "        n_estimators=n_estimators,\n",
    "        max_depth=max_depth,\n",
    "        min_child_weight=min_child_weight,\n",
    "        gamma=gamma,\n",
    "        subsample=subsample,\n",
    "        colsample_bytree=colsample_bytree,\n",
    "        objective='multi:softprob',\n",
    "        num_class=4,\n",
    "        nthread=4,\n",
    "        scale_pos_weight=1,\n",
    "        seed=27)\n",
    "n_estimators = modelfit(xgb1, train, predictors)"
   ]
  },
  {
   "cell_type": "code",
   "execution_count": 11,
   "metadata": {},
   "outputs": [
    {
     "name": "stdout",
     "output_type": "stream",
     "text": [
      "Fitting 5 folds for each of 12 candidates, totalling 60 fits\n"
     ]
    },
    {
     "name": "stderr",
     "output_type": "stream",
     "text": [
      "[Parallel(n_jobs=4)]: Done  42 tasks      | elapsed:  1.5min\n",
      "[Parallel(n_jobs=4)]: Done  60 out of  60 | elapsed:  2.5min finished\n",
      "C:\\Users\\giano\\Anaconda3\\envs\\voda\\lib\\site-packages\\sklearn\\model_selection\\_search.py:761: DeprecationWarning: The grid_scores_ attribute was deprecated in version 0.18 in favor of the more elaborate cv_results_ attribute. The grid_scores_ attribute will not be available from 0.20\n",
      "  DeprecationWarning)\n"
     ]
    },
    {
     "data": {
      "text/plain": [
       "([mean: 0.61252, std: 0.00391, params: {'max_depth': 3, 'min_child_weight': 1},\n",
       "  mean: 0.61398, std: 0.00650, params: {'max_depth': 3, 'min_child_weight': 3},\n",
       "  mean: 0.61367, std: 0.00385, params: {'max_depth': 3, 'min_child_weight': 5},\n",
       "  mean: 0.61325, std: 0.00796, params: {'max_depth': 5, 'min_child_weight': 1},\n",
       "  mean: 0.61346, std: 0.00826, params: {'max_depth': 5, 'min_child_weight': 3},\n",
       "  mean: 0.61179, std: 0.00575, params: {'max_depth': 5, 'min_child_weight': 5},\n",
       "  mean: 0.61158, std: 0.00727, params: {'max_depth': 7, 'min_child_weight': 1},\n",
       "  mean: 0.60865, std: 0.00683, params: {'max_depth': 7, 'min_child_weight': 3},\n",
       "  mean: 0.61012, std: 0.00688, params: {'max_depth': 7, 'min_child_weight': 5},\n",
       "  mean: 0.61095, std: 0.00553, params: {'max_depth': 9, 'min_child_weight': 1},\n",
       "  mean: 0.60876, std: 0.00850, params: {'max_depth': 9, 'min_child_weight': 3},\n",
       "  mean: 0.60813, std: 0.00888, params: {'max_depth': 9, 'min_child_weight': 5}],\n",
       " {'max_depth': 3, 'min_child_weight': 3},\n",
       " 0.6139840765462372)"
      ]
     },
     "execution_count": 11,
     "metadata": {},
     "output_type": "execute_result"
    }
   ],
   "source": [
    "#Grid seach on subsample and max_features\n",
    "#Choose all predictors except target & IDcols\n",
    "param_test1 = {\n",
    "    'max_depth':range(3,10,2),\n",
    "    'min_child_weight':range(1,6,2)\n",
    "}\n",
    "gsearch1 = GridSearchCV(estimator = XGBClassifier( learning_rate =learning_rate, n_estimators=n_estimators, max_depth=max_depth,\n",
    "                                        min_child_weight=min_child_weight, gamma=gamma, subsample=subsample,\n",
    "                                        colsample_bytree=colsample_bytree, objective='multi:softprob', num_class=4, nthread=4, scale_pos_weight=1, seed=27), \n",
    "                       param_grid = param_test1, scoring='f1_micro',n_jobs=4,iid=False, cv=cv,verbose=1)\n",
    "gsearch1.fit(train[predictors],train[target])\n",
    "gsearch1.grid_scores_, gsearch1.best_params_, gsearch1.best_score_"
   ]
  },
  {
   "cell_type": "code",
   "execution_count": 12,
   "metadata": {},
   "outputs": [
    {
     "data": {
      "text/plain": [
       "(3, 3)"
      ]
     },
     "execution_count": 12,
     "metadata": {},
     "output_type": "execute_result"
    }
   ],
   "source": [
    "max_depth = gsearch1.best_params_['max_depth']\n",
    "min_child_weight = gsearch1.best_params_['min_child_weight']\n",
    "max_depth,min_child_weight"
   ]
  },
  {
   "cell_type": "code",
   "execution_count": 13,
   "metadata": {},
   "outputs": [
    {
     "name": "stdout",
     "output_type": "stream",
     "text": [
      "Fitting 5 folds for each of 9 candidates, totalling 45 fits\n"
     ]
    },
    {
     "name": "stderr",
     "output_type": "stream",
     "text": [
      "[Parallel(n_jobs=4)]: Done  45 out of  45 | elapsed:  1.2min finished\n",
      "C:\\Users\\giano\\Anaconda3\\envs\\voda\\lib\\site-packages\\sklearn\\model_selection\\_search.py:761: DeprecationWarning: The grid_scores_ attribute was deprecated in version 0.18 in favor of the more elaborate cv_results_ attribute. The grid_scores_ attribute will not be available from 0.20\n",
      "  DeprecationWarning)\n"
     ]
    },
    {
     "data": {
      "text/plain": [
       "([mean: 0.60803, std: 0.00498, params: {'max_depth': 2, 'min_child_weight': 2},\n",
       "  mean: 0.60761, std: 0.00462, params: {'max_depth': 2, 'min_child_weight': 3},\n",
       "  mean: 0.60771, std: 0.00499, params: {'max_depth': 2, 'min_child_weight': 4},\n",
       "  mean: 0.61273, std: 0.00514, params: {'max_depth': 3, 'min_child_weight': 2},\n",
       "  mean: 0.61398, std: 0.00650, params: {'max_depth': 3, 'min_child_weight': 3},\n",
       "  mean: 0.61398, std: 0.00551, params: {'max_depth': 3, 'min_child_weight': 4},\n",
       "  mean: 0.61294, std: 0.00580, params: {'max_depth': 4, 'min_child_weight': 2},\n",
       "  mean: 0.61158, std: 0.00556, params: {'max_depth': 4, 'min_child_weight': 3},\n",
       "  mean: 0.61430, std: 0.00542, params: {'max_depth': 4, 'min_child_weight': 4}],\n",
       " {'max_depth': 4, 'min_child_weight': 4},\n",
       " 0.6142988678002869)"
      ]
     },
     "execution_count": 13,
     "metadata": {},
     "output_type": "execute_result"
    }
   ],
   "source": [
    "#Grid seach on subsample and max_features\n",
    "#Choose all predictors except target & IDcols\n",
    "param_test2 = {\n",
    "    'max_depth':[max_depth-1,max_depth,max_depth+1],\n",
    "    'min_child_weight':[min_child_weight-1,min_child_weight,min_child_weight+1]\n",
    "}\n",
    "gsearch2 = GridSearchCV(estimator = XGBClassifier( learning_rate=learning_rate, n_estimators=n_estimators, max_depth=max_depth,\n",
    "                                        min_child_weight=min_child_weight, gamma=gamma, subsample=subsample, colsample_bytree=colsample_bytree,\n",
    "                                        objective='multi:softprob', num_class=4, nthread=4, scale_pos_weight=1,seed=27), \n",
    "                       param_grid = param_test2, scoring='f1_micro',n_jobs=4,iid=False, cv=cv, verbose=1)\n",
    "gsearch2.fit(train[predictors],train[target])\n",
    "gsearch2.grid_scores_, gsearch2.best_params_, gsearch2.best_score_"
   ]
  },
  {
   "cell_type": "code",
   "execution_count": 14,
   "metadata": {},
   "outputs": [
    {
     "data": {
      "text/plain": [
       "(4, 4)"
      ]
     },
     "execution_count": 14,
     "metadata": {},
     "output_type": "execute_result"
    }
   ],
   "source": [
    "max_depth = gsearch2.best_params_['max_depth']\n",
    "min_child_weight = gsearch2.best_params_['min_child_weight']\n",
    "max_depth,min_child_weight"
   ]
  },
  {
   "cell_type": "code",
   "execution_count": 15,
   "metadata": {},
   "outputs": [
    {
     "name": "stdout",
     "output_type": "stream",
     "text": [
      "Fitting 5 folds for each of 4 candidates, totalling 20 fits\n"
     ]
    },
    {
     "name": "stderr",
     "output_type": "stream",
     "text": [
      "[Parallel(n_jobs=4)]: Done  20 out of  20 | elapsed:   33.8s finished\n",
      "C:\\Users\\giano\\Anaconda3\\envs\\voda\\lib\\site-packages\\sklearn\\model_selection\\_search.py:761: DeprecationWarning: The grid_scores_ attribute was deprecated in version 0.18 in favor of the more elaborate cv_results_ attribute. The grid_scores_ attribute will not be available from 0.20\n",
      "  DeprecationWarning)\n"
     ]
    },
    {
     "data": {
      "text/plain": [
       "([mean: 0.61430, std: 0.00542, params: {'min_child_weight': 4},\n",
       "  mean: 0.61252, std: 0.00507, params: {'min_child_weight': 6},\n",
       "  mean: 0.61325, std: 0.00410, params: {'min_child_weight': 8},\n",
       "  mean: 0.61378, std: 0.00528, params: {'min_child_weight': 10}],\n",
       " {'min_child_weight': 4},\n",
       " 0.6142988678002869)"
      ]
     },
     "execution_count": 15,
     "metadata": {},
     "output_type": "execute_result"
    }
   ],
   "source": [
    "#Grid seach on subsample and max_features#Grid se \n",
    "#Choose all predictors except target & IDcols\n",
    "param_test2b = {\n",
    "    'min_child_weight':[min_child_weight,min_child_weight+2,min_child_weight+4,min_child_weight+6]\n",
    "}\n",
    "gsearch2b = GridSearchCV(estimator = XGBClassifier( learning_rate=learning_rate, n_estimators=n_estimators, max_depth=max_depth,\n",
    "                                        min_child_weight=min_child_weight, gamma=gamma, subsample=subsample, colsample_bytree=colsample_bytree,\n",
    "                                        objective='multi:softprob', num_class=4, nthread=4, scale_pos_weight=1,seed=27), \n",
    "                       param_grid = param_test2b, scoring='f1_micro',n_jobs=4,iid=False, cv=cv, verbose=1)\n",
    "gsearch2b.fit(train[predictors],train[target])\n",
    "gsearch2b.grid_scores_, gsearch2b.best_params_, gsearch2b.best_score_"
   ]
  },
  {
   "cell_type": "code",
   "execution_count": 16,
   "metadata": {},
   "outputs": [
    {
     "data": {
      "text/plain": [
       "4"
      ]
     },
     "execution_count": 16,
     "metadata": {},
     "output_type": "execute_result"
    }
   ],
   "source": [
    "min_child_weight = gsearch2b.best_params_['min_child_weight']\n",
    "min_child_weight"
   ]
  },
  {
   "cell_type": "code",
   "execution_count": 17,
   "metadata": {},
   "outputs": [
    {
     "name": "stdout",
     "output_type": "stream",
     "text": [
      "Fitting 5 folds for each of 5 candidates, totalling 25 fits\n"
     ]
    },
    {
     "name": "stderr",
     "output_type": "stream",
     "text": [
      "[Parallel(n_jobs=4)]: Done  25 out of  25 | elapsed:   38.9s finished\n",
      "C:\\Users\\giano\\Anaconda3\\envs\\voda\\lib\\site-packages\\sklearn\\model_selection\\_search.py:761: DeprecationWarning: The grid_scores_ attribute was deprecated in version 0.18 in favor of the more elaborate cv_results_ attribute. The grid_scores_ attribute will not be available from 0.20\n",
      "  DeprecationWarning)\n"
     ]
    },
    {
     "data": {
      "text/plain": [
       "([mean: 0.61430, std: 0.00542, params: {'gamma': 0.0},\n",
       "  mean: 0.61472, std: 0.00492, params: {'gamma': 0.1},\n",
       "  mean: 0.61534, std: 0.00654, params: {'gamma': 0.2},\n",
       "  mean: 0.61566, std: 0.00719, params: {'gamma': 0.3},\n",
       "  mean: 0.61336, std: 0.00736, params: {'gamma': 0.4}],\n",
       " {'gamma': 0.3},\n",
       " 0.6156562410438927)"
      ]
     },
     "execution_count": 17,
     "metadata": {},
     "output_type": "execute_result"
    }
   ],
   "source": [
    "#Grid seach on subsample and max_features\n",
    "#Choose all predictors except target & IDcols\n",
    "param_test3 = {\n",
    "    'gamma':[i/10.0 for i in range(0,5)]\n",
    "}\n",
    "gsearch3 = GridSearchCV(estimator = XGBClassifier( learning_rate =learning_rate, n_estimators=n_estimators, max_depth=max_depth,\n",
    "                                        min_child_weight=min_child_weight, gamma=gamma, subsample=subsample, colsample_bytree=colsample_bytree,\n",
    "                                        objective='multi:softprob', num_class=4, nthread=4, scale_pos_weight=1,seed=27), \n",
    "                       param_grid = param_test3, scoring='f1_micro',n_jobs=4,iid=False, cv=cv, verbose=1)\n",
    "gsearch3.fit(train[predictors],train[target])\n",
    "gsearch3.grid_scores_, gsearch3.best_params_, gsearch3.best_score_"
   ]
  },
  {
   "cell_type": "code",
   "execution_count": 18,
   "metadata": {},
   "outputs": [
    {
     "data": {
      "text/plain": [
       "0.3"
      ]
     },
     "execution_count": 18,
     "metadata": {},
     "output_type": "execute_result"
    }
   ],
   "source": [
    "gamma = gsearch3.best_params_['gamma']\n",
    "gamma"
   ]
  },
  {
   "cell_type": "code",
   "execution_count": 19,
   "metadata": {
    "scrolled": true
   },
   "outputs": [
    {
     "name": "stdout",
     "output_type": "stream",
     "text": [
      "[0]\ttrain-merror:0.393305+0.00141842\ttest-merror:0.414236+0.00432257\n",
      "[1]\ttrain-merror:0.386067+0.00283944\ttest-merror:0.411517+0.00935171\n",
      "[2]\ttrain-merror:0.385727+0.00216508\ttest-merror:0.406082+0.00567963\n",
      "[3]\ttrain-merror:0.381206+0.00259685\ttest-merror:0.40326+0.00360411\n",
      "[4]\ttrain-merror:0.380553+0.0026223\ttest-merror:0.404096+0.00428388\n",
      "[5]\ttrain-merror:0.378881+0.00180764\ttest-merror:0.40326+0.00439883\n",
      "[6]\ttrain-merror:0.377469+0.00142498\ttest-merror:0.40002+0.00560687\n",
      "[7]\ttrain-merror:0.376058+0.00235098\ttest-merror:0.399079+0.00553952\n",
      "[8]\ttrain-merror:0.373732+0.00211467\ttest-merror:0.40002+0.00504026\n",
      "[9]\ttrain-merror:0.373471+0.00233052\ttest-merror:0.398661+0.00481812\n",
      "[10]\ttrain-merror:0.372426+0.00299716\ttest-merror:0.398034+0.00471565\n",
      "[11]\ttrain-merror:0.372191+0.00285669\ttest-merror:0.395839+0.00533953\n",
      "[12]\ttrain-merror:0.37125+0.00239646\ttest-merror:0.395735+0.00461592\n",
      "[13]\ttrain-merror:0.370623+0.00238107\ttest-merror:0.396362+0.00447878\n",
      "[14]\ttrain-merror:0.369212+0.00251251\ttest-merror:0.396362+0.00386901\n",
      "[15]\ttrain-merror:0.368741+0.0026229\ttest-merror:0.397093+0.00505272\n",
      "[16]\ttrain-merror:0.368271+0.00253971\ttest-merror:0.395734+0.00466563\n",
      "[17]\ttrain-merror:0.36801+0.00233748\ttest-merror:0.396989+0.00424009\n",
      "[18]\ttrain-merror:0.367775+0.00233167\ttest-merror:0.397825+0.00402464\n",
      "[19]\ttrain-merror:0.366782+0.00242887\ttest-merror:0.39563+0.00462183\n",
      "[20]\ttrain-merror:0.36605+0.0020633\ttest-merror:0.395525+0.00482124\n",
      "[21]\ttrain-merror:0.364874+0.00192427\ttest-merror:0.39448+0.00545273\n",
      "[22]\ttrain-merror:0.363985+0.00202459\ttest-merror:0.394689+0.0049542\n",
      "[23]\ttrain-merror:0.362705+0.00211491\ttest-merror:0.393853+0.00494215\n",
      "[24]\ttrain-merror:0.362653+0.00217306\ttest-merror:0.394584+0.00697302\n",
      "[25]\ttrain-merror:0.361686+0.00197612\ttest-merror:0.39448+0.00659122\n",
      "[26]\ttrain-merror:0.360824+0.00138446\ttest-merror:0.395212+0.00644154\n",
      "[27]\ttrain-merror:0.359543+0.00168032\ttest-merror:0.393853+0.0066541\n",
      "[28]\ttrain-merror:0.359203+0.00186282\ttest-merror:0.393749+0.00648156\n",
      "[29]\ttrain-merror:0.358785+0.00162583\ttest-merror:0.393853+0.00720707\n",
      "[30]\ttrain-merror:0.357636+0.00194226\ttest-merror:0.393749+0.0066214\n",
      "[31]\ttrain-merror:0.356486+0.0014333\ttest-merror:0.393227+0.00577935\n",
      "[32]\ttrain-merror:0.355258+0.00182918\ttest-merror:0.392808+0.00557532\n",
      "[33]\ttrain-merror:0.354395+0.00145763\ttest-merror:0.391868+0.00503309\n",
      "[34]\ttrain-merror:0.352906+0.00186229\ttest-merror:0.390822+0.00513033\n",
      "[35]\ttrain-merror:0.352017+0.00210689\ttest-merror:0.39124+0.00495562\n",
      "[36]\ttrain-merror:0.350868+0.00184422\ttest-merror:0.391135+0.00497123\n",
      "[37]\ttrain-merror:0.34977+0.00158359\ttest-merror:0.390718+0.00341887\n",
      "[38]\ttrain-merror:0.349378+0.00168845\ttest-merror:0.390509+0.00483577\n",
      "[39]\ttrain-merror:0.348254+0.00196064\ttest-merror:0.390718+0.00375677\n",
      "[40]\ttrain-merror:0.347497+0.00196315\ttest-merror:0.39124+0.00358996\n",
      "[41]\ttrain-merror:0.34572+0.00184884\ttest-merror:0.392181+0.00369837\n",
      "[42]\ttrain-merror:0.345301+0.00177319\ttest-merror:0.391449+0.00525567\n",
      "[43]\ttrain-merror:0.343446+0.00185068\ttest-merror:0.391449+0.00478435\n",
      "[44]\ttrain-merror:0.342793+0.00197361\ttest-merror:0.390613+0.00430783\n",
      "[45]\ttrain-merror:0.341695+0.00194591\ttest-merror:0.390194+0.00532527\n",
      "[46]\ttrain-merror:0.340363+0.00154002\ttest-merror:0.390717+0.00513487\n",
      "[47]\ttrain-merror:0.339474+0.00194097\ttest-merror:0.389777+0.00504072\n",
      "[48]\ttrain-merror:0.338272+0.0020817\ttest-merror:0.390195+0.00458455\n",
      "[49]\ttrain-merror:0.337409+0.00169896\ttest-merror:0.389777+0.00515618\n",
      "[50]\ttrain-merror:0.336548+0.001782\ttest-merror:0.390613+0.00516085\n",
      "[51]\ttrain-merror:0.335581+0.00191507\ttest-merror:0.390299+0.00427123\n",
      "[52]\ttrain-merror:0.334483+0.00174123\ttest-merror:0.390299+0.00454364\n",
      "[53]\ttrain-merror:0.333934+0.00232611\ttest-merror:0.390717+0.00487578\n",
      "[54]\ttrain-merror:0.33336+0.00286589\ttest-merror:0.389777+0.00498879\n",
      "[55]\ttrain-merror:0.332549+0.00261039\ttest-merror:0.390195+0.00559761\n",
      "[56]\ttrain-merror:0.33153+0.00200848\ttest-merror:0.39009+0.0050246\n",
      "[57]\ttrain-merror:0.33038+0.00219041\ttest-merror:0.39009+0.00547234\n",
      "[58]\ttrain-merror:0.329387+0.00260896\ttest-merror:0.389881+0.00591662\n",
      "[59]\ttrain-merror:0.328264+0.00269241\ttest-merror:0.389672+0.00640266\n",
      "[60]\ttrain-merror:0.327323+0.00288841\ttest-merror:0.389672+0.00625057\n",
      "[61]\ttrain-merror:0.326461+0.00268921\ttest-merror:0.389254+0.00672375\n",
      "[62]\ttrain-merror:0.325102+0.00269331\ttest-merror:0.388731+0.00618867\n",
      "[63]\ttrain-merror:0.324161+0.00232117\ttest-merror:0.389149+0.00705661\n",
      "[64]\ttrain-merror:0.32356+0.00227048\ttest-merror:0.389149+0.00645686\n",
      "[65]\ttrain-merror:0.322985+0.00248496\ttest-merror:0.388313+0.00655196\n",
      "[66]\ttrain-merror:0.321809+0.00271338\ttest-merror:0.387372+0.007059\n",
      "[67]\ttrain-merror:0.320686+0.00219748\ttest-merror:0.387058+0.00739853\n",
      "[68]\ttrain-merror:0.320398+0.00227303\ttest-merror:0.387059+0.00659093\n",
      "[69]\ttrain-merror:0.31964+0.00254063\ttest-merror:0.386954+0.00632156\n",
      "[70]\ttrain-merror:0.318752+0.00238326\ttest-merror:0.387268+0.00518521\n",
      "[71]\ttrain-merror:0.317706+0.00233033\ttest-merror:0.387164+0.00506017\n",
      "[72]\ttrain-merror:0.316792+0.00211188\ttest-merror:0.386432+0.00499774\n",
      "[73]\ttrain-merror:0.316217+0.00214986\ttest-merror:0.38685+0.0042804\n",
      "[74]\ttrain-merror:0.315668+0.00188061\ttest-merror:0.386641+0.00462641\n",
      "[75]\ttrain-merror:0.314937+0.00181791\ttest-merror:0.386641+0.00459809\n",
      "[76]\ttrain-merror:0.314048+0.00197495\ttest-merror:0.386328+0.00468687\n",
      "[77]\ttrain-merror:0.313107+0.00242642\ttest-merror:0.386746+0.00502743\n",
      "[78]\ttrain-merror:0.312323+0.00243449\ttest-merror:0.38685+0.00468047\n",
      "[79]\ttrain-merror:0.311435+0.00246986\ttest-merror:0.387059+0.00494738\n",
      "[80]\ttrain-merror:0.310468+0.00261836\ttest-merror:0.386223+0.00488435\n",
      "[81]\ttrain-merror:0.30958+0.00244605\ttest-merror:0.386118+0.00386072\n",
      "[82]\ttrain-merror:0.308351+0.00230753\ttest-merror:0.385491+0.00492101\n",
      "[83]\ttrain-merror:0.30762+0.00292829\ttest-merror:0.385909+0.00478431\n",
      "[84]\ttrain-merror:0.306966+0.00290418\ttest-merror:0.386536+0.00542728\n",
      "[85]\ttrain-merror:0.306026+0.00273068\ttest-merror:0.386641+0.00516137\n",
      "[86]\ttrain-merror:0.305503+0.00283429\ttest-merror:0.386641+0.00468619\n",
      "[87]\ttrain-merror:0.304719+0.00229705\ttest-merror:0.386223+0.00483524\n",
      "[88]\ttrain-merror:0.303648+0.00244861\ttest-merror:0.386327+0.00550125\n",
      "[89]\ttrain-merror:0.303413+0.00227549\ttest-merror:0.386223+0.00471198\n",
      "[90]\ttrain-merror:0.302002+0.00219759\ttest-merror:0.386118+0.00439785\n",
      "[91]\ttrain-merror:0.301348+0.00273617\ttest-merror:0.386223+0.00394989\n",
      "[92]\ttrain-merror:0.30046+0.00266946\ttest-merror:0.386118+0.00378936\n",
      "[93]\ttrain-merror:0.299388+0.00276498\ttest-merror:0.385387+0.0047845\n",
      "[94]\ttrain-merror:0.298631+0.00261775\ttest-merror:0.385805+0.00459591\n",
      "[95]\ttrain-merror:0.298238+0.0028\ttest-merror:0.386223+0.00470649\n",
      "[96]\ttrain-merror:0.297272+0.00291817\ttest-merror:0.384969+0.00436096\n",
      "[97]\ttrain-merror:0.296801+0.00323762\ttest-merror:0.385178+0.00418311\n",
      "[98]\ttrain-merror:0.296096+0.00340857\ttest-merror:0.385387+0.00377911\n",
      "[99]\ttrain-merror:0.29492+0.00360381\ttest-merror:0.385387+0.0045885\n",
      "[100]\ttrain-merror:0.294632+0.00347207\ttest-merror:0.385805+0.00538437\n",
      "[101]\ttrain-merror:0.293953+0.0034553\ttest-merror:0.3857+0.00597905\n",
      "[102]\ttrain-merror:0.2933+0.00331321\ttest-merror:0.3857+0.00560145\n",
      "[103]\ttrain-merror:0.292542+0.00308053\ttest-merror:0.385909+0.00625686\n",
      "[104]\ttrain-merror:0.291758+0.00323999\ttest-merror:0.386014+0.00638782\n",
      "[105]\ttrain-merror:0.291078+0.00316129\ttest-merror:0.385909+0.00613893\n",
      "[106]\ttrain-merror:0.289981+0.00311164\ttest-merror:0.386432+0.00514153\n",
      "[107]\ttrain-merror:0.289772+0.00350191\ttest-merror:0.386013+0.0058098\n",
      "[108]\ttrain-merror:0.288727+0.00324906\ttest-merror:0.38685+0.00607501\n",
      "[109]\ttrain-merror:0.288099+0.0032641\ttest-merror:0.386536+0.00625002\n",
      "[110]\ttrain-merror:0.287002+0.00317033\ttest-merror:0.386641+0.00567401\n",
      "[111]\ttrain-merror:0.285669+0.00325578\ttest-merror:0.387163+0.00593941\n",
      "[112]\ttrain-merror:0.28499+0.00328037\ttest-merror:0.386327+0.00702212\n",
      "[113]\ttrain-merror:0.28452+0.00265332\ttest-merror:0.387163+0.00577504\n",
      "[114]\ttrain-merror:0.284101+0.00248421\ttest-merror:0.386327+0.00545714\n",
      "[115]\ttrain-merror:0.283004+0.00236846\ttest-merror:0.386327+0.00654224\n",
      "[116]\ttrain-merror:0.28222+0.00266825\ttest-merror:0.385909+0.00650035\n",
      "[117]\ttrain-merror:0.281724+0.00267138\ttest-merror:0.385282+0.00716573\n"
     ]
    },
    {
     "name": "stdout",
     "output_type": "stream",
     "text": [
      "[118]\ttrain-merror:0.281331+0.00276988\ttest-merror:0.385386+0.00707337\n",
      "[119]\ttrain-merror:0.280731+0.00261468\ttest-merror:0.3857+0.00674315\n",
      "[120]\ttrain-merror:0.279633+0.00248153\ttest-merror:0.385386+0.0067416\n",
      "[121]\ttrain-merror:0.278823+0.00238838\ttest-merror:0.386222+0.00592101\n",
      "[122]\ttrain-merror:0.27817+0.00254866\ttest-merror:0.386536+0.0075166\n",
      "[123]\ttrain-merror:0.27736+0.00294361\ttest-merror:0.386118+0.00728816\n",
      "[124]\ttrain-merror:0.276445+0.00291929\ttest-merror:0.38664+0.00693466\n",
      "[125]\ttrain-merror:0.275922+0.00288072\ttest-merror:0.386536+0.00665714\n",
      "[126]\ttrain-merror:0.275112+0.00289146\ttest-merror:0.386326+0.00699221\n",
      "[127]\ttrain-merror:0.274171+0.00319149\ttest-merror:0.386745+0.00689647\n",
      "[128]\ttrain-merror:0.274015+0.00360538\ttest-merror:0.38664+0.00693466\n",
      "[129]\ttrain-merror:0.273492+0.00316148\ttest-merror:0.38664+0.00741631\n",
      "[130]\ttrain-merror:0.272917+0.00331266\ttest-merror:0.386744+0.00783552\n",
      "[131]\ttrain-merror:0.272447+0.00342192\ttest-merror:0.386117+0.00796006\n",
      "[132]\ttrain-merror:0.272081+0.00344898\ttest-merror:0.386536+0.00728107\n",
      "[133]\ttrain-merror:0.271349+0.00311003\ttest-merror:0.385908+0.00735914\n",
      "[134]\ttrain-merror:0.270487+0.00319833\ttest-merror:0.386536+0.00667627\n",
      "[135]\ttrain-merror:0.26939+0.00290506\ttest-merror:0.386013+0.00643707\n",
      "[136]\ttrain-merror:0.268762+0.00352108\ttest-merror:0.385804+0.00637964\n",
      "[137]\ttrain-merror:0.268553+0.00324141\ttest-merror:0.386118+0.00587935\n",
      "[138]\ttrain-merror:0.268396+0.00314026\ttest-merror:0.386327+0.00622389\n",
      "[139]\ttrain-merror:0.267586+0.00294428\ttest-merror:0.386222+0.00716436\n",
      "[140]\ttrain-merror:0.266541+0.00295768\ttest-merror:0.386535+0.00844486\n",
      "[141]\ttrain-merror:0.265626+0.00288159\ttest-merror:0.387058+0.00739279\n",
      "[142]\ttrain-merror:0.264816+0.00297507\ttest-merror:0.386222+0.0079865\n",
      "[143]\ttrain-merror:0.264163+0.00275281\ttest-merror:0.386535+0.00743963\n",
      "[144]\ttrain-merror:0.263458+0.00315894\ttest-merror:0.386327+0.00737254\n",
      "[145]\ttrain-merror:0.262961+0.00316328\ttest-merror:0.386431+0.00744898\n"
     ]
    },
    {
     "name": "stderr",
     "output_type": "stream",
     "text": [
      "C:\\Users\\giano\\Anaconda3\\envs\\voda\\lib\\site-packages\\sklearn\\preprocessing\\label.py:151: DeprecationWarning: The truth value of an empty array is ambiguous. Returning False, but in future this will result in an error. Use `array.size > 0` to check that an array is not empty.\n",
      "  if diff:\n"
     ]
    },
    {
     "name": "stdout",
     "output_type": "stream",
     "text": [
      "\n",
      "Model Report\n",
      "Accuracy : 0.6897\n",
      "F1_score : 0.689662\n"
     ]
    },
    {
     "data": {
      "image/png": "[encoded data removed]",
      "text/plain": [
       "<Figure size 432x288 with 1 Axes>"
      ]
     },
     "metadata": {},
     "output_type": "display_data"
    },
    {
     "name": "stdout",
     "output_type": "stream",
     "text": [
      "Feature_Importances: \n",
      "Index(['MonthlySMSTrafficCount', 'DeviceFlag4G', 'ZipCode',\n",
      "       'CustomerExpatriate', 'DeviceFlagSmartphone', 'DataArpu',\n",
      "       'Network-Operation', 'Instant-Messaging-Applications',\n",
      "       'MonthlyVoiceTrafficCount', 'Games'],\n",
      "      dtype='object')\n",
      "Model: {'base_score': 0.5, 'booster': 'gbtree', 'colsample_bylevel': 1, 'colsample_bytree': 0.8, 'gamma': 0.3, 'learning_rate': 0.1, 'max_delta_step': 0, 'max_depth': 4, 'min_child_weight': 4, 'missing': None, 'n_estimators': 97, 'nthread': 4, 'objective': 'multi:softprob', 'reg_alpha': 0, 'reg_lambda': 1, 'scale_pos_weight': 1, 'seed': 27, 'silent': 1, 'subsample': 0.8, 'num_class': 4}\n",
      "n_estimator: 97\n"
     ]
    }
   ],
   "source": [
    "predictors = [x for x in train.columns if x not in [target, IDcol]]\n",
    "xgb2 = XGBClassifier(\n",
    "        learning_rate =learning_rate,\n",
    "        n_estimators=1000,\n",
    "        max_depth=max_depth,\n",
    "        min_child_weight=min_child_weight,\n",
    "        gamma=gamma,\n",
    "        subsample=subsample,\n",
    "        colsample_bytree=colsample_bytree,\n",
    "        objective='multi:softprob', \n",
    "        num_class=4,\n",
    "        nthread=4,\n",
    "        scale_pos_weight=1,\n",
    "        seed=27)\n",
    "n_estimators = modelfit(xgb2, train, predictors)"
   ]
  },
  {
   "cell_type": "markdown",
   "metadata": {},
   "source": [
    "# Tune subsample and colsample_bytree"
   ]
  },
  {
   "cell_type": "code",
   "execution_count": 20,
   "metadata": {},
   "outputs": [
    {
     "name": "stdout",
     "output_type": "stream",
     "text": [
      "Fitting 5 folds for each of 16 candidates, totalling 80 fits\n"
     ]
    },
    {
     "name": "stderr",
     "output_type": "stream",
     "text": [
      "[Parallel(n_jobs=4)]: Done  42 tasks      | elapsed:   43.8s\n",
      "[Parallel(n_jobs=4)]: Done  80 out of  80 | elapsed:  1.5min finished\n",
      "C:\\Users\\giano\\Anaconda3\\envs\\voda\\lib\\site-packages\\sklearn\\model_selection\\_search.py:761: DeprecationWarning: The grid_scores_ attribute was deprecated in version 0.18 in favor of the more elaborate cv_results_ attribute. The grid_scores_ attribute will not be available from 0.20\n",
      "  DeprecationWarning)\n"
     ]
    },
    {
     "data": {
      "text/plain": [
       "([mean: 0.61284, std: 0.00268, params: {'colsample_bytree': 0.6, 'subsample': 0.6},\n",
       "  mean: 0.61325, std: 0.00383, params: {'colsample_bytree': 0.6, 'subsample': 0.7},\n",
       "  mean: 0.61336, std: 0.00811, params: {'colsample_bytree': 0.6, 'subsample': 0.8},\n",
       "  mean: 0.61576, std: 0.00400, params: {'colsample_bytree': 0.6, 'subsample': 0.9},\n",
       "  mean: 0.61304, std: 0.00300, params: {'colsample_bytree': 0.7, 'subsample': 0.6},\n",
       "  mean: 0.61294, std: 0.00380, params: {'colsample_bytree': 0.7, 'subsample': 0.7},\n",
       "  mean: 0.61315, std: 0.00406, params: {'colsample_bytree': 0.7, 'subsample': 0.8},\n",
       "  mean: 0.61242, std: 0.00359, params: {'colsample_bytree': 0.7, 'subsample': 0.9},\n",
       "  mean: 0.61534, std: 0.00180, params: {'colsample_bytree': 0.8, 'subsample': 0.6},\n",
       "  mean: 0.61294, std: 0.00524, params: {'colsample_bytree': 0.8, 'subsample': 0.7},\n",
       "  mean: 0.61618, std: 0.00372, params: {'colsample_bytree': 0.8, 'subsample': 0.8},\n",
       "  mean: 0.61524, std: 0.00449, params: {'colsample_bytree': 0.8, 'subsample': 0.9},\n",
       "  mean: 0.61273, std: 0.00100, params: {'colsample_bytree': 0.9, 'subsample': 0.6},\n",
       "  mean: 0.61283, std: 0.00713, params: {'colsample_bytree': 0.9, 'subsample': 0.7},\n",
       "  mean: 0.61430, std: 0.00460, params: {'colsample_bytree': 0.9, 'subsample': 0.8},\n",
       "  mean: 0.61189, std: 0.00340, params: {'colsample_bytree': 0.9, 'subsample': 0.9}],\n",
       " {'colsample_bytree': 0.8, 'subsample': 0.8},\n",
       " 0.6161797452004133)"
      ]
     },
     "execution_count": 20,
     "metadata": {},
     "output_type": "execute_result"
    }
   ],
   "source": [
    "#Grid seach on subsample and max_features\n",
    "#Choose all predictors except target & IDcols\n",
    "param_test4 = {\n",
    "    'subsample':[i/10.0 for i in range(6,10)],\n",
    "    'colsample_bytree':[i/10.0 for i in range(6,10)]\n",
    "}\n",
    "gsearch4 = GridSearchCV(estimator = XGBClassifier( learning_rate =learning_rate, n_estimators=n_estimators, max_depth=max_depth,\n",
    "                                        min_child_weight=min_child_weight, gamma=gamma, subsample=subsample, colsample_bytree=colsample_bytree,\n",
    "                                        objective='multi:softprob', num_class=4, nthread=4, scale_pos_weight=1,seed=27), \n",
    "                       param_grid = param_test4, scoring='f1_micro',n_jobs=4,iid=False, cv=cv, verbose=1)\n",
    "gsearch4.fit(train[predictors],train[target])\n",
    "gsearch4.grid_scores_, gsearch4.best_params_, gsearch4.best_score_"
   ]
  },
  {
   "cell_type": "code",
   "execution_count": 21,
   "metadata": {},
   "outputs": [
    {
     "data": {
      "text/plain": [
       "(0.8, 0.8)"
      ]
     },
     "execution_count": 21,
     "metadata": {},
     "output_type": "execute_result"
    }
   ],
   "source": [
    "subsample = gsearch4.best_params_['subsample']\n",
    "colsample_bytree = gsearch4.best_params_['colsample_bytree']\n",
    "subsample,colsample_bytree"
   ]
  },
  {
   "cell_type": "code",
   "execution_count": 22,
   "metadata": {},
   "outputs": [
    {
     "name": "stdout",
     "output_type": "stream",
     "text": [
      "Fitting 5 folds for each of 4 candidates, totalling 20 fits\n"
     ]
    },
    {
     "name": "stderr",
     "output_type": "stream",
     "text": [
      "[Parallel(n_jobs=4)]: Done  20 out of  20 | elapsed:   26.6s finished\n",
      "C:\\Users\\giano\\Anaconda3\\envs\\voda\\lib\\site-packages\\sklearn\\model_selection\\_search.py:761: DeprecationWarning: The grid_scores_ attribute was deprecated in version 0.18 in favor of the more elaborate cv_results_ attribute. The grid_scores_ attribute will not be available from 0.20\n",
      "  DeprecationWarning)\n"
     ]
    },
    {
     "data": {
      "text/plain": [
       "([mean: 0.61263, std: 0.00431, params: {'colsample_bytree': 0.75, 'subsample': 0.75},\n",
       "  mean: 0.61461, std: 0.00216, params: {'colsample_bytree': 0.75, 'subsample': 0.8},\n",
       "  mean: 0.61482, std: 0.00335, params: {'colsample_bytree': 0.8, 'subsample': 0.75},\n",
       "  mean: 0.61618, std: 0.00372, params: {'colsample_bytree': 0.8, 'subsample': 0.8}],\n",
       " {'colsample_bytree': 0.8, 'subsample': 0.8},\n",
       " 0.6161797452004133)"
      ]
     },
     "execution_count": 22,
     "metadata": {},
     "output_type": "execute_result"
    }
   ],
   "source": [
    "#Grid seach on subsample and max_features\n",
    "#Choose all predictors except target & IDcols\n",
    "param_test5 = {\n",
    "    'subsample':[i/100.0 for i in range(int(subsample*100-5),int(subsample*100+5),5)],\n",
    "    'colsample_bytree':[i/100.0 for i in range(int(colsample_bytree*100-5),int(colsample_bytree*100+5),5)]\n",
    "}\n",
    "gsearch5 = GridSearchCV(estimator = XGBClassifier( learning_rate =learning_rate, n_estimators=n_estimators, max_depth=max_depth,\n",
    "                                        min_child_weight=min_child_weight, gamma=gamma, subsample=subsample, colsample_bytree=colsample_bytree,\n",
    "                                        objective='multi:softprob', num_class=4, nthread=4, scale_pos_weight=1,seed=27), \n",
    "                       param_grid = param_test5, scoring='f1_micro',n_jobs=4,iid=False, cv=cv, verbose=1)\n",
    "gsearch5.fit(train[predictors],train[target])\n",
    "gsearch5.grid_scores_, gsearch5.best_params_, gsearch5.best_score_"
   ]
  },
  {
   "cell_type": "code",
   "execution_count": 23,
   "metadata": {},
   "outputs": [
    {
     "data": {
      "text/plain": [
       "(0.8, 0.8)"
      ]
     },
     "execution_count": 23,
     "metadata": {},
     "output_type": "execute_result"
    }
   ],
   "source": [
    "subsample = gsearch5.best_params_['subsample']\n",
    "colsample_bytree = gsearch5.best_params_['colsample_bytree']\n",
    "subsample,colsample_bytree"
   ]
  },
  {
   "cell_type": "markdown",
   "metadata": {},
   "source": [
    "# regularization:"
   ]
  },
  {
   "cell_type": "code",
   "execution_count": 24,
   "metadata": {},
   "outputs": [
    {
     "name": "stdout",
     "output_type": "stream",
     "text": [
      "Fitting 5 folds for each of 5 candidates, totalling 25 fits\n"
     ]
    },
    {
     "name": "stderr",
     "output_type": "stream",
     "text": [
      "[Parallel(n_jobs=4)]: Done  25 out of  25 | elapsed:   31.9s finished\n",
      "C:\\Users\\giano\\Anaconda3\\envs\\voda\\lib\\site-packages\\sklearn\\model_selection\\_search.py:761: DeprecationWarning: The grid_scores_ attribute was deprecated in version 0.18 in favor of the more elaborate cv_results_ attribute. The grid_scores_ attribute will not be available from 0.20\n",
      "  DeprecationWarning)\n"
     ]
    },
    {
     "data": {
      "text/plain": [
       "([mean: 0.61618, std: 0.00372, params: {'reg_alpha': 1e-05},\n",
       "  mean: 0.61681, std: 0.00401, params: {'reg_alpha': 0.01},\n",
       "  mean: 0.61367, std: 0.00417, params: {'reg_alpha': 0.1},\n",
       "  mean: 0.61482, std: 0.00466, params: {'reg_alpha': 1},\n",
       "  mean: 0.58880, std: 0.00337, params: {'reg_alpha': 100}],\n",
       " {'reg_alpha': 0.01},\n",
       " 0.6168065949169966)"
      ]
     },
     "execution_count": 24,
     "metadata": {},
     "output_type": "execute_result"
    }
   ],
   "source": [
    "#Grid seach on subsample and max_features\n",
    "#Choose all predictors except target & IDcols\n",
    "param_test6 = {\n",
    "    'reg_alpha':[1e-5, 1e-2, 0.1, 1, 100]\n",
    "}\n",
    "gsearch6 = GridSearchCV(estimator = XGBClassifier( learning_rate =learning_rate, n_estimators=n_estimators, max_depth=max_depth,\n",
    "                                        min_child_weight=min_child_weight, gamma=gamma, subsample=subsample, colsample_bytree=colsample_bytree,\n",
    "                                        objective='multi:softprob', num_class=4, nthread=4, scale_pos_weight=1,seed=27), \n",
    "                       param_grid = param_test6, scoring='f1_micro',n_jobs=4,iid=False, cv=cv, verbose=1)\n",
    "gsearch6.fit(train[predictors],train[target])\n",
    "gsearch6.grid_scores_, gsearch6.best_params_, gsearch6.best_score_"
   ]
  },
  {
   "cell_type": "code",
   "execution_count": 25,
   "metadata": {},
   "outputs": [
    {
     "data": {
      "text/plain": [
       "0.01"
      ]
     },
     "execution_count": 25,
     "metadata": {},
     "output_type": "execute_result"
    }
   ],
   "source": [
    "reg_alpha = gsearch6.best_params_['reg_alpha']\n",
    "reg_alpha"
   ]
  },
  {
   "cell_type": "code",
   "execution_count": 26,
   "metadata": {},
   "outputs": [
    {
     "name": "stdout",
     "output_type": "stream",
     "text": [
      "Fitting 5 folds for each of 5 candidates, totalling 25 fits\n"
     ]
    },
    {
     "name": "stderr",
     "output_type": "stream",
     "text": [
      "[Parallel(n_jobs=4)]: Done  25 out of  25 | elapsed:   33.7s finished\n",
      "C:\\Users\\giano\\Anaconda3\\envs\\voda\\lib\\site-packages\\sklearn\\model_selection\\_search.py:761: DeprecationWarning: The grid_scores_ attribute was deprecated in version 0.18 in favor of the more elaborate cv_results_ attribute. The grid_scores_ attribute will not be available from 0.20\n",
      "  DeprecationWarning)\n"
     ]
    },
    {
     "data": {
      "text/plain": [
       "([mean: 0.61618, std: 0.00372, params: {'reg_alpha': 0},\n",
       "  mean: 0.61597, std: 0.00292, params: {'reg_alpha': 0.001},\n",
       "  mean: 0.61639, std: 0.00389, params: {'reg_alpha': 0.005},\n",
       "  mean: 0.61681, std: 0.00401, params: {'reg_alpha': 0.01},\n",
       "  mean: 0.61461, std: 0.00417, params: {'reg_alpha': 0.05}],\n",
       " {'reg_alpha': 0.01},\n",
       " 0.6168065949169966)"
      ]
     },
     "execution_count": 26,
     "metadata": {},
     "output_type": "execute_result"
    }
   ],
   "source": [
    "#Grid seach on subsample and max_features\n",
    "#Choose all predictors except target & IDcols\n",
    "param_test7 = {\n",
    "    'reg_alpha':[0, 0.001, 0.005, 0.01, 0.05]\n",
    "}\n",
    "gsearch7 = GridSearchCV(estimator = XGBClassifier( learning_rate =learning_rate, n_estimators=n_estimators, max_depth=max_depth,\n",
    "                                        min_child_weight=min_child_weight, gamma=gamma, subsample=subsample, colsample_bytree=colsample_bytree,\n",
    "                                        objective='multi:softprob', num_class=4, nthread=4, scale_pos_weight=1,seed=27), \n",
    "                       param_grid = param_test7, scoring='f1_micro',n_jobs=4,iid=False, cv=cv,verbose=1)\n",
    "gsearch7.fit(train[predictors],train[target])\n",
    "gsearch7.grid_scores_, gsearch7.best_params_, gsearch7.best_score_"
   ]
  },
  {
   "cell_type": "code",
   "execution_count": 27,
   "metadata": {},
   "outputs": [
    {
     "data": {
      "text/plain": [
       "0.01"
      ]
     },
     "execution_count": 27,
     "metadata": {},
     "output_type": "execute_result"
    }
   ],
   "source": [
    "reg_alpha = gsearch7.best_params_['reg_alpha']\n",
    "reg_alpha"
   ]
  },
  {
   "cell_type": "code",
   "execution_count": 28,
   "metadata": {
    "scrolled": true
   },
   "outputs": [
    {
     "name": "stdout",
     "output_type": "stream",
     "text": [
      "[0]\ttrain-merror:0.393305+0.00141842\ttest-merror:0.414236+0.00432257\n",
      "[1]\ttrain-merror:0.386015+0.00274088\ttest-merror:0.410995+0.0093413\n",
      "[2]\ttrain-merror:0.385936+0.00235752\ttest-merror:0.406082+0.00567963\n",
      "[3]\ttrain-merror:0.381337+0.00270844\ttest-merror:0.403051+0.00343787\n",
      "[4]\ttrain-merror:0.380239+0.00223997\ttest-merror:0.404096+0.00412035\n",
      "[5]\ttrain-merror:0.378828+0.00175527\ttest-merror:0.402842+0.00406006\n",
      "[6]\ttrain-merror:0.377286+0.00127592\ttest-merror:0.40002+0.00560687\n",
      "[7]\ttrain-merror:0.376241+0.00242572\ttest-merror:0.399497+0.00541038\n",
      "[8]\ttrain-merror:0.373915+0.00226597\ttest-merror:0.400438+0.00495115\n",
      "[9]\ttrain-merror:0.37355+0.00240889\ttest-merror:0.399079+0.00484354\n",
      "[10]\ttrain-merror:0.37253+0.00296308\ttest-merror:0.398348+0.00476278\n",
      "[11]\ttrain-merror:0.372243+0.00289317\ttest-merror:0.396571+0.0051284\n",
      "[12]\ttrain-merror:0.37159+0.00237705\ttest-merror:0.39563+0.0046916\n",
      "[13]\ttrain-merror:0.370571+0.00230414\ttest-merror:0.396675+0.00439374\n",
      "[14]\ttrain-merror:0.369447+0.00255423\ttest-merror:0.396675+0.00378453\n",
      "[15]\ttrain-merror:0.369029+0.00242771\ttest-merror:0.396675+0.0045137\n",
      "[16]\ttrain-merror:0.368715+0.00213842\ttest-merror:0.395735+0.00436071\n",
      "[17]\ttrain-merror:0.368245+0.00211809\ttest-merror:0.396676+0.00443035\n",
      "[18]\ttrain-merror:0.367984+0.00206351\ttest-merror:0.397198+0.00391469\n",
      "[19]\ttrain-merror:0.367043+0.00228669\ttest-merror:0.395003+0.00429657\n",
      "[20]\ttrain-merror:0.366259+0.00228609\ttest-merror:0.394898+0.00448853\n",
      "[21]\ttrain-merror:0.365214+0.00171182\ttest-merror:0.393853+0.00473457\n",
      "[22]\ttrain-merror:0.364404+0.00219706\ttest-merror:0.393958+0.00441397\n",
      "[23]\ttrain-merror:0.363332+0.00208278\ttest-merror:0.392704+0.00477587\n",
      "[24]\ttrain-merror:0.363202+0.00198282\ttest-merror:0.393017+0.00588722\n",
      "[25]\ttrain-merror:0.362313+0.00227107\ttest-merror:0.393017+0.00547943\n",
      "[26]\ttrain-merror:0.361007+0.00176438\ttest-merror:0.393017+0.00528238\n",
      "[27]\ttrain-merror:0.360014+0.00198506\ttest-merror:0.392599+0.00598892\n",
      "[28]\ttrain-merror:0.359648+0.00208218\ttest-merror:0.392077+0.00556551\n",
      "[29]\ttrain-merror:0.358838+0.00183042\ttest-merror:0.392286+0.00534481\n",
      "[30]\ttrain-merror:0.357662+0.00216231\ttest-merror:0.392913+0.00494755\n",
      "[31]\ttrain-merror:0.356904+0.00144257\ttest-merror:0.391973+0.00418903\n",
      "[32]\ttrain-merror:0.355179+0.00194207\ttest-merror:0.392181+0.00499303\n",
      "[33]\ttrain-merror:0.354631+0.00178562\ttest-merror:0.390613+0.00446626\n",
      "[34]\ttrain-merror:0.353089+0.00160802\ttest-merror:0.390927+0.00505884\n",
      "[35]\ttrain-merror:0.352252+0.00175811\ttest-merror:0.390508+0.00414568\n",
      "[36]\ttrain-merror:0.35139+0.00186271\ttest-merror:0.39009+0.00360637\n",
      "[37]\ttrain-merror:0.350319+0.00182827\ttest-merror:0.390404+0.0031171\n",
      "[38]\ttrain-merror:0.349613+0.00152116\ttest-merror:0.390508+0.0040739\n",
      "[39]\ttrain-merror:0.348646+0.00194523\ttest-merror:0.39009+0.00363084\n",
      "[40]\ttrain-merror:0.347732+0.00209725\ttest-merror:0.390195+0.00352645\n",
      "[41]\ttrain-merror:0.346922+0.00193544\ttest-merror:0.390718+0.00422747\n",
      "[42]\ttrain-merror:0.345929+0.00185348\ttest-merror:0.389777+0.00439904\n",
      "[43]\ttrain-merror:0.3441+0.00205602\ttest-merror:0.389672+0.00441021\n",
      "[44]\ttrain-merror:0.342767+0.00200283\ttest-merror:0.38915+0.00489169\n",
      "[45]\ttrain-merror:0.341695+0.00176631\ttest-merror:0.389567+0.0048768\n",
      "[46]\ttrain-merror:0.34031+0.00126021\ttest-merror:0.389881+0.00471309\n",
      "[47]\ttrain-merror:0.339396+0.00154674\ttest-merror:0.389254+0.00499118\n",
      "[48]\ttrain-merror:0.338716+0.0017506\ttest-merror:0.389881+0.00450936\n",
      "[49]\ttrain-merror:0.33775+0.00124614\ttest-merror:0.389881+0.00446068\n",
      "[50]\ttrain-merror:0.336861+0.00183602\ttest-merror:0.389045+0.00364814\n",
      "[51]\ttrain-merror:0.335816+0.00212951\ttest-merror:0.389568+0.00441004\n",
      "[52]\ttrain-merror:0.334692+0.00207066\ttest-merror:0.388523+0.00410949\n",
      "[53]\ttrain-merror:0.333777+0.00225799\ttest-merror:0.388209+0.00439164\n",
      "[54]\ttrain-merror:0.332967+0.00264027\ttest-merror:0.388627+0.00555413\n",
      "[55]\ttrain-merror:0.332236+0.0026494\ttest-merror:0.388418+0.00501546\n",
      "[56]\ttrain-merror:0.331243+0.00260068\ttest-merror:0.388418+0.00413761\n",
      "[57]\ttrain-merror:0.330224+0.00243495\ttest-merror:0.388+0.00589944\n",
      "[58]\ttrain-merror:0.32991+0.00252585\ttest-merror:0.388522+0.00621041\n",
      "[59]\ttrain-merror:0.328525+0.00258856\ttest-merror:0.386954+0.00637207\n",
      "[60]\ttrain-merror:0.327401+0.00247977\ttest-merror:0.387373+0.00651336\n",
      "[61]\ttrain-merror:0.326147+0.00235869\ttest-merror:0.387373+0.00649779\n",
      "[62]\ttrain-merror:0.325285+0.0027355\ttest-merror:0.386537+0.00642063\n",
      "[63]\ttrain-merror:0.324684+0.00286259\ttest-merror:0.386745+0.00637081\n",
      "[64]\ttrain-merror:0.323952+0.00287857\ttest-merror:0.386641+0.00662197\n",
      "[65]\ttrain-merror:0.322515+0.00309327\ttest-merror:0.386641+0.00714199\n",
      "[66]\ttrain-merror:0.321365+0.00296703\ttest-merror:0.385909+0.00711126\n",
      "[67]\ttrain-merror:0.320398+0.00299404\ttest-merror:0.385595+0.00669487\n",
      "[68]\ttrain-merror:0.319483+0.0028378\ttest-merror:0.385386+0.00701984\n",
      "[69]\ttrain-merror:0.318908+0.00280791\ttest-merror:0.385387+0.00642483\n",
      "[70]\ttrain-merror:0.317759+0.00305274\ttest-merror:0.385805+0.00604952\n",
      "[71]\ttrain-merror:0.317315+0.00288739\ttest-merror:0.385387+0.00560916\n",
      "[72]\ttrain-merror:0.315956+0.00274667\ttest-merror:0.385491+0.00609888\n",
      "[73]\ttrain-merror:0.315329+0.00328085\ttest-merror:0.385387+0.00537526\n",
      "[74]\ttrain-merror:0.31491+0.00333195\ttest-merror:0.385178+0.0057909\n",
      "[75]\ttrain-merror:0.314231+0.00293467\ttest-merror:0.3857+0.00551678\n",
      "[76]\ttrain-merror:0.313473+0.00300036\ttest-merror:0.385805+0.0057571\n",
      "[77]\ttrain-merror:0.312872+0.00334369\ttest-merror:0.385909+0.00644563\n",
      "[78]\ttrain-merror:0.312114+0.00349718\ttest-merror:0.385909+0.00595812\n",
      "[79]\ttrain-merror:0.310964+0.00337843\ttest-merror:0.385282+0.00601306\n",
      "[80]\ttrain-merror:0.309815+0.00356288\ttest-merror:0.385491+0.00653949\n",
      "[81]\ttrain-merror:0.309213+0.00323175\ttest-merror:0.385386+0.00567072\n",
      "[82]\ttrain-merror:0.308404+0.00297034\ttest-merror:0.385282+0.00594729\n",
      "[83]\ttrain-merror:0.30728+0.0027505\ttest-merror:0.385073+0.0061212\n",
      "[84]\ttrain-merror:0.30681+0.00311587\ttest-merror:0.385177+0.00674566\n",
      "[85]\ttrain-merror:0.305189+0.00370835\ttest-merror:0.384759+0.00686437\n",
      "[86]\ttrain-merror:0.304667+0.00346732\ttest-merror:0.384969+0.0059255\n",
      "[87]\ttrain-merror:0.304379+0.0032028\ttest-merror:0.384864+0.00522663\n",
      "[88]\ttrain-merror:0.304014+0.00315739\ttest-merror:0.385178+0.00593774\n",
      "[89]\ttrain-merror:0.303387+0.00309615\ttest-merror:0.384655+0.00600547\n",
      "[90]\ttrain-merror:0.301976+0.00276842\ttest-merror:0.384968+0.00730602\n",
      "[91]\ttrain-merror:0.301035+0.00280321\ttest-merror:0.384655+0.0068288\n",
      "[92]\ttrain-merror:0.29978+0.00314806\ttest-merror:0.383819+0.00619053\n",
      "[93]\ttrain-merror:0.299205+0.00329349\ttest-merror:0.384028+0.00636958\n",
      "[94]\ttrain-merror:0.298709+0.0036746\ttest-merror:0.384132+0.00630062\n",
      "[95]\ttrain-merror:0.297821+0.00324515\ttest-merror:0.38361+0.00593066\n",
      "[96]\ttrain-merror:0.297638+0.00315773\ttest-merror:0.382564+0.0062275\n",
      "[97]\ttrain-merror:0.296409+0.00340986\ttest-merror:0.382774+0.00574259\n",
      "[98]\ttrain-merror:0.295416+0.00373281\ttest-merror:0.382878+0.00558787\n",
      "[99]\ttrain-merror:0.294737+0.00337504\ttest-merror:0.383819+0.00573122\n",
      "[100]\ttrain-merror:0.294632+0.00326441\ttest-merror:0.383819+0.00531567\n",
      "[101]\ttrain-merror:0.293457+0.00352458\ttest-merror:0.384237+0.00571798\n",
      "[102]\ttrain-merror:0.292463+0.00335679\ttest-merror:0.38361+0.00591965\n",
      "[103]\ttrain-merror:0.291549+0.00336296\ttest-merror:0.383296+0.00659297\n",
      "[104]\ttrain-merror:0.290922+0.00312571\ttest-merror:0.383087+0.00613701\n",
      "[105]\ttrain-merror:0.290321+0.00251371\ttest-merror:0.383087+0.00608891\n",
      "[106]\ttrain-merror:0.289563+0.00234054\ttest-merror:0.383714+0.00647716\n",
      "[107]\ttrain-merror:0.28857+0.00305986\ttest-merror:0.383192+0.00671621\n",
      "[108]\ttrain-merror:0.2881+0.00292515\ttest-merror:0.383714+0.00539304\n",
      "[109]\ttrain-merror:0.286715+0.00290211\ttest-merror:0.384446+0.00612634\n",
      "[110]\ttrain-merror:0.286009+0.00317104\ttest-merror:0.383923+0.00652363\n",
      "[111]\ttrain-merror:0.285565+0.00313048\ttest-merror:0.384342+0.0059671\n",
      "[112]\ttrain-merror:0.284833+0.00329288\ttest-merror:0.383192+0.00592603\n",
      "[113]\ttrain-merror:0.284337+0.00276719\ttest-merror:0.383924+0.00624403\n",
      "[114]\ttrain-merror:0.283448+0.00272483\ttest-merror:0.38361+0.00580638\n",
      "[115]\ttrain-merror:0.28303+0.00262061\ttest-merror:0.383297+0.00608897\n",
      "[116]\ttrain-merror:0.282298+0.00265699\ttest-merror:0.383819+0.00669136\n",
      "[117]\ttrain-merror:0.282063+0.00276192\ttest-merror:0.383401+0.00681975\n"
     ]
    },
    {
     "name": "stdout",
     "output_type": "stream",
     "text": [
      "[118]\ttrain-merror:0.281149+0.0027928\ttest-merror:0.382564+0.00661305\n",
      "[119]\ttrain-merror:0.280234+0.00272615\ttest-merror:0.382983+0.00645261\n",
      "[120]\ttrain-merror:0.279372+0.00264409\ttest-merror:0.382983+0.00619868\n",
      "[121]\ttrain-merror:0.278614+0.00272293\ttest-merror:0.382669+0.00622982\n",
      "[122]\ttrain-merror:0.278117+0.00259453\ttest-merror:0.382982+0.00629689\n",
      "[123]\ttrain-merror:0.277961+0.0029192\ttest-merror:0.383087+0.00575454\n",
      "[124]\ttrain-merror:0.277229+0.002598\ttest-merror:0.382878+0.0052449\n",
      "[125]\ttrain-merror:0.276158+0.00238602\ttest-merror:0.383505+0.00536172\n",
      "[126]\ttrain-merror:0.275766+0.00273206\ttest-merror:0.383715+0.00484719\n",
      "[127]\ttrain-merror:0.274955+0.00275996\ttest-merror:0.384028+0.00548868\n",
      "[128]\ttrain-merror:0.274041+0.00252753\ttest-merror:0.384551+0.00492198\n",
      "[129]\ttrain-merror:0.273126+0.00253929\ttest-merror:0.385073+0.00514075\n",
      "[130]\ttrain-merror:0.272656+0.00265993\ttest-merror:0.384655+0.00538171\n",
      "[131]\ttrain-merror:0.272107+0.00225487\ttest-merror:0.384759+0.00588372\n",
      "[132]\ttrain-merror:0.27182+0.00261645\ttest-merror:0.383714+0.00560236\n",
      "[133]\ttrain-merror:0.271349+0.0029277\ttest-merror:0.384551+0.00571148\n",
      "[134]\ttrain-merror:0.270931+0.00265718\ttest-merror:0.384028+0.00517347\n",
      "[135]\ttrain-merror:0.270304+0.00296727\ttest-merror:0.384237+0.00494867\n",
      "[136]\ttrain-merror:0.269441+0.00285734\ttest-merror:0.384551+0.00545084\n",
      "[137]\ttrain-merror:0.26905+0.00287337\ttest-merror:0.384655+0.00536378\n",
      "[138]\ttrain-merror:0.268527+0.00241065\ttest-merror:0.384864+0.00516156\n",
      "[139]\ttrain-merror:0.267769+0.00248672\ttest-merror:0.384341+0.00566242\n",
      "[140]\ttrain-merror:0.26662+0.00261408\ttest-merror:0.38455+0.00532545\n",
      "[141]\ttrain-merror:0.266358+0.00273064\ttest-merror:0.384446+0.00514888\n",
      "[142]\ttrain-merror:0.265574+0.00254797\ttest-merror:0.385073+0.00532419\n",
      "[143]\ttrain-merror:0.264816+0.00284267\ttest-merror:0.385178+0.00478553\n",
      "[144]\ttrain-merror:0.264059+0.00268564\ttest-merror:0.385178+0.00499735\n",
      "[145]\ttrain-merror:0.263301+0.0025018\ttest-merror:0.384759+0.00565333\n"
     ]
    },
    {
     "name": "stderr",
     "output_type": "stream",
     "text": [
      "C:\\Users\\giano\\Anaconda3\\envs\\voda\\lib\\site-packages\\sklearn\\preprocessing\\label.py:151: DeprecationWarning: The truth value of an empty array is ambiguous. Returning False, but in future this will result in an error. Use `array.size > 0` to check that an array is not empty.\n",
      "  if diff:\n"
     ]
    },
    {
     "name": "stdout",
     "output_type": "stream",
     "text": [
      "\n",
      "Model Report\n",
      "Accuracy : 0.6914\n",
      "F1_score : 0.691439\n"
     ]
    },
    {
     "data": {
      "image/png": "[encoded data removed]",
      "text/plain": [
       "<Figure size 432x288 with 1 Axes>"
      ]
     },
     "metadata": {},
     "output_type": "display_data"
    },
    {
     "name": "stdout",
     "output_type": "stream",
     "text": [
      "Feature_Importances: \n",
      "Index(['DeviceFlag4G', 'MonthlySMSTrafficCount', 'CustomerExpatriate',\n",
      "       'ZipCode', 'DeviceFlagSmartphone', 'DataArpu',\n",
      "       'Instant-Messaging-Applications', 'Network-Operation',\n",
      "       'MonthlyVoiceTrafficCount', 'Games'],\n",
      "      dtype='object')\n",
      "Model: {'base_score': 0.5, 'booster': 'gbtree', 'colsample_bylevel': 1, 'colsample_bytree': 0.8, 'gamma': 0.3, 'learning_rate': 0.1, 'max_delta_step': 0, 'max_depth': 4, 'min_child_weight': 4, 'missing': None, 'n_estimators': 97, 'nthread': 4, 'objective': 'multi:softprob', 'reg_alpha': 0.01, 'reg_lambda': 1, 'scale_pos_weight': 1, 'seed': 27, 'silent': 1, 'subsample': 0.8, 'num_class': 4}\n",
      "n_estimator: 97\n"
     ]
    }
   ],
   "source": [
    "xgb3 = XGBClassifier(\n",
    "        learning_rate =learning_rate,\n",
    "        n_estimators=1000,\n",
    "        max_depth=max_depth,\n",
    "        min_child_weight=min_child_weight,\n",
    "        gamma=gamma,\n",
    "        subsample=subsample,\n",
    "        colsample_bytree=colsample_bytree,\n",
    "        reg_alpha=reg_alpha,\n",
    "        objective='multi:softprob', \n",
    "        num_class=4,\n",
    "        nthread=4,\n",
    "        scale_pos_weight=1,\n",
    "        seed=27)\n",
    "n_estimators = modelfit(xgb3, train, predictors)"
   ]
  },
  {
   "cell_type": "code",
   "execution_count": 29,
   "metadata": {},
   "outputs": [
    {
     "name": "stdout",
     "output_type": "stream",
     "text": [
      "[0]\ttrain-merror:0.393305+0.00141842\ttest-merror:0.414236+0.00432257\n",
      "[1]\ttrain-merror:0.386015+0.00274088\ttest-merror:0.410995+0.0093413\n",
      "[2]\ttrain-merror:0.385936+0.00235752\ttest-merror:0.406082+0.00567963\n",
      "[3]\ttrain-merror:0.381337+0.00270844\ttest-merror:0.403051+0.00343787\n",
      "[4]\ttrain-merror:0.380239+0.00223997\ttest-merror:0.404096+0.00412035\n",
      "[5]\ttrain-merror:0.378828+0.00175527\ttest-merror:0.402842+0.00406006\n",
      "[6]\ttrain-merror:0.377286+0.00127592\ttest-merror:0.40002+0.00560687\n",
      "[7]\ttrain-merror:0.376241+0.00242572\ttest-merror:0.399497+0.00541038\n",
      "[8]\ttrain-merror:0.373915+0.00226597\ttest-merror:0.400438+0.00495115\n",
      "[9]\ttrain-merror:0.37355+0.00240889\ttest-merror:0.399079+0.00484354\n",
      "[10]\ttrain-merror:0.37253+0.00296308\ttest-merror:0.398348+0.00476278\n",
      "[11]\ttrain-merror:0.372243+0.00289317\ttest-merror:0.396571+0.0051284\n",
      "[12]\ttrain-merror:0.37159+0.00237705\ttest-merror:0.39563+0.0046916\n",
      "[13]\ttrain-merror:0.370571+0.00230414\ttest-merror:0.396675+0.00439374\n",
      "[14]\ttrain-merror:0.369447+0.00255423\ttest-merror:0.396675+0.00378453\n",
      "[15]\ttrain-merror:0.369029+0.00242771\ttest-merror:0.396675+0.0045137\n",
      "[16]\ttrain-merror:0.368715+0.00213842\ttest-merror:0.395735+0.00436071\n",
      "[17]\ttrain-merror:0.368245+0.00211809\ttest-merror:0.396676+0.00443035\n",
      "[18]\ttrain-merror:0.367984+0.00206351\ttest-merror:0.397198+0.00391469\n",
      "[19]\ttrain-merror:0.367043+0.00228669\ttest-merror:0.395003+0.00429657\n",
      "[20]\ttrain-merror:0.366259+0.00228609\ttest-merror:0.394898+0.00448853\n",
      "[21]\ttrain-merror:0.365214+0.00171182\ttest-merror:0.393853+0.00473457\n",
      "[22]\ttrain-merror:0.364404+0.00219706\ttest-merror:0.393958+0.00441397\n",
      "[23]\ttrain-merror:0.363332+0.00208278\ttest-merror:0.392704+0.00477587\n",
      "[24]\ttrain-merror:0.363202+0.00198282\ttest-merror:0.393017+0.00588722\n",
      "[25]\ttrain-merror:0.362313+0.00227107\ttest-merror:0.393017+0.00547943\n",
      "[26]\ttrain-merror:0.361007+0.00176438\ttest-merror:0.393017+0.00528238\n",
      "[27]\ttrain-merror:0.360014+0.00198506\ttest-merror:0.392599+0.00598892\n",
      "[28]\ttrain-merror:0.359648+0.00208218\ttest-merror:0.392077+0.00556551\n",
      "[29]\ttrain-merror:0.358838+0.00183042\ttest-merror:0.392286+0.00534481\n",
      "[30]\ttrain-merror:0.357662+0.00216231\ttest-merror:0.392913+0.00494755\n",
      "[31]\ttrain-merror:0.356904+0.00144257\ttest-merror:0.391973+0.00418903\n",
      "[32]\ttrain-merror:0.355179+0.00194207\ttest-merror:0.392181+0.00499303\n",
      "[33]\ttrain-merror:0.354631+0.00178562\ttest-merror:0.390613+0.00446626\n",
      "[34]\ttrain-merror:0.353089+0.00160802\ttest-merror:0.390927+0.00505884\n",
      "[35]\ttrain-merror:0.352252+0.00175811\ttest-merror:0.390508+0.00414568\n",
      "[36]\ttrain-merror:0.35139+0.00186271\ttest-merror:0.39009+0.00360637\n",
      "[37]\ttrain-merror:0.350319+0.00182827\ttest-merror:0.390404+0.0031171\n",
      "[38]\ttrain-merror:0.349613+0.00152116\ttest-merror:0.390508+0.0040739\n",
      "[39]\ttrain-merror:0.348646+0.00194523\ttest-merror:0.39009+0.00363084\n",
      "[40]\ttrain-merror:0.347732+0.00209725\ttest-merror:0.390195+0.00352645\n",
      "[41]\ttrain-merror:0.346922+0.00193544\ttest-merror:0.390718+0.00422747\n",
      "[42]\ttrain-merror:0.345929+0.00185348\ttest-merror:0.389777+0.00439904\n",
      "[43]\ttrain-merror:0.3441+0.00205602\ttest-merror:0.389672+0.00441021\n",
      "[44]\ttrain-merror:0.342767+0.00200283\ttest-merror:0.38915+0.00489169\n",
      "[45]\ttrain-merror:0.341695+0.00176631\ttest-merror:0.389567+0.0048768\n",
      "[46]\ttrain-merror:0.34031+0.00126021\ttest-merror:0.389881+0.00471309\n",
      "[47]\ttrain-merror:0.339396+0.00154674\ttest-merror:0.389254+0.00499118\n",
      "[48]\ttrain-merror:0.338716+0.0017506\ttest-merror:0.389881+0.00450936\n",
      "[49]\ttrain-merror:0.33775+0.00124614\ttest-merror:0.389881+0.00446068\n",
      "[50]\ttrain-merror:0.336861+0.00183602\ttest-merror:0.389045+0.00364814\n",
      "[51]\ttrain-merror:0.335816+0.00212951\ttest-merror:0.389568+0.00441004\n",
      "[52]\ttrain-merror:0.334692+0.00207066\ttest-merror:0.388523+0.00410949\n",
      "[53]\ttrain-merror:0.333777+0.00225799\ttest-merror:0.388209+0.00439164\n",
      "[54]\ttrain-merror:0.332967+0.00264027\ttest-merror:0.388627+0.00555413\n",
      "[55]\ttrain-merror:0.332236+0.0026494\ttest-merror:0.388418+0.00501546\n",
      "[56]\ttrain-merror:0.331243+0.00260068\ttest-merror:0.388418+0.00413761\n",
      "[57]\ttrain-merror:0.330224+0.00243495\ttest-merror:0.388+0.00589944\n",
      "[58]\ttrain-merror:0.32991+0.00252585\ttest-merror:0.388522+0.00621041\n",
      "[59]\ttrain-merror:0.328525+0.00258856\ttest-merror:0.386954+0.00637207\n",
      "[60]\ttrain-merror:0.327401+0.00247977\ttest-merror:0.387373+0.00651336\n",
      "[61]\ttrain-merror:0.326147+0.00235869\ttest-merror:0.387373+0.00649779\n",
      "[62]\ttrain-merror:0.325285+0.0027355\ttest-merror:0.386537+0.00642063\n",
      "[63]\ttrain-merror:0.324684+0.00286259\ttest-merror:0.386745+0.00637081\n",
      "[64]\ttrain-merror:0.323952+0.00287857\ttest-merror:0.386641+0.00662197\n",
      "[65]\ttrain-merror:0.322515+0.00309327\ttest-merror:0.386641+0.00714199\n",
      "[66]\ttrain-merror:0.321365+0.00296703\ttest-merror:0.385909+0.00711126\n",
      "[67]\ttrain-merror:0.320398+0.00299404\ttest-merror:0.385595+0.00669487\n",
      "[68]\ttrain-merror:0.319483+0.0028378\ttest-merror:0.385386+0.00701984\n",
      "[69]\ttrain-merror:0.318908+0.00280791\ttest-merror:0.385387+0.00642483\n",
      "[70]\ttrain-merror:0.317759+0.00305274\ttest-merror:0.385805+0.00604952\n",
      "[71]\ttrain-merror:0.317315+0.00288739\ttest-merror:0.385387+0.00560916\n",
      "[72]\ttrain-merror:0.315956+0.00274667\ttest-merror:0.385491+0.00609888\n",
      "[73]\ttrain-merror:0.315329+0.00328085\ttest-merror:0.385387+0.00537526\n",
      "[74]\ttrain-merror:0.31491+0.00333195\ttest-merror:0.385178+0.0057909\n",
      "[75]\ttrain-merror:0.314231+0.00293467\ttest-merror:0.3857+0.00551678\n",
      "[76]\ttrain-merror:0.313473+0.00300036\ttest-merror:0.385805+0.0057571\n",
      "[77]\ttrain-merror:0.312872+0.00334369\ttest-merror:0.385909+0.00644563\n",
      "[78]\ttrain-merror:0.312114+0.00349718\ttest-merror:0.385909+0.00595812\n",
      "[79]\ttrain-merror:0.310964+0.00337843\ttest-merror:0.385282+0.00601306\n",
      "[80]\ttrain-merror:0.309815+0.00356288\ttest-merror:0.385491+0.00653949\n",
      "[81]\ttrain-merror:0.309213+0.00323175\ttest-merror:0.385386+0.00567072\n",
      "[82]\ttrain-merror:0.308404+0.00297034\ttest-merror:0.385282+0.00594729\n",
      "[83]\ttrain-merror:0.30728+0.0027505\ttest-merror:0.385073+0.0061212\n",
      "[84]\ttrain-merror:0.30681+0.00311587\ttest-merror:0.385177+0.00674566\n",
      "[85]\ttrain-merror:0.305189+0.00370835\ttest-merror:0.384759+0.00686437\n",
      "[86]\ttrain-merror:0.304667+0.00346732\ttest-merror:0.384969+0.0059255\n",
      "[87]\ttrain-merror:0.304379+0.0032028\ttest-merror:0.384864+0.00522663\n",
      "[88]\ttrain-merror:0.304014+0.00315739\ttest-merror:0.385178+0.00593774\n",
      "[89]\ttrain-merror:0.303387+0.00309615\ttest-merror:0.384655+0.00600547\n",
      "[90]\ttrain-merror:0.301976+0.00276842\ttest-merror:0.384968+0.00730602\n",
      "[91]\ttrain-merror:0.301035+0.00280321\ttest-merror:0.384655+0.0068288\n",
      "[92]\ttrain-merror:0.29978+0.00314806\ttest-merror:0.383819+0.00619053\n",
      "[93]\ttrain-merror:0.299205+0.00329349\ttest-merror:0.384028+0.00636958\n",
      "[94]\ttrain-merror:0.298709+0.0036746\ttest-merror:0.384132+0.00630062\n",
      "[95]\ttrain-merror:0.297821+0.00324515\ttest-merror:0.38361+0.00593066\n",
      "[96]\ttrain-merror:0.297638+0.00315773\ttest-merror:0.382564+0.0062275\n",
      "[97]\ttrain-merror:0.296409+0.00340986\ttest-merror:0.382774+0.00574259\n",
      "[98]\ttrain-merror:0.295416+0.00373281\ttest-merror:0.382878+0.00558787\n",
      "[99]\ttrain-merror:0.294737+0.00337504\ttest-merror:0.383819+0.00573122\n",
      "[100]\ttrain-merror:0.294632+0.00326441\ttest-merror:0.383819+0.00531567\n",
      "[101]\ttrain-merror:0.293457+0.00352458\ttest-merror:0.384237+0.00571798\n",
      "[102]\ttrain-merror:0.292463+0.00335679\ttest-merror:0.38361+0.00591965\n",
      "[103]\ttrain-merror:0.291549+0.00336296\ttest-merror:0.383296+0.00659297\n",
      "[104]\ttrain-merror:0.290922+0.00312571\ttest-merror:0.383087+0.00613701\n",
      "[105]\ttrain-merror:0.290321+0.00251371\ttest-merror:0.383087+0.00608891\n",
      "[106]\ttrain-merror:0.289563+0.00234054\ttest-merror:0.383714+0.00647716\n",
      "[107]\ttrain-merror:0.28857+0.00305986\ttest-merror:0.383192+0.00671621\n",
      "[108]\ttrain-merror:0.2881+0.00292515\ttest-merror:0.383714+0.00539304\n",
      "[109]\ttrain-merror:0.286715+0.00290211\ttest-merror:0.384446+0.00612634\n",
      "[110]\ttrain-merror:0.286009+0.00317104\ttest-merror:0.383923+0.00652363\n",
      "[111]\ttrain-merror:0.285565+0.00313048\ttest-merror:0.384342+0.0059671\n",
      "[112]\ttrain-merror:0.284833+0.00329288\ttest-merror:0.383192+0.00592603\n",
      "[113]\ttrain-merror:0.284337+0.00276719\ttest-merror:0.383924+0.00624403\n",
      "[114]\ttrain-merror:0.283448+0.00272483\ttest-merror:0.38361+0.00580638\n",
      "[115]\ttrain-merror:0.28303+0.00262061\ttest-merror:0.383297+0.00608897\n",
      "[116]\ttrain-merror:0.282298+0.00265699\ttest-merror:0.383819+0.00669136\n",
      "[117]\ttrain-merror:0.282063+0.00276192\ttest-merror:0.383401+0.00681975\n"
     ]
    },
    {
     "name": "stdout",
     "output_type": "stream",
     "text": [
      "[118]\ttrain-merror:0.281149+0.0027928\ttest-merror:0.382564+0.00661305\n",
      "[119]\ttrain-merror:0.280234+0.00272615\ttest-merror:0.382983+0.00645261\n",
      "[120]\ttrain-merror:0.279372+0.00264409\ttest-merror:0.382983+0.00619868\n",
      "[121]\ttrain-merror:0.278614+0.00272293\ttest-merror:0.382669+0.00622982\n",
      "[122]\ttrain-merror:0.278117+0.00259453\ttest-merror:0.382982+0.00629689\n",
      "[123]\ttrain-merror:0.277961+0.0029192\ttest-merror:0.383087+0.00575454\n",
      "[124]\ttrain-merror:0.277229+0.002598\ttest-merror:0.382878+0.0052449\n",
      "[125]\ttrain-merror:0.276158+0.00238602\ttest-merror:0.383505+0.00536172\n",
      "[126]\ttrain-merror:0.275766+0.00273206\ttest-merror:0.383715+0.00484719\n",
      "[127]\ttrain-merror:0.274955+0.00275996\ttest-merror:0.384028+0.00548868\n",
      "[128]\ttrain-merror:0.274041+0.00252753\ttest-merror:0.384551+0.00492198\n",
      "[129]\ttrain-merror:0.273126+0.00253929\ttest-merror:0.385073+0.00514075\n",
      "[130]\ttrain-merror:0.272656+0.00265993\ttest-merror:0.384655+0.00538171\n",
      "[131]\ttrain-merror:0.272107+0.00225487\ttest-merror:0.384759+0.00588372\n",
      "[132]\ttrain-merror:0.27182+0.00261645\ttest-merror:0.383714+0.00560236\n",
      "[133]\ttrain-merror:0.271349+0.0029277\ttest-merror:0.384551+0.00571148\n",
      "[134]\ttrain-merror:0.270931+0.00265718\ttest-merror:0.384028+0.00517347\n",
      "[135]\ttrain-merror:0.270304+0.00296727\ttest-merror:0.384237+0.00494867\n",
      "[136]\ttrain-merror:0.269441+0.00285734\ttest-merror:0.384551+0.00545084\n",
      "[137]\ttrain-merror:0.26905+0.00287337\ttest-merror:0.384655+0.00536378\n",
      "[138]\ttrain-merror:0.268527+0.00241065\ttest-merror:0.384864+0.00516156\n",
      "[139]\ttrain-merror:0.267769+0.00248672\ttest-merror:0.384341+0.00566242\n",
      "[140]\ttrain-merror:0.26662+0.00261408\ttest-merror:0.38455+0.00532545\n",
      "[141]\ttrain-merror:0.266358+0.00273064\ttest-merror:0.384446+0.00514888\n",
      "[142]\ttrain-merror:0.265574+0.00254797\ttest-merror:0.385073+0.00532419\n",
      "[143]\ttrain-merror:0.264816+0.00284267\ttest-merror:0.385178+0.00478553\n",
      "[144]\ttrain-merror:0.264059+0.00268564\ttest-merror:0.385178+0.00499735\n",
      "[145]\ttrain-merror:0.263301+0.0025018\ttest-merror:0.384759+0.00565333\n"
     ]
    },
    {
     "name": "stderr",
     "output_type": "stream",
     "text": [
      "C:\\Users\\giano\\Anaconda3\\envs\\voda\\lib\\site-packages\\sklearn\\preprocessing\\label.py:151: DeprecationWarning: The truth value of an empty array is ambiguous. Returning False, but in future this will result in an error. Use `array.size > 0` to check that an array is not empty.\n",
      "  if diff:\n"
     ]
    },
    {
     "name": "stdout",
     "output_type": "stream",
     "text": [
      "\n",
      "Model Report\n",
      "Accuracy : 0.6914\n",
      "F1_score : 0.691439\n"
     ]
    },
    {
     "data": {
      "image/png": "[encoded data removed]",
      "text/plain": [
       "<Figure size 432x288 with 1 Axes>"
      ]
     },
     "metadata": {},
     "output_type": "display_data"
    },
    {
     "name": "stdout",
     "output_type": "stream",
     "text": [
      "Feature_Importances: \n",
      "Index(['DeviceFlag4G', 'MonthlySMSTrafficCount', 'CustomerExpatriate',\n",
      "       'ZipCode', 'DeviceFlagSmartphone', 'DataArpu',\n",
      "       'Instant-Messaging-Applications', 'Network-Operation',\n",
      "       'MonthlyVoiceTrafficCount', 'Games'],\n",
      "      dtype='object')\n",
      "Model: {'base_score': 0.5, 'booster': 'gbtree', 'colsample_bylevel': 1, 'colsample_bytree': 0.8, 'gamma': 0.3, 'learning_rate': 0.1, 'max_delta_step': 0, 'max_depth': 4, 'min_child_weight': 4, 'missing': None, 'n_estimators': 97, 'nthread': 4, 'objective': 'multi:softprob', 'reg_alpha': 0.01, 'reg_lambda': 1, 'scale_pos_weight': 1, 'seed': 27, 'silent': 1, 'subsample': 0.8, 'num_class': 4}\n",
      "n_estimator: 97\n"
     ]
    }
   ],
   "source": [
    "xgb4 = XGBClassifier(\n",
    "        learning_rate =0.1,\n",
    "        n_estimators=209,\n",
    "        max_depth=max_depth,\n",
    "        min_child_weight=min_child_weight,\n",
    "        gamma=gamma,\n",
    "        subsample=subsample,\n",
    "        colsample_bytree=colsample_bytree,\n",
    "        reg_alpha=reg_alpha,\n",
    "        objective='multi:softprob', \n",
    "        num_class=4,\n",
    "        nthread=4,\n",
    "        scale_pos_weight=1,\n",
    "        seed=27)\n",
    "n_estimators = modelfit(xgb4, train, predictors)"
   ]
  },
  {
   "cell_type": "code",
   "execution_count": 30,
   "metadata": {},
   "outputs": [
    {
     "name": "stdout",
     "output_type": "stream",
     "text": [
      "Fitting 5 folds for each of 30 candidates, totalling 150 fits\n"
     ]
    },
    {
     "name": "stderr",
     "output_type": "stream",
     "text": [
      "[Parallel(n_jobs=4)]: Done  42 tasks      | elapsed:  1.3min\n",
      "[Parallel(n_jobs=4)]: Done 150 out of 150 | elapsed:  5.5min finished\n",
      "C:\\Users\\giano\\Anaconda3\\envs\\voda\\lib\\site-packages\\sklearn\\model_selection\\_search.py:761: DeprecationWarning: The grid_scores_ attribute was deprecated in version 0.18 in favor of the more elaborate cv_results_ attribute. The grid_scores_ attribute will not be available from 0.20\n",
      "  DeprecationWarning)\n"
     ]
    },
    {
     "data": {
      "text/plain": [
       "([mean: 0.59967, std: 0.00395, params: {'learning_rate': 0.0001, 'n_estimators': 50},\n",
       "  mean: 0.60050, std: 0.00351, params: {'learning_rate': 0.0001, 'n_estimators': 100},\n",
       "  mean: 0.60092, std: 0.00434, params: {'learning_rate': 0.0001, 'n_estimators': 150},\n",
       "  mean: 0.60092, std: 0.00424, params: {'learning_rate': 0.0001, 'n_estimators': 200},\n",
       "  mean: 0.60071, std: 0.00394, params: {'learning_rate': 0.0001, 'n_estimators': 300},\n",
       "  mean: 0.60019, std: 0.00460, params: {'learning_rate': 0.001, 'n_estimators': 50},\n",
       "  mean: 0.59967, std: 0.00422, params: {'learning_rate': 0.001, 'n_estimators': 100},\n",
       "  mean: 0.60050, std: 0.00405, params: {'learning_rate': 0.001, 'n_estimators': 150},\n",
       "  mean: 0.60071, std: 0.00374, params: {'learning_rate': 0.001, 'n_estimators': 200},\n",
       "  mean: 0.60061, std: 0.00330, params: {'learning_rate': 0.001, 'n_estimators': 300},\n",
       "  mean: 0.60134, std: 0.00401, params: {'learning_rate': 0.01, 'n_estimators': 50},\n",
       "  mean: 0.60280, std: 0.00377, params: {'learning_rate': 0.01, 'n_estimators': 100},\n",
       "  mean: 0.60259, std: 0.00325, params: {'learning_rate': 0.01, 'n_estimators': 150},\n",
       "  mean: 0.60479, std: 0.00291, params: {'learning_rate': 0.01, 'n_estimators': 200},\n",
       "  mean: 0.60594, std: 0.00229, params: {'learning_rate': 0.01, 'n_estimators': 300},\n",
       "  mean: 0.61022, std: 0.00236, params: {'learning_rate': 0.1, 'n_estimators': 50},\n",
       "  mean: 0.61649, std: 0.00342, params: {'learning_rate': 0.1, 'n_estimators': 100},\n",
       "  mean: 0.61419, std: 0.00523, params: {'learning_rate': 0.1, 'n_estimators': 150},\n",
       "  mean: 0.61043, std: 0.00627, params: {'learning_rate': 0.1, 'n_estimators': 200},\n",
       "  mean: 0.61148, std: 0.00425, params: {'learning_rate': 0.1, 'n_estimators': 300},\n",
       "  mean: 0.61315, std: 0.00146, params: {'learning_rate': 0.2, 'n_estimators': 50},\n",
       "  mean: 0.60970, std: 0.00470, params: {'learning_rate': 0.2, 'n_estimators': 100},\n",
       "  mean: 0.60604, std: 0.00686, params: {'learning_rate': 0.2, 'n_estimators': 150},\n",
       "  mean: 0.60562, std: 0.00333, params: {'learning_rate': 0.2, 'n_estimators': 200},\n",
       "  mean: 0.59998, std: 0.00572, params: {'learning_rate': 0.2, 'n_estimators': 300},\n",
       "  mean: 0.61022, std: 0.00921, params: {'learning_rate': 0.3, 'n_estimators': 50},\n",
       "  mean: 0.60604, std: 0.00818, params: {'learning_rate': 0.3, 'n_estimators': 100},\n",
       "  mean: 0.60092, std: 0.00701, params: {'learning_rate': 0.3, 'n_estimators': 150},\n",
       "  mean: 0.59423, std: 0.00675, params: {'learning_rate': 0.3, 'n_estimators': 200},\n",
       "  mean: 0.59465, std: 0.00485, params: {'learning_rate': 0.3, 'n_estimators': 300}],\n",
       " {'learning_rate': 0.1, 'n_estimators': 100},\n",
       " 0.6164930607847545)"
      ]
     },
     "execution_count": 30,
     "metadata": {},
     "output_type": "execute_result"
    }
   ],
   "source": [
    "#Grid seach on subsample and max_features\n",
    "#Choose all predictors except target & IDcols\n",
    "param_test8 = {\n",
    "    #learning_rate = [0.0001, 0.001, 0.01, 0.1, 0.2, 0.3]\n",
    "    'learning_rate' : [0.0001, 0.001, 0.01, 0.1, 0.2, 0.3],\n",
    "    'n_estimators' : [50, 100, 150, 200, 300]\n",
    "}\n",
    "gsearch8 = GridSearchCV(estimator = XGBClassifier( learning_rate =learning_rate, n_estimators=n_estimators, max_depth=max_depth,\n",
    "                                        min_child_weight=min_child_weight, gamma=gamma, subsample=subsample, colsample_bytree=colsample_bytree,\n",
    "                                        objective='multi:softprob', num_class=4, nthread=4, scale_pos_weight=1,seed=27), \n",
    "                       param_grid = param_test8, scoring='f1_micro',n_jobs=4,iid=False, cv=cv,verbose=1)\n",
    "gsearch8.fit(train[predictors],train[target])\n",
    "gsearch8.grid_scores_, gsearch8.best_params_, gsearch8.best_score_"
   ]
  },
  {
   "cell_type": "code",
   "execution_count": null,
   "metadata": {},
   "outputs": [],
   "source": []
  },
  {
   "cell_type": "code",
   "execution_count": null,
   "metadata": {},
   "outputs": [],
   "source": []
  },
  {
   "cell_type": "code",
   "execution_count": null,
   "metadata": {},
   "outputs": [],
   "source": []
  },
  {
   "cell_type": "code",
   "execution_count": 31,
   "metadata": {},
   "outputs": [
    {
     "data": {
      "text/plain": [
       "Index(['ID', 'DeviceFlag4G', 'DataArpu', 'DataAllowanceContinuous',\n",
       "       'DeviceFlagSmartphone', 'MonthlyVoiceTrafficCount',\n",
       "       'MonthlySMSTrafficCount', 'MonthlyDataTraffic', 'CustomerGender',\n",
       "       'CustomerExpatriate', 'ZipCode', 'ChurnScore',\n",
       "       'AirportConnectionsDuration', 'AirportConnectionsCount',\n",
       "       'StationConnectionsDuration', 'StationConnectionsCount',\n",
       "       'ParkingConnectionsDuration', 'ParkingConnectionsCount',\n",
       "       'File-Transfer', 'Games', 'Instant-Messaging-Applications', 'Mail',\n",
       "       'Music-Streaming', 'Network-Operation', 'P2P-Applications', 'Security',\n",
       "       'Streaming-Applications', 'Terminals', 'Unclassified', 'VoIP',\n",
       "       'Web-Applications', 'CustomerAge', 'Region', 'Province', 'Product'],\n",
       "      dtype='object')"
      ]
     },
     "execution_count": 31,
     "metadata": {},
     "output_type": "execute_result"
    }
   ],
   "source": [
    "train.columns"
   ]
  },
  {
   "cell_type": "code",
   "execution_count": 32,
   "metadata": {},
   "outputs": [
    {
     "data": {
      "text/plain": [
       "((9567, 33), (9567,), (3190, 33))"
      ]
     },
     "execution_count": 32,
     "metadata": {},
     "output_type": "execute_result"
    }
   ],
   "source": [
    "train[predictors].shape,train[target].shape,test[predictors].shape"
   ]
  },
  {
   "cell_type": "code",
   "execution_count": 33,
   "metadata": {},
   "outputs": [
    {
     "data": {
      "text/html": [
       "<div>\n",
       "<style scoped>\n",
       "    .dataframe tbody tr th:only-of-type {\n",
       "        vertical-align: middle;\n",
       "    }\n",
       "\n",
       "    .dataframe tbody tr th {\n",
       "        vertical-align: top;\n",
       "    }\n",
       "\n",
       "    .dataframe thead th {\n",
       "        text-align: right;\n",
       "    }\n",
       "</style>\n",
       "<table border=\"1\" class=\"dataframe\">\n",
       "  <thead>\n",
       "    <tr style=\"text-align: right;\">\n",
       "      <th></th>\n",
       "      <th>ZipCode</th>\n",
       "      <th>CustomerExpatriate</th>\n",
       "      <th>MonthlySMSTrafficCount</th>\n",
       "      <th>DeviceFlagSmartphone</th>\n",
       "      <th>DeviceFlag4G</th>\n",
       "      <th>DataArpu</th>\n",
       "      <th>Region</th>\n",
       "      <th>MonthlyVoiceTrafficCount</th>\n",
       "      <th>Instant-Messaging-Applications</th>\n",
       "      <th>Unclassified</th>\n",
       "    </tr>\n",
       "  </thead>\n",
       "  <tbody>\n",
       "    <tr>\n",
       "      <th>0</th>\n",
       "      <td>39015.0</td>\n",
       "      <td>0.0</td>\n",
       "      <td>0.001623</td>\n",
       "      <td>1.0</td>\n",
       "      <td>1.0</td>\n",
       "      <td>0.156221</td>\n",
       "      <td>16.0</td>\n",
       "      <td>0.018229</td>\n",
       "      <td>0.000000</td>\n",
       "      <td>0.000000</td>\n",
       "    </tr>\n",
       "    <tr>\n",
       "      <th>1</th>\n",
       "      <td>0.0</td>\n",
       "      <td>0.0</td>\n",
       "      <td>0.001498</td>\n",
       "      <td>1.0</td>\n",
       "      <td>0.0</td>\n",
       "      <td>0.155086</td>\n",
       "      <td>0.0</td>\n",
       "      <td>0.051432</td>\n",
       "      <td>0.018201</td>\n",
       "      <td>0.001896</td>\n",
       "    </tr>\n",
       "    <tr>\n",
       "      <th>2</th>\n",
       "      <td>0.0</td>\n",
       "      <td>1.0</td>\n",
       "      <td>0.001248</td>\n",
       "      <td>1.0</td>\n",
       "      <td>1.0</td>\n",
       "      <td>0.000000</td>\n",
       "      <td>0.0</td>\n",
       "      <td>0.058594</td>\n",
       "      <td>0.336849</td>\n",
       "      <td>0.012055</td>\n",
       "    </tr>\n",
       "    <tr>\n",
       "      <th>3</th>\n",
       "      <td>25047.0</td>\n",
       "      <td>0.0</td>\n",
       "      <td>0.000499</td>\n",
       "      <td>1.0</td>\n",
       "      <td>1.0</td>\n",
       "      <td>0.155086</td>\n",
       "      <td>8.0</td>\n",
       "      <td>0.097005</td>\n",
       "      <td>0.585989</td>\n",
       "      <td>0.051692</td>\n",
       "    </tr>\n",
       "    <tr>\n",
       "      <th>4</th>\n",
       "      <td>30036.0</td>\n",
       "      <td>0.0</td>\n",
       "      <td>0.000375</td>\n",
       "      <td>1.0</td>\n",
       "      <td>1.0</td>\n",
       "      <td>0.155086</td>\n",
       "      <td>19.0</td>\n",
       "      <td>0.034505</td>\n",
       "      <td>0.032808</td>\n",
       "      <td>0.000857</td>\n",
       "    </tr>\n",
       "  </tbody>\n",
       "</table>\n",
       "</div>"
      ],
      "text/plain": [
       "   ZipCode  CustomerExpatriate  MonthlySMSTrafficCount  DeviceFlagSmartphone  \\\n",
       "0  39015.0                 0.0                0.001623                   1.0   \n",
       "1      0.0                 0.0                0.001498                   1.0   \n",
       "2      0.0                 1.0                0.001248                   1.0   \n",
       "3  25047.0                 0.0                0.000499                   1.0   \n",
       "4  30036.0                 0.0                0.000375                   1.0   \n",
       "\n",
       "   DeviceFlag4G  DataArpu  Region  MonthlyVoiceTrafficCount  \\\n",
       "0           1.0  0.156221    16.0                  0.018229   \n",
       "1           0.0  0.155086     0.0                  0.051432   \n",
       "2           1.0  0.000000     0.0                  0.058594   \n",
       "3           1.0  0.155086     8.0                  0.097005   \n",
       "4           1.0  0.155086    19.0                  0.034505   \n",
       "\n",
       "   Instant-Messaging-Applications  Unclassified  \n",
       "0                        0.000000      0.000000  \n",
       "1                        0.018201      0.001896  \n",
       "2                        0.336849      0.012055  \n",
       "3                        0.585989      0.051692  \n",
       "4                        0.032808      0.000857  "
      ]
     },
     "execution_count": 33,
     "metadata": {},
     "output_type": "execute_result"
    }
   ],
   "source": [
    "pred = ['ZipCode', 'CustomerExpatriate', 'MonthlySMSTrafficCount',\n",
    "       'DeviceFlagSmartphone', 'DeviceFlag4G', 'DataArpu', 'Region',\n",
    "       'MonthlyVoiceTrafficCount', 'Instant-Messaging-Applications',\n",
    "       'Unclassified']\n",
    "train[pred].head()"
   ]
  },
  {
   "cell_type": "code",
   "execution_count": 34,
   "metadata": {},
   "outputs": [
    {
     "name": "stdout",
     "output_type": "stream",
     "text": [
      "[0]\ttrain-merror:0.393305+0.00141842\ttest-merror:0.414236+0.00432257\n",
      "[1]\ttrain-merror:0.386015+0.00274088\ttest-merror:0.410995+0.0093413\n",
      "[2]\ttrain-merror:0.385936+0.00235752\ttest-merror:0.406082+0.00567963\n",
      "[3]\ttrain-merror:0.381337+0.00270844\ttest-merror:0.403051+0.00343787\n",
      "[4]\ttrain-merror:0.380239+0.00223997\ttest-merror:0.404096+0.00412035\n",
      "[5]\ttrain-merror:0.378828+0.00175527\ttest-merror:0.402842+0.00406006\n",
      "[6]\ttrain-merror:0.377286+0.00127592\ttest-merror:0.40002+0.00560687\n",
      "[7]\ttrain-merror:0.376241+0.00242572\ttest-merror:0.399497+0.00541038\n",
      "[8]\ttrain-merror:0.373915+0.00226597\ttest-merror:0.400438+0.00495115\n",
      "[9]\ttrain-merror:0.37355+0.00240889\ttest-merror:0.399079+0.00484354\n",
      "[10]\ttrain-merror:0.37253+0.00296308\ttest-merror:0.398348+0.00476278\n",
      "[11]\ttrain-merror:0.372243+0.00289317\ttest-merror:0.396571+0.0051284\n",
      "[12]\ttrain-merror:0.37159+0.00237705\ttest-merror:0.39563+0.0046916\n",
      "[13]\ttrain-merror:0.370571+0.00230414\ttest-merror:0.396675+0.00439374\n",
      "[14]\ttrain-merror:0.369447+0.00255423\ttest-merror:0.396675+0.00378453\n",
      "[15]\ttrain-merror:0.369029+0.00242771\ttest-merror:0.396675+0.0045137\n",
      "[16]\ttrain-merror:0.368715+0.00213842\ttest-merror:0.395735+0.00436071\n",
      "[17]\ttrain-merror:0.368245+0.00211809\ttest-merror:0.396676+0.00443035\n",
      "[18]\ttrain-merror:0.367984+0.00206351\ttest-merror:0.397198+0.00391469\n",
      "[19]\ttrain-merror:0.367043+0.00228669\ttest-merror:0.395003+0.00429657\n",
      "[20]\ttrain-merror:0.366259+0.00228609\ttest-merror:0.394898+0.00448853\n",
      "[21]\ttrain-merror:0.365214+0.00171182\ttest-merror:0.393853+0.00473457\n",
      "[22]\ttrain-merror:0.364404+0.00219706\ttest-merror:0.393958+0.00441397\n",
      "[23]\ttrain-merror:0.363332+0.00208278\ttest-merror:0.392704+0.00477587\n",
      "[24]\ttrain-merror:0.363202+0.00198282\ttest-merror:0.393017+0.00588722\n",
      "[25]\ttrain-merror:0.362313+0.00227107\ttest-merror:0.393017+0.00547943\n",
      "[26]\ttrain-merror:0.361007+0.00176438\ttest-merror:0.393017+0.00528238\n",
      "[27]\ttrain-merror:0.360014+0.00198506\ttest-merror:0.392599+0.00598892\n",
      "[28]\ttrain-merror:0.359648+0.00208218\ttest-merror:0.392077+0.00556551\n",
      "[29]\ttrain-merror:0.358838+0.00183042\ttest-merror:0.392286+0.00534481\n",
      "[30]\ttrain-merror:0.357662+0.00216231\ttest-merror:0.392913+0.00494755\n",
      "[31]\ttrain-merror:0.356904+0.00144257\ttest-merror:0.391973+0.00418903\n",
      "[32]\ttrain-merror:0.355179+0.00194207\ttest-merror:0.392181+0.00499303\n",
      "[33]\ttrain-merror:0.354631+0.00178562\ttest-merror:0.390613+0.00446626\n",
      "[34]\ttrain-merror:0.353089+0.00160802\ttest-merror:0.390927+0.00505884\n",
      "[35]\ttrain-merror:0.352252+0.00175811\ttest-merror:0.390508+0.00414568\n",
      "[36]\ttrain-merror:0.35139+0.00186271\ttest-merror:0.39009+0.00360637\n",
      "[37]\ttrain-merror:0.350319+0.00182827\ttest-merror:0.390404+0.0031171\n",
      "[38]\ttrain-merror:0.349613+0.00152116\ttest-merror:0.390508+0.0040739\n",
      "[39]\ttrain-merror:0.348646+0.00194523\ttest-merror:0.39009+0.00363084\n",
      "[40]\ttrain-merror:0.347732+0.00209725\ttest-merror:0.390195+0.00352645\n",
      "[41]\ttrain-merror:0.346922+0.00193544\ttest-merror:0.390718+0.00422747\n",
      "[42]\ttrain-merror:0.345929+0.00185348\ttest-merror:0.389777+0.00439904\n",
      "[43]\ttrain-merror:0.3441+0.00205602\ttest-merror:0.389672+0.00441021\n",
      "[44]\ttrain-merror:0.342767+0.00200283\ttest-merror:0.38915+0.00489169\n",
      "[45]\ttrain-merror:0.341695+0.00176631\ttest-merror:0.389567+0.0048768\n",
      "[46]\ttrain-merror:0.34031+0.00126021\ttest-merror:0.389881+0.00471309\n",
      "[47]\ttrain-merror:0.339396+0.00154674\ttest-merror:0.389254+0.00499118\n",
      "[48]\ttrain-merror:0.338716+0.0017506\ttest-merror:0.389881+0.00450936\n",
      "[49]\ttrain-merror:0.33775+0.00124614\ttest-merror:0.389881+0.00446068\n",
      "[50]\ttrain-merror:0.336861+0.00183602\ttest-merror:0.389045+0.00364814\n",
      "[51]\ttrain-merror:0.335816+0.00212951\ttest-merror:0.389568+0.00441004\n",
      "[52]\ttrain-merror:0.334692+0.00207066\ttest-merror:0.388523+0.00410949\n",
      "[53]\ttrain-merror:0.333777+0.00225799\ttest-merror:0.388209+0.00439164\n",
      "[54]\ttrain-merror:0.332967+0.00264027\ttest-merror:0.388627+0.00555413\n",
      "[55]\ttrain-merror:0.332236+0.0026494\ttest-merror:0.388418+0.00501546\n",
      "[56]\ttrain-merror:0.331243+0.00260068\ttest-merror:0.388418+0.00413761\n",
      "[57]\ttrain-merror:0.330224+0.00243495\ttest-merror:0.388+0.00589944\n",
      "[58]\ttrain-merror:0.32991+0.00252585\ttest-merror:0.388522+0.00621041\n",
      "[59]\ttrain-merror:0.328525+0.00258856\ttest-merror:0.386954+0.00637207\n",
      "[60]\ttrain-merror:0.327401+0.00247977\ttest-merror:0.387373+0.00651336\n",
      "[61]\ttrain-merror:0.326147+0.00235869\ttest-merror:0.387373+0.00649779\n",
      "[62]\ttrain-merror:0.325285+0.0027355\ttest-merror:0.386537+0.00642063\n",
      "[63]\ttrain-merror:0.324684+0.00286259\ttest-merror:0.386745+0.00637081\n",
      "[64]\ttrain-merror:0.323952+0.00287857\ttest-merror:0.386641+0.00662197\n",
      "[65]\ttrain-merror:0.322515+0.00309327\ttest-merror:0.386641+0.00714199\n",
      "[66]\ttrain-merror:0.321365+0.00296703\ttest-merror:0.385909+0.00711126\n",
      "[67]\ttrain-merror:0.320398+0.00299404\ttest-merror:0.385595+0.00669487\n",
      "[68]\ttrain-merror:0.319483+0.0028378\ttest-merror:0.385386+0.00701984\n",
      "[69]\ttrain-merror:0.318908+0.00280791\ttest-merror:0.385387+0.00642483\n",
      "[70]\ttrain-merror:0.317759+0.00305274\ttest-merror:0.385805+0.00604952\n",
      "[71]\ttrain-merror:0.317315+0.00288739\ttest-merror:0.385387+0.00560916\n",
      "[72]\ttrain-merror:0.315956+0.00274667\ttest-merror:0.385491+0.00609888\n",
      "[73]\ttrain-merror:0.315329+0.00328085\ttest-merror:0.385387+0.00537526\n",
      "[74]\ttrain-merror:0.31491+0.00333195\ttest-merror:0.385178+0.0057909\n",
      "[75]\ttrain-merror:0.314231+0.00293467\ttest-merror:0.3857+0.00551678\n",
      "[76]\ttrain-merror:0.313473+0.00300036\ttest-merror:0.385805+0.0057571\n",
      "[77]\ttrain-merror:0.312872+0.00334369\ttest-merror:0.385909+0.00644563\n",
      "[78]\ttrain-merror:0.312114+0.00349718\ttest-merror:0.385909+0.00595812\n",
      "[79]\ttrain-merror:0.310964+0.00337843\ttest-merror:0.385282+0.00601306\n",
      "[80]\ttrain-merror:0.309815+0.00356288\ttest-merror:0.385491+0.00653949\n",
      "[81]\ttrain-merror:0.309213+0.00323175\ttest-merror:0.385386+0.00567072\n",
      "[82]\ttrain-merror:0.308404+0.00297034\ttest-merror:0.385282+0.00594729\n",
      "[83]\ttrain-merror:0.30728+0.0027505\ttest-merror:0.385073+0.0061212\n",
      "[84]\ttrain-merror:0.30681+0.00311587\ttest-merror:0.385177+0.00674566\n",
      "[85]\ttrain-merror:0.305189+0.00370835\ttest-merror:0.384759+0.00686437\n",
      "[86]\ttrain-merror:0.304667+0.00346732\ttest-merror:0.384969+0.0059255\n",
      "[87]\ttrain-merror:0.304379+0.0032028\ttest-merror:0.384864+0.00522663\n",
      "[88]\ttrain-merror:0.304014+0.00315739\ttest-merror:0.385178+0.00593774\n",
      "[89]\ttrain-merror:0.303387+0.00309615\ttest-merror:0.384655+0.00600547\n",
      "[90]\ttrain-merror:0.301976+0.00276842\ttest-merror:0.384968+0.00730602\n",
      "[91]\ttrain-merror:0.301035+0.00280321\ttest-merror:0.384655+0.0068288\n",
      "[92]\ttrain-merror:0.29978+0.00314806\ttest-merror:0.383819+0.00619053\n",
      "[93]\ttrain-merror:0.299205+0.00329349\ttest-merror:0.384028+0.00636958\n",
      "[94]\ttrain-merror:0.298709+0.0036746\ttest-merror:0.384132+0.00630062\n",
      "[95]\ttrain-merror:0.297821+0.00324515\ttest-merror:0.38361+0.00593066\n",
      "[96]\ttrain-merror:0.297638+0.00315773\ttest-merror:0.382564+0.0062275\n"
     ]
    },
    {
     "name": "stderr",
     "output_type": "stream",
     "text": [
      "C:\\Users\\giano\\Anaconda3\\envs\\voda\\lib\\site-packages\\sklearn\\preprocessing\\label.py:151: DeprecationWarning: The truth value of an empty array is ambiguous. Returning False, but in future this will result in an error. Use `array.size > 0` to check that an array is not empty.\n",
      "  if diff:\n"
     ]
    },
    {
     "name": "stdout",
     "output_type": "stream",
     "text": [
      "\n",
      "Model Report\n",
      "Accuracy : 0.6914\n",
      "F1_score : 0.691439\n"
     ]
    },
    {
     "data": {
      "image/png": "[encoded data removed]",
      "text/plain": [
       "<Figure size 432x288 with 1 Axes>"
      ]
     },
     "metadata": {},
     "output_type": "display_data"
    },
    {
     "name": "stdout",
     "output_type": "stream",
     "text": [
      "Feature_Importances: \n",
      "Index(['DeviceFlag4G', 'MonthlySMSTrafficCount', 'CustomerExpatriate',\n",
      "       'ZipCode', 'DeviceFlagSmartphone', 'DataArpu',\n",
      "       'Instant-Messaging-Applications', 'Network-Operation',\n",
      "       'MonthlyVoiceTrafficCount', 'Games'],\n",
      "      dtype='object')\n",
      "Model: {'base_score': 0.5, 'booster': 'gbtree', 'colsample_bylevel': 1, 'colsample_bytree': 0.8, 'gamma': 0.3, 'learning_rate': 0.1, 'max_delta_step': 0, 'max_depth': 4, 'min_child_weight': 4, 'missing': None, 'n_estimators': 97, 'nthread': 4, 'objective': 'multi:softprob', 'reg_alpha': 0.01, 'reg_lambda': 1, 'scale_pos_weight': 1, 'seed': 27, 'silent': 1, 'subsample': 0.8, 'num_class': 4}\n",
      "n_estimator: 97\n"
     ]
    }
   ],
   "source": [
    "xgb4 = XGBClassifier(\n",
    "        learning_rate =0.1,\n",
    "        n_estimators=n_estimators,\n",
    "        max_depth=max_depth,\n",
    "        min_child_weight=min_child_weight,\n",
    "        gamma=gamma,\n",
    "        subsample=subsample,\n",
    "        colsample_bytree=colsample_bytree,\n",
    "        reg_alpha=reg_alpha,\n",
    "        objective='multi:softprob', \n",
    "        num_class=4,\n",
    "        nthread=4,\n",
    "        scale_pos_weight=1,\n",
    "        seed=27)\n",
    "n_estimators = modelfit(xgb4, train, predictors)"
   ]
  },
  {
   "cell_type": "code",
   "execution_count": 35,
   "metadata": {},
   "outputs": [
    {
     "name": "stdout",
     "output_type": "stream",
     "text": [
      "F1 score on unseen data: 47.053%\n"
     ]
    },
    {
     "name": "stderr",
     "output_type": "stream",
     "text": [
      "C:\\Users\\giano\\Anaconda3\\envs\\voda\\lib\\site-packages\\sklearn\\preprocessing\\label.py:151: DeprecationWarning: The truth value of an empty array is ambiguous. Returning False, but in future this will result in an error. Use `array.size > 0` to check that an array is not empty.\n",
      "  if diff:\n"
     ]
    }
   ],
   "source": [
    "# X_train, X_test, y_train, y_test = train_test_split(train[predictors], train[target], test_size=0.33, random_state=7)\n",
    "# eval_set = [(X_test, y_test)]\n",
    "xgb4.fit(train[pred],\n",
    "      train[target],\n",
    "      eval_metric=\"merror\",\n",
    "      verbose=True)\n",
    "\n",
    "y_pred_new_data = xgb4.predict(test[pred])\n",
    "predictions = [round(value) for value in y_pred_new_data]\n",
    "\n",
    "print(\"F1 score on unseen data: %.3f%%\" % (f1_score(train[target][0:3190], y_pred_new_data, average='micro')*100))"
   ]
  },
  {
   "cell_type": "code",
   "execution_count": 36,
   "metadata": {},
   "outputs": [
    {
     "data": {
      "text/plain": [
       "(           Product\n",
       " count  3190.000000\n",
       " mean      0.428840\n",
       " std       0.953833\n",
       " min       0.000000\n",
       " 25%       0.000000\n",
       " 50%       0.000000\n",
       " 75%       0.000000\n",
       " max       3.000000,            Product\n",
       " count  3190.000000\n",
       " mean      0.428840\n",
       " std       0.953833\n",
       " min       0.000000\n",
       " 25%       0.000000\n",
       " 50%       0.000000\n",
       " 75%       0.000000\n",
       " max       3.000000)"
      ]
     },
     "execution_count": 36,
     "metadata": {},
     "output_type": "execute_result"
    }
   ],
   "source": [
    "pd.DataFrame({'Product': y_pred_new_data}).describe(),pd.DataFrame({'Product': predictions}).describe()"
   ]
  },
  {
   "cell_type": "code",
   "execution_count": 37,
   "metadata": {},
   "outputs": [
    {
     "data": {
      "text/html": [
       "<div>\n",
       "<style scoped>\n",
       "    .dataframe tbody tr th:only-of-type {\n",
       "        vertical-align: middle;\n",
       "    }\n",
       "\n",
       "    .dataframe tbody tr th {\n",
       "        vertical-align: top;\n",
       "    }\n",
       "\n",
       "    .dataframe thead th {\n",
       "        text-align: right;\n",
       "    }\n",
       "</style>\n",
       "<table border=\"1\" class=\"dataframe\">\n",
       "  <thead>\n",
       "    <tr style=\"text-align: right;\">\n",
       "      <th></th>\n",
       "      <th>ID</th>\n",
       "      <th>Product</th>\n",
       "    </tr>\n",
       "  </thead>\n",
       "  <tbody>\n",
       "    <tr>\n",
       "      <th>0</th>\n",
       "      <td>271</td>\n",
       "      <td>Non-Customer</td>\n",
       "    </tr>\n",
       "    <tr>\n",
       "      <th>1</th>\n",
       "      <td>6929</td>\n",
       "      <td>Non-Customer</td>\n",
       "    </tr>\n",
       "    <tr>\n",
       "      <th>2</th>\n",
       "      <td>7381</td>\n",
       "      <td>Non-Customer</td>\n",
       "    </tr>\n",
       "    <tr>\n",
       "      <th>3</th>\n",
       "      <td>4408</td>\n",
       "      <td>V-Pet</td>\n",
       "    </tr>\n",
       "    <tr>\n",
       "      <th>4</th>\n",
       "      <td>5440</td>\n",
       "      <td>Non-Customer</td>\n",
       "    </tr>\n",
       "    <tr>\n",
       "      <th>5</th>\n",
       "      <td>4190</td>\n",
       "      <td>V-Auto</td>\n",
       "    </tr>\n",
       "    <tr>\n",
       "      <th>6</th>\n",
       "      <td>6524</td>\n",
       "      <td>Non-Customer</td>\n",
       "    </tr>\n",
       "    <tr>\n",
       "      <th>7</th>\n",
       "      <td>8562</td>\n",
       "      <td>Non-Customer</td>\n",
       "    </tr>\n",
       "    <tr>\n",
       "      <th>8</th>\n",
       "      <td>266</td>\n",
       "      <td>Non-Customer</td>\n",
       "    </tr>\n",
       "    <tr>\n",
       "      <th>9</th>\n",
       "      <td>12098</td>\n",
       "      <td>Non-Customer</td>\n",
       "    </tr>\n",
       "    <tr>\n",
       "      <th>10</th>\n",
       "      <td>2273</td>\n",
       "      <td>Non-Customer</td>\n",
       "    </tr>\n",
       "    <tr>\n",
       "      <th>11</th>\n",
       "      <td>9485</td>\n",
       "      <td>Non-Customer</td>\n",
       "    </tr>\n",
       "    <tr>\n",
       "      <th>12</th>\n",
       "      <td>6208</td>\n",
       "      <td>Non-Customer</td>\n",
       "    </tr>\n",
       "    <tr>\n",
       "      <th>13</th>\n",
       "      <td>619</td>\n",
       "      <td>Non-Customer</td>\n",
       "    </tr>\n",
       "    <tr>\n",
       "      <th>14</th>\n",
       "      <td>9429</td>\n",
       "      <td>Non-Customer</td>\n",
       "    </tr>\n",
       "    <tr>\n",
       "      <th>15</th>\n",
       "      <td>2975</td>\n",
       "      <td>Non-Customer</td>\n",
       "    </tr>\n",
       "    <tr>\n",
       "      <th>16</th>\n",
       "      <td>1215</td>\n",
       "      <td>Non-Customer</td>\n",
       "    </tr>\n",
       "    <tr>\n",
       "      <th>17</th>\n",
       "      <td>9513</td>\n",
       "      <td>V-Auto</td>\n",
       "    </tr>\n",
       "    <tr>\n",
       "      <th>18</th>\n",
       "      <td>494</td>\n",
       "      <td>Non-Customer</td>\n",
       "    </tr>\n",
       "    <tr>\n",
       "      <th>19</th>\n",
       "      <td>12391</td>\n",
       "      <td>Non-Customer</td>\n",
       "    </tr>\n",
       "    <tr>\n",
       "      <th>20</th>\n",
       "      <td>2882</td>\n",
       "      <td>V-Auto</td>\n",
       "    </tr>\n",
       "    <tr>\n",
       "      <th>21</th>\n",
       "      <td>9</td>\n",
       "      <td>Non-Customer</td>\n",
       "    </tr>\n",
       "    <tr>\n",
       "      <th>22</th>\n",
       "      <td>10301</td>\n",
       "      <td>V-Pet</td>\n",
       "    </tr>\n",
       "    <tr>\n",
       "      <th>23</th>\n",
       "      <td>8893</td>\n",
       "      <td>V-Pet</td>\n",
       "    </tr>\n",
       "    <tr>\n",
       "      <th>24</th>\n",
       "      <td>12587</td>\n",
       "      <td>Non-Customer</td>\n",
       "    </tr>\n",
       "    <tr>\n",
       "      <th>25</th>\n",
       "      <td>12685</td>\n",
       "      <td>Non-Customer</td>\n",
       "    </tr>\n",
       "    <tr>\n",
       "      <th>26</th>\n",
       "      <td>10209</td>\n",
       "      <td>Non-Customer</td>\n",
       "    </tr>\n",
       "    <tr>\n",
       "      <th>27</th>\n",
       "      <td>12192</td>\n",
       "      <td>Non-Customer</td>\n",
       "    </tr>\n",
       "    <tr>\n",
       "      <th>28</th>\n",
       "      <td>4074</td>\n",
       "      <td>Non-Customer</td>\n",
       "    </tr>\n",
       "    <tr>\n",
       "      <th>29</th>\n",
       "      <td>4728</td>\n",
       "      <td>Non-Customer</td>\n",
       "    </tr>\n",
       "    <tr>\n",
       "      <th>...</th>\n",
       "      <td>...</td>\n",
       "      <td>...</td>\n",
       "    </tr>\n",
       "    <tr>\n",
       "      <th>3160</th>\n",
       "      <td>10883</td>\n",
       "      <td>Non-Customer</td>\n",
       "    </tr>\n",
       "    <tr>\n",
       "      <th>3161</th>\n",
       "      <td>4272</td>\n",
       "      <td>Non-Customer</td>\n",
       "    </tr>\n",
       "    <tr>\n",
       "      <th>3162</th>\n",
       "      <td>3106</td>\n",
       "      <td>Non-Customer</td>\n",
       "    </tr>\n",
       "    <tr>\n",
       "      <th>3163</th>\n",
       "      <td>8798</td>\n",
       "      <td>Non-Customer</td>\n",
       "    </tr>\n",
       "    <tr>\n",
       "      <th>3164</th>\n",
       "      <td>4265</td>\n",
       "      <td>Non-Customer</td>\n",
       "    </tr>\n",
       "    <tr>\n",
       "      <th>3165</th>\n",
       "      <td>8388</td>\n",
       "      <td>Non-Customer</td>\n",
       "    </tr>\n",
       "    <tr>\n",
       "      <th>3166</th>\n",
       "      <td>12326</td>\n",
       "      <td>Non-Customer</td>\n",
       "    </tr>\n",
       "    <tr>\n",
       "      <th>3167</th>\n",
       "      <td>49</td>\n",
       "      <td>V-Pet</td>\n",
       "    </tr>\n",
       "    <tr>\n",
       "      <th>3168</th>\n",
       "      <td>8573</td>\n",
       "      <td>Non-Customer</td>\n",
       "    </tr>\n",
       "    <tr>\n",
       "      <th>3169</th>\n",
       "      <td>5777</td>\n",
       "      <td>Non-Customer</td>\n",
       "    </tr>\n",
       "    <tr>\n",
       "      <th>3170</th>\n",
       "      <td>9987</td>\n",
       "      <td>Non-Customer</td>\n",
       "    </tr>\n",
       "    <tr>\n",
       "      <th>3171</th>\n",
       "      <td>3925</td>\n",
       "      <td>Non-Customer</td>\n",
       "    </tr>\n",
       "    <tr>\n",
       "      <th>3172</th>\n",
       "      <td>5542</td>\n",
       "      <td>V-Pet</td>\n",
       "    </tr>\n",
       "    <tr>\n",
       "      <th>3173</th>\n",
       "      <td>6800</td>\n",
       "      <td>V-Auto</td>\n",
       "    </tr>\n",
       "    <tr>\n",
       "      <th>3174</th>\n",
       "      <td>5265</td>\n",
       "      <td>V-Auto</td>\n",
       "    </tr>\n",
       "    <tr>\n",
       "      <th>3175</th>\n",
       "      <td>5703</td>\n",
       "      <td>Non-Customer</td>\n",
       "    </tr>\n",
       "    <tr>\n",
       "      <th>3176</th>\n",
       "      <td>7017</td>\n",
       "      <td>Non-Customer</td>\n",
       "    </tr>\n",
       "    <tr>\n",
       "      <th>3177</th>\n",
       "      <td>12678</td>\n",
       "      <td>Non-Customer</td>\n",
       "    </tr>\n",
       "    <tr>\n",
       "      <th>3178</th>\n",
       "      <td>3512</td>\n",
       "      <td>V-Auto</td>\n",
       "    </tr>\n",
       "    <tr>\n",
       "      <th>3179</th>\n",
       "      <td>11680</td>\n",
       "      <td>Non-Customer</td>\n",
       "    </tr>\n",
       "    <tr>\n",
       "      <th>3180</th>\n",
       "      <td>9575</td>\n",
       "      <td>V-Pet</td>\n",
       "    </tr>\n",
       "    <tr>\n",
       "      <th>3181</th>\n",
       "      <td>7660</td>\n",
       "      <td>Non-Customer</td>\n",
       "    </tr>\n",
       "    <tr>\n",
       "      <th>3182</th>\n",
       "      <td>6476</td>\n",
       "      <td>Non-Customer</td>\n",
       "    </tr>\n",
       "    <tr>\n",
       "      <th>3183</th>\n",
       "      <td>2022</td>\n",
       "      <td>Non-Customer</td>\n",
       "    </tr>\n",
       "    <tr>\n",
       "      <th>3184</th>\n",
       "      <td>3817</td>\n",
       "      <td>Non-Customer</td>\n",
       "    </tr>\n",
       "    <tr>\n",
       "      <th>3185</th>\n",
       "      <td>7301</td>\n",
       "      <td>Non-Customer</td>\n",
       "    </tr>\n",
       "    <tr>\n",
       "      <th>3186</th>\n",
       "      <td>383</td>\n",
       "      <td>Non-Customer</td>\n",
       "    </tr>\n",
       "    <tr>\n",
       "      <th>3187</th>\n",
       "      <td>9569</td>\n",
       "      <td>Non-Customer</td>\n",
       "    </tr>\n",
       "    <tr>\n",
       "      <th>3188</th>\n",
       "      <td>5218</td>\n",
       "      <td>Non-Customer</td>\n",
       "    </tr>\n",
       "    <tr>\n",
       "      <th>3189</th>\n",
       "      <td>10462</td>\n",
       "      <td>V-Bag</td>\n",
       "    </tr>\n",
       "  </tbody>\n",
       "</table>\n",
       "<p>3190 rows × 2 columns</p>\n",
       "</div>"
      ],
      "text/plain": [
       "         ID       Product\n",
       "0       271  Non-Customer\n",
       "1      6929  Non-Customer\n",
       "2      7381  Non-Customer\n",
       "3      4408         V-Pet\n",
       "4      5440  Non-Customer\n",
       "5      4190        V-Auto\n",
       "6      6524  Non-Customer\n",
       "7      8562  Non-Customer\n",
       "8       266  Non-Customer\n",
       "9     12098  Non-Customer\n",
       "10     2273  Non-Customer\n",
       "11     9485  Non-Customer\n",
       "12     6208  Non-Customer\n",
       "13      619  Non-Customer\n",
       "14     9429  Non-Customer\n",
       "15     2975  Non-Customer\n",
       "16     1215  Non-Customer\n",
       "17     9513        V-Auto\n",
       "18      494  Non-Customer\n",
       "19    12391  Non-Customer\n",
       "20     2882        V-Auto\n",
       "21        9  Non-Customer\n",
       "22    10301         V-Pet\n",
       "23     8893         V-Pet\n",
       "24    12587  Non-Customer\n",
       "25    12685  Non-Customer\n",
       "26    10209  Non-Customer\n",
       "27    12192  Non-Customer\n",
       "28     4074  Non-Customer\n",
       "29     4728  Non-Customer\n",
       "...     ...           ...\n",
       "3160  10883  Non-Customer\n",
       "3161   4272  Non-Customer\n",
       "3162   3106  Non-Customer\n",
       "3163   8798  Non-Customer\n",
       "3164   4265  Non-Customer\n",
       "3165   8388  Non-Customer\n",
       "3166  12326  Non-Customer\n",
       "3167     49         V-Pet\n",
       "3168   8573  Non-Customer\n",
       "3169   5777  Non-Customer\n",
       "3170   9987  Non-Customer\n",
       "3171   3925  Non-Customer\n",
       "3172   5542         V-Pet\n",
       "3173   6800        V-Auto\n",
       "3174   5265        V-Auto\n",
       "3175   5703  Non-Customer\n",
       "3176   7017  Non-Customer\n",
       "3177  12678  Non-Customer\n",
       "3178   3512        V-Auto\n",
       "3179  11680  Non-Customer\n",
       "3180   9575         V-Pet\n",
       "3181   7660  Non-Customer\n",
       "3182   6476  Non-Customer\n",
       "3183   2022  Non-Customer\n",
       "3184   3817  Non-Customer\n",
       "3185   7301  Non-Customer\n",
       "3186    383  Non-Customer\n",
       "3187   9569  Non-Customer\n",
       "3188   5218  Non-Customer\n",
       "3189  10462         V-Bag\n",
       "\n",
       "[3190 rows x 2 columns]"
      ]
     },
     "execution_count": 37,
     "metadata": {},
     "output_type": "execute_result"
    }
   ],
   "source": [
    "y = pd.DataFrame({'Product': y_pred_new_data})\n",
    "submit = test['ID']\n",
    "submit = pd.DataFrame({'ID': submit})\n",
    "\n",
    "pred = y\n",
    "pred = pd.DataFrame({'Product': y_pred_new_data})\n",
    "\n",
    "product = []\n",
    "product = pred.Product\n",
    "product.replace({ \n",
    "    int(0) : 'Non-Customer', \n",
    "    int(1) : 'V-Bag', \n",
    "    int(2) : 'V-Pet', \n",
    "    int(3) : 'V-Auto'},\n",
    "    inplace=True)\n",
    "\n",
    "submit = submit.join(product)\n",
    "submit"
   ]
  },
  {
   "cell_type": "code",
   "execution_count": 38,
   "metadata": {},
   "outputs": [
    {
     "data": {
      "text/plain": [
       "count             3190\n",
       "unique               4\n",
       "top       Non-Customer\n",
       "freq              2624\n",
       "Name: Product, dtype: object"
      ]
     },
     "execution_count": 38,
     "metadata": {},
     "output_type": "execute_result"
    }
   ],
   "source": [
    "submit.Product.describe()"
   ]
  },
  {
   "cell_type": "code",
   "execution_count": 39,
   "metadata": {},
   "outputs": [],
   "source": [
    "submit.to_csv('resultxgb.csv', index = False, encoding='utf-8')"
   ]
  },
  {
   "cell_type": "code",
   "execution_count": null,
   "metadata": {},
   "outputs": [],
   "source": []
  },
  {
   "cell_type": "code",
   "execution_count": null,
   "metadata": {},
   "outputs": [],
   "source": []
  },
  {
   "cell_type": "code",
   "execution_count": 40,
   "metadata": {},
   "outputs": [],
   "source": [
    "# predictors = [x for x in train.columns if x not in [target]]\n",
    "# # split data into X and y\n",
    "# X = train[predictors]\n",
    "# Y = train[target]\n",
    "# # split data into train and test sets\n",
    "# X_train, X_test, y_train, y_test = train_test_split(X, Y, test_size=0.33, random_state=7)\n",
    "# # fit model on all training data\n",
    "# model = XGBClassifier(\n",
    "#         objective='multi:softprob', \n",
    "#         num_class=4)\n",
    "# model.fit(X_train, y_train)\n",
    "# # make predictions for test data and evaluate\n",
    "# y_pred = model.predict(X_test)\n",
    "# predictions = [round(value) for value in y_pred]\n",
    "# accuracy = accuracy_score(y_test, predictions)\n",
    "# print(\"Accuracy: %.2f%%\" % (accuracy * 100.0))\n",
    "# # Fit model using each importance as a threshold\n",
    "# thresholds = sort(model.feature_importances_)\n",
    "# for thresh in thresholds:\n",
    "#     # select features using threshold\n",
    "#     selection = SelectFromModel(model, threshold=thresh, prefit=True)\n",
    "#     select_X_train = selection.transform(X_train)\n",
    "#     # train model\n",
    "#     selection_model = XGBClassifier(objective='multi:softprob', \n",
    "#         num_class=4)\n",
    "#     selection_model.fit(select_X_train, y_train)\n",
    "#     # eval model\n",
    "#     select_X_test = selection.transform(X_test)\n",
    "#     y_pred = selection_model.predict(select_X_test)\n",
    "#     predictions = [round(value) for value in y_pred]\n",
    "#     accuracy = accuracy_score(y_test, predictions)\n",
    "#     print(\"Thresh=%.3f, n=%d, Accuracy: %.2f%%\" % (thresh, select_X_train.shape[1], accuracy*100.0))"
   ]
  },
  {
   "cell_type": "code",
   "execution_count": 41,
   "metadata": {},
   "outputs": [],
   "source": [
    "# thresholds = model.feature_importances_\n",
    "# thresholds\n",
    "\n",
    "# thresholds.argsort()[-10:][::-1]\n",
    "# train.columns[thresholds.argsort()[-10:][::-1]]"
   ]
  },
  {
   "cell_type": "code",
   "execution_count": null,
   "metadata": {},
   "outputs": [],
   "source": []
  },
  {
   "cell_type": "code",
   "execution_count": null,
   "metadata": {},
   "outputs": [],
   "source": []
  }
 ],
 "metadata": {
  "kernelspec": {
   "display_name": "Python 3",
   "language": "python",
   "name": "python3"
  },
  "language_info": {
   "codemirror_mode": {
    "name": "ipython",
    "version": 3
   },
   "file_extension": ".py",
   "mimetype": "text/x-python",
   "name": "python",
   "nbconvert_exporter": "python",
   "pygments_lexer": "ipython3",
   "version": "3.6.5"
  }
 },
 "nbformat": 4,
 "nbformat_minor": 2
}
