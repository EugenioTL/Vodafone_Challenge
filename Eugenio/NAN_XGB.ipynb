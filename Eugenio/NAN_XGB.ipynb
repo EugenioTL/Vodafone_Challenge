{
 "cells": [
  {
   "cell_type": "markdown",
   "metadata": {},
   "source": [
    "# Vodafone challenge"
   ]
  },
  {
   "cell_type": "code",
   "execution_count": 1,
   "metadata": {},
   "outputs": [],
   "source": [
    "# Import useful libraries\n",
    "import pandas as pd\n",
    "import numpy as np\n",
    "import matplotlib.pyplot as plt\n",
    "\n",
    "# Ignore warnings\n",
    "import warnings\n",
    "warnings.simplefilter('ignore')\n",
    "\n",
    "# Import evaluation libraries\n",
    "from sklearn.metrics import f1_score\n",
    "from sklearn.model_selection import KFold, StratifiedKFold, GridSearchCV, cross_val_score\n",
    "from sklearn.feature_selection import SelectKBest, chi2\n",
    "from sklearn.preprocessing import MinMaxScaler, StandardScaler\n",
    "\n",
    "# Import model libraries\n",
    "from xgboost import XGBClassifier\n",
    "\n",
    "\n",
    "# Random seed for reproducibility\n",
    "seed = 202\n",
    "np.random.seed(seed)"
   ]
  },
  {
   "cell_type": "code",
   "execution_count": 2,
   "metadata": {},
   "outputs": [],
   "source": [
    "# Import the train set and test set\n",
    "train_data = pd.read_csv(\"nan_final_train.csv\", delimiter=\",\")\n",
    "test_data = pd.read_csv(\"nan_final_test.csv\", delimiter=\",\")\n",
    "\n",
    "# Drop the ID column\n",
    "train_data = train_data.drop('ID', axis=1)\n",
    "\n",
    "# Sort the dataset\n",
    "train_data = train_data.iloc[np.random.permutation(len(train_data))]\n",
    "train_data = train_data.reset_index(drop=True)"
   ]
  },
  {
   "cell_type": "code",
   "execution_count": 3,
   "metadata": {},
   "outputs": [],
   "source": [
    "array = np.asarray(train_data.dropna())\n",
    "\n",
    "# X,Y are the splits between features and labels used to evaluate SelectKBest\n",
    "X = array[:,0:train_data.shape[1]-1]\n",
    "X = np.asarray(X)\n",
    "Y = array[:,train_data.shape[1]-1]\n",
    "Y = np.asarray(Y)\n",
    "\n",
    "# Evaluate the features with a chi2 test by using SelectKBest\n",
    "# It must be at most max_feature_number - 1\n",
    "feature_number = 27\n",
    "\n",
    "chi2_test = SelectKBest(score_func=chi2, k=feature_number)\n",
    "fit = chi2_test.fit(X,Y)"
   ]
  },
  {
   "cell_type": "code",
   "execution_count": 4,
   "metadata": {},
   "outputs": [
    {
     "data": {
      "text/plain": [
       "Index(['DeviceFlag4G', 'DataArpu', 'DataAllowanceContinuous',\n",
       "       'MonthlyVoiceTrafficCount', 'MonthlySMSTrafficCount',\n",
       "       'MonthlyDataTraffic', 'CustomerGender', 'CustomerExpatriate', 'ZipCode',\n",
       "       'ChurnScore', 'AirportConnectionsDuration', 'AirportConnectionsCount',\n",
       "       'StationConnectionsDuration', 'StationConnectionsCount',\n",
       "       'ParkingConnectionsDuration', 'ParkingConnectionsCount',\n",
       "       'File-Transfer', 'Mail', 'Music-Streaming', 'P2P-Applications',\n",
       "       'Security', 'Streaming-Applications', 'Terminals', 'Web-Applications',\n",
       "       'CustomerAge', 'Region', 'Province'],\n",
       "      dtype='object')"
      ]
     },
     "execution_count": 4,
     "metadata": {},
     "output_type": "execute_result"
    }
   ],
   "source": [
    "train_data.columns[chi2_test.get_support(indices=True)]"
   ]
  },
  {
   "cell_type": "code",
   "execution_count": 5,
   "metadata": {},
   "outputs": [],
   "source": [
    "def MinMaxScaler_Column(column):\n",
    "    return (column - column.min())/(column.max()-column.min())"
   ]
  },
  {
   "cell_type": "code",
   "execution_count": 6,
   "metadata": {},
   "outputs": [],
   "source": [
    "def features_labels_split(data):\n",
    "    \n",
    "    features = data[['DeviceFlag4G', 'DataArpu', 'DataAllowanceContinuous',\n",
    "       'MonthlyVoiceTrafficCount', 'MonthlySMSTrafficCount',\n",
    "       'MonthlyDataTraffic', 'CustomerGender', 'CustomerExpatriate', 'ZipCode',\n",
    "       'ChurnScore', 'AirportConnectionsDuration', 'AirportConnectionsCount',\n",
    "       'StationConnectionsDuration', 'StationConnectionsCount',\n",
    "       'ParkingConnectionsDuration', 'ParkingConnectionsCount',\n",
    "       'File-Transfer', 'Mail', 'Music-Streaming', 'P2P-Applications',\n",
    "       'Security', 'Streaming-Applications', 'Terminals', 'Web-Applications',\n",
    "       'CustomerAge', 'Region', 'Province']]\n",
    "    \n",
    "    data['Region'] = MinMaxScaler_Column(data['Region'])\n",
    "    data['Province'] = MinMaxScaler_Column(data['Province'])\n",
    "    data['CustomerAge'] = MinMaxScaler_Column(data['CustomerAge'])\n",
    "    data['ZipCode'] = MinMaxScaler_Column(data['ZipCode'])\n",
    "    \n",
    "    labels = data['Product']\n",
    "    return features, labels"
   ]
  },
  {
   "cell_type": "code",
   "execution_count": 7,
   "metadata": {},
   "outputs": [],
   "source": [
    "def train_test_validation_split(features, labels, val_samples, test_samples):\n",
    "\n",
    "    features = np.asarray(features)\n",
    "    labels = np.asarray(labels)\n",
    "    \n",
    "    X_test = features[0:test_samples]\n",
    "    y_test = labels[0:test_samples]\n",
    "\n",
    "    X_val = features[test_samples:test_samples + val_samples]\n",
    "    y_val = labels[test_samples:test_samples + val_samples]\n",
    "\n",
    "    X_train = features[test_samples + val_samples:]\n",
    "    y_train = labels[test_samples + val_samples:]\n",
    "\n",
    "    return X_train, X_test, X_val, y_train, y_test, y_val"
   ]
  },
  {
   "cell_type": "markdown",
   "metadata": {},
   "source": [
    "## Computing best features\n",
    "Before starting the tuning phase, we chose the best number of features for each classifier and we plotted the best (mean) performances that we could observe performing a complete exploration of all the possibilities."
   ]
  },
  {
   "cell_type": "code",
   "execution_count": 8,
   "metadata": {},
   "outputs": [
    {
     "name": "stdout",
     "output_type": "stream",
     "text": [
      "(6160, 27) (6160,)\n",
      "(5210, 27) (950, 27) (0, 27) (5210,) (950,) (0,)\n"
     ]
    }
   ],
   "source": [
    "train_feat, train_label = features_labels_split(train_data.dropna())\n",
    "\n",
    "num_val_samples = 0\n",
    "num_test_samples = 950\n",
    "X_train, X_test, X_val, y_train, y_test, y_val = train_test_validation_split(train_feat, train_label, num_val_samples, num_test_samples)\n",
    "\n",
    "print(train_feat.shape, train_label.shape)\n",
    "print(X_train.shape, X_test.shape, X_val.shape, y_train.shape, y_test.shape, y_val.shape)"
   ]
  },
  {
   "cell_type": "code",
   "execution_count": 24,
   "metadata": {},
   "outputs": [
    {
     "name": "stdout",
     "output_type": "stream",
     "text": [
      "Model: XGB, Avg_Score: 0.683, Num_Feat: 27\n"
     ]
    },
    {
     "data": {
      "image/png": "[encoded data removed]",
      "text/plain": [
       "<Figure size 1440x720 with 1 Axes>"
      ]
     },
     "metadata": {},
     "output_type": "display_data"
    }
   ],
   "source": [
    "xgb = XGBClassifier(n_jobs=-1, objective='multi:softprob', random_state=seed)\n",
    "\n",
    "models = []\n",
    "models.append(('XGB', xgb, 'Cyan'))\n",
    "\n",
    "\n",
    "feat_range = X_train.shape[1]\n",
    "\n",
    "n = ['XGB']\n",
    "n_number = np.arange(2,feat_range,1)\n",
    "# Transforming the lists into array for plotting\n",
    "plt.figure(figsize=(20, 10))\n",
    "plt.title('Feature Selection')\n",
    "plt.xlabel(\"Number of K-Best Features\")\n",
    "plt.ylabel(\"F1 - Score\")\n",
    "plt.grid()\n",
    "\n",
    "num_feat_arr = []\n",
    "for name, model, c in models:\n",
    "    \n",
    "    scores = [0, 0]\n",
    "    results = []\n",
    "\n",
    "    for n in range(2,feat_range):\n",
    "\n",
    "        selection = SelectKBest(k=n).fit(X_train,y_train)\n",
    "        X_k = selection.transform(X_train)\n",
    "        \n",
    "        score = cross_val_score(estimator = model, X = X_k, y = y_train, cv = 5, scoring='f1_micro')\n",
    "        f1 = score.mean()\n",
    "        \n",
    "        results.append(f1)\n",
    "        \n",
    "        std = score.std()\n",
    "        if scores[0] < f1:\n",
    "            scores = [f1, n]\n",
    "  \n",
    "    plt.plot(n_number, results, 'o-', color=c, label=name)\n",
    "    \n",
    "    num_feat_arr.append(scores[1])\n",
    "    max_avg = np.average(scores)\n",
    "    \n",
    "    print(\"Model: %s, Avg_Score: %.3f, Num_Feat: %d\" % (name, scores[0], scores[1]))  \n",
    "\n",
    "\n",
    "plt.axis([0, feat_range , 0.50, 0.70])\n",
    "plt.legend(bbox_to_anchor=(0, 1), loc='upper left', ncol=1)\n",
    "plt.show()"
   ]
  },
  {
   "cell_type": "code",
   "execution_count": 9,
   "metadata": {},
   "outputs": [
    {
     "name": "stdout",
     "output_type": "stream",
     "text": [
      "(9567, 27) (9567,)\n",
      "(8617, 27) (950, 27) (0, 27) (8617,) (950,) (0,)\n"
     ]
    }
   ],
   "source": [
    "train_feat, train_label = features_labels_split(train_data)\n",
    "\n",
    "num_val_samples = 0\n",
    "num_test_samples = 950\n",
    "X_train, X_test, X_val, y_train, y_test, y_val = train_test_validation_split(train_feat, train_label, num_val_samples, num_test_samples)\n",
    "\n",
    "print(train_feat.shape, train_label.shape)\n",
    "print(X_train.shape, X_test.shape, X_val.shape, y_train.shape, y_test.shape, y_val.shape)"
   ]
  },
  {
   "cell_type": "code",
   "execution_count": 12,
   "metadata": {},
   "outputs": [
    {
     "name": "stdout",
     "output_type": "stream",
     "text": [
      "baseXGB: 0.613 (0.007)\n",
      "XGB: 0.615 (0.008)\n"
     ]
    },
    {
     "data": {
      "image/png": "[encoded data removed]",
      "text/plain": [
       "<Figure size 1080x576 with 1 Axes>"
      ]
     },
     "metadata": {},
     "output_type": "display_data"
    }
   ],
   "source": [
    "base_xgb = XGBClassifier(n_jobs=-1, objective='multi:softprob', random_state=seed)\n",
    "xgb = XGBClassifier(learning_rate=0.04, n_estimators=180,\n",
    "                           max_depth=5, min_child_weight=2, gamma=0.3,\n",
    "                           subsample = 0.8, colsample_bytree = 0.8,\n",
    "                           reg_alpha=0.35, reg_lambda=0.25,\n",
    "                           n_jobs=-1, objective='multi:softprob', random_state=seed)\n",
    "\n",
    "# Append all the models into an array\n",
    "models = []\n",
    "models.append(('baseXGB', base_xgb))\n",
    "models.append(('XGB', xgb))\n",
    "\n",
    "# evaluate each model in turn\n",
    "results = []\n",
    "names = []\n",
    "for name, model in models:\n",
    "    kfold = StratifiedKFold(n_splits=10, random_state=seed)\n",
    "    cv_results = cross_val_score(model, X_train, y_train, cv=kfold, scoring='f1_micro', n_jobs=-1)\n",
    "    results.append(cv_results)\n",
    "    names.append(name)\n",
    "    msg = \"%s: %.3f (%.3f)\" % (name, cv_results.mean(), cv_results.std())\n",
    "    print(msg)\n",
    "    \n",
    "# boxplot algorithm comparison\n",
    "fig = plt.figure(figsize=(15, 8))\n",
    "fig.suptitle('Algorithm Comparison', fontsize=24)\n",
    "ax = fig.add_subplot(1,1,1)\n",
    "plt.boxplot(results)\n",
    "plt.ylim([0.50,0.70])\n",
    "ax.set_xticklabels(names)\n",
    "plt.show()"
   ]
  },
  {
   "cell_type": "code",
   "execution_count": 13,
   "metadata": {},
   "outputs": [
    {
     "name": "stdout",
     "output_type": "stream",
     "text": [
      "F1 score on unseen data: 0.628\n"
     ]
    },
    {
     "name": "stderr",
     "output_type": "stream",
     "text": [
      "c:\\users\\eugen\\anaconda3\\envs\\tensorflow\\lib\\site-packages\\sklearn\\preprocessing\\label.py:151: DeprecationWarning: The truth value of an empty array is ambiguous. Returning False, but in future this will result in an error. Use `array.size > 0` to check that an array is not empty.\n",
      "  if diff:\n"
     ]
    }
   ],
   "source": [
    "# Test Performance\n",
    "\n",
    "test_model = XGBClassifier(learning_rate=0.04, n_estimators=180,\n",
    "                           max_depth=5, min_child_weight=2, gamma=0.3,\n",
    "                           subsample = 0.8, colsample_bytree = 0.8,\n",
    "                           reg_alpha=0.35, reg_lambda=0.25,\n",
    "                           n_jobs=-1, objective='multi:softprob', random_state=seed)\n",
    "test_model.fit(X_train, y_train)\n",
    "y_pred = test_model.predict(X_test)\n",
    "# F1\n",
    "print(\"F1 score on unseen data: %.3f\" % f1_score(y_test, y_pred, average='micro'))"
   ]
  },
  {
   "cell_type": "code",
   "execution_count": 18,
   "metadata": {},
   "outputs": [
    {
     "name": "stdout",
     "output_type": "stream",
     "text": [
      "0.6119299059997679\n",
      "{'learning_rate': 0.03, 'n_estimators': 350}\n"
     ]
    }
   ],
   "source": [
    "from sklearn.model_selection import GridSearchCV\n",
    "\n",
    "classifier = XGBClassifier(\n",
    "                           max_depth=5, min_child_weight=2, gamma=0.3,\n",
    "                           subsample = 0.8, colsample_bytree = 0.8,\n",
    "                           reg_alpha=0.35, reg_lambda=0.25,\n",
    "                           n_jobs=-1, objective='multi:softprob', random_state=seed)\n",
    "\n",
    "learning_rate = np.arange(0.01,0.04,0.01)\n",
    "n_estimators = np.arange(150,400,50)\n",
    "\n",
    "max_depth = np.arange(2,9,1)\n",
    "min_child_weight = np.arange(1,6,1)\n",
    "\n",
    "gamma = (0.25,0.3,0.35)\n",
    "\n",
    "subsample = (0.75,0.8,0.85)\n",
    "colsample_bytree = (0.75,0.8,0.85)\n",
    "\n",
    "reg_alpha = np.arange(0.0,0.6,0.05)\n",
    "reg_lambda = np.arange(0.0,0.6,0.05)\n",
    "\n",
    "parameters = [{\n",
    "    'learning_rate':learning_rate,\n",
    "    'n_estimators':n_estimators\n",
    "               }]\n",
    "\n",
    "grid_search = GridSearchCV(estimator = classifier,\n",
    "                           param_grid = parameters,\n",
    "                           scoring='f1_micro',\n",
    "                           cv = 10,\n",
    "                           n_jobs = -1)\n",
    "\n",
    "grid_search = grid_search.fit(X_train, y_train)\n",
    "best_f1 = grid_search.best_score_\n",
    "best_parameters = grid_search.best_params_\n",
    "print(best_f1)\n",
    "print(best_parameters)"
   ]
  },
  {
   "cell_type": "code",
   "execution_count": null,
   "metadata": {},
   "outputs": [],
   "source": [
    "0.6115817569919926\n",
    "{'learning_rate': 0.05, 'n_estimators': 150}\n",
    "0.6136706510386445\n",
    "{'max_depth': 5, 'min_child_weight': 2}\n",
    "0.6140188000464198\n",
    "{'gamma': 0.3, 'colsample_bytree': 0.8, 'subsample': 0.8}\n",
    "0.6151792967390043\n",
    "{'reg_alpha': 0.35000000000000003, 'reg_lambda': 0.25}"
   ]
  },
  {
   "cell_type": "code",
   "execution_count": 14,
   "metadata": {},
   "outputs": [],
   "source": [
    "X_pred = test_data[train_data.columns[chi2_test.get_support(indices=True)]]"
   ]
  },
  {
   "cell_type": "code",
   "execution_count": 15,
   "metadata": {},
   "outputs": [
    {
     "name": "stderr",
     "output_type": "stream",
     "text": [
      "c:\\users\\eugen\\anaconda3\\envs\\tensorflow\\lib\\site-packages\\sklearn\\preprocessing\\label.py:151: DeprecationWarning: The truth value of an empty array is ambiguous. Returning False, but in future this will result in an error. Use `array.size > 0` to check that an array is not empty.\n",
      "  if diff:\n"
     ]
    }
   ],
   "source": [
    "classifier = XGBClassifier(learning_rate=0.04, n_estimators=180,\n",
    "                           max_depth=5, min_child_weight=2, gamma=0.3,\n",
    "                           subsample = 0.8, colsample_bytree = 0.8,\n",
    "                           reg_alpha=0.35, reg_lambda=0.25,\n",
    "                           n_jobs=-1, objective='multi:softprob', random_state=seed)\n",
    "classifier.fit(train_feat, train_label)\n",
    "y_pred = classifier.predict(X_pred)"
   ]
  },
  {
   "cell_type": "code",
   "execution_count": 16,
   "metadata": {},
   "outputs": [],
   "source": [
    "submit = test_data['ID']\n",
    "submit = pd.DataFrame({'ID': submit})\n",
    "\n",
    "pred = y_pred\n",
    "pred = pd.DataFrame({'Product': y_pred})\n",
    "\n",
    "product = []\n",
    "product = pred.Product\n",
    "product.replace({ \n",
    "    int(0) : 'Non-Customer', \n",
    "    int(1) : 'V-Auto', \n",
    "    int(2) : 'V-Bag', \n",
    "    int(3) : 'V-Pet'},\n",
    "    inplace=True)\n",
    "\n",
    "submit = submit.join(product)\n",
    "submit.to_csv('Main_prediction.csv', index = False, encoding='utf-8')"
   ]
  },
  {
   "cell_type": "code",
   "execution_count": null,
   "metadata": {},
   "outputs": [],
   "source": []
  }
 ],
 "metadata": {
  "kernelspec": {
   "display_name": "Python 3",
   "language": "python",
   "name": "python3"
  },
  "language_info": {
   "codemirror_mode": {
    "name": "ipython",
    "version": 3
   },
   "file_extension": ".py",
   "mimetype": "text/x-python",
   "name": "python",
   "nbconvert_exporter": "python",
   "pygments_lexer": "ipython3",
   "version": "3.6.5"
  }
 },
 "nbformat": 4,
 "nbformat_minor": 2
}
