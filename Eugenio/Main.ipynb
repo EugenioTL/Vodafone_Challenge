{
 "cells": [
  {
   "cell_type": "code",
   "execution_count": 1,
   "metadata": {},
   "outputs": [],
   "source": [
    "# Import useful libraries\n",
    "import pandas as pd\n",
    "import numpy as np\n",
    "import matplotlib.pyplot as plt\n",
    "\n",
    "# Ignore warnings\n",
    "import warnings\n",
    "warnings.simplefilter('ignore')\n",
    "\n",
    "# Random seed for reproducibility\n",
    "seed = 202\n",
    "np.random.seed(seed)"
   ]
  },
  {
   "cell_type": "code",
   "execution_count": 2,
   "metadata": {},
   "outputs": [],
   "source": [
    "from sklearn.metrics import f1_score\n",
    "from sklearn.model_selection import KFold"
   ]
  },
  {
   "cell_type": "code",
   "execution_count": 3,
   "metadata": {},
   "outputs": [],
   "source": [
    "# Import the train set and test set\n",
    "train_data = pd.read_csv(\"normalized_train_dataset_dis.csv\", delimiter=\",\")\n",
    "test_data = pd.read_csv(\"normalized_test_dataset_dis.csv\", delimiter=\",\")"
   ]
  },
  {
   "cell_type": "code",
   "execution_count": 4,
   "metadata": {},
   "outputs": [
    {
     "data": {
      "text/html": [
       "<div>\n",
       "<style scoped>\n",
       "    .dataframe tbody tr th:only-of-type {\n",
       "        vertical-align: middle;\n",
       "    }\n",
       "\n",
       "    .dataframe tbody tr th {\n",
       "        vertical-align: top;\n",
       "    }\n",
       "\n",
       "    .dataframe thead th {\n",
       "        text-align: right;\n",
       "    }\n",
       "</style>\n",
       "<table border=\"1\" class=\"dataframe\">\n",
       "  <thead>\n",
       "    <tr style=\"text-align: right;\">\n",
       "      <th></th>\n",
       "      <th>ID</th>\n",
       "      <th>DeviceFlag4G</th>\n",
       "      <th>DataArpu</th>\n",
       "      <th>DataAllowanceContinuous</th>\n",
       "      <th>DeviceFlagSmartphone</th>\n",
       "      <th>MonthlyVoiceTrafficCount</th>\n",
       "      <th>MonthlySMSTrafficCount</th>\n",
       "      <th>MonthlyDataTraffic</th>\n",
       "      <th>CustomerGender</th>\n",
       "      <th>CustomerExpatriate</th>\n",
       "      <th>...</th>\n",
       "      <th>Security</th>\n",
       "      <th>Streaming-Applications</th>\n",
       "      <th>Terminals</th>\n",
       "      <th>Unclassified</th>\n",
       "      <th>VoIP</th>\n",
       "      <th>Web-Applications</th>\n",
       "      <th>Region</th>\n",
       "      <th>Province</th>\n",
       "      <th>CustomerAge</th>\n",
       "      <th>Product</th>\n",
       "    </tr>\n",
       "  </thead>\n",
       "  <tbody>\n",
       "    <tr>\n",
       "      <th>0</th>\n",
       "      <td>10511</td>\n",
       "      <td>0.0</td>\n",
       "      <td>0.186103</td>\n",
       "      <td>0.010514</td>\n",
       "      <td>1.0</td>\n",
       "      <td>0.028646</td>\n",
       "      <td>0.000250</td>\n",
       "      <td>0.006104</td>\n",
       "      <td>0.0</td>\n",
       "      <td>0.0</td>\n",
       "      <td>...</td>\n",
       "      <td>0.001731</td>\n",
       "      <td>0.378368</td>\n",
       "      <td>0.0</td>\n",
       "      <td>0.024176</td>\n",
       "      <td>0.006683</td>\n",
       "      <td>0.549398</td>\n",
       "      <td>0.0</td>\n",
       "      <td>93.0</td>\n",
       "      <td>35.000000</td>\n",
       "      <td>0</td>\n",
       "    </tr>\n",
       "    <tr>\n",
       "      <th>1</th>\n",
       "      <td>4174</td>\n",
       "      <td>1.0</td>\n",
       "      <td>0.108560</td>\n",
       "      <td>0.038148</td>\n",
       "      <td>1.0</td>\n",
       "      <td>0.133464</td>\n",
       "      <td>0.009238</td>\n",
       "      <td>0.015368</td>\n",
       "      <td>1.0</td>\n",
       "      <td>0.0</td>\n",
       "      <td>...</td>\n",
       "      <td>0.011461</td>\n",
       "      <td>0.102020</td>\n",
       "      <td>0.0</td>\n",
       "      <td>0.020124</td>\n",
       "      <td>0.011002</td>\n",
       "      <td>0.649518</td>\n",
       "      <td>0.0</td>\n",
       "      <td>71.0</td>\n",
       "      <td>55.000000</td>\n",
       "      <td>2</td>\n",
       "    </tr>\n",
       "    <tr>\n",
       "      <th>2</th>\n",
       "      <td>4920</td>\n",
       "      <td>1.0</td>\n",
       "      <td>0.108560</td>\n",
       "      <td>0.013367</td>\n",
       "      <td>1.0</td>\n",
       "      <td>0.037109</td>\n",
       "      <td>0.002622</td>\n",
       "      <td>0.020042</td>\n",
       "      <td>0.0</td>\n",
       "      <td>1.0</td>\n",
       "      <td>...</td>\n",
       "      <td>0.001541</td>\n",
       "      <td>0.231534</td>\n",
       "      <td>0.0</td>\n",
       "      <td>0.002384</td>\n",
       "      <td>0.004774</td>\n",
       "      <td>0.719529</td>\n",
       "      <td>0.0</td>\n",
       "      <td>42.0</td>\n",
       "      <td>45.000000</td>\n",
       "      <td>2</td>\n",
       "    </tr>\n",
       "    <tr>\n",
       "      <th>3</th>\n",
       "      <td>7007</td>\n",
       "      <td>0.0</td>\n",
       "      <td>0.108560</td>\n",
       "      <td>0.013367</td>\n",
       "      <td>0.0</td>\n",
       "      <td>0.037109</td>\n",
       "      <td>0.002622</td>\n",
       "      <td>0.020042</td>\n",
       "      <td>0.0</td>\n",
       "      <td>0.0</td>\n",
       "      <td>...</td>\n",
       "      <td>0.000000</td>\n",
       "      <td>0.000000</td>\n",
       "      <td>0.0</td>\n",
       "      <td>0.000000</td>\n",
       "      <td>0.000000</td>\n",
       "      <td>0.000000</td>\n",
       "      <td>0.0</td>\n",
       "      <td>42.0</td>\n",
       "      <td>44.796877</td>\n",
       "      <td>2</td>\n",
       "    </tr>\n",
       "    <tr>\n",
       "      <th>4</th>\n",
       "      <td>4129</td>\n",
       "      <td>0.0</td>\n",
       "      <td>0.124069</td>\n",
       "      <td>0.016219</td>\n",
       "      <td>1.0</td>\n",
       "      <td>0.028646</td>\n",
       "      <td>0.001748</td>\n",
       "      <td>0.024390</td>\n",
       "      <td>0.0</td>\n",
       "      <td>0.0</td>\n",
       "      <td>...</td>\n",
       "      <td>0.000013</td>\n",
       "      <td>0.615545</td>\n",
       "      <td>0.0</td>\n",
       "      <td>0.000415</td>\n",
       "      <td>0.000474</td>\n",
       "      <td>0.365691</td>\n",
       "      <td>0.0</td>\n",
       "      <td>93.0</td>\n",
       "      <td>65.000000</td>\n",
       "      <td>0</td>\n",
       "    </tr>\n",
       "  </tbody>\n",
       "</table>\n",
       "<p>5 rows × 35 columns</p>\n",
       "</div>"
      ],
      "text/plain": [
       "      ID  DeviceFlag4G  DataArpu  DataAllowanceContinuous  \\\n",
       "0  10511           0.0  0.186103                 0.010514   \n",
       "1   4174           1.0  0.108560                 0.038148   \n",
       "2   4920           1.0  0.108560                 0.013367   \n",
       "3   7007           0.0  0.108560                 0.013367   \n",
       "4   4129           0.0  0.124069                 0.016219   \n",
       "\n",
       "   DeviceFlagSmartphone  MonthlyVoiceTrafficCount  MonthlySMSTrafficCount  \\\n",
       "0                   1.0                  0.028646                0.000250   \n",
       "1                   1.0                  0.133464                0.009238   \n",
       "2                   1.0                  0.037109                0.002622   \n",
       "3                   0.0                  0.037109                0.002622   \n",
       "4                   1.0                  0.028646                0.001748   \n",
       "\n",
       "   MonthlyDataTraffic  CustomerGender  CustomerExpatriate   ...     Security  \\\n",
       "0            0.006104             0.0                 0.0   ...     0.001731   \n",
       "1            0.015368             1.0                 0.0   ...     0.011461   \n",
       "2            0.020042             0.0                 1.0   ...     0.001541   \n",
       "3            0.020042             0.0                 0.0   ...     0.000000   \n",
       "4            0.024390             0.0                 0.0   ...     0.000013   \n",
       "\n",
       "   Streaming-Applications  Terminals  Unclassified      VoIP  \\\n",
       "0                0.378368        0.0      0.024176  0.006683   \n",
       "1                0.102020        0.0      0.020124  0.011002   \n",
       "2                0.231534        0.0      0.002384  0.004774   \n",
       "3                0.000000        0.0      0.000000  0.000000   \n",
       "4                0.615545        0.0      0.000415  0.000474   \n",
       "\n",
       "   Web-Applications  Region  Province  CustomerAge  Product  \n",
       "0          0.549398     0.0      93.0    35.000000        0  \n",
       "1          0.649518     0.0      71.0    55.000000        2  \n",
       "2          0.719529     0.0      42.0    45.000000        2  \n",
       "3          0.000000     0.0      42.0    44.796877        2  \n",
       "4          0.365691     0.0      93.0    65.000000        0  \n",
       "\n",
       "[5 rows x 35 columns]"
      ]
     },
     "execution_count": 4,
     "metadata": {},
     "output_type": "execute_result"
    }
   ],
   "source": [
    "train_data.head()"
   ]
  },
  {
   "cell_type": "code",
   "execution_count": 5,
   "metadata": {},
   "outputs": [],
   "source": [
    "prova = train_data\n",
    "prova = prova.drop('DataArpu', axis=1)\n",
    "prova = prova.drop('ID', axis=1)\n",
    "prova = prova.iloc[np.random.permutation(len(prova))]\n",
    "prova = prova.reset_index(drop=True)"
   ]
  },
  {
   "cell_type": "code",
   "execution_count": 6,
   "metadata": {},
   "outputs": [],
   "source": [
    "array = np.asarray(prova)\n",
    "\n",
    "X = array[:,0:prova.shape[1]-1]\n",
    "X = np.asarray(X)\n",
    "Y = array[:,prova.shape[1]-1]\n",
    "Y = np.asarray(Y)"
   ]
  },
  {
   "cell_type": "code",
   "execution_count": 7,
   "metadata": {},
   "outputs": [],
   "source": [
    "from sklearn.feature_selection import SelectKBest\n",
    "from sklearn.feature_selection import chi2\n",
    "test = SelectKBest(score_func=chi2, k=3)\n",
    "fit = test.fit(X,Y)"
   ]
  },
  {
   "cell_type": "code",
   "execution_count": 8,
   "metadata": {},
   "outputs": [
    {
     "name": "stdout",
     "output_type": "stream",
     "text": [
      "[2.4e+01 2.6e+01 1.4e+01 8.7e+00 4.8e-01 8.1e+00 9.7e+01 3.1e+01 2.0e+06\n",
      " 2.2e+00 3.4e+01 3.5e+01 3.9e+01 3.5e+01 6.4e+01 6.5e+01 1.1e+01 1.3e-01\n",
      " 3.6e+00 2.2e+00 9.4e+00 2.3e-01 5.7e+00 3.0e+00 2.5e+00 2.0e+00 8.8e-01\n",
      " 4.5e-01 6.9e+00 7.0e+01 2.1e+02 7.5e+01]\n"
     ]
    }
   ],
   "source": [
    "# summarize scores\n",
    "np.set_printoptions(precision=1)\n",
    "print(fit.scores_)\n",
    "features = fit.transform(X)"
   ]
  },
  {
   "cell_type": "code",
   "execution_count": 9,
   "metadata": {},
   "outputs": [
    {
     "data": {
      "text/plain": [
       "33"
      ]
     },
     "execution_count": 9,
     "metadata": {},
     "output_type": "execute_result"
    }
   ],
   "source": [
    "len(prova.columns)"
   ]
  },
  {
   "cell_type": "code",
   "execution_count": 10,
   "metadata": {},
   "outputs": [],
   "source": [
    "def features_labels_split(data):\n",
    "    \n",
    "    features = data[['DeviceFlag4G', 'DataAllowanceContinuous', 'DeviceFlagSmartphone',\n",
    "       'MonthlyVoiceTrafficCount', 'MonthlySMSTrafficCount',\n",
    "       'MonthlyDataTraffic', 'CustomerGender', 'CustomerExpatriate', 'ZipCode',\n",
    "       'ChurnScore', 'AirportConnectionsDuration', 'AirportConnectionsCount',\n",
    "       'StationConnectionsDuration', 'StationConnectionsCount',\n",
    "       'ParkingConnectionsDuration', 'ParkingConnectionsCount',\n",
    "       'File-Transfer', 'Games', 'Instant-Messaging-Applications', 'Mail',\n",
    "       'Music-Streaming', 'Network-Operation', 'P2P-Applications', 'Security',\n",
    "       'Streaming-Applications', 'Terminals', 'Unclassified', 'VoIP',\n",
    "       'Web-Applications', 'Region', 'Province', 'CustomerAge']]\n",
    "    labels = data['Product']\n",
    "    return features, labels"
   ]
  },
  {
   "cell_type": "code",
   "execution_count": 11,
   "metadata": {},
   "outputs": [],
   "source": [
    "def train_test_validation_split(features, labels, val_samples, test_samples):\n",
    "\n",
    "    features = np.asarray(features)\n",
    "    labels =np.asarray(labels)\n",
    "    \n",
    "    X_test = features[0:test_samples]\n",
    "    y_test = labels[0:test_samples]\n",
    "\n",
    "    X_val = features[test_samples:test_samples + val_samples]\n",
    "    y_val = labels[test_samples:test_samples + val_samples]\n",
    "\n",
    "    X_train = features[test_samples + val_samples:]\n",
    "    y_train = labels[test_samples + val_samples:]\n",
    "\n",
    "    return X_train, X_test, X_val, y_train, y_test, y_val"
   ]
  },
  {
   "cell_type": "code",
   "execution_count": 93,
   "metadata": {},
   "outputs": [],
   "source": [
    "train_feat, train_label = features_labels_split(prova)\n",
    "\n",
    "num_val_samples = 616\n",
    "num_test_samples = 616\n",
    "X_train, X_test, X_val, y_train, y_test, y_val = train_test_validation_split(train_feat, train_label, num_val_samples, num_test_samples)"
   ]
  },
  {
   "cell_type": "code",
   "execution_count": 94,
   "metadata": {},
   "outputs": [],
   "source": [
    "from sklearn.ensemble import ExtraTreesClassifier, AdaBoostClassifier, GradientBoostingClassifier\n",
    "from sklearn.ensemble import RandomForestClassifier, ExtraTreesClassifier\n",
    "from sklearn.linear_model import LogisticRegression\n",
    "from sklearn.linear_model import PassiveAggressiveClassifier, Perceptron, SGDClassifier\n",
    "from sklearn.tree import DecisionTreeClassifier\n",
    "from sklearn.neighbors import KNeighborsClassifier\n",
    "from sklearn.discriminant_analysis import LinearDiscriminantAnalysis, QuadraticDiscriminantAnalysis\n",
    "from sklearn.naive_bayes import GaussianNB, BernoulliNB\n",
    "from sklearn.svm import SVC, LinearSVC\n",
    "from sklearn.gaussian_process import GaussianProcessClassifier"
   ]
  },
  {
   "cell_type": "code",
   "execution_count": 95,
   "metadata": {},
   "outputs": [
    {
     "ename": "SyntaxError",
     "evalue": "invalid syntax (<ipython-input-95-4ed70cec0569>, line 30)",
     "output_type": "error",
     "traceback": [
      "\u001b[1;36m  File \u001b[1;32m\"<ipython-input-95-4ed70cec0569>\"\u001b[1;36m, line \u001b[1;32m30\u001b[0m\n\u001b[1;33m    models.append(('LR', lr))'''25feat'''\u001b[0m\n\u001b[1;37m                                        ^\u001b[0m\n\u001b[1;31mSyntaxError\u001b[0m\u001b[1;31m:\u001b[0m invalid syntax\n"
     ]
    }
   ],
   "source": [
    "# Build the default models to select the best one  \n",
    "# The commented classifiers are weak\n",
    "dtc = DecisionTreeClassifier()\n",
    "bnb = BernoulliNB()\n",
    "xtc = ExtraTreesClassifier()\n",
    "nb = GaussianNB()\n",
    "qda = QuadraticDiscriminantAnalysis()\n",
    "lr = LogisticRegression()\n",
    "lda = LinearDiscriminantAnalysis()\n",
    "ada = AdaBoostClassifier()\n",
    "rf = RandomForestClassifier()\n",
    "knn = KNeighborsClassifier()\n",
    "gbc = GradientBoostingClassifier()\n",
    "#gpc = GaussianProcessClassifier() #Too fucking slow\n",
    "perc = Perceptron()\n",
    "paggr = PassiveAggressiveClassifier()\n",
    "svc = SVC()\n",
    "lsvc = LinearSVC()\n",
    "sgd = SGDClassifier()\n",
    "\n",
    "\n",
    "\n",
    "# Append all the models into an array\n",
    "models = []\n",
    "#models.append(('SGD', sgd))\n",
    "models.append(('SVC', svc))\n",
    "#models.append(('LSVC', lsvc))\n",
    "#models.append(('PAGGR', paggr))\n",
    "#models.append(('PERC', perc))\n",
    "models.append(('LR', lr))'''25feat'''\n",
    "models.append(('LDA', lda))\n",
    "models.append(('KNN', knn))\n",
    "#models.append(('DTC', dtc))\n",
    "models.append(('NB', nb))\n",
    "models.append(('GBC', gbc))\n",
    "models.append(('RF', rf))'''25feat'''\n",
    "models.append(('ADA', ada))\n",
    "models.append(('QDA', qda))\n",
    "models.append(('BNB', bnb))\n",
    "models.append(('XTC', xtc))"
   ]
  },
  {
   "cell_type": "code",
   "execution_count": 15,
   "metadata": {
    "scrolled": false
   },
   "outputs": [
    {
     "name": "stdout",
     "output_type": "stream",
     "text": [
      "SVC: 0.518 (0.013)\n",
      "LR: 0.562 (0.022)\n",
      "LDA: 0.565 (0.019)\n",
      "KNN: 0.499 (0.011)\n",
      "NB: 0.562 (0.022)\n",
      "GBC: 0.567 (0.020)\n",
      "RF: 0.526 (0.019)\n",
      "ADA: 0.565 (0.022)\n",
      "QDA: 0.530 (0.023)\n",
      "BNB: 0.523 (0.022)\n",
      "XTC: 0.509 (0.018)\n"
     ]
    },
    {
     "data": {
      "image/png": "[encoded data removed]",
      "text/plain": [
       "<Figure size 1080x576 with 1 Axes>"
      ]
     },
     "metadata": {},
     "output_type": "display_data"
    }
   ],
   "source": [
    "from sklearn.model_selection import cross_val_score\n",
    "\n",
    "\n",
    "# evaluate each model in turn\n",
    "results = []\n",
    "names = []\n",
    "for name, model in models:\n",
    "    kfold = KFold(n_splits=10, random_state=seed)\n",
    "    cv_results = cross_val_score(model, X_train, y_train, cv=kfold, scoring='f1_micro', n_jobs=-1)\n",
    "    results.append(cv_results)\n",
    "    names.append(name)\n",
    "    msg = \"%s: %.3f (%.3f)\" % (name, cv_results.mean(), cv_results.std())\n",
    "    print(msg)\n",
    "    \n",
    "# boxplot algorithm comparison\n",
    "fig = plt.figure(figsize=(15, 8))\n",
    "fig.suptitle('Algorithm Comparison', fontsize=24)\n",
    "ax = fig.add_subplot(1,1,1)\n",
    "plt.boxplot(results)\n",
    "plt.ylim([0.40,0.70])\n",
    "ax.set_xticklabels(names)\n",
    "plt.show()"
   ]
  },
  {
   "cell_type": "markdown",
   "metadata": {},
   "source": [
    "## Computing best features\n",
    "Before starting the tuning phase, we chose the best number of features for each classifier and we plotted the best (mean) performances that we could observe performing a complete exploration of all the possibilities."
   ]
  },
  {
   "cell_type": "code",
   "execution_count": 32,
   "metadata": {},
   "outputs": [
    {
     "name": "stdout",
     "output_type": "stream",
     "text": [
      "MODEL: LR, AVG_SCORE: 0.5676458240428952, NUM_FEAT: 25\n",
      "MODEL: LDA, AVG_SCORE: 0.5671991466270421, NUM_FEAT: 15\n",
      "MODEL: KNN, AVG_SCORE: 0.543182891931287, NUM_FEAT: 18\n",
      "MODEL: NB, AVG_SCORE: 0.5569186880200305, NUM_FEAT: 2\n",
      "MODEL: GBC, AVG_SCORE: 0.5838469486099515, NUM_FEAT: 27\n",
      "MODEL: RF, AVG_SCORE: 0.5596064881508012, NUM_FEAT: 25\n",
      "MODEL: ADA, AVG_SCORE: 0.577141792379374, NUM_FEAT: 27\n",
      "MODEL: QDA, AVG_SCORE: 0.559381656373995, NUM_FEAT: 6\n",
      "MODEL: BNB, AVG_SCORE: 0.5620603519434736, NUM_FEAT: 2\n",
      "MODEL: XTC, AVG_SCORE: 0.5523421677658102, NUM_FEAT: 2\n"
     ]
    },
    {
     "data": {
      "image/png": "[encoded data removed]",
      "text/plain": [
       "<Figure size 1080x576 with 1 Axes>"
      ]
     },
     "metadata": {},
     "output_type": "display_data"
    }
   ],
   "source": [
    "models = []\n",
    "models.append(('LR', lr, 'Yellow'))\n",
    "models.append(('LDA', lda, 'Blue'))\n",
    "models.append(('KNN', knn, 'Green'))\n",
    "models.append(('NB', nb, 'Black'))\n",
    "models.append(('GBC', gbc, 'Orange'))\n",
    "models.append(('RF', rf, 'Red'))\n",
    "models.append(('ADA', ada, 'Grey'))\n",
    "models.append(('QDA', qda, 'Purple'))\n",
    "models.append(('BNB', bnb, 'Cyan'))\n",
    "models.append(('XTC', xtc, 'Magenta'))\n",
    "\n",
    "n = ['LR','LDA','KNN','NB','GBC','RF','ADA','QDA','BNB','XTC']\n",
    "n_number = np.arange(2,30,1)\n",
    "# Transforming the lists into array for plotting\n",
    "plt.figure(figsize=(20, 10))\n",
    "plt.title('Feature Selection')\n",
    "plt.xlabel(\"Number of K-Best Features\")\n",
    "plt.ylabel(\"F1 - Score\")\n",
    "plt.grid()\n",
    "\n",
    "num_feat_arr = []\n",
    "for name, model, c in models:\n",
    "    \n",
    "    scores = [0, 0]\n",
    "    results = []\n",
    "\n",
    "    for n in range(2,30):\n",
    "\n",
    "        selection = SelectKBest(k=n).fit(X_train,y_train)\n",
    "        X_k = selection.transform(X_train)\n",
    "        # Splitting the dataset into the Training set and Test set\n",
    "        \n",
    "        \n",
    "        # Feature Scaling\n",
    "        from sklearn.preprocessing import StandardScaler\n",
    "        sc = StandardScaler()\n",
    "        X_k = sc.fit_transform(X_k)\n",
    "        \n",
    "        score = cross_val_score(estimator = model, X = X_k, y = y_train, cv = 10, scoring='f1_micro')\n",
    "        f1 = score.mean()\n",
    "        \n",
    "        results.append(f1)\n",
    "        \n",
    "        std = score.std()\n",
    "        if scores[0] < f1:\n",
    "            scores = [f1, n]\n",
    "  \n",
    "    plt.plot(n_number, results, 'o-', color=c, label=name)\n",
    "    \n",
    "    num_feat_arr.append(scores[1])\n",
    "    max_avg = np.average(scores)\n",
    "    \n",
    "    print(\"Model: %s, Avg_Score: %.3f, Num_Feat: %d\" % (name, scores[0], scores[1]))  \n",
    "\n",
    "\n",
    "plt.axis([0, 30 , 0.45, 0.70])\n",
    "plt.legend(bbox_to_anchor=(0, 1), loc='upper left', ncol=1)\n",
    "plt.show()"
   ]
  },
  {
   "cell_type": "code",
   "execution_count": 42,
   "metadata": {},
   "outputs": [
    {
     "name": "stderr",
     "output_type": "stream",
     "text": [
      "No handles with labels found to put in legend.\n"
     ]
    },
    {
     "data": {
      "image/png": "[encoded data removed]",
      "text/plain": [
       "<Figure size 1440x720 with 1 Axes>"
      ]
     },
     "metadata": {},
     "output_type": "display_data"
    }
   ],
   "source": [
    "plt.figure(figsize=(20, 10))\n",
    "plt.title('Feature Selection')\n",
    "plt.xlabel(\"Number of K-Best Features\")\n",
    "plt.ylabel(\"F1 - Score\")\n",
    "plt.grid()\n",
    "plt.axis([2, 28 , 0.45, 0.70])\n",
    "plt.legend(bbox_to_anchor=(0, 1), loc='upper left', ncol=1)\n",
    "plt.show()"
   ]
  },
  {
   "cell_type": "code",
   "execution_count": null,
   "metadata": {},
   "outputs": [],
   "source": [
    "from sklearn.model_selection import GridSearchCV\n",
    "\n",
    "classifier = SVC(kernel='poly')\n",
    "\n",
    "degree = np.arange(3,12,1)\n",
    "probability = (True, False)\n",
    "C = np.arange(10,100,20)\n",
    "\n",
    "parameters = [{\n",
    "    'degree':degree,\n",
    "    'C':C,\n",
    "    'probability':probability\n",
    "               }]\n",
    "\n",
    "grid_search = GridSearchCV(estimator = classifier,\n",
    "                           param_grid = parameters,\n",
    "                           scoring='f1_micro',\n",
    "                           cv = 10,\n",
    "                           n_jobs = -1)\n",
    "\n",
    "grid_search = grid_search.fit(X_train, y_train)\n",
    "best_f1 = grid_search.best_score_\n",
    "best_parameters = grid_search.best_params_\n",
    "print(best_f1)\n",
    "print(best_parameters)"
   ]
  },
  {
   "cell_type": "code",
   "execution_count": 82,
   "metadata": {},
   "outputs": [],
   "source": [
    "import keras\n",
    "import tensorflow as tf\n",
    "from keras import backend as K\n",
    "from keras.models import Sequential\n",
    "from keras.layers import Activation, Dense, Dropout\n",
    "from keras.optimizers import Adam"
   ]
  },
  {
   "cell_type": "code",
   "execution_count": 83,
   "metadata": {},
   "outputs": [],
   "source": [
    "def f1(y_true, y_pred):\n",
    "    def recall(y_true, y_pred):\n",
    "        \"\"\"Recall metric.\n",
    "\n",
    "        Only computes a batch-wise average of recall.\n",
    "\n",
    "        Computes the recall, a metric for multi-label classification of\n",
    "        how many relevant items are selected.\n",
    "        \"\"\"\n",
    "        true_positives = K.sum(K.round(K.clip(y_true * y_pred, 0, 1)))\n",
    "        possible_positives = K.sum(K.round(K.clip(y_true, 0, 1)))\n",
    "        recall = true_positives / (possible_positives + K.epsilon())\n",
    "        return recall\n",
    "\n",
    "    def precision(y_true, y_pred):\n",
    "        \"\"\"Precision metric.\n",
    "\n",
    "        Only computes a batch-wise average of precision.\n",
    "\n",
    "        Computes the precision, a metric for multi-label classification of\n",
    "        how many selected items are relevant.\n",
    "        \"\"\"\n",
    "        true_positives = K.sum(K.round(K.clip(y_true * y_pred, 0, 1)))\n",
    "        predicted_positives = K.sum(K.round(K.clip(y_pred, 0, 1)))\n",
    "        precision = true_positives / (predicted_positives + K.epsilon())\n",
    "        return precision\n",
    "    precision = precision(y_true, y_pred)\n",
    "    recall = recall(y_true, y_pred)\n",
    "    return 2*((precision*recall)/(precision+recall+K.epsilon()))"
   ]
  },
  {
   "cell_type": "code",
   "execution_count": 103,
   "metadata": {},
   "outputs": [],
   "source": [
    "from keras.utils.np_utils import to_categorical\n",
    "\n",
    "categorical_labels = to_categorical(4, num_classes=None)"
   ]
  },
  {
   "cell_type": "code",
   "execution_count": 112,
   "metadata": {},
   "outputs": [],
   "source": [
    "neurons = 512\n",
    "batch_size = 256         \n",
    "epochs = 800\n",
    "output_size = 4\n",
    "loss = 'sparse_categorical_crossentropy'\n",
    "learning_rate = 0.1\n",
    "optimizer= Adam(learning_rate)\n",
    "\n",
    "# Build a simple network\n",
    "neural_network = Sequential()\n",
    "neural_network.add(Dense(neurons, input_shape=(X_train.shape[1],), activation='sigmoid'))\n",
    "neural_network.add(Dropout(0.3))\n",
    "neural_network.add(Dense(units=output_size))\n",
    "# Compile the network\n",
    "neural_network.compile(loss=loss, optimizer=optimizer, metrics=['accuracy'])"
   ]
  },
  {
   "cell_type": "code",
   "execution_count": 113,
   "metadata": {},
   "outputs": [
    {
     "name": "stdout",
     "output_type": "stream",
     "text": [
      "Train on 8335 samples, validate on 616 samples\n",
      "Epoch 1/800\n",
      "8335/8335 [==============================] - 2s 216us/step - loss: 5.1653 - acc: 0.5491 - val_loss: 4.6442 - val_acc: 0.5925\n",
      "Epoch 2/800\n",
      "8335/8335 [==============================] - 0s 18us/step - loss: 4.9649 - acc: 0.5598 - val_loss: 4.6442 - val_acc: 0.5925\n",
      "Epoch 3/800\n",
      "8335/8335 [==============================] - 0s 18us/step - loss: 4.9649 - acc: 0.5598 - val_loss: 4.6442 - val_acc: 0.5925\n",
      "Epoch 4/800\n",
      "8335/8335 [==============================] - 0s 18us/step - loss: 4.9649 - acc: 0.5598 - val_loss: 4.6442 - val_acc: 0.5925\n",
      "Epoch 5/800\n",
      "8335/8335 [==============================] - 0s 18us/step - loss: 4.9649 - acc: 0.5598 - val_loss: 4.6442 - val_acc: 0.5925\n",
      "Epoch 6/800\n",
      "8335/8335 [==============================] - 0s 19us/step - loss: 4.9649 - acc: 0.5598 - val_loss: 4.6442 - val_acc: 0.5925\n",
      "Epoch 7/800\n",
      "8335/8335 [==============================] - 0s 18us/step - loss: 4.9649 - acc: 0.5598 - val_loss: 4.6442 - val_acc: 0.5925\n",
      "Epoch 8/800\n",
      "8335/8335 [==============================] - 0s 18us/step - loss: 4.9649 - acc: 0.5598 - val_loss: 4.6442 - val_acc: 0.5925\n",
      "Epoch 9/800\n",
      "8335/8335 [==============================] - 0s 19us/step - loss: 4.9649 - acc: 0.5598 - val_loss: 4.6442 - val_acc: 0.5925\n",
      "Epoch 10/800\n",
      "8335/8335 [==============================] - 0s 19us/step - loss: 4.9649 - acc: 0.5598 - val_loss: 4.6442 - val_acc: 0.5925\n",
      "Epoch 11/800\n",
      "8335/8335 [==============================] - 0s 20us/step - loss: 4.9649 - acc: 0.5598 - val_loss: 4.6442 - val_acc: 0.5925\n",
      "Epoch 12/800\n",
      "8335/8335 [==============================] - 0s 20us/step - loss: 4.9649 - acc: 0.5598 - val_loss: 4.6442 - val_acc: 0.5925\n",
      "Epoch 13/800\n",
      "8335/8335 [==============================] - 0s 20us/step - loss: 4.9649 - acc: 0.5598 - val_loss: 4.6442 - val_acc: 0.5925\n",
      "Epoch 14/800\n",
      "8335/8335 [==============================] - 0s 19us/step - loss: 4.9649 - acc: 0.5598 - val_loss: 4.6442 - val_acc: 0.5925\n",
      "Epoch 15/800\n",
      "8335/8335 [==============================] - 0s 18us/step - loss: 4.9649 - acc: 0.5598 - val_loss: 4.6442 - val_acc: 0.5925\n",
      "Epoch 16/800\n",
      "8335/8335 [==============================] - 0s 18us/step - loss: 4.9649 - acc: 0.5598 - val_loss: 4.6442 - val_acc: 0.5925\n",
      "Epoch 17/800\n",
      "8335/8335 [==============================] - 0s 20us/step - loss: 4.9649 - acc: 0.5598 - val_loss: 4.6442 - val_acc: 0.5925\n",
      "Epoch 18/800\n",
      "8335/8335 [==============================] - 0s 20us/step - loss: 4.9649 - acc: 0.5598 - val_loss: 4.6442 - val_acc: 0.5925\n",
      "Epoch 19/800\n",
      "8335/8335 [==============================] - 0s 20us/step - loss: 4.9649 - acc: 0.5598 - val_loss: 4.6442 - val_acc: 0.5925\n",
      "Epoch 20/800\n",
      "8335/8335 [==============================] - 0s 19us/step - loss: 4.9649 - acc: 0.5598 - val_loss: 4.6442 - val_acc: 0.5925\n",
      "Epoch 21/800\n",
      "8335/8335 [==============================] - 0s 20us/step - loss: 4.9649 - acc: 0.5598 - val_loss: 4.6442 - val_acc: 0.5925\n",
      "Epoch 22/800\n",
      "8335/8335 [==============================] - 0s 20us/step - loss: 4.9649 - acc: 0.5598 - val_loss: 4.6442 - val_acc: 0.5925\n",
      "Epoch 23/800\n",
      "8335/8335 [==============================] - 0s 21us/step - loss: 4.9649 - acc: 0.5598 - val_loss: 4.6442 - val_acc: 0.5925\n",
      "Epoch 24/800\n",
      "8335/8335 [==============================] - 0s 20us/step - loss: 4.9649 - acc: 0.5598 - val_loss: 4.6442 - val_acc: 0.5925\n",
      "Epoch 25/800\n",
      "8335/8335 [==============================] - 0s 19us/step - loss: 4.9649 - acc: 0.5598 - val_loss: 4.6442 - val_acc: 0.5925\n",
      "Epoch 26/800\n",
      "8335/8335 [==============================] - 0s 20us/step - loss: 4.9649 - acc: 0.5598 - val_loss: 4.6442 - val_acc: 0.5925\n",
      "Epoch 27/800\n",
      "8335/8335 [==============================] - 0s 19us/step - loss: 4.9649 - acc: 0.5598 - val_loss: 4.6442 - val_acc: 0.5925\n",
      "Epoch 28/800\n",
      "8335/8335 [==============================] - 0s 19us/step - loss: 4.9649 - acc: 0.5598 - val_loss: 4.6442 - val_acc: 0.5925\n",
      "Epoch 29/800\n",
      "8335/8335 [==============================] - 0s 19us/step - loss: 4.9649 - acc: 0.5598 - val_loss: 4.6442 - val_acc: 0.5925\n",
      "Epoch 30/800\n",
      "8335/8335 [==============================] - 0s 19us/step - loss: 4.9649 - acc: 0.5598 - val_loss: 4.6442 - val_acc: 0.5925\n",
      "Epoch 31/800\n",
      "8335/8335 [==============================] - 0s 19us/step - loss: 4.9649 - acc: 0.5598 - val_loss: 4.6442 - val_acc: 0.5925\n",
      "Epoch 32/800\n",
      "8335/8335 [==============================] - 0s 20us/step - loss: 4.9649 - acc: 0.5598 - val_loss: 4.6442 - val_acc: 0.5925\n",
      "Epoch 33/800\n",
      "8335/8335 [==============================] - 0s 18us/step - loss: 4.9649 - acc: 0.5598 - val_loss: 4.6442 - val_acc: 0.5925\n",
      "Epoch 34/800\n",
      " 256/8335 [..............................] - ETA: 0s - loss: 4.7227 - acc: 0.5430"
     ]
    },
    {
     "ename": "KeyboardInterrupt",
     "evalue": "",
     "output_type": "error",
     "traceback": [
      "\u001b[1;31m---------------------------------------------------------------------------\u001b[0m",
      "\u001b[1;31mKeyboardInterrupt\u001b[0m                         Traceback (most recent call last)",
      "\u001b[1;32m<ipython-input-113-dc179b295be5>\u001b[0m in \u001b[0;36m<module>\u001b[1;34m()\u001b[0m\n\u001b[1;32m----> 1\u001b[1;33m \u001b[0mneural_network\u001b[0m\u001b[1;33m.\u001b[0m\u001b[0mfit\u001b[0m\u001b[1;33m(\u001b[0m\u001b[0mX_train\u001b[0m\u001b[1;33m,\u001b[0m \u001b[0my_train\u001b[0m\u001b[1;33m,\u001b[0m \u001b[0mvalidation_data\u001b[0m\u001b[1;33m=\u001b[0m\u001b[1;33m(\u001b[0m\u001b[0mX_val\u001b[0m\u001b[1;33m,\u001b[0m \u001b[0my_val\u001b[0m\u001b[1;33m)\u001b[0m\u001b[1;33m,\u001b[0m \u001b[0mnb_epoch\u001b[0m\u001b[1;33m=\u001b[0m\u001b[0mepochs\u001b[0m\u001b[1;33m,\u001b[0m \u001b[0mbatch_size\u001b[0m\u001b[1;33m=\u001b[0m\u001b[0mbatch_size\u001b[0m\u001b[1;33m)\u001b[0m\u001b[1;33m\u001b[0m\u001b[0m\n\u001b[0m",
      "\u001b[1;32mc:\\users\\eugen\\anaconda3\\envs\\tensorflow\\lib\\site-packages\\keras\\models.py\u001b[0m in \u001b[0;36mfit\u001b[1;34m(self, x, y, batch_size, epochs, verbose, callbacks, validation_split, validation_data, shuffle, class_weight, sample_weight, initial_epoch, steps_per_epoch, validation_steps, **kwargs)\u001b[0m\n\u001b[0;32m    961\u001b[0m                               \u001b[0minitial_epoch\u001b[0m\u001b[1;33m=\u001b[0m\u001b[0minitial_epoch\u001b[0m\u001b[1;33m,\u001b[0m\u001b[1;33m\u001b[0m\u001b[0m\n\u001b[0;32m    962\u001b[0m                               \u001b[0msteps_per_epoch\u001b[0m\u001b[1;33m=\u001b[0m\u001b[0msteps_per_epoch\u001b[0m\u001b[1;33m,\u001b[0m\u001b[1;33m\u001b[0m\u001b[0m\n\u001b[1;32m--> 963\u001b[1;33m                               validation_steps=validation_steps)\n\u001b[0m\u001b[0;32m    964\u001b[0m \u001b[1;33m\u001b[0m\u001b[0m\n\u001b[0;32m    965\u001b[0m     def evaluate(self, x=None, y=None,\n",
      "\u001b[1;32mc:\\users\\eugen\\anaconda3\\envs\\tensorflow\\lib\\site-packages\\keras\\engine\\training.py\u001b[0m in \u001b[0;36mfit\u001b[1;34m(self, x, y, batch_size, epochs, verbose, callbacks, validation_split, validation_data, shuffle, class_weight, sample_weight, initial_epoch, steps_per_epoch, validation_steps, **kwargs)\u001b[0m\n\u001b[0;32m   1703\u001b[0m                               \u001b[0minitial_epoch\u001b[0m\u001b[1;33m=\u001b[0m\u001b[0minitial_epoch\u001b[0m\u001b[1;33m,\u001b[0m\u001b[1;33m\u001b[0m\u001b[0m\n\u001b[0;32m   1704\u001b[0m                               \u001b[0msteps_per_epoch\u001b[0m\u001b[1;33m=\u001b[0m\u001b[0msteps_per_epoch\u001b[0m\u001b[1;33m,\u001b[0m\u001b[1;33m\u001b[0m\u001b[0m\n\u001b[1;32m-> 1705\u001b[1;33m                               validation_steps=validation_steps)\n\u001b[0m\u001b[0;32m   1706\u001b[0m \u001b[1;33m\u001b[0m\u001b[0m\n\u001b[0;32m   1707\u001b[0m     def evaluate(self, x=None, y=None,\n",
      "\u001b[1;32mc:\\users\\eugen\\anaconda3\\envs\\tensorflow\\lib\\site-packages\\keras\\engine\\training.py\u001b[0m in \u001b[0;36m_fit_loop\u001b[1;34m(self, f, ins, out_labels, batch_size, epochs, verbose, callbacks, val_f, val_ins, shuffle, callback_metrics, initial_epoch, steps_per_epoch, validation_steps)\u001b[0m\n\u001b[0;32m   1233\u001b[0m                         \u001b[0mins_batch\u001b[0m\u001b[1;33m[\u001b[0m\u001b[0mi\u001b[0m\u001b[1;33m]\u001b[0m \u001b[1;33m=\u001b[0m \u001b[0mins_batch\u001b[0m\u001b[1;33m[\u001b[0m\u001b[0mi\u001b[0m\u001b[1;33m]\u001b[0m\u001b[1;33m.\u001b[0m\u001b[0mtoarray\u001b[0m\u001b[1;33m(\u001b[0m\u001b[1;33m)\u001b[0m\u001b[1;33m\u001b[0m\u001b[0m\n\u001b[0;32m   1234\u001b[0m \u001b[1;33m\u001b[0m\u001b[0m\n\u001b[1;32m-> 1235\u001b[1;33m                     \u001b[0mouts\u001b[0m \u001b[1;33m=\u001b[0m \u001b[0mf\u001b[0m\u001b[1;33m(\u001b[0m\u001b[0mins_batch\u001b[0m\u001b[1;33m)\u001b[0m\u001b[1;33m\u001b[0m\u001b[0m\n\u001b[0m\u001b[0;32m   1236\u001b[0m                     \u001b[1;32mif\u001b[0m \u001b[1;32mnot\u001b[0m \u001b[0misinstance\u001b[0m\u001b[1;33m(\u001b[0m\u001b[0mouts\u001b[0m\u001b[1;33m,\u001b[0m \u001b[0mlist\u001b[0m\u001b[1;33m)\u001b[0m\u001b[1;33m:\u001b[0m\u001b[1;33m\u001b[0m\u001b[0m\n\u001b[0;32m   1237\u001b[0m                         \u001b[0mouts\u001b[0m \u001b[1;33m=\u001b[0m \u001b[1;33m[\u001b[0m\u001b[0mouts\u001b[0m\u001b[1;33m]\u001b[0m\u001b[1;33m\u001b[0m\u001b[0m\n",
      "\u001b[1;32mc:\\users\\eugen\\anaconda3\\envs\\tensorflow\\lib\\site-packages\\keras\\backend\\tensorflow_backend.py\u001b[0m in \u001b[0;36m__call__\u001b[1;34m(self, inputs)\u001b[0m\n\u001b[0;32m   2476\u001b[0m         \u001b[0msession\u001b[0m \u001b[1;33m=\u001b[0m \u001b[0mget_session\u001b[0m\u001b[1;33m(\u001b[0m\u001b[1;33m)\u001b[0m\u001b[1;33m\u001b[0m\u001b[0m\n\u001b[0;32m   2477\u001b[0m         updated = session.run(fetches=fetches, feed_dict=feed_dict,\n\u001b[1;32m-> 2478\u001b[1;33m                               **self.session_kwargs)\n\u001b[0m\u001b[0;32m   2479\u001b[0m         \u001b[1;32mreturn\u001b[0m \u001b[0mupdated\u001b[0m\u001b[1;33m[\u001b[0m\u001b[1;33m:\u001b[0m\u001b[0mlen\u001b[0m\u001b[1;33m(\u001b[0m\u001b[0mself\u001b[0m\u001b[1;33m.\u001b[0m\u001b[0moutputs\u001b[0m\u001b[1;33m)\u001b[0m\u001b[1;33m]\u001b[0m\u001b[1;33m\u001b[0m\u001b[0m\n\u001b[0;32m   2480\u001b[0m \u001b[1;33m\u001b[0m\u001b[0m\n",
      "\u001b[1;32mc:\\users\\eugen\\anaconda3\\envs\\tensorflow\\lib\\site-packages\\tensorflow\\python\\client\\session.py\u001b[0m in \u001b[0;36mrun\u001b[1;34m(self, fetches, feed_dict, options, run_metadata)\u001b[0m\n\u001b[0;32m    898\u001b[0m     \u001b[1;32mtry\u001b[0m\u001b[1;33m:\u001b[0m\u001b[1;33m\u001b[0m\u001b[0m\n\u001b[0;32m    899\u001b[0m       result = self._run(None, fetches, feed_dict, options_ptr,\n\u001b[1;32m--> 900\u001b[1;33m                          run_metadata_ptr)\n\u001b[0m\u001b[0;32m    901\u001b[0m       \u001b[1;32mif\u001b[0m \u001b[0mrun_metadata\u001b[0m\u001b[1;33m:\u001b[0m\u001b[1;33m\u001b[0m\u001b[0m\n\u001b[0;32m    902\u001b[0m         \u001b[0mproto_data\u001b[0m \u001b[1;33m=\u001b[0m \u001b[0mtf_session\u001b[0m\u001b[1;33m.\u001b[0m\u001b[0mTF_GetBuffer\u001b[0m\u001b[1;33m(\u001b[0m\u001b[0mrun_metadata_ptr\u001b[0m\u001b[1;33m)\u001b[0m\u001b[1;33m\u001b[0m\u001b[0m\n",
      "\u001b[1;32mc:\\users\\eugen\\anaconda3\\envs\\tensorflow\\lib\\site-packages\\tensorflow\\python\\client\\session.py\u001b[0m in \u001b[0;36m_run\u001b[1;34m(self, handle, fetches, feed_dict, options, run_metadata)\u001b[0m\n\u001b[0;32m   1133\u001b[0m     \u001b[1;32mif\u001b[0m \u001b[0mfinal_fetches\u001b[0m \u001b[1;32mor\u001b[0m \u001b[0mfinal_targets\u001b[0m \u001b[1;32mor\u001b[0m \u001b[1;33m(\u001b[0m\u001b[0mhandle\u001b[0m \u001b[1;32mand\u001b[0m \u001b[0mfeed_dict_tensor\u001b[0m\u001b[1;33m)\u001b[0m\u001b[1;33m:\u001b[0m\u001b[1;33m\u001b[0m\u001b[0m\n\u001b[0;32m   1134\u001b[0m       results = self._do_run(handle, final_targets, final_fetches,\n\u001b[1;32m-> 1135\u001b[1;33m                              feed_dict_tensor, options, run_metadata)\n\u001b[0m\u001b[0;32m   1136\u001b[0m     \u001b[1;32melse\u001b[0m\u001b[1;33m:\u001b[0m\u001b[1;33m\u001b[0m\u001b[0m\n\u001b[0;32m   1137\u001b[0m       \u001b[0mresults\u001b[0m \u001b[1;33m=\u001b[0m \u001b[1;33m[\u001b[0m\u001b[1;33m]\u001b[0m\u001b[1;33m\u001b[0m\u001b[0m\n",
      "\u001b[1;32mc:\\users\\eugen\\anaconda3\\envs\\tensorflow\\lib\\site-packages\\tensorflow\\python\\client\\session.py\u001b[0m in \u001b[0;36m_do_run\u001b[1;34m(self, handle, target_list, fetch_list, feed_dict, options, run_metadata)\u001b[0m\n\u001b[0;32m   1314\u001b[0m     \u001b[1;32mif\u001b[0m \u001b[0mhandle\u001b[0m \u001b[1;32mis\u001b[0m \u001b[1;32mNone\u001b[0m\u001b[1;33m:\u001b[0m\u001b[1;33m\u001b[0m\u001b[0m\n\u001b[0;32m   1315\u001b[0m       return self._do_call(_run_fn, feeds, fetches, targets, options,\n\u001b[1;32m-> 1316\u001b[1;33m                            run_metadata)\n\u001b[0m\u001b[0;32m   1317\u001b[0m     \u001b[1;32melse\u001b[0m\u001b[1;33m:\u001b[0m\u001b[1;33m\u001b[0m\u001b[0m\n\u001b[0;32m   1318\u001b[0m       \u001b[1;32mreturn\u001b[0m \u001b[0mself\u001b[0m\u001b[1;33m.\u001b[0m\u001b[0m_do_call\u001b[0m\u001b[1;33m(\u001b[0m\u001b[0m_prun_fn\u001b[0m\u001b[1;33m,\u001b[0m \u001b[0mhandle\u001b[0m\u001b[1;33m,\u001b[0m \u001b[0mfeeds\u001b[0m\u001b[1;33m,\u001b[0m \u001b[0mfetches\u001b[0m\u001b[1;33m)\u001b[0m\u001b[1;33m\u001b[0m\u001b[0m\n",
      "\u001b[1;32mc:\\users\\eugen\\anaconda3\\envs\\tensorflow\\lib\\site-packages\\tensorflow\\python\\client\\session.py\u001b[0m in \u001b[0;36m_do_call\u001b[1;34m(self, fn, *args)\u001b[0m\n\u001b[0;32m   1320\u001b[0m   \u001b[1;32mdef\u001b[0m \u001b[0m_do_call\u001b[0m\u001b[1;33m(\u001b[0m\u001b[0mself\u001b[0m\u001b[1;33m,\u001b[0m \u001b[0mfn\u001b[0m\u001b[1;33m,\u001b[0m \u001b[1;33m*\u001b[0m\u001b[0margs\u001b[0m\u001b[1;33m)\u001b[0m\u001b[1;33m:\u001b[0m\u001b[1;33m\u001b[0m\u001b[0m\n\u001b[0;32m   1321\u001b[0m     \u001b[1;32mtry\u001b[0m\u001b[1;33m:\u001b[0m\u001b[1;33m\u001b[0m\u001b[0m\n\u001b[1;32m-> 1322\u001b[1;33m       \u001b[1;32mreturn\u001b[0m \u001b[0mfn\u001b[0m\u001b[1;33m(\u001b[0m\u001b[1;33m*\u001b[0m\u001b[0margs\u001b[0m\u001b[1;33m)\u001b[0m\u001b[1;33m\u001b[0m\u001b[0m\n\u001b[0m\u001b[0;32m   1323\u001b[0m     \u001b[1;32mexcept\u001b[0m \u001b[0merrors\u001b[0m\u001b[1;33m.\u001b[0m\u001b[0mOpError\u001b[0m \u001b[1;32mas\u001b[0m \u001b[0me\u001b[0m\u001b[1;33m:\u001b[0m\u001b[1;33m\u001b[0m\u001b[0m\n\u001b[0;32m   1324\u001b[0m       \u001b[0mmessage\u001b[0m \u001b[1;33m=\u001b[0m \u001b[0mcompat\u001b[0m\u001b[1;33m.\u001b[0m\u001b[0mas_text\u001b[0m\u001b[1;33m(\u001b[0m\u001b[0me\u001b[0m\u001b[1;33m.\u001b[0m\u001b[0mmessage\u001b[0m\u001b[1;33m)\u001b[0m\u001b[1;33m\u001b[0m\u001b[0m\n",
      "\u001b[1;32mc:\\users\\eugen\\anaconda3\\envs\\tensorflow\\lib\\site-packages\\tensorflow\\python\\client\\session.py\u001b[0m in \u001b[0;36m_run_fn\u001b[1;34m(feed_dict, fetch_list, target_list, options, run_metadata)\u001b[0m\n\u001b[0;32m   1305\u001b[0m       \u001b[0mself\u001b[0m\u001b[1;33m.\u001b[0m\u001b[0m_extend_graph\u001b[0m\u001b[1;33m(\u001b[0m\u001b[1;33m)\u001b[0m\u001b[1;33m\u001b[0m\u001b[0m\n\u001b[0;32m   1306\u001b[0m       return self._call_tf_sessionrun(\n\u001b[1;32m-> 1307\u001b[1;33m           options, feed_dict, fetch_list, target_list, run_metadata)\n\u001b[0m\u001b[0;32m   1308\u001b[0m \u001b[1;33m\u001b[0m\u001b[0m\n\u001b[0;32m   1309\u001b[0m     \u001b[1;32mdef\u001b[0m \u001b[0m_prun_fn\u001b[0m\u001b[1;33m(\u001b[0m\u001b[0mhandle\u001b[0m\u001b[1;33m,\u001b[0m \u001b[0mfeed_dict\u001b[0m\u001b[1;33m,\u001b[0m \u001b[0mfetch_list\u001b[0m\u001b[1;33m)\u001b[0m\u001b[1;33m:\u001b[0m\u001b[1;33m\u001b[0m\u001b[0m\n",
      "\u001b[1;32mc:\\users\\eugen\\anaconda3\\envs\\tensorflow\\lib\\site-packages\\tensorflow\\python\\client\\session.py\u001b[0m in \u001b[0;36m_call_tf_sessionrun\u001b[1;34m(self, options, feed_dict, fetch_list, target_list, run_metadata)\u001b[0m\n\u001b[0;32m   1407\u001b[0m       return tf_session.TF_SessionRun_wrapper(\n\u001b[0;32m   1408\u001b[0m           \u001b[0mself\u001b[0m\u001b[1;33m.\u001b[0m\u001b[0m_session\u001b[0m\u001b[1;33m,\u001b[0m \u001b[0moptions\u001b[0m\u001b[1;33m,\u001b[0m \u001b[0mfeed_dict\u001b[0m\u001b[1;33m,\u001b[0m \u001b[0mfetch_list\u001b[0m\u001b[1;33m,\u001b[0m \u001b[0mtarget_list\u001b[0m\u001b[1;33m,\u001b[0m\u001b[1;33m\u001b[0m\u001b[0m\n\u001b[1;32m-> 1409\u001b[1;33m           run_metadata)\n\u001b[0m\u001b[0;32m   1410\u001b[0m     \u001b[1;32melse\u001b[0m\u001b[1;33m:\u001b[0m\u001b[1;33m\u001b[0m\u001b[0m\n\u001b[0;32m   1411\u001b[0m       \u001b[1;32mwith\u001b[0m \u001b[0merrors\u001b[0m\u001b[1;33m.\u001b[0m\u001b[0mraise_exception_on_not_ok_status\u001b[0m\u001b[1;33m(\u001b[0m\u001b[1;33m)\u001b[0m \u001b[1;32mas\u001b[0m \u001b[0mstatus\u001b[0m\u001b[1;33m:\u001b[0m\u001b[1;33m\u001b[0m\u001b[0m\n",
      "\u001b[1;31mKeyboardInterrupt\u001b[0m: "
     ]
    }
   ],
   "source": [
    "neural_network.fit(X_train, y_train, validation_data=(X_val, y_val), nb_epoch=epochs, batch_size=batch_size)"
   ]
  },
  {
   "cell_type": "code",
   "execution_count": null,
   "metadata": {},
   "outputs": [],
   "source": []
  }
 ],
 "metadata": {
  "kernelspec": {
   "display_name": "Python 3",
   "language": "python",
   "name": "python3"
  },
  "language_info": {
   "codemirror_mode": {
    "name": "ipython",
    "version": 3
   },
   "file_extension": ".py",
   "mimetype": "text/x-python",
   "name": "python",
   "nbconvert_exporter": "python",
   "pygments_lexer": "ipython3",
   "version": "3.6.5"
  }
 },
 "nbformat": 4,
 "nbformat_minor": 2
}
