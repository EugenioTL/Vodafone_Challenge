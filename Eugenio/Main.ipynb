{
 "cells": [
  {
   "cell_type": "code",
   "execution_count": 1,
   "metadata": {},
   "outputs": [],
   "source": [
    "# Import useful libraries\n",
    "import pandas as pd\n",
    "import numpy as np\n",
    "import matplotlib.pyplot as plt\n",
    "\n",
    "# Ignore warnings\n",
    "import warnings\n",
    "warnings.simplefilter('ignore')\n",
    "\n",
    "# Random seed for reproducibility\n",
    "seed = 202\n",
    "np.random.seed(seed)"
   ]
  },
  {
   "cell_type": "code",
   "execution_count": 2,
   "metadata": {},
   "outputs": [],
   "source": [
    "from sklearn.metrics import f1_score\n",
    "from sklearn.model_selection import KFold"
   ]
  },
  {
   "cell_type": "code",
   "execution_count": 3,
   "metadata": {},
   "outputs": [],
   "source": [
    "# Import the train set and test set\n",
    "train_data = pd.read_csv(\"normalized_train_dataset_dis.csv\", delimiter=\",\")\n",
    "test_data = pd.read_csv(\"normalized_test_dataset_dis.csv\", delimiter=\",\")"
   ]
  },
  {
   "cell_type": "code",
   "execution_count": 4,
   "metadata": {},
   "outputs": [],
   "source": [
    "#train_data = train_data.drop('DataArpu', axis=1)\n",
    "train_data = train_data.drop('ID', axis=1)\n",
    "# Sort the dataset\n",
    "train_data = train_data.iloc[np.random.permutation(len(train_data))]\n",
    "train_data = train_data.reset_index(drop=True)"
   ]
  },
  {
   "cell_type": "code",
   "execution_count": 5,
   "metadata": {},
   "outputs": [],
   "source": [
    "array = np.asarray(train_data)\n",
    "\n",
    "X = array[:,0:train_data.shape[1]-1]\n",
    "X = np.asarray(X)\n",
    "Y = array[:,train_data.shape[1]-1]\n",
    "Y = np.asarray(Y)"
   ]
  },
  {
   "cell_type": "code",
   "execution_count": 6,
   "metadata": {},
   "outputs": [],
   "source": [
    "from sklearn.feature_selection import SelectKBest\n",
    "from sklearn.feature_selection import chi2\n",
    "chi2_test = SelectKBest(score_func=chi2, k=27)\n",
    "fit = chi2_test.fit(X,Y)"
   ]
  },
  {
   "cell_type": "code",
   "execution_count": 7,
   "metadata": {},
   "outputs": [
    {
     "data": {
      "text/plain": [
       "Index(['DeviceFlag4G', 'DataArpu', 'DataAllowanceContinuous',\n",
       "       'DeviceFlagSmartphone', 'MonthlyVoiceTrafficCount',\n",
       "       'MonthlyDataTraffic', 'CustomerGender', 'CustomerExpatriate', 'ZipCode',\n",
       "       'ChurnScore', 'AirportConnectionsDuration', 'AirportConnectionsCount',\n",
       "       'StationConnectionsDuration', 'StationConnectionsCount',\n",
       "       'ParkingConnectionsDuration', 'ParkingConnectionsCount',\n",
       "       'File-Transfer', 'Instant-Messaging-Applications', 'Mail',\n",
       "       'Music-Streaming', 'P2P-Applications', 'Security',\n",
       "       'Streaming-Applications', 'Web-Applications', 'Region', 'Province',\n",
       "       'CustomerAge'],\n",
       "      dtype='object')"
      ]
     },
     "execution_count": 7,
     "metadata": {},
     "output_type": "execute_result"
    }
   ],
   "source": [
    "train_data.columns[chi2_test.get_support(indices=True)]"
   ]
  },
  {
   "cell_type": "code",
   "execution_count": 12,
   "metadata": {},
   "outputs": [
    {
     "name": "stdout",
     "output_type": "stream",
     "text": [
      "[2.4e+01 3.2e+00 2.6e+01 1.4e+01 8.7e+00 4.8e-01 8.1e+00 9.7e+01 3.1e+01\n",
      " 2.0e+06 2.2e+00 3.4e+01 3.5e+01 3.9e+01 3.5e+01 6.4e+01 6.5e+01 1.1e+01\n",
      " 1.3e-01 3.6e+00 2.2e+00 9.4e+00 2.3e-01 5.7e+00 3.0e+00 2.5e+00 2.0e+00\n",
      " 8.8e-01 4.5e-01 6.9e+00 7.0e+01 2.1e+02 7.5e+01]\n"
     ]
    }
   ],
   "source": [
    "# summarize scores\n",
    "np.set_printoptions(precision=1)\n",
    "print(fit.scores_)\n",
    "#features = fit.transform(X)"
   ]
  },
  {
   "cell_type": "code",
   "execution_count": 13,
   "metadata": {},
   "outputs": [],
   "source": [
    "def features_labels_split(data):\n",
    "    \n",
    "    features = data[train_data.columns[chi2_test.get_support(indices=True)]]\n",
    "    labels = data['Product']\n",
    "    return features, labels"
   ]
  },
  {
   "cell_type": "code",
   "execution_count": 14,
   "metadata": {},
   "outputs": [],
   "source": [
    "def train_test_validation_split(features, labels, val_samples, test_samples):\n",
    "\n",
    "    features = np.asarray(features)\n",
    "    labels =np.asarray(labels)\n",
    "    \n",
    "    X_test = features[0:test_samples]\n",
    "    y_test = labels[0:test_samples]\n",
    "\n",
    "    X_val = features[test_samples:test_samples + val_samples]\n",
    "    y_val = labels[test_samples:test_samples + val_samples]\n",
    "\n",
    "    X_train = features[test_samples + val_samples:]\n",
    "    y_train = labels[test_samples + val_samples:]\n",
    "\n",
    "    return X_train, X_test, X_val, y_train, y_test, y_val"
   ]
  },
  {
   "cell_type": "code",
   "execution_count": 17,
   "metadata": {},
   "outputs": [],
   "source": [
    "train_feat, train_label = features_labels_split(train_data)\n",
    "\n",
    "num_val_samples = 0\n",
    "num_test_samples = 950\n",
    "X_train, X_test, X_val, y_train, y_test, y_val = train_test_validation_split(train_feat, train_label, num_val_samples, num_test_samples)"
   ]
  },
  {
   "cell_type": "code",
   "execution_count": 18,
   "metadata": {},
   "outputs": [],
   "source": [
    "from sklearn.ensemble import ExtraTreesClassifier, AdaBoostClassifier, GradientBoostingClassifier\n",
    "from sklearn.ensemble import RandomForestClassifier, ExtraTreesClassifier\n",
    "from sklearn.linear_model import LogisticRegression\n",
    "from sklearn.linear_model import PassiveAggressiveClassifier, Perceptron, SGDClassifier\n",
    "from sklearn.tree import DecisionTreeClassifier\n",
    "from sklearn.neighbors import KNeighborsClassifier\n",
    "from sklearn.discriminant_analysis import LinearDiscriminantAnalysis, QuadraticDiscriminantAnalysis\n",
    "from sklearn.naive_bayes import GaussianNB, BernoulliNB\n",
    "from sklearn.svm import SVC, LinearSVC\n",
    "from sklearn.gaussian_process import GaussianProcessClassifier\n",
    "from xgboost import XGBClassifier"
   ]
  },
  {
   "cell_type": "code",
   "execution_count": 30,
   "metadata": {},
   "outputs": [],
   "source": [
    "# Build the default models to select the best one  \n",
    "# The commented classifiers are weak\n",
    "dtc = DecisionTreeClassifier()\n",
    "bnb = BernoulliNB()\n",
    "xtc = ExtraTreesClassifier()\n",
    "nb = GaussianNB()\n",
    "qda = QuadraticDiscriminantAnalysis()\n",
    "lr = LogisticRegression()\n",
    "lda = LinearDiscriminantAnalysis()\n",
    "ada = AdaBoostClassifier()\n",
    "rf = RandomForestClassifier()\n",
    "knn = KNeighborsClassifier()\n",
    "gbc = GradientBoostingClassifier()\n",
    "#gpc = GaussianProcessClassifier() #Too fucking slow\n",
    "perc = Perceptron()\n",
    "paggr = PassiveAggressiveClassifier()\n",
    "svc = SVC()\n",
    "lsvc = LinearSVC()\n",
    "sgd = SGDClassifier()\n",
    "xgb = XGBClassifier(n_estimators=200, max_depth=3, learning_rate=0.09, n_jobs=-1)\n",
    "\n",
    "\n",
    "# Append all the models into an array\n",
    "models = []\n",
    "models.append(('XGB', xgb))\n",
    "#models.append(('SGD', sgd))\n",
    "#models.append(('SVC', svc))\n",
    "#models.append(('LSVC', lsvc))\n",
    "#models.append(('PAGGR', paggr))\n",
    "#models.append(('PERC', perc))\n",
    "#models.append(('LR', lr))\n",
    "#models.append(('LDA', lda))\n",
    "#models.append(('KNN', knn))\n",
    "#models.append(('DTC', dtc))\n",
    "#models.append(('NB', nb))\n",
    "#models.append(('GBC', gbc))\n",
    "models.append(('RF', rf))\n",
    "#models.append(('ADA', ada))\n",
    "#models.append(('QDA', qda))\n",
    "#models.append(('BNB', bnb))\n",
    "#models.append(('XTC', xtc))\n"
   ]
  },
  {
   "cell_type": "code",
   "execution_count": 31,
   "metadata": {
    "scrolled": true
   },
   "outputs": [
    {
     "name": "stdout",
     "output_type": "stream",
     "text": [
      "XGB: 0.587 (0.019)\n",
      "RF: 0.562 (0.017)\n"
     ]
    },
    {
     "data": {
      "image/png": "[encoded data removed]",
      "text/plain": [
       "<Figure size 1080x576 with 1 Axes>"
      ]
     },
     "metadata": {},
     "output_type": "display_data"
    }
   ],
   "source": [
    "from sklearn.model_selection import cross_val_score\n",
    "\n",
    "\n",
    "# evaluate each model in turn\n",
    "results = []\n",
    "names = []\n",
    "for name, model in models:\n",
    "    kfold = KFold(n_splits=10, random_state=seed)\n",
    "    cv_results = cross_val_score(model, X_train, y_train, cv=kfold, scoring='f1_micro', n_jobs=-1)\n",
    "    results.append(cv_results)\n",
    "    names.append(name)\n",
    "    msg = \"%s: %.3f (%.3f)\" % (name, cv_results.mean(), cv_results.std())\n",
    "    print(msg)\n",
    "    \n",
    "# boxplot algorithm comparison\n",
    "fig = plt.figure(figsize=(15, 8))\n",
    "fig.suptitle('Algorithm Comparison', fontsize=24)\n",
    "ax = fig.add_subplot(1,1,1)\n",
    "plt.boxplot(results)\n",
    "plt.ylim([0.40,0.70])\n",
    "ax.set_xticklabels(names)\n",
    "plt.show()"
   ]
  },
  {
   "cell_type": "markdown",
   "metadata": {},
   "source": [
    "## Computing best features\n",
    "Before starting the tuning phase, we chose the best number of features for each classifier and we plotted the best (mean) performances that we could observe performing a complete exploration of all the possibilities."
   ]
  },
  {
   "cell_type": "code",
   "execution_count": 32,
   "metadata": {},
   "outputs": [
    {
     "name": "stdout",
     "output_type": "stream",
     "text": [
      "Model: NB, Avg_Score: 0.555, Num_Feat: 2\n",
      "Model: RF, Avg_Score: 0.561, Num_Feat: 23\n"
     ]
    },
    {
     "data": {
      "image/png": "[encoded data removed]",
      "text/plain": [
       "<Figure size 1440x720 with 1 Axes>"
      ]
     },
     "metadata": {},
     "output_type": "display_data"
    }
   ],
   "source": [
    "models = []\n",
    "# models.append(('LR', lr, 'Yellow'))\n",
    "#models.append(('LDA', lda, 'Blue'))\n",
    "# models.append(('KNN', knn, 'Green'))\n",
    "models.append(('NB', nb, 'Black'))\n",
    "# models.append(('GBC', gbc, 'Orange'))\n",
    "models.append(('RF', rf, 'Red'))\n",
    "# models.append(('ADA', ada, 'Grey'))\n",
    "# models.append(('QDA', qda, 'Purple'))\n",
    "#models.append(('XGB', xgb, 'Cyan'))\n",
    "#models.append(('XTC', xtc, 'Magenta'))\n",
    "\n",
    "feat_range = X_train.shape[1]\n",
    "\n",
    "n = ['NB','XGB']\n",
    "n_number = np.arange(2,feat_range,1)\n",
    "# Transforming the lists into array for plotting\n",
    "plt.figure(figsize=(20, 10))\n",
    "plt.title('Feature Selection')\n",
    "plt.xlabel(\"Number of K-Best Features\")\n",
    "plt.ylabel(\"F1 - Score\")\n",
    "plt.grid()\n",
    "\n",
    "num_feat_arr = []\n",
    "for name, model, c in models:\n",
    "    \n",
    "    scores = [0, 0]\n",
    "    results = []\n",
    "\n",
    "    for n in range(2,feat_range):\n",
    "\n",
    "        selection = SelectKBest(k=n).fit(X_train,y_train)\n",
    "        X_k = selection.transform(X_train)\n",
    "        \n",
    "        \n",
    "        # Feature Scaling\n",
    "        from sklearn.preprocessing import StandardScaler\n",
    "        sc = StandardScaler()\n",
    "        X_k = sc.fit_transform(X_k)\n",
    "        \n",
    "        score = cross_val_score(estimator = model, X = X_k, y = y_train, cv = 10, scoring='f1_micro')\n",
    "        f1 = score.mean()\n",
    "        \n",
    "        results.append(f1)\n",
    "        \n",
    "        std = score.std()\n",
    "        if scores[0] < f1:\n",
    "            scores = [f1, n]\n",
    "  \n",
    "    plt.plot(n_number, results, 'o-', color=c, label=name)\n",
    "    \n",
    "    num_feat_arr.append(scores[1])\n",
    "    max_avg = np.average(scores)\n",
    "    \n",
    "    print(\"Model: %s, Avg_Score: %.3f, Num_Feat: %d\" % (name, scores[0], scores[1]))  \n",
    "\n",
    "\n",
    "plt.axis([0, feat_range , 0.45, 0.70])\n",
    "plt.legend(bbox_to_anchor=(0, 1), loc='upper left', ncol=1)\n",
    "plt.show()"
   ]
  },
  {
   "cell_type": "code",
   "execution_count": 26,
   "metadata": {},
   "outputs": [
    {
     "name": "stdout",
     "output_type": "stream",
     "text": [
      "0.5831495880236741\n",
      "{'learning_rate': 0.09000000000000001}\n"
     ]
    }
   ],
   "source": [
    "from sklearn.model_selection import GridSearchCV\n",
    "\n",
    "classifier = XGBClassifier(n_jobs=-1, n_estimators=200)\n",
    "\n",
    "n_estimators = np.arange(100,1000,100)\n",
    "max_depth = np.arange(2,5,1)\n",
    "learning_rate = np.arange(0.05,0.15,0.02)\n",
    "\n",
    "parameters = [{\n",
    "    'learning_rate':learning_rate\n",
    "               }]\n",
    "\n",
    "grid_search = GridSearchCV(estimator = classifier,\n",
    "                           param_grid = parameters,\n",
    "                           scoring='f1_micro',\n",
    "                           cv = 10,\n",
    "                           n_jobs = -1)\n",
    "\n",
    "grid_search = grid_search.fit(X_train, y_train)\n",
    "best_f1 = grid_search.best_score_\n",
    "best_parameters = grid_search.best_params_\n",
    "print(best_f1)\n",
    "print(best_parameters)"
   ]
  },
  {
   "cell_type": "code",
   "execution_count": 38,
   "metadata": {},
   "outputs": [
    {
     "name": "stdout",
     "output_type": "stream",
     "text": [
      "0.585470581408843\n",
      "{'criterion': 'gini'}\n"
     ]
    }
   ],
   "source": [
    "from sklearn.model_selection import GridSearchCV\n",
    "\n",
    "classifier = RandomForestClassifier(n_estimators=400)\n",
    "\n",
    "n_estimators = (150,400,50)\n",
    "max_features = ('auto','sqrt','log2',None)\n",
    "criterion = ('gini','entropy')\n",
    "parameters = [{\n",
    "    'criterion':criterion,\n",
    "               }]\n",
    "\n",
    "grid_search = GridSearchCV(estimator = classifier,\n",
    "                           param_grid = parameters,\n",
    "                           scoring='f1_micro',\n",
    "                           cv = 10,\n",
    "                           n_jobs = -1)\n",
    "\n",
    "grid_search = grid_search.fit(X_train, y_train)\n",
    "best_f1 = grid_search.best_score_\n",
    "best_parameters = grid_search.best_params_\n",
    "print(best_f1)\n",
    "print(best_parameters)"
   ]
  },
  {
   "cell_type": "code",
   "execution_count": null,
   "metadata": {},
   "outputs": [],
   "source": []
  },
  {
   "cell_type": "code",
   "execution_count": 39,
   "metadata": {},
   "outputs": [
    {
     "name": "stdout",
     "output_type": "stream",
     "text": [
      "F1 score on unseen data: 0.596\n"
     ]
    }
   ],
   "source": [
    "# Test Performance\n",
    "\n",
    "test_model = RandomForestClassifier(n_estimators=400)\n",
    "test_model.fit(X_train, y_train)\n",
    "y_pred = test_model.predict(X_test)\n",
    "# F1\n",
    "print(\"F1 score on unseen data: %.3f\" % f1_score(y_test, y_pred, average='micro'))"
   ]
  },
  {
   "cell_type": "code",
   "execution_count": 40,
   "metadata": {},
   "outputs": [],
   "source": [
    "X_pred = test_data[train_data.columns[chi2_test.get_support(indices=True)]]"
   ]
  },
  {
   "cell_type": "code",
   "execution_count": 41,
   "metadata": {},
   "outputs": [],
   "source": [
    "classifier = RandomForestClassifier(n_estimators=400)\n",
    "classifier.fit(train_feat, train_label)\n",
    "y_pred = classifier.predict(X_pred)"
   ]
  },
  {
   "cell_type": "code",
   "execution_count": 42,
   "metadata": {},
   "outputs": [],
   "source": [
    "submit = test_data['ID']\n",
    "submit = pd.DataFrame({'ID': submit})\n",
    "\n",
    "pred = y_pred\n",
    "pred = pd.DataFrame({'Product': y_pred})\n",
    "\n",
    "product = []\n",
    "product = pred.Product\n",
    "product.replace({ \n",
    "    int(0) : 'Non-Customer', \n",
    "    int(1) : 'V-Bag', \n",
    "    int(2) : 'V-Pet', \n",
    "    int(3) : 'V-Auto'},\n",
    "    inplace=True)\n",
    "\n",
    "submit = submit.join(product)\n",
    "submit.to_csv('result.csv', index = False, encoding='utf-8')"
   ]
  },
  {
   "cell_type": "code",
   "execution_count": null,
   "metadata": {},
   "outputs": [],
   "source": []
  },
  {
   "cell_type": "code",
   "execution_count": null,
   "metadata": {},
   "outputs": [],
   "source": []
  },
  {
   "cell_type": "code",
   "execution_count": null,
   "metadata": {},
   "outputs": [],
   "source": []
  },
  {
   "cell_type": "code",
   "execution_count": null,
   "metadata": {},
   "outputs": [],
   "source": []
  },
  {
   "cell_type": "code",
   "execution_count": null,
   "metadata": {},
   "outputs": [],
   "source": []
  },
  {
   "cell_type": "code",
   "execution_count": null,
   "metadata": {},
   "outputs": [],
   "source": []
  },
  {
   "cell_type": "code",
   "execution_count": 43,
   "metadata": {},
   "outputs": [
    {
     "name": "stderr",
     "output_type": "stream",
     "text": [
      "Using TensorFlow backend.\n"
     ]
    }
   ],
   "source": [
    "import keras\n",
    "import tensorflow as tf\n",
    "from keras import backend as K\n",
    "from keras.models import Sequential\n",
    "from keras.layers import Activation, Dense, Dropout\n",
    "from keras.optimizers import Adam"
   ]
  },
  {
   "cell_type": "code",
   "execution_count": 44,
   "metadata": {},
   "outputs": [],
   "source": [
    "def f1(y_true, y_pred):\n",
    "    def recall(y_true, y_pred):\n",
    "        \"\"\"Recall metric.\n",
    "\n",
    "        Only computes a batch-wise average of recall.\n",
    "\n",
    "        Computes the recall, a metric for multi-label classification of\n",
    "        how many relevant items are selected.\n",
    "        \"\"\"\n",
    "        true_positives = K.sum(K.round(K.clip(y_true * y_pred, 0, 1)))\n",
    "        possible_positives = K.sum(K.round(K.clip(y_true, 0, 1)))\n",
    "        recall = true_positives / (possible_positives + K.epsilon())\n",
    "        return recall\n",
    "\n",
    "    def precision(y_true, y_pred):\n",
    "        \"\"\"Precision metric.\n",
    "\n",
    "        Only computes a batch-wise average of precision.\n",
    "\n",
    "        Computes the precision, a metric for multi-label classification of\n",
    "        how many selected items are relevant.\n",
    "        \"\"\"\n",
    "        true_positives = K.sum(K.round(K.clip(y_true * y_pred, 0, 1)))\n",
    "        predicted_positives = K.sum(K.round(K.clip(y_pred, 0, 1)))\n",
    "        precision = true_positives / (predicted_positives + K.epsilon())\n",
    "        return precision\n",
    "    precision = precision(y_true, y_pred)\n",
    "    recall = recall(y_true, y_pred)\n",
    "    return 2*((precision*recall)/(precision+recall+K.epsilon()))"
   ]
  },
  {
   "cell_type": "code",
   "execution_count": 45,
   "metadata": {},
   "outputs": [],
   "source": [
    "from keras.utils.np_utils import to_categorical\n",
    "\n",
    "categorical_labels = to_categorical(4, num_classes=None)"
   ]
  },
  {
   "cell_type": "code",
   "execution_count": 129,
   "metadata": {},
   "outputs": [
    {
     "name": "stdout",
     "output_type": "stream",
     "text": [
      "_________________________________________________________________\n",
      "Layer (type)                 Output Shape              Param #   \n",
      "=================================================================\n",
      "dense_138 (Dense)            (None, 16)                448       \n",
      "_________________________________________________________________\n",
      "dropout_52 (Dropout)         (None, 16)                0         \n",
      "_________________________________________________________________\n",
      "dense_139 (Dense)            (None, 16)                272       \n",
      "_________________________________________________________________\n",
      "dense_140 (Dense)            (None, 16)                272       \n",
      "_________________________________________________________________\n",
      "dropout_53 (Dropout)         (None, 16)                0         \n",
      "_________________________________________________________________\n",
      "dense_141 (Dense)            (None, 4)                 68        \n",
      "=================================================================\n",
      "Total params: 1,060\n",
      "Trainable params: 1,060\n",
      "Non-trainable params: 0\n",
      "_________________________________________________________________\n"
     ]
    }
   ],
   "source": [
    "neurons = 16\n",
    "batch_size = 512         \n",
    "epochs = 500\n",
    "output_size = 4\n",
    "loss = 'sparse_categorical_crossentropy'\n",
    "learning_rate = 0.0001\n",
    "optimizer= Adam(learning_rate)\n",
    "\n",
    "hidden_layer_activation = 'tanh'\n",
    "\n",
    "# Build a simple network\n",
    "neural_network = Sequential()\n",
    "neural_network.add(Dense(neurons, input_shape=(X_train.shape[1],),activation=hidden_layer_activation))\n",
    "neural_network.add(Dropout(0.25))\n",
    "neural_network.add(Dense(neurons, activation=hidden_layer_activation))\n",
    "neural_network.add(Dense(neurons, activation=hidden_layer_activation))\n",
    "neural_network.add(Dropout(0.25))\n",
    "neural_network.add(Dense(units=output_size, activation=('softmax')))\n",
    "# Compile the network\n",
    "neural_network.compile(loss=loss, optimizer=optimizer, metrics=['accuracy'])\n",
    "neural_network.summary()"
   ]
  },
  {
   "cell_type": "code",
   "execution_count": 130,
   "metadata": {
    "scrolled": true
   },
   "outputs": [
    {
     "name": "stdout",
     "output_type": "stream",
     "text": [
      "Train on 8617 samples, validate on 950 samples\n",
      "Epoch 1/500\n",
      "8617/8617 [==============================] - 2s 226us/step - loss: 1.4505 - acc: 0.2475 - val_loss: 1.3152 - val_acc: 0.1737\n",
      "Epoch 2/500\n",
      "8617/8617 [==============================] - 0s 24us/step - loss: 1.4223 - acc: 0.2709 - val_loss: 1.2868 - val_acc: 0.1789\n",
      "Epoch 3/500\n",
      "8617/8617 [==============================] - 0s 24us/step - loss: 1.3933 - acc: 0.2970 - val_loss: 1.2615 - val_acc: 0.1811\n",
      "Epoch 4/500\n",
      "8617/8617 [==============================] - 0s 25us/step - loss: 1.3656 - acc: 0.3245 - val_loss: 1.2394 - val_acc: 0.5716\n",
      "Epoch 5/500\n",
      "8617/8617 [==============================] - 0s 24us/step - loss: 1.3583 - acc: 0.3446 - val_loss: 1.2200 - val_acc: 0.5726\n",
      "Epoch 6/500\n",
      "8617/8617 [==============================] - 0s 24us/step - loss: 1.3357 - acc: 0.3745 - val_loss: 1.2037 - val_acc: 0.5726\n",
      "Epoch 7/500\n",
      "8617/8617 [==============================] - 0s 24us/step - loss: 1.3120 - acc: 0.4032 - val_loss: 1.1895 - val_acc: 0.5737\n",
      "Epoch 8/500\n",
      "8617/8617 [==============================] - 0s 24us/step - loss: 1.3001 - acc: 0.4224 - val_loss: 1.1776 - val_acc: 0.5737\n",
      "Epoch 9/500\n",
      "8617/8617 [==============================] - 0s 24us/step - loss: 1.2859 - acc: 0.4355 - val_loss: 1.1680 - val_acc: 0.5737\n",
      "Epoch 10/500\n",
      "8617/8617 [==============================] - 0s 24us/step - loss: 1.2785 - acc: 0.4538 - val_loss: 1.1598 - val_acc: 0.5737\n",
      "Epoch 11/500\n",
      "8617/8617 [==============================] - 0s 24us/step - loss: 1.2807 - acc: 0.4619 - val_loss: 1.1531 - val_acc: 0.5737\n",
      "Epoch 12/500\n",
      "8617/8617 [==============================] - 0s 26us/step - loss: 1.2743 - acc: 0.4717 - val_loss: 1.1478 - val_acc: 0.5737\n",
      "Epoch 13/500\n",
      "8617/8617 [==============================] - 0s 24us/step - loss: 1.2575 - acc: 0.4791 - val_loss: 1.1437 - val_acc: 0.5747\n",
      "Epoch 14/500\n",
      "8617/8617 [==============================] - 0s 23us/step - loss: 1.2515 - acc: 0.5019 - val_loss: 1.1403 - val_acc: 0.5737\n",
      "Epoch 15/500\n",
      "8617/8617 [==============================] - 0s 26us/step - loss: 1.2516 - acc: 0.5015 - val_loss: 1.1378 - val_acc: 0.5737\n",
      "Epoch 16/500\n",
      "8617/8617 [==============================] - 0s 25us/step - loss: 1.2510 - acc: 0.5027 - val_loss: 1.1357 - val_acc: 0.5737\n",
      "Epoch 17/500\n",
      "8617/8617 [==============================] - 0s 23us/step - loss: 1.2368 - acc: 0.5182 - val_loss: 1.1342 - val_acc: 0.5737\n",
      "Epoch 18/500\n",
      "8617/8617 [==============================] - 0s 26us/step - loss: 1.2403 - acc: 0.5125 - val_loss: 1.1332 - val_acc: 0.5737\n",
      "Epoch 19/500\n",
      "8617/8617 [==============================] - 0s 26us/step - loss: 1.2315 - acc: 0.5198 - val_loss: 1.1325 - val_acc: 0.5737\n",
      "Epoch 20/500\n",
      "8617/8617 [==============================] - 0s 26us/step - loss: 1.2172 - acc: 0.5243 - val_loss: 1.1319 - val_acc: 0.5737\n",
      "Epoch 21/500\n",
      "8617/8617 [==============================] - 0s 24us/step - loss: 1.2240 - acc: 0.5228 - val_loss: 1.1316 - val_acc: 0.5737\n",
      "Epoch 22/500\n",
      "8617/8617 [==============================] - 0s 24us/step - loss: 1.2239 - acc: 0.5247 - val_loss: 1.1314 - val_acc: 0.5737\n",
      "Epoch 23/500\n",
      "8617/8617 [==============================] - 0s 26us/step - loss: 1.2259 - acc: 0.5259 - val_loss: 1.1311 - val_acc: 0.5737\n",
      "Epoch 24/500\n",
      "8617/8617 [==============================] - 0s 26us/step - loss: 1.2275 - acc: 0.5287 - val_loss: 1.1310 - val_acc: 0.5737\n",
      "Epoch 25/500\n",
      "8617/8617 [==============================] - 0s 25us/step - loss: 1.2232 - acc: 0.5303 - val_loss: 1.1309 - val_acc: 0.5737\n",
      "Epoch 26/500\n",
      "8617/8617 [==============================] - 0s 26us/step - loss: 1.2148 - acc: 0.5298 - val_loss: 1.1310 - val_acc: 0.5737\n",
      "Epoch 27/500\n",
      "8617/8617 [==============================] - 0s 24us/step - loss: 1.2189 - acc: 0.5335 - val_loss: 1.1310 - val_acc: 0.5737\n",
      "Epoch 28/500\n",
      "8617/8617 [==============================] - 0s 24us/step - loss: 1.2199 - acc: 0.5330 - val_loss: 1.1310 - val_acc: 0.5737\n",
      "Epoch 29/500\n",
      "8617/8617 [==============================] - 0s 26us/step - loss: 1.2104 - acc: 0.5360 - val_loss: 1.1312 - val_acc: 0.5737\n",
      "Epoch 30/500\n",
      "8617/8617 [==============================] - 0s 25us/step - loss: 1.2133 - acc: 0.5349 - val_loss: 1.1313 - val_acc: 0.5737\n",
      "Epoch 31/500\n",
      "8617/8617 [==============================] - 0s 26us/step - loss: 1.2147 - acc: 0.5355 - val_loss: 1.1315 - val_acc: 0.5737\n",
      "Epoch 32/500\n",
      "8617/8617 [==============================] - 0s 24us/step - loss: 1.2132 - acc: 0.5379 - val_loss: 1.1315 - val_acc: 0.5737\n",
      "Epoch 33/500\n",
      "8617/8617 [==============================] - 0s 24us/step - loss: 1.2184 - acc: 0.5397 - val_loss: 1.1318 - val_acc: 0.5737\n",
      "Epoch 34/500\n",
      "8617/8617 [==============================] - 0s 25us/step - loss: 1.2080 - acc: 0.5426 - val_loss: 1.1318 - val_acc: 0.5737\n",
      "Epoch 35/500\n",
      "8617/8617 [==============================] - 0s 26us/step - loss: 1.2127 - acc: 0.5404 - val_loss: 1.1317 - val_acc: 0.5737\n",
      "Epoch 36/500\n",
      "8617/8617 [==============================] - 0s 24us/step - loss: 1.2087 - acc: 0.5381 - val_loss: 1.1318 - val_acc: 0.5737\n",
      "Epoch 37/500\n",
      "8617/8617 [==============================] - 0s 24us/step - loss: 1.2075 - acc: 0.5409 - val_loss: 1.1319 - val_acc: 0.5737\n",
      "Epoch 38/500\n",
      "8617/8617 [==============================] - 0s 24us/step - loss: 1.2042 - acc: 0.5435 - val_loss: 1.1319 - val_acc: 0.5737\n",
      "Epoch 39/500\n",
      "8617/8617 [==============================] - 0s 25us/step - loss: 1.2030 - acc: 0.5431 - val_loss: 1.1319 - val_acc: 0.5737\n",
      "Epoch 40/500\n",
      "8617/8617 [==============================] - 0s 25us/step - loss: 1.2048 - acc: 0.5454 - val_loss: 1.1320 - val_acc: 0.5737\n",
      "Epoch 41/500\n",
      "8617/8617 [==============================] - 0s 23us/step - loss: 1.1948 - acc: 0.5430 - val_loss: 1.1320 - val_acc: 0.5737\n",
      "Epoch 42/500\n",
      "8617/8617 [==============================] - 0s 25us/step - loss: 1.2024 - acc: 0.5460 - val_loss: 1.1322 - val_acc: 0.5737\n",
      "Epoch 43/500\n",
      "8617/8617 [==============================] - 0s 26us/step - loss: 1.1934 - acc: 0.5447 - val_loss: 1.1322 - val_acc: 0.5737\n",
      "Epoch 44/500\n",
      "8617/8617 [==============================] - 0s 24us/step - loss: 1.2017 - acc: 0.5445 - val_loss: 1.1323 - val_acc: 0.5737\n",
      "Epoch 45/500\n",
      "8617/8617 [==============================] - 0s 24us/step - loss: 1.2027 - acc: 0.5455 - val_loss: 1.1324 - val_acc: 0.5737\n",
      "Epoch 46/500\n",
      "8617/8617 [==============================] - 0s 24us/step - loss: 1.1979 - acc: 0.5462 - val_loss: 1.1325 - val_acc: 0.5737\n",
      "Epoch 47/500\n",
      "8617/8617 [==============================] - 0s 29us/step - loss: 1.1978 - acc: 0.5485 - val_loss: 1.1325 - val_acc: 0.5737\n",
      "Epoch 48/500\n",
      "8617/8617 [==============================] - 0s 24us/step - loss: 1.1951 - acc: 0.5469 - val_loss: 1.1325 - val_acc: 0.5737\n",
      "Epoch 49/500\n",
      "8617/8617 [==============================] - 0s 24us/step - loss: 1.1978 - acc: 0.5469 - val_loss: 1.1326 - val_acc: 0.5737\n",
      "Epoch 50/500\n",
      "8617/8617 [==============================] - 0s 24us/step - loss: 1.1934 - acc: 0.5474 - val_loss: 1.1326 - val_acc: 0.5737\n",
      "Epoch 51/500\n",
      "8617/8617 [==============================] - 0s 24us/step - loss: 1.1961 - acc: 0.5478 - val_loss: 1.1325 - val_acc: 0.5737\n",
      "Epoch 52/500\n",
      "8617/8617 [==============================] - 0s 27us/step - loss: 1.1936 - acc: 0.5478 - val_loss: 1.1326 - val_acc: 0.5737\n",
      "Epoch 53/500\n",
      "8617/8617 [==============================] - 0s 24us/step - loss: 1.1900 - acc: 0.5462 - val_loss: 1.1326 - val_acc: 0.5737\n",
      "Epoch 54/500\n",
      "8617/8617 [==============================] - 0s 24us/step - loss: 1.1952 - acc: 0.5512 - val_loss: 1.1325 - val_acc: 0.5737\n",
      "Epoch 55/500\n",
      "8617/8617 [==============================] - 0s 25us/step - loss: 1.1932 - acc: 0.5493 - val_loss: 1.1325 - val_acc: 0.5737\n",
      "Epoch 56/500\n",
      "8617/8617 [==============================] - 0s 25us/step - loss: 1.1951 - acc: 0.5517 - val_loss: 1.1325 - val_acc: 0.5737\n",
      "Epoch 57/500\n",
      "8617/8617 [==============================] - 0s 25us/step - loss: 1.1908 - acc: 0.5500 - val_loss: 1.1325 - val_acc: 0.5737\n",
      "Epoch 58/500\n",
      "8617/8617 [==============================] - 0s 24us/step - loss: 1.1877 - acc: 0.5505 - val_loss: 1.1326 - val_acc: 0.5737\n",
      "Epoch 59/500\n",
      "8617/8617 [==============================] - 0s 24us/step - loss: 1.1892 - acc: 0.5532 - val_loss: 1.1325 - val_acc: 0.5737\n",
      "Epoch 60/500\n"
     ]
    },
    {
     "name": "stdout",
     "output_type": "stream",
     "text": [
      "8617/8617 [==============================] - 0s 26us/step - loss: 1.1944 - acc: 0.5494 - val_loss: 1.1323 - val_acc: 0.5737\n",
      "Epoch 61/500\n",
      "8617/8617 [==============================] - 0s 24us/step - loss: 1.1931 - acc: 0.5497 - val_loss: 1.1324 - val_acc: 0.5737\n",
      "Epoch 62/500\n",
      "8617/8617 [==============================] - 0s 23us/step - loss: 1.1911 - acc: 0.5495 - val_loss: 1.1324 - val_acc: 0.5737\n",
      "Epoch 63/500\n",
      "8617/8617 [==============================] - 0s 24us/step - loss: 1.1904 - acc: 0.5501 - val_loss: 1.1324 - val_acc: 0.5737\n",
      "Epoch 64/500\n",
      "8617/8617 [==============================] - 0s 25us/step - loss: 1.1881 - acc: 0.5518 - val_loss: 1.1325 - val_acc: 0.5737\n",
      "Epoch 65/500\n",
      "8617/8617 [==============================] - 0s 24us/step - loss: 1.1856 - acc: 0.5530 - val_loss: 1.1326 - val_acc: 0.5737\n",
      "Epoch 66/500\n",
      "8617/8617 [==============================] - 0s 24us/step - loss: 1.1934 - acc: 0.5538 - val_loss: 1.1326 - val_acc: 0.5737\n",
      "Epoch 67/500\n",
      "8617/8617 [==============================] - 0s 25us/step - loss: 1.1946 - acc: 0.5529 - val_loss: 1.1326 - val_acc: 0.5737\n",
      "Epoch 68/500\n",
      "8617/8617 [==============================] - 0s 23us/step - loss: 1.1902 - acc: 0.5534 - val_loss: 1.1325 - val_acc: 0.5737\n",
      "Epoch 69/500\n",
      "8617/8617 [==============================] - 0s 26us/step - loss: 1.1902 - acc: 0.5519 - val_loss: 1.1325 - val_acc: 0.5737\n",
      "Epoch 70/500\n",
      "8617/8617 [==============================] - 0s 23us/step - loss: 1.1864 - acc: 0.5522 - val_loss: 1.1326 - val_acc: 0.5737\n",
      "Epoch 71/500\n",
      "8617/8617 [==============================] - 0s 25us/step - loss: 1.1820 - acc: 0.5553 - val_loss: 1.1325 - val_acc: 0.5737\n",
      "Epoch 72/500\n",
      "8617/8617 [==============================] - 0s 23us/step - loss: 1.1855 - acc: 0.5533 - val_loss: 1.1325 - val_acc: 0.5737\n",
      "Epoch 73/500\n",
      "8617/8617 [==============================] - 0s 23us/step - loss: 1.1862 - acc: 0.5556 - val_loss: 1.1325 - val_acc: 0.5737\n",
      "Epoch 74/500\n",
      "8617/8617 [==============================] - 0s 23us/step - loss: 1.1848 - acc: 0.5524 - val_loss: 1.1325 - val_acc: 0.5737\n",
      "Epoch 75/500\n",
      "8617/8617 [==============================] - 0s 25us/step - loss: 1.1839 - acc: 0.5529 - val_loss: 1.1327 - val_acc: 0.5737\n",
      "Epoch 76/500\n",
      "8617/8617 [==============================] - 0s 25us/step - loss: 1.1808 - acc: 0.5558 - val_loss: 1.1327 - val_acc: 0.5737\n",
      "Epoch 77/500\n",
      "8617/8617 [==============================] - 0s 26us/step - loss: 1.1871 - acc: 0.5545 - val_loss: 1.1326 - val_acc: 0.5737\n",
      "Epoch 78/500\n",
      "8617/8617 [==============================] - 0s 24us/step - loss: 1.1801 - acc: 0.5541 - val_loss: 1.1325 - val_acc: 0.5737\n",
      "Epoch 79/500\n",
      "8617/8617 [==============================] - 0s 23us/step - loss: 1.1827 - acc: 0.5575 - val_loss: 1.1326 - val_acc: 0.5737\n",
      "Epoch 80/500\n",
      "8617/8617 [==============================] - 0s 26us/step - loss: 1.1844 - acc: 0.5574 - val_loss: 1.1325 - val_acc: 0.5737\n",
      "Epoch 81/500\n",
      "8617/8617 [==============================] - 0s 24us/step - loss: 1.1802 - acc: 0.5544 - val_loss: 1.1326 - val_acc: 0.5737\n",
      "Epoch 82/500\n",
      "8617/8617 [==============================] - 0s 26us/step - loss: 1.1848 - acc: 0.5554 - val_loss: 1.1326 - val_acc: 0.5737\n",
      "Epoch 83/500\n",
      "8617/8617 [==============================] - 0s 23us/step - loss: 1.1856 - acc: 0.5559 - val_loss: 1.1326 - val_acc: 0.5737\n",
      "Epoch 84/500\n",
      "8617/8617 [==============================] - 0s 24us/step - loss: 1.1819 - acc: 0.5548 - val_loss: 1.1325 - val_acc: 0.5737\n",
      "Epoch 85/500\n",
      "8617/8617 [==============================] - 0s 25us/step - loss: 1.1832 - acc: 0.5555 - val_loss: 1.1324 - val_acc: 0.5737\n",
      "Epoch 86/500\n",
      "8617/8617 [==============================] - 0s 26us/step - loss: 1.1792 - acc: 0.5576 - val_loss: 1.1324 - val_acc: 0.5737\n",
      "Epoch 87/500\n",
      "8617/8617 [==============================] - 0s 25us/step - loss: 1.1820 - acc: 0.5552 - val_loss: 1.1324 - val_acc: 0.5737\n",
      "Epoch 88/500\n",
      "3072/8617 [=========>....................] - ETA: 0s - loss: 1.1854 - acc: 0.5521"
     ]
    },
    {
     "ename": "KeyboardInterrupt",
     "evalue": "",
     "output_type": "error",
     "traceback": [
      "\u001b[1;31m---------------------------------------------------------------------------\u001b[0m",
      "\u001b[1;31mKeyboardInterrupt\u001b[0m                         Traceback (most recent call last)",
      "\u001b[1;32m<ipython-input-130-e3c2179064df>\u001b[0m in \u001b[0;36m<module>\u001b[1;34m()\u001b[0m\n\u001b[1;32m----> 1\u001b[1;33m \u001b[0mneural_network\u001b[0m\u001b[1;33m.\u001b[0m\u001b[0mfit\u001b[0m\u001b[1;33m(\u001b[0m\u001b[0mX_train\u001b[0m\u001b[1;33m,\u001b[0m \u001b[0my_train\u001b[0m\u001b[1;33m,\u001b[0m \u001b[0mvalidation_data\u001b[0m\u001b[1;33m=\u001b[0m\u001b[1;33m(\u001b[0m\u001b[0mX_test\u001b[0m\u001b[1;33m,\u001b[0m \u001b[0my_test\u001b[0m\u001b[1;33m)\u001b[0m\u001b[1;33m,\u001b[0m \u001b[0mnb_epoch\u001b[0m\u001b[1;33m=\u001b[0m\u001b[0mepochs\u001b[0m\u001b[1;33m,\u001b[0m \u001b[0mbatch_size\u001b[0m\u001b[1;33m=\u001b[0m\u001b[0mbatch_size\u001b[0m\u001b[1;33m)\u001b[0m\u001b[1;33m\u001b[0m\u001b[0m\n\u001b[0m",
      "\u001b[1;32mc:\\users\\eugen\\anaconda3\\envs\\tensorflow\\lib\\site-packages\\keras\\models.py\u001b[0m in \u001b[0;36mfit\u001b[1;34m(self, x, y, batch_size, epochs, verbose, callbacks, validation_split, validation_data, shuffle, class_weight, sample_weight, initial_epoch, steps_per_epoch, validation_steps, **kwargs)\u001b[0m\n\u001b[0;32m    961\u001b[0m                               \u001b[0minitial_epoch\u001b[0m\u001b[1;33m=\u001b[0m\u001b[0minitial_epoch\u001b[0m\u001b[1;33m,\u001b[0m\u001b[1;33m\u001b[0m\u001b[0m\n\u001b[0;32m    962\u001b[0m                               \u001b[0msteps_per_epoch\u001b[0m\u001b[1;33m=\u001b[0m\u001b[0msteps_per_epoch\u001b[0m\u001b[1;33m,\u001b[0m\u001b[1;33m\u001b[0m\u001b[0m\n\u001b[1;32m--> 963\u001b[1;33m                               validation_steps=validation_steps)\n\u001b[0m\u001b[0;32m    964\u001b[0m \u001b[1;33m\u001b[0m\u001b[0m\n\u001b[0;32m    965\u001b[0m     def evaluate(self, x=None, y=None,\n",
      "\u001b[1;32mc:\\users\\eugen\\anaconda3\\envs\\tensorflow\\lib\\site-packages\\keras\\engine\\training.py\u001b[0m in \u001b[0;36mfit\u001b[1;34m(self, x, y, batch_size, epochs, verbose, callbacks, validation_split, validation_data, shuffle, class_weight, sample_weight, initial_epoch, steps_per_epoch, validation_steps, **kwargs)\u001b[0m\n\u001b[0;32m   1703\u001b[0m                               \u001b[0minitial_epoch\u001b[0m\u001b[1;33m=\u001b[0m\u001b[0minitial_epoch\u001b[0m\u001b[1;33m,\u001b[0m\u001b[1;33m\u001b[0m\u001b[0m\n\u001b[0;32m   1704\u001b[0m                               \u001b[0msteps_per_epoch\u001b[0m\u001b[1;33m=\u001b[0m\u001b[0msteps_per_epoch\u001b[0m\u001b[1;33m,\u001b[0m\u001b[1;33m\u001b[0m\u001b[0m\n\u001b[1;32m-> 1705\u001b[1;33m                               validation_steps=validation_steps)\n\u001b[0m\u001b[0;32m   1706\u001b[0m \u001b[1;33m\u001b[0m\u001b[0m\n\u001b[0;32m   1707\u001b[0m     def evaluate(self, x=None, y=None,\n",
      "\u001b[1;32mc:\\users\\eugen\\anaconda3\\envs\\tensorflow\\lib\\site-packages\\keras\\engine\\training.py\u001b[0m in \u001b[0;36m_fit_loop\u001b[1;34m(self, f, ins, out_labels, batch_size, epochs, verbose, callbacks, val_f, val_ins, shuffle, callback_metrics, initial_epoch, steps_per_epoch, validation_steps)\u001b[0m\n\u001b[0;32m   1233\u001b[0m                         \u001b[0mins_batch\u001b[0m\u001b[1;33m[\u001b[0m\u001b[0mi\u001b[0m\u001b[1;33m]\u001b[0m \u001b[1;33m=\u001b[0m \u001b[0mins_batch\u001b[0m\u001b[1;33m[\u001b[0m\u001b[0mi\u001b[0m\u001b[1;33m]\u001b[0m\u001b[1;33m.\u001b[0m\u001b[0mtoarray\u001b[0m\u001b[1;33m(\u001b[0m\u001b[1;33m)\u001b[0m\u001b[1;33m\u001b[0m\u001b[0m\n\u001b[0;32m   1234\u001b[0m \u001b[1;33m\u001b[0m\u001b[0m\n\u001b[1;32m-> 1235\u001b[1;33m                     \u001b[0mouts\u001b[0m \u001b[1;33m=\u001b[0m \u001b[0mf\u001b[0m\u001b[1;33m(\u001b[0m\u001b[0mins_batch\u001b[0m\u001b[1;33m)\u001b[0m\u001b[1;33m\u001b[0m\u001b[0m\n\u001b[0m\u001b[0;32m   1236\u001b[0m                     \u001b[1;32mif\u001b[0m \u001b[1;32mnot\u001b[0m \u001b[0misinstance\u001b[0m\u001b[1;33m(\u001b[0m\u001b[0mouts\u001b[0m\u001b[1;33m,\u001b[0m \u001b[0mlist\u001b[0m\u001b[1;33m)\u001b[0m\u001b[1;33m:\u001b[0m\u001b[1;33m\u001b[0m\u001b[0m\n\u001b[0;32m   1237\u001b[0m                         \u001b[0mouts\u001b[0m \u001b[1;33m=\u001b[0m \u001b[1;33m[\u001b[0m\u001b[0mouts\u001b[0m\u001b[1;33m]\u001b[0m\u001b[1;33m\u001b[0m\u001b[0m\n",
      "\u001b[1;32mc:\\users\\eugen\\anaconda3\\envs\\tensorflow\\lib\\site-packages\\keras\\backend\\tensorflow_backend.py\u001b[0m in \u001b[0;36m__call__\u001b[1;34m(self, inputs)\u001b[0m\n\u001b[0;32m   2476\u001b[0m         \u001b[0msession\u001b[0m \u001b[1;33m=\u001b[0m \u001b[0mget_session\u001b[0m\u001b[1;33m(\u001b[0m\u001b[1;33m)\u001b[0m\u001b[1;33m\u001b[0m\u001b[0m\n\u001b[0;32m   2477\u001b[0m         updated = session.run(fetches=fetches, feed_dict=feed_dict,\n\u001b[1;32m-> 2478\u001b[1;33m                               **self.session_kwargs)\n\u001b[0m\u001b[0;32m   2479\u001b[0m         \u001b[1;32mreturn\u001b[0m \u001b[0mupdated\u001b[0m\u001b[1;33m[\u001b[0m\u001b[1;33m:\u001b[0m\u001b[0mlen\u001b[0m\u001b[1;33m(\u001b[0m\u001b[0mself\u001b[0m\u001b[1;33m.\u001b[0m\u001b[0moutputs\u001b[0m\u001b[1;33m)\u001b[0m\u001b[1;33m]\u001b[0m\u001b[1;33m\u001b[0m\u001b[0m\n\u001b[0;32m   2480\u001b[0m \u001b[1;33m\u001b[0m\u001b[0m\n",
      "\u001b[1;32mc:\\users\\eugen\\anaconda3\\envs\\tensorflow\\lib\\site-packages\\tensorflow\\python\\client\\session.py\u001b[0m in \u001b[0;36mrun\u001b[1;34m(self, fetches, feed_dict, options, run_metadata)\u001b[0m\n\u001b[0;32m    898\u001b[0m     \u001b[1;32mtry\u001b[0m\u001b[1;33m:\u001b[0m\u001b[1;33m\u001b[0m\u001b[0m\n\u001b[0;32m    899\u001b[0m       result = self._run(None, fetches, feed_dict, options_ptr,\n\u001b[1;32m--> 900\u001b[1;33m                          run_metadata_ptr)\n\u001b[0m\u001b[0;32m    901\u001b[0m       \u001b[1;32mif\u001b[0m \u001b[0mrun_metadata\u001b[0m\u001b[1;33m:\u001b[0m\u001b[1;33m\u001b[0m\u001b[0m\n\u001b[0;32m    902\u001b[0m         \u001b[0mproto_data\u001b[0m \u001b[1;33m=\u001b[0m \u001b[0mtf_session\u001b[0m\u001b[1;33m.\u001b[0m\u001b[0mTF_GetBuffer\u001b[0m\u001b[1;33m(\u001b[0m\u001b[0mrun_metadata_ptr\u001b[0m\u001b[1;33m)\u001b[0m\u001b[1;33m\u001b[0m\u001b[0m\n",
      "\u001b[1;32mc:\\users\\eugen\\anaconda3\\envs\\tensorflow\\lib\\site-packages\\tensorflow\\python\\client\\session.py\u001b[0m in \u001b[0;36m_run\u001b[1;34m(self, handle, fetches, feed_dict, options, run_metadata)\u001b[0m\n\u001b[0;32m   1133\u001b[0m     \u001b[1;32mif\u001b[0m \u001b[0mfinal_fetches\u001b[0m \u001b[1;32mor\u001b[0m \u001b[0mfinal_targets\u001b[0m \u001b[1;32mor\u001b[0m \u001b[1;33m(\u001b[0m\u001b[0mhandle\u001b[0m \u001b[1;32mand\u001b[0m \u001b[0mfeed_dict_tensor\u001b[0m\u001b[1;33m)\u001b[0m\u001b[1;33m:\u001b[0m\u001b[1;33m\u001b[0m\u001b[0m\n\u001b[0;32m   1134\u001b[0m       results = self._do_run(handle, final_targets, final_fetches,\n\u001b[1;32m-> 1135\u001b[1;33m                              feed_dict_tensor, options, run_metadata)\n\u001b[0m\u001b[0;32m   1136\u001b[0m     \u001b[1;32melse\u001b[0m\u001b[1;33m:\u001b[0m\u001b[1;33m\u001b[0m\u001b[0m\n\u001b[0;32m   1137\u001b[0m       \u001b[0mresults\u001b[0m \u001b[1;33m=\u001b[0m \u001b[1;33m[\u001b[0m\u001b[1;33m]\u001b[0m\u001b[1;33m\u001b[0m\u001b[0m\n",
      "\u001b[1;32mc:\\users\\eugen\\anaconda3\\envs\\tensorflow\\lib\\site-packages\\tensorflow\\python\\client\\session.py\u001b[0m in \u001b[0;36m_do_run\u001b[1;34m(self, handle, target_list, fetch_list, feed_dict, options, run_metadata)\u001b[0m\n\u001b[0;32m   1314\u001b[0m     \u001b[1;32mif\u001b[0m \u001b[0mhandle\u001b[0m \u001b[1;32mis\u001b[0m \u001b[1;32mNone\u001b[0m\u001b[1;33m:\u001b[0m\u001b[1;33m\u001b[0m\u001b[0m\n\u001b[0;32m   1315\u001b[0m       return self._do_call(_run_fn, feeds, fetches, targets, options,\n\u001b[1;32m-> 1316\u001b[1;33m                            run_metadata)\n\u001b[0m\u001b[0;32m   1317\u001b[0m     \u001b[1;32melse\u001b[0m\u001b[1;33m:\u001b[0m\u001b[1;33m\u001b[0m\u001b[0m\n\u001b[0;32m   1318\u001b[0m       \u001b[1;32mreturn\u001b[0m \u001b[0mself\u001b[0m\u001b[1;33m.\u001b[0m\u001b[0m_do_call\u001b[0m\u001b[1;33m(\u001b[0m\u001b[0m_prun_fn\u001b[0m\u001b[1;33m,\u001b[0m \u001b[0mhandle\u001b[0m\u001b[1;33m,\u001b[0m \u001b[0mfeeds\u001b[0m\u001b[1;33m,\u001b[0m \u001b[0mfetches\u001b[0m\u001b[1;33m)\u001b[0m\u001b[1;33m\u001b[0m\u001b[0m\n",
      "\u001b[1;32mc:\\users\\eugen\\anaconda3\\envs\\tensorflow\\lib\\site-packages\\tensorflow\\python\\client\\session.py\u001b[0m in \u001b[0;36m_do_call\u001b[1;34m(self, fn, *args)\u001b[0m\n\u001b[0;32m   1320\u001b[0m   \u001b[1;32mdef\u001b[0m \u001b[0m_do_call\u001b[0m\u001b[1;33m(\u001b[0m\u001b[0mself\u001b[0m\u001b[1;33m,\u001b[0m \u001b[0mfn\u001b[0m\u001b[1;33m,\u001b[0m \u001b[1;33m*\u001b[0m\u001b[0margs\u001b[0m\u001b[1;33m)\u001b[0m\u001b[1;33m:\u001b[0m\u001b[1;33m\u001b[0m\u001b[0m\n\u001b[0;32m   1321\u001b[0m     \u001b[1;32mtry\u001b[0m\u001b[1;33m:\u001b[0m\u001b[1;33m\u001b[0m\u001b[0m\n\u001b[1;32m-> 1322\u001b[1;33m       \u001b[1;32mreturn\u001b[0m \u001b[0mfn\u001b[0m\u001b[1;33m(\u001b[0m\u001b[1;33m*\u001b[0m\u001b[0margs\u001b[0m\u001b[1;33m)\u001b[0m\u001b[1;33m\u001b[0m\u001b[0m\n\u001b[0m\u001b[0;32m   1323\u001b[0m     \u001b[1;32mexcept\u001b[0m \u001b[0merrors\u001b[0m\u001b[1;33m.\u001b[0m\u001b[0mOpError\u001b[0m \u001b[1;32mas\u001b[0m \u001b[0me\u001b[0m\u001b[1;33m:\u001b[0m\u001b[1;33m\u001b[0m\u001b[0m\n\u001b[0;32m   1324\u001b[0m       \u001b[0mmessage\u001b[0m \u001b[1;33m=\u001b[0m \u001b[0mcompat\u001b[0m\u001b[1;33m.\u001b[0m\u001b[0mas_text\u001b[0m\u001b[1;33m(\u001b[0m\u001b[0me\u001b[0m\u001b[1;33m.\u001b[0m\u001b[0mmessage\u001b[0m\u001b[1;33m)\u001b[0m\u001b[1;33m\u001b[0m\u001b[0m\n",
      "\u001b[1;32mc:\\users\\eugen\\anaconda3\\envs\\tensorflow\\lib\\site-packages\\tensorflow\\python\\client\\session.py\u001b[0m in \u001b[0;36m_run_fn\u001b[1;34m(feed_dict, fetch_list, target_list, options, run_metadata)\u001b[0m\n\u001b[0;32m   1305\u001b[0m       \u001b[0mself\u001b[0m\u001b[1;33m.\u001b[0m\u001b[0m_extend_graph\u001b[0m\u001b[1;33m(\u001b[0m\u001b[1;33m)\u001b[0m\u001b[1;33m\u001b[0m\u001b[0m\n\u001b[0;32m   1306\u001b[0m       return self._call_tf_sessionrun(\n\u001b[1;32m-> 1307\u001b[1;33m           options, feed_dict, fetch_list, target_list, run_metadata)\n\u001b[0m\u001b[0;32m   1308\u001b[0m \u001b[1;33m\u001b[0m\u001b[0m\n\u001b[0;32m   1309\u001b[0m     \u001b[1;32mdef\u001b[0m \u001b[0m_prun_fn\u001b[0m\u001b[1;33m(\u001b[0m\u001b[0mhandle\u001b[0m\u001b[1;33m,\u001b[0m \u001b[0mfeed_dict\u001b[0m\u001b[1;33m,\u001b[0m \u001b[0mfetch_list\u001b[0m\u001b[1;33m)\u001b[0m\u001b[1;33m:\u001b[0m\u001b[1;33m\u001b[0m\u001b[0m\n",
      "\u001b[1;32mc:\\users\\eugen\\anaconda3\\envs\\tensorflow\\lib\\site-packages\\tensorflow\\python\\client\\session.py\u001b[0m in \u001b[0;36m_call_tf_sessionrun\u001b[1;34m(self, options, feed_dict, fetch_list, target_list, run_metadata)\u001b[0m\n\u001b[0;32m   1407\u001b[0m       return tf_session.TF_SessionRun_wrapper(\n\u001b[0;32m   1408\u001b[0m           \u001b[0mself\u001b[0m\u001b[1;33m.\u001b[0m\u001b[0m_session\u001b[0m\u001b[1;33m,\u001b[0m \u001b[0moptions\u001b[0m\u001b[1;33m,\u001b[0m \u001b[0mfeed_dict\u001b[0m\u001b[1;33m,\u001b[0m \u001b[0mfetch_list\u001b[0m\u001b[1;33m,\u001b[0m \u001b[0mtarget_list\u001b[0m\u001b[1;33m,\u001b[0m\u001b[1;33m\u001b[0m\u001b[0m\n\u001b[1;32m-> 1409\u001b[1;33m           run_metadata)\n\u001b[0m\u001b[0;32m   1410\u001b[0m     \u001b[1;32melse\u001b[0m\u001b[1;33m:\u001b[0m\u001b[1;33m\u001b[0m\u001b[0m\n\u001b[0;32m   1411\u001b[0m       \u001b[1;32mwith\u001b[0m \u001b[0merrors\u001b[0m\u001b[1;33m.\u001b[0m\u001b[0mraise_exception_on_not_ok_status\u001b[0m\u001b[1;33m(\u001b[0m\u001b[1;33m)\u001b[0m \u001b[1;32mas\u001b[0m \u001b[0mstatus\u001b[0m\u001b[1;33m:\u001b[0m\u001b[1;33m\u001b[0m\u001b[0m\n",
      "\u001b[1;31mKeyboardInterrupt\u001b[0m: "
     ]
    }
   ],
   "source": [
    "neural_network.fit(X_train, y_train, validation_data=(X_test, y_test), nb_epoch=epochs, batch_size=batch_size)"
   ]
  },
  {
   "cell_type": "code",
   "execution_count": null,
   "metadata": {},
   "outputs": [],
   "source": []
  },
  {
   "cell_type": "code",
   "execution_count": null,
   "metadata": {},
   "outputs": [],
   "source": []
  }
 ],
 "metadata": {
  "kernelspec": {
   "display_name": "Python 3",
   "language": "python",
   "name": "python3"
  },
  "language_info": {
   "codemirror_mode": {
    "name": "ipython",
    "version": 3
   },
   "file_extension": ".py",
   "mimetype": "text/x-python",
   "name": "python",
   "nbconvert_exporter": "python",
   "pygments_lexer": "ipython3",
   "version": "3.6.5"
  }
 },
 "nbformat": 4,
 "nbformat_minor": 2
}
