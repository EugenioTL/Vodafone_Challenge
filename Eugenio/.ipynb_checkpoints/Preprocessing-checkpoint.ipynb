{
 "cells": [
  {
   "cell_type": "code",
   "execution_count": 42,
   "metadata": {},
   "outputs": [],
   "source": [
    "import pandas as pd\n",
    "import numpy as np\n",
    "\n",
    "# Random seed for reproducibility\n",
    "seed = 202\n",
    "np.random.seed(seed)\n",
    "\n",
    "# Ignore warnings\n",
    "import warnings\n",
    "warnings.simplefilter('ignore')\n",
    "\n",
    "# Import the train set and test set\n",
    "train_data = pd.read_csv(\"trainset.csv\", delimiter=\",\")\n",
    "test_data = pd.read_csv(\"testset.csv\", delimiter=\",\")"
   ]
  },
  {
   "cell_type": "code",
   "execution_count": 2,
   "metadata": {},
   "outputs": [],
   "source": [
    "def normalize_costumer_age(dataset):\n",
    "    #Take all unique Cosumer_Age, assigns to each age alphabetically ordered a mean age\n",
    "    customer_age_sort = sorted(dataset['CustomerAge'].dropna().unique())\n",
    "\n",
    "    mapping = {}\n",
    "    for idx, val in enumerate(customer_age_sort):\n",
    "        mapping[val] = int(15+idx*10)\n",
    "        \n",
    "    ages = dataset['CustomerAge']\n",
    "    ages.replace(mapping, inplace=True)\n",
    "\n",
    "    #print(mapping, regions)\n",
    "    ages = np.asarray(ages)\n",
    "    ages = pd.DataFrame({'CustomerAge': ages})\n",
    "    \n",
    "     # Remove the previous CustomerAge and then insert the new CustomerAge\n",
    "    dataset = dataset.drop('CustomerAge', axis=1)\n",
    "    dataset = dataset.join(ages)\n",
    "    return dataset"
   ]
  },
  {
   "cell_type": "code",
   "execution_count": 3,
   "metadata": {},
   "outputs": [],
   "source": [
    "def normalize_region(dataset):\n",
    "    #Take all unique Regions, assigns to each region alphabetically ordered a monotonic growing number\n",
    "    regions_sort = sorted(dataset['Region'].dropna().unique())\n",
    "    #regions_len = len(regions_sort) #20 Regions\n",
    "\n",
    "    mapping = {}\n",
    "    for idx, val in enumerate(regions_sort):\n",
    "        mapping[val] = int(idx)\n",
    "\n",
    "    regions = dataset['Region']\n",
    "    regions.replace(mapping, inplace=True)\n",
    "\n",
    "    #print(mapping, regions)\n",
    "    regions = np.asarray(regions)\n",
    "    regions = pd.DataFrame({'Region': regions})\n",
    "    \n",
    "    # Remove the previous Region columns and then insert the new Region\n",
    "    dataset = dataset.drop('Region', axis=1)\n",
    "    dataset = dataset.join(regions)\n",
    "    return dataset"
   ]
  },
  {
   "cell_type": "code",
   "execution_count": 4,
   "metadata": {},
   "outputs": [],
   "source": [
    "def normalize_province(dataset):\n",
    "    #Take all unique Provinces, assigns to each province alphabetically ordered a monotonic growing number\n",
    "    provinces_sort = sorted(dataset['Province'].dropna().unique())\n",
    "    #provinces_len = len(provinces_sort) #110 Provinces\n",
    "\n",
    "    mapping = {}\n",
    "    for idx, val in enumerate(provinces_sort):\n",
    "        mapping[val] = idx\n",
    "\n",
    "    provinces = dataset['Province']\n",
    "    provinces.replace(mapping, inplace=True)\n",
    "\n",
    "\n",
    "    #print(provinces_sort, provinces_len)\n",
    "    #print(mapping, provinces)\n",
    "    provinces = np.asarray(provinces)\n",
    "    provinces = pd.DataFrame({'Province': provinces})\n",
    "    \n",
    "    # Remove the previous Province columns and then insert the new Province\n",
    "    dataset = dataset.drop('Province', axis=1)\n",
    "    dataset = dataset.join(provinces)\n",
    "    return dataset"
   ]
  },
  {
   "cell_type": "code",
   "execution_count": 5,
   "metadata": {},
   "outputs": [],
   "source": [
    "def normalize_product(dataset):\n",
    "    if('Product' in dataset.columns):\n",
    "        #Take all unique Products, assigns to each product alphabetically ordered a monotonic growing number\n",
    "        products_sort = sorted(dataset['Product'].dropna().unique())\n",
    "\n",
    "        mapping = {}\n",
    "        for idx, val in enumerate(products_sort):\n",
    "            mapping[val] = int(idx)\n",
    "\n",
    "        products = dataset['Product']\n",
    "        products.replace(mapping, inplace=True)\n",
    "\n",
    "        #print(mapping, products)\n",
    "        products = np.asarray(products)\n",
    "        products = pd.DataFrame({'Product': products})\n",
    "\n",
    "        # Remove the previous Product columns and then insert the newProduct\n",
    "        dataset = dataset.drop('Product', axis=1)\n",
    "        dataset = dataset.join(products)\n",
    "    return dataset"
   ]
  },
  {
   "cell_type": "code",
   "execution_count": 6,
   "metadata": {},
   "outputs": [],
   "source": [
    "def drop_useless_columns(dataset):\n",
    "    if('DataAllowanceOneShot' in dataset.columns and 'EstimatedDevicePrice' in dataset.columns and 'ZipCode' in dataset.columns):\n",
    "        dataset = dataset.drop('DataAllowanceOneShot', axis=1)\n",
    "        dataset = dataset.drop('EstimatedDevicePrice', axis=1)\n",
    "        dataset = dataset.drop('ZipCode', axis=1)\n",
    "    return dataset"
   ]
  },
  {
   "cell_type": "code",
   "execution_count": 7,
   "metadata": {},
   "outputs": [],
   "source": [
    "def add_modified_sample(dataset):\n",
    "    modified = []\n",
    "    for i in dataset.isnull().any(axis=1):\n",
    "        if(i):\n",
    "            modified.append(1)\n",
    "        else:\n",
    "            modified.append(0)\n",
    "    modified = np.asarray(modified)\n",
    "    modified = pd.DataFrame({'IsModified': modified})\n",
    "    dataset = dataset.join(modified)\n",
    "    return dataset"
   ]
  },
  {
   "cell_type": "code",
   "execution_count": 8,
   "metadata": {},
   "outputs": [],
   "source": [
    "def normalize_data_set(dataset):\n",
    "    dataset = drop_useless_columns(dataset)\n",
    "    dataset = add_modified_sample(dataset)\n",
    "    dataset = normalize_costumer_age(dataset)\n",
    "    dataset = normalize_region(dataset)\n",
    "    dataset = normalize_province(dataset)\n",
    "    dataset = normalize_product(dataset)\n",
    "    return dataset"
   ]
  },
  {
   "cell_type": "code",
   "execution_count": 9,
   "metadata": {
    "scrolled": true
   },
   "outputs": [
    {
     "data": {
      "text/html": [
       "<div>\n",
       "<style scoped>\n",
       "    .dataframe tbody tr th:only-of-type {\n",
       "        vertical-align: middle;\n",
       "    }\n",
       "\n",
       "    .dataframe tbody tr th {\n",
       "        vertical-align: top;\n",
       "    }\n",
       "\n",
       "    .dataframe thead th {\n",
       "        text-align: right;\n",
       "    }\n",
       "</style>\n",
       "<table border=\"1\" class=\"dataframe\">\n",
       "  <thead>\n",
       "    <tr style=\"text-align: right;\">\n",
       "      <th></th>\n",
       "      <th>ID</th>\n",
       "      <th>DeviceFlag4G</th>\n",
       "      <th>DataArpu</th>\n",
       "      <th>DataAllowanceContinuous</th>\n",
       "      <th>DeviceFlagSmartphone</th>\n",
       "      <th>MonthlyVoiceTrafficCount</th>\n",
       "      <th>MonthlySMSTrafficCount</th>\n",
       "      <th>MonthlyDataTraffic</th>\n",
       "      <th>CustomerGender</th>\n",
       "      <th>CustomerExpatriate</th>\n",
       "      <th>...</th>\n",
       "      <th>Streaming-Applications</th>\n",
       "      <th>Terminals</th>\n",
       "      <th>Unclassified</th>\n",
       "      <th>VoIP</th>\n",
       "      <th>Web-Applications</th>\n",
       "      <th>IsModified</th>\n",
       "      <th>CustomerAge</th>\n",
       "      <th>Region</th>\n",
       "      <th>Province</th>\n",
       "      <th>Product</th>\n",
       "    </tr>\n",
       "  </thead>\n",
       "  <tbody>\n",
       "    <tr>\n",
       "      <th>0</th>\n",
       "      <td>10930</td>\n",
       "      <td>1.0</td>\n",
       "      <td>0.156221</td>\n",
       "      <td>0.010514</td>\n",
       "      <td>1.0</td>\n",
       "      <td>0.018229</td>\n",
       "      <td>0.001623</td>\n",
       "      <td>0.011007</td>\n",
       "      <td>1.0</td>\n",
       "      <td>0.0</td>\n",
       "      <td>...</td>\n",
       "      <td>0.000000</td>\n",
       "      <td>0.0</td>\n",
       "      <td>0.000000</td>\n",
       "      <td>0.000000</td>\n",
       "      <td>0.000000</td>\n",
       "      <td>0</td>\n",
       "      <td>45.0</td>\n",
       "      <td>16.0</td>\n",
       "      <td>14.0</td>\n",
       "      <td>0</td>\n",
       "    </tr>\n",
       "    <tr>\n",
       "      <th>1</th>\n",
       "      <td>10170</td>\n",
       "      <td>0.0</td>\n",
       "      <td>0.155086</td>\n",
       "      <td>0.054729</td>\n",
       "      <td>1.0</td>\n",
       "      <td>0.051432</td>\n",
       "      <td>0.001498</td>\n",
       "      <td>0.039382</td>\n",
       "      <td>0.0</td>\n",
       "      <td>0.0</td>\n",
       "      <td>...</td>\n",
       "      <td>0.071551</td>\n",
       "      <td>0.0</td>\n",
       "      <td>0.001896</td>\n",
       "      <td>0.000058</td>\n",
       "      <td>0.775410</td>\n",
       "      <td>1</td>\n",
       "      <td>25.0</td>\n",
       "      <td>NaN</td>\n",
       "      <td>NaN</td>\n",
       "      <td>0</td>\n",
       "    </tr>\n",
       "    <tr>\n",
       "      <th>2</th>\n",
       "      <td>1492</td>\n",
       "      <td>1.0</td>\n",
       "      <td>NaN</td>\n",
       "      <td>NaN</td>\n",
       "      <td>1.0</td>\n",
       "      <td>0.058594</td>\n",
       "      <td>0.001248</td>\n",
       "      <td>0.033031</td>\n",
       "      <td>1.0</td>\n",
       "      <td>1.0</td>\n",
       "      <td>...</td>\n",
       "      <td>0.099438</td>\n",
       "      <td>0.0</td>\n",
       "      <td>0.012055</td>\n",
       "      <td>0.003579</td>\n",
       "      <td>0.499158</td>\n",
       "      <td>1</td>\n",
       "      <td>35.0</td>\n",
       "      <td>NaN</td>\n",
       "      <td>NaN</td>\n",
       "      <td>0</td>\n",
       "    </tr>\n",
       "    <tr>\n",
       "      <th>3</th>\n",
       "      <td>7424</td>\n",
       "      <td>1.0</td>\n",
       "      <td>0.155086</td>\n",
       "      <td>0.004987</td>\n",
       "      <td>1.0</td>\n",
       "      <td>0.097005</td>\n",
       "      <td>0.000499</td>\n",
       "      <td>0.002928</td>\n",
       "      <td>0.0</td>\n",
       "      <td>0.0</td>\n",
       "      <td>...</td>\n",
       "      <td>0.041474</td>\n",
       "      <td>0.0</td>\n",
       "      <td>0.051692</td>\n",
       "      <td>0.013263</td>\n",
       "      <td>0.301528</td>\n",
       "      <td>0</td>\n",
       "      <td>55.0</td>\n",
       "      <td>8.0</td>\n",
       "      <td>15.0</td>\n",
       "      <td>2</td>\n",
       "    </tr>\n",
       "    <tr>\n",
       "      <th>4</th>\n",
       "      <td>4332</td>\n",
       "      <td>1.0</td>\n",
       "      <td>0.155086</td>\n",
       "      <td>0.038148</td>\n",
       "      <td>1.0</td>\n",
       "      <td>0.034505</td>\n",
       "      <td>0.000375</td>\n",
       "      <td>0.001002</td>\n",
       "      <td>1.0</td>\n",
       "      <td>0.0</td>\n",
       "      <td>...</td>\n",
       "      <td>0.005975</td>\n",
       "      <td>0.0</td>\n",
       "      <td>0.000857</td>\n",
       "      <td>0.019149</td>\n",
       "      <td>0.926208</td>\n",
       "      <td>0</td>\n",
       "      <td>65.0</td>\n",
       "      <td>19.0</td>\n",
       "      <td>103.0</td>\n",
       "      <td>0</td>\n",
       "    </tr>\n",
       "  </tbody>\n",
       "</table>\n",
       "<p>5 rows × 35 columns</p>\n",
       "</div>"
      ],
      "text/plain": [
       "      ID  DeviceFlag4G  DataArpu  DataAllowanceContinuous  \\\n",
       "0  10930           1.0  0.156221                 0.010514   \n",
       "1  10170           0.0  0.155086                 0.054729   \n",
       "2   1492           1.0       NaN                      NaN   \n",
       "3   7424           1.0  0.155086                 0.004987   \n",
       "4   4332           1.0  0.155086                 0.038148   \n",
       "\n",
       "   DeviceFlagSmartphone  MonthlyVoiceTrafficCount  MonthlySMSTrafficCount  \\\n",
       "0                   1.0                  0.018229                0.001623   \n",
       "1                   1.0                  0.051432                0.001498   \n",
       "2                   1.0                  0.058594                0.001248   \n",
       "3                   1.0                  0.097005                0.000499   \n",
       "4                   1.0                  0.034505                0.000375   \n",
       "\n",
       "   MonthlyDataTraffic  CustomerGender  CustomerExpatriate   ...     \\\n",
       "0            0.011007             1.0                 0.0   ...      \n",
       "1            0.039382             0.0                 0.0   ...      \n",
       "2            0.033031             1.0                 1.0   ...      \n",
       "3            0.002928             0.0                 0.0   ...      \n",
       "4            0.001002             1.0                 0.0   ...      \n",
       "\n",
       "   Streaming-Applications  Terminals  Unclassified      VoIP  \\\n",
       "0                0.000000        0.0      0.000000  0.000000   \n",
       "1                0.071551        0.0      0.001896  0.000058   \n",
       "2                0.099438        0.0      0.012055  0.003579   \n",
       "3                0.041474        0.0      0.051692  0.013263   \n",
       "4                0.005975        0.0      0.000857  0.019149   \n",
       "\n",
       "   Web-Applications  IsModified  CustomerAge  Region  Province  Product  \n",
       "0          0.000000           0         45.0    16.0      14.0        0  \n",
       "1          0.775410           1         25.0     NaN       NaN        0  \n",
       "2          0.499158           1         35.0     NaN       NaN        0  \n",
       "3          0.301528           0         55.0     8.0      15.0        2  \n",
       "4          0.926208           0         65.0    19.0     103.0        0  \n",
       "\n",
       "[5 rows x 35 columns]"
      ]
     },
     "execution_count": 9,
     "metadata": {},
     "output_type": "execute_result"
    }
   ],
   "source": [
    "train_data = normalize_data_set(train_data)\n",
    "test_data = normalize_data_set(test_data)\n",
    "train_data.head()"
   ]
  },
  {
   "cell_type": "code",
   "execution_count": 10,
   "metadata": {},
   "outputs": [
    {
     "data": {
      "text/plain": [
       "Index(['ID', 'DeviceFlag4G', 'DataArpu', 'DataAllowanceContinuous',\n",
       "       'DeviceFlagSmartphone', 'MonthlyVoiceTrafficCount',\n",
       "       'MonthlySMSTrafficCount', 'MonthlyDataTraffic', 'CustomerGender',\n",
       "       'CustomerExpatriate', 'ChurnScore', 'AirportConnectionsDuration',\n",
       "       'AirportConnectionsCount', 'StationConnectionsDuration',\n",
       "       'StationConnectionsCount', 'ParkingConnectionsDuration',\n",
       "       'ParkingConnectionsCount', 'File-Transfer', 'Games',\n",
       "       'Instant-Messaging-Applications', 'Mail', 'Music-Streaming',\n",
       "       'Network-Operation', 'P2P-Applications', 'Security',\n",
       "       'Streaming-Applications', 'Terminals', 'Unclassified', 'VoIP',\n",
       "       'Web-Applications', 'IsModified', 'CustomerAge', 'Region', 'Province',\n",
       "       'Product'],\n",
       "      dtype='object')"
      ]
     },
     "execution_count": 10,
     "metadata": {},
     "output_type": "execute_result"
    }
   ],
   "source": [
    "train_data.columns"
   ]
  },
  {
   "cell_type": "code",
   "execution_count": 11,
   "metadata": {},
   "outputs": [],
   "source": [
    "# binary: DeviceFlag4G, DeviceFlagSmartphone, CustomerGender, CustomerExpatriate"
   ]
  },
  {
   "cell_type": "markdown",
   "metadata": {},
   "source": [
    "# CHECKPOINT"
   ]
  },
  {
   "cell_type": "code",
   "execution_count": 12,
   "metadata": {},
   "outputs": [],
   "source": [
    "trainset = train_data\n",
    "testset = test_data"
   ]
  },
  {
   "cell_type": "markdown",
   "metadata": {},
   "source": [
    "## Regions"
   ]
  },
  {
   "cell_type": "code",
   "execution_count": 25,
   "metadata": {},
   "outputs": [],
   "source": [
    "import math\n",
    "\n",
    "def fill_nan(field, data):\n",
    "    nnan = data.isnull()[field].sum()\n",
    "    field_id = data[['ID',field]]\n",
    "    field_count = field_id.groupby(field).count()\n",
    "    field_per = round(field_count/(len(data[field].dropna(axis=0)))*100)\n",
    "    field_2badd = round(field_per/100*nnan)\n",
    "    \n",
    "    le = len(data)\n",
    "    ct = field_2badd.values[0]\n",
    "    j = 0\n",
    "    for i in range(le):\n",
    "        if(math.isnan(data[field][i])):\n",
    "            data[field][i] = field_2badd.index[j]\n",
    "            ct -=1\n",
    "            if(ct <= 0.0 and j <= len(field_2badd)):\n",
    "                j += 1\n",
    "                ct = field_2badd.values[j]\n",
    "    return data"
   ]
  },
  {
   "cell_type": "code",
   "execution_count": 14,
   "metadata": {},
   "outputs": [
    {
     "data": {
      "text/plain": [
       "(0    16.0\n",
       " 1     0.0\n",
       " 2     0.0\n",
       " 3     8.0\n",
       " 4    19.0\n",
       " Name: Region, dtype: float64, 0    12.0\n",
       " 1     3.0\n",
       " 2    15.0\n",
       " 3     0.0\n",
       " 4     7.0\n",
       " Name: Region, dtype: float64)"
      ]
     },
     "execution_count": 14,
     "metadata": {},
     "output_type": "execute_result"
    }
   ],
   "source": [
    "trainset = fill_nan('Region', trainset)\n",
    "testset = fill_nan('Region', testset)\n",
    "trainset.Region.head(),testset.Region.head()"
   ]
  },
  {
   "cell_type": "code",
   "execution_count": 15,
   "metadata": {},
   "outputs": [
    {
     "name": "stdout",
     "output_type": "stream",
     "text": [
      "(9567, 35)\n",
      "count    9567.000000\n",
      "mean        9.137347\n",
      "std         4.999765\n",
      "min         0.000000\n",
      "25%         6.000000\n",
      "50%         8.000000\n",
      "75%        13.000000\n",
      "max        19.000000\n",
      "Name: Region, dtype: float64\n"
     ]
    }
   ],
   "source": [
    "print(trainset.shape)\n",
    "print(trainset['Region'].describe())"
   ]
  },
  {
   "cell_type": "code",
   "execution_count": 16,
   "metadata": {},
   "outputs": [
    {
     "name": "stdout",
     "output_type": "stream",
     "text": [
      "(3190, 34)\n",
      "count    3190.000000\n",
      "mean        9.234796\n",
      "std         5.094994\n",
      "min         0.000000\n",
      "25%         6.000000\n",
      "50%         8.000000\n",
      "75%        13.000000\n",
      "max        19.000000\n",
      "Name: Region, dtype: float64\n"
     ]
    }
   ],
   "source": [
    "print(testset.shape)\n",
    "print(testset['Region'].describe())"
   ]
  },
  {
   "cell_type": "code",
   "execution_count": 17,
   "metadata": {},
   "outputs": [],
   "source": [
    "def ohe_region(data):\n",
    "    train_ohe = data\n",
    "    region_ohe = train_ohe['Region']\n",
    "\n",
    "    nord_regions = [4,5,7,8,11,17,18,19]\n",
    "    nord = []\n",
    "    centro_regions = [0,6,9,10,15,16]\n",
    "    centro = []\n",
    "    sud_regions = [1,2,3,12,13,14]\n",
    "    sud = []\n",
    "\n",
    "    for i in region_ohe.values:\n",
    "        if i in nord_regions:\n",
    "            nord.append(1)\n",
    "            centro.append(0)\n",
    "            sud.append(0)\n",
    "        elif i in centro_regions:\n",
    "            nord.append(0)\n",
    "            centro.append(1)\n",
    "            sud.append(0)    \n",
    "        elif i in sud_regions:\n",
    "            nord.append(0)\n",
    "            centro.append(0)\n",
    "            sud.append(1)\n",
    "        else:\n",
    "            nord.append(np.nan)\n",
    "            centro.append(np.nan)\n",
    "            sud.append(np.nan)\n",
    "\n",
    "    no = pd.DataFrame({'North_Region' : nord})\n",
    "    ce = pd.DataFrame({'Middle_Region' : centro})\n",
    "    su = pd.DataFrame({'South_Region' : sud})\n",
    "\n",
    "    train_ohe = train_ohe.join(no)\n",
    "    train_ohe = train_ohe.join(ce)\n",
    "    train_ohe = train_ohe.join(su)\n",
    "\n",
    "    data = train_ohe\n",
    "    return data"
   ]
  },
  {
   "cell_type": "code",
   "execution_count": 18,
   "metadata": {},
   "outputs": [
    {
     "data": {
      "text/plain": [
       "(0    16.0\n",
       " 1     0.0\n",
       " 2     0.0\n",
       " 3     8.0\n",
       " 4    19.0\n",
       " Name: Region, dtype: float64, 0    12.0\n",
       " 1     3.0\n",
       " 2    15.0\n",
       " 3     0.0\n",
       " 4     7.0\n",
       " Name: Region, dtype: float64)"
      ]
     },
     "execution_count": 18,
     "metadata": {},
     "output_type": "execute_result"
    }
   ],
   "source": [
    "trainset = ohe_region(trainset)\n",
    "testset = ohe_region(testset)\n",
    "trainset.Region.head(),testset.Region.head()"
   ]
  },
  {
   "cell_type": "code",
   "execution_count": 19,
   "metadata": {},
   "outputs": [
    {
     "name": "stdout",
     "output_type": "stream",
     "text": [
      "(9567, 38)\n",
      "count    9567.000000\n",
      "mean        0.478102\n",
      "std         0.499546\n",
      "min         0.000000\n",
      "25%         0.000000\n",
      "50%         0.000000\n",
      "75%         1.000000\n",
      "max         1.000000\n",
      "Name: North_Region, dtype: float64\n"
     ]
    }
   ],
   "source": [
    "print(trainset.shape)\n",
    "print(trainset['North_Region'].describe())"
   ]
  },
  {
   "cell_type": "code",
   "execution_count": 20,
   "metadata": {},
   "outputs": [
    {
     "name": "stdout",
     "output_type": "stream",
     "text": [
      "(3190, 37)\n",
      "count    3190.000000\n",
      "mean        0.483699\n",
      "std         0.499813\n",
      "min         0.000000\n",
      "25%         0.000000\n",
      "50%         0.000000\n",
      "75%         1.000000\n",
      "max         1.000000\n",
      "Name: North_Region, dtype: float64\n"
     ]
    }
   ],
   "source": [
    "print(testset.shape)\n",
    "print(testset['North_Region'].describe())"
   ]
  },
  {
   "cell_type": "markdown",
   "metadata": {},
   "source": [
    "## Provinces"
   ]
  },
  {
   "cell_type": "code",
   "execution_count": 21,
   "metadata": {
    "scrolled": true
   },
   "outputs": [
    {
     "data": {
      "text/plain": [
       "(6528    93.0\n",
       " 2817    71.0\n",
       " 660     42.0\n",
       " 159     42.0\n",
       " 5469    93.0\n",
       " Name: Province, dtype: float64, 2825    71.0\n",
       " 1527    42.0\n",
       " 2090    42.0\n",
       " 138     24.0\n",
       " 366     42.0\n",
       " Name: Province, dtype: float64)"
      ]
     },
     "execution_count": 21,
     "metadata": {},
     "output_type": "execute_result"
    }
   ],
   "source": [
    "trainset = trainset.sort_values(by='Region')\n",
    "trainset['Province'] = trainset['Province'].fillna(method='ffill')\n",
    "testset = testset.sort_values(by='Region')\n",
    "testset['Province'] = testset['Province'].fillna(method='ffill')\n",
    "trainset['Province'].head(5),testset['Province'].head(5)"
   ]
  },
  {
   "cell_type": "code",
   "execution_count": 22,
   "metadata": {},
   "outputs": [
    {
     "name": "stdout",
     "output_type": "stream",
     "text": [
      "(9567, 38)\n",
      "count    9567.000000\n",
      "mean       56.406606\n",
      "std        31.561575\n",
      "min         0.000000\n",
      "25%        26.000000\n",
      "50%        58.000000\n",
      "75%        84.000000\n",
      "max       109.000000\n",
      "Name: Province, dtype: float64\n"
     ]
    }
   ],
   "source": [
    "print(trainset.shape)\n",
    "print(trainset['Province'].describe())"
   ]
  },
  {
   "cell_type": "code",
   "execution_count": 23,
   "metadata": {},
   "outputs": [
    {
     "name": "stdout",
     "output_type": "stream",
     "text": [
      "(3190, 37)\n",
      "count    3190.000000\n",
      "mean       56.869906\n",
      "std        31.473508\n",
      "min         0.000000\n",
      "25%        27.000000\n",
      "50%        58.000000\n",
      "75%        84.000000\n",
      "max       109.000000\n",
      "Name: Province, dtype: float64\n"
     ]
    }
   ],
   "source": [
    "print(testset.shape)\n",
    "print(testset['Province'].describe())"
   ]
  },
  {
   "cell_type": "markdown",
   "metadata": {},
   "source": [
    "## CustomerAge"
   ]
  },
  {
   "cell_type": "code",
   "execution_count": 27,
   "metadata": {},
   "outputs": [
    {
     "data": {
      "text/plain": [
       "(6528    35.0\n",
       " 2817    55.0\n",
       " 660     45.0\n",
       " 159     25.0\n",
       " 5469    65.0\n",
       " Name: CustomerAge, dtype: float64, 2825    25.0\n",
       " 1527    55.0\n",
       " 2090    55.0\n",
       " 138     35.0\n",
       " 366     35.0\n",
       " Name: CustomerAge, dtype: float64)"
      ]
     },
     "execution_count": 27,
     "metadata": {},
     "output_type": "execute_result"
    }
   ],
   "source": [
    "trainset = fill_nan('CustomerAge', trainset)\n",
    "testset = fill_nan('CustomerAge', testset)\n",
    "trainset.CustomerAge.head(), testset.CustomerAge.head()"
   ]
  },
  {
   "cell_type": "code",
   "execution_count": 28,
   "metadata": {},
   "outputs": [
    {
     "name": "stdout",
     "output_type": "stream",
     "text": [
      "(9567, 38)\n",
      "count    9567.000000\n",
      "mean       44.799310\n",
      "std        14.600451\n",
      "min        15.000000\n",
      "25%        35.000000\n",
      "50%        45.000000\n",
      "75%        55.000000\n",
      "max        85.000000\n",
      "Name: CustomerAge, dtype: float64\n"
     ]
    }
   ],
   "source": [
    "print(trainset.shape)\n",
    "print(trainset['CustomerAge'].describe())"
   ]
  },
  {
   "cell_type": "code",
   "execution_count": 30,
   "metadata": {},
   "outputs": [
    {
     "name": "stdout",
     "output_type": "stream",
     "text": [
      "(3190, 37)\n",
      "count    3190.000000\n",
      "mean       44.432602\n",
      "std        14.443508\n",
      "min        15.000000\n",
      "25%        35.000000\n",
      "50%        45.000000\n",
      "75%        55.000000\n",
      "max        85.000000\n",
      "Name: CustomerAge, dtype: float64\n"
     ]
    }
   ],
   "source": [
    "print(testset.shape)\n",
    "print(testset['CustomerAge'].describe())"
   ]
  },
  {
   "cell_type": "code",
   "execution_count": 31,
   "metadata": {},
   "outputs": [],
   "source": [
    "def ohe_customer_age(data):\n",
    "    train_ohe = data\n",
    "    age_ohe = trainset['CustomerAge']\n",
    "\n",
    "    young_customer = [5,15,25]\n",
    "    young = []\n",
    "    adult_customer = [35,45,55]\n",
    "    adult = []\n",
    "    old_customer = [65,75,85]\n",
    "    old = []\n",
    "\n",
    "    for i in age_ohe.values:\n",
    "        if i in young_customer:\n",
    "            young.append(1)\n",
    "            adult.append(0)\n",
    "            old.append(0)\n",
    "        elif i in adult_customer:\n",
    "            young.append(0)\n",
    "            adult.append(1)\n",
    "            old.append(0)    \n",
    "        elif i in old_customer:\n",
    "            young.append(0)\n",
    "            adult.append(0)\n",
    "            old.append(1)\n",
    "        else:\n",
    "            young.append(np.nan)\n",
    "            adult.append(np.nan)\n",
    "            old.append(np.nan)\n",
    "\n",
    "    yo = pd.DataFrame({'Young_Customer' : young})\n",
    "    ad = pd.DataFrame({'Adult_Customer' : adult})\n",
    "    ol = pd.DataFrame({'Old_Customer' : old})\n",
    "\n",
    "    train_ohe = train_ohe.join(yo)\n",
    "    train_ohe = train_ohe.join(ad)\n",
    "    train_ohe = train_ohe.join(ol)\n",
    "\n",
    "    data = train_ohe\n",
    "    return data"
   ]
  },
  {
   "cell_type": "code",
   "execution_count": 32,
   "metadata": {},
   "outputs": [
    {
     "data": {
      "text/plain": [
       "(6528    0.0\n",
       " 2817    0.0\n",
       " 660     0.0\n",
       " 159     0.0\n",
       " 5469    0.0\n",
       " Name: Region, dtype: float64, 2825    0.0\n",
       " 1527    0.0\n",
       " 2090    0.0\n",
       " 138     0.0\n",
       " 366     0.0\n",
       " Name: Region, dtype: float64)"
      ]
     },
     "execution_count": 32,
     "metadata": {},
     "output_type": "execute_result"
    }
   ],
   "source": [
    "trainset = ohe_customer_age(trainset)\n",
    "testset = ohe_customer_age(testset)\n",
    "trainset.Region.head(),testset.Region.head()"
   ]
  },
  {
   "cell_type": "code",
   "execution_count": 33,
   "metadata": {},
   "outputs": [
    {
     "name": "stdout",
     "output_type": "stream",
     "text": [
      "(9567, 41)\n",
      "count    9567.000000\n",
      "mean        0.150308\n",
      "std         0.357392\n",
      "min         0.000000\n",
      "25%         0.000000\n",
      "50%         0.000000\n",
      "75%         0.000000\n",
      "max         1.000000\n",
      "Name: Old_Customer, dtype: float64\n"
     ]
    }
   ],
   "source": [
    "print(trainset.shape)\n",
    "print(trainset['Old_Customer'].describe())"
   ]
  },
  {
   "cell_type": "code",
   "execution_count": 34,
   "metadata": {},
   "outputs": [
    {
     "name": "stdout",
     "output_type": "stream",
     "text": [
      "(3190, 40)\n",
      "count    3190.000000\n",
      "mean        0.139185\n",
      "std         0.346194\n",
      "min         0.000000\n",
      "25%         0.000000\n",
      "50%         0.000000\n",
      "75%         0.000000\n",
      "max         1.000000\n",
      "Name: Old_Customer, dtype: float64\n"
     ]
    }
   ],
   "source": [
    "print(testset.shape)\n",
    "print(testset['Old_Customer'].describe())"
   ]
  },
  {
   "cell_type": "markdown",
   "metadata": {},
   "source": [
    "## MonthlyVoiceTrafficCount - MonthlySMSTrafficCount - MonthlyDataTraffic"
   ]
  },
  {
   "cell_type": "code",
   "execution_count": 35,
   "metadata": {},
   "outputs": [],
   "source": [
    "trainset = trainset.fillna(trainset.mean())\n",
    "testset = trainset.fillna(testset.mean())"
   ]
  },
  {
   "cell_type": "markdown",
   "metadata": {},
   "source": [
    "## Export .csv document"
   ]
  },
  {
   "cell_type": "code",
   "execution_count": 39,
   "metadata": {},
   "outputs": [],
   "source": [
    "trainset.to_csv('train_rodolfo.csv', index = False, encoding='utf-8')\n",
    "testset.to_csv('test_rodolfo.csv', index = False, encoding='utf-8')"
   ]
  },
  {
   "cell_type": "code",
   "execution_count": null,
   "metadata": {},
   "outputs": [],
   "source": [
    "trainset.CustomerExpatriate"
   ]
  }
 ],
 "metadata": {
  "kernelspec": {
   "display_name": "Python 3",
   "language": "python",
   "name": "python3"
  },
  "language_info": {
   "codemirror_mode": {
    "name": "ipython",
    "version": 3
   },
   "file_extension": ".py",
   "mimetype": "text/x-python",
   "name": "python",
   "nbconvert_exporter": "python",
   "pygments_lexer": "ipython3",
   "version": "3.6.5"
  }
 },
 "nbformat": 4,
 "nbformat_minor": 2
}
