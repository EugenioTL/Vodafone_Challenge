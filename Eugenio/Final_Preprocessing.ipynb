{
 "cells": [
  {
   "cell_type": "code",
   "execution_count": 1,
   "metadata": {},
   "outputs": [],
   "source": [
    "import pandas as pd\n",
    "import numpy as np\n",
    "\n",
    "# Random seed for reproducibility\n",
    "seed = 202\n",
    "np.random.seed(seed)\n",
    "\n",
    "# Ignore warnings\n",
    "import warnings\n",
    "warnings.simplefilter('ignore')\n",
    "\n",
    "# Import the train set and test set\n",
    "train_data = pd.read_csv(\"polimi_dataset_challenge_train_v1.csv\", delimiter=\",\")\n",
    "test_data = pd.read_csv(\"polimi_dataset_challenge_test_to_predict_v1.csv\", delimiter=\",\")"
   ]
  },
  {
   "cell_type": "code",
   "execution_count": 2,
   "metadata": {},
   "outputs": [],
   "source": [
    "def normalize_costumer_age(dataset):\n",
    "    #Take all unique Cosumer_Age, assigns to each age alphabetically ordered a mean age\n",
    "    customer_age_sort = sorted(dataset['CustomerAge'].dropna().unique())\n",
    "\n",
    "    mapping = {}\n",
    "    for idx, val in enumerate(customer_age_sort):\n",
    "        mapping[val] = int(15+idx*10)\n",
    "        \n",
    "    ages = dataset['CustomerAge']\n",
    "    ages.replace(mapping, inplace=True)\n",
    "\n",
    "    #print(mapping, regions)\n",
    "    ages = np.asarray(ages)\n",
    "    ages = pd.DataFrame({'CustomerAge': ages})\n",
    "    \n",
    "     # Remove the previous CustomerAge and then insert the new CustomerAge\n",
    "    dataset = dataset.drop('CustomerAge', axis=1)\n",
    "    dataset = dataset.join(ages)\n",
    "    return dataset"
   ]
  },
  {
   "cell_type": "code",
   "execution_count": 3,
   "metadata": {},
   "outputs": [],
   "source": [
    "def normalize_region(dataset):\n",
    "    #Take all unique Regions, assigns to each region alphabetically ordered a monotonic growing number\n",
    "    regions_sort = sorted(dataset['Region'].dropna().unique())\n",
    "    #regions_len = len(regions_sort) #20 Regions\n",
    "\n",
    "    mapping = {}\n",
    "    for idx, val in enumerate(regions_sort):\n",
    "        mapping[val] = int(idx)\n",
    "\n",
    "    regions = dataset['Region']\n",
    "    regions.replace(mapping, inplace=True)\n",
    "\n",
    "    #print(mapping, regions)\n",
    "    regions = np.asarray(regions)\n",
    "    regions = pd.DataFrame({'Region': regions})\n",
    "    \n",
    "    # Remove the previous Region columns and then insert the new Region\n",
    "    dataset = dataset.drop('Region', axis=1)\n",
    "    dataset = dataset.join(regions)\n",
    "    return dataset"
   ]
  },
  {
   "cell_type": "code",
   "execution_count": 4,
   "metadata": {},
   "outputs": [],
   "source": [
    "def normalize_province(dataset):\n",
    "    #Take all unique Provinces, assigns to each province alphabetically ordered a monotonic growing number\n",
    "    provinces_sort = sorted(dataset['Province'].dropna().unique())\n",
    "    #provinces_len = len(provinces_sort) #110 Provinces\n",
    "\n",
    "    mapping = {}\n",
    "    for idx, val in enumerate(provinces_sort):\n",
    "        mapping[val] = idx\n",
    "\n",
    "    provinces = dataset['Province']\n",
    "    provinces.replace(mapping, inplace=True)\n",
    "\n",
    "\n",
    "    #print(provinces_sort, provinces_len)\n",
    "    #print(mapping, provinces)\n",
    "    provinces = np.asarray(provinces)\n",
    "    provinces = pd.DataFrame({'Province': provinces})\n",
    "    \n",
    "    # Remove the previous Province columns and then insert the new Province\n",
    "    dataset = dataset.drop('Province', axis=1)\n",
    "    dataset = dataset.join(provinces)\n",
    "    return dataset"
   ]
  },
  {
   "cell_type": "code",
   "execution_count": 5,
   "metadata": {},
   "outputs": [],
   "source": [
    "def normalize_product(dataset):\n",
    "    if('Product' in dataset.columns):\n",
    "        #Take all unique Products, assigns to each product alphabetically ordered a monotonic growing number\n",
    "        products_sort = sorted(dataset['Product'].dropna().unique())\n",
    "\n",
    "        mapping = {}\n",
    "        for idx, val in enumerate(products_sort):\n",
    "            mapping[val] = int(idx)\n",
    "\n",
    "        products = dataset['Product']\n",
    "        products.replace(mapping, inplace=True)\n",
    "\n",
    "        #print(mapping, products)\n",
    "        products = np.asarray(products)\n",
    "        products = pd.DataFrame({'Product': products})\n",
    "\n",
    "        # Remove the previous Product columns and then insert the newProduct\n",
    "        dataset = dataset.drop('Product', axis=1)\n",
    "        dataset = dataset.join(products)\n",
    "    return dataset"
   ]
  },
  {
   "cell_type": "code",
   "execution_count": 6,
   "metadata": {},
   "outputs": [],
   "source": [
    "def drop_useless_columns(dataset):\n",
    "    if('DataAllowanceOneShot' in dataset.columns and 'EstimatedDevicePrice' in dataset.columns and 'ZipCode' in dataset.columns):\n",
    "        dataset = dataset.drop('DataAllowanceOneShot', axis=1)\n",
    "        dataset = dataset.drop('EstimatedDevicePrice', axis=1)\n",
    "        #dataset = dataset.drop('ZipCode', axis=1)\n",
    "    return dataset"
   ]
  },
  {
   "cell_type": "code",
   "execution_count": 7,
   "metadata": {},
   "outputs": [],
   "source": [
    "def add_modified_sample(dataset):\n",
    "    modified = []\n",
    "    for i in dataset.isnull().any(axis=1):\n",
    "        if(i):\n",
    "            modified.append(1)\n",
    "        else:\n",
    "            modified.append(0)\n",
    "    modified = np.asarray(modified)\n",
    "    modified = pd.DataFrame({'IsModified': modified})\n",
    "    dataset = dataset.join(modified)\n",
    "    return dataset"
   ]
  },
  {
   "cell_type": "code",
   "execution_count": 8,
   "metadata": {},
   "outputs": [],
   "source": [
    "def normalize_data_set(dataset):\n",
    "    dataset = drop_useless_columns(dataset)\n",
    "    dataset = add_modified_sample(dataset)\n",
    "    dataset = normalize_costumer_age(dataset)\n",
    "    dataset = normalize_region(dataset)\n",
    "    dataset = normalize_province(dataset)\n",
    "    dataset = normalize_product(dataset)\n",
    "    return dataset"
   ]
  },
  {
   "cell_type": "code",
   "execution_count": 9,
   "metadata": {},
   "outputs": [],
   "source": [
    "train_data = normalize_data_set(train_data)\n",
    "test_data = normalize_data_set(test_data)"
   ]
  },
  {
   "cell_type": "markdown",
   "metadata": {},
   "source": [
    "# CHECKPOINT"
   ]
  },
  {
   "cell_type": "code",
   "execution_count": 10,
   "metadata": {},
   "outputs": [],
   "source": [
    "trainset = train_data\n",
    "testset = test_data"
   ]
  },
  {
   "cell_type": "code",
   "execution_count": 72,
   "metadata": {},
   "outputs": [],
   "source": [
    "import math\n",
    "\n",
    "def fill_nan(field, datap):\n",
    "    data = datap\n",
    "    nnan = data.isnull()[field].sum()\n",
    "    field_id = data[['ID',field]]\n",
    "    field_count = field_id.groupby(field).count()\n",
    "    field_per = round(field_count/(len(data[field].dropna(axis=0)))*100,5)\n",
    "    field_2badd = round(field_per/100*nnan,5)\n",
    "    \n",
    "#     print(len(field_2badd))\n",
    "#     print(field_2badd)\n",
    "#     print(field_2badd.sum())\n",
    "    \n",
    "    le = len(data)\n",
    "    ct = field_2badd.values[0]\n",
    "    j = 0\n",
    "    for i in range(le):\n",
    "        if(math.isnan(data[field][i])):\n",
    "            #print(\"2badd: \" + str(field_2badd.index[j]))\n",
    "            data[field][i] = field_2badd.index[j]\n",
    "            ct -=1\n",
    "            if(ct <= 0.0 and j <= len(field_2badd)):\n",
    "                j += 1\n",
    "                #print(\"ct: \" + str(ct))\n",
    "                ct = field_2badd.values[j]\n",
    "    return data"
   ]
  },
  {
   "cell_type": "markdown",
   "metadata": {},
   "source": [
    "## Regions"
   ]
  },
  {
   "cell_type": "code",
   "execution_count": 73,
   "metadata": {},
   "outputs": [
    {
     "data": {
      "text/plain": [
       "(0    16.0\n",
       " 1     0.0\n",
       " 2     0.0\n",
       " 3     8.0\n",
       " 4    19.0\n",
       " Name: Region, dtype: float64, 0    12.0\n",
       " 1     3.0\n",
       " 2    15.0\n",
       " 3     0.0\n",
       " 4     7.0\n",
       " Name: Region, dtype: float64)"
      ]
     },
     "execution_count": 73,
     "metadata": {},
     "output_type": "execute_result"
    }
   ],
   "source": [
    "trainset = fill_nan('Region', trainset)\n",
    "testset = fill_nan('Region', testset)\n",
    "trainset.Region.head(),testset.Region.head()"
   ]
  },
  {
   "cell_type": "code",
   "execution_count": 74,
   "metadata": {},
   "outputs": [
    {
     "name": "stdout",
     "output_type": "stream",
     "text": [
      "(9567, 35)\n",
      "count    9567.000000\n",
      "mean        9.138392\n",
      "std         4.995239\n",
      "min         0.000000\n",
      "25%         6.000000\n",
      "50%         8.000000\n",
      "75%        13.000000\n",
      "max        19.000000\n",
      "Name: Region, dtype: float64\n",
      "(3190, 34)\n",
      "count    3190.000000\n",
      "mean        9.228527\n",
      "std         5.073446\n",
      "min         0.000000\n",
      "25%         6.000000\n",
      "50%         8.000000\n",
      "75%        13.000000\n",
      "max        19.000000\n",
      "Name: Region, dtype: float64\n"
     ]
    }
   ],
   "source": [
    "print(trainset.shape)\n",
    "print(trainset['Region'].describe())\n",
    "print(testset.shape)\n",
    "print(testset['Region'].describe())"
   ]
  },
  {
   "cell_type": "markdown",
   "metadata": {},
   "source": [
    "## Provinces"
   ]
  },
  {
   "cell_type": "code",
   "execution_count": 75,
   "metadata": {},
   "outputs": [
    {
     "data": {
      "text/plain": [
       "(5628    93.0\n",
       " 6680    42.0\n",
       " 3710    42.0\n",
       " 8720    71.0\n",
       " 5351    71.0\n",
       " Name: Province, dtype: float64, 59       NaN\n",
       " 189     42.0\n",
       " 2722    93.0\n",
       " 3029    71.0\n",
       " 2721    24.0\n",
       " Name: Province, dtype: float64)"
      ]
     },
     "execution_count": 75,
     "metadata": {},
     "output_type": "execute_result"
    }
   ],
   "source": [
    "trainset = trainset.sort_values(by='Region')\n",
    "trainset['Province'] = trainset['Province'].fillna(method='ffill')\n",
    "testset = testset.sort_values(by='Region')\n",
    "testset['Province'] = testset['Province'].fillna(method='ffill')\n",
    "trainset['Province'].head(5),testset['Province'].head(5)"
   ]
  },
  {
   "cell_type": "code",
   "execution_count": 76,
   "metadata": {},
   "outputs": [
    {
     "name": "stdout",
     "output_type": "stream",
     "text": [
      "(9567, 35)\n",
      "count    9567.000000\n",
      "mean       56.903104\n",
      "std        31.357100\n",
      "min         0.000000\n",
      "25%        27.000000\n",
      "50%        58.000000\n",
      "75%        84.000000\n",
      "max       109.000000\n",
      "Name: Province, dtype: float64\n",
      "(3190, 34)\n",
      "count    3189.000000\n",
      "mean       56.803073\n",
      "std        31.752841\n",
      "min         0.000000\n",
      "25%        27.000000\n",
      "50%        58.000000\n",
      "75%        84.000000\n",
      "max       109.000000\n",
      "Name: Province, dtype: float64\n"
     ]
    }
   ],
   "source": [
    "print(trainset.shape)\n",
    "print(trainset['Province'].describe())\n",
    "print(testset.shape)\n",
    "print(testset['Province'].describe())"
   ]
  },
  {
   "cell_type": "markdown",
   "metadata": {},
   "source": [
    "## CustomerAge"
   ]
  },
  {
   "cell_type": "code",
   "execution_count": 77,
   "metadata": {},
   "outputs": [
    {
     "data": {
      "text/plain": [
       "(5628    45.0\n",
       " 6680    45.0\n",
       " 3710    45.0\n",
       " 8720    45.0\n",
       " 5351    25.0\n",
       " Name: CustomerAge, dtype: float64, (3190,))"
      ]
     },
     "execution_count": 77,
     "metadata": {},
     "output_type": "execute_result"
    }
   ],
   "source": [
    "trainset = fill_nan('CustomerAge', trainset)\n",
    "testset = fill_nan('CustomerAge', testset)\n",
    "trainset.CustomerAge.head(), testset.CustomerAge.shape"
   ]
  },
  {
   "cell_type": "code",
   "execution_count": 78,
   "metadata": {},
   "outputs": [
    {
     "name": "stdout",
     "output_type": "stream",
     "text": [
      "(9567, 35)\n",
      "count    9567.000000\n",
      "mean       44.778405\n",
      "std        14.593704\n",
      "min        15.000000\n",
      "25%        35.000000\n",
      "50%        45.000000\n",
      "75%        55.000000\n",
      "max        85.000000\n",
      "Name: CustomerAge, dtype: float64\n",
      "(3190, 34)\n",
      "count    3190.000000\n",
      "mean       44.398119\n",
      "std        14.401887\n",
      "min        15.000000\n",
      "25%        35.000000\n",
      "50%        45.000000\n",
      "75%        55.000000\n",
      "max        85.000000\n",
      "Name: CustomerAge, dtype: float64\n"
     ]
    }
   ],
   "source": [
    "print(trainset.shape)\n",
    "print(trainset['CustomerAge'].describe())\n",
    "print(testset.shape)\n",
    "print(testset['CustomerAge'].describe())"
   ]
  },
  {
   "cell_type": "markdown",
   "metadata": {},
   "source": [
    "## Continuous columns"
   ]
  },
  {
   "cell_type": "code",
   "execution_count": 79,
   "metadata": {},
   "outputs": [],
   "source": [
    "trainset = trainset.fillna(trainset.mean())\n",
    "testset = testset.fillna(testset.mean())"
   ]
  },
  {
   "cell_type": "markdown",
   "metadata": {},
   "source": [
    "# Save CSV"
   ]
  },
  {
   "cell_type": "code",
   "execution_count": 11,
   "metadata": {},
   "outputs": [],
   "source": [
    "trainset.to_csv('cat_train.csv', index = False, encoding='utf-8')\n",
    "testset.to_csv('cat_test.csv', index = False, encoding='utf-8')"
   ]
  }
 ],
 "metadata": {
  "kernelspec": {
   "display_name": "Python 3",
   "language": "python",
   "name": "python3"
  },
  "language_info": {
   "codemirror_mode": {
    "name": "ipython",
    "version": 3
   },
   "file_extension": ".py",
   "mimetype": "text/x-python",
   "name": "python",
   "nbconvert_exporter": "python",
   "pygments_lexer": "ipython3",
   "version": "3.6.5"
  }
 },
 "nbformat": 4,
 "nbformat_minor": 2
}
