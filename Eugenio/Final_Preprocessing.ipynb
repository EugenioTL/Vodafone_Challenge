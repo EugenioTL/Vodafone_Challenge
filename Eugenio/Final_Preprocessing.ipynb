{
 "cells": [
  {
   "cell_type": "code",
   "execution_count": 35,
   "metadata": {},
   "outputs": [],
   "source": [
    "import pandas as pd\n",
    "import numpy as np\n",
    "\n",
    "# Random seed for reproducibility\n",
    "seed = 202\n",
    "np.random.seed(seed)\n",
    "\n",
    "# Ignore warnings\n",
    "import warnings\n",
    "warnings.simplefilter('ignore')\n",
    "\n",
    "# Import the train set and test set\n",
    "train_data = pd.read_csv(\"polimi_dataset_challenge_train_v1.csv\", delimiter=\",\")\n",
    "test_data = pd.read_csv(\"polimi_dataset_challenge_test_to_predict_v1.csv\", delimiter=\",\")"
   ]
  },
  {
   "cell_type": "code",
   "execution_count": 36,
   "metadata": {},
   "outputs": [],
   "source": [
    "def merge_duration_count(dataset):\n",
    "    duration = dataset['AirportConnectionsDuration']+dataset['StationConnectionsDuration']+dataset['ParkingConnectionsDuration']\n",
    "    duration = np.asarray(duration/3)\n",
    "    duration = pd.DataFrame({'ConnectionsDuration': duration})\n",
    "    count = dataset['AirportConnectionsCount']+dataset['StationConnectionsCount']+dataset['ParkingConnectionsCount']\n",
    "    count = np.asarray(count/3)\n",
    "    count = pd.DataFrame({'ConnectionsCount': count})\n",
    "    \n",
    "    dataset = dataset.join(duration)\n",
    "    dataset = dataset.join(count)\n",
    "    return dataset"
   ]
  },
  {
   "cell_type": "code",
   "execution_count": 37,
   "metadata": {},
   "outputs": [],
   "source": [
    "def normalize_costumer_age(dataset):\n",
    "    #Take all unique Cosumer_Age, assigns to each age alphabetically ordered a mean age\n",
    "    customer_age_sort = sorted(dataset['CustomerAge'].dropna().unique())\n",
    "\n",
    "    mapping = {}\n",
    "    for idx, val in enumerate(customer_age_sort):\n",
    "        mapping[val] = int(15+idx*10)\n",
    "        \n",
    "    ages = dataset['CustomerAge']\n",
    "    ages.replace(mapping, inplace=True)\n",
    "\n",
    "    #print(mapping, regions)\n",
    "    ages = np.asarray(ages)\n",
    "    ages = pd.DataFrame({'CustomerAge': ages})\n",
    "    \n",
    "     # Remove the previous CustomerAge and then insert the new CustomerAge\n",
    "    dataset = dataset.drop('CustomerAge', axis=1)\n",
    "    dataset = dataset.join(ages)\n",
    "    return dataset"
   ]
  },
  {
   "cell_type": "code",
   "execution_count": 38,
   "metadata": {},
   "outputs": [],
   "source": [
    "def normalize_region(dataset):\n",
    "    #Take all unique Regions, assigns to each region alphabetically ordered a monotonic growing number\n",
    "    regions_sort = sorted(dataset['Region'].dropna().unique())\n",
    "    #regions_len = len(regions_sort) #20 Regions\n",
    "\n",
    "    mapping = {}\n",
    "    for idx, val in enumerate(regions_sort):\n",
    "        mapping[val] = int(idx)\n",
    "\n",
    "    regions = dataset['Region']\n",
    "    regions.replace(mapping, inplace=True)\n",
    "\n",
    "    #print(mapping, regions)\n",
    "    regions = np.asarray(regions)\n",
    "    regions = pd.DataFrame({'Region': regions})\n",
    "    \n",
    "    # Remove the previous Region columns and then insert the new Region\n",
    "    dataset = dataset.drop('Region', axis=1)\n",
    "    dataset = dataset.join(regions)\n",
    "    return dataset"
   ]
  },
  {
   "cell_type": "code",
   "execution_count": 39,
   "metadata": {},
   "outputs": [],
   "source": [
    "def create_regions_cluster(data):\n",
    "    \n",
    "    region_ohe = data['Region']\n",
    "\n",
    "    north_regions = [4,5,7,8,11,17,18,19]\n",
    "    middle_regions = [0,6,9,10,15,16]\n",
    "    south_regions = [1,2,3,12,13,14]\n",
    "    \n",
    "    regions_cluster = []\n",
    "\n",
    "    for i in region_ohe.values:\n",
    "        if i in north_regions:\n",
    "            regions_cluster.append(0)\n",
    "        elif i in middle_regions:\n",
    "            regions_cluster.append(1)   \n",
    "        elif i in south_regions:\n",
    "            regions_cluster.append(2)\n",
    "        else:\n",
    "            regions_cluster.append(np.nan)\n",
    "    \n",
    "    regions_cluster = np.asarray(regions_cluster)\n",
    "    regions_cluster = pd.DataFrame({'Regions_Cluster' : regions_cluster})\n",
    "\n",
    "    data = data.join(regions_cluster)\n",
    "    return data"
   ]
  },
  {
   "cell_type": "code",
   "execution_count": 40,
   "metadata": {},
   "outputs": [],
   "source": [
    "def normalize_province(dataset):\n",
    "    #Take all unique Provinces, assigns to each province alphabetically ordered a monotonic growing number\n",
    "    provinces_sort = sorted(dataset['Province'].dropna().unique())\n",
    "    #provinces_len = len(provinces_sort) #110 Provinces\n",
    "\n",
    "    mapping = {}\n",
    "    for idx, val in enumerate(provinces_sort):\n",
    "        mapping[val] = idx\n",
    "\n",
    "    provinces = dataset['Province']\n",
    "    provinces.replace(mapping, inplace=True)\n",
    "\n",
    "    provinces = np.asarray(provinces)\n",
    "    provinces = pd.DataFrame({'Province': provinces})\n",
    "    \n",
    "    # Remove the previous Province columns and then insert the new Province\n",
    "    dataset = dataset.drop('Province', axis=1)\n",
    "    dataset = dataset.join(provinces)\n",
    "    return dataset"
   ]
  },
  {
   "cell_type": "code",
   "execution_count": 41,
   "metadata": {},
   "outputs": [],
   "source": [
    "def normalize_product(dataset):\n",
    "    if('Product' in dataset.columns):\n",
    "        #Take all unique Products, assigns to each product alphabetically ordered a monotonic growing number\n",
    "        products_sort = sorted(dataset['Product'].dropna().unique())\n",
    "\n",
    "        mapping = {}\n",
    "        for idx, val in enumerate(products_sort):\n",
    "            mapping[val] = int(idx)\n",
    "\n",
    "        products = dataset['Product']\n",
    "        products.replace(mapping, inplace=True)\n",
    "\n",
    "        #print(mapping, products)\n",
    "        products = np.asarray(products)\n",
    "        products = pd.DataFrame({'Product': products})\n",
    "\n",
    "        # Remove the previous Product columns and then insert the newProduct\n",
    "        dataset = dataset.drop('Product', axis=1)\n",
    "        dataset = dataset.join(products)\n",
    "    return dataset"
   ]
  },
  {
   "cell_type": "code",
   "execution_count": 42,
   "metadata": {},
   "outputs": [],
   "source": [
    "def drop_useless_columns(dataset):\n",
    "    if('DataAllowanceOneShot' in dataset.columns and 'EstimatedDevicePrice' in dataset.columns and 'ZipCode' in dataset.columns):\n",
    "        dataset = dataset.drop('DataAllowanceOneShot', axis=1)\n",
    "        dataset = dataset.drop('EstimatedDevicePrice', axis=1)\n",
    "    return dataset"
   ]
  },
  {
   "cell_type": "code",
   "execution_count": 43,
   "metadata": {},
   "outputs": [],
   "source": [
    "def add_modified_sample(dataset):\n",
    "    modified = []\n",
    "    for i in dataset.isnull().any(axis=1):\n",
    "        if(i):\n",
    "            modified.append(1)\n",
    "        else:\n",
    "            modified.append(0)\n",
    "    modified = np.asarray(modified)\n",
    "    modified = pd.DataFrame({'IsModified': modified})\n",
    "    dataset = dataset.join(modified)\n",
    "    return dataset"
   ]
  },
  {
   "cell_type": "code",
   "execution_count": 44,
   "metadata": {},
   "outputs": [],
   "source": [
    "def normalize_data_set(dataset):\n",
    "    dataset = drop_useless_columns(dataset)\n",
    "    #dataset = merge_duration_count(dataset)\n",
    "    dataset = add_modified_sample(dataset)\n",
    "    dataset = normalize_costumer_age(dataset)\n",
    "    dataset = normalize_region(dataset)\n",
    "    dataset = create_regions_cluster(dataset)\n",
    "    dataset = normalize_province(dataset)\n",
    "    dataset = normalize_product(dataset)\n",
    "    return dataset"
   ]
  },
  {
   "cell_type": "code",
   "execution_count": 45,
   "metadata": {},
   "outputs": [],
   "source": [
    "train_data = normalize_data_set(train_data)\n",
    "test_data = normalize_data_set(test_data)"
   ]
  },
  {
   "cell_type": "markdown",
   "metadata": {},
   "source": [
    "# CHECKPOINT"
   ]
  },
  {
   "cell_type": "code",
   "execution_count": 47,
   "metadata": {},
   "outputs": [],
   "source": [
    "trainset = train_data\n",
    "testset = test_data"
   ]
  },
  {
   "cell_type": "code",
   "execution_count": 48,
   "metadata": {},
   "outputs": [],
   "source": [
    "#trainset = trainset.fillna(trainset.mean())\n",
    "#testset = testset.fillna(testset.mean())"
   ]
  },
  {
   "cell_type": "markdown",
   "metadata": {},
   "source": [
    "# Save CSV"
   ]
  },
  {
   "cell_type": "code",
   "execution_count": 49,
   "metadata": {},
   "outputs": [],
   "source": [
    "trainset.to_csv('cat_train.csv', index = False, encoding='utf-8')\n",
    "testset.to_csv('cat_test.csv', index = False, encoding='utf-8')"
   ]
  },
  {
   "cell_type": "code",
   "execution_count": null,
   "metadata": {},
   "outputs": [],
   "source": []
  }
 ],
 "metadata": {
  "kernelspec": {
   "display_name": "Python 3",
   "language": "python",
   "name": "python3"
  },
  "language_info": {
   "codemirror_mode": {
    "name": "ipython",
    "version": 3
   },
   "file_extension": ".py",
   "mimetype": "text/x-python",
   "name": "python",
   "nbconvert_exporter": "python",
   "pygments_lexer": "ipython3",
   "version": "3.6.5"
  }
 },
 "nbformat": 4,
 "nbformat_minor": 2
}
