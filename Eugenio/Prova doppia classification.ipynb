{
 "cells": [
  {
   "cell_type": "code",
   "execution_count": 118,
   "metadata": {},
   "outputs": [],
   "source": [
    "# Import useful libraries\n",
    "import pandas as pd\n",
    "import numpy as np\n",
    "import matplotlib.pyplot as plt\n",
    "\n",
    "# Ignore warnings\n",
    "import warnings\n",
    "warnings.simplefilter('ignore')\n",
    "\n",
    "from sklearn.metrics import f1_score\n",
    "from sklearn.model_selection import KFold\n",
    "\n",
    "# Random seed for reproducibility\n",
    "seed = 202\n",
    "np.random.seed(seed)"
   ]
  },
  {
   "cell_type": "code",
   "execution_count": 119,
   "metadata": {},
   "outputs": [],
   "source": [
    "# Import the train set and test set\n",
    "train_data = pd.read_csv(\"train_rodolfo.csv\", delimiter=\",\")\n",
    "test_data = pd.read_csv(\"test_rodolfo.csv\", delimiter=\",\")"
   ]
  },
  {
   "cell_type": "code",
   "execution_count": 120,
   "metadata": {},
   "outputs": [],
   "source": [
    "#train_data = train_data.drop('DataArpu', axis=1)\n",
    "train_data = train_data.drop('ID', axis=1)\n",
    "# Sort the dataset\n",
    "train_data = train_data.iloc[np.random.permutation(len(train_data))]\n",
    "train_data = train_data[['DeviceFlag4G', 'DataArpu', 'DataAllowanceContinuous',\n",
    "       'DeviceFlagSmartphone', 'MonthlyVoiceTrafficCount',\n",
    "       'MonthlySMSTrafficCount', 'MonthlyDataTraffic', 'CustomerGender',\n",
    "       'CustomerExpatriate', 'ChurnScore', 'AirportConnectionsDuration',\n",
    "       'AirportConnectionsCount', 'StationConnectionsDuration',\n",
    "       'StationConnectionsCount', 'ParkingConnectionsDuration',\n",
    "       'ParkingConnectionsCount', 'File-Transfer', 'Games',\n",
    "       'Instant-Messaging-Applications', 'Mail', 'Music-Streaming',\n",
    "       'Network-Operation', 'P2P-Applications', 'Security',\n",
    "       'Streaming-Applications', 'Terminals', 'Unclassified', 'VoIP',\n",
    "       'Web-Applications', 'IsModified', 'CustomerAge', 'Region', 'Province',\n",
    "       'Product']]\n",
    "train_data = train_data.reset_index(drop=True)"
   ]
  },
  {
   "cell_type": "code",
   "execution_count": 121,
   "metadata": {},
   "outputs": [],
   "source": [
    "array = np.asarray(train_data)\n",
    "\n",
    "X = array[:,0:train_data.shape[1]-1]\n",
    "X = np.asarray(X)\n",
    "Y = array[:,train_data.shape[1]-1]\n",
    "Y = np.asarray(Y)"
   ]
  },
  {
   "cell_type": "code",
   "execution_count": 122,
   "metadata": {},
   "outputs": [],
   "source": [
    "from sklearn.feature_selection import SelectKBest\n",
    "from sklearn.feature_selection import chi2\n",
    "chi2_test = SelectKBest(score_func=chi2, k=29)\n",
    "fit = chi2_test.fit(X,Y)"
   ]
  },
  {
   "cell_type": "code",
   "execution_count": 123,
   "metadata": {},
   "outputs": [
    {
     "data": {
      "text/plain": [
       "Index(['DeviceFlag4G', 'DataArpu', 'DataAllowanceContinuous',\n",
       "       'DeviceFlagSmartphone', 'MonthlyVoiceTrafficCount',\n",
       "       'MonthlyDataTraffic', 'CustomerGender', 'CustomerExpatriate',\n",
       "       'ChurnScore', 'AirportConnectionsDuration', 'AirportConnectionsCount',\n",
       "       'StationConnectionsDuration', 'StationConnectionsCount',\n",
       "       'ParkingConnectionsDuration', 'ParkingConnectionsCount',\n",
       "       'File-Transfer', 'Instant-Messaging-Applications', 'Mail',\n",
       "       'Music-Streaming', 'P2P-Applications', 'Security',\n",
       "       'Streaming-Applications', 'Terminals', 'Unclassified',\n",
       "       'Web-Applications', 'IsModified', 'CustomerAge', 'Region', 'Province'],\n",
       "      dtype='object')"
      ]
     },
     "execution_count": 123,
     "metadata": {},
     "output_type": "execute_result"
    }
   ],
   "source": [
    "train_data.columns[chi2_test.get_support(indices=True)]"
   ]
  },
  {
   "cell_type": "code",
   "execution_count": 124,
   "metadata": {},
   "outputs": [],
   "source": [
    "def features_labels_split(data):\n",
    "    \n",
    "    features = data[train_data.columns[chi2_test.get_support(indices=True)]]\n",
    "    labels = data['Product']\n",
    "    return features, labels"
   ]
  },
  {
   "cell_type": "code",
   "execution_count": 125,
   "metadata": {},
   "outputs": [],
   "source": [
    "def train_test_validation_split(features, labels, val_samples, test_samples):\n",
    "\n",
    "    features = np.asarray(features)\n",
    "    labels =np.asarray(labels)\n",
    "    \n",
    "    X_test = features[0:test_samples]\n",
    "    y_test = labels[0:test_samples]\n",
    "\n",
    "    X_val = features[test_samples:test_samples + val_samples]\n",
    "    y_val = labels[test_samples:test_samples + val_samples]\n",
    "\n",
    "    X_train = features[test_samples + val_samples:]\n",
    "    y_train = labels[test_samples + val_samples:]\n",
    "\n",
    "    return X_train, X_test, X_val, y_train, y_test, y_val"
   ]
  },
  {
   "cell_type": "code",
   "execution_count": 126,
   "metadata": {
    "scrolled": true
   },
   "outputs": [],
   "source": [
    "train_feat, train_label = features_labels_split(train_data)\n",
    "\n",
    "bin_train_label = []\n",
    " \n",
    "for i in range(0, len(train_label)):\n",
    "    if(train_label[i] == 0):\n",
    "        bin_train_label.append(0)\n",
    "    else:\n",
    "        bin_train_label.append(1)\n",
    "bin_train_label = np.asarray(bin_train_label)\n",
    "#print(train_label)\n",
    "#print(bin_train_label)\n",
    "num_val_samples = 0\n",
    "num_test_samples = 950\n",
    "bin_X_train, bin_X_test, bin_X_val, bin_y_train, bin_y_test, bin_y_val = train_test_validation_split(train_feat, bin_train_label, num_val_samples, num_test_samples)"
   ]
  },
  {
   "cell_type": "code",
   "execution_count": 127,
   "metadata": {},
   "outputs": [
    {
     "name": "stdout",
     "output_type": "stream",
     "text": [
      "XGB: 0.681 (0.017)\n"
     ]
    },
    {
     "data": {
      "image/png": "[encoded data removed]",
      "text/plain": [
       "<Figure size 1080x576 with 1 Axes>"
      ]
     },
     "metadata": {},
     "output_type": "display_data"
    }
   ],
   "source": [
    "from xgboost import XGBClassifier\n",
    "\n",
    "\n",
    "xgb = XGBClassifier(n_jobs=-1)\n",
    "\n",
    "models = []\n",
    "models.append(('XGB', xgb))\n",
    "\n",
    "\n",
    "\n",
    "\n",
    "from sklearn.model_selection import cross_val_score\n",
    "\n",
    "# evaluate each model in turn\n",
    "results = []\n",
    "names = []\n",
    "for name, model in models:\n",
    "    kfold = KFold(n_splits=10, random_state=seed)\n",
    "    cv_results = cross_val_score(model, bin_X_train, bin_y_train, cv=kfold, scoring='f1', n_jobs=-1)\n",
    "    results.append(cv_results)\n",
    "    names.append(name)\n",
    "    msg = \"%s: %.3f (%.3f)\" % (name, cv_results.mean(), cv_results.std())\n",
    "    print(msg)\n",
    "    \n",
    "# boxplot algorithm comparison\n",
    "fig = plt.figure(figsize=(15, 8))\n",
    "fig.suptitle('Algorithm Comparison', fontsize=24)\n",
    "ax = fig.add_subplot(1,1,1)\n",
    "plt.boxplot(results)\n",
    "plt.ylim([0.60,0.80])\n",
    "ax.set_xticklabels(names)\n",
    "plt.show()"
   ]
  },
  {
   "cell_type": "code",
   "execution_count": 128,
   "metadata": {},
   "outputs": [
    {
     "name": "stdout",
     "output_type": "stream",
     "text": [
      "F1 score on binary unseen data: 0.694\n"
     ]
    }
   ],
   "source": [
    "# Test Performance\n",
    "\n",
    "bin_test_model = XGBClassifier(n_jobs=-1)\n",
    "bin_test_model.fit(bin_X_train, bin_y_train)\n",
    "bin_y_pred = bin_test_model.predict(X_test)\n",
    "# F1\n",
    "print(\"F1 score on binary unseen data: %.3f\" % f1_score(bin_y_test, bin_y_pred))"
   ]
  },
  {
   "cell_type": "code",
   "execution_count": 129,
   "metadata": {},
   "outputs": [],
   "source": [
    "v_train_feat = []\n",
    "v_train_label = []\n",
    "for i in range(0,len(train_label)-1):\n",
    "    if (bin_train_label[i] == 1):\n",
    "        v_train_feat.append(train_feat.values[i])\n",
    "        v_train_label.append(train_label[i])\n",
    "\n",
    "v_train_feat = np.asarray(v_train_feat)\n",
    "v_train_label = np.asarray(v_train_label)"
   ]
  },
  {
   "cell_type": "code",
   "execution_count": 130,
   "metadata": {},
   "outputs": [],
   "source": [
    "num_val_samples = 0\n",
    "num_test_samples = 420\n",
    "v_X_train, v_X_test, v_X_val, v_y_train, v_y_test, v_y_val = train_test_validation_split(v_train_feat, v_train_label, num_val_samples, num_test_samples)"
   ]
  },
  {
   "cell_type": "code",
   "execution_count": 131,
   "metadata": {},
   "outputs": [
    {
     "name": "stdout",
     "output_type": "stream",
     "text": [
      "XGB: 0.416 (0.030)\n"
     ]
    },
    {
     "data": {
      "image/png": "[encoded data removed]",
      "text/plain": [
       "<Figure size 1080x576 with 1 Axes>"
      ]
     },
     "metadata": {},
     "output_type": "display_data"
    }
   ],
   "source": [
    "results = []\n",
    "names = []\n",
    "for name, model in models:\n",
    "    kfold = KFold(n_splits=10, random_state=seed)\n",
    "    cv_results = cross_val_score(model, v_X_train, v_y_train, cv=kfold, scoring='f1_micro', n_jobs=-1)\n",
    "    results.append(cv_results)\n",
    "    names.append(name)\n",
    "    msg = \"%s: %.3f (%.3f)\" % (name, cv_results.mean(), cv_results.std())\n",
    "    print(msg)\n",
    "    \n",
    "# boxplot algorithm comparison\n",
    "fig = plt.figure(figsize=(15, 8))\n",
    "fig.suptitle('Algorithm Comparison', fontsize=24)\n",
    "ax = fig.add_subplot(1,1,1)\n",
    "plt.boxplot(results)\n",
    "plt.ylim([0.35,0.50])\n",
    "ax.set_xticklabels(names)\n",
    "plt.show()"
   ]
  },
  {
   "cell_type": "code",
   "execution_count": 132,
   "metadata": {},
   "outputs": [
    {
     "name": "stdout",
     "output_type": "stream",
     "text": [
      "F1 score on binary unseen data: 0.405\n"
     ]
    }
   ],
   "source": [
    "# Test Performance\n",
    "\n",
    "v_test_model = XGBClassifier(n_jobs=-1)\n",
    "v_test_model.fit(v_X_train, v_y_train)\n",
    "v_y_pred = v_test_model.predict(v_X_test)\n",
    "# F1\n",
    "print(\"F1 score on binary unseen data: %.3f\" % f1_score(v_y_test, v_y_pred, average='micro'))"
   ]
  },
  {
   "cell_type": "code",
   "execution_count": null,
   "metadata": {},
   "outputs": [],
   "source": []
  },
  {
   "cell_type": "code",
   "execution_count": null,
   "metadata": {},
   "outputs": [],
   "source": []
  },
  {
   "cell_type": "code",
   "execution_count": null,
   "metadata": {},
   "outputs": [],
   "source": []
  },
  {
   "cell_type": "code",
   "execution_count": null,
   "metadata": {},
   "outputs": [],
   "source": []
  },
  {
   "cell_type": "code",
   "execution_count": null,
   "metadata": {},
   "outputs": [],
   "source": []
  },
  {
   "cell_type": "code",
   "execution_count": 134,
   "metadata": {},
   "outputs": [],
   "source": [
    "bin_X_pred = test_data[train_data.columns[chi2_test.get_support(indices=True)]]"
   ]
  },
  {
   "cell_type": "code",
   "execution_count": 178,
   "metadata": {},
   "outputs": [
    {
     "data": {
      "text/plain": [
       "((9567, 29), (9567,), (3190, 29))"
      ]
     },
     "execution_count": 178,
     "metadata": {},
     "output_type": "execute_result"
    }
   ],
   "source": [
    "train_feat.shape, bin_train_label.shape, bin_X_pred.shape"
   ]
  },
  {
   "cell_type": "code",
   "execution_count": 161,
   "metadata": {},
   "outputs": [],
   "source": [
    "bin_classifier = XGBClassifier(n_jobs=-1)\n",
    "bin_classifier.fit(train_feat, bin_train_label)\n",
    "bin_y_pred = bin_classifier.predict(bin_X_pred)"
   ]
  },
  {
   "cell_type": "code",
   "execution_count": 162,
   "metadata": {
    "scrolled": true
   },
   "outputs": [
    {
     "data": {
      "text/plain": [
       "0       0\n",
       "1       1\n",
       "2       1\n",
       "3       1\n",
       "4       1\n",
       "5       1\n",
       "6       0\n",
       "7       1\n",
       "8       1\n",
       "9       1\n",
       "10      1\n",
       "11      1\n",
       "12      1\n",
       "13      0\n",
       "14      0\n",
       "15      0\n",
       "16      1\n",
       "17      0\n",
       "18      1\n",
       "19      0\n",
       "20      1\n",
       "21      1\n",
       "22      1\n",
       "23      1\n",
       "24      0\n",
       "25      0\n",
       "26      0\n",
       "27      1\n",
       "28      1\n",
       "29      1\n",
       "       ..\n",
       "3160    1\n",
       "3161    0\n",
       "3162    0\n",
       "3163    0\n",
       "3164    1\n",
       "3165    1\n",
       "3166    0\n",
       "3167    0\n",
       "3168    0\n",
       "3169    0\n",
       "3170    0\n",
       "3171    0\n",
       "3172    0\n",
       "3173    0\n",
       "3174    0\n",
       "3175    1\n",
       "3176    0\n",
       "3177    1\n",
       "3178    0\n",
       "3179    1\n",
       "3180    0\n",
       "3181    0\n",
       "3182    0\n",
       "3183    1\n",
       "3184    0\n",
       "3185    0\n",
       "3186    0\n",
       "3187    1\n",
       "3188    1\n",
       "3189    0\n",
       "Name: Product, Length: 3190, dtype: int32"
      ]
     },
     "execution_count": 162,
     "metadata": {},
     "output_type": "execute_result"
    }
   ],
   "source": [
    "submit = test_data['ID']\n",
    "submit = pd.DataFrame({'ID': submit})\n",
    "\n",
    "pred = bin_y_pred\n",
    "pred = pd.DataFrame({'Product': y_pred})\n",
    "\n",
    "product = []\n",
    "product = pred.Product\n",
    "product"
   ]
  },
  {
   "cell_type": "code",
   "execution_count": null,
   "metadata": {},
   "outputs": [],
   "source": [
    "# second prediction"
   ]
  },
  {
   "cell_type": "code",
   "execution_count": 176,
   "metadata": {},
   "outputs": [],
   "source": [
    "v_X_pred = bin_X_pred\n",
    "for i in range(0,len(product)):\n",
    "    if(pred.values[i] == 0):\n",
    "        v_X_pred = v_X_pred.drop(i)"
   ]
  },
  {
   "cell_type": "code",
   "execution_count": 173,
   "metadata": {},
   "outputs": [
    {
     "data": {
      "text/plain": [
       "((4189, 29), (4189,), (1239, 29))"
      ]
     },
     "execution_count": 173,
     "metadata": {},
     "output_type": "execute_result"
    }
   ],
   "source": [
    "v_train_feat.shape, v_train_label.shape, v_X_pred.shape"
   ]
  },
  {
   "cell_type": "code",
   "execution_count": 182,
   "metadata": {},
   "outputs": [
    {
     "ename": "ValueError",
     "evalue": "feature_names mismatch: ['f0', 'f1', 'f2', 'f3', 'f4', 'f5', 'f6', 'f7', 'f8', 'f9', 'f10', 'f11', 'f12', 'f13', 'f14', 'f15', 'f16', 'f17', 'f18', 'f19', 'f20', 'f21', 'f22', 'f23', 'f24', 'f25', 'f26', 'f27', 'f28'] ['DeviceFlag4G', 'DataArpu', 'DataAllowanceContinuous', 'DeviceFlagSmartphone', 'MonthlyVoiceTrafficCount', 'MonthlyDataTraffic', 'CustomerGender', 'CustomerExpatriate', 'ChurnScore', 'AirportConnectionsDuration', 'AirportConnectionsCount', 'StationConnectionsDuration', 'StationConnectionsCount', 'ParkingConnectionsDuration', 'ParkingConnectionsCount', 'File-Transfer', 'Instant-Messaging-Applications', 'Mail', 'Music-Streaming', 'P2P-Applications', 'Security', 'Streaming-Applications', 'Terminals', 'Unclassified', 'Web-Applications', 'IsModified', 'CustomerAge', 'Region', 'Province']\nexpected f17, f4, f3, f23, f26, f12, f10, f27, f11, f25, f24, f9, f5, f28, f0, f18, f7, f21, f8, f15, f13, f6, f20, f19, f1, f14, f22, f2, f16 in input data\ntraining data did not have the following fields: ChurnScore, AirportConnectionsCount, P2P-Applications, CustomerAge, Unclassified, Province, ParkingConnectionsCount, Security, MonthlyDataTraffic, MonthlyVoiceTrafficCount, Instant-Messaging-Applications, Region, DeviceFlag4G, Mail, StationConnectionsCount, Music-Streaming, StationConnectionsDuration, IsModified, DataArpu, DataAllowanceContinuous, AirportConnectionsDuration, Terminals, ParkingConnectionsDuration, Web-Applications, CustomerExpatriate, DeviceFlagSmartphone, Streaming-Applications, CustomerGender, File-Transfer",
     "output_type": "error",
     "traceback": [
      "\u001b[1;31m---------------------------------------------------------------------------\u001b[0m",
      "\u001b[1;31mValueError\u001b[0m                                Traceback (most recent call last)",
      "\u001b[1;32m<ipython-input-182-5f1648801e34>\u001b[0m in \u001b[0;36m<module>\u001b[1;34m()\u001b[0m\n\u001b[0;32m      1\u001b[0m \u001b[0mv_classifier\u001b[0m \u001b[1;33m=\u001b[0m \u001b[0mXGBClassifier\u001b[0m\u001b[1;33m(\u001b[0m\u001b[0mn_jobs\u001b[0m\u001b[1;33m=\u001b[0m\u001b[1;33m-\u001b[0m\u001b[1;36m1\u001b[0m\u001b[1;33m)\u001b[0m\u001b[1;33m\u001b[0m\u001b[0m\n\u001b[0;32m      2\u001b[0m \u001b[0mv_classifier\u001b[0m\u001b[1;33m.\u001b[0m\u001b[0mfit\u001b[0m\u001b[1;33m(\u001b[0m\u001b[0mv_train_feat\u001b[0m\u001b[1;33m,\u001b[0m \u001b[0mv_train_label\u001b[0m\u001b[1;33m)\u001b[0m\u001b[1;33m\u001b[0m\u001b[0m\n\u001b[1;32m----> 3\u001b[1;33m \u001b[0mv_y_pred\u001b[0m \u001b[1;33m=\u001b[0m \u001b[0mv_classifier\u001b[0m\u001b[1;33m.\u001b[0m\u001b[0mpredict\u001b[0m\u001b[1;33m(\u001b[0m\u001b[0mv_X_pred\u001b[0m\u001b[1;33m)\u001b[0m\u001b[1;33m\u001b[0m\u001b[0m\n\u001b[0m",
      "\u001b[1;32mc:\\users\\eugen\\anaconda3\\envs\\tensorflow\\lib\\site-packages\\xgboost\\sklearn.py\u001b[0m in \u001b[0;36mpredict\u001b[1;34m(self, data, output_margin, ntree_limit)\u001b[0m\n\u001b[0;32m    542\u001b[0m         class_probs = self.get_booster().predict(test_dmatrix,\n\u001b[0;32m    543\u001b[0m                                                  \u001b[0moutput_margin\u001b[0m\u001b[1;33m=\u001b[0m\u001b[0moutput_margin\u001b[0m\u001b[1;33m,\u001b[0m\u001b[1;33m\u001b[0m\u001b[0m\n\u001b[1;32m--> 544\u001b[1;33m                                                  ntree_limit=ntree_limit)\n\u001b[0m\u001b[0;32m    545\u001b[0m         \u001b[1;32mif\u001b[0m \u001b[0mlen\u001b[0m\u001b[1;33m(\u001b[0m\u001b[0mclass_probs\u001b[0m\u001b[1;33m.\u001b[0m\u001b[0mshape\u001b[0m\u001b[1;33m)\u001b[0m \u001b[1;33m>\u001b[0m \u001b[1;36m1\u001b[0m\u001b[1;33m:\u001b[0m\u001b[1;33m\u001b[0m\u001b[0m\n\u001b[0;32m    546\u001b[0m             \u001b[0mcolumn_indexes\u001b[0m \u001b[1;33m=\u001b[0m \u001b[0mnp\u001b[0m\u001b[1;33m.\u001b[0m\u001b[0margmax\u001b[0m\u001b[1;33m(\u001b[0m\u001b[0mclass_probs\u001b[0m\u001b[1;33m,\u001b[0m \u001b[0maxis\u001b[0m\u001b[1;33m=\u001b[0m\u001b[1;36m1\u001b[0m\u001b[1;33m)\u001b[0m\u001b[1;33m\u001b[0m\u001b[0m\n",
      "\u001b[1;32mc:\\users\\eugen\\anaconda3\\envs\\tensorflow\\lib\\site-packages\\xgboost\\core.py\u001b[0m in \u001b[0;36mpredict\u001b[1;34m(self, data, output_margin, ntree_limit, pred_leaf, pred_contribs, approx_contribs, pred_interactions)\u001b[0m\n\u001b[0;32m   1048\u001b[0m             \u001b[0moption_mask\u001b[0m \u001b[1;33m|=\u001b[0m \u001b[1;36m0x10\u001b[0m\u001b[1;33m\u001b[0m\u001b[0m\n\u001b[0;32m   1049\u001b[0m \u001b[1;33m\u001b[0m\u001b[0m\n\u001b[1;32m-> 1050\u001b[1;33m         \u001b[0mself\u001b[0m\u001b[1;33m.\u001b[0m\u001b[0m_validate_features\u001b[0m\u001b[1;33m(\u001b[0m\u001b[0mdata\u001b[0m\u001b[1;33m)\u001b[0m\u001b[1;33m\u001b[0m\u001b[0m\n\u001b[0m\u001b[0;32m   1051\u001b[0m \u001b[1;33m\u001b[0m\u001b[0m\n\u001b[0;32m   1052\u001b[0m         \u001b[0mlength\u001b[0m \u001b[1;33m=\u001b[0m \u001b[0mc_bst_ulong\u001b[0m\u001b[1;33m(\u001b[0m\u001b[1;33m)\u001b[0m\u001b[1;33m\u001b[0m\u001b[0m\n",
      "\u001b[1;32mc:\\users\\eugen\\anaconda3\\envs\\tensorflow\\lib\\site-packages\\xgboost\\core.py\u001b[0m in \u001b[0;36m_validate_features\u001b[1;34m(self, data)\u001b[0m\n\u001b[0;32m   1306\u001b[0m \u001b[1;33m\u001b[0m\u001b[0m\n\u001b[0;32m   1307\u001b[0m                 raise ValueError(msg.format(self.feature_names,\n\u001b[1;32m-> 1308\u001b[1;33m                                             data.feature_names))\n\u001b[0m\u001b[0;32m   1309\u001b[0m \u001b[1;33m\u001b[0m\u001b[0m\n\u001b[0;32m   1310\u001b[0m     \u001b[1;32mdef\u001b[0m \u001b[0mget_split_value_histogram\u001b[0m\u001b[1;33m(\u001b[0m\u001b[0mself\u001b[0m\u001b[1;33m,\u001b[0m \u001b[0mfeature\u001b[0m\u001b[1;33m,\u001b[0m \u001b[0mfmap\u001b[0m\u001b[1;33m=\u001b[0m\u001b[1;34m''\u001b[0m\u001b[1;33m,\u001b[0m \u001b[0mbins\u001b[0m\u001b[1;33m=\u001b[0m\u001b[1;32mNone\u001b[0m\u001b[1;33m,\u001b[0m \u001b[0mas_pandas\u001b[0m\u001b[1;33m=\u001b[0m\u001b[1;32mTrue\u001b[0m\u001b[1;33m)\u001b[0m\u001b[1;33m:\u001b[0m\u001b[1;33m\u001b[0m\u001b[0m\n",
      "\u001b[1;31mValueError\u001b[0m: feature_names mismatch: ['f0', 'f1', 'f2', 'f3', 'f4', 'f5', 'f6', 'f7', 'f8', 'f9', 'f10', 'f11', 'f12', 'f13', 'f14', 'f15', 'f16', 'f17', 'f18', 'f19', 'f20', 'f21', 'f22', 'f23', 'f24', 'f25', 'f26', 'f27', 'f28'] ['DeviceFlag4G', 'DataArpu', 'DataAllowanceContinuous', 'DeviceFlagSmartphone', 'MonthlyVoiceTrafficCount', 'MonthlyDataTraffic', 'CustomerGender', 'CustomerExpatriate', 'ChurnScore', 'AirportConnectionsDuration', 'AirportConnectionsCount', 'StationConnectionsDuration', 'StationConnectionsCount', 'ParkingConnectionsDuration', 'ParkingConnectionsCount', 'File-Transfer', 'Instant-Messaging-Applications', 'Mail', 'Music-Streaming', 'P2P-Applications', 'Security', 'Streaming-Applications', 'Terminals', 'Unclassified', 'Web-Applications', 'IsModified', 'CustomerAge', 'Region', 'Province']\nexpected f17, f4, f3, f23, f26, f12, f10, f27, f11, f25, f24, f9, f5, f28, f0, f18, f7, f21, f8, f15, f13, f6, f20, f19, f1, f14, f22, f2, f16 in input data\ntraining data did not have the following fields: ChurnScore, AirportConnectionsCount, P2P-Applications, CustomerAge, Unclassified, Province, ParkingConnectionsCount, Security, MonthlyDataTraffic, MonthlyVoiceTrafficCount, Instant-Messaging-Applications, Region, DeviceFlag4G, Mail, StationConnectionsCount, Music-Streaming, StationConnectionsDuration, IsModified, DataArpu, DataAllowanceContinuous, AirportConnectionsDuration, Terminals, ParkingConnectionsDuration, Web-Applications, CustomerExpatriate, DeviceFlagSmartphone, Streaming-Applications, CustomerGender, File-Transfer"
     ]
    }
   ],
   "source": [
    "v_classifier = XGBClassifier(n_jobs=-1)\n",
    "v_classifier.fit(v_train_feat, v_train_label)\n",
    "v_y_pred = v_classifier.predict(v_X_pred)"
   ]
  },
  {
   "cell_type": "code",
   "execution_count": 179,
   "metadata": {},
   "outputs": [
    {
     "data": {
      "text/plain": [
       "0       1\n",
       "1       1\n",
       "2       1\n",
       "3       1\n",
       "4       1\n",
       "5       1\n",
       "6       1\n",
       "7       1\n",
       "8       1\n",
       "9       1\n",
       "10      1\n",
       "11      1\n",
       "12      1\n",
       "13      1\n",
       "14      1\n",
       "15      1\n",
       "16      1\n",
       "17      1\n",
       "18      1\n",
       "19      1\n",
       "20      1\n",
       "21      1\n",
       "22      1\n",
       "23      1\n",
       "24      1\n",
       "25      1\n",
       "26      1\n",
       "27      1\n",
       "28      1\n",
       "29      1\n",
       "       ..\n",
       "1209    1\n",
       "1210    1\n",
       "1211    1\n",
       "1212    1\n",
       "1213    1\n",
       "1214    1\n",
       "1215    1\n",
       "1216    1\n",
       "1217    1\n",
       "1218    1\n",
       "1219    1\n",
       "1220    1\n",
       "1221    1\n",
       "1222    1\n",
       "1223    1\n",
       "1224    1\n",
       "1225    1\n",
       "1226    1\n",
       "1227    1\n",
       "1228    1\n",
       "1229    1\n",
       "1230    1\n",
       "1231    1\n",
       "1232    1\n",
       "1233    1\n",
       "1234    1\n",
       "1235    1\n",
       "1236    1\n",
       "1237    1\n",
       "1238    1\n",
       "Name: Product, Length: 1239, dtype: int32"
      ]
     },
     "execution_count": 179,
     "metadata": {},
     "output_type": "execute_result"
    }
   ],
   "source": [
    "v_pred = v_y_pred\n",
    "v_pred = pd.DataFrame({'Product': v_pred})\n",
    "\n",
    "v_product = []\n",
    "v_product = v_pred.Product\n",
    "v_product"
   ]
  }
 ],
 "metadata": {
  "kernelspec": {
   "display_name": "Python 3",
   "language": "python",
   "name": "python3"
  },
  "language_info": {
   "codemirror_mode": {
    "name": "ipython",
    "version": 3
   },
   "file_extension": ".py",
   "mimetype": "text/x-python",
   "name": "python",
   "nbconvert_exporter": "python",
   "pygments_lexer": "ipython3",
   "version": "3.6.5"
  }
 },
 "nbformat": 4,
 "nbformat_minor": 2
}
