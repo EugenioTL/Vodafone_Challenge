{
 "cells": [
  {
   "cell_type": "code",
   "execution_count": 2,
   "metadata": {},
   "outputs": [],
   "source": [
    "import pandas as pd\n",
    "import numpy as np\n",
    "\n",
    "# Random seed for reproducibility\n",
    "seed = 202\n",
    "np.random.seed(seed)\n",
    "\n",
    "# Import the train set and test set\n",
    "train_data = pd.read_csv(\"trainset.csv\", delimiter=\",\")\n",
    "test_data = pd.read_csv(\"testset.csv\", delimiter=\",\")"
   ]
  },
  {
   "cell_type": "code",
   "execution_count": null,
   "metadata": {},
   "outputs": [],
   "source": []
  },
  {
   "cell_type": "code",
   "execution_count": 3,
   "metadata": {},
   "outputs": [],
   "source": [
    "def normalize_costumer_age(dataset):\n",
    "    #Take all unique Cosumer_Age, assigns to each age alphabetically ordered a mean age\n",
    "    customer_age_sort = sorted(dataset['CustomerAge'].dropna().unique())\n",
    "\n",
    "    mapping = {}\n",
    "    for idx, val in enumerate(customer_age_sort):\n",
    "        mapping[val] = int(15+idx*10)\n",
    "        \n",
    "    ages = dataset['CustomerAge']\n",
    "    ages.replace(mapping, inplace=True)\n",
    "\n",
    "    #print(mapping, regions)\n",
    "    ages = np.asarray(ages)\n",
    "    ages = pd.DataFrame({'CustomerAge': ages})\n",
    "    \n",
    "     # Remove the previous CustomerAge and then insert the new CustomerAge\n",
    "    dataset = dataset.drop('CustomerAge', axis=1)\n",
    "    dataset = dataset.join(ages)\n",
    "    return dataset"
   ]
  },
  {
   "cell_type": "code",
   "execution_count": 4,
   "metadata": {},
   "outputs": [],
   "source": [
    "def normalize_region(dataset):\n",
    "    #Take all unique Regions, assigns to each region alphabetically ordered a monotonic growing number\n",
    "    regions_sort = sorted(dataset['Region'].dropna().unique())\n",
    "    #regions_len = len(regions_sort) #20 Regions\n",
    "\n",
    "    mapping = {}\n",
    "    for idx, val in enumerate(regions_sort):\n",
    "        mapping[val] = int(idx)\n",
    "\n",
    "    regions = dataset['Region']\n",
    "    regions.replace(mapping, inplace=True)\n",
    "\n",
    "    #print(mapping, regions)\n",
    "    regions = np.asarray(regions)\n",
    "    regions = pd.DataFrame({'Region': regions})\n",
    "    \n",
    "    # Remove the previous Region columns and then insert the new Region\n",
    "    dataset = dataset.drop('Region', axis=1)\n",
    "    dataset = dataset.join(regions)\n",
    "    return dataset"
   ]
  },
  {
   "cell_type": "code",
   "execution_count": 5,
   "metadata": {},
   "outputs": [],
   "source": [
    "def normalize_province(dataset):\n",
    "    #Take all unique Provinces, assigns to each province alphabetically ordered a monotonic growing number\n",
    "    provinces_sort = sorted(dataset['Province'].dropna().unique())\n",
    "    #provinces_len = len(provinces_sort) #110 Provinces\n",
    "\n",
    "    mapping = {}\n",
    "    for idx, val in enumerate(provinces_sort):\n",
    "        mapping[val] = idx\n",
    "\n",
    "    provinces = dataset['Province']\n",
    "    provinces.replace(mapping, inplace=True)\n",
    "\n",
    "\n",
    "    #print(provinces_sort, provinces_len)\n",
    "    #print(mapping, provinces)\n",
    "    provinces = np.asarray(provinces)\n",
    "    provinces = pd.DataFrame({'Province': provinces})\n",
    "    \n",
    "    # Remove the previous Province columns and then insert the new Province\n",
    "    dataset = dataset.drop('Province', axis=1)\n",
    "    dataset = dataset.join(provinces)\n",
    "    return dataset"
   ]
  },
  {
   "cell_type": "code",
   "execution_count": 6,
   "metadata": {},
   "outputs": [],
   "source": [
    "def normalize_product(dataset):\n",
    "    if('Product' in dataset.columns):\n",
    "        #Take all unique Products, assigns to each product alphabetically ordered a monotonic growing number\n",
    "        products_sort = sorted(dataset['Product'].dropna().unique())\n",
    "\n",
    "        mapping = {}\n",
    "        for idx, val in enumerate(products_sort):\n",
    "            mapping[val] = int(idx)\n",
    "\n",
    "        products = dataset['Product']\n",
    "        products.replace(mapping, inplace=True)\n",
    "\n",
    "        #print(mapping, products)\n",
    "        products = np.asarray(products)\n",
    "        products = pd.DataFrame({'Product': products})\n",
    "\n",
    "        # Remove the previous Product columns and then insert the newProduct\n",
    "        dataset = dataset.drop('Product', axis=1)\n",
    "        dataset = dataset.join(products)\n",
    "    return dataset"
   ]
  },
  {
   "cell_type": "code",
   "execution_count": 7,
   "metadata": {},
   "outputs": [],
   "source": [
    "def drop_useless_columns(dataset):\n",
    "    if('DataAllowanceOneShot' in dataset.columns and 'EstimatedDevicePrice' in dataset.columns):\n",
    "        dataset = dataset.drop('DataAllowanceOneShot', axis=1)\n",
    "        dataset = dataset.drop('EstimatedDevicePrice', axis=1)\n",
    "    return dataset"
   ]
  },
  {
   "cell_type": "code",
   "execution_count": 8,
   "metadata": {},
   "outputs": [],
   "source": [
    "def normalize_data_set(dataset):\n",
    "    dataset = normalize_costumer_age(dataset)\n",
    "    dataset = normalize_region(dataset)\n",
    "    dataset = normalize_province(dataset)\n",
    "    dataset = normalize_product(dataset)\n",
    "    dataset = drop_useless_columns(dataset)\n",
    "    return dataset"
   ]
  },
  {
   "cell_type": "code",
   "execution_count": 9,
   "metadata": {},
   "outputs": [],
   "source": [
    "# Fill the missing values with the mean for each column\n",
    "def fillna_mean_value(dataset):\n",
    "    # fill missing values with mean column values\n",
    "    dataset.fillna(dataset.mean(), inplace=True)\n",
    "    return dataset"
   ]
  },
  {
   "cell_type": "code",
   "execution_count": 11,
   "metadata": {},
   "outputs": [],
   "source": [
    "train_data = normalize_data_set(train_data)\n",
    "test_data = normalize_data_set(test_data)"
   ]
  },
  {
   "cell_type": "code",
   "execution_count": 63,
   "metadata": {},
   "outputs": [],
   "source": [
    "#train_data = fillna_mean_value(train_data)\n",
    "#test_data = fillna_mean_value(test_data)"
   ]
  },
  {
   "cell_type": "code",
   "execution_count": 12,
   "metadata": {},
   "outputs": [],
   "source": [
    "train_data.to_csv('normalized_train_dataset.csv', index = False, encoding='utf-8')\n",
    "test_data.to_csv('normalized_test_dataset.csv', index = False, encoding='utf-8')"
   ]
  },
  {
   "cell_type": "code",
   "execution_count": 13,
   "metadata": {},
   "outputs": [
    {
     "name": "stdout",
     "output_type": "stream",
     "text": [
      "(3190, 34) (9567, 35)\n"
     ]
    }
   ],
   "source": [
    "print(test_data.shape, train_data.shape)"
   ]
  },
  {
   "cell_type": "code",
   "execution_count": 14,
   "metadata": {},
   "outputs": [
    {
     "name": "stdout",
     "output_type": "stream",
     "text": [
      "Index(['ID', 'DeviceFlag4G', 'DataArpu', 'DataAllowanceContinuous',\n",
      "       'DeviceFlagSmartphone', 'MonthlyVoiceTrafficCount',\n",
      "       'MonthlySMSTrafficCount', 'MonthlyDataTraffic', 'CustomerGender',\n",
      "       'CustomerExpatriate', 'ZipCode', 'ChurnScore',\n",
      "       'AirportConnectionsDuration', 'AirportConnectionsCount',\n",
      "       'StationConnectionsDuration', 'StationConnectionsCount',\n",
      "       'ParkingConnectionsDuration', 'ParkingConnectionsCount',\n",
      "       'File-Transfer', 'Games', 'Instant-Messaging-Applications', 'Mail',\n",
      "       'Music-Streaming', 'Network-Operation', 'P2P-Applications', 'Security',\n",
      "       'Streaming-Applications', 'Terminals', 'Unclassified', 'VoIP',\n",
      "       'Web-Applications', 'CustomerAge', 'Region', 'Province'],\n",
      "      dtype='object') Index(['ID', 'DeviceFlag4G', 'DataArpu', 'DataAllowanceContinuous',\n",
      "       'DeviceFlagSmartphone', 'MonthlyVoiceTrafficCount',\n",
      "       'MonthlySMSTrafficCount', 'MonthlyDataTraffic', 'CustomerGender',\n",
      "       'CustomerExpatriate', 'ZipCode', 'ChurnScore',\n",
      "       'AirportConnectionsDuration', 'AirportConnectionsCount',\n",
      "       'StationConnectionsDuration', 'StationConnectionsCount',\n",
      "       'ParkingConnectionsDuration', 'ParkingConnectionsCount',\n",
      "       'File-Transfer', 'Games', 'Instant-Messaging-Applications', 'Mail',\n",
      "       'Music-Streaming', 'Network-Operation', 'P2P-Applications', 'Security',\n",
      "       'Streaming-Applications', 'Terminals', 'Unclassified', 'VoIP',\n",
      "       'Web-Applications', 'CustomerAge', 'Region', 'Province', 'Product'],\n",
      "      dtype='object')\n"
     ]
    }
   ],
   "source": [
    "print(test_data.columns, train_data.columns)"
   ]
  },
  {
   "cell_type": "code",
   "execution_count": 15,
   "metadata": {},
   "outputs": [
    {
     "data": {
      "text/plain": [
       "Index(['ID', 'DeviceFlag4G', 'DataArpu', 'DataAllowanceContinuous',\n",
       "       'DeviceFlagSmartphone', 'MonthlyVoiceTrafficCount',\n",
       "       'MonthlySMSTrafficCount', 'MonthlyDataTraffic', 'CustomerGender',\n",
       "       'CustomerExpatriate', 'ZipCode', 'ChurnScore',\n",
       "       'AirportConnectionsDuration', 'AirportConnectionsCount',\n",
       "       'StationConnectionsDuration', 'StationConnectionsCount',\n",
       "       'ParkingConnectionsDuration', 'ParkingConnectionsCount',\n",
       "       'File-Transfer', 'Games', 'Instant-Messaging-Applications', 'Mail',\n",
       "       'Music-Streaming', 'Network-Operation', 'P2P-Applications', 'Security',\n",
       "       'Streaming-Applications', 'Terminals', 'Unclassified', 'VoIP',\n",
       "       'Web-Applications', 'CustomerAge', 'Region', 'Province', 'Product'],\n",
       "      dtype='object')"
      ]
     },
     "execution_count": 15,
     "metadata": {},
     "output_type": "execute_result"
    }
   ],
   "source": [
    "train_data.columns"
   ]
  },
  {
   "cell_type": "code",
   "execution_count": 16,
   "metadata": {},
   "outputs": [
    {
     "data": {
      "text/plain": [
       "(7568, 2)"
      ]
     },
     "execution_count": 16,
     "metadata": {},
     "output_type": "execute_result"
    }
   ],
   "source": [
    "table = train_data[['Province', 'Region']]\n",
    "table = table.dropna()\n",
    "table.shape"
   ]
  },
  {
   "cell_type": "code",
   "execution_count": 17,
   "metadata": {},
   "outputs": [
    {
     "data": {
      "text/plain": [
       "[0.0,\n",
       " 1.0,\n",
       " 2.0,\n",
       " 3.0,\n",
       " 4.0,\n",
       " 5.0,\n",
       " 6.0,\n",
       " 7.0,\n",
       " 8.0,\n",
       " 9.0,\n",
       " 10.0,\n",
       " 11.0,\n",
       " 12.0,\n",
       " 13.0,\n",
       " 14.0,\n",
       " 15.0,\n",
       " 16.0,\n",
       " 17.0,\n",
       " 18.0,\n",
       " 19.0]"
      ]
     },
     "execution_count": 17,
     "metadata": {},
     "output_type": "execute_result"
    }
   ],
   "source": [
    "products_sort = sorted(table['Region'].dropna().unique())\n",
    "products_sort"
   ]
  },
  {
   "cell_type": "code",
   "execution_count": null,
   "metadata": {},
   "outputs": [],
   "source": [
    "train = train_data\n",
    "mean_region = train['Region'].mean()\n",
    "mean_province = train['Province'].mean()\n",
    "mean_dataarpu = train['DataArpu'].mean()\n",
    "mean_zipcode = train['ZipCode'].mean()\n",
    "mean_churn = train['ChurnScore'].mean()\n",
    "mean_dataallowance = train['DataAllowanceContinuous'].mean()\n",
    "\n",
    "train['ChurnScore'] = train['ChurnScore'].fillna(mean_churn)\n",
    "train['DataArpu'] = train['DataArpu'].fillna(mean_dataarpu)\n",
    "train['Region'] = train['Region'].fillna(mean_region)\n",
    "train['Province'] = train['Province'].fillna(mean_province)\n",
    "train['ZipCode'] = train['ZipCode'].fillna(mean_zipcode)\n",
    "train['DataAllowanceContinuous'] = train['DataAllowanceContinuous'].fillna(mean_dataallowance)\n",
    "train.isnull().sum()"
   ]
  },
  {
   "cell_type": "code",
   "execution_count": 27,
   "metadata": {},
   "outputs": [],
   "source": [
    "train = train_data\n",
    "train = train.fillna(train.mean())\n",
    "train.isnull().sum()\n",
    "test = test_data\n",
    "test = test.fillna(test.mean())"
   ]
  },
  {
   "cell_type": "code",
   "execution_count": 31,
   "metadata": {},
   "outputs": [
    {
     "data": {
      "text/plain": [
       "count    7568.000000\n",
       "mean       56.794662\n",
       "std        31.354942\n",
       "min         0.000000\n",
       "25%        27.000000\n",
       "50%        58.000000\n",
       "75%        84.000000\n",
       "max       109.000000\n",
       "Name: Province, dtype: float64"
      ]
     },
     "execution_count": 31,
     "metadata": {},
     "output_type": "execute_result"
    }
   ],
   "source": [
    "train_data.Province.describe()"
   ]
  },
  {
   "cell_type": "code",
   "execution_count": 26,
   "metadata": {},
   "outputs": [
    {
     "data": {
      "text/plain": [
       "0       45.000000\n",
       "1       25.000000\n",
       "2       35.000000\n",
       "3       55.000000\n",
       "4       65.000000\n",
       "5       55.000000\n",
       "6       45.000000\n",
       "7       25.000000\n",
       "8       25.000000\n",
       "9       75.000000\n",
       "10      25.000000\n",
       "11      44.796877\n",
       "12      75.000000\n",
       "13      25.000000\n",
       "14      55.000000\n",
       "15      45.000000\n",
       "16      35.000000\n",
       "17      55.000000\n",
       "18      65.000000\n",
       "19      65.000000\n",
       "20      25.000000\n",
       "21      75.000000\n",
       "22      65.000000\n",
       "23      25.000000\n",
       "24      44.796877\n",
       "25      25.000000\n",
       "26      35.000000\n",
       "27      45.000000\n",
       "28      75.000000\n",
       "29      15.000000\n",
       "          ...    \n",
       "9537    55.000000\n",
       "9538    55.000000\n",
       "9539    55.000000\n",
       "9540    35.000000\n",
       "9541    55.000000\n",
       "9542    25.000000\n",
       "9543    25.000000\n",
       "9544    45.000000\n",
       "9545    25.000000\n",
       "9546    45.000000\n",
       "9547    25.000000\n",
       "9548    25.000000\n",
       "9549    35.000000\n",
       "9550    25.000000\n",
       "9551    55.000000\n",
       "9552    45.000000\n",
       "9553    65.000000\n",
       "9554    35.000000\n",
       "9555    55.000000\n",
       "9556    25.000000\n",
       "9557    45.000000\n",
       "9558    75.000000\n",
       "9559    45.000000\n",
       "9560    44.796877\n",
       "9561    45.000000\n",
       "9562    55.000000\n",
       "9563    65.000000\n",
       "9564    15.000000\n",
       "9565    25.000000\n",
       "9566    45.000000\n",
       "Name: CustomerAge, Length: 9567, dtype: float64"
      ]
     },
     "execution_count": 26,
     "metadata": {},
     "output_type": "execute_result"
    }
   ],
   "source": [
    "train.CustomerAge"
   ]
  },
  {
   "cell_type": "code",
   "execution_count": 29,
   "metadata": {},
   "outputs": [],
   "source": [
    "train.to_csv('normalized_train_dataset_mean.csv', index = False, encoding='utf-8')\n",
    "test.to_csv('normalized_test_dataset_mean.csv', index = False, encoding='utf-8')"
   ]
  },
  {
   "cell_type": "code",
   "execution_count": null,
   "metadata": {},
   "outputs": [],
   "source": []
  },
  {
   "cell_type": "code",
   "execution_count": null,
   "metadata": {},
   "outputs": [],
   "source": []
  },
  {
   "cell_type": "code",
   "execution_count": null,
   "metadata": {},
   "outputs": [],
   "source": []
  }
 ],
 "metadata": {
  "kernelspec": {
   "display_name": "Python 3",
   "language": "python",
   "name": "python3"
  },
  "language_info": {
   "codemirror_mode": {
    "name": "ipython",
    "version": 3
   },
   "file_extension": ".py",
   "mimetype": "text/x-python",
   "name": "python",
   "nbconvert_exporter": "python",
   "pygments_lexer": "ipython3",
   "version": "3.6.4"
  }
 },
 "nbformat": 4,
 "nbformat_minor": 2
}
