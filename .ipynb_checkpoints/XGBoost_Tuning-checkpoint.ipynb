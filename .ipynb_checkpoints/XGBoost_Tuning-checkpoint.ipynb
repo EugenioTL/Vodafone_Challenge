{
 "cells": [
  {
   "cell_type": "code",
   "execution_count": null,
   "metadata": {},
   "outputs": [],
   "source": [
    "import pandas as pd\n",
    "import numpy as np\n",
    "import xgboost as xgb\n",
    "#from xgboost.sklearn import XGBClassifier\n",
    "from xgboost import XGBClassifier\n",
    "# from sklearn import cross_validation, metrics\n",
    "# from sklearn.grid_search import GridSearchCV\n",
    "from sklearn.model_selection import GridSearchCV\n",
    "from sklearn.model_selection import StratifiedKFold\n",
    "from sklearn.metrics import f1_score\n",
    "\n",
    "from sklearn.model_selection import train_test_split\n",
    "from sklearn.metrics import accuracy_score\n",
    "\n",
    "from xgboost import plot_importance\n",
    "from matplotlib import pyplot\n",
    "import matplotlib.pyplot as plt\n",
    "%matplotlib inline\n",
    "from matplotlib.pylab import rcParams\n",
    "rcParams['figure.figsize'] = 12, 8\n",
    "\n",
    "from numpy import sort\n",
    "from sklearn.feature_selection import SelectFromModel\n",
    "\n",
    "# Ignore warnings\n",
    "import warnings\n",
    "warnings.simplefilter('ignore')"
   ]
  },
  {
   "cell_type": "code",
   "execution_count": 2,
   "metadata": {},
   "outputs": [],
   "source": [
    "# Import the train set and test set\n",
    "train_data2 = pd.read_csv(\"trainset.csv\", delimiter=\",\")\n",
    "test_data2 = pd.read_csv(\"testset.csv\", delimiter=\",\")\n",
    "\n",
    "train = pd.read_csv(\"normalized_train_dataset.csv\", delimiter=\",\")\n",
    "test = pd.read_csv(\"normalized_test_dataset.csv\", delimiter=\",\")\n",
    "\n",
    "#train = train.dropna()\n",
    "# test = test.dropna()"
   ]
  },
  {
   "cell_type": "code",
   "execution_count": 3,
   "metadata": {},
   "outputs": [
    {
     "data": {
      "text/plain": [
       "((9567, 35), (3190, 34))"
      ]
     },
     "execution_count": 3,
     "metadata": {},
     "output_type": "execute_result"
    }
   ],
   "source": [
    "train.shape, test.shape"
   ]
  },
  {
   "cell_type": "code",
   "execution_count": 4,
   "metadata": {},
   "outputs": [],
   "source": [
    "target = 'Product'\n",
    "IDcol = 'ID'"
   ]
  },
  {
   "cell_type": "code",
   "execution_count": null,
   "metadata": {},
   "outputs": [],
   "source": []
  },
  {
   "cell_type": "code",
   "execution_count": null,
   "metadata": {},
   "outputs": [],
   "source": []
  },
  {
   "cell_type": "code",
   "execution_count": 5,
   "metadata": {
    "scrolled": false
   },
   "outputs": [],
   "source": [
    "test_results = pd.read_csv('test_results.csv')\n",
    "def modelfit(alg, dtrain, dtest, predictors,useTrainCV=True, cv_folds=10, early_stopping_rounds=50):\n",
    "    \n",
    "    # fit model on training data\n",
    "    model = alg\n",
    "    \n",
    "    X_train, X_test, y_train, y_test = train_test_split(dtrain[predictors], dtrain[target], test_size=0.33, random_state=7)\n",
    "    eval_set = [(X_test, y_test)]\n",
    "    model.fit(X_train,\n",
    "              y_train,\n",
    "              early_stopping_rounds=early_stopping_rounds,\n",
    "              eval_metric=\"merror\",\n",
    "              eval_set=eval_set,\n",
    "              verbose=False)\n",
    "    \n",
    "    # make predictions for test data\n",
    "    y_pred = model.predict(X_test)\n",
    "    predictions = [round(value) for value in y_pred]\n",
    "    # evaluate predictions\n",
    "    accuracy = accuracy_score(y_test, predictions)\n",
    "    f1_scor = f1_score(y_test, predictions, average='micro')  \n",
    "    print(\"Accuracy: %.2f%%\" % (accuracy * 100.0))\n",
    "    print(\"f1_micro: %.2f%%\" % (f1_scor * 100.0))\n",
    "    \n",
    "#     if useTrainCV:\n",
    "#         xgb_param = alg.get_xgb_params()\n",
    "#         xgtrain = xgb.DMatrix(dtrain[predictors].values, label=dtrain[target].values)\n",
    "#         xgtest = xgb.DMatrix(dtest[predictors].values)\n",
    "#         cvresult = xgb.cv(xgb_param, xgtrain, num_boost_round=alg.get_params()['n_estimators'], nfold=cv_folds,\n",
    "#             metrics='merror',\n",
    "#                           early_stopping_rounds=early_stopping_rounds)\n",
    "#         alg.set_params(n_estimators=cvresult.shape[0])\n",
    "    \n",
    "#     #Fit the algorithm on the data\n",
    "#     alg.fit(dtrain[predictors], dtrain['Product'],eval_metric='auc')\n",
    "        \n",
    "#     #Predict training set:\n",
    "#     dtrain_predictions = alg.predict(dtrain[predictors])\n",
    "#     dtrain_predprob = alg.predict_proba(dtrain[predictors])[:,1]\n",
    "        \n",
    "#     #Print model report:\n",
    "#     print(\"\\nModel Report\")\n",
    "#     print(\"Accuracy : %.4g\" % metrics.accuracy_score(dtrain['Product'].values, dtrain_predictions))\n",
    "#     #print(\"AUC Score (Train): %f\" % metrics.roc_auc_score(dtrain['Product'], dtrain_predprob))\n",
    "    \n",
    "# #     Predict on testing data:\n",
    "    dtest['predprob'] = alg.predict_proba(dtest[predictors])[:,1]\n",
    "    results = test_results.merge(dtest[['ID','predprob']], on='ID')\n",
    "    #print(dtest[['ID','predprob']])\n",
    "#     #print('AUC Score (Test): %f' % metrics.roc_auc_score(results['Product'], results['predprob']))\n",
    "        \n",
    "    #feat_imp = pd.Series(model.booster().get_fscore()).sort_values(ascending=False)\n",
    "#     feat_imp.plot(kind='bar', title='Feature Importances')\n",
    "#     plt.ylabel('Feature Importance Score')\n",
    "\n",
    "    plot_importance(model)\n",
    "    plt.show()\n",
    "    print(\"Model: \" + str(model))\n",
    "    thresholds = alg.feature_importances_\n",
    "    print(\"Feature_Importances: \")\n",
    "    print(dtrain.columns[thresholds.argsort()[-10:][::-1]])"
   ]
  },
  {
   "cell_type": "code",
   "execution_count": 6,
   "metadata": {},
   "outputs": [],
   "source": [
    "def important_features(model, nfeatures = 10):\n",
    "    model.fit()\n",
    "    thresholds = model.feature_importances_\n",
    "    \n",
    "    return train.column[thresholds.argsort()[-nfeatures:][::-1]]"
   ]
  },
  {
   "cell_type": "markdown",
   "metadata": {},
   "source": [
    "# Step 1- Find the number of estimators for a high learning rate"
   ]
  },
  {
   "cell_type": "code",
   "execution_count": 7,
   "metadata": {},
   "outputs": [
    {
     "name": "stdout",
     "output_type": "stream",
     "text": [
      "Accuracy: 61.08%\n",
      "f1_micro: 61.08%\n"
     ]
    },
    {
     "data": {
      "image/png": "[encoded data removed]",
      "text/plain": [
       "<Figure size 432x288 with 1 Axes>"
      ]
     },
     "metadata": {},
     "output_type": "display_data"
    },
    {
     "name": "stdout",
     "output_type": "stream",
     "text": [
      "Model: XGBClassifier(base_score=0.5, booster='gbtree', colsample_bylevel=1,\n",
      "       colsample_bytree=1, gamma=0, learning_rate=0.1, max_delta_step=0,\n",
      "       max_depth=3, min_child_weight=1, missing=None, n_estimators=100,\n",
      "       n_jobs=1, nthread=None, num_class=4, objective='multi:softprob',\n",
      "       random_state=0, reg_alpha=0, reg_lambda=1, scale_pos_weight=1,\n",
      "       seed=None, silent=True, subsample=1)\n",
      "Feature_Importances: \n",
      "Index(['DeviceFlag4G', 'ZipCode', 'CustomerExpatriate',\n",
      "       'MonthlySMSTrafficCount', 'DeviceFlagSmartphone', 'DataArpu',\n",
      "       'Instant-Messaging-Applications', 'Web-Applications',\n",
      "       'MonthlyVoiceTrafficCount', 'Region'],\n",
      "      dtype='object')\n"
     ]
    }
   ],
   "source": [
    "predictors = [x for x in train.columns if x not in [target, IDcol]]\n",
    "xgb0 = XGBClassifier(\n",
    "        objective='multi:softprob',\n",
    "        num_class=4)\n",
    "modelfit(xgb0, train, test, predictors)"
   ]
  },
  {
   "cell_type": "code",
   "execution_count": 8,
   "metadata": {},
   "outputs": [],
   "source": [
    "learning_rate = 0.1\n",
    "n_estimators = 1000\n",
    "max_depth = 5\n",
    "min_child_weight = 1\n",
    "gamma = 0\n",
    "subsample = 0.8\n",
    "colsample_bytree = 0.8\n",
    "reg_alpha = 0.005\n",
    "cv = 5"
   ]
  },
  {
   "cell_type": "code",
   "execution_count": 9,
   "metadata": {},
   "outputs": [
    {
     "name": "stdout",
     "output_type": "stream",
     "text": [
      "Accuracy: 61.65%\n",
      "f1_micro: 61.65%\n"
     ]
    },
    {
     "data": {
      "image/png": "[encoded data removed]",
      "text/plain": [
       "<Figure size 432x288 with 1 Axes>"
      ]
     },
     "metadata": {},
     "output_type": "display_data"
    },
    {
     "name": "stdout",
     "output_type": "stream",
     "text": [
      "Model: XGBClassifier(base_score=0.5, booster='gbtree', colsample_bylevel=1,\n",
      "       colsample_bytree=0.8, gamma=0, learning_rate=0.1, max_delta_step=0,\n",
      "       max_depth=5, min_child_weight=1, missing=None, n_estimators=1000,\n",
      "       n_jobs=1, nthread=4, num_class=4, objective='multi:softprob',\n",
      "       random_state=0, reg_alpha=0, reg_lambda=1, scale_pos_weight=1,\n",
      "       seed=27, silent=True, subsample=0.8)\n",
      "Feature_Importances: \n",
      "Index(['ZipCode', 'CustomerExpatriate', 'MonthlySMSTrafficCount',\n",
      "       'DeviceFlag4G', 'DeviceFlagSmartphone', 'DataArpu', 'Region',\n",
      "       'MonthlyVoiceTrafficCount', 'ParkingConnectionsCount', 'Games'],\n",
      "      dtype='object')\n"
     ]
    }
   ],
   "source": [
    "predictors = [x for x in train.columns if x not in [target, IDcol]]\n",
    "xgb1 = XGBClassifier(\n",
    "        learning_rate=learning_rate,\n",
    "        n_estimators=n_estimators,\n",
    "        max_depth=max_depth,\n",
    "        min_child_weight=min_child_weight,\n",
    "        gamma=gamma,\n",
    "        subsample=subsample,\n",
    "        colsample_bytree=colsample_bytree,\n",
    "        objective='multi:softprob',\n",
    "        num_class=4,\n",
    "        nthread=4,\n",
    "        scale_pos_weight=1,\n",
    "        seed=27)\n",
    "modelfit(xgb1, train, test, predictors)"
   ]
  },
  {
   "cell_type": "code",
   "execution_count": 10,
   "metadata": {},
   "outputs": [
    {
     "name": "stdout",
     "output_type": "stream",
     "text": [
      "Fitting 10 folds for each of 12 candidates, totalling 120 fits\n"
     ]
    },
    {
     "name": "stderr",
     "output_type": "stream",
     "text": [
      "[Parallel(n_jobs=4)]: Done  42 tasks      | elapsed:  1.4min\n",
      "[Parallel(n_jobs=4)]: Done 120 out of 120 | elapsed:  6.2min finished\n"
     ]
    },
    {
     "data": {
      "text/plain": [
       "([mean: 0.61513, std: 0.00710, params: {'max_depth': 3, 'min_child_weight': 1},\n",
       "  mean: 0.61524, std: 0.00769, params: {'max_depth': 3, 'min_child_weight': 3},\n",
       "  mean: 0.61513, std: 0.00553, params: {'max_depth': 3, 'min_child_weight': 5},\n",
       "  mean: 0.61649, std: 0.01214, params: {'max_depth': 5, 'min_child_weight': 1},\n",
       "  mean: 0.61242, std: 0.00871, params: {'max_depth': 5, 'min_child_weight': 3},\n",
       "  mean: 0.61534, std: 0.00948, params: {'max_depth': 5, 'min_child_weight': 5},\n",
       "  mean: 0.61054, std: 0.01203, params: {'max_depth': 7, 'min_child_weight': 1},\n",
       "  mean: 0.61210, std: 0.01007, params: {'max_depth': 7, 'min_child_weight': 3},\n",
       "  mean: 0.61200, std: 0.01116, params: {'max_depth': 7, 'min_child_weight': 5},\n",
       "  mean: 0.61137, std: 0.00964, params: {'max_depth': 9, 'min_child_weight': 1},\n",
       "  mean: 0.61054, std: 0.01187, params: {'max_depth': 9, 'min_child_weight': 3},\n",
       "  mean: 0.60834, std: 0.01259, params: {'max_depth': 9, 'min_child_weight': 5}],\n",
       " {'max_depth': 5, 'min_child_weight': 1},\n",
       " 0.6164931177297086)"
      ]
     },
     "execution_count": 10,
     "metadata": {},
     "output_type": "execute_result"
    }
   ],
   "source": [
    "#Grid seach on subsample and max_features\n",
    "#Choose all predictors except target & IDcols\n",
    "param_test1 = {\n",
    "    'max_depth':range(3,10,2),\n",
    "    'min_child_weight':range(1,6,2)\n",
    "}\n",
    "gsearch1 = GridSearchCV(estimator = XGBClassifier( learning_rate =learning_rate, n_estimators=140, max_depth=max_depth,\n",
    "                                        min_child_weight=min_child_weight, gamma=gamma, subsample=subsample,\n",
    "                                        colsample_bytree=colsample_bytree, objective='multi:softprob', num_class=4, nthread=4, scale_pos_weight=1, seed=27), \n",
    "                       param_grid = param_test1, scoring='f1_micro',n_jobs=4,iid=False, cv=cv,verbose=1)\n",
    "gsearch1.fit(train[predictors],train[target])\n",
    "gsearch1.grid_scores_, gsearch1.best_params_, gsearch1.best_score_"
   ]
  },
  {
   "cell_type": "code",
   "execution_count": 11,
   "metadata": {},
   "outputs": [
    {
     "data": {
      "text/plain": [
       "(5, 1)"
      ]
     },
     "execution_count": 11,
     "metadata": {},
     "output_type": "execute_result"
    }
   ],
   "source": [
    "max_depth = gsearch1.best_params_['max_depth']\n",
    "min_child_weight = gsearch1.best_params_['min_child_weight']\n",
    "max_depth,min_child_weight"
   ]
  },
  {
   "cell_type": "code",
   "execution_count": 12,
   "metadata": {},
   "outputs": [
    {
     "name": "stdout",
     "output_type": "stream",
     "text": [
      "Fitting 10 folds for each of 9 candidates, totalling 90 fits\n"
     ]
    },
    {
     "name": "stderr",
     "output_type": "stream",
     "text": [
      "[Parallel(n_jobs=4)]: Done  42 tasks      | elapsed:  1.6min\n",
      "[Parallel(n_jobs=4)]: Done  90 out of  90 | elapsed:  3.8min finished\n"
     ]
    },
    {
     "data": {
      "text/plain": [
       "([mean: 0.61545, std: 0.00785, params: {'max_depth': 4, 'min_child_weight': 0},\n",
       "  mean: 0.61513, std: 0.00704, params: {'max_depth': 4, 'min_child_weight': 1},\n",
       "  mean: 0.61764, std: 0.00684, params: {'max_depth': 4, 'min_child_weight': 2},\n",
       "  mean: 0.61367, std: 0.01247, params: {'max_depth': 5, 'min_child_weight': 0},\n",
       "  mean: 0.61649, std: 0.01214, params: {'max_depth': 5, 'min_child_weight': 1},\n",
       "  mean: 0.60886, std: 0.01259, params: {'max_depth': 5, 'min_child_weight': 2},\n",
       "  mean: 0.61514, std: 0.01114, params: {'max_depth': 6, 'min_child_weight': 0},\n",
       "  mean: 0.61064, std: 0.01025, params: {'max_depth': 6, 'min_child_weight': 1},\n",
       "  mean: 0.61054, std: 0.01328, params: {'max_depth': 6, 'min_child_weight': 2}],\n",
       " {'max_depth': 4, 'min_child_weight': 2},\n",
       " 0.6176429809138574)"
      ]
     },
     "execution_count": 12,
     "metadata": {},
     "output_type": "execute_result"
    }
   ],
   "source": [
    "#Grid seach on subsample and max_features\n",
    "#Choose all predictors except target & IDcols\n",
    "param_test2 = {\n",
    "    'max_depth':[max_depth-1,max_depth,max_depth+1],\n",
    "    'min_child_weight':[min_child_weight-1,min_child_weight,min_child_weight+1]\n",
    "}\n",
    "gsearch2 = GridSearchCV(estimator = XGBClassifier( learning_rate=learning_rate, n_estimators=140, max_depth=max_depth,\n",
    "                                        min_child_weight=min_child_weight, gamma=gamma, subsample=subsample, colsample_bytree=colsample_bytree,\n",
    "                                        objective='multi:softprob', num_class=4, nthread=4, scale_pos_weight=1,seed=27), \n",
    "                       param_grid = param_test2, scoring='f1_micro',n_jobs=4,iid=False, cv=cv, verbose=1)\n",
    "gsearch2.fit(train[predictors],train[target])\n",
    "gsearch2.grid_scores_, gsearch2.best_params_, gsearch2.best_score_"
   ]
  },
  {
   "cell_type": "code",
   "execution_count": 13,
   "metadata": {},
   "outputs": [
    {
     "data": {
      "text/plain": [
       "(4, 2)"
      ]
     },
     "execution_count": 13,
     "metadata": {},
     "output_type": "execute_result"
    }
   ],
   "source": [
    "max_depth = gsearch2.best_params_['max_depth']\n",
    "min_child_weight = gsearch2.best_params_['min_child_weight']\n",
    "max_depth,min_child_weight"
   ]
  },
  {
   "cell_type": "code",
   "execution_count": 14,
   "metadata": {},
   "outputs": [
    {
     "name": "stdout",
     "output_type": "stream",
     "text": [
      "Fitting 10 folds for each of 4 candidates, totalling 40 fits\n"
     ]
    },
    {
     "name": "stderr",
     "output_type": "stream",
     "text": [
      "[Parallel(n_jobs=4)]: Done  40 out of  40 | elapsed:  1.4min finished\n"
     ]
    },
    {
     "data": {
      "text/plain": [
       "([mean: 0.61764, std: 0.00684, params: {'min_child_weight': 2},\n",
       "  mean: 0.61576, std: 0.00733, params: {'min_child_weight': 4},\n",
       "  mean: 0.61430, std: 0.00846, params: {'min_child_weight': 6},\n",
       "  mean: 0.61555, std: 0.00723, params: {'min_child_weight': 8}],\n",
       " {'min_child_weight': 2},\n",
       " 0.6176429809138574)"
      ]
     },
     "execution_count": 14,
     "metadata": {},
     "output_type": "execute_result"
    }
   ],
   "source": [
    "#Grid seach on subsample and max_features#Grid se \n",
    "#Choose all predictors except target & IDcols\n",
    "param_test2b = {\n",
    "    'min_child_weight':[min_child_weight,min_child_weight+2,min_child_weight+4,min_child_weight+6]\n",
    "}\n",
    "gsearch2b = GridSearchCV(estimator = XGBClassifier( learning_rate=learning_rate, n_estimators=140, max_depth=max_depth,\n",
    "                                        min_child_weight=min_child_weight, gamma=gamma, subsample=subsample, colsample_bytree=colsample_bytree,\n",
    "                                        objective='multi:softprob', num_class=4, nthread=4, scale_pos_weight=1,seed=27), \n",
    "                       param_grid = param_test2b, scoring='f1_micro',n_jobs=4,iid=False, cv=cv, verbose=1)\n",
    "gsearch2b.fit(train[predictors],train[target])\n",
    "gsearch2b.grid_scores_, gsearch2b.best_params_, gsearch2b.best_score_"
   ]
  },
  {
   "cell_type": "code",
   "execution_count": 15,
   "metadata": {},
   "outputs": [
    {
     "data": {
      "text/plain": [
       "2"
      ]
     },
     "execution_count": 15,
     "metadata": {},
     "output_type": "execute_result"
    }
   ],
   "source": [
    "min_child_weight = gsearch2b.best_params_['min_child_weight']\n",
    "min_child_weight"
   ]
  },
  {
   "cell_type": "code",
   "execution_count": 16,
   "metadata": {},
   "outputs": [
    {
     "name": "stdout",
     "output_type": "stream",
     "text": [
      "Fitting 10 folds for each of 5 candidates, totalling 50 fits\n"
     ]
    },
    {
     "name": "stderr",
     "output_type": "stream",
     "text": [
      "[Parallel(n_jobs=4)]: Done  42 tasks      | elapsed:  1.6min\n",
      "[Parallel(n_jobs=4)]: Done  50 out of  50 | elapsed:  1.8min finished\n"
     ]
    },
    {
     "data": {
      "text/plain": [
       "([mean: 0.61764, std: 0.00684, params: {'gamma': 0.0},\n",
       "  mean: 0.61628, std: 0.00619, params: {'gamma': 0.1},\n",
       "  mean: 0.61879, std: 0.00908, params: {'gamma': 0.2},\n",
       "  mean: 0.61723, std: 0.00783, params: {'gamma': 0.3},\n",
       "  mean: 0.61890, std: 0.00579, params: {'gamma': 0.4}],\n",
       " {'gamma': 0.4},\n",
       " 0.618898211497192)"
      ]
     },
     "execution_count": 16,
     "metadata": {},
     "output_type": "execute_result"
    }
   ],
   "source": [
    "#Grid seach on subsample and max_features\n",
    "#Choose all predictors except target & IDcols\n",
    "param_test3 = {\n",
    "    'gamma':[i/10.0 for i in range(0,5)]\n",
    "}\n",
    "gsearch3 = GridSearchCV(estimator = XGBClassifier( learning_rate =learning_rate, n_estimators=140, max_depth=max_depth,\n",
    "                                        min_child_weight=min_child_weight, gamma=gamma, subsample=subsample, colsample_bytree=colsample_bytree,\n",
    "                                        objective='multi:softprob', num_class=4, nthread=4, scale_pos_weight=1,seed=27), \n",
    "                       param_grid = param_test3, scoring='f1_micro',n_jobs=4,iid=False, cv=cv, verbose=1)\n",
    "gsearch3.fit(train[predictors],train[target])\n",
    "gsearch3.grid_scores_, gsearch3.best_params_, gsearch3.best_score_"
   ]
  },
  {
   "cell_type": "code",
   "execution_count": 17,
   "metadata": {},
   "outputs": [
    {
     "data": {
      "text/plain": [
       "0.4"
      ]
     },
     "execution_count": 17,
     "metadata": {},
     "output_type": "execute_result"
    }
   ],
   "source": [
    "gamma = gsearch3.best_params_['gamma']\n",
    "gamma"
   ]
  },
  {
   "cell_type": "code",
   "execution_count": 18,
   "metadata": {},
   "outputs": [
    {
     "name": "stdout",
     "output_type": "stream",
     "text": [
      "Accuracy: 61.05%\n",
      "f1_micro: 61.05%\n"
     ]
    },
    {
     "data": {
      "image/png": "[encoded data removed]",
      "text/plain": [
       "<Figure size 432x288 with 1 Axes>"
      ]
     },
     "metadata": {},
     "output_type": "display_data"
    },
    {
     "name": "stdout",
     "output_type": "stream",
     "text": [
      "Model: XGBClassifier(base_score=0.5, booster='gbtree', colsample_bylevel=1,\n",
      "       colsample_bytree=0.8, gamma=0.4, learning_rate=0.1,\n",
      "       max_delta_step=0, max_depth=4, min_child_weight=2, missing=None,\n",
      "       n_estimators=1000, n_jobs=1, nthread=4, num_class=4,\n",
      "       objective='multi:softprob', random_state=0, reg_alpha=0,\n",
      "       reg_lambda=1, scale_pos_weight=1, seed=27, silent=True,\n",
      "       subsample=0.8)\n",
      "Feature_Importances: \n",
      "Index(['CustomerExpatriate', 'ZipCode', 'MonthlySMSTrafficCount',\n",
      "       'DeviceFlag4G', 'DeviceFlagSmartphone', 'DataArpu', 'Region',\n",
      "       'MonthlyVoiceTrafficCount', 'Instant-Messaging-Applications',\n",
      "       'ParkingConnectionsCount'],\n",
      "      dtype='object')\n"
     ]
    }
   ],
   "source": [
    "predictors = [x for x in train.columns if x not in [target, IDcol]]\n",
    "xgb2 = XGBClassifier(\n",
    "        learning_rate =learning_rate,\n",
    "        n_estimators=1000,\n",
    "        max_depth=max_depth,\n",
    "        min_child_weight=min_child_weight,\n",
    "        gamma=gamma,\n",
    "        subsample=subsample,\n",
    "        colsample_bytree=colsample_bytree,\n",
    "        objective='multi:softprob', \n",
    "        num_class=4,\n",
    "        nthread=4,\n",
    "        scale_pos_weight=1,\n",
    "        seed=27)\n",
    "modelfit(xgb2, train, test, predictors)"
   ]
  },
  {
   "cell_type": "markdown",
   "metadata": {},
   "source": [
    "# Tune subsample and colsample_bytree"
   ]
  },
  {
   "cell_type": "code",
   "execution_count": 19,
   "metadata": {},
   "outputs": [
    {
     "name": "stdout",
     "output_type": "stream",
     "text": [
      "Fitting 10 folds for each of 16 candidates, totalling 160 fits\n"
     ]
    },
    {
     "name": "stderr",
     "output_type": "stream",
     "text": [
      "[Parallel(n_jobs=4)]: Done  42 tasks      | elapsed:  1.5min\n",
      "[Parallel(n_jobs=4)]: Done 160 out of 160 | elapsed:  6.6min finished\n"
     ]
    },
    {
     "data": {
      "text/plain": [
       "([mean: 0.61304, std: 0.01074, params: {'colsample_bytree': 0.6, 'subsample': 0.6},\n",
       "  mean: 0.61357, std: 0.01019, params: {'colsample_bytree': 0.6, 'subsample': 0.7},\n",
       "  mean: 0.61378, std: 0.00853, params: {'colsample_bytree': 0.6, 'subsample': 0.8},\n",
       "  mean: 0.61137, std: 0.00723, params: {'colsample_bytree': 0.6, 'subsample': 0.9},\n",
       "  mean: 0.61347, std: 0.00968, params: {'colsample_bytree': 0.7, 'subsample': 0.6},\n",
       "  mean: 0.61346, std: 0.00814, params: {'colsample_bytree': 0.7, 'subsample': 0.7},\n",
       "  mean: 0.61514, std: 0.00904, params: {'colsample_bytree': 0.7, 'subsample': 0.8},\n",
       "  mean: 0.61346, std: 0.00955, params: {'colsample_bytree': 0.7, 'subsample': 0.9},\n",
       "  mean: 0.61106, std: 0.00899, params: {'colsample_bytree': 0.8, 'subsample': 0.6},\n",
       "  mean: 0.61388, std: 0.00883, params: {'colsample_bytree': 0.8, 'subsample': 0.7},\n",
       "  mean: 0.61629, std: 0.00930, params: {'colsample_bytree': 0.8, 'subsample': 0.8},\n",
       "  mean: 0.61367, std: 0.00909, params: {'colsample_bytree': 0.8, 'subsample': 0.9},\n",
       "  mean: 0.61043, std: 0.00986, params: {'colsample_bytree': 0.9, 'subsample': 0.6},\n",
       "  mean: 0.61472, std: 0.01068, params: {'colsample_bytree': 0.9, 'subsample': 0.7},\n",
       "  mean: 0.61545, std: 0.01091, params: {'colsample_bytree': 0.9, 'subsample': 0.8},\n",
       "  mean: 0.61587, std: 0.00737, params: {'colsample_bytree': 0.9, 'subsample': 0.9}],\n",
       " {'colsample_bytree': 0.8, 'subsample': 0.8},\n",
       " 0.6162867564055226)"
      ]
     },
     "execution_count": 19,
     "metadata": {},
     "output_type": "execute_result"
    }
   ],
   "source": [
    "#Grid seach on subsample and max_features\n",
    "#Choose all predictors except target & IDcols\n",
    "param_test4 = {\n",
    "    'subsample':[i/10.0 for i in range(6,10)],\n",
    "    'colsample_bytree':[i/10.0 for i in range(6,10)]\n",
    "}\n",
    "gsearch4 = GridSearchCV(estimator = XGBClassifier( learning_rate =learning_rate, n_estimators=177, max_depth=max_depth,\n",
    "                                        min_child_weight=min_child_weight, gamma=gamma, subsample=subsample, colsample_bytree=colsample_bytree,\n",
    "                                        objective='multi:softprob', num_class=4, nthread=4, scale_pos_weight=1,seed=27), \n",
    "                       param_grid = param_test4, scoring='f1_micro',n_jobs=4,iid=False, cv=cv, verbose=1)\n",
    "gsearch4.fit(train[predictors],train[target])\n",
    "gsearch4.grid_scores_, gsearch4.best_params_, gsearch4.best_score_"
   ]
  },
  {
   "cell_type": "code",
   "execution_count": 20,
   "metadata": {},
   "outputs": [
    {
     "data": {
      "text/plain": [
       "(0.8, 0.8)"
      ]
     },
     "execution_count": 20,
     "metadata": {},
     "output_type": "execute_result"
    }
   ],
   "source": [
    "subsample = gsearch4.best_params_['subsample']\n",
    "colsample_bytree = gsearch4.best_params_['colsample_bytree']\n",
    "subsample,colsample_bytree"
   ]
  },
  {
   "cell_type": "code",
   "execution_count": 21,
   "metadata": {},
   "outputs": [
    {
     "name": "stdout",
     "output_type": "stream",
     "text": [
      "Fitting 10 folds for each of 4 candidates, totalling 40 fits\n"
     ]
    },
    {
     "name": "stderr",
     "output_type": "stream",
     "text": [
      "[Parallel(n_jobs=4)]: Done  40 out of  40 | elapsed:  1.7min finished\n"
     ]
    },
    {
     "data": {
      "text/plain": [
       "([mean: 0.61545, std: 0.01013, params: {'colsample_bytree': 0.75, 'subsample': 0.75},\n",
       "  mean: 0.61325, std: 0.00742, params: {'colsample_bytree': 0.75, 'subsample': 0.8},\n",
       "  mean: 0.61597, std: 0.00972, params: {'colsample_bytree': 0.8, 'subsample': 0.75},\n",
       "  mean: 0.61629, std: 0.00930, params: {'colsample_bytree': 0.8, 'subsample': 0.8}],\n",
       " {'colsample_bytree': 0.8, 'subsample': 0.8},\n",
       " 0.6162867564055226)"
      ]
     },
     "execution_count": 21,
     "metadata": {},
     "output_type": "execute_result"
    }
   ],
   "source": [
    "#Grid seach on subsample and max_features\n",
    "#Choose all predictors except target & IDcols\n",
    "param_test5 = {\n",
    "    'subsample':[i/100.0 for i in range(int(subsample*100-5),int(subsample*100+5),5)],\n",
    "    'colsample_bytree':[i/100.0 for i in range(int(subsample*100-5),int(subsample*100+5),5)]\n",
    "}\n",
    "gsearch5 = GridSearchCV(estimator = XGBClassifier( learning_rate =learning_rate, n_estimators=177, max_depth=max_depth,\n",
    "                                        min_child_weight=min_child_weight, gamma=gamma, subsample=subsample, colsample_bytree=colsample_bytree,\n",
    "                                        objective='multi:softprob', num_class=4, nthread=4, scale_pos_weight=1,seed=27), \n",
    "                       param_grid = param_test5, scoring='f1_micro',n_jobs=4,iid=False, cv=cv, verbose=1)\n",
    "gsearch5.fit(train[predictors],train[target])\n",
    "gsearch5.grid_scores_, gsearch5.best_params_, gsearch5.best_score_"
   ]
  },
  {
   "cell_type": "code",
   "execution_count": 22,
   "metadata": {},
   "outputs": [
    {
     "data": {
      "text/plain": [
       "(0.8, 0.8)"
      ]
     },
     "execution_count": 22,
     "metadata": {},
     "output_type": "execute_result"
    }
   ],
   "source": [
    "subsample = gsearch5.best_params_['subsample']\n",
    "colsample_bytree = gsearch5.best_params_['colsample_bytree']\n",
    "subsample,colsample_bytree"
   ]
  },
  {
   "cell_type": "markdown",
   "metadata": {},
   "source": [
    "# regularization:"
   ]
  },
  {
   "cell_type": "code",
   "execution_count": null,
   "metadata": {},
   "outputs": [
    {
     "name": "stdout",
     "output_type": "stream",
     "text": [
      "Fitting 10 folds for each of 5 candidates, totalling 50 fits\n"
     ]
    }
   ],
   "source": [
    "#Grid seach on subsample and max_features\n",
    "#Choose all predictors except target & IDcols\n",
    "param_test6 = {\n",
    "    'reg_alpha':[1e-5, 1e-2, 0.1, 1, 100]\n",
    "}\n",
    "gsearch6 = GridSearchCV(estimator = XGBClassifier( learning_rate =learning_rate, n_estimators=177, max_depth=max_depth,\n",
    "                                        min_child_weight=min_child_weight, gamma=gamma, subsample=subsample, colsample_bytree=colsample_bytree,\n",
    "                                        objective='multi:softprob', num_class=4, nthread=4, scale_pos_weight=1,seed=27), \n",
    "                       param_grid = param_test6, scoring='f1_micro',n_jobs=4,iid=False, cv=cv, verbose=1)\n",
    "gsearch6.fit(train[predictors],train[target])\n",
    "gsearch6.grid_scores_, gsearch6.best_params_, gsearch6.best_score_"
   ]
  },
  {
   "cell_type": "code",
   "execution_count": null,
   "metadata": {},
   "outputs": [],
   "source": [
    "reg_alpha = gsearch6.best_params_['reg_alpha']\n",
    "reg_alpha"
   ]
  },
  {
   "cell_type": "code",
   "execution_count": null,
   "metadata": {},
   "outputs": [],
   "source": [
    "#Grid seach on subsample and max_features\n",
    "#Choose all predictors except target & IDcols\n",
    "param_test7 = {\n",
    "    'reg_alpha':[0, 0.001, 0.005, 0.01, 0.05]\n",
    "}\n",
    "gsearch7 = GridSearchCV(estimator = XGBClassifier( learning_rate =learning_rate, n_estimators=177, max_depth=max_depth,\n",
    "                                        min_child_weight=min_child_weight, gamma=gamma, subsample=subsample, colsample_bytree=colsample_bytree,\n",
    "                                        objective='multi:softprob', num_class=4, nthread=4, scale_pos_weight=1,seed=27), \n",
    "                       param_grid = param_test7, scoring='f1_micro',n_jobs=4,iid=False, cv=cv,verbose=1)\n",
    "gsearch7.fit(train[predictors],train[target])\n",
    "gsearch7.grid_scores_, gsearch7.best_params_, gsearch7.best_score_"
   ]
  },
  {
   "cell_type": "code",
   "execution_count": null,
   "metadata": {},
   "outputs": [],
   "source": [
    "reg_alpha = gsearch7.best_params_['reg_alpha']\n",
    "reg_alpha"
   ]
  },
  {
   "cell_type": "code",
   "execution_count": null,
   "metadata": {},
   "outputs": [],
   "source": [
    "xgb3 = XGBClassifier(\n",
    "        learning_rate =learning_rate,\n",
    "        n_estimators=1000,\n",
    "        max_depth=max_depth,\n",
    "        min_child_weight=min_child_weight,\n",
    "        gamma=gamma,\n",
    "        subsample=subsample,\n",
    "        colsample_bytree=colsample_bytree,\n",
    "        reg_alpha=reg_alpha,\n",
    "        objective='multi:softprob', \n",
    "        num_class=4,\n",
    "        nthread=4,\n",
    "        scale_pos_weight=1,\n",
    "        seed=27)\n",
    "modelfit(xgb3, train, test, predictors)"
   ]
  },
  {
   "cell_type": "code",
   "execution_count": null,
   "metadata": {},
   "outputs": [],
   "source": [
    "xgb4 = XGBClassifier(\n",
    "        learning_rate =learning_rate,\n",
    "        n_estimators=5000,\n",
    "        max_depth=max_depth,\n",
    "        min_child_weight=min_child_weight,\n",
    "        gamma=gamma,\n",
    "        subsample=subsample,\n",
    "        colsample_bytree=colsample_bytree,\n",
    "        reg_alpha=reg_alpha,\n",
    "        objective='multi:softprob', \n",
    "        num_class=4,\n",
    "        nthread=4,\n",
    "        scale_pos_weight=1,\n",
    "        seed=27)\n",
    "modelfit(xgb4, train, test, predictors)"
   ]
  },
  {
   "cell_type": "code",
   "execution_count": null,
   "metadata": {},
   "outputs": [],
   "source": [
    "xtest = test.drop('predprob', 1)"
   ]
  },
  {
   "cell_type": "code",
   "execution_count": null,
   "metadata": {},
   "outputs": [],
   "source": [
    "train.columns"
   ]
  },
  {
   "cell_type": "code",
   "execution_count": null,
   "metadata": {},
   "outputs": [],
   "source": []
  },
  {
   "cell_type": "code",
   "execution_count": null,
   "metadata": {},
   "outputs": [],
   "source": [
    "predictors = [x for x in train.columns if x not in [target]]\n",
    "xgb5 = XGBClassifier(\n",
    "        learning_rate =learning_rate,\n",
    "        n_estimators=5000,\n",
    "        max_depth=max_depth,\n",
    "        min_child_weight=min_child_weight,\n",
    "        gamma=gamma,\n",
    "        subsample=subsample,\n",
    "        colsample_bytree=colsample_bytree,\n",
    "        reg_alpha=reg_alpha,\n",
    "        objective='multi:softprob', \n",
    "        num_class=4,\n",
    "        nthread=4,\n",
    "        scale_pos_weight=1,\n",
    "        seed=27)\n",
    "modelfit(xgb5, train, test, predictors)\n",
    "\n",
    "X_train, X_test, y_train, y_test = train_test_split(train[predictors], train[target], test_size=0.33, random_state=7)\n",
    "eval_set = [(X_test, y_test)]\n",
    "xgb5.fit(X_train,\n",
    "      y_train,\n",
    "      early_stopping_rounds=50,\n",
    "      eval_metric=\"merror\",\n",
    "      eval_set=eval_set,\n",
    "      verbose=False)\n",
    "\n",
    "x_test = test.drop('predprob', 1)\n",
    "\n",
    "y_pred_new_data = xgb5.predict(x_test)\n",
    "predictions = [round(value) for value in y_pred_new_data]"
   ]
  },
  {
   "cell_type": "code",
   "execution_count": null,
   "metadata": {},
   "outputs": [],
   "source": []
  },
  {
   "cell_type": "code",
   "execution_count": null,
   "metadata": {},
   "outputs": [],
   "source": [
    "# predictors = [x for x in train.columns if x not in [target]]\n",
    "# # split data into X and y\n",
    "# X = train[predictors]\n",
    "# Y = train[target]\n",
    "# # split data into train and test sets\n",
    "# X_train, X_test, y_train, y_test = train_test_split(X, Y, test_size=0.33, random_state=7)\n",
    "# # fit model on all training data\n",
    "# model = XGBClassifier(\n",
    "#         objective='multi:softprob', \n",
    "#         num_class=4)\n",
    "# model.fit(X_train, y_train)\n",
    "# # make predictions for test data and evaluate\n",
    "# y_pred = model.predict(X_test)\n",
    "# predictions = [round(value) for value in y_pred]\n",
    "# accuracy = accuracy_score(y_test, predictions)\n",
    "# print(\"Accuracy: %.2f%%\" % (accuracy * 100.0))\n",
    "# # Fit model using each importance as a threshold\n",
    "# thresholds = sort(model.feature_importances_)\n",
    "# for thresh in thresholds:\n",
    "#     # select features using threshold\n",
    "#     selection = SelectFromModel(model, threshold=thresh, prefit=True)\n",
    "#     select_X_train = selection.transform(X_train)\n",
    "#     # train model\n",
    "#     selection_model = XGBClassifier(objective='multi:softprob', \n",
    "#         num_class=4)\n",
    "#     selection_model.fit(select_X_train, y_train)\n",
    "#     # eval model\n",
    "#     select_X_test = selection.transform(X_test)\n",
    "#     y_pred = selection_model.predict(select_X_test)\n",
    "#     predictions = [round(value) for value in y_pred]\n",
    "#     accuracy = accuracy_score(y_test, predictions)\n",
    "#     print(\"Thresh=%.3f, n=%d, Accuracy: %.2f%%\" % (thresh, select_X_train.shape[1], accuracy*100.0))"
   ]
  },
  {
   "cell_type": "code",
   "execution_count": null,
   "metadata": {},
   "outputs": [],
   "source": [
    "thresholds = model.feature_importances_\n",
    "thresholds\n",
    "\n",
    "thresholds.argsort()[-10:][::-1]\n",
    "train.columns[thresholds.argsort()[-10:][::-1]]"
   ]
  },
  {
   "cell_type": "code",
   "execution_count": null,
   "metadata": {},
   "outputs": [],
   "source": []
  },
  {
   "cell_type": "code",
   "execution_count": null,
   "metadata": {},
   "outputs": [],
   "source": []
  },
  {
   "cell_type": "code",
   "execution_count": null,
   "metadata": {},
   "outputs": [],
   "source": []
  },
  {
   "cell_type": "code",
   "execution_count": null,
   "metadata": {},
   "outputs": [],
   "source": [
    "from sklearn.metrics import f1_score\n",
    "print(\"F1 score on unseen data: %.3f%%\" % (f1_score(y_test, y_pred_new_data[0:2033], average='micro')*100))"
   ]
  },
  {
   "cell_type": "code",
   "execution_count": null,
   "metadata": {},
   "outputs": [],
   "source": [
    "y_pred_new_data\n",
    "y = pd.DataFrame({'Product': y_pred_new_data})\n",
    "y.shape"
   ]
  },
  {
   "cell_type": "code",
   "execution_count": null,
   "metadata": {},
   "outputs": [],
   "source": [
    "submit = test['ID']\n",
    "submit = pd.DataFrame({'ID': submit})\n",
    "\n",
    "pred = y\n",
    "pred = pd.DataFrame({'Product': y_pred_new_data})\n",
    "\n",
    "product = []\n",
    "product = pred.Product\n",
    "product.replace({ \n",
    "    int(0) : 'Non-Customer', \n",
    "    int(1) : 'V-Bag', \n",
    "    int(2) : 'V-Pet', \n",
    "    int(3) : 'V-Auto'},\n",
    "    inplace=True)\n",
    "\n",
    "submit = submit.join(product)\n",
    "submit"
   ]
  },
  {
   "cell_type": "code",
   "execution_count": null,
   "metadata": {},
   "outputs": [],
   "source": [
    "submit.to_csv('result.csv', index = False, encoding='utf-8')"
   ]
  }
 ],
 "metadata": {
  "kernelspec": {
   "display_name": "Python 3",
   "language": "python",
   "name": "python3"
  },
  "language_info": {
   "codemirror_mode": {
    "name": "ipython",
    "version": 3
   },
   "file_extension": ".py",
   "mimetype": "text/x-python",
   "name": "python",
   "nbconvert_exporter": "python",
   "pygments_lexer": "ipython3",
   "version": "3.6.5"
  }
 },
 "nbformat": 4,
 "nbformat_minor": 2
}
