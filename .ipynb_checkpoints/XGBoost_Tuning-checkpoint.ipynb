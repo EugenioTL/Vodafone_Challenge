{
 "cells": [
  {
   "cell_type": "code",
   "execution_count": 1,
   "metadata": {},
   "outputs": [],
   "source": [
    "import pandas as pd\n",
    "import numpy as np\n",
    "import xgboost as xgb\n",
    "#from xgboost.sklearn import XGBClassifier\n",
    "from xgboost import XGBClassifier\n",
    "# from sklearn import cross_validation, metrics\n",
    "# from sklearn.grid_search import GridSearchCV\n",
    "from sklearn.model_selection import GridSearchCV\n",
    "from sklearn.model_selection import StratifiedKFold\n",
    "from sklearn.metrics import f1_score\n",
    "\n",
    "from sklearn.model_selection import train_test_split\n",
    "from sklearn.metrics import accuracy_score\n",
    "from sklearn import metrics\n",
    "\n",
    "from xgboost import plot_importance\n",
    "from matplotlib import pyplot\n",
    "import matplotlib.pyplot as plt\n",
    "%matplotlib inline\n",
    "from matplotlib.pylab import rcParams\n",
    "rcParams['figure.figsize'] = 12, 8\n",
    "\n",
    "from numpy import sort\n",
    "from sklearn.feature_selection import SelectFromModel\n",
    "\n",
    "# # Ignore warnings\n",
    "# import warnings\n",
    "# warnings.simplefilter('ignore')"
   ]
  },
  {
   "cell_type": "code",
   "execution_count": 2,
   "metadata": {},
   "outputs": [],
   "source": [
    "# Import the train set and test set\n",
    "# train_data2 = pd.read_csv(\"trainset.csv\", delimiter=\",\")\n",
    "# test_data2 = pd.read_csv(\"testset.csv\", delimiter=\",\")\n",
    "\n",
    "# train = pd.read_csv(\"normalized_train_dataset.csv\", delimiter=\",\")\n",
    "# test = pd.read_csv(\"normalized_test_dataset.csv\", delimiter=\",\")\n",
    "train = pd.read_csv(\"final_train.csv\", delimiter=\",\")\n",
    "test = pd.read_csv(\"final_test.csv\", delimiter=\",\")"
   ]
  },
  {
   "cell_type": "code",
   "execution_count": 3,
   "metadata": {},
   "outputs": [
    {
     "data": {
      "text/plain": [
       "((9567, 35), (3190, 34))"
      ]
     },
     "execution_count": 3,
     "metadata": {},
     "output_type": "execute_result"
    }
   ],
   "source": [
    "train.shape, test.shape"
   ]
  },
  {
   "cell_type": "code",
   "execution_count": 4,
   "metadata": {},
   "outputs": [],
   "source": [
    "target = 'Product'\n",
    "IDcol = 'ID'"
   ]
  },
  {
   "cell_type": "code",
   "execution_count": null,
   "metadata": {},
   "outputs": [],
   "source": []
  },
  {
   "cell_type": "code",
   "execution_count": null,
   "metadata": {},
   "outputs": [],
   "source": []
  },
  {
   "cell_type": "code",
   "execution_count": null,
   "metadata": {
    "scrolled": false
   },
   "outputs": [],
   "source": []
  },
  {
   "cell_type": "code",
   "execution_count": 5,
   "metadata": {},
   "outputs": [],
   "source": [
    "def modelfit(alg, dtrain, predictors,numfeat,useTrainCV=True, cv_folds=5, early_stopping_rounds=100):\n",
    "\n",
    "    if useTrainCV:\n",
    "        xgb_param = alg.get_xgb_params()\n",
    "        xgtrain = xgb.DMatrix(dtrain[predictors].values, label=dtrain[target].values)\n",
    "        cvresult = xgb.cv(xgb_param, xgtrain, num_boost_round=alg.get_params()['n_estimators'], nfold=cv_folds,\n",
    "            metrics=['merror', 'mlogloss'], early_stopping_rounds=early_stopping_rounds, \n",
    "                          verbose_eval=True)\n",
    "        alg.set_params(n_estimators=cvresult.shape[0])\n",
    "        #print(cvresult)\n",
    "    \n",
    "    #Fit the algorithm on the data\n",
    "    alg.fit(dtrain[predictors], dtrain['Product'],eval_metric='merror')\n",
    "        \n",
    "    #Predict training set:\n",
    "    dtrain_predictions = alg.predict(dtrain[predictors])\n",
    "    #dtrain_predprob = alg.predict_proba(dtrain[predictors])[:,1]\n",
    "\n",
    "    #Print model report:\n",
    "    print(\"\\nModel Report\")\n",
    "    print(\"Accuracy : %.4g\" % metrics.accuracy_score(dtrain['Product'].values, dtrain_predictions))\n",
    "    print(\"f1_micro : %.4g\" % metrics.f1_score(dtrain['Product'], dtrain_predictions, average='micro'))\n",
    "    print(\"f1_macro : %.4g\" % metrics.f1_score(dtrain['Product'], dtrain_predictions, average='macro'))\n",
    "    print(\"f1_weighted : %.4g\" % metrics.f1_score(dtrain['Product'], dtrain_predictions, average='weighted'))\n",
    "                    \n",
    "#     feat_imp = pd.Series(alg.booster().get_fscore()).sort_values(ascending=False)\n",
    "#     feat_imp.plot(kind='bar', title='Feature Importances')\n",
    "#     plt.ylabel('Feature Importance Score')\n",
    "    plot_importance(alg)\n",
    "    plt.show()\n",
    "    thresholds = alg.feature_importances_\n",
    "    print(\"Feature_Importances: \")\n",
    "    print(dtrain.columns[thresholds.argsort()[-numfeat:][::-1]])\n",
    "    print(\"Model: \" + str(alg.get_xgb_params()))\n",
    "    print(\"n_estimator: \" + str(cvresult.shape[0]))\n",
    "    return cvresult.shape[0]"
   ]
  },
  {
   "cell_type": "code",
   "execution_count": null,
   "metadata": {},
   "outputs": [],
   "source": []
  },
  {
   "cell_type": "code",
   "execution_count": null,
   "metadata": {},
   "outputs": [],
   "source": []
  },
  {
   "cell_type": "code",
   "execution_count": 6,
   "metadata": {},
   "outputs": [],
   "source": [
    "def important_features(model, nfeatures = 10):\n",
    "    model.fit()\n",
    "    thresholds = model.feature_importances_\n",
    "    \n",
    "    return train.column[thresholds.argsort()[-nfeatures:][::-1]]"
   ]
  },
  {
   "cell_type": "markdown",
   "metadata": {},
   "source": [
    "# Step 1- Find the number of estimators for a high learning rate"
   ]
  },
  {
   "cell_type": "code",
   "execution_count": 7,
   "metadata": {},
   "outputs": [
    {
     "data": {
      "text/plain": [
       "Index(['ID', 'DeviceFlag4G', 'DataArpu', 'DataAllowanceContinuous',\n",
       "       'DeviceFlagSmartphone', 'MonthlyVoiceTrafficCount',\n",
       "       'MonthlySMSTrafficCount', 'MonthlyDataTraffic', 'CustomerGender',\n",
       "       'CustomerExpatriate', 'ChurnScore', 'AirportConnectionsDuration',\n",
       "       'AirportConnectionsCount', 'StationConnectionsDuration',\n",
       "       'StationConnectionsCount', 'ParkingConnectionsDuration',\n",
       "       'ParkingConnectionsCount', 'File-Transfer', 'Games',\n",
       "       'Instant-Messaging-Applications', 'Mail', 'Music-Streaming',\n",
       "       'Network-Operation', 'P2P-Applications', 'Security',\n",
       "       'Streaming-Applications', 'Terminals', 'Unclassified', 'VoIP',\n",
       "       'Web-Applications', 'IsModified', 'CustomerAge', 'Region', 'Province',\n",
       "       'Product'],\n",
       "      dtype='object')"
      ]
     },
     "execution_count": 7,
     "metadata": {},
     "output_type": "execute_result"
    }
   ],
   "source": [
    "train.columns"
   ]
  },
  {
   "cell_type": "code",
   "execution_count": 8,
   "metadata": {
    "scrolled": true
   },
   "outputs": [
    {
     "name": "stdout",
     "output_type": "stream",
     "text": [
      "[0]\ttrain-merror:0.406815+0.00167685\ttrain-mlogloss:1.3346+0.000475091\ttest-merror:0.411832+0.00747232\ttest-mlogloss:1.33585+0.000819127\n",
      "[1]\ttrain-merror:0.406867+0.00220602\ttrain-mlogloss:1.29158+0.000758169\ttest-merror:0.412145+0.0084519\ttest-mlogloss:1.29408+0.00129246\n",
      "[2]\ttrain-merror:0.406005+0.00243155\ttrain-mlogloss:1.25511+0.0011552\ttest-merror:0.413085+0.00821859\ttest-mlogloss:1.25893+0.00197002\n",
      "[3]\ttrain-merror:0.406449+0.00254358\ttrain-mlogloss:1.22393+0.00142489\ttest-merror:0.413504+0.00832785\ttest-mlogloss:1.22881+0.00233658\n",
      "[4]\ttrain-merror:0.405796+0.00254206\ttrain-mlogloss:1.19688+0.00176565\ttest-merror:0.412249+0.00866306\ttest-mlogloss:1.20313+0.00276407\n",
      "[5]\ttrain-merror:0.404933+0.00248621\ttrain-mlogloss:1.17346+0.00199521\ttest-merror:0.412145+0.00757225\ttest-mlogloss:1.1808+0.00342002\n",
      "[6]\ttrain-merror:0.40394+0.00196138\ttrain-mlogloss:1.1531+0.00213388\ttest-merror:0.413085+0.00756061\ttest-mlogloss:1.16166+0.00394275\n",
      "[7]\ttrain-merror:0.403287+0.00276715\ttrain-mlogloss:1.13546+0.00214829\ttest-merror:0.414967+0.0081168\ttest-mlogloss:1.14523+0.00421366\n",
      "[8]\ttrain-merror:0.40313+0.00259836\ttrain-mlogloss:1.11968+0.00237546\ttest-merror:0.415908+0.00835959\ttest-mlogloss:1.13069+0.00451855\n",
      "[9]\ttrain-merror:0.403078+0.00262547\ttrain-mlogloss:1.1061+0.002454\ttest-merror:0.415908+0.00898328\ttest-mlogloss:1.11835+0.00474082\n",
      "[10]\ttrain-merror:0.403314+0.00244584\ttrain-mlogloss:1.09409+0.00256391\ttest-merror:0.414654+0.00937876\ttest-mlogloss:1.10755+0.00502898\n",
      "[11]\ttrain-merror:0.403392+0.0017662\ttrain-mlogloss:1.08325+0.00282975\ttest-merror:0.414339+0.0102724\ttest-mlogloss:1.09783+0.00520404\n",
      "[12]\ttrain-merror:0.403601+0.00237569\ttrain-mlogloss:1.07338+0.00302385\ttest-merror:0.415594+0.00909608\ttest-mlogloss:1.08898+0.00535518\n",
      "[13]\ttrain-merror:0.403131+0.0026235\ttrain-mlogloss:1.06465+0.00302958\ttest-merror:0.416221+0.0102641\ttest-mlogloss:1.08149+0.00567159\n",
      "[14]\ttrain-merror:0.403261+0.003136\ttrain-mlogloss:1.05675+0.00332461\ttest-merror:0.416325+0.0101456\ttest-mlogloss:1.07455+0.00567584\n",
      "[15]\ttrain-merror:0.403104+0.00266077\ttrain-mlogloss:1.04947+0.00330095\ttest-merror:0.415907+0.00973653\ttest-mlogloss:1.06846+0.00618766\n",
      "[16]\ttrain-merror:0.402791+0.00239671\ttrain-mlogloss:1.04291+0.00341945\ttest-merror:0.414862+0.0084324\ttest-mlogloss:1.06318+0.00641295\n",
      "[17]\ttrain-merror:0.402948+0.00297175\ttrain-mlogloss:1.03701+0.0036356\ttest-merror:0.41528+0.00814242\ttest-mlogloss:1.05822+0.00659499\n",
      "[18]\ttrain-merror:0.402503+0.00271123\ttrain-mlogloss:1.03142+0.00349227\ttest-merror:0.415907+0.00828936\ttest-mlogloss:1.05368+0.00695865\n",
      "[19]\ttrain-merror:0.401511+0.00289457\ttrain-mlogloss:1.02603+0.0035146\ttest-merror:0.415594+0.00759899\ttest-mlogloss:1.04942+0.00716521\n",
      "[20]\ttrain-merror:0.401171+0.00272871\ttrain-mlogloss:1.02124+0.0035519\ttest-merror:0.416012+0.00844192\ttest-mlogloss:1.0457+0.00761116\n",
      "[21]\ttrain-merror:0.401118+0.00316294\ttrain-mlogloss:1.01685+0.00342075\ttest-merror:0.41549+0.00846494\ttest-mlogloss:1.04263+0.00799396\n",
      "[22]\ttrain-merror:0.400648+0.00327274\ttrain-mlogloss:1.01275+0.00341538\ttest-merror:0.415595+0.00791973\ttest-mlogloss:1.03972+0.00814844\n",
      "[23]\ttrain-merror:0.399968+0.0031725\ttrain-mlogloss:1.00897+0.00344094\ttest-merror:0.41549+0.00645125\ttest-mlogloss:1.0372+0.00832935\n",
      "[24]\ttrain-merror:0.398976+0.00304205\ttrain-mlogloss:1.00519+0.00341117\ttest-merror:0.415698+0.00692019\ttest-mlogloss:1.03453+0.00838414\n",
      "[25]\ttrain-merror:0.397826+0.00266559\ttrain-mlogloss:1.00174+0.003491\ttest-merror:0.415281+0.00791292\ttest-mlogloss:1.03242+0.0081919\n",
      "[26]\ttrain-merror:0.397225+0.00313956\ttrain-mlogloss:0.99847+0.00342159\ttest-merror:0.415594+0.00850936\ttest-mlogloss:1.03032+0.0084569\n",
      "[27]\ttrain-merror:0.396624+0.00270647\ttrain-mlogloss:0.995368+0.00341344\ttest-merror:0.413921+0.00916833\ttest-mlogloss:1.0285+0.0084937\n",
      "[28]\ttrain-merror:0.396075+0.00285519\ttrain-mlogloss:0.99262+0.00343258\ttest-merror:0.414653+0.00834059\ttest-mlogloss:1.02678+0.00863269\n",
      "[29]\ttrain-merror:0.395082+0.00278962\ttrain-mlogloss:0.989887+0.00339491\ttest-merror:0.414444+0.00846086\ttest-mlogloss:1.02527+0.00871671\n",
      "[30]\ttrain-merror:0.394168+0.00224645\ttrain-mlogloss:0.987297+0.00343122\ttest-merror:0.413398+0.00858678\ttest-mlogloss:1.02372+0.00850662\n",
      "[31]\ttrain-merror:0.393383+0.00240007\ttrain-mlogloss:0.984887+0.00340477\ttest-merror:0.412771+0.00861651\ttest-mlogloss:1.02249+0.00854193\n",
      "[32]\ttrain-merror:0.39239+0.00234559\ttrain-mlogloss:0.982595+0.00347944\ttest-merror:0.412249+0.00814343\ttest-mlogloss:1.02128+0.00846708\n",
      "[33]\ttrain-merror:0.391397+0.00232589\ttrain-mlogloss:0.980286+0.00359032\ttest-merror:0.412249+0.00739262\ttest-mlogloss:1.02025+0.00849556\n",
      "[34]\ttrain-merror:0.391058+0.00201699\ttrain-mlogloss:0.97805+0.0034024\ttest-merror:0.41089+0.00840459\ttest-mlogloss:1.019+0.00876556\n",
      "[35]\ttrain-merror:0.390195+0.00191197\ttrain-mlogloss:0.975997+0.00336486\ttest-merror:0.410785+0.00759673\ttest-mlogloss:1.0181+0.00880595\n",
      "[36]\ttrain-merror:0.388967+0.00186417\ttrain-mlogloss:0.973673+0.00340428\ttest-merror:0.410577+0.00696258\ttest-mlogloss:1.01694+0.00886549\n",
      "[37]\ttrain-merror:0.388288+0.00194319\ttrain-mlogloss:0.971763+0.00328512\ttest-merror:0.409322+0.008194\ttest-mlogloss:1.01597+0.00898274\n",
      "[38]\ttrain-merror:0.387478+0.00170528\ttrain-mlogloss:0.969757+0.00336894\ttest-merror:0.409845+0.00748619\ttest-mlogloss:1.01502+0.00899945\n",
      "[39]\ttrain-merror:0.387112+0.00229571\ttrain-mlogloss:0.967837+0.00341288\ttest-merror:0.408904+0.00838934\ttest-mlogloss:1.01419+0.00903813\n",
      "[40]\ttrain-merror:0.387033+0.00212946\ttrain-mlogloss:0.965944+0.0033548\ttest-merror:0.409218+0.0079475\ttest-mlogloss:1.01347+0.0091745\n",
      "[41]\ttrain-merror:0.386354+0.00175393\ttrain-mlogloss:0.964139+0.00340171\ttest-merror:0.409009+0.0080003\ttest-mlogloss:1.01274+0.00922364\n",
      "[42]\ttrain-merror:0.385675+0.00201917\ttrain-mlogloss:0.962441+0.00337472\ttest-merror:0.408904+0.00739419\ttest-mlogloss:1.01207+0.00923294\n",
      "[43]\ttrain-merror:0.38476+0.0017227\ttrain-mlogloss:0.960648+0.00338998\ttest-merror:0.408695+0.00749628\ttest-mlogloss:1.01133+0.00932991\n",
      "[44]\ttrain-merror:0.383715+0.001868\ttrain-mlogloss:0.959034+0.00340115\ttest-merror:0.408173+0.0070939\ttest-mlogloss:1.01066+0.00939806\n",
      "[45]\ttrain-merror:0.382879+0.0017481\ttrain-mlogloss:0.957488+0.00339416\ttest-merror:0.408695+0.00708296\ttest-mlogloss:1.01011+0.00937302\n",
      "[46]\ttrain-merror:0.382225+0.00208813\ttrain-mlogloss:0.955987+0.00352048\ttest-merror:0.409009+0.00788683\ttest-mlogloss:1.00969+0.00954565\n",
      "[47]\ttrain-merror:0.381337+0.0022409\ttrain-mlogloss:0.954321+0.00350403\ttest-merror:0.408695+0.00786511\ttest-mlogloss:1.00894+0.00951949\n",
      "[48]\ttrain-merror:0.380422+0.00228685\ttrain-mlogloss:0.952923+0.00339523\ttest-merror:0.408696+0.00732765\ttest-mlogloss:1.0084+0.00959097\n",
      "[49]\ttrain-merror:0.380265+0.00214241\ttrain-mlogloss:0.951374+0.00349103\ttest-merror:0.408696+0.00725416\ttest-mlogloss:1.00786+0.00962657\n",
      "[50]\ttrain-merror:0.379298+0.00222855\ttrain-mlogloss:0.94978+0.0034501\ttest-merror:0.408591+0.0074759\ttest-mlogloss:1.0072+0.00966732\n",
      "[51]\ttrain-merror:0.378541+0.00165438\ttrain-mlogloss:0.948289+0.00347412\ttest-merror:0.408382+0.00727793\ttest-mlogloss:1.00664+0.00974963\n",
      "[52]\ttrain-merror:0.378149+0.00210885\ttrain-mlogloss:0.946876+0.0035492\ttest-merror:0.408278+0.007786\ttest-mlogloss:1.00624+0.00960892\n",
      "[53]\ttrain-merror:0.377234+0.00201401\ttrain-mlogloss:0.945551+0.00349727\ttest-merror:0.407964+0.00737277\ttest-mlogloss:1.00587+0.00976721\n",
      "[54]\ttrain-merror:0.376032+0.00207276\ttrain-mlogloss:0.944005+0.00350347\ttest-merror:0.407128+0.00746082\ttest-mlogloss:1.00543+0.00989717\n",
      "[55]\ttrain-merror:0.375457+0.00232451\ttrain-mlogloss:0.942701+0.00341384\ttest-merror:0.407337+0.00740561\ttest-mlogloss:1.00506+0.0100788\n",
      "[56]\ttrain-merror:0.375144+0.00247485\ttrain-mlogloss:0.941368+0.00346661\ttest-merror:0.407232+0.00740284\ttest-mlogloss:1.00467+0.00999523\n",
      "[57]\ttrain-merror:0.37449+0.00267626\ttrain-mlogloss:0.94011+0.003551\ttest-merror:0.406919+0.00732561\ttest-mlogloss:1.00418+0.00993499\n",
      "[58]\ttrain-merror:0.373471+0.00253795\ttrain-mlogloss:0.938833+0.00351805\ttest-merror:0.406814+0.00727817\ttest-mlogloss:1.00388+0.0100844\n",
      "[59]\ttrain-merror:0.372792+0.00212656\ttrain-mlogloss:0.937467+0.00356763\ttest-merror:0.406501+0.0071184\ttest-mlogloss:1.00348+0.0100149\n",
      "[60]\ttrain-merror:0.372191+0.00215363\ttrain-mlogloss:0.936246+0.00359225\ttest-merror:0.406187+0.00700019\ttest-mlogloss:1.00307+0.010024\n"
     ]
    },
    {
     "name": "stdout",
     "output_type": "stream",
     "text": [
      "[61]\ttrain-merror:0.371459+0.00189316\ttrain-mlogloss:0.934946+0.00358573\ttest-merror:0.406292+0.00770848\ttest-mlogloss:1.00268+0.00998201\n",
      "[62]\ttrain-merror:0.370466+0.00155545\ttrain-mlogloss:0.933706+0.00360642\ttest-merror:0.406501+0.00716577\ttest-mlogloss:1.00232+0.0100576\n",
      "[63]\ttrain-merror:0.369917+0.00170002\ttrain-mlogloss:0.93244+0.0036089\ttest-merror:0.406083+0.00680886\ttest-mlogloss:1.00195+0.0101173\n",
      "[64]\ttrain-merror:0.368663+0.00173482\ttrain-mlogloss:0.931204+0.00369422\ttest-merror:0.406397+0.00794732\ttest-mlogloss:1.00172+0.0101267\n",
      "[65]\ttrain-merror:0.36814+0.00194167\ttrain-mlogloss:0.93004+0.00368498\ttest-merror:0.404933+0.00730945\ttest-mlogloss:1.00139+0.0100896\n",
      "[66]\ttrain-merror:0.367174+0.00196751\ttrain-mlogloss:0.928779+0.00374434\ttest-merror:0.405351+0.00668354\ttest-mlogloss:1.0012+0.0100236\n",
      "[67]\ttrain-merror:0.366834+0.00151564\ttrain-mlogloss:0.927587+0.00392916\ttest-merror:0.405247+0.00662807\ttest-mlogloss:1.00093+0.0100952\n",
      "[68]\ttrain-merror:0.366285+0.00168246\ttrain-mlogloss:0.926419+0.00394677\ttest-merror:0.405456+0.00693228\ttest-mlogloss:1.00056+0.0101635\n",
      "[69]\ttrain-merror:0.365527+0.00144544\ttrain-mlogloss:0.925133+0.00397526\ttest-merror:0.405038+0.00662077\ttest-mlogloss:1.0002+0.0101871\n",
      "[70]\ttrain-merror:0.365162+0.00158517\ttrain-mlogloss:0.923865+0.00399933\ttest-merror:0.404619+0.00653379\ttest-mlogloss:0.999791+0.0102352\n",
      "[71]\ttrain-merror:0.364456+0.00162192\ttrain-mlogloss:0.922816+0.00401734\ttest-merror:0.40462+0.00681674\ttest-mlogloss:0.999587+0.0100928\n",
      "[72]\ttrain-merror:0.36396+0.00128042\ttrain-mlogloss:0.921654+0.00404624\ttest-merror:0.405142+0.00694851\ttest-mlogloss:0.99937+0.0100789\n",
      "[73]\ttrain-merror:0.363437+0.00171055\ttrain-mlogloss:0.920609+0.00407032\ttest-merror:0.405247+0.00651968\ttest-mlogloss:0.999051+0.0101216\n",
      "[74]\ttrain-merror:0.362601+0.00166325\ttrain-mlogloss:0.919498+0.00412173\ttest-merror:0.405351+0.00620163\ttest-mlogloss:0.998815+0.0101277\n",
      "[75]\ttrain-merror:0.36213+0.0014202\ttrain-mlogloss:0.918318+0.00413777\ttest-merror:0.405665+0.00667126\ttest-mlogloss:0.998471+0.0102953\n",
      "[76]\ttrain-merror:0.361451+0.00144243\ttrain-mlogloss:0.917235+0.00414396\ttest-merror:0.405247+0.00664974\ttest-mlogloss:0.998296+0.0102945\n",
      "[77]\ttrain-merror:0.360589+0.00180873\ttrain-mlogloss:0.916128+0.00412234\ttest-merror:0.405142+0.00683902\ttest-mlogloss:0.997994+0.0104791\n",
      "[78]\ttrain-merror:0.360014+0.00164469\ttrain-mlogloss:0.915131+0.00421354\ttest-merror:0.404933+0.00635664\ttest-mlogloss:0.997911+0.0104678\n",
      "[79]\ttrain-merror:0.359386+0.00205782\ttrain-mlogloss:0.913994+0.00421598\ttest-merror:0.405038+0.00606566\ttest-mlogloss:0.997654+0.0105214\n",
      "[80]\ttrain-merror:0.359308+0.00214896\ttrain-mlogloss:0.912962+0.00428125\ttest-merror:0.405456+0.00544691\ttest-mlogloss:0.997521+0.0105218\n",
      "[81]\ttrain-merror:0.358655+0.00239105\ttrain-mlogloss:0.911816+0.00439688\ttest-merror:0.40556+0.00453328\ttest-mlogloss:0.997178+0.0106608\n",
      "[82]\ttrain-merror:0.357662+0.00229822\ttrain-mlogloss:0.910761+0.00443858\ttest-merror:0.404933+0.00525274\ttest-mlogloss:0.996975+0.0107854\n",
      "[83]\ttrain-merror:0.357165+0.00228437\ttrain-mlogloss:0.909696+0.00454354\ttest-merror:0.405247+0.00496682\ttest-mlogloss:0.996786+0.0108196\n",
      "[84]\ttrain-merror:0.356982+0.00198379\ttrain-mlogloss:0.90873+0.00451204\ttest-merror:0.405456+0.00486659\ttest-mlogloss:0.996605+0.0109438\n",
      "[85]\ttrain-merror:0.3568+0.00189791\ttrain-mlogloss:0.90771+0.00452549\ttest-merror:0.405665+0.0046891\ttest-mlogloss:0.996416+0.0109416\n",
      "[86]\ttrain-merror:0.356016+0.00200665\ttrain-mlogloss:0.906602+0.00445209\ttest-merror:0.405665+0.00540134\ttest-mlogloss:0.996058+0.0108671\n",
      "[87]\ttrain-merror:0.355022+0.00226813\ttrain-mlogloss:0.905667+0.00449563\ttest-merror:0.405142+0.00530947\ttest-mlogloss:0.995912+0.0109482\n",
      "[88]\ttrain-merror:0.354186+0.00220086\ttrain-mlogloss:0.904733+0.00443571\ttest-merror:0.405247+0.00510122\ttest-mlogloss:0.995828+0.0109444\n",
      "[89]\ttrain-merror:0.354082+0.00218993\ttrain-mlogloss:0.903788+0.00436698\ttest-merror:0.405247+0.00492703\ttest-mlogloss:0.995646+0.0109604\n",
      "[90]\ttrain-merror:0.353664+0.00228334\ttrain-mlogloss:0.902753+0.00444574\ttest-merror:0.405665+0.00507609\ttest-mlogloss:0.995439+0.0109217\n",
      "[91]\ttrain-merror:0.353246+0.0021606\ttrain-mlogloss:0.901787+0.00443108\ttest-merror:0.404828+0.00605894\ttest-mlogloss:0.995315+0.0109134\n",
      "[92]\ttrain-merror:0.352383+0.00250125\ttrain-mlogloss:0.900781+0.00440441\ttest-merror:0.404201+0.00539968\ttest-mlogloss:0.995113+0.0110236\n",
      "[93]\ttrain-merror:0.352044+0.00208448\ttrain-mlogloss:0.899825+0.00441073\ttest-merror:0.404097+0.00596141\ttest-mlogloss:0.99502+0.0109847\n",
      "[94]\ttrain-merror:0.351416+0.00231905\ttrain-mlogloss:0.898819+0.00447223\ttest-merror:0.404201+0.00555696\ttest-mlogloss:0.994649+0.0109697\n",
      "[95]\ttrain-merror:0.350972+0.0020717\ttrain-mlogloss:0.897817+0.00452548\ttest-merror:0.404724+0.00508869\ttest-mlogloss:0.9946+0.0109427\n",
      "[96]\ttrain-merror:0.350136+0.00233345\ttrain-mlogloss:0.896851+0.00456006\ttest-merror:0.404829+0.00521149\ttest-mlogloss:0.994516+0.0108542\n",
      "[97]\ttrain-merror:0.349979+0.00240339\ttrain-mlogloss:0.895944+0.00471535\ttest-merror:0.404515+0.00581552\ttest-mlogloss:0.994407+0.010814\n",
      "[98]\ttrain-merror:0.349195+0.00240807\ttrain-mlogloss:0.895073+0.00469201\ttest-merror:0.404097+0.00613135\ttest-mlogloss:0.994149+0.0108648\n",
      "[99]\ttrain-merror:0.348463+0.00228043\ttrain-mlogloss:0.894267+0.0047673\ttest-merror:0.403365+0.00609301\ttest-mlogloss:0.994075+0.0107549\n"
     ]
    },
    {
     "name": "stderr",
     "output_type": "stream",
     "text": [
      "C:\\Users\\giano\\Anaconda3\\envs\\voda\\lib\\site-packages\\sklearn\\preprocessing\\label.py:151: DeprecationWarning: The truth value of an empty array is ambiguous. Returning False, but in future this will result in an error. Use `array.size > 0` to check that an array is not empty.\n",
      "  if diff:\n"
     ]
    },
    {
     "name": "stdout",
     "output_type": "stream",
     "text": [
      "\n",
      "Model Report\n",
      "Accuracy : 0.6444\n",
      "f1_micro : 0.6444\n",
      "f1_macro : 0.4228\n",
      "f1_weighted : 0.5837\n"
     ]
    },
    {
     "data": {
      "image/png": "[encoded data removed]",
      "text/plain": [
       "<Figure size 432x288 with 1 Axes>"
      ]
     },
     "metadata": {},
     "output_type": "display_data"
    },
    {
     "name": "stdout",
     "output_type": "stream",
     "text": [
      "Feature_Importances: \n",
      "Index(['DeviceFlag4G', 'MonthlySMSTrafficCount', 'CustomerExpatriate',\n",
      "       'DeviceFlagSmartphone', 'DataArpu', 'Instant-Messaging-Applications',\n",
      "       'MonthlyVoiceTrafficCount', 'Network-Operation', 'Games', 'IsModified',\n",
      "       'CustomerAge', 'Web-Applications', 'Region', 'P2P-Applications',\n",
      "       'File-Transfer', 'MonthlyDataTraffic', 'ParkingConnectionsCount',\n",
      "       'Security', 'VoIP', 'Terminals', 'Unclassified', 'Music-Streaming',\n",
      "       'Mail', 'StationConnectionsCount', 'AirportConnectionsDuration',\n",
      "       'AirportConnectionsCount', 'Streaming-Applications',\n",
      "       'ParkingConnectionsDuration'],\n",
      "      dtype='object')\n",
      "Model: {'base_score': 0.5, 'booster': 'gbtree', 'colsample_bylevel': 1, 'colsample_bytree': 1, 'gamma': 0, 'learning_rate': 0.1, 'max_delta_step': 0, 'max_depth': 3, 'min_child_weight': 1, 'missing': None, 'n_estimators': 100, 'nthread': 1, 'objective': 'multi:softprob', 'reg_alpha': 0, 'reg_lambda': 1, 'scale_pos_weight': 1, 'seed': 0, 'silent': 1, 'subsample': 1, 'num_class': 4}\n",
      "n_estimator: 100\n"
     ]
    },
    {
     "data": {
      "text/plain": [
       "100"
      ]
     },
     "execution_count": 8,
     "metadata": {},
     "output_type": "execute_result"
    }
   ],
   "source": [
    "predictors = [x for x in train.columns if x not in [target, IDcol]]\n",
    "xgb0 = XGBClassifier(\n",
    "        objective='multi:softmax',\n",
    "        num_class=4)\n",
    "# print(train[predictors].values)\n",
    "modelfit(xgb0, train, predictors, 28)"
   ]
  },
  {
   "cell_type": "code",
   "execution_count": 9,
   "metadata": {},
   "outputs": [
    {
     "data": {
      "text/plain": [
       "XGBClassifier(base_score=0.5, booster='gbtree', colsample_bylevel=1,\n",
       "       colsample_bytree=1, gamma=0, learning_rate=0.1, max_delta_step=0,\n",
       "       max_depth=3, min_child_weight=1, missing=None, n_estimators=100,\n",
       "       n_jobs=1, nthread=None, num_class=4, objective='multi:softprob',\n",
       "       random_state=0, reg_alpha=0, reg_lambda=1, scale_pos_weight=1,\n",
       "       seed=None, silent=True, subsample=1)"
      ]
     },
     "execution_count": 9,
     "metadata": {},
     "output_type": "execute_result"
    }
   ],
   "source": [
    "xgb0"
   ]
  },
  {
   "cell_type": "code",
   "execution_count": 10,
   "metadata": {},
   "outputs": [],
   "source": [
    "learning_rate = 0.1\n",
    "n_estimators = 1000\n",
    "max_depth = 5\n",
    "min_child_weight = 1\n",
    "gamma = 0\n",
    "subsample = 0.8\n",
    "colsample_bytree = 0.8\n",
    "reg_alpha = 0.005\n",
    "cv = 5"
   ]
  },
  {
   "cell_type": "code",
   "execution_count": null,
   "metadata": {
    "scrolled": true
   },
   "outputs": [
    {
     "name": "stdout",
     "output_type": "stream",
     "text": [
      "[0]\ttrain-merror:0.389646+0.00447678\ttrain-mlogloss:1.32974+0.00102939\ttest-merror:0.421135+0.00649325\ttest-mlogloss:1.33431+0.00122373\n",
      "[1]\ttrain-merror:0.377208+0.00308654\ttrain-mlogloss:1.28014+0.00105101\ttest-merror:0.414968+0.00546756\ttest-mlogloss:1.2898+0.00219806\n",
      "[2]\ttrain-merror:0.372896+0.00214443\ttrain-mlogloss:1.23831+0.00114294\ttest-merror:0.410056+0.00794913\ttest-mlogloss:1.2528+0.00301248\n",
      "[3]\ttrain-merror:0.371694+0.00354464\ttrain-mlogloss:1.20194+0.00159335\ttest-merror:0.408592+0.00722293\ttest-mlogloss:1.2217+0.00388726\n",
      "[4]\ttrain-merror:0.369891+0.00325515\ttrain-mlogloss:1.16929+0.00169883\ttest-merror:0.409219+0.00783391\ttest-mlogloss:1.19381+0.00426843\n",
      "[5]\ttrain-merror:0.366782+0.00306893\ttrain-mlogloss:1.14107+0.00216665\ttest-merror:0.408697+0.00860657\ttest-mlogloss:1.17021+0.00468846\n",
      "[6]\ttrain-merror:0.364613+0.00327366\ttrain-mlogloss:1.11589+0.00241007\ttest-merror:0.407233+0.00747179\ttest-mlogloss:1.14957+0.00491245\n",
      "[7]\ttrain-merror:0.362731+0.00419562\ttrain-mlogloss:1.09367+0.00195455\ttest-merror:0.408174+0.00833293\ttest-mlogloss:1.13132+0.00544589\n",
      "[8]\ttrain-merror:0.361399+0.00432714\ttrain-mlogloss:1.07384+0.00200758\ttest-merror:0.406606+0.00937011\ttest-mlogloss:1.11557+0.00592797\n",
      "[9]\ttrain-merror:0.360144+0.00333982\ttrain-mlogloss:1.05539+0.00239529\ttest-merror:0.407024+0.00970552\ttest-mlogloss:1.10142+0.00609234\n",
      "[10]\ttrain-merror:0.357636+0.00343913\ttrain-mlogloss:1.03871+0.00273026\ttest-merror:0.408069+0.00910683\ttest-mlogloss:1.08886+0.00651757\n",
      "[11]\ttrain-merror:0.356904+0.00363636\ttrain-mlogloss:1.02387+0.00291789\ttest-merror:0.407547+0.00952086\ttest-mlogloss:1.07832+0.00673301\n",
      "[12]\ttrain-merror:0.35612+0.00396365\ttrain-mlogloss:1.00998+0.00330014\ttest-merror:0.40786+0.0099283\ttest-mlogloss:1.06875+0.00694033\n",
      "[13]\ttrain-merror:0.355467+0.00406454\ttrain-mlogloss:0.997806+0.00342697\ttest-merror:0.406501+0.00917147\ttest-mlogloss:1.06061+0.00706432\n",
      "[14]\ttrain-merror:0.353454+0.0035376\ttrain-mlogloss:0.986336+0.00386267\ttest-merror:0.405978+0.00866677\ttest-mlogloss:1.05326+0.00731218\n",
      "[15]\ttrain-merror:0.350894+0.00380412\ttrain-mlogloss:0.975568+0.00398464\ttest-merror:0.405874+0.00975995\ttest-mlogloss:1.04676+0.00736566\n",
      "[16]\ttrain-merror:0.349378+0.00408357\ttrain-mlogloss:0.965689+0.00396825\ttest-merror:0.405142+0.00754146\ttest-mlogloss:1.04074+0.00759276\n",
      "[17]\ttrain-merror:0.347418+0.00406371\ttrain-mlogloss:0.95672+0.00411519\ttest-merror:0.405455+0.00851159\ttest-mlogloss:1.03572+0.0074003\n",
      "[18]\ttrain-merror:0.345563+0.00365823\ttrain-mlogloss:0.948148+0.00447546\ttest-merror:0.405769+0.0083459\ttest-mlogloss:1.03091+0.00748494\n",
      "[19]\ttrain-merror:0.343054+0.00358333\ttrain-mlogloss:0.940042+0.00472727\ttest-merror:0.405874+0.00824006\ttest-mlogloss:1.0266+0.00775467\n",
      "[20]\ttrain-merror:0.342348+0.00273594\ttrain-mlogloss:0.932607+0.00479006\ttest-merror:0.404829+0.00775285\ttest-mlogloss:1.02272+0.00818215\n",
      "[21]\ttrain-merror:0.340075+0.00288072\ttrain-mlogloss:0.925322+0.00486754\ttest-merror:0.402738+0.00832669\ttest-mlogloss:1.019+0.00819871\n",
      "[22]\ttrain-merror:0.337749+0.0027653\ttrain-mlogloss:0.918556+0.00463792\ttest-merror:0.402947+0.00796815\ttest-mlogloss:1.01587+0.00858234\n",
      "[23]\ttrain-merror:0.33673+0.00312966\ttrain-mlogloss:0.912523+0.00472077\ttest-merror:0.403575+0.00716151\ttest-mlogloss:1.01326+0.00871322\n",
      "[24]\ttrain-merror:0.334431+0.00278775\ttrain-mlogloss:0.906793+0.00474938\ttest-merror:0.402738+0.00829925\ttest-mlogloss:1.01057+0.00859732\n",
      "[25]\ttrain-merror:0.332994+0.00249775\ttrain-mlogloss:0.901082+0.00488509\ttest-merror:0.40232+0.00775005\ttest-mlogloss:1.00844+0.00861095\n",
      "[26]\ttrain-merror:0.330642+0.00249833\ttrain-mlogloss:0.895803+0.00506149\ttest-merror:0.402216+0.00799873\ttest-mlogloss:1.00643+0.00893891\n",
      "[27]\ttrain-merror:0.328734+0.00223485\ttrain-mlogloss:0.890414+0.00503133\ttest-merror:0.40138+0.00762193\ttest-mlogloss:1.00466+0.00912402\n"
     ]
    }
   ],
   "source": [
    "predictors = [x for x in train.columns if x not in [target, IDcol]]\n",
    "xgb1 = XGBClassifier(\n",
    "        learning_rate=learning_rate,\n",
    "        n_estimators=n_estimators,\n",
    "        max_depth=max_depth,\n",
    "        min_child_weight=min_child_weight,\n",
    "        gamma=gamma,\n",
    "        subsample=subsample,\n",
    "        colsample_bytree=colsample_bytree,\n",
    "        objective='multi:softprob',\n",
    "        num_class=4,\n",
    "        nthread=4,\n",
    "        scale_pos_weight=1,\n",
    "        seed=27)\n",
    "n_estimators = modelfit(xgb1, train, predictors, 28)"
   ]
  },
  {
   "cell_type": "code",
   "execution_count": null,
   "metadata": {},
   "outputs": [],
   "source": []
  },
  {
   "cell_type": "code",
   "execution_count": null,
   "metadata": {},
   "outputs": [],
   "source": [
    "#Grid seach on subsample and max_features\n",
    "#Choose all predictors except target & IDcols\n",
    "param_test1 = {\n",
    "    'max_depth':range(3,10,2),\n",
    "    'min_child_weight':range(1,6,2)\n",
    "}\n",
    "gsearch1 = GridSearchCV(estimator = XGBClassifier( learning_rate =learning_rate, n_estimators=n_estimators, max_depth=max_depth,\n",
    "                                        min_child_weight=min_child_weight, gamma=gamma, subsample=subsample,\n",
    "                                        colsample_bytree=colsample_bytree, objective='multi:softprob', num_class=4, nthread=4, scale_pos_weight=1, seed=27), \n",
    "                       param_grid = param_test1, scoring='f1_micro',n_jobs=4,iid=False, cv=cv,verbose=1,  return_train_score=True)\n",
    "gsearch1.fit(train[predictors],train[target])\n",
    "gsearch1.cv_results_['params'], gsearch1.best_params_, gsearch1.best_score_"
   ]
  },
  {
   "cell_type": "code",
   "execution_count": null,
   "metadata": {},
   "outputs": [],
   "source": [
    "#gsearch1.cv_results_['params'],"
   ]
  },
  {
   "cell_type": "code",
   "execution_count": null,
   "metadata": {},
   "outputs": [],
   "source": []
  },
  {
   "cell_type": "code",
   "execution_count": null,
   "metadata": {},
   "outputs": [],
   "source": [
    "max_depth = gsearch1.best_params_['max_depth']\n",
    "min_child_weight = gsearch1.best_params_['min_child_weight']\n",
    "max_depth,min_child_weight"
   ]
  },
  {
   "cell_type": "code",
   "execution_count": null,
   "metadata": {},
   "outputs": [],
   "source": [
    "#Grid seach on subsample and max_features\n",
    "#Choose all predictors except target & IDcols\n",
    "param_test2 = {\n",
    "    'max_depth':[max_depth-1,max_depth,max_depth+1],\n",
    "    'min_child_weight':[min_child_weight-1,min_child_weight,min_child_weight+1]\n",
    "}\n",
    "gsearch2 = GridSearchCV(estimator = XGBClassifier( learning_rate=learning_rate, n_estimators=n_estimators, max_depth=max_depth,\n",
    "                                        min_child_weight=min_child_weight, gamma=gamma, subsample=subsample, colsample_bytree=colsample_bytree,\n",
    "                                        objective='multi:softprob', num_class=4, nthread=4, scale_pos_weight=1,seed=27), \n",
    "                       param_grid = param_test2, scoring='f1_micro',n_jobs=4,iid=False, cv=cv, verbose=1)\n",
    "gsearch2.fit(train[predictors],train[target])\n",
    "gsearch2.grid_scores_, gsearch2.best_params_, gsearch2.best_score_"
   ]
  },
  {
   "cell_type": "code",
   "execution_count": null,
   "metadata": {},
   "outputs": [],
   "source": [
    "max_depth = gsearch2.best_params_['max_depth']\n",
    "min_child_weight = gsearch2.best_params_['min_child_weight']\n",
    "max_depth,min_child_weight"
   ]
  },
  {
   "cell_type": "code",
   "execution_count": null,
   "metadata": {},
   "outputs": [],
   "source": [
    "#Grid seach on subsample and max_features#Grid se \n",
    "#Choose all predictors except target & IDcols\n",
    "param_test2b = {\n",
    "    'min_child_weight':[min_child_weight,min_child_weight+2,min_child_weight+4,min_child_weight+6]\n",
    "}\n",
    "gsearch2b = GridSearchCV(estimator = XGBClassifier( learning_rate=learning_rate, n_estimators=n_estimators, max_depth=max_depth,\n",
    "                                        min_child_weight=min_child_weight, gamma=gamma, subsample=subsample, colsample_bytree=colsample_bytree,\n",
    "                                        objective='multi:softprob', num_class=4, nthread=4, scale_pos_weight=1,seed=27), \n",
    "                       param_grid = param_test2b, scoring='f1_micro',n_jobs=4,iid=False, cv=cv, verbose=1)\n",
    "gsearch2b.fit(train[predictors],train[target])\n",
    "gsearch2b.grid_scores_, gsearch2b.best_params_, gsearch2b.best_score_"
   ]
  },
  {
   "cell_type": "code",
   "execution_count": null,
   "metadata": {},
   "outputs": [],
   "source": [
    "min_child_weight = gsearch2b.best_params_['min_child_weight']\n",
    "min_child_weight"
   ]
  },
  {
   "cell_type": "code",
   "execution_count": null,
   "metadata": {},
   "outputs": [],
   "source": [
    "#Grid seach on subsample and max_features\n",
    "#Choose all predictors except target & IDcols\n",
    "param_test3 = {\n",
    "    'gamma':[i/10.0 for i in range(0,5)]\n",
    "}\n",
    "gsearch3 = GridSearchCV(estimator = XGBClassifier( learning_rate =learning_rate, n_estimators=n_estimators, max_depth=max_depth,\n",
    "                                        min_child_weight=min_child_weight, gamma=gamma, subsample=subsample, colsample_bytree=colsample_bytree,\n",
    "                                        objective='multi:softprob', num_class=4, nthread=4, scale_pos_weight=1,seed=27), \n",
    "                       param_grid = param_test3, scoring='f1_micro',n_jobs=4,iid=False, cv=cv, verbose=1)\n",
    "gsearch3.fit(train[predictors],train[target])\n",
    "gsearch3.grid_scores_, gsearch3.best_params_, gsearch3.best_score_"
   ]
  },
  {
   "cell_type": "code",
   "execution_count": null,
   "metadata": {},
   "outputs": [],
   "source": [
    "gamma = gsearch3.best_params_['gamma']\n",
    "gamma"
   ]
  },
  {
   "cell_type": "code",
   "execution_count": null,
   "metadata": {
    "scrolled": true
   },
   "outputs": [],
   "source": [
    "predictors = [x for x in train.columns if x not in [target, IDcol]]\n",
    "xgb2 = XGBClassifier(\n",
    "        learning_rate =learning_rate,\n",
    "        n_estimators=1000,\n",
    "        max_depth=max_depth,\n",
    "        min_child_weight=min_child_weight,\n",
    "        gamma=gamma,\n",
    "        subsample=subsample,\n",
    "        colsample_bytree=colsample_bytree,\n",
    "        objective='multi:softprob', \n",
    "        num_class=4,\n",
    "        nthread=4,\n",
    "        scale_pos_weight=1,\n",
    "        seed=27)\n",
    "n_estimators = modelfit(xgb2, train, predictors,28)"
   ]
  },
  {
   "cell_type": "markdown",
   "metadata": {},
   "source": [
    "# Tune subsample and colsample_bytree"
   ]
  },
  {
   "cell_type": "code",
   "execution_count": null,
   "metadata": {},
   "outputs": [],
   "source": [
    "#Grid seach on subsample and max_features\n",
    "#Choose all predictors except target & IDcols\n",
    "param_test4 = {\n",
    "    'subsample':[i/10.0 for i in range(6,10)],\n",
    "    'colsample_bytree':[i/10.0 for i in range(6,10)]\n",
    "}\n",
    "gsearch4 = GridSearchCV(estimator = XGBClassifier( learning_rate =learning_rate, n_estimators=n_estimators, max_depth=max_depth,\n",
    "                                        min_child_weight=min_child_weight, gamma=gamma, subsample=subsample, colsample_bytree=colsample_bytree,\n",
    "                                        objective='multi:softprob', num_class=4, nthread=4, scale_pos_weight=1,seed=27), \n",
    "                       param_grid = param_test4, scoring='f1_micro',n_jobs=4,iid=False, cv=cv, verbose=1)\n",
    "gsearch4.fit(train[predictors],train[target])\n",
    "gsearch4.grid_scores_, gsearch4.best_params_, gsearch4.best_score_"
   ]
  },
  {
   "cell_type": "code",
   "execution_count": null,
   "metadata": {},
   "outputs": [],
   "source": [
    "subsample = gsearch4.best_params_['subsample']\n",
    "colsample_bytree = gsearch4.best_params_['colsample_bytree']\n",
    "subsample,colsample_bytree"
   ]
  },
  {
   "cell_type": "code",
   "execution_count": null,
   "metadata": {},
   "outputs": [],
   "source": [
    "#Grid seach on subsample and max_features\n",
    "#Choose all predictors except target & IDcols\n",
    "param_test5 = {\n",
    "    'subsample':[i/100.0 for i in range(int(subsample*100-5),int(subsample*100+5),5)],\n",
    "    'colsample_bytree':[i/100.0 for i in range(int(colsample_bytree*100-5),int(colsample_bytree*100+5),5)]\n",
    "}\n",
    "gsearch5 = GridSearchCV(estimator = XGBClassifier( learning_rate =learning_rate, n_estimators=n_estimators, max_depth=max_depth,\n",
    "                                        min_child_weight=min_child_weight, gamma=gamma, subsample=subsample, colsample_bytree=colsample_bytree,\n",
    "                                        objective='multi:softprob', num_class=4, nthread=4, scale_pos_weight=1,seed=27), \n",
    "                       param_grid = param_test5, scoring='f1_micro',n_jobs=4,iid=False, cv=cv, verbose=1)\n",
    "gsearch5.fit(train[predictors],train[target])\n",
    "gsearch5.grid_scores_, gsearch5.best_params_, gsearch5.best_score_"
   ]
  },
  {
   "cell_type": "code",
   "execution_count": null,
   "metadata": {},
   "outputs": [],
   "source": [
    "subsample = gsearch5.best_params_['subsample']\n",
    "colsample_bytree = gsearch5.best_params_['colsample_bytree']\n",
    "subsample,colsample_bytree"
   ]
  },
  {
   "cell_type": "markdown",
   "metadata": {},
   "source": [
    "# regularization:"
   ]
  },
  {
   "cell_type": "code",
   "execution_count": null,
   "metadata": {},
   "outputs": [],
   "source": [
    "#Grid seach on subsample and max_features\n",
    "#Choose all predictors except target & IDcols\n",
    "param_test6 = {\n",
    "    'reg_alpha':[1e-5, 1e-2, 0.1, 1, 100]\n",
    "}\n",
    "gsearch6 = GridSearchCV(estimator = XGBClassifier( learning_rate =learning_rate, n_estimators=n_estimators, max_depth=max_depth,\n",
    "                                        min_child_weight=min_child_weight, gamma=gamma, subsample=subsample, colsample_bytree=colsample_bytree,\n",
    "                                        objective='multi:softprob', num_class=4, nthread=4, scale_pos_weight=1,seed=27), \n",
    "                       param_grid = param_test6, scoring='f1_micro',n_jobs=4,iid=False, cv=cv, verbose=1)\n",
    "gsearch6.fit(train[predictors],train[target])\n",
    "gsearch6.grid_scores_, gsearch6.best_params_, gsearch6.best_score_"
   ]
  },
  {
   "cell_type": "code",
   "execution_count": null,
   "metadata": {},
   "outputs": [],
   "source": [
    "reg_alpha = gsearch6.best_params_['reg_alpha']\n",
    "reg_alpha"
   ]
  },
  {
   "cell_type": "code",
   "execution_count": null,
   "metadata": {},
   "outputs": [],
   "source": [
    "#Grid seach on subsample and max_features\n",
    "#Choose all predictors except target & IDcols\n",
    "param_test7 = {\n",
    "    'reg_alpha':[0, 0.01, 0.05, 0.1, 0.5]\n",
    "}\n",
    "gsearch7 = GridSearchCV(estimator = XGBClassifier( learning_rate =learning_rate, n_estimators=n_estimators, max_depth=max_depth,\n",
    "                                        min_child_weight=min_child_weight, gamma=gamma, subsample=subsample, colsample_bytree=colsample_bytree,\n",
    "                                        objective='multi:softprob', num_class=4, nthread=4, scale_pos_weight=1,seed=27), \n",
    "                       param_grid = param_test7, scoring='f1_micro',n_jobs=4,iid=False, cv=cv,verbose=1)\n",
    "gsearch7.fit(train[predictors],train[target])\n",
    "gsearch7.grid_scores_, gsearch7.best_params_, gsearch7.best_score_"
   ]
  },
  {
   "cell_type": "code",
   "execution_count": null,
   "metadata": {},
   "outputs": [],
   "source": [
    "reg_alpha = gsearch7.best_params_['reg_alpha']\n",
    "reg_alpha"
   ]
  },
  {
   "cell_type": "code",
   "execution_count": null,
   "metadata": {
    "scrolled": true
   },
   "outputs": [],
   "source": [
    "xgb3 = XGBClassifier(\n",
    "        learning_rate =learning_rate,\n",
    "        n_estimators=1000,\n",
    "        max_depth=max_depth,\n",
    "        min_child_weight=min_child_weight,\n",
    "        gamma=gamma,\n",
    "        subsample=subsample,\n",
    "        colsample_bytree=colsample_bytree,\n",
    "        reg_alpha=reg_alpha,\n",
    "        objective='multi:softprob', \n",
    "        num_class=4,\n",
    "        nthread=4,\n",
    "        scale_pos_weight=1,\n",
    "        seed=27)\n",
    "n_estimators = modelfit(xgb3, train, predictors, 28)"
   ]
  },
  {
   "cell_type": "code",
   "execution_count": null,
   "metadata": {},
   "outputs": [],
   "source": [
    "xgb4 = XGBClassifier(\n",
    "        learning_rate =0.01,\n",
    "        n_estimators=5000,\n",
    "        max_depth=max_depth,\n",
    "        min_child_weight=min_child_weight,\n",
    "        gamma=gamma,\n",
    "        subsample=subsample,\n",
    "        colsample_bytree=colsample_bytree,\n",
    "        reg_alpha=reg_alpha,\n",
    "        objective='multi:softprob', \n",
    "        num_class=4,\n",
    "        nthread=4,\n",
    "        scale_pos_weight=1,\n",
    "        seed=27)\n",
    "n_estimators = modelfit(xgb4, train, predictors, 28)"
   ]
  },
  {
   "cell_type": "code",
   "execution_count": null,
   "metadata": {},
   "outputs": [],
   "source": [
    "# #Grid seach on subsample and max_features\n",
    "# #Choose all predictors except target & IDcols\n",
    "# param_test8 = {\n",
    "#     #learning_rate = [0.0001, 0.001, 0.01, 0.1, 0.2, 0.3]\n",
    "#     'learning_rate' : [0.0001, 0.001, 0.01, 0.1, 0.2, 0.3],\n",
    "#     'n_estimators' : [50, 100, 150, 200, 300, 5000]\n",
    "# }\n",
    "# gsearch8 = GridSearchCV(estimator = XGBClassifier(  max_depth=max_depth,\n",
    "#                                         min_child_weight=min_child_weight, gamma=gamma, subsample=subsample, colsample_bytree=colsample_bytree,\n",
    "#                                         objective='multi:softprob', num_class=4, nthread=4, scale_pos_weight=1,seed=27), \n",
    "#                        param_grid = param_test8, scoring='f1_micro',n_jobs=4,iid=False, cv=cv,verbose=1)\n",
    "# gsearch8.fit(train[predictors],train[target])\n",
    "# gsearch8.grid_scores_, gsearch8.best_params_, gsearch8.best_score_"
   ]
  },
  {
   "cell_type": "code",
   "execution_count": null,
   "metadata": {},
   "outputs": [],
   "source": []
  },
  {
   "cell_type": "code",
   "execution_count": null,
   "metadata": {},
   "outputs": [],
   "source": []
  },
  {
   "cell_type": "code",
   "execution_count": null,
   "metadata": {},
   "outputs": [],
   "source": []
  },
  {
   "cell_type": "code",
   "execution_count": null,
   "metadata": {},
   "outputs": [],
   "source": [
    "train.columns"
   ]
  },
  {
   "cell_type": "code",
   "execution_count": null,
   "metadata": {},
   "outputs": [],
   "source": [
    "train[predictors].shape,train[target].shape,test[predictors].shape"
   ]
  },
  {
   "cell_type": "code",
   "execution_count": null,
   "metadata": {},
   "outputs": [],
   "source": []
  },
  {
   "cell_type": "code",
   "execution_count": null,
   "metadata": {},
   "outputs": [],
   "source": []
  },
  {
   "cell_type": "code",
   "execution_count": null,
   "metadata": {},
   "outputs": [],
   "source": []
  },
  {
   "cell_type": "code",
   "execution_count": null,
   "metadata": {},
   "outputs": [],
   "source": []
  },
  {
   "cell_type": "code",
   "execution_count": null,
   "metadata": {},
   "outputs": [],
   "source": []
  },
  {
   "cell_type": "code",
   "execution_count": null,
   "metadata": {},
   "outputs": [],
   "source": [
    "pred = ['CustomerExpatriate', 'ZipCode', 'DeviceFlag4G',\n",
    "       'MonthlySMSTrafficCount', 'DataArpu', 'DeviceFlagSmartphone', 'Region',\n",
    "       'Instant-Messaging-Applications', 'MonthlyVoiceTrafficCount', 'Games']\n",
    "train[pred].head()"
   ]
  },
  {
   "cell_type": "code",
   "execution_count": null,
   "metadata": {
    "scrolled": true
   },
   "outputs": [],
   "source": []
  },
  {
   "cell_type": "code",
   "execution_count": null,
   "metadata": {},
   "outputs": [],
   "source": []
  },
  {
   "cell_type": "code",
   "execution_count": null,
   "metadata": {},
   "outputs": [],
   "source": [
    "# X_train, X_test, y_train, y_test = train_test_split(train[predictors], train[target], test_size=0.33, random_state=7)\n",
    "# eval_set = [(X_test, y_test)]\n",
    "predictors = [x for x in train.columns if x not in [target, IDcol]]\n",
    "features = pred\n",
    "xgb3.fit(train[predictors],\n",
    "      train[target],\n",
    "      eval_metric=\"merror\",\n",
    "      verbose=True)\n",
    "\n",
    "y_pred_new_data = xgb3.predict(test[predictors])\n",
    "predictions = [round(value) for value in y_pred_new_data]\n",
    "\n",
    "print(\"F1 score on unseen data: %.3f%%\" % (f1_score(train[target][0:3190], y_pred_new_data[0:3190], average='micro')*100))"
   ]
  },
  {
   "cell_type": "code",
   "execution_count": null,
   "metadata": {},
   "outputs": [],
   "source": [
    "xgb3,xgb"
   ]
  },
  {
   "cell_type": "code",
   "execution_count": null,
   "metadata": {},
   "outputs": [],
   "source": [
    "predictors = [x for x in train.columns if x not in [target, IDcol]]\n",
    "features = ['CustomerExpatriate', 'ZipCode', 'DeviceFlag4G',\n",
    "       'MonthlySMSTrafficCount', 'DataArpu', 'DeviceFlagSmartphone', 'Region',\n",
    "       'Games', 'Instant-Messaging-Applications', 'MonthlyVoiceTrafficCount']\n",
    "xgb = XGBClassifier(\n",
    "                    learning_rate =0.1,\n",
    "                    n_estimators=135,\n",
    "                    max_depth=4,\n",
    "                    min_child_weight=2,\n",
    "                    gamma=0.0,\n",
    "                    subsample=0.8,\n",
    "                    colsample_bytree=0.8,\n",
    "                    colsample_bylevel=1,\n",
    "                    reg_alpha=0.05,\n",
    "                    nthread=4,\n",
    "                    scale_pos_weight=1,\n",
    "                    seed=27,\n",
    "                    objective= 'multi:softprob',\n",
    "                    num_class= 4)\n",
    "\n",
    "xgb.fit(train[features],\n",
    "      train[target],\n",
    "      verbose=True)\n",
    "\n",
    "y_pred_new_data = xgb.predict(test[features])\n",
    "predictions = [round(value) for value in y_pred_new_data]\n",
    "\n",
    "print(\"F1 score on unseen data: %.3f%%\" % (f1_score(train[target][0:3190], y_pred_new_data[0:3190], average='micro')*100))\n",
    "print(\"F1 score on unseen data: %.3f%%\" % (f1_score(train[target][0:3190], y_pred_new_data[0:3190], average='macro')*100))\n",
    "print(\"F1 score on unseen data: %.3f%%\" % (f1_score(train[target][0:3190], y_pred_new_data[0:3190], average='weighted')*100))"
   ]
  },
  {
   "cell_type": "code",
   "execution_count": null,
   "metadata": {},
   "outputs": [],
   "source": [
    "xgb"
   ]
  },
  {
   "cell_type": "code",
   "execution_count": null,
   "metadata": {},
   "outputs": [],
   "source": [
    "pd.DataFrame({'Product': y_pred_new_data}).describe(),pd.DataFrame({'Product': predictions}).describe()"
   ]
  },
  {
   "cell_type": "code",
   "execution_count": null,
   "metadata": {},
   "outputs": [],
   "source": [
    "#{'Non-Customer': 0, 'V-Auto': 1, 'V-Bag': 2, 'V-Pet': 3}\n",
    "\n",
    "y = pd.DataFrame({'Product': y_pred_new_data})\n",
    "submit = test['ID']\n",
    "submit = pd.DataFrame({'ID': submit})\n",
    "\n",
    "pred = y\n",
    "pred = pd.DataFrame({'Product': y_pred_new_data})\n",
    "\n",
    "product = []\n",
    "product = pred.Product\n",
    "product.replace({ \n",
    "    int(0) : 'Non-Customer', \n",
    "    int(1) : 'V-Auto', \n",
    "    int(2) : 'V-Bag', \n",
    "    int(3) : 'V-Pet'},\n",
    "    inplace=True)\n",
    "\n",
    "submit = submit.join(product)\n",
    "submit"
   ]
  },
  {
   "cell_type": "code",
   "execution_count": null,
   "metadata": {},
   "outputs": [],
   "source": [
    "submit.Product.describe()"
   ]
  },
  {
   "cell_type": "code",
   "execution_count": null,
   "metadata": {},
   "outputs": [],
   "source": [
    "submit.to_csv('result_xgb.csv', index = False, encoding='utf-8')"
   ]
  },
  {
   "cell_type": "code",
   "execution_count": null,
   "metadata": {},
   "outputs": [],
   "source": []
  },
  {
   "cell_type": "code",
   "execution_count": null,
   "metadata": {},
   "outputs": [],
   "source": []
  },
  {
   "cell_type": "code",
   "execution_count": null,
   "metadata": {},
   "outputs": [],
   "source": [
    "# predictors = [x for x in train.columns if x not in [target]]\n",
    "# # split data into X and y\n",
    "# X = train[predictors]\n",
    "# Y = train[target]\n",
    "# # split data into train and test sets\n",
    "# X_train, X_test, y_train, y_test = train_test_split(X, Y, test_size=0.33, random_state=7)\n",
    "# # fit model on all training data\n",
    "# model = XGBClassifier(\n",
    "#         objective='multi:softprob', \n",
    "#         num_class=4)\n",
    "# model.fit(X_train, y_train)\n",
    "# # make predictions for test data and evaluate\n",
    "# y_pred = model.predict(X_test)\n",
    "# predictions = [round(value) for value in y_pred]\n",
    "# accuracy = accuracy_score(y_test, predictions)\n",
    "# print(\"Accuracy: %.2f%%\" % (accuracy * 100.0))\n",
    "# # Fit model using each importance as a threshold\n",
    "# thresholds = sort(model.feature_importances_)\n",
    "# for thresh in thresholds:\n",
    "#     # select features using threshold\n",
    "#     selection = SelectFromModel(model, threshold=thresh, prefit=True)\n",
    "#     select_X_train = selection.transform(X_train)\n",
    "#     # train model\n",
    "#     selection_model = XGBClassifier(objective='multi:softprob', \n",
    "#         num_class=4)\n",
    "#     selection_model.fit(select_X_train, y_train)\n",
    "#     # eval model\n",
    "#     select_X_test = selection.transform(X_test)\n",
    "#     y_pred = selection_model.predict(select_X_test)\n",
    "#     predictions = [round(value) for value in y_pred]\n",
    "#     accuracy = accuracy_score(y_test, predictions)\n",
    "#     print(\"Thresh=%.3f, n=%d, Accuracy: %.2f%%\" % (thresh, select_X_train.shape[1], accuracy*100.0))"
   ]
  },
  {
   "cell_type": "code",
   "execution_count": null,
   "metadata": {},
   "outputs": [],
   "source": [
    "# thresholds = model.feature_importances_\n",
    "# thresholds\n",
    "\n",
    "# thresholds.argsort()[-10:][::-1]\n",
    "# train.columns[thresholds.argsort()[-10:][::-1]]"
   ]
  },
  {
   "cell_type": "code",
   "execution_count": null,
   "metadata": {},
   "outputs": [],
   "source": []
  },
  {
   "cell_type": "code",
   "execution_count": null,
   "metadata": {},
   "outputs": [],
   "source": [
    "res_top = pd.read_csv(\"result_xgb062.csv\", delimiter=\",\")"
   ]
  },
  {
   "cell_type": "code",
   "execution_count": null,
   "metadata": {},
   "outputs": [],
   "source": [
    "res_top.Product.describe()"
   ]
  }
 ],
 "metadata": {
  "kernelspec": {
   "display_name": "Python 3",
   "language": "python",
   "name": "python3"
  },
  "language_info": {
   "codemirror_mode": {
    "name": "ipython",
    "version": 3
   },
   "file_extension": ".py",
   "mimetype": "text/x-python",
   "name": "python",
   "nbconvert_exporter": "python",
   "pygments_lexer": "ipython3",
   "version": "3.6.5"
  }
 },
 "nbformat": 4,
 "nbformat_minor": 2
}
