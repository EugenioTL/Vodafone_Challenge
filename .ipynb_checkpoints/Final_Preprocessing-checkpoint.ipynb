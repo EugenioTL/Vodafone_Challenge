{
 "cells": [
  {
   "cell_type": "code",
   "execution_count": 1,
   "metadata": {},
   "outputs": [],
   "source": [
    "import pandas as pd\n",
    "import numpy as np\n",
    "\n",
    "# Random seed for reproducibility\n",
    "seed = 202\n",
    "np.random.seed(seed)\n",
    "\n",
    "# Ignore warnings\n",
    "import warnings\n",
    "warnings.simplefilter('ignore')\n",
    "\n",
    "# Import the train set and test set\n",
    "train_data = pd.read_csv(\"polimi_dataset_challenge_train_v1.csv\", delimiter=\",\")\n",
    "test_data = pd.read_csv(\"polimi_dataset_challenge_test_to_predict_v1.csv\", delimiter=\",\")"
   ]
  },
  {
   "cell_type": "code",
   "execution_count": 20,
   "metadata": {},
   "outputs": [
    {
     "data": {
      "text/plain": [
       "9562    EMILIA-ROMAGNA\n",
       "9563          SARDEGNA\n",
       "9564          CAMPANIA\n",
       "9565          SARDEGNA\n",
       "9566          CAMPANIA\n",
       "Name: Region, dtype: object"
      ]
     },
     "execution_count": 20,
     "metadata": {},
     "output_type": "execute_result"
    }
   ],
   "source": [
    "train_data.Region.tail()"
   ]
  },
  {
   "cell_type": "code",
   "execution_count": 16,
   "metadata": {},
   "outputs": [
    {
     "data": {
      "text/html": [
       "<div>\n",
       "<style scoped>\n",
       "    .dataframe tbody tr th:only-of-type {\n",
       "        vertical-align: middle;\n",
       "    }\n",
       "\n",
       "    .dataframe tbody tr th {\n",
       "        vertical-align: top;\n",
       "    }\n",
       "\n",
       "    .dataframe thead th {\n",
       "        text-align: right;\n",
       "    }\n",
       "</style>\n",
       "<table border=\"1\" class=\"dataframe\">\n",
       "  <thead>\n",
       "    <tr style=\"text-align: right;\">\n",
       "      <th></th>\n",
       "      <th>Raw_CustomerAge</th>\n",
       "    </tr>\n",
       "  </thead>\n",
       "  <tbody>\n",
       "    <tr>\n",
       "      <th>0</th>\n",
       "      <td>(40, 50]</td>\n",
       "    </tr>\n",
       "    <tr>\n",
       "      <th>1</th>\n",
       "      <td>(20, 30]</td>\n",
       "    </tr>\n",
       "    <tr>\n",
       "      <th>2</th>\n",
       "      <td>(30, 40]</td>\n",
       "    </tr>\n",
       "    <tr>\n",
       "      <th>3</th>\n",
       "      <td>(50, 60]</td>\n",
       "    </tr>\n",
       "    <tr>\n",
       "      <th>4</th>\n",
       "      <td>(60, 70]</td>\n",
       "    </tr>\n",
       "  </tbody>\n",
       "</table>\n",
       "</div>"
      ],
      "text/plain": [
       "  Raw_CustomerAge\n",
       "0        (40, 50]\n",
       "1        (20, 30]\n",
       "2        (30, 40]\n",
       "3        (50, 60]\n",
       "4        (60, 70]"
      ]
     },
     "execution_count": 16,
     "metadata": {},
     "output_type": "execute_result"
    }
   ],
   "source": [
    "prova = train_data.CustomerAge.head()\n",
    "prova = np.asarray(prova)\n",
    "prova = pd.DataFrame({'Raw_CustomerAge': prova})\n",
    "prova"
   ]
  },
  {
   "cell_type": "code",
   "execution_count": 17,
   "metadata": {},
   "outputs": [
    {
     "data": {
      "text/html": [
       "<div>\n",
       "<style scoped>\n",
       "    .dataframe tbody tr th:only-of-type {\n",
       "        vertical-align: middle;\n",
       "    }\n",
       "\n",
       "    .dataframe tbody tr th {\n",
       "        vertical-align: top;\n",
       "    }\n",
       "\n",
       "    .dataframe thead th {\n",
       "        text-align: right;\n",
       "    }\n",
       "</style>\n",
       "<table border=\"1\" class=\"dataframe\">\n",
       "  <thead>\n",
       "    <tr style=\"text-align: right;\">\n",
       "      <th></th>\n",
       "      <th>CustomerAge</th>\n",
       "    </tr>\n",
       "  </thead>\n",
       "  <tbody>\n",
       "    <tr>\n",
       "      <th>0</th>\n",
       "      <td>45</td>\n",
       "    </tr>\n",
       "    <tr>\n",
       "      <th>1</th>\n",
       "      <td>25</td>\n",
       "    </tr>\n",
       "    <tr>\n",
       "      <th>2</th>\n",
       "      <td>35</td>\n",
       "    </tr>\n",
       "    <tr>\n",
       "      <th>3</th>\n",
       "      <td>55</td>\n",
       "    </tr>\n",
       "    <tr>\n",
       "      <th>4</th>\n",
       "      <td>65</td>\n",
       "    </tr>\n",
       "  </tbody>\n",
       "</table>\n",
       "</div>"
      ],
      "text/plain": [
       "   CustomerAge\n",
       "0           45\n",
       "1           25\n",
       "2           35\n",
       "3           55\n",
       "4           65"
      ]
     },
     "execution_count": 17,
     "metadata": {},
     "output_type": "execute_result"
    }
   ],
   "source": [
    "prova_int = [45,25,35,55,65]\n",
    "prova_int = np.asarray(prova_int)\n",
    "prova_int = pd.DataFrame({'CustomerAge': prova_int})\n",
    "prova_int"
   ]
  },
  {
   "cell_type": "code",
   "execution_count": 18,
   "metadata": {},
   "outputs": [
    {
     "data": {
      "text/html": [
       "<div>\n",
       "<style scoped>\n",
       "    .dataframe tbody tr th:only-of-type {\n",
       "        vertical-align: middle;\n",
       "    }\n",
       "\n",
       "    .dataframe tbody tr th {\n",
       "        vertical-align: top;\n",
       "    }\n",
       "\n",
       "    .dataframe thead th {\n",
       "        text-align: right;\n",
       "    }\n",
       "</style>\n",
       "<table border=\"1\" class=\"dataframe\">\n",
       "  <thead>\n",
       "    <tr style=\"text-align: right;\">\n",
       "      <th></th>\n",
       "      <th>Raw_CustomerAge</th>\n",
       "      <th>CustomerAge</th>\n",
       "    </tr>\n",
       "  </thead>\n",
       "  <tbody>\n",
       "    <tr>\n",
       "      <th>0</th>\n",
       "      <td>(40, 50]</td>\n",
       "      <td>45</td>\n",
       "    </tr>\n",
       "    <tr>\n",
       "      <th>1</th>\n",
       "      <td>(20, 30]</td>\n",
       "      <td>25</td>\n",
       "    </tr>\n",
       "    <tr>\n",
       "      <th>2</th>\n",
       "      <td>(30, 40]</td>\n",
       "      <td>35</td>\n",
       "    </tr>\n",
       "    <tr>\n",
       "      <th>3</th>\n",
       "      <td>(50, 60]</td>\n",
       "      <td>55</td>\n",
       "    </tr>\n",
       "    <tr>\n",
       "      <th>4</th>\n",
       "      <td>(60, 70]</td>\n",
       "      <td>65</td>\n",
       "    </tr>\n",
       "  </tbody>\n",
       "</table>\n",
       "</div>"
      ],
      "text/plain": [
       "  Raw_CustomerAge  CustomerAge\n",
       "0        (40, 50]           45\n",
       "1        (20, 30]           25\n",
       "2        (30, 40]           35\n",
       "3        (50, 60]           55\n",
       "4        (60, 70]           65"
      ]
     },
     "execution_count": 18,
     "metadata": {},
     "output_type": "execute_result"
    }
   ],
   "source": [
    "prova = prova.join(prova_int)\n",
    "prova"
   ]
  },
  {
   "cell_type": "code",
   "execution_count": 2,
   "metadata": {},
   "outputs": [],
   "source": [
    "def merge_duration_count(dataset):\n",
    "    duration = dataset['AirportConnectionsDuration']+dataset['StationConnectionsDuration']+dataset['ParkingConnectionsDuration']\n",
    "    duration = np.asarray(duration/3)\n",
    "    duration = pd.DataFrame({'ConnectionsDuration': duration})\n",
    "    count = dataset['AirportConnectionsCount']+dataset['StationConnectionsCount']+dataset['ParkingConnectionsCount']\n",
    "    count = np.asarray(count/3)\n",
    "    count = pd.DataFrame({'ConnectionsCount': count})\n",
    "    \n",
    "    dataset = dataset.join(duration)\n",
    "    dataset = dataset.join(count)\n",
    "    return dataset"
   ]
  },
  {
   "cell_type": "code",
   "execution_count": 3,
   "metadata": {},
   "outputs": [],
   "source": [
    "def normalize_costumer_age(dataset):\n",
    "    #Take all unique Cosumer_Age, assigns to each age alphabetically ordered a mean age\n",
    "    customer_age_sort = sorted(dataset['CustomerAge'].dropna().unique())\n",
    "\n",
    "    mapping = {}\n",
    "    for idx, val in enumerate(customer_age_sort):\n",
    "        mapping[val] = int(15+idx*10)\n",
    "        \n",
    "    ages = dataset['CustomerAge']\n",
    "    ages.replace(mapping, inplace=True)\n",
    "\n",
    "    #print(mapping, regions)\n",
    "    ages = np.asarray(ages)\n",
    "    ages = pd.DataFrame({'CustomerAge': ages})\n",
    "    \n",
    "     # Remove the previous CustomerAge and then insert the new CustomerAge\n",
    "    dataset = dataset.drop('CustomerAge', axis=1)\n",
    "    dataset = dataset.join(ages)\n",
    "    return dataset"
   ]
  },
  {
   "cell_type": "code",
   "execution_count": 4,
   "metadata": {},
   "outputs": [],
   "source": [
    "def normalize_region(dataset):\n",
    "    #Take all unique Regions, assigns to each region alphabetically ordered a monotonic growing number\n",
    "    regions_sort = sorted(dataset['Region'].dropna().unique())\n",
    "    #regions_len = len(regions_sort) #20 Regions\n",
    "\n",
    "    mapping = {}\n",
    "    for idx, val in enumerate(regions_sort):\n",
    "        mapping[val] = int(idx)\n",
    "\n",
    "    regions = dataset['Region']\n",
    "    regions.replace(mapping, inplace=True)\n",
    "\n",
    "    #print(mapping, regions)\n",
    "    regions = np.asarray(regions)\n",
    "    regions = pd.DataFrame({'Region': regions})\n",
    "    \n",
    "    # Remove the previous Region columns and then insert the new Region\n",
    "    dataset = dataset.drop('Region', axis=1)\n",
    "    dataset = dataset.join(regions)\n",
    "    return dataset"
   ]
  },
  {
   "cell_type": "code",
   "execution_count": 5,
   "metadata": {},
   "outputs": [],
   "source": [
    "def create_regions_cluster(data):\n",
    "    \n",
    "    region_ohe = data['Region']\n",
    "\n",
    "    north_regions = [4,5,7,8,11,17,18,19]\n",
    "    middle_regions = [0,6,9,10,15,16]\n",
    "    south_regions = [1,2,3,12,13,14]\n",
    "    \n",
    "    regions_cluster = []\n",
    "\n",
    "    for i in region_ohe.values:\n",
    "        if i in north_regions:\n",
    "            regions_cluster.append(0)\n",
    "        elif i in middle_regions:\n",
    "            regions_cluster.append(1)   \n",
    "        elif i in south_regions:\n",
    "            regions_cluster.append(2)\n",
    "        else:\n",
    "            regions_cluster.append(np.nan)\n",
    "    \n",
    "    regions_cluster = np.asarray(regions_cluster)\n",
    "    regions_cluster = pd.DataFrame({'Regions_Cluster' : regions_cluster})\n",
    "\n",
    "    data = data.join(regions_cluster)\n",
    "    return data"
   ]
  },
  {
   "cell_type": "code",
   "execution_count": 6,
   "metadata": {},
   "outputs": [],
   "source": [
    "def normalize_province(dataset):\n",
    "    #Take all unique Provinces, assigns to each province alphabetically ordered a monotonic growing number\n",
    "    provinces_sort = sorted(dataset['Province'].dropna().unique())\n",
    "    #provinces_len = len(provinces_sort) #110 Provinces\n",
    "\n",
    "    mapping = {}\n",
    "    for idx, val in enumerate(provinces_sort):\n",
    "        mapping[val] = idx\n",
    "\n",
    "    provinces = dataset['Province']\n",
    "    provinces.replace(mapping, inplace=True)\n",
    "\n",
    "    provinces = np.asarray(provinces)\n",
    "    provinces = pd.DataFrame({'Province': provinces})\n",
    "    \n",
    "    # Remove the previous Province columns and then insert the new Province\n",
    "    dataset = dataset.drop('Province', axis=1)\n",
    "    dataset = dataset.join(provinces)\n",
    "    return dataset"
   ]
  },
  {
   "cell_type": "code",
   "execution_count": 7,
   "metadata": {},
   "outputs": [],
   "source": [
    "def normalize_product(dataset):\n",
    "    if('Product' in dataset.columns):\n",
    "        #Take all unique Products, assigns to each product alphabetically ordered a monotonic growing number\n",
    "        products_sort = sorted(dataset['Product'].dropna().unique())\n",
    "\n",
    "        mapping = {}\n",
    "        for idx, val in enumerate(products_sort):\n",
    "            mapping[val] = int(idx)\n",
    "\n",
    "        products = dataset['Product']\n",
    "        products.replace(mapping, inplace=True)\n",
    "\n",
    "        #print(mapping, products)\n",
    "        products = np.asarray(products)\n",
    "        products = pd.DataFrame({'Product': products})\n",
    "\n",
    "        # Remove the previous Product columns and then insert the newProduct\n",
    "        dataset = dataset.drop('Product', axis=1)\n",
    "        dataset = dataset.join(products)\n",
    "    return dataset"
   ]
  },
  {
   "cell_type": "code",
   "execution_count": 8,
   "metadata": {},
   "outputs": [],
   "source": [
    "def drop_useless_columns(dataset):\n",
    "    if('DataAllowanceOneShot' in dataset.columns and 'EstimatedDevicePrice' in dataset.columns and 'ZipCode' in dataset.columns):\n",
    "        dataset = dataset.drop('DataAllowanceOneShot', axis=1)\n",
    "        dataset = dataset.drop('EstimatedDevicePrice', axis=1)\n",
    "    return dataset"
   ]
  },
  {
   "cell_type": "code",
   "execution_count": 9,
   "metadata": {},
   "outputs": [],
   "source": [
    "def add_modified_sample(dataset):\n",
    "    modified = []\n",
    "    for i in dataset.isnull().any(axis=1):\n",
    "        if(i):\n",
    "            modified.append(1)\n",
    "        else:\n",
    "            modified.append(0)\n",
    "    modified = np.asarray(modified)\n",
    "    modified = pd.DataFrame({'IsModified': modified})\n",
    "    dataset = dataset.join(modified)\n",
    "    return dataset"
   ]
  },
  {
   "cell_type": "code",
   "execution_count": 10,
   "metadata": {},
   "outputs": [],
   "source": [
    "def normalize_data_set(dataset):\n",
    "    dataset = drop_useless_columns(dataset)\n",
    "    #dataset = merge_duration_count(dataset)\n",
    "    dataset = add_modified_sample(dataset)\n",
    "    dataset = normalize_costumer_age(dataset)\n",
    "    dataset = normalize_region(dataset)\n",
    "    dataset = create_regions_cluster(dataset)\n",
    "    dataset = normalize_province(dataset)\n",
    "    dataset = normalize_product(dataset)\n",
    "    return dataset"
   ]
  },
  {
   "cell_type": "code",
   "execution_count": 11,
   "metadata": {},
   "outputs": [],
   "source": [
    "train_data = normalize_data_set(train_data)\n",
    "test_data = normalize_data_set(test_data)"
   ]
  },
  {
   "cell_type": "markdown",
   "metadata": {},
   "source": [
    "# CHECKPOINT"
   ]
  },
  {
   "cell_type": "code",
   "execution_count": 12,
   "metadata": {},
   "outputs": [],
   "source": [
    "trainset = train_data\n",
    "testset = test_data"
   ]
  },
  {
   "cell_type": "code",
   "execution_count": 13,
   "metadata": {},
   "outputs": [],
   "source": [
    "#trainset = trainset.fillna(trainset.mean())\n",
    "#testset = testset.fillna(testset.mean())"
   ]
  },
  {
   "cell_type": "markdown",
   "metadata": {},
   "source": [
    "# Save CSV"
   ]
  },
  {
   "cell_type": "code",
   "execution_count": 14,
   "metadata": {},
   "outputs": [],
   "source": [
    "trainset.to_csv('final_train.csv', index = False, encoding='utf-8')\n",
    "testset.to_csv('final_test.csv', index = False, encoding='utf-8')"
   ]
  }
 ],
 "metadata": {
  "kernelspec": {
   "display_name": "Python 3",
   "language": "python",
   "name": "python3"
  },
  "language_info": {
   "codemirror_mode": {
    "name": "ipython",
    "version": 3
   },
   "file_extension": ".py",
   "mimetype": "text/x-python",
   "name": "python",
   "nbconvert_exporter": "python",
   "pygments_lexer": "ipython3",
   "version": "3.7.0"
  }
 },
 "nbformat": 4,
 "nbformat_minor": 2
}
