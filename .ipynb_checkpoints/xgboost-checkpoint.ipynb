{
 "cells": [
  {
   "cell_type": "code",
   "execution_count": 5,
   "metadata": {},
   "outputs": [],
   "source": [
    "import pandas as pd\n",
    "import numpy as np\n",
    "\n",
    "# Random seed for reproducibility\n",
    "seed = 202\n",
    "np.random.seed(seed)\n",
    "\n",
    "# Import the train set and test set\n",
    "train_data2 = pd.read_csv(\"trainset.csv\", delimiter=\",\")\n",
    "test_data2 = pd.read_csv(\"testset.csv\", delimiter=\",\")\n",
    "\n",
    "train_data = pd.read_csv(\"normalized_train_dataset.csv\", delimiter=\",\")\n",
    "test_data = pd.read_csv(\"normalized_test_dataset.csv\", delimiter=\",\")"
   ]
  },
  {
   "cell_type": "code",
   "execution_count": null,
   "metadata": {},
   "outputs": [],
   "source": []
  },
  {
   "cell_type": "code",
   "execution_count": 103,
   "metadata": {},
   "outputs": [
    {
     "name": "stdout",
     "output_type": "stream",
     "text": [
      "(9567, 35)\n"
     ]
    }
   ],
   "source": [
    "trainset = train_data\n",
    "trainset = trainset.dropna()\n",
    "print(train_data.shape)\n",
    "\n",
    "trainset = trainset.iloc[np.random.permutation(len(trainset))]\n",
    "trainset = trainset.reset_index(drop=True)"
   ]
  },
  {
   "cell_type": "code",
   "execution_count": 79,
   "metadata": {},
   "outputs": [
    {
     "name": "stdout",
     "output_type": "stream",
     "text": [
      "(2051, 34)\n"
     ]
    }
   ],
   "source": [
    "testset = test_data\n",
    "testset = testset.dropna()\n",
    "print(testset.shape)\n",
    "\n",
    "testset = testset.iloc[np.random.permutation(len(testset))]\n",
    "testset = testset.reset_index(drop=True)"
   ]
  },
  {
   "cell_type": "code",
   "execution_count": 7,
   "metadata": {},
   "outputs": [
    {
     "name": "stdout",
     "output_type": "stream",
     "text": [
      "[6.296e+03 5.303e+00 6.113e+00 1.101e+01 4.195e-01 8.651e+00 7.961e-01\n",
      " 1.196e+01 7.962e+01 1.091e+01 1.893e+06 1.978e+00 3.867e+01 3.972e+01\n",
      " 3.934e+01 3.848e+01 7.948e+01 8.593e+01 1.252e+01 3.566e-01 3.684e-01\n",
      " 2.202e+00 7.831e+00 1.825e-02 2.784e+00 4.078e+00 2.358e+01 2.826e+00\n",
      " 1.584e-01 2.914e-01 4.053e+01 1.988e+02 3.724e+01 2.776e+02]\n",
      "[[1.118e+04 8.502e+04 6.500e+01 7.600e+01]\n",
      " [9.927e+03 4.000e+01 1.500e+01 8.400e+01]\n",
      " [4.110e+02 4.600e+01 4.500e+01 8.400e+01]\n",
      " [2.770e+03 1.014e+04 2.500e+01 9.500e+01]\n",
      " [1.121e+04 2.804e+04 5.500e+01 6.000e+01]]\n"
     ]
    },
    {
     "data": {
      "text/plain": [
       "[array([1.118e+04, 0.000e+00, 1.551e-01, 3.815e-02, 1.000e+00, 7.552e-02,\n",
       "        9.988e-04, 5.144e-03, 1.000e+00, 0.000e+00, 8.502e+04, 9.509e-02,\n",
       "        0.000e+00, 0.000e+00, 2.502e-02, 7.535e-02, 6.136e-01, 7.698e-01,\n",
       "        1.847e-02, 5.766e-04, 1.014e-01, 9.343e-05, 0.000e+00, 0.000e+00,\n",
       "        7.217e-07, 6.168e-04, 3.092e-01, 0.000e+00, 1.279e-02, 1.367e-02,\n",
       "        5.432e-01, 6.500e+01, 1.000e+00, 7.600e+01]),\n",
       " array([3.716e+03, 0.000e+00, 2.635e-01, 5.473e-02, 1.000e+00, 2.018e-01,\n",
       "        2.372e-03, 1.121e-02, 0.000e+00, 0.000e+00, 7.002e+04, 3.589e-01,\n",
       "        0.000e+00, 0.000e+00, 0.000e+00, 0.000e+00, 0.000e+00, 0.000e+00,\n",
       "        4.473e-03, 7.532e-07, 1.166e-01, 7.427e-03, 0.000e+00, 0.000e+00,\n",
       "        3.418e-03, 8.320e-02, 2.308e-01, 0.000e+00, 2.736e-03, 8.019e-03,\n",
       "        5.433e-01, 5.500e+01, 1.200e+01, 7.000e+00]),\n",
       " array([2.000e+00, 0.000e+00, 1.551e-01, 1.051e-02, 1.000e+00, 2.474e-02,\n",
       "        0.000e+00, 7.787e-03, 0.000e+00, 0.000e+00, 2.201e+04, 2.171e-02,\n",
       "        0.000e+00, 0.000e+00, 0.000e+00, 0.000e+00, 0.000e+00, 0.000e+00,\n",
       "        2.455e-02, 0.000e+00, 2.529e-02, 1.142e-03, 0.000e+00, 0.000e+00,\n",
       "        4.140e-05, 2.560e-05, 3.633e-03, 0.000e+00, 2.147e-03, 6.479e-03,\n",
       "        9.367e-01, 5.500e+01, 8.000e+00, 2.500e+01]),\n",
       " array([9.095e+03, 0.000e+00, 1.562e-01, 1.051e-02, 1.000e+00, 6.771e-02,\n",
       "        9.988e-04, 9.510e-03, 1.000e+00, 0.000e+00, 5.013e+04, 1.357e-01,\n",
       "        0.000e+00, 0.000e+00, 0.000e+00, 0.000e+00, 0.000e+00, 0.000e+00,\n",
       "        0.000e+00, 0.000e+00, 0.000e+00, 0.000e+00, 0.000e+00, 0.000e+00,\n",
       "        0.000e+00, 0.000e+00, 0.000e+00, 0.000e+00, 0.000e+00, 0.000e+00,\n",
       "        0.000e+00, 3.500e+01, 1.500e+01, 3.300e+01])]"
      ]
     },
     "execution_count": 7,
     "metadata": {},
     "output_type": "execute_result"
    }
   ],
   "source": [
    "# Feature Extraction with Univariate Statistical Tests (Chi-squared for classification)\n",
    "from sklearn.feature_selection import SelectKBest\n",
    "from sklearn.feature_selection import chi2\n",
    "\n",
    "array = trainset.values\n",
    "X = array[:,0:array.shape[1]-1]\n",
    "X = np.asarray(X)\n",
    "Y = array[:,array.shape[1]-1]\n",
    "Y = np.asarray(Y)\n",
    "\n",
    "# feature extraction\n",
    "chi2_test = SelectKBest(score_func=chi2, k=4)\n",
    "fit = chi2_test.fit(X, Y)\n",
    "\n",
    "# summarize scores\n",
    "np.set_printoptions(precision=3)\n",
    "print(fit.scores_)\n",
    "features = fit.transform(X)\n",
    "\n",
    "# summarize selected features\n",
    "print(features[0:5,:])\n",
    "chi2_test.get_support(indices=True)\n",
    "# keep selected feature names\n",
    "features = [X[i] for i in chi2_test.get_support(indices=True)]\n",
    "features"
   ]
  },
  {
   "cell_type": "code",
   "execution_count": 8,
   "metadata": {},
   "outputs": [
    {
     "data": {
      "text/plain": [
       "Index(['ID', 'DeviceFlag4G', 'DataArpu', 'DataAllowanceContinuous',\n",
       "       'DeviceFlagSmartphone', 'MonthlyVoiceTrafficCount',\n",
       "       'MonthlySMSTrafficCount', 'MonthlyDataTraffic', 'CustomerGender',\n",
       "       'CustomerExpatriate', 'ZipCode', 'ChurnScore',\n",
       "       'AirportConnectionsDuration', 'AirportConnectionsCount',\n",
       "       'StationConnectionsDuration', 'StationConnectionsCount',\n",
       "       'ParkingConnectionsDuration', 'ParkingConnectionsCount',\n",
       "       'File-Transfer', 'Games', 'Instant-Messaging-Applications', 'Mail',\n",
       "       'Music-Streaming', 'Network-Operation', 'P2P-Applications', 'Security',\n",
       "       'Streaming-Applications', 'Terminals', 'Unclassified', 'VoIP',\n",
       "       'Web-Applications', 'CustomerAge', 'Region', 'Province', 'Product'],\n",
       "      dtype='object')"
      ]
     },
     "execution_count": 8,
     "metadata": {},
     "output_type": "execute_result"
    }
   ],
   "source": [
    "trainset.columns"
   ]
  },
  {
   "cell_type": "code",
   "execution_count": null,
   "metadata": {},
   "outputs": [],
   "source": []
  },
  {
   "cell_type": "code",
   "execution_count": null,
   "metadata": {},
   "outputs": [],
   "source": []
  },
  {
   "cell_type": "code",
   "execution_count": null,
   "metadata": {},
   "outputs": [],
   "source": []
  },
  {
   "cell_type": "code",
   "execution_count": null,
   "metadata": {},
   "outputs": [],
   "source": []
  },
  {
   "cell_type": "code",
   "execution_count": null,
   "metadata": {},
   "outputs": [],
   "source": []
  },
  {
   "cell_type": "code",
   "execution_count": null,
   "metadata": {},
   "outputs": [],
   "source": []
  },
  {
   "cell_type": "code",
   "execution_count": 138,
   "metadata": {},
   "outputs": [],
   "source": [
    "def features_labels_split(data):\n",
    "    \n",
    "    features = data[['ID', 'DataAllowanceContinuous', 'MonthlyDataTraffic', 'CustomerGender',\n",
    "                     'CustomerExpatriate', 'ZipCode', 'Web-Applications', 'CustomerAge', 'Region', 'Province']]\n",
    "    if('Product' in data.columns):\n",
    "        labels = data['Product']\n",
    "        return features, labels\n",
    "    return features"
   ]
  },
  {
   "cell_type": "code",
   "execution_count": 15,
   "metadata": {},
   "outputs": [],
   "source": [
    "from sklearn.preprocessing import MinMaxScaler\n",
    "from sklearn.preprocessing import StandardScaler\n",
    "def standardize_features(features):\n",
    "\n",
    "    scaler = StandardScaler().fit(features)\n",
    "    features = scaler.transform(features)\n",
    "    return features"
   ]
  },
  {
   "cell_type": "code",
   "execution_count": 16,
   "metadata": {},
   "outputs": [],
   "source": [
    "def train_test_validation_split(features, labels, val_samples, test_samples):\n",
    "\n",
    "    features = np.asarray(features)\n",
    "    labels =np.asarray(labels)\n",
    "    \n",
    "    X_test = features[0:test_samples]\n",
    "    y_test = labels[0:test_samples]\n",
    "\n",
    "    X_val = features[test_samples:test_samples + val_samples]\n",
    "    y_val = labels[test_samples:test_samples + val_samples]\n",
    "\n",
    "    X_train = features[test_samples + val_samples:]\n",
    "    y_train = labels[test_samples + val_samples:]\n",
    "\n",
    "    return X_train, X_test, X_val, y_train, y_test, y_val"
   ]
  },
  {
   "cell_type": "code",
   "execution_count": 17,
   "metadata": {},
   "outputs": [],
   "source": [
    "train_feat, train_label = features_labels_split(train_data)"
   ]
  },
  {
   "cell_type": "code",
   "execution_count": 18,
   "metadata": {},
   "outputs": [],
   "source": [
    "num_val_samples = 0\n",
    "num_test_samples = 616\n",
    "X_train, X_test, X_val, y_train, y_test, y_val = train_test_validation_split(train_feat, train_label, num_val_samples, num_test_samples)"
   ]
  },
  {
   "cell_type": "code",
   "execution_count": null,
   "metadata": {},
   "outputs": [],
   "source": []
  },
  {
   "cell_type": "code",
   "execution_count": null,
   "metadata": {},
   "outputs": [],
   "source": []
  },
  {
   "cell_type": "code",
   "execution_count": null,
   "metadata": {},
   "outputs": [],
   "source": []
  },
  {
   "cell_type": "code",
   "execution_count": 9,
   "metadata": {},
   "outputs": [
    {
     "data": {
      "text/plain": [
       "(9567, 35)"
      ]
     },
     "execution_count": 9,
     "metadata": {},
     "output_type": "execute_result"
    }
   ],
   "source": [
    "train_data.shape"
   ]
  },
  {
   "cell_type": "code",
   "execution_count": 58,
   "metadata": {},
   "outputs": [
    {
     "name": "stdout",
     "output_type": "stream",
     "text": [
      "[0]\tvalidation_0-mlogloss:1.33533\n",
      "Will train until validation_0-mlogloss hasn't improved in 10 rounds.\n",
      "[1]\tvalidation_0-mlogloss:1.2933\n",
      "[2]\tvalidation_0-mlogloss:1.25687\n",
      "[3]\tvalidation_0-mlogloss:1.22597\n",
      "[4]\tvalidation_0-mlogloss:1.19952\n",
      "[5]\tvalidation_0-mlogloss:1.17636\n",
      "[6]\tvalidation_0-mlogloss:1.15704\n",
      "[7]\tvalidation_0-mlogloss:1.13955\n",
      "[8]\tvalidation_0-mlogloss:1.12428\n",
      "[9]\tvalidation_0-mlogloss:1.11111\n",
      "[10]\tvalidation_0-mlogloss:1.09831\n",
      "[11]\tvalidation_0-mlogloss:1.08769\n",
      "[12]\tvalidation_0-mlogloss:1.07857\n",
      "[13]\tvalidation_0-mlogloss:1.06932\n",
      "[14]\tvalidation_0-mlogloss:1.06215\n",
      "[15]\tvalidation_0-mlogloss:1.05481\n",
      "[16]\tvalidation_0-mlogloss:1.04909\n",
      "[17]\tvalidation_0-mlogloss:1.04384\n",
      "[18]\tvalidation_0-mlogloss:1.03877\n",
      "[19]\tvalidation_0-mlogloss:1.03358\n",
      "[20]\tvalidation_0-mlogloss:1.0297\n",
      "[21]\tvalidation_0-mlogloss:1.02558\n",
      "[22]\tvalidation_0-mlogloss:1.02234\n",
      "[23]\tvalidation_0-mlogloss:1.01876\n",
      "[24]\tvalidation_0-mlogloss:1.01564\n",
      "[25]\tvalidation_0-mlogloss:1.0133\n",
      "[26]\tvalidation_0-mlogloss:1.01094\n",
      "[27]\tvalidation_0-mlogloss:1.00848\n",
      "[28]\tvalidation_0-mlogloss:1.0064\n",
      "[29]\tvalidation_0-mlogloss:1.00438\n",
      "[30]\tvalidation_0-mlogloss:1.00289\n",
      "[31]\tvalidation_0-mlogloss:1.001\n",
      "[32]\tvalidation_0-mlogloss:0.999802\n",
      "[33]\tvalidation_0-mlogloss:0.998065\n",
      "[34]\tvalidation_0-mlogloss:0.996841\n",
      "[35]\tvalidation_0-mlogloss:0.994972\n",
      "[36]\tvalidation_0-mlogloss:0.993956\n",
      "[37]\tvalidation_0-mlogloss:0.992637\n",
      "[38]\tvalidation_0-mlogloss:0.991684\n",
      "[39]\tvalidation_0-mlogloss:0.99083\n",
      "[40]\tvalidation_0-mlogloss:0.989898\n",
      "[41]\tvalidation_0-mlogloss:0.988885\n",
      "[42]\tvalidation_0-mlogloss:0.987956\n",
      "[43]\tvalidation_0-mlogloss:0.987131\n",
      "[44]\tvalidation_0-mlogloss:0.986149\n",
      "[45]\tvalidation_0-mlogloss:0.985263\n",
      "[46]\tvalidation_0-mlogloss:0.984084\n",
      "[47]\tvalidation_0-mlogloss:0.983536\n",
      "[48]\tvalidation_0-mlogloss:0.982772\n",
      "[49]\tvalidation_0-mlogloss:0.981881\n",
      "[50]\tvalidation_0-mlogloss:0.981471\n",
      "[51]\tvalidation_0-mlogloss:0.980599\n",
      "[52]\tvalidation_0-mlogloss:0.980202\n",
      "[53]\tvalidation_0-mlogloss:0.979132\n",
      "[54]\tvalidation_0-mlogloss:0.97872\n",
      "[55]\tvalidation_0-mlogloss:0.978266\n",
      "[56]\tvalidation_0-mlogloss:0.977858\n",
      "[57]\tvalidation_0-mlogloss:0.977266\n",
      "[58]\tvalidation_0-mlogloss:0.976489\n",
      "[59]\tvalidation_0-mlogloss:0.975904\n",
      "[60]\tvalidation_0-mlogloss:0.975466\n",
      "[61]\tvalidation_0-mlogloss:0.974835\n",
      "[62]\tvalidation_0-mlogloss:0.974324\n",
      "[63]\tvalidation_0-mlogloss:0.974095\n",
      "[64]\tvalidation_0-mlogloss:0.973936\n",
      "[65]\tvalidation_0-mlogloss:0.973842\n",
      "[66]\tvalidation_0-mlogloss:0.973121\n",
      "[67]\tvalidation_0-mlogloss:0.972354\n",
      "[68]\tvalidation_0-mlogloss:0.971959\n",
      "[69]\tvalidation_0-mlogloss:0.97168\n",
      "[70]\tvalidation_0-mlogloss:0.971509\n",
      "[71]\tvalidation_0-mlogloss:0.971077\n",
      "[72]\tvalidation_0-mlogloss:0.970498\n",
      "[73]\tvalidation_0-mlogloss:0.970187\n",
      "[74]\tvalidation_0-mlogloss:0.969916\n",
      "[75]\tvalidation_0-mlogloss:0.969724\n",
      "[76]\tvalidation_0-mlogloss:0.969608\n",
      "[77]\tvalidation_0-mlogloss:0.96916\n",
      "[78]\tvalidation_0-mlogloss:0.968564\n",
      "[79]\tvalidation_0-mlogloss:0.968426\n",
      "[80]\tvalidation_0-mlogloss:0.967898\n",
      "[81]\tvalidation_0-mlogloss:0.967536\n",
      "[82]\tvalidation_0-mlogloss:0.967535\n",
      "[83]\tvalidation_0-mlogloss:0.967477\n",
      "[84]\tvalidation_0-mlogloss:0.966875\n",
      "[85]\tvalidation_0-mlogloss:0.966735\n",
      "[86]\tvalidation_0-mlogloss:0.966578\n",
      "[87]\tvalidation_0-mlogloss:0.96647\n",
      "[88]\tvalidation_0-mlogloss:0.966194\n",
      "[89]\tvalidation_0-mlogloss:0.965955\n",
      "[90]\tvalidation_0-mlogloss:0.965608\n",
      "[91]\tvalidation_0-mlogloss:0.965651\n",
      "[92]\tvalidation_0-mlogloss:0.965168\n",
      "[93]\tvalidation_0-mlogloss:0.965136\n",
      "[94]\tvalidation_0-mlogloss:0.964632\n",
      "[95]\tvalidation_0-mlogloss:0.964746\n",
      "[96]\tvalidation_0-mlogloss:0.964798\n",
      "[97]\tvalidation_0-mlogloss:0.964515\n",
      "[98]\tvalidation_0-mlogloss:0.964503\n",
      "[99]\tvalidation_0-mlogloss:0.964312\n",
      "Accuracy: 61.18%\n"
     ]
    },
    {
     "name": "stderr",
     "output_type": "stream",
     "text": [
      "C:\\Users\\giano\\Anaconda3\\envs\\voda\\lib\\site-packages\\sklearn\\preprocessing\\label.py:151: DeprecationWarning: The truth value of an empty array is ambiguous. Returning False, but in future this will result in an error. Use `array.size > 0` to check that an array is not empty.\n",
      "  if diff:\n"
     ]
    }
   ],
   "source": [
    "from xgboost import XGBClassifier\n",
    "from sklearn.model_selection import train_test_split\n",
    "from sklearn.metrics import accuracy_score\n",
    "\n",
    "# split data into X and y\n",
    "array = train_data.values\n",
    "X = array[:,0:array.shape[1]-1]\n",
    "X = np.asarray(X)\n",
    "Y = array[:,array.shape[1]-1]\n",
    "Y = np.asarray(Y)\n",
    "# split data into train and test sets\n",
    "seed = 7\n",
    "test_size = 0.33\n",
    "X_train, X_test, y_train, y_test = train_test_split(X, Y, test_size=test_size, random_state=seed)\n",
    "# fit model on training data\n",
    "model = XGBClassifier()\n",
    "eval_set = [(X_test, y_test)]\n",
    "model.fit(X_train, y_train, early_stopping_rounds=10, eval_metric=\"mlogloss\", eval_set=eval_set, verbose=True)\n",
    "# make predictions for test data\n",
    "y_pred = model.predict(X_test)\n",
    "predictions = [round(value) for value in y_pred]\n",
    "# evaluate predictions\n",
    "accuracy = accuracy_score(y_test, predictions)\n",
    "print(\"Accuracy: %.2f%%\" % (accuracy * 100.0))"
   ]
  },
  {
   "cell_type": "code",
   "execution_count": 12,
   "metadata": {},
   "outputs": [
    {
     "data": {
      "image/png": "[encoded data removed]",
      "text/plain": [
       "<Figure size 432x288 with 1 Axes>"
      ]
     },
     "metadata": {},
     "output_type": "display_data"
    }
   ],
   "source": [
    "from xgboost import XGBClassifier\n",
    "from xgboost import plot_importance\n",
    "from matplotlib import pyplot\n",
    "# split data into X and y\n",
    "array = train_data.values\n",
    "X = array[:,0:array.shape[1]-1]\n",
    "X = np.asarray(X)\n",
    "Y = array[:,array.shape[1]-1]\n",
    "Y = np.asarray(Y)\n",
    "# fit model on training data\n",
    "model = XGBClassifier()\n",
    "model.fit(X, Y)\n",
    "# plot feature importance\n",
    "plot_importance(model)\n",
    "pyplot.show()\n",
    "\n",
    "# boxplot algorithm comparison\n",
    "fig = plt.figure(figsize=(15, 8))\n",
    "fig.suptitle('Feature Importance', fontsize=24)\n",
    "ax = fig.add_subplot(1,1,1)\n",
    "plt.boxplot(results)\n",
    "plt.ylim([0.55,0.75])\n",
    "ax.set_xticklabels(names)\n",
    "plt.show()"
   ]
  },
  {
   "cell_type": "code",
   "execution_count": 140,
   "metadata": {},
   "outputs": [],
   "source": [
    "train_feat, train_label = features_labels_split(trainset)\n",
    "test_feat = features_labels_split(testset)"
   ]
  },
  {
   "cell_type": "code",
   "execution_count": 141,
   "metadata": {},
   "outputs": [
    {
     "name": "stdout",
     "output_type": "stream",
     "text": [
      "Fitting 10 folds for each of 1 candidates, totalling 10 fits\n"
     ]
    },
    {
     "name": "stderr",
     "output_type": "stream",
     "text": [
      "[Parallel(n_jobs=-1)]: Done   6 out of  10 | elapsed:    5.0s remaining:    3.3s\n",
      "[Parallel(n_jobs=-1)]: Done  10 out of  10 | elapsed:    6.1s finished\n"
     ]
    },
    {
     "name": "stdout",
     "output_type": "stream",
     "text": [
      "Best: -0.900926 using {'learning_rate': 0.2, 'max_depth': 4, 'n_estimators': 50}\n",
      "-0.900926 (0.017766) with: {'learning_rate': 0.2, 'max_depth': 4, 'n_estimators': 50}\n"
     ]
    }
   ],
   "source": [
    "from xgboost import XGBClassifier\n",
    "from sklearn.model_selection import GridSearchCV\n",
    "from sklearn.model_selection import StratifiedKFold\n",
    "# split data into X and y\n",
    "array = trainset.values\n",
    "X = array[:,0:array.shape[1]-1]\n",
    "X = np.asarray(X)\n",
    "Y = array[:,array.shape[1]-1]\n",
    "Y = np.asarray(Y)\n",
    "\n",
    "X = trainset.drop('Product', 1)\n",
    "Y = trainset['Product']\n",
    "\n",
    "X = train_feat\n",
    "Y = train_label\n",
    "\n",
    "#num_val_samples = 0\n",
    "#num_test_samples = 616\n",
    "#X_train, X_test, X_val, y_train, y_test, y_val = train_test_validation_split(train_feat, train_label, num_val_samples, num_test_samples)\n",
    "# split data into train and test sets\n",
    "seed = 7\n",
    "test_size = 0.33\n",
    "X_train, X_test, y_train, y_test = train_test_split(X, Y, test_size=test_size, random_state=seed)\n",
    "\n",
    "# grid search\n",
    "model = XGBClassifier()\n",
    "\n",
    "#learning_rate = [0.0001, 0.001, 0.01, 0.1, 0.2, 0.3]\n",
    "learning_rate = [0.2]\n",
    "#n_estimators = [50, 100, 150, 200]\n",
    "n_estimators = [50]\n",
    "#max_depth = [2, 4, 6, 8]\n",
    "max_depth = [4]\n",
    "param_grid = dict(learning_rate=learning_rate, max_depth=max_depth, n_estimators=n_estimators)\n",
    "\n",
    "kfold = StratifiedKFold(n_splits=10, shuffle=True, random_state=7)\n",
    "grid_search = GridSearchCV(model, param_grid, scoring=\"neg_log_loss\", n_jobs=-1, cv=kfold, verbose=1)\n",
    "grid_result = grid_search.fit(X, Y)\n",
    "# summarize results\n",
    "print(\"Best: %f using %s\" % (grid_result.best_score_, grid_result.best_params_))\n",
    "means = grid_result.cv_results_['mean_test_score']\n",
    "stds = grid_result.cv_results_['std_test_score']\n",
    "params = grid_result.cv_results_['params']\n",
    "for mean, stdev, param in zip(means, stds, params):\n",
    "\tprint(\"%f (%f) with: %r\" % (mean, stdev, param))"
   ]
  },
  {
   "cell_type": "code",
   "execution_count": 142,
   "metadata": {},
   "outputs": [
    {
     "data": {
      "text/plain": [
       "(GridSearchCV(cv=StratifiedKFold(n_splits=10, random_state=7, shuffle=True),\n",
       "        error_score='raise',\n",
       "        estimator=XGBClassifier(base_score=0.5, booster='gbtree', colsample_bylevel=1,\n",
       "        colsample_bytree=1, gamma=0, learning_rate=0.1, max_delta_step=0,\n",
       "        max_depth=3, min_child_weight=1, missing=None, n_estimators=100,\n",
       "        n_jobs=1, nthread=None, objective='binary:logistic', random_state=0,\n",
       "        reg_alpha=0, reg_lambda=1, scale_pos_weight=1, seed=None,\n",
       "        silent=True, subsample=1),\n",
       "        fit_params=None, iid=True, n_jobs=-1,\n",
       "        param_grid={'learning_rate': [0.2], 'max_depth': [4], 'n_estimators': [50]},\n",
       "        pre_dispatch='2*n_jobs', refit=True, return_train_score='warn',\n",
       "        scoring='neg_log_loss', verbose=1),\n",
       " XGBClassifier(base_score=0.5, booster='gbtree', colsample_bylevel=1,\n",
       "        colsample_bytree=1, gamma=0, learning_rate=0.1, max_delta_step=0,\n",
       "        max_depth=3, min_child_weight=1, missing=None, n_estimators=100,\n",
       "        n_jobs=1, nthread=None, objective='binary:logistic', random_state=0,\n",
       "        reg_alpha=0, reg_lambda=1, scale_pos_weight=1, seed=None,\n",
       "        silent=True, subsample=1),\n",
       " GridSearchCV(cv=StratifiedKFold(n_splits=10, random_state=7, shuffle=True),\n",
       "        error_score='raise',\n",
       "        estimator=XGBClassifier(base_score=0.5, booster='gbtree', colsample_bylevel=1,\n",
       "        colsample_bytree=1, gamma=0, learning_rate=0.1, max_delta_step=0,\n",
       "        max_depth=3, min_child_weight=1, missing=None, n_estimators=100,\n",
       "        n_jobs=1, nthread=None, objective='binary:logistic', random_state=0,\n",
       "        reg_alpha=0, reg_lambda=1, scale_pos_weight=1, seed=None,\n",
       "        silent=True, subsample=1),\n",
       "        fit_params=None, iid=True, n_jobs=-1,\n",
       "        param_grid={'learning_rate': [0.2], 'max_depth': [4], 'n_estimators': [50]},\n",
       "        pre_dispatch='2*n_jobs', refit=True, return_train_score='warn',\n",
       "        scoring='neg_log_loss', verbose=1))"
      ]
     },
     "execution_count": 142,
     "metadata": {},
     "output_type": "execute_result"
    }
   ],
   "source": [
    "grid_result, model, grid_search"
   ]
  },
  {
   "cell_type": "code",
   "execution_count": null,
   "metadata": {},
   "outputs": [],
   "source": []
  },
  {
   "cell_type": "code",
   "execution_count": 146,
   "metadata": {},
   "outputs": [
    {
     "name": "stdout",
     "output_type": "stream",
     "text": [
      "Accuracy: 70.00%\n"
     ]
    },
    {
     "name": "stderr",
     "output_type": "stream",
     "text": [
      "C:\\Users\\giano\\Anaconda3\\envs\\voda\\lib\\site-packages\\sklearn\\preprocessing\\label.py:151: DeprecationWarning: The truth value of an empty array is ambiguous. Returning False, but in future this will result in an error. Use `array.size > 0` to check that an array is not empty.\n",
      "  if diff:\n"
     ]
    }
   ],
   "source": [
    "y_pred = grid_result.predict(X_test)\n",
    "predictions = [round(value) for value in y_pred]\n",
    "# evaluate predictions\n",
    "accuracy = accuracy_score(y_test, predictions)\n",
    "print(\"Accuracy: %.2f%%\" % (accuracy * 100.0))"
   ]
  },
  {
   "cell_type": "code",
   "execution_count": 117,
   "metadata": {},
   "outputs": [
    {
     "data": {
      "text/plain": [
       "(array([[9.890e+03, 1.000e+00, 7.754e-02, ..., 7.500e+01, 8.000e+00,\n",
       "         5.600e+01],\n",
       "        [8.873e+03, 1.000e+00, 1.547e-01, ..., 4.500e+01, 1.900e+01,\n",
       "         1.060e+02],\n",
       "        [6.680e+03, 1.000e+00, 1.086e-01, ..., 3.500e+01, 8.000e+00,\n",
       "         1.020e+02],\n",
       "        ...,\n",
       "        [6.436e+03, 0.000e+00, 1.551e-01, ..., 3.500e+01, 1.400e+01,\n",
       "         6.600e+01],\n",
       "        [1.049e+04, 1.000e+00, 1.551e-01, ..., 4.500e+01, 1.500e+01,\n",
       "         3.300e+01],\n",
       "        [1.181e+04, 0.000e+00, 1.551e-01, ..., 7.500e+01, 1.900e+01,\n",
       "         9.800e+01]]), (2033,))"
      ]
     },
     "execution_count": 117,
     "metadata": {},
     "output_type": "execute_result"
    }
   ],
   "source": [
    "array_test = testset.values\n",
    "X_test_data = array_test[:,0:array_test.shape[1]]\n",
    "X_test_data = np.asarray(X_test_data)\n",
    "X_test_data, y_test.shape"
   ]
  },
  {
   "cell_type": "code",
   "execution_count": null,
   "metadata": {},
   "outputs": [],
   "source": []
  },
  {
   "cell_type": "code",
   "execution_count": 148,
   "metadata": {},
   "outputs": [
    {
     "name": "stderr",
     "output_type": "stream",
     "text": [
      "C:\\Users\\giano\\Anaconda3\\envs\\voda\\lib\\site-packages\\sklearn\\preprocessing\\label.py:151: DeprecationWarning: The truth value of an empty array is ambiguous. Returning False, but in future this will result in an error. Use `array.size > 0` to check that an array is not empty.\n",
      "  if diff:\n"
     ]
    }
   ],
   "source": [
    "y_pred_new_data = grid_result.predict(test_feat)\n",
    "predictions = [round(value) for value in y_pred_new_data]\n",
    "# evaluate predictions\n",
    "#accuracy = accuracy_score(y_test, predictions)\n",
    "#print(\"Accuracy: %.2f%%\" % (accuracy * 100.0))"
   ]
  },
  {
   "cell_type": "code",
   "execution_count": 155,
   "metadata": {},
   "outputs": [
    {
     "name": "stdout",
     "output_type": "stream",
     "text": [
      "F1 score on unseen data: 64.191%\n"
     ]
    }
   ],
   "source": [
    "from sklearn.metrics import f1_score\n",
    "print(\"F1 score on unseen data: %.3f%%\" % (f1_score(y_test, y_pred_new_data[0:2033], average='micro')*100))"
   ]
  },
  {
   "cell_type": "code",
   "execution_count": 151,
   "metadata": {},
   "outputs": [
    {
     "data": {
      "text/plain": [
       "(2051,)"
      ]
     },
     "execution_count": 151,
     "metadata": {},
     "output_type": "execute_result"
    }
   ],
   "source": [
    "y_pred_new_data.shape"
   ]
  },
  {
   "cell_type": "code",
   "execution_count": 156,
   "metadata": {},
   "outputs": [
    {
     "data": {
      "text/html": [
       "<div>\n",
       "<style scoped>\n",
       "    .dataframe tbody tr th:only-of-type {\n",
       "        vertical-align: middle;\n",
       "    }\n",
       "\n",
       "    .dataframe tbody tr th {\n",
       "        vertical-align: top;\n",
       "    }\n",
       "\n",
       "    .dataframe thead th {\n",
       "        text-align: right;\n",
       "    }\n",
       "</style>\n",
       "<table border=\"1\" class=\"dataframe\">\n",
       "  <thead>\n",
       "    <tr style=\"text-align: right;\">\n",
       "      <th></th>\n",
       "      <th>ID</th>\n",
       "      <th>Product</th>\n",
       "    </tr>\n",
       "  </thead>\n",
       "  <tbody>\n",
       "    <tr>\n",
       "      <th>0</th>\n",
       "      <td>9890</td>\n",
       "      <td>Non-Customer</td>\n",
       "    </tr>\n",
       "    <tr>\n",
       "      <th>1</th>\n",
       "      <td>8873</td>\n",
       "      <td>Non-Customer</td>\n",
       "    </tr>\n",
       "    <tr>\n",
       "      <th>2</th>\n",
       "      <td>6680</td>\n",
       "      <td>Non-Customer</td>\n",
       "    </tr>\n",
       "    <tr>\n",
       "      <th>3</th>\n",
       "      <td>8561</td>\n",
       "      <td>Non-Customer</td>\n",
       "    </tr>\n",
       "    <tr>\n",
       "      <th>4</th>\n",
       "      <td>6209</td>\n",
       "      <td>Non-Customer</td>\n",
       "    </tr>\n",
       "    <tr>\n",
       "      <th>5</th>\n",
       "      <td>11904</td>\n",
       "      <td>Non-Customer</td>\n",
       "    </tr>\n",
       "    <tr>\n",
       "      <th>6</th>\n",
       "      <td>5458</td>\n",
       "      <td>Non-Customer</td>\n",
       "    </tr>\n",
       "    <tr>\n",
       "      <th>7</th>\n",
       "      <td>9100</td>\n",
       "      <td>Non-Customer</td>\n",
       "    </tr>\n",
       "    <tr>\n",
       "      <th>8</th>\n",
       "      <td>9670</td>\n",
       "      <td>Non-Customer</td>\n",
       "    </tr>\n",
       "    <tr>\n",
       "      <th>9</th>\n",
       "      <td>5311</td>\n",
       "      <td>Non-Customer</td>\n",
       "    </tr>\n",
       "    <tr>\n",
       "      <th>10</th>\n",
       "      <td>12130</td>\n",
       "      <td>Non-Customer</td>\n",
       "    </tr>\n",
       "    <tr>\n",
       "      <th>11</th>\n",
       "      <td>10308</td>\n",
       "      <td>Non-Customer</td>\n",
       "    </tr>\n",
       "    <tr>\n",
       "      <th>12</th>\n",
       "      <td>3422</td>\n",
       "      <td>Non-Customer</td>\n",
       "    </tr>\n",
       "    <tr>\n",
       "      <th>13</th>\n",
       "      <td>6326</td>\n",
       "      <td>Non-Customer</td>\n",
       "    </tr>\n",
       "    <tr>\n",
       "      <th>14</th>\n",
       "      <td>3074</td>\n",
       "      <td>Non-Customer</td>\n",
       "    </tr>\n",
       "    <tr>\n",
       "      <th>15</th>\n",
       "      <td>9550</td>\n",
       "      <td>Non-Customer</td>\n",
       "    </tr>\n",
       "    <tr>\n",
       "      <th>16</th>\n",
       "      <td>2428</td>\n",
       "      <td>Non-Customer</td>\n",
       "    </tr>\n",
       "    <tr>\n",
       "      <th>17</th>\n",
       "      <td>2990</td>\n",
       "      <td>Non-Customer</td>\n",
       "    </tr>\n",
       "    <tr>\n",
       "      <th>18</th>\n",
       "      <td>6539</td>\n",
       "      <td>Non-Customer</td>\n",
       "    </tr>\n",
       "    <tr>\n",
       "      <th>19</th>\n",
       "      <td>10560</td>\n",
       "      <td>Non-Customer</td>\n",
       "    </tr>\n",
       "    <tr>\n",
       "      <th>20</th>\n",
       "      <td>11067</td>\n",
       "      <td>Non-Customer</td>\n",
       "    </tr>\n",
       "    <tr>\n",
       "      <th>21</th>\n",
       "      <td>2202</td>\n",
       "      <td>Non-Customer</td>\n",
       "    </tr>\n",
       "    <tr>\n",
       "      <th>22</th>\n",
       "      <td>8484</td>\n",
       "      <td>Non-Customer</td>\n",
       "    </tr>\n",
       "    <tr>\n",
       "      <th>23</th>\n",
       "      <td>6813</td>\n",
       "      <td>Non-Customer</td>\n",
       "    </tr>\n",
       "    <tr>\n",
       "      <th>24</th>\n",
       "      <td>466</td>\n",
       "      <td>Non-Customer</td>\n",
       "    </tr>\n",
       "    <tr>\n",
       "      <th>25</th>\n",
       "      <td>9104</td>\n",
       "      <td>Non-Customer</td>\n",
       "    </tr>\n",
       "    <tr>\n",
       "      <th>26</th>\n",
       "      <td>8677</td>\n",
       "      <td>Non-Customer</td>\n",
       "    </tr>\n",
       "    <tr>\n",
       "      <th>27</th>\n",
       "      <td>12584</td>\n",
       "      <td>Non-Customer</td>\n",
       "    </tr>\n",
       "    <tr>\n",
       "      <th>28</th>\n",
       "      <td>10541</td>\n",
       "      <td>Non-Customer</td>\n",
       "    </tr>\n",
       "    <tr>\n",
       "      <th>29</th>\n",
       "      <td>9859</td>\n",
       "      <td>Non-Customer</td>\n",
       "    </tr>\n",
       "    <tr>\n",
       "      <th>...</th>\n",
       "      <td>...</td>\n",
       "      <td>...</td>\n",
       "    </tr>\n",
       "    <tr>\n",
       "      <th>2021</th>\n",
       "      <td>11661</td>\n",
       "      <td>Non-Customer</td>\n",
       "    </tr>\n",
       "    <tr>\n",
       "      <th>2022</th>\n",
       "      <td>6226</td>\n",
       "      <td>Non-Customer</td>\n",
       "    </tr>\n",
       "    <tr>\n",
       "      <th>2023</th>\n",
       "      <td>11955</td>\n",
       "      <td>Non-Customer</td>\n",
       "    </tr>\n",
       "    <tr>\n",
       "      <th>2024</th>\n",
       "      <td>11990</td>\n",
       "      <td>Non-Customer</td>\n",
       "    </tr>\n",
       "    <tr>\n",
       "      <th>2025</th>\n",
       "      <td>6255</td>\n",
       "      <td>Non-Customer</td>\n",
       "    </tr>\n",
       "    <tr>\n",
       "      <th>2026</th>\n",
       "      <td>14</td>\n",
       "      <td>Non-Customer</td>\n",
       "    </tr>\n",
       "    <tr>\n",
       "      <th>2027</th>\n",
       "      <td>357</td>\n",
       "      <td>Non-Customer</td>\n",
       "    </tr>\n",
       "    <tr>\n",
       "      <th>2028</th>\n",
       "      <td>9384</td>\n",
       "      <td>Non-Customer</td>\n",
       "    </tr>\n",
       "    <tr>\n",
       "      <th>2029</th>\n",
       "      <td>12524</td>\n",
       "      <td>Non-Customer</td>\n",
       "    </tr>\n",
       "    <tr>\n",
       "      <th>2030</th>\n",
       "      <td>6000</td>\n",
       "      <td>Non-Customer</td>\n",
       "    </tr>\n",
       "    <tr>\n",
       "      <th>2031</th>\n",
       "      <td>8570</td>\n",
       "      <td>Non-Customer</td>\n",
       "    </tr>\n",
       "    <tr>\n",
       "      <th>2032</th>\n",
       "      <td>7222</td>\n",
       "      <td>Non-Customer</td>\n",
       "    </tr>\n",
       "    <tr>\n",
       "      <th>2033</th>\n",
       "      <td>3167</td>\n",
       "      <td>Non-Customer</td>\n",
       "    </tr>\n",
       "    <tr>\n",
       "      <th>2034</th>\n",
       "      <td>11324</td>\n",
       "      <td>Non-Customer</td>\n",
       "    </tr>\n",
       "    <tr>\n",
       "      <th>2035</th>\n",
       "      <td>8234</td>\n",
       "      <td>Non-Customer</td>\n",
       "    </tr>\n",
       "    <tr>\n",
       "      <th>2036</th>\n",
       "      <td>9656</td>\n",
       "      <td>Non-Customer</td>\n",
       "    </tr>\n",
       "    <tr>\n",
       "      <th>2037</th>\n",
       "      <td>8952</td>\n",
       "      <td>Non-Customer</td>\n",
       "    </tr>\n",
       "    <tr>\n",
       "      <th>2038</th>\n",
       "      <td>4055</td>\n",
       "      <td>V-Pet</td>\n",
       "    </tr>\n",
       "    <tr>\n",
       "      <th>2039</th>\n",
       "      <td>2855</td>\n",
       "      <td>Non-Customer</td>\n",
       "    </tr>\n",
       "    <tr>\n",
       "      <th>2040</th>\n",
       "      <td>9596</td>\n",
       "      <td>Non-Customer</td>\n",
       "    </tr>\n",
       "    <tr>\n",
       "      <th>2041</th>\n",
       "      <td>2412</td>\n",
       "      <td>Non-Customer</td>\n",
       "    </tr>\n",
       "    <tr>\n",
       "      <th>2042</th>\n",
       "      <td>9230</td>\n",
       "      <td>Non-Customer</td>\n",
       "    </tr>\n",
       "    <tr>\n",
       "      <th>2043</th>\n",
       "      <td>6875</td>\n",
       "      <td>Non-Customer</td>\n",
       "    </tr>\n",
       "    <tr>\n",
       "      <th>2044</th>\n",
       "      <td>10990</td>\n",
       "      <td>Non-Customer</td>\n",
       "    </tr>\n",
       "    <tr>\n",
       "      <th>2045</th>\n",
       "      <td>7304</td>\n",
       "      <td>Non-Customer</td>\n",
       "    </tr>\n",
       "    <tr>\n",
       "      <th>2046</th>\n",
       "      <td>681</td>\n",
       "      <td>Non-Customer</td>\n",
       "    </tr>\n",
       "    <tr>\n",
       "      <th>2047</th>\n",
       "      <td>1737</td>\n",
       "      <td>Non-Customer</td>\n",
       "    </tr>\n",
       "    <tr>\n",
       "      <th>2048</th>\n",
       "      <td>6436</td>\n",
       "      <td>Non-Customer</td>\n",
       "    </tr>\n",
       "    <tr>\n",
       "      <th>2049</th>\n",
       "      <td>10491</td>\n",
       "      <td>Non-Customer</td>\n",
       "    </tr>\n",
       "    <tr>\n",
       "      <th>2050</th>\n",
       "      <td>11806</td>\n",
       "      <td>Non-Customer</td>\n",
       "    </tr>\n",
       "  </tbody>\n",
       "</table>\n",
       "<p>2051 rows × 2 columns</p>\n",
       "</div>"
      ],
      "text/plain": [
       "         ID       Product\n",
       "0      9890  Non-Customer\n",
       "1      8873  Non-Customer\n",
       "2      6680  Non-Customer\n",
       "3      8561  Non-Customer\n",
       "4      6209  Non-Customer\n",
       "5     11904  Non-Customer\n",
       "6      5458  Non-Customer\n",
       "7      9100  Non-Customer\n",
       "8      9670  Non-Customer\n",
       "9      5311  Non-Customer\n",
       "10    12130  Non-Customer\n",
       "11    10308  Non-Customer\n",
       "12     3422  Non-Customer\n",
       "13     6326  Non-Customer\n",
       "14     3074  Non-Customer\n",
       "15     9550  Non-Customer\n",
       "16     2428  Non-Customer\n",
       "17     2990  Non-Customer\n",
       "18     6539  Non-Customer\n",
       "19    10560  Non-Customer\n",
       "20    11067  Non-Customer\n",
       "21     2202  Non-Customer\n",
       "22     8484  Non-Customer\n",
       "23     6813  Non-Customer\n",
       "24      466  Non-Customer\n",
       "25     9104  Non-Customer\n",
       "26     8677  Non-Customer\n",
       "27    12584  Non-Customer\n",
       "28    10541  Non-Customer\n",
       "29     9859  Non-Customer\n",
       "...     ...           ...\n",
       "2021  11661  Non-Customer\n",
       "2022   6226  Non-Customer\n",
       "2023  11955  Non-Customer\n",
       "2024  11990  Non-Customer\n",
       "2025   6255  Non-Customer\n",
       "2026     14  Non-Customer\n",
       "2027    357  Non-Customer\n",
       "2028   9384  Non-Customer\n",
       "2029  12524  Non-Customer\n",
       "2030   6000  Non-Customer\n",
       "2031   8570  Non-Customer\n",
       "2032   7222  Non-Customer\n",
       "2033   3167  Non-Customer\n",
       "2034  11324  Non-Customer\n",
       "2035   8234  Non-Customer\n",
       "2036   9656  Non-Customer\n",
       "2037   8952  Non-Customer\n",
       "2038   4055         V-Pet\n",
       "2039   2855  Non-Customer\n",
       "2040   9596  Non-Customer\n",
       "2041   2412  Non-Customer\n",
       "2042   9230  Non-Customer\n",
       "2043   6875  Non-Customer\n",
       "2044  10990  Non-Customer\n",
       "2045   7304  Non-Customer\n",
       "2046    681  Non-Customer\n",
       "2047   1737  Non-Customer\n",
       "2048   6436  Non-Customer\n",
       "2049  10491  Non-Customer\n",
       "2050  11806  Non-Customer\n",
       "\n",
       "[2051 rows x 2 columns]"
      ]
     },
     "execution_count": 156,
     "metadata": {},
     "output_type": "execute_result"
    }
   ],
   "source": [
    "submit = testset['ID']\n",
    "submit = pd.DataFrame({'ID': submit})\n",
    "\n",
    "pred = y_pred\n",
    "pred = pd.DataFrame({'Product': y_pred_new_data})\n",
    "\n",
    "product = []\n",
    "product = pred.Product\n",
    "product.replace({ \n",
    "    int(0) : 'Non-Customer', \n",
    "    int(1) : 'V-Bag', \n",
    "    int(2) : 'V-Pet', \n",
    "    int(3) : 'V-Auto'},\n",
    "    inplace=True)\n",
    "\n",
    "submit = submit.join(product)\n",
    "submit"
   ]
  },
  {
   "cell_type": "code",
   "execution_count": null,
   "metadata": {},
   "outputs": [],
   "source": []
  },
  {
   "cell_type": "code",
   "execution_count": null,
   "metadata": {},
   "outputs": [],
   "source": []
  },
  {
   "cell_type": "code",
   "execution_count": null,
   "metadata": {},
   "outputs": [],
   "source": []
  }
 ],
 "metadata": {
  "kernelspec": {
   "display_name": "Python 3",
   "language": "python",
   "name": "python3"
  },
  "language_info": {
   "codemirror_mode": {
    "name": "ipython",
    "version": 3
   },
   "file_extension": ".py",
   "mimetype": "text/x-python",
   "name": "python",
   "nbconvert_exporter": "python",
   "pygments_lexer": "ipython3",
   "version": "3.6.5"
  }
 },
 "nbformat": 4,
 "nbformat_minor": 2
}
