{
 "cells": [
  {
   "cell_type": "code",
   "execution_count": 120,
   "metadata": {},
   "outputs": [],
   "source": [
    "import pandas as pd\n",
    "import numpy as np\n",
    "\n",
    "# Ignore warnings\n",
    "import warnings\n",
    "warnings.simplefilter('ignore')\n",
    "\n",
    "# Random seed for reproducibility\n",
    "seed = 202\n",
    "np.random.seed(seed)\n",
    "\n",
    "# Import the train set and test set\n",
    "train_data2 = pd.read_csv(\"trainset.csv\", delimiter=\",\")\n",
    "test_data2 = pd.read_csv(\"testset.csv\", delimiter=\",\")\n",
    "\n",
    "train_data = pd.read_csv(\"normalized_train_dataset.csv\", delimiter=\",\")\n",
    "test_data = pd.read_csv(\"normalized_test_dataset.csv\", delimiter=\",\")"
   ]
  },
  {
   "cell_type": "code",
   "execution_count": null,
   "metadata": {},
   "outputs": [],
   "source": []
  },
  {
   "cell_type": "code",
   "execution_count": 104,
   "metadata": {},
   "outputs": [
    {
     "name": "stdout",
     "output_type": "stream",
     "text": [
      "(6160, 35)\n"
     ]
    }
   ],
   "source": [
    "trainset = train_data\n",
    "trainset = trainset.dropna()\n",
    "print(trainset.shape)\n",
    "\n",
    "trainset = trainset.iloc[np.random.permutation(len(trainset))]\n",
    "trainset = trainset.reset_index(drop=True)"
   ]
  },
  {
   "cell_type": "code",
   "execution_count": 105,
   "metadata": {},
   "outputs": [
    {
     "name": "stdout",
     "output_type": "stream",
     "text": [
      "(3190, 34)\n"
     ]
    }
   ],
   "source": [
    "testset = test_data\n",
    "#testset = testset.dropna()\n",
    "print(testset.shape)\n",
    "\n",
    "#testset = testset.iloc[np.random.permutation(len(testset))]\n",
    "#testset = testset.reset_index(drop=True)"
   ]
  },
  {
   "cell_type": "code",
   "execution_count": 106,
   "metadata": {},
   "outputs": [
    {
     "name": "stdout",
     "output_type": "stream",
     "text": [
      "[6.296e+03 5.303e+00 6.113e+00 1.101e+01 4.195e-01 8.651e+00 7.961e-01\n",
      " 1.196e+01 7.962e+01 1.091e+01 1.893e+06 1.978e+00 3.867e+01 3.972e+01\n",
      " 3.934e+01 3.848e+01 7.948e+01 8.593e+01 1.252e+01 3.566e-01 3.684e-01\n",
      " 2.202e+00 7.831e+00 1.825e-02 2.784e+00 4.078e+00 2.358e+01 2.826e+00\n",
      " 1.584e-01 2.914e-01 4.053e+01 1.988e+02 3.724e+01 2.776e+02]\n",
      "[[1.118e+04 8.502e+04 6.500e+01 7.600e+01]\n",
      " [9.927e+03 4.000e+01 1.500e+01 8.400e+01]\n",
      " [4.110e+02 4.600e+01 4.500e+01 8.400e+01]\n",
      " [2.770e+03 1.014e+04 2.500e+01 9.500e+01]\n",
      " [1.121e+04 2.804e+04 5.500e+01 6.000e+01]]\n"
     ]
    },
    {
     "data": {
      "text/plain": [
       "array([ 0, 10, 31, 33], dtype=int64)"
      ]
     },
     "execution_count": 106,
     "metadata": {},
     "output_type": "execute_result"
    }
   ],
   "source": [
    "# Feature Extraction with Univariate Statistical Tests (Chi-squared for classification)\n",
    "from sklearn.feature_selection import SelectKBest\n",
    "from sklearn.feature_selection import chi2\n",
    "\n",
    "array = trainset.values\n",
    "X = array[:,0:array.shape[1]-1]\n",
    "X = np.asarray(X)\n",
    "Y = array[:,array.shape[1]-1]\n",
    "Y = np.asarray(Y)\n",
    "\n",
    "# feature extraction\n",
    "chi2_test = SelectKBest(score_func=chi2, k=4)\n",
    "fit = chi2_test.fit(X, Y)\n",
    "\n",
    "# summarize scores\n",
    "np.set_printoptions(precision=3)\n",
    "print(fit.scores_)\n",
    "features = fit.transform(X)\n",
    "\n",
    "# summarize selected features\n",
    "print(features[0:5,:])\n",
    "chi2_test.get_support(indices=True)\n",
    "# keep selected feature names\n",
    "features = [X[i] for i in chi2_test.get_support(indices=True)]\n",
    "features\n",
    "chi2_test.get_support(indices=True)"
   ]
  },
  {
   "cell_type": "code",
   "execution_count": 107,
   "metadata": {},
   "outputs": [
    {
     "data": {
      "text/plain": [
       "Index(['ID', 'ZipCode', 'CustomerAge', 'Province'], dtype='object')"
      ]
     },
     "execution_count": 107,
     "metadata": {},
     "output_type": "execute_result"
    }
   ],
   "source": [
    "train_data.columns[chi2_test.get_support(indices=True)]"
   ]
  },
  {
   "cell_type": "code",
   "execution_count": 206,
   "metadata": {},
   "outputs": [],
   "source": [
    "def features_labels_split(data, k):\n",
    "    \n",
    "    array = trainset.values\n",
    "    X = array[:,0:array.shape[1]-1]\n",
    "    X = np.asarray(X)\n",
    "    Y = array[:,array.shape[1]-1]\n",
    "    Y = np.asarray(Y)\n",
    "    \n",
    "    # feature extraction\n",
    "    chi2_test = SelectKBest(score_func=chi2, k=k)\n",
    "    fit = chi2_test.fit(X, Y)\n",
    "\n",
    "    # summarize scores\n",
    "    np.set_printoptions(precision=3)\n",
    "    print(fit.scores_)\n",
    "    features = fit.transform(X)\n",
    "    \n",
    "    features = data[data.columns[chi2_test.get_support(indices=True)]]\n",
    "    if('Product' in data.columns):\n",
    "        labels = data['Product']\n",
    "        return features, labels\n",
    "    return features"
   ]
  },
  {
   "cell_type": "code",
   "execution_count": null,
   "metadata": {},
   "outputs": [],
   "source": []
  },
  {
   "cell_type": "code",
   "execution_count": null,
   "metadata": {},
   "outputs": [],
   "source": []
  },
  {
   "cell_type": "code",
   "execution_count": null,
   "metadata": {},
   "outputs": [],
   "source": []
  },
  {
   "cell_type": "code",
   "execution_count": null,
   "metadata": {},
   "outputs": [],
   "source": []
  },
  {
   "cell_type": "code",
   "execution_count": 52,
   "metadata": {},
   "outputs": [],
   "source": [
    "ì'''def features_labels_split(data):\n",
    "    \n",
    "    features = data[['ID', 'DeviceFlag4G', \n",
    "       'DeviceFlagSmartphone',   'CustomerGender',\n",
    "       'CustomerExpatriate', \n",
    "       'AirportConnectionsDuration', 'AirportConnectionsCount',\n",
    "       'StationConnectionsDuration', 'StationConnectionsCount',\n",
    "       'ParkingConnectionsDuration', 'ParkingConnectionsCount',\n",
    "       'File-Transfer', 'Games', 'Instant-Messaging-Applications', 'Mail',\n",
    "       'Music-Streaming', 'Network-Operation', 'P2P-Applications', 'Security',\n",
    "       'Streaming-Applications', 'Terminals', 'Unclassified', 'VoIP',\n",
    "       'Web-Applications']]\n",
    "    if('Product' in data.columns):\n",
    "        labels = data['Product']\n",
    "        return features, labels\n",
    "    return features'''"
   ]
  },
  {
   "cell_type": "code",
   "execution_count": 53,
   "metadata": {},
   "outputs": [
    {
     "data": {
      "text/plain": [
       "\"def features_labels_split(data):\\n    \\n    features = data[['ID', 'DataAllowanceContinuous', 'MonthlyDataTraffic', 'CustomerGender',\\n                     'CustomerExpatriate', 'ZipCode', 'Web-Applications', 'CustomerAge', 'Region', 'Province']]\\n    if('Product' in data.columns):\\n        labels = data['Product']\\n        return features, labels\\n    return features\""
      ]
     },
     "execution_count": 53,
     "metadata": {},
     "output_type": "execute_result"
    }
   ],
   "source": [
    "'''def features_labels_split(data):\n",
    "    \n",
    "    features = data[['ID', 'DataAllowanceContinuous', 'MonthlyDataTraffic', 'CustomerGender',\n",
    "                     'CustomerExpatriate', 'ZipCode', 'Web-Applications', 'CustomerAge', 'Region', 'Province']]\n",
    "    if('Product' in data.columns):\n",
    "        labels = data['Product']\n",
    "        return features, labels\n",
    "    return features'''"
   ]
  },
  {
   "cell_type": "code",
   "execution_count": 207,
   "metadata": {},
   "outputs": [],
   "source": [
    "from sklearn.preprocessing import MinMaxScaler\n",
    "from sklearn.preprocessing import StandardScaler\n",
    "def standardize_features(features):\n",
    "\n",
    "    scaler = StandardScaler().fit(features)\n",
    "    features = scaler.transform(features)\n",
    "    return features"
   ]
  },
  {
   "cell_type": "code",
   "execution_count": 208,
   "metadata": {},
   "outputs": [],
   "source": [
    "def train_test_validation_split(features, labels, val_samples, test_samples):\n",
    "\n",
    "    features = np.asarray(features)\n",
    "    labels =np.asarray(labels)\n",
    "    \n",
    "    X_test = features[0:test_samples]\n",
    "    y_test = labels[0:test_samples]\n",
    "\n",
    "    X_val = features[test_samples:test_samples + val_samples]\n",
    "    y_val = labels[test_samples:test_samples + val_samples]\n",
    "\n",
    "    X_train = features[test_samples + val_samples:]\n",
    "    y_train = labels[test_samples + val_samples:]\n",
    "\n",
    "    return X_train, X_test, X_val, y_train, y_test, y_val"
   ]
  },
  {
   "cell_type": "code",
   "execution_count": 209,
   "metadata": {},
   "outputs": [
    {
     "name": "stdout",
     "output_type": "stream",
     "text": [
      "[6.296e+03 5.303e+00 6.113e+00 1.101e+01 4.195e-01 8.651e+00 7.961e-01\n",
      " 1.196e+01 7.962e+01 1.091e+01 1.893e+06 1.978e+00 3.867e+01 3.972e+01\n",
      " 3.934e+01 3.848e+01 7.948e+01 8.593e+01 1.252e+01 3.566e-01 3.684e-01\n",
      " 2.202e+00 7.831e+00 1.825e-02 2.784e+00 4.078e+00 2.358e+01 2.826e+00\n",
      " 1.584e-01 2.914e-01 4.053e+01 1.988e+02 3.724e+01 2.776e+02]\n"
     ]
    }
   ],
   "source": [
    "train_feat, train_label = features_labels_split(trainset,5)"
   ]
  },
  {
   "cell_type": "code",
   "execution_count": 210,
   "metadata": {},
   "outputs": [
    {
     "data": {
      "text/plain": [
       "(6160, 35)"
      ]
     },
     "execution_count": 210,
     "metadata": {},
     "output_type": "execute_result"
    }
   ],
   "source": [
    "trainset.shape"
   ]
  },
  {
   "cell_type": "code",
   "execution_count": 211,
   "metadata": {},
   "outputs": [],
   "source": [
    "num_val_samples = 0\n",
    "num_test_samples = 616\n",
    "X_train, X_test, X_val, y_train, y_test, y_val = train_test_validation_split(train_feat, train_label, num_val_samples, num_test_samples)"
   ]
  },
  {
   "cell_type": "code",
   "execution_count": null,
   "metadata": {},
   "outputs": [],
   "source": []
  },
  {
   "cell_type": "code",
   "execution_count": null,
   "metadata": {},
   "outputs": [],
   "source": []
  },
  {
   "cell_type": "code",
   "execution_count": null,
   "metadata": {},
   "outputs": [],
   "source": []
  },
  {
   "cell_type": "code",
   "execution_count": 212,
   "metadata": {},
   "outputs": [
    {
     "data": {
      "text/plain": [
       "(9567, 35)"
      ]
     },
     "execution_count": 212,
     "metadata": {},
     "output_type": "execute_result"
    }
   ],
   "source": [
    "train_data.shape"
   ]
  },
  {
   "cell_type": "code",
   "execution_count": 213,
   "metadata": {},
   "outputs": [
    {
     "name": "stdout",
     "output_type": "stream",
     "text": [
      "[0]\tvalidation_0-mlogloss:1.33533\n",
      "Will train until validation_0-mlogloss hasn't improved in 10 rounds.\n",
      "[1]\tvalidation_0-mlogloss:1.2933\n",
      "[2]\tvalidation_0-mlogloss:1.25687\n",
      "[3]\tvalidation_0-mlogloss:1.22597\n",
      "[4]\tvalidation_0-mlogloss:1.19952\n",
      "[5]\tvalidation_0-mlogloss:1.17636\n",
      "[6]\tvalidation_0-mlogloss:1.15704\n",
      "[7]\tvalidation_0-mlogloss:1.13955\n",
      "[8]\tvalidation_0-mlogloss:1.12428\n",
      "[9]\tvalidation_0-mlogloss:1.11111\n",
      "[10]\tvalidation_0-mlogloss:1.09831\n",
      "[11]\tvalidation_0-mlogloss:1.08769\n",
      "[12]\tvalidation_0-mlogloss:1.07857\n",
      "[13]\tvalidation_0-mlogloss:1.06932\n",
      "[14]\tvalidation_0-mlogloss:1.06215\n",
      "[15]\tvalidation_0-mlogloss:1.05481\n",
      "[16]\tvalidation_0-mlogloss:1.04909\n",
      "[17]\tvalidation_0-mlogloss:1.04384\n",
      "[18]\tvalidation_0-mlogloss:1.03877\n",
      "[19]\tvalidation_0-mlogloss:1.03358\n",
      "[20]\tvalidation_0-mlogloss:1.0297\n",
      "[21]\tvalidation_0-mlogloss:1.02558\n",
      "[22]\tvalidation_0-mlogloss:1.02234\n",
      "[23]\tvalidation_0-mlogloss:1.01876\n",
      "[24]\tvalidation_0-mlogloss:1.01564\n",
      "[25]\tvalidation_0-mlogloss:1.0133\n",
      "[26]\tvalidation_0-mlogloss:1.01094\n",
      "[27]\tvalidation_0-mlogloss:1.00848\n",
      "[28]\tvalidation_0-mlogloss:1.0064\n",
      "[29]\tvalidation_0-mlogloss:1.00438\n",
      "[30]\tvalidation_0-mlogloss:1.00289\n",
      "[31]\tvalidation_0-mlogloss:1.001\n",
      "[32]\tvalidation_0-mlogloss:0.999802\n",
      "[33]\tvalidation_0-mlogloss:0.998065\n",
      "[34]\tvalidation_0-mlogloss:0.996841\n",
      "[35]\tvalidation_0-mlogloss:0.994972\n",
      "[36]\tvalidation_0-mlogloss:0.993956\n",
      "[37]\tvalidation_0-mlogloss:0.992637\n",
      "[38]\tvalidation_0-mlogloss:0.991684\n",
      "[39]\tvalidation_0-mlogloss:0.99083\n",
      "[40]\tvalidation_0-mlogloss:0.989898\n",
      "[41]\tvalidation_0-mlogloss:0.988885\n",
      "[42]\tvalidation_0-mlogloss:0.987956\n",
      "[43]\tvalidation_0-mlogloss:0.987131\n",
      "[44]\tvalidation_0-mlogloss:0.986149\n",
      "[45]\tvalidation_0-mlogloss:0.985263\n",
      "[46]\tvalidation_0-mlogloss:0.984084\n",
      "[47]\tvalidation_0-mlogloss:0.983536\n",
      "[48]\tvalidation_0-mlogloss:0.982772\n",
      "[49]\tvalidation_0-mlogloss:0.981881\n",
      "[50]\tvalidation_0-mlogloss:0.981471\n",
      "[51]\tvalidation_0-mlogloss:0.980599\n",
      "[52]\tvalidation_0-mlogloss:0.980202\n",
      "[53]\tvalidation_0-mlogloss:0.979132\n",
      "[54]\tvalidation_0-mlogloss:0.97872\n",
      "[55]\tvalidation_0-mlogloss:0.978266\n",
      "[56]\tvalidation_0-mlogloss:0.977858\n",
      "[57]\tvalidation_0-mlogloss:0.977266\n",
      "[58]\tvalidation_0-mlogloss:0.976489\n",
      "[59]\tvalidation_0-mlogloss:0.975904\n",
      "[60]\tvalidation_0-mlogloss:0.975466\n",
      "[61]\tvalidation_0-mlogloss:0.974835\n",
      "[62]\tvalidation_0-mlogloss:0.974324\n",
      "[63]\tvalidation_0-mlogloss:0.974095\n",
      "[64]\tvalidation_0-mlogloss:0.973936\n",
      "[65]\tvalidation_0-mlogloss:0.973842\n",
      "[66]\tvalidation_0-mlogloss:0.973121\n",
      "[67]\tvalidation_0-mlogloss:0.972354\n",
      "[68]\tvalidation_0-mlogloss:0.971959\n",
      "[69]\tvalidation_0-mlogloss:0.97168\n",
      "[70]\tvalidation_0-mlogloss:0.971509\n",
      "[71]\tvalidation_0-mlogloss:0.971077\n",
      "[72]\tvalidation_0-mlogloss:0.970498\n",
      "[73]\tvalidation_0-mlogloss:0.970187\n",
      "[74]\tvalidation_0-mlogloss:0.969916\n",
      "[75]\tvalidation_0-mlogloss:0.969724\n",
      "[76]\tvalidation_0-mlogloss:0.969608\n",
      "[77]\tvalidation_0-mlogloss:0.96916\n",
      "[78]\tvalidation_0-mlogloss:0.968564\n",
      "[79]\tvalidation_0-mlogloss:0.968426\n",
      "[80]\tvalidation_0-mlogloss:0.967898\n",
      "[81]\tvalidation_0-mlogloss:0.967536\n",
      "[82]\tvalidation_0-mlogloss:0.967535\n",
      "[83]\tvalidation_0-mlogloss:0.967477\n",
      "[84]\tvalidation_0-mlogloss:0.966875\n",
      "[85]\tvalidation_0-mlogloss:0.966735\n",
      "[86]\tvalidation_0-mlogloss:0.966578\n",
      "[87]\tvalidation_0-mlogloss:0.96647\n",
      "[88]\tvalidation_0-mlogloss:0.966194\n",
      "[89]\tvalidation_0-mlogloss:0.965955\n",
      "[90]\tvalidation_0-mlogloss:0.965608\n",
      "[91]\tvalidation_0-mlogloss:0.965651\n",
      "[92]\tvalidation_0-mlogloss:0.965168\n",
      "[93]\tvalidation_0-mlogloss:0.965136\n",
      "[94]\tvalidation_0-mlogloss:0.964632\n",
      "[95]\tvalidation_0-mlogloss:0.964746\n",
      "[96]\tvalidation_0-mlogloss:0.964798\n",
      "[97]\tvalidation_0-mlogloss:0.964515\n",
      "[98]\tvalidation_0-mlogloss:0.964503\n",
      "[99]\tvalidation_0-mlogloss:0.964312\n",
      "Accuracy: 61.18%\n"
     ]
    },
    {
     "name": "stderr",
     "output_type": "stream",
     "text": [
      "C:\\Users\\giano\\Anaconda3\\envs\\voda\\lib\\site-packages\\sklearn\\preprocessing\\label.py:151: DeprecationWarning: The truth value of an empty array is ambiguous. Returning False, but in future this will result in an error. Use `array.size > 0` to check that an array is not empty.\n",
      "  if diff:\n"
     ]
    }
   ],
   "source": [
    "from xgboost import XGBClassifier\n",
    "from sklearn.model_selection import train_test_split\n",
    "from sklearn.metrics import accuracy_score\n",
    "\n",
    "# split data into X and y\n",
    "array = train_data.values\n",
    "X = array[:,0:array.shape[1]-1]\n",
    "X = np.asarray(X)\n",
    "Y = array[:,array.shape[1]-1]\n",
    "Y = np.asarray(Y)\n",
    "# split data into train and test sets\n",
    "seed = 7\n",
    "test_size = 0.33\n",
    "X_train, X_test, y_train, y_test = train_test_split(X, Y, test_size=test_size, random_state=seed)\n",
    "# fit model on training data\n",
    "model = XGBClassifier()\n",
    "eval_set = [(X_test, y_test)]\n",
    "model.fit(X_train, y_train, early_stopping_rounds=10, eval_metric=\"mlogloss\", eval_set=eval_set, verbose=True)\n",
    "# make predictions for test data\n",
    "y_pred = model.predict(X_test)\n",
    "predictions = [round(value) for value in y_pred]\n",
    "# evaluate predictions\n",
    "accuracy = accuracy_score(y_test, predictions)\n",
    "print(\"Accuracy: %.2f%%\" % (accuracy * 100.0))"
   ]
  },
  {
   "cell_type": "code",
   "execution_count": 214,
   "metadata": {},
   "outputs": [
    {
     "data": {
      "image/png": "[encoded data removed]",
      "text/plain": [
       "<Figure size 432x288 with 1 Axes>"
      ]
     },
     "metadata": {},
     "output_type": "display_data"
    }
   ],
   "source": [
    "from xgboost import XGBClassifier\n",
    "from xgboost import plot_importance\n",
    "from matplotlib import pyplot\n",
    "import matplotlib.pyplot as plt\n",
    "# split data into X and y\n",
    "X = trainset.drop('Product', 1)\n",
    "Y = trainset['Product']\n",
    "# fit model on training data\n",
    "model = XGBClassifier()\n",
    "model.fit(X, Y)\n",
    "# plot feature importance\n",
    "plot_importance(model)\n",
    "plt.show()"
   ]
  },
  {
   "cell_type": "code",
   "execution_count": null,
   "metadata": {},
   "outputs": [],
   "source": []
  },
  {
   "cell_type": "code",
   "execution_count": 215,
   "metadata": {},
   "outputs": [
    {
     "name": "stdout",
     "output_type": "stream",
     "text": [
      "[6.296e+03 5.303e+00 6.113e+00 1.101e+01 4.195e-01 8.651e+00 7.961e-01\n",
      " 1.196e+01 7.962e+01 1.091e+01 1.893e+06 1.978e+00 3.867e+01 3.972e+01\n",
      " 3.934e+01 3.848e+01 7.948e+01 8.593e+01 1.252e+01 3.566e-01 3.684e-01\n",
      " 2.202e+00 7.831e+00 1.825e-02 2.784e+00 4.078e+00 2.358e+01 2.826e+00\n",
      " 1.584e-01 2.914e-01 4.053e+01 1.988e+02 3.724e+01 2.776e+02]\n",
      "[6.296e+03 5.303e+00 6.113e+00 1.101e+01 4.195e-01 8.651e+00 7.961e-01\n",
      " 1.196e+01 7.962e+01 1.091e+01 1.893e+06 1.978e+00 3.867e+01 3.972e+01\n",
      " 3.934e+01 3.848e+01 7.948e+01 8.593e+01 1.252e+01 3.566e-01 3.684e-01\n",
      " 2.202e+00 7.831e+00 1.825e-02 2.784e+00 4.078e+00 2.358e+01 2.826e+00\n",
      " 1.584e-01 2.914e-01 4.053e+01 1.988e+02 3.724e+01 2.776e+02]\n"
     ]
    }
   ],
   "source": [
    "train_feat, train_label = features_labels_split(trainset,5)\n",
    "test_feat = features_labels_split(testset,5)"
   ]
  },
  {
   "cell_type": "code",
   "execution_count": 216,
   "metadata": {},
   "outputs": [],
   "source": [
    "from xgboost import XGBClassifier\n",
    "from sklearn.model_selection import GridSearchCV\n",
    "from sklearn.model_selection import StratifiedKFold\n",
    "\n",
    "def fit_model(k):\n",
    "    # split data into X and y\n",
    "    '''array = trainset.values\n",
    "    X = array[:,0:array.shape[1]-1]\n",
    "    X = np.asarray(X)\n",
    "    Y = array[:,array.shape[1]-1]\n",
    "    Y = np.asarray(Y)\n",
    "\n",
    "    X = trainset.drop('Product', 1)\n",
    "    Y = trainset['Product']'''\n",
    "\n",
    "    train_feat, train_label = features_labels_split(trainset,k)\n",
    "    test_feat = features_labels_split(testset,k)\n",
    "\n",
    "    X = train_feat\n",
    "    Y = train_label\n",
    "\n",
    "    #num_val_samples = 0\n",
    "    #num_test_samples = 616\n",
    "    #X_train, X_test, X_val, y_train, y_test, y_val = train_test_validation_split(train_feat, train_label, num_val_samples, num_test_samples)\n",
    "    # split data into train and test sets\n",
    "    seed = 7\n",
    "    test_size = 0.33\n",
    "    X_train, X_test, y_train, y_test = train_test_split(X, Y, test_size=test_size, random_state=seed)\n",
    "\n",
    "    # grid search\n",
    "    model = XGBClassifier()\n",
    "\n",
    "    #learning_rate = [0.0001, 0.001, 0.01, 0.1, 0.2, 0.3]\n",
    "    learning_rate = [0.2]\n",
    "    #n_estimators = [50, 100, 150, 200]\n",
    "    n_estimators = [50]\n",
    "    #max_depth = [2, 4, 6, 8]\n",
    "    max_depth = [4]\n",
    "    param_grid = dict(learning_rate=learning_rate, max_depth=max_depth, n_estimators=n_estimators)\n",
    "\n",
    "    kfold = StratifiedKFold(n_splits=10, shuffle=True, random_state=7)\n",
    "    grid_search = GridSearchCV(model, param_grid, scoring=\"neg_log_loss\", n_jobs=-1, cv=kfold, verbose=1)\n",
    "    grid_result = grid_search.fit(X, Y)\n",
    "    # summarize results\n",
    "    print(\"Best: %f using %s\" % (grid_result.best_score_, grid_result.best_params_))\n",
    "    means = grid_result.cv_results_['mean_test_score']\n",
    "    stds = grid_result.cv_results_['std_test_score']\n",
    "    params = grid_result.cv_results_['params']\n",
    "    for mean, stdev, param in zip(means, stds, params):\n",
    "        print(\"%f (%f) with: %r\" % (mean, stdev, param))\n",
    "    return grid_result,X_train, X_test, y_train, y_test"
   ]
  },
  {
   "cell_type": "code",
   "execution_count": null,
   "metadata": {},
   "outputs": [],
   "source": []
  },
  {
   "cell_type": "code",
   "execution_count": 180,
   "metadata": {},
   "outputs": [
    {
     "data": {
      "text/plain": [
       "(GridSearchCV(cv=StratifiedKFold(n_splits=10, random_state=7, shuffle=True),\n",
       "        error_score='raise',\n",
       "        estimator=XGBClassifier(base_score=0.5, booster='gbtree', colsample_bylevel=1,\n",
       "        colsample_bytree=1, gamma=0, learning_rate=0.1, max_delta_step=0,\n",
       "        max_depth=3, min_child_weight=1, missing=None, n_estimators=100,\n",
       "        n_jobs=1, nthread=None, objective='binary:logistic', random_state=0,\n",
       "        reg_alpha=0, reg_lambda=1, scale_pos_weight=1, seed=None,\n",
       "        silent=True, subsample=1),\n",
       "        fit_params=None, iid=True, n_jobs=-1,\n",
       "        param_grid={'learning_rate': [0.2], 'max_depth': [4], 'n_estimators': [50]},\n",
       "        pre_dispatch='2*n_jobs', refit=True, return_train_score='warn',\n",
       "        scoring='neg_log_loss', verbose=1),\n",
       " XGBClassifier(base_score=0.5, booster='gbtree', colsample_bylevel=1,\n",
       "        colsample_bytree=1, gamma=0, learning_rate=0.1, max_delta_step=0,\n",
       "        max_depth=3, min_child_weight=1, missing=None, n_estimators=100,\n",
       "        n_jobs=1, nthread=None, objective='binary:logistic', random_state=0,\n",
       "        reg_alpha=0, reg_lambda=1, scale_pos_weight=1, seed=None,\n",
       "        silent=True, subsample=1),\n",
       " GridSearchCV(cv=StratifiedKFold(n_splits=10, random_state=7, shuffle=True),\n",
       "        error_score='raise',\n",
       "        estimator=XGBClassifier(base_score=0.5, booster='gbtree', colsample_bylevel=1,\n",
       "        colsample_bytree=1, gamma=0, learning_rate=0.1, max_delta_step=0,\n",
       "        max_depth=3, min_child_weight=1, missing=None, n_estimators=100,\n",
       "        n_jobs=1, nthread=None, objective='binary:logistic', random_state=0,\n",
       "        reg_alpha=0, reg_lambda=1, scale_pos_weight=1, seed=None,\n",
       "        silent=True, subsample=1),\n",
       "        fit_params=None, iid=True, n_jobs=-1,\n",
       "        param_grid={'learning_rate': [0.2], 'max_depth': [4], 'n_estimators': [50]},\n",
       "        pre_dispatch='2*n_jobs', refit=True, return_train_score='warn',\n",
       "        scoring='neg_log_loss', verbose=1))"
      ]
     },
     "execution_count": 180,
     "metadata": {},
     "output_type": "execute_result"
    }
   ],
   "source": [
    "grid_result, model, grid_search"
   ]
  },
  {
   "cell_type": "code",
   "execution_count": 217,
   "metadata": {},
   "outputs": [
    {
     "data": {
      "text/plain": [
       "int"
      ]
     },
     "execution_count": 217,
     "metadata": {},
     "output_type": "execute_result"
    }
   ],
   "source": [
    "type(len(train_data.columns))"
   ]
  },
  {
   "cell_type": "code",
   "execution_count": 221,
   "metadata": {},
   "outputs": [
    {
     "name": "stdout",
     "output_type": "stream",
     "text": [
      "[6.296e+03 5.303e+00 6.113e+00 1.101e+01 4.195e-01 8.651e+00 7.961e-01\n",
      " 1.196e+01 7.962e+01 1.091e+01 1.893e+06 1.978e+00 3.867e+01 3.972e+01\n",
      " 3.934e+01 3.848e+01 7.948e+01 8.593e+01 1.252e+01 3.566e-01 3.684e-01\n",
      " 2.202e+00 7.831e+00 1.825e-02 2.784e+00 4.078e+00 2.358e+01 2.826e+00\n",
      " 1.584e-01 2.914e-01 4.053e+01 1.988e+02 3.724e+01 2.776e+02]\n",
      "[6.296e+03 5.303e+00 6.113e+00 1.101e+01 4.195e-01 8.651e+00 7.961e-01\n",
      " 1.196e+01 7.962e+01 1.091e+01 1.893e+06 1.978e+00 3.867e+01 3.972e+01\n",
      " 3.934e+01 3.848e+01 7.948e+01 8.593e+01 1.252e+01 3.566e-01 3.684e-01\n",
      " 2.202e+00 7.831e+00 1.825e-02 2.784e+00 4.078e+00 2.358e+01 2.826e+00\n",
      " 1.584e-01 2.914e-01 4.053e+01 1.988e+02 3.724e+01 2.776e+02]\n",
      "Fitting 10 folds for each of 1 candidates, totalling 10 fits\n"
     ]
    },
    {
     "name": "stderr",
     "output_type": "stream",
     "text": [
      "[Parallel(n_jobs=-1)]: Done   6 out of  10 | elapsed:    4.2s remaining:    2.8s\n",
      "[Parallel(n_jobs=-1)]: Done  10 out of  10 | elapsed:    5.3s finished\n"
     ]
    },
    {
     "name": "stdout",
     "output_type": "stream",
     "text": [
      "Best: -0.971169 using {'learning_rate': 0.2, 'max_depth': 4, 'n_estimators': 50}\n",
      "-0.971169 (0.007465) with: {'learning_rate': 0.2, 'max_depth': 4, 'n_estimators': 50}\n"
     ]
    },
    {
     "ename": "TypeError",
     "evalue": "'GridSearchCV' object is not iterable",
     "output_type": "error",
     "traceback": [
      "\u001b[1;31m---------------------------------------------------------------------------\u001b[0m",
      "\u001b[1;31mTypeError\u001b[0m                                 Traceback (most recent call last)",
      "\u001b[1;32m<ipython-input-221-279a05de0cc2>\u001b[0m in \u001b[0;36m<module>\u001b[1;34m()\u001b[0m\n\u001b[0;32m      1\u001b[0m \u001b[1;32mfor\u001b[0m \u001b[0mk\u001b[0m \u001b[1;32min\u001b[0m \u001b[0mrange\u001b[0m \u001b[1;33m(\u001b[0m\u001b[0mlen\u001b[0m\u001b[1;33m(\u001b[0m\u001b[0mtrain_data\u001b[0m\u001b[1;33m.\u001b[0m\u001b[0mcolumns\u001b[0m\u001b[1;33m)\u001b[0m\u001b[1;33m-\u001b[0m\u001b[1;36m1\u001b[0m\u001b[1;33m)\u001b[0m\u001b[1;33m:\u001b[0m\u001b[1;33m\u001b[0m\u001b[0m\n\u001b[1;32m----> 2\u001b[1;33m     \u001b[0mgrid_result\u001b[0m\u001b[1;33m,\u001b[0m\u001b[0mgrid_result\u001b[0m\u001b[1;33m,\u001b[0m\u001b[0mX_train\u001b[0m\u001b[1;33m,\u001b[0m \u001b[0mX_test\u001b[0m\u001b[1;33m,\u001b[0m \u001b[0my_train\u001b[0m\u001b[1;33m,\u001b[0m \u001b[0my_test\u001b[0m \u001b[1;33m=\u001b[0m\u001b[0mfit_model\u001b[0m\u001b[1;33m(\u001b[0m\u001b[1;36m4\u001b[0m\u001b[1;33m)\u001b[0m\u001b[1;33m\u001b[0m\u001b[0m\n\u001b[0m\u001b[0;32m      3\u001b[0m     \u001b[0my_pred\u001b[0m \u001b[1;33m=\u001b[0m \u001b[0mgrid_result\u001b[0m\u001b[1;33m.\u001b[0m\u001b[0mpredict\u001b[0m\u001b[1;33m(\u001b[0m\u001b[0mX_test\u001b[0m\u001b[1;33m)\u001b[0m\u001b[1;33m\u001b[0m\u001b[0m\n\u001b[0;32m      4\u001b[0m     \u001b[0mpredictions\u001b[0m \u001b[1;33m=\u001b[0m \u001b[1;33m[\u001b[0m\u001b[0mround\u001b[0m\u001b[1;33m(\u001b[0m\u001b[0mvalue\u001b[0m\u001b[1;33m)\u001b[0m \u001b[1;32mfor\u001b[0m \u001b[0mvalue\u001b[0m \u001b[1;32min\u001b[0m \u001b[0my_pred\u001b[0m\u001b[1;33m]\u001b[0m\u001b[1;33m\u001b[0m\u001b[0m\n\u001b[0;32m      5\u001b[0m     \u001b[1;31m# evaluate predictions\u001b[0m\u001b[1;33m\u001b[0m\u001b[1;33m\u001b[0m\u001b[0m\n",
      "\u001b[1;31mTypeError\u001b[0m: 'GridSearchCV' object is not iterable"
     ]
    }
   ],
   "source": [
    "for k in range (len(train_data.columns)-1):\n",
    "    grid_result,grid_result,X_train, X_test, y_train, y_test =fit_model(4)\n",
    "    y_pred = grid_result.predict(X_test)\n",
    "    predictions = [round(value) for value in y_pred]\n",
    "    # evaluate predictions\n",
    "    accuracy = accuracy_score(y_test, predictions)\n",
    "    print(\"Accuracy: %.2f%% with k = %.2f\" % (accuracy * 100.0, k))"
   ]
  },
  {
   "cell_type": "code",
   "execution_count": 182,
   "metadata": {},
   "outputs": [
    {
     "data": {
      "text/plain": [
       "(array([[2.710e+02, 0.000e+00, 1.551e-01, ..., 2.500e+01, 1.200e+01,\n",
       "         7.000e+00],\n",
       "        [6.929e+03, 0.000e+00, 1.086e-01, ..., 2.500e+01, 3.000e+00,\n",
       "         5.900e+01],\n",
       "        [7.381e+03, 0.000e+00, 2.635e-01, ..., 5.500e+01, 1.500e+01,\n",
       "         4.900e+01],\n",
       "        ...,\n",
       "        [9.569e+03, 1.000e+00, 1.551e-01, ..., 4.500e+01,       nan,\n",
       "               nan],\n",
       "        [5.218e+03, 0.000e+00, 1.551e-01, ..., 5.500e+01, 1.200e+01,\n",
       "         1.600e+01],\n",
       "        [1.046e+04, 0.000e+00,       nan, ..., 4.500e+01, 3.000e+00,\n",
       "         5.900e+01]]), (2033,))"
      ]
     },
     "execution_count": 182,
     "metadata": {},
     "output_type": "execute_result"
    }
   ],
   "source": [
    "array_test = testset.values\n",
    "X_test_data = array_test[:,0:array_test.shape[1]]\n",
    "X_test_data = np.asarray(X_test_data)\n",
    "X_test_data, y_test.shape"
   ]
  },
  {
   "cell_type": "code",
   "execution_count": null,
   "metadata": {},
   "outputs": [],
   "source": []
  },
  {
   "cell_type": "code",
   "execution_count": 183,
   "metadata": {},
   "outputs": [
    {
     "name": "stderr",
     "output_type": "stream",
     "text": [
      "C:\\Users\\giano\\Anaconda3\\envs\\voda\\lib\\site-packages\\sklearn\\preprocessing\\label.py:151: DeprecationWarning: The truth value of an empty array is ambiguous. Returning False, but in future this will result in an error. Use `array.size > 0` to check that an array is not empty.\n",
      "  if diff:\n"
     ]
    }
   ],
   "source": [
    "y_pred_new_data = grid_result.predict(test_feat)\n",
    "predictions = [round(value) for value in y_pred_new_data]\n",
    "# evaluate predictions\n",
    "#accuracy = accuracy_score(y_test, predictions)\n",
    "#print(\"Accuracy: %.2f%%\" % (accuracy * 100.0))"
   ]
  },
  {
   "cell_type": "code",
   "execution_count": 184,
   "metadata": {},
   "outputs": [
    {
     "name": "stdout",
     "output_type": "stream",
     "text": [
      "F1 score on unseen data: 67.290%\n"
     ]
    }
   ],
   "source": [
    "from sklearn.metrics import f1_score\n",
    "print(\"F1 score on unseen data: %.3f%%\" % (f1_score(y_test, y_pred_new_data[0:2033], average='micro')*100))"
   ]
  },
  {
   "cell_type": "code",
   "execution_count": 185,
   "metadata": {},
   "outputs": [
    {
     "data": {
      "text/plain": [
       "(3190,)"
      ]
     },
     "execution_count": 185,
     "metadata": {},
     "output_type": "execute_result"
    }
   ],
   "source": [
    "y_pred_new_data.shape"
   ]
  },
  {
   "cell_type": "code",
   "execution_count": 158,
   "metadata": {},
   "outputs": [
    {
     "data": {
      "text/html": [
       "<div>\n",
       "<style scoped>\n",
       "    .dataframe tbody tr th:only-of-type {\n",
       "        vertical-align: middle;\n",
       "    }\n",
       "\n",
       "    .dataframe tbody tr th {\n",
       "        vertical-align: top;\n",
       "    }\n",
       "\n",
       "    .dataframe thead th {\n",
       "        text-align: right;\n",
       "    }\n",
       "</style>\n",
       "<table border=\"1\" class=\"dataframe\">\n",
       "  <thead>\n",
       "    <tr style=\"text-align: right;\">\n",
       "      <th></th>\n",
       "      <th>ID</th>\n",
       "      <th>Product</th>\n",
       "    </tr>\n",
       "  </thead>\n",
       "  <tbody>\n",
       "    <tr>\n",
       "      <th>0</th>\n",
       "      <td>271</td>\n",
       "      <td>Non-Customer</td>\n",
       "    </tr>\n",
       "    <tr>\n",
       "      <th>1</th>\n",
       "      <td>6929</td>\n",
       "      <td>Non-Customer</td>\n",
       "    </tr>\n",
       "    <tr>\n",
       "      <th>2</th>\n",
       "      <td>7381</td>\n",
       "      <td>Non-Customer</td>\n",
       "    </tr>\n",
       "    <tr>\n",
       "      <th>3</th>\n",
       "      <td>4408</td>\n",
       "      <td>Non-Customer</td>\n",
       "    </tr>\n",
       "    <tr>\n",
       "      <th>4</th>\n",
       "      <td>5440</td>\n",
       "      <td>Non-Customer</td>\n",
       "    </tr>\n",
       "    <tr>\n",
       "      <th>5</th>\n",
       "      <td>4190</td>\n",
       "      <td>Non-Customer</td>\n",
       "    </tr>\n",
       "    <tr>\n",
       "      <th>6</th>\n",
       "      <td>6524</td>\n",
       "      <td>Non-Customer</td>\n",
       "    </tr>\n",
       "    <tr>\n",
       "      <th>7</th>\n",
       "      <td>8562</td>\n",
       "      <td>V-Auto</td>\n",
       "    </tr>\n",
       "    <tr>\n",
       "      <th>8</th>\n",
       "      <td>266</td>\n",
       "      <td>Non-Customer</td>\n",
       "    </tr>\n",
       "    <tr>\n",
       "      <th>9</th>\n",
       "      <td>12098</td>\n",
       "      <td>Non-Customer</td>\n",
       "    </tr>\n",
       "    <tr>\n",
       "      <th>10</th>\n",
       "      <td>2273</td>\n",
       "      <td>Non-Customer</td>\n",
       "    </tr>\n",
       "    <tr>\n",
       "      <th>11</th>\n",
       "      <td>9485</td>\n",
       "      <td>Non-Customer</td>\n",
       "    </tr>\n",
       "    <tr>\n",
       "      <th>12</th>\n",
       "      <td>6208</td>\n",
       "      <td>Non-Customer</td>\n",
       "    </tr>\n",
       "    <tr>\n",
       "      <th>13</th>\n",
       "      <td>619</td>\n",
       "      <td>Non-Customer</td>\n",
       "    </tr>\n",
       "    <tr>\n",
       "      <th>14</th>\n",
       "      <td>9429</td>\n",
       "      <td>Non-Customer</td>\n",
       "    </tr>\n",
       "    <tr>\n",
       "      <th>15</th>\n",
       "      <td>2975</td>\n",
       "      <td>Non-Customer</td>\n",
       "    </tr>\n",
       "    <tr>\n",
       "      <th>16</th>\n",
       "      <td>1215</td>\n",
       "      <td>Non-Customer</td>\n",
       "    </tr>\n",
       "    <tr>\n",
       "      <th>17</th>\n",
       "      <td>9513</td>\n",
       "      <td>Non-Customer</td>\n",
       "    </tr>\n",
       "    <tr>\n",
       "      <th>18</th>\n",
       "      <td>494</td>\n",
       "      <td>Non-Customer</td>\n",
       "    </tr>\n",
       "    <tr>\n",
       "      <th>19</th>\n",
       "      <td>12391</td>\n",
       "      <td>Non-Customer</td>\n",
       "    </tr>\n",
       "    <tr>\n",
       "      <th>20</th>\n",
       "      <td>2882</td>\n",
       "      <td>Non-Customer</td>\n",
       "    </tr>\n",
       "    <tr>\n",
       "      <th>21</th>\n",
       "      <td>9</td>\n",
       "      <td>Non-Customer</td>\n",
       "    </tr>\n",
       "    <tr>\n",
       "      <th>22</th>\n",
       "      <td>10301</td>\n",
       "      <td>Non-Customer</td>\n",
       "    </tr>\n",
       "    <tr>\n",
       "      <th>23</th>\n",
       "      <td>8893</td>\n",
       "      <td>Non-Customer</td>\n",
       "    </tr>\n",
       "    <tr>\n",
       "      <th>24</th>\n",
       "      <td>12587</td>\n",
       "      <td>Non-Customer</td>\n",
       "    </tr>\n",
       "    <tr>\n",
       "      <th>25</th>\n",
       "      <td>12685</td>\n",
       "      <td>Non-Customer</td>\n",
       "    </tr>\n",
       "    <tr>\n",
       "      <th>26</th>\n",
       "      <td>10209</td>\n",
       "      <td>Non-Customer</td>\n",
       "    </tr>\n",
       "    <tr>\n",
       "      <th>27</th>\n",
       "      <td>12192</td>\n",
       "      <td>Non-Customer</td>\n",
       "    </tr>\n",
       "    <tr>\n",
       "      <th>28</th>\n",
       "      <td>4074</td>\n",
       "      <td>Non-Customer</td>\n",
       "    </tr>\n",
       "    <tr>\n",
       "      <th>29</th>\n",
       "      <td>4728</td>\n",
       "      <td>Non-Customer</td>\n",
       "    </tr>\n",
       "    <tr>\n",
       "      <th>...</th>\n",
       "      <td>...</td>\n",
       "      <td>...</td>\n",
       "    </tr>\n",
       "    <tr>\n",
       "      <th>3160</th>\n",
       "      <td>10883</td>\n",
       "      <td>Non-Customer</td>\n",
       "    </tr>\n",
       "    <tr>\n",
       "      <th>3161</th>\n",
       "      <td>4272</td>\n",
       "      <td>Non-Customer</td>\n",
       "    </tr>\n",
       "    <tr>\n",
       "      <th>3162</th>\n",
       "      <td>3106</td>\n",
       "      <td>Non-Customer</td>\n",
       "    </tr>\n",
       "    <tr>\n",
       "      <th>3163</th>\n",
       "      <td>8798</td>\n",
       "      <td>Non-Customer</td>\n",
       "    </tr>\n",
       "    <tr>\n",
       "      <th>3164</th>\n",
       "      <td>4265</td>\n",
       "      <td>Non-Customer</td>\n",
       "    </tr>\n",
       "    <tr>\n",
       "      <th>3165</th>\n",
       "      <td>8388</td>\n",
       "      <td>Non-Customer</td>\n",
       "    </tr>\n",
       "    <tr>\n",
       "      <th>3166</th>\n",
       "      <td>12326</td>\n",
       "      <td>Non-Customer</td>\n",
       "    </tr>\n",
       "    <tr>\n",
       "      <th>3167</th>\n",
       "      <td>49</td>\n",
       "      <td>Non-Customer</td>\n",
       "    </tr>\n",
       "    <tr>\n",
       "      <th>3168</th>\n",
       "      <td>8573</td>\n",
       "      <td>Non-Customer</td>\n",
       "    </tr>\n",
       "    <tr>\n",
       "      <th>3169</th>\n",
       "      <td>5777</td>\n",
       "      <td>Non-Customer</td>\n",
       "    </tr>\n",
       "    <tr>\n",
       "      <th>3170</th>\n",
       "      <td>9987</td>\n",
       "      <td>Non-Customer</td>\n",
       "    </tr>\n",
       "    <tr>\n",
       "      <th>3171</th>\n",
       "      <td>3925</td>\n",
       "      <td>Non-Customer</td>\n",
       "    </tr>\n",
       "    <tr>\n",
       "      <th>3172</th>\n",
       "      <td>5542</td>\n",
       "      <td>Non-Customer</td>\n",
       "    </tr>\n",
       "    <tr>\n",
       "      <th>3173</th>\n",
       "      <td>6800</td>\n",
       "      <td>Non-Customer</td>\n",
       "    </tr>\n",
       "    <tr>\n",
       "      <th>3174</th>\n",
       "      <td>5265</td>\n",
       "      <td>Non-Customer</td>\n",
       "    </tr>\n",
       "    <tr>\n",
       "      <th>3175</th>\n",
       "      <td>5703</td>\n",
       "      <td>Non-Customer</td>\n",
       "    </tr>\n",
       "    <tr>\n",
       "      <th>3176</th>\n",
       "      <td>7017</td>\n",
       "      <td>Non-Customer</td>\n",
       "    </tr>\n",
       "    <tr>\n",
       "      <th>3177</th>\n",
       "      <td>12678</td>\n",
       "      <td>Non-Customer</td>\n",
       "    </tr>\n",
       "    <tr>\n",
       "      <th>3178</th>\n",
       "      <td>3512</td>\n",
       "      <td>Non-Customer</td>\n",
       "    </tr>\n",
       "    <tr>\n",
       "      <th>3179</th>\n",
       "      <td>11680</td>\n",
       "      <td>Non-Customer</td>\n",
       "    </tr>\n",
       "    <tr>\n",
       "      <th>3180</th>\n",
       "      <td>9575</td>\n",
       "      <td>V-Pet</td>\n",
       "    </tr>\n",
       "    <tr>\n",
       "      <th>3181</th>\n",
       "      <td>7660</td>\n",
       "      <td>Non-Customer</td>\n",
       "    </tr>\n",
       "    <tr>\n",
       "      <th>3182</th>\n",
       "      <td>6476</td>\n",
       "      <td>Non-Customer</td>\n",
       "    </tr>\n",
       "    <tr>\n",
       "      <th>3183</th>\n",
       "      <td>2022</td>\n",
       "      <td>Non-Customer</td>\n",
       "    </tr>\n",
       "    <tr>\n",
       "      <th>3184</th>\n",
       "      <td>3817</td>\n",
       "      <td>Non-Customer</td>\n",
       "    </tr>\n",
       "    <tr>\n",
       "      <th>3185</th>\n",
       "      <td>7301</td>\n",
       "      <td>Non-Customer</td>\n",
       "    </tr>\n",
       "    <tr>\n",
       "      <th>3186</th>\n",
       "      <td>383</td>\n",
       "      <td>Non-Customer</td>\n",
       "    </tr>\n",
       "    <tr>\n",
       "      <th>3187</th>\n",
       "      <td>9569</td>\n",
       "      <td>V-Pet</td>\n",
       "    </tr>\n",
       "    <tr>\n",
       "      <th>3188</th>\n",
       "      <td>5218</td>\n",
       "      <td>Non-Customer</td>\n",
       "    </tr>\n",
       "    <tr>\n",
       "      <th>3189</th>\n",
       "      <td>10462</td>\n",
       "      <td>Non-Customer</td>\n",
       "    </tr>\n",
       "  </tbody>\n",
       "</table>\n",
       "<p>3190 rows × 2 columns</p>\n",
       "</div>"
      ],
      "text/plain": [
       "         ID       Product\n",
       "0       271  Non-Customer\n",
       "1      6929  Non-Customer\n",
       "2      7381  Non-Customer\n",
       "3      4408  Non-Customer\n",
       "4      5440  Non-Customer\n",
       "5      4190  Non-Customer\n",
       "6      6524  Non-Customer\n",
       "7      8562        V-Auto\n",
       "8       266  Non-Customer\n",
       "9     12098  Non-Customer\n",
       "10     2273  Non-Customer\n",
       "11     9485  Non-Customer\n",
       "12     6208  Non-Customer\n",
       "13      619  Non-Customer\n",
       "14     9429  Non-Customer\n",
       "15     2975  Non-Customer\n",
       "16     1215  Non-Customer\n",
       "17     9513  Non-Customer\n",
       "18      494  Non-Customer\n",
       "19    12391  Non-Customer\n",
       "20     2882  Non-Customer\n",
       "21        9  Non-Customer\n",
       "22    10301  Non-Customer\n",
       "23     8893  Non-Customer\n",
       "24    12587  Non-Customer\n",
       "25    12685  Non-Customer\n",
       "26    10209  Non-Customer\n",
       "27    12192  Non-Customer\n",
       "28     4074  Non-Customer\n",
       "29     4728  Non-Customer\n",
       "...     ...           ...\n",
       "3160  10883  Non-Customer\n",
       "3161   4272  Non-Customer\n",
       "3162   3106  Non-Customer\n",
       "3163   8798  Non-Customer\n",
       "3164   4265  Non-Customer\n",
       "3165   8388  Non-Customer\n",
       "3166  12326  Non-Customer\n",
       "3167     49  Non-Customer\n",
       "3168   8573  Non-Customer\n",
       "3169   5777  Non-Customer\n",
       "3170   9987  Non-Customer\n",
       "3171   3925  Non-Customer\n",
       "3172   5542  Non-Customer\n",
       "3173   6800  Non-Customer\n",
       "3174   5265  Non-Customer\n",
       "3175   5703  Non-Customer\n",
       "3176   7017  Non-Customer\n",
       "3177  12678  Non-Customer\n",
       "3178   3512  Non-Customer\n",
       "3179  11680  Non-Customer\n",
       "3180   9575         V-Pet\n",
       "3181   7660  Non-Customer\n",
       "3182   6476  Non-Customer\n",
       "3183   2022  Non-Customer\n",
       "3184   3817  Non-Customer\n",
       "3185   7301  Non-Customer\n",
       "3186    383  Non-Customer\n",
       "3187   9569         V-Pet\n",
       "3188   5218  Non-Customer\n",
       "3189  10462  Non-Customer\n",
       "\n",
       "[3190 rows x 2 columns]"
      ]
     },
     "execution_count": 158,
     "metadata": {},
     "output_type": "execute_result"
    }
   ],
   "source": [
    "submit = testset['ID']\n",
    "submit = pd.DataFrame({'ID': submit})\n",
    "\n",
    "pred = y_pred\n",
    "pred = pd.DataFrame({'Product': y_pred_new_data})\n",
    "\n",
    "product = []\n",
    "product = pred.Product\n",
    "product.replace({ \n",
    "    int(0) : 'Non-Customer', \n",
    "    int(1) : 'V-Bag', \n",
    "    int(2) : 'V-Pet', \n",
    "    int(3) : 'V-Auto'},\n",
    "    inplace=True)\n",
    "\n",
    "submit = submit.join(product)\n",
    "submit"
   ]
  },
  {
   "cell_type": "code",
   "execution_count": 159,
   "metadata": {},
   "outputs": [],
   "source": [
    "submit.to_csv('result-xgboost.csv', index = False, encoding='utf-8')"
   ]
  },
  {
   "cell_type": "code",
   "execution_count": null,
   "metadata": {},
   "outputs": [],
   "source": []
  },
  {
   "cell_type": "code",
   "execution_count": null,
   "metadata": {},
   "outputs": [],
   "source": []
  },
  {
   "cell_type": "code",
   "execution_count": null,
   "metadata": {},
   "outputs": [],
   "source": []
  },
  {
   "cell_type": "code",
   "execution_count": null,
   "metadata": {},
   "outputs": [],
   "source": []
  },
  {
   "cell_type": "code",
   "execution_count": 121,
   "metadata": {},
   "outputs": [
    {
     "data": {
      "text/plain": [
       "((9567, 35), (3190, 34))"
      ]
     },
     "execution_count": 121,
     "metadata": {},
     "output_type": "execute_result"
    }
   ],
   "source": [
    "from xgboost import XGBClassifier\n",
    "from sklearn.model_selection import train_test_split\n",
    "from sklearn.metrics import accuracy_score\n",
    "from xgboost import plot_tree\n",
    "from xgboost import plot_importance\n",
    "from matplotlib import pyplot\n",
    "\n",
    "train = train_data\n",
    "test = test_data\n",
    "train.shape, test.shape"
   ]
  },
  {
   "cell_type": "code",
   "execution_count": 122,
   "metadata": {},
   "outputs": [
    {
     "name": "stdout",
     "output_type": "stream",
     "text": [
      "0\n",
      "0\n"
     ]
    }
   ],
   "source": [
    "# fill missing values with mean column values\n",
    "values = train.values\n",
    "imputer = Imputer()\n",
    "transformed_values = imputer.fit_transform(values)\n",
    "# count the number of NaN values in each column\n",
    "print(np.isnan(transformed_values).sum())\n",
    "\n",
    "# fill missing values with mean column values\n",
    "values = test.values\n",
    "imputer = Imputer()\n",
    "transformed_values = imputer.fit_transform(values)\n",
    "# count the number of NaN values in each column\n",
    "print(np.isnan(transformed_values).sum())"
   ]
  },
  {
   "cell_type": "code",
   "execution_count": 123,
   "metadata": {},
   "outputs": [
    {
     "name": "stdout",
     "output_type": "stream",
     "text": [
      "(9567, 34) (9567,)\n",
      "[0]\tvalidation_0-merror:0.407536\n",
      "[1]\tvalidation_0-merror:0.406903\n",
      "[2]\tvalidation_0-merror:0.40437\n",
      "[3]\tvalidation_0-merror:0.40247\n",
      "[4]\tvalidation_0-merror:0.403103\n",
      "[5]\tvalidation_0-merror:0.40152\n",
      "[6]\tvalidation_0-merror:0.402787\n",
      "[7]\tvalidation_0-merror:0.40152\n",
      "[8]\tvalidation_0-merror:0.401203\n",
      "[9]\tvalidation_0-merror:0.400253\n",
      "[10]\tvalidation_0-merror:0.399937\n",
      "[11]\tvalidation_0-merror:0.399937\n",
      "[12]\tvalidation_0-merror:0.39962\n",
      "[13]\tvalidation_0-merror:0.400887\n",
      "[14]\tvalidation_0-merror:0.398353\n",
      "[15]\tvalidation_0-merror:0.398353\n",
      "[16]\tvalidation_0-merror:0.398353\n",
      "[17]\tvalidation_0-merror:0.397403\n",
      "[18]\tvalidation_0-merror:0.397403\n",
      "[19]\tvalidation_0-merror:0.398353\n",
      "[20]\tvalidation_0-merror:0.398037\n",
      "[21]\tvalidation_0-merror:0.397403\n",
      "[22]\tvalidation_0-merror:0.396137\n",
      "[23]\tvalidation_0-merror:0.395503\n",
      "[24]\tvalidation_0-merror:0.395187\n",
      "[25]\tvalidation_0-merror:0.39487\n",
      "[26]\tvalidation_0-merror:0.396453\n",
      "[27]\tvalidation_0-merror:0.39582\n",
      "[28]\tvalidation_0-merror:0.39582\n",
      "[29]\tvalidation_0-merror:0.395187\n",
      "[30]\tvalidation_0-merror:0.396137\n",
      "[31]\tvalidation_0-merror:0.39677\n",
      "[32]\tvalidation_0-merror:0.39582\n",
      "[33]\tvalidation_0-merror:0.395503\n",
      "[34]\tvalidation_0-merror:0.395187\n",
      "[35]\tvalidation_0-merror:0.39582\n",
      "[36]\tvalidation_0-merror:0.394554\n",
      "[37]\tvalidation_0-merror:0.395187\n",
      "[38]\tvalidation_0-merror:0.395187\n",
      "[39]\tvalidation_0-merror:0.394554\n",
      "[40]\tvalidation_0-merror:0.393604\n",
      "[41]\tvalidation_0-merror:0.393604\n",
      "[42]\tvalidation_0-merror:0.392654\n",
      "[43]\tvalidation_0-merror:0.39297\n",
      "[44]\tvalidation_0-merror:0.392337\n",
      "[45]\tvalidation_0-merror:0.39202\n",
      "[46]\tvalidation_0-merror:0.391704\n",
      "[47]\tvalidation_0-merror:0.393287\n",
      "[48]\tvalidation_0-merror:0.392337\n",
      "[49]\tvalidation_0-merror:0.392654\n",
      "[50]\tvalidation_0-merror:0.391704\n",
      "[51]\tvalidation_0-merror:0.39107\n",
      "[52]\tvalidation_0-merror:0.39202\n",
      "[53]\tvalidation_0-merror:0.390754\n",
      "[54]\tvalidation_0-merror:0.39107\n",
      "[55]\tvalidation_0-merror:0.390754\n",
      "[56]\tvalidation_0-merror:0.390754\n",
      "[57]\tvalidation_0-merror:0.39107\n",
      "[58]\tvalidation_0-merror:0.390437\n",
      "[59]\tvalidation_0-merror:0.39012\n",
      "[60]\tvalidation_0-merror:0.390754\n",
      "[61]\tvalidation_0-merror:0.39107\n",
      "[62]\tvalidation_0-merror:0.39012\n",
      "[63]\tvalidation_0-merror:0.389487\n",
      "[64]\tvalidation_0-merror:0.39012\n",
      "[65]\tvalidation_0-merror:0.390437\n",
      "[66]\tvalidation_0-merror:0.39107\n",
      "[67]\tvalidation_0-merror:0.390754\n",
      "[68]\tvalidation_0-merror:0.39012\n",
      "[69]\tvalidation_0-merror:0.390754\n",
      "[70]\tvalidation_0-merror:0.391387\n",
      "[71]\tvalidation_0-merror:0.391704\n",
      "[72]\tvalidation_0-merror:0.391387\n",
      "[73]\tvalidation_0-merror:0.391704\n",
      "[74]\tvalidation_0-merror:0.390754\n",
      "[75]\tvalidation_0-merror:0.39107\n",
      "[76]\tvalidation_0-merror:0.389804\n",
      "[77]\tvalidation_0-merror:0.39012\n",
      "[78]\tvalidation_0-merror:0.39012\n",
      "[79]\tvalidation_0-merror:0.389487\n",
      "[80]\tvalidation_0-merror:0.38917\n",
      "[81]\tvalidation_0-merror:0.388854\n",
      "[82]\tvalidation_0-merror:0.388854\n",
      "[83]\tvalidation_0-merror:0.388854\n",
      "[84]\tvalidation_0-merror:0.38917\n",
      "[85]\tvalidation_0-merror:0.388537\n",
      "[86]\tvalidation_0-merror:0.38917\n",
      "[87]\tvalidation_0-merror:0.38917\n",
      "[88]\tvalidation_0-merror:0.38917\n",
      "[89]\tvalidation_0-merror:0.388854\n",
      "[90]\tvalidation_0-merror:0.38822\n",
      "[91]\tvalidation_0-merror:0.386954\n",
      "[92]\tvalidation_0-merror:0.386954\n",
      "[93]\tvalidation_0-merror:0.387904\n",
      "[94]\tvalidation_0-merror:0.38822\n",
      "[95]\tvalidation_0-merror:0.387904\n",
      "[96]\tvalidation_0-merror:0.38822\n",
      "[97]\tvalidation_0-merror:0.388854\n",
      "[98]\tvalidation_0-merror:0.388854\n",
      "[99]\tvalidation_0-merror:0.38822\n",
      "XGBClassifier(base_score=0.5, booster='gbtree', colsample_bylevel=1,\n",
      "       colsample_bytree=1, gamma=0, learning_rate=0.1, max_delta_step=0,\n",
      "       max_depth=3, min_child_weight=1, missing=None, n_estimators=100,\n",
      "       n_jobs=1, nthread=None, objective='multi:softprob', random_state=0,\n",
      "       reg_alpha=0, reg_lambda=1, scale_pos_weight=1, seed=None,\n",
      "       silent=True, subsample=1)\n",
      "Accuracy: 61.18%\n"
     ]
    }
   ],
   "source": [
    "# split data into X and y\n",
    "X = train.drop('Product', 1)\n",
    "Y = train['Product']\n",
    "print(X.shape,Y.shape)\n",
    "\n",
    "# split data into train and test sets\n",
    "seed = 7\n",
    "test_size = 0.33\n",
    "X_train, X_test, y_train, y_test = train_test_split(X, Y, test_size=test_size, random_state=seed)\n",
    "\n",
    "# fit model no training data\n",
    "model = XGBClassifier()\n",
    "eval_set = [(X_test, y_test)]\n",
    "model.fit(X_train, y_train, eval_metric=\"merror\", eval_set=eval_set, verbose=True)\n",
    "print(model)\n",
    "\n",
    "# make predictions for test data\n",
    "y_pred = model.predict(X_test)\n",
    "predictions = [round(value) for value in y_pred]\n",
    "\n",
    "# evaluate predictions\n",
    "accuracy = accuracy_score(y_test, predictions)\n",
    "print(\"Accuracy: %.2f%%\" % (accuracy * 100.0))\n",
    "\n",
    "#plot_tree(model, num_trees=4)"
   ]
  },
  {
   "cell_type": "code",
   "execution_count": 124,
   "metadata": {},
   "outputs": [
    {
     "data": {
      "image/png": "[encoded data removed]",
      "text/plain": [
       "<Figure size 432x288 with 1 Axes>"
      ]
     },
     "metadata": {},
     "output_type": "display_data"
    }
   ],
   "source": [
    "# plot feature importance\n",
    "plot_importance(model)\n",
    "pyplot.show()"
   ]
  },
  {
   "cell_type": "code",
   "execution_count": null,
   "metadata": {},
   "outputs": [],
   "source": []
  },
  {
   "cell_type": "code",
   "execution_count": null,
   "metadata": {},
   "outputs": [],
   "source": []
  },
  {
   "cell_type": "code",
   "execution_count": null,
   "metadata": {},
   "outputs": [],
   "source": []
  },
  {
   "cell_type": "code",
   "execution_count": 106,
   "metadata": {},
   "outputs": [],
   "source": [
    "# make predictions for test data\n",
    "y_pred = model.predict(test)\n",
    "predictions = [round(value) for value in y_pred]"
   ]
  },
  {
   "cell_type": "code",
   "execution_count": 107,
   "metadata": {},
   "outputs": [
    {
     "data": {
      "text/plain": [
       "((3158,), (3190,))"
      ]
     },
     "execution_count": 107,
     "metadata": {},
     "output_type": "execute_result"
    }
   ],
   "source": [
    "y_test.shape, y_pred.shape"
   ]
  },
  {
   "cell_type": "code",
   "execution_count": 108,
   "metadata": {},
   "outputs": [
    {
     "name": "stdout",
     "output_type": "stream",
     "text": [
      "F1 score on unseen data: 48.068%\n"
     ]
    }
   ],
   "source": [
    "from sklearn.metrics import f1_score\n",
    "print(\"F1 score on unseen data: %.3f%%\" % (f1_score(y_test, y_pred[0:3158], average='micro')*100))"
   ]
  }
 ],
 "metadata": {
  "kernelspec": {
   "display_name": "Python 3",
   "language": "python",
   "name": "python3"
  },
  "language_info": {
   "codemirror_mode": {
    "name": "ipython",
    "version": 3
   },
   "file_extension": ".py",
   "mimetype": "text/x-python",
   "name": "python",
   "nbconvert_exporter": "python",
   "pygments_lexer": "ipython3",
   "version": "3.6.5"
  }
 },
 "nbformat": 4,
 "nbformat_minor": 2
}
