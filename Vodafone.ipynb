{
 "cells": [
  {
   "cell_type": "markdown",
   "metadata": {},
   "source": [
    "# Polimi-Vodafone Challenge"
   ]
  },
  {
   "cell_type": "markdown",
   "metadata": {},
   "source": [
    "Find the right IoT product for the customers"
   ]
  },
  {
   "cell_type": "code",
   "execution_count": 1,
   "metadata": {},
   "outputs": [],
   "source": [
    "# Import useful libraries\n",
    "import pandas as pd\n",
    "import numpy as np\n",
    "import matplotlib.pyplot as plt\n",
    "\n",
    "# Ignore warnings\n",
    "import warnings\n",
    "warnings.simplefilter('ignore')\n",
    "\n",
    "# Random seed for reproducibility\n",
    "seed = 202\n",
    "np.random.seed(seed)"
   ]
  },
  {
   "cell_type": "code",
   "execution_count": 2,
   "metadata": {},
   "outputs": [],
   "source": [
    "from sklearn.ensemble import ExtraTreesClassifier, AdaBoostClassifier, GradientBoostingClassifier\n",
    "from sklearn.ensemble import RandomForestClassifier, ExtraTreesClassifier\n",
    "from sklearn.linear_model import LogisticRegression\n",
    "from sklearn.linear_model import PassiveAggressiveClassifier, Perceptron, SGDClassifier\n",
    "from sklearn.tree import DecisionTreeClassifier\n",
    "from sklearn.neighbors import KNeighborsClassifier\n",
    "from sklearn.discriminant_analysis import LinearDiscriminantAnalysis, QuadraticDiscriminantAnalysis\n",
    "from sklearn.naive_bayes import GaussianNB, BernoulliNB\n",
    "from sklearn.svm import SVC, LinearSVC\n",
    "from sklearn.gaussian_process import GaussianProcessClassifier"
   ]
  },
  {
   "cell_type": "code",
   "execution_count": 3,
   "metadata": {},
   "outputs": [],
   "source": [
    "# Import the train set and test set\n",
    "train_data2 = pd.read_csv(\"trainset.csv\", delimiter=\",\")\n",
    "test_data2 = pd.read_csv(\"testset.csv\", delimiter=\",\")\n",
    "\n",
    "train_data = pd.read_csv(\"normalized_train_dataset.csv\", delimiter=\",\")\n",
    "test_data = pd.read_csv(\"normalized_test_dataset.csv\", delimiter=\",\")"
   ]
  },
  {
   "cell_type": "code",
   "execution_count": 6,
   "metadata": {},
   "outputs": [],
   "source": [
    "prova = train_data\n",
    "prova = prova.dropna()\n",
    "\n",
    "prova = prova.iloc[np.random.permutation(len(prova))]\n",
    "prova = prova.reset_index(drop=True)"
   ]
  },
  {
   "cell_type": "code",
   "execution_count": 7,
   "metadata": {},
   "outputs": [
    {
     "data": {
      "text/plain": [
       "(6160, 35)"
      ]
     },
     "execution_count": 7,
     "metadata": {},
     "output_type": "execute_result"
    }
   ],
   "source": [
    "prova.shape"
   ]
  },
  {
   "cell_type": "code",
   "execution_count": null,
   "metadata": {},
   "outputs": [],
   "source": []
  },
  {
   "cell_type": "markdown",
   "metadata": {},
   "source": [
    "Test di correlazione chiquadro"
   ]
  },
  {
   "cell_type": "code",
   "execution_count": 8,
   "metadata": {},
   "outputs": [],
   "source": [
    "array = np.asarray(prova)\n",
    "\n",
    "X = array[:,0:prova.shape[1]-1]\n",
    "X = np.asarray(X)\n",
    "Y = array[:,prova.shape[1]-1]\n",
    "Y = np.asarray(Y)"
   ]
  },
  {
   "cell_type": "code",
   "execution_count": 9,
   "metadata": {},
   "outputs": [],
   "source": [
    "from sklearn.feature_selection import SelectKBest\n",
    "from sklearn.feature_selection import chi2\n",
    "test = SelectKBest(score_func=chi2, k=3)\n",
    "fit = test.fit(X,Y)"
   ]
  },
  {
   "cell_type": "code",
   "execution_count": 10,
   "metadata": {},
   "outputs": [
    {
     "name": "stdout",
     "output_type": "stream",
     "text": [
      "[6.3e+03 5.3e+00 6.1e+00 1.1e+01 4.2e-01 8.7e+00 8.0e-01 1.2e+01 8.0e+01\n",
      " 1.1e+01 1.9e+06 2.0e+00 3.9e+01 4.0e+01 3.9e+01 3.8e+01 7.9e+01 8.6e+01\n",
      " 1.3e+01 3.6e-01 3.7e-01 2.2e+00 7.8e+00 1.8e-02 2.8e+00 4.1e+00 2.4e+01\n",
      " 2.8e+00 1.6e-01 2.9e-01 4.1e+01 2.0e+02 3.7e+01 2.8e+02]\n"
     ]
    }
   ],
   "source": [
    "# summarize scores\n",
    "np.set_printoptions(precision=1)\n",
    "print(fit.scores_)\n",
    "features = fit.transform(X)"
   ]
  },
  {
   "cell_type": "code",
   "execution_count": 11,
   "metadata": {},
   "outputs": [
    {
     "data": {
      "text/plain": [
       "Index(['ID', 'DeviceFlag4G', 'DataArpu', 'DataAllowanceContinuous',\n",
       "       'DeviceFlagSmartphone', 'MonthlyVoiceTrafficCount',\n",
       "       'MonthlySMSTrafficCount', 'MonthlyDataTraffic', 'CustomerGender',\n",
       "       'CustomerExpatriate', 'ZipCode', 'ChurnScore',\n",
       "       'AirportConnectionsDuration', 'AirportConnectionsCount',\n",
       "       'StationConnectionsDuration', 'StationConnectionsCount',\n",
       "       'ParkingConnectionsDuration', 'ParkingConnectionsCount',\n",
       "       'File-Transfer', 'Games', 'Instant-Messaging-Applications', 'Mail',\n",
       "       'Music-Streaming', 'Network-Operation', 'P2P-Applications', 'Security',\n",
       "       'Streaming-Applications', 'Terminals', 'Unclassified', 'VoIP',\n",
       "       'Web-Applications', 'CustomerAge', 'Region', 'Province', 'Product'],\n",
       "      dtype='object')"
      ]
     },
     "execution_count": 11,
     "metadata": {},
     "output_type": "execute_result"
    }
   ],
   "source": [
    "prova.columns"
   ]
  },
  {
   "cell_type": "code",
   "execution_count": 14,
   "metadata": {},
   "outputs": [
    {
     "data": {
      "text/plain": [
       "ID                                  0\n",
       "DeviceFlag4G                        0\n",
       "DataArpu                          757\n",
       "DataAllowanceContinuous           388\n",
       "DeviceFlagSmartphone                0\n",
       "MonthlyVoiceTrafficCount          110\n",
       "MonthlySMSTrafficCount            110\n",
       "MonthlyDataTraffic                110\n",
       "CustomerGender                      0\n",
       "CustomerExpatriate                  0\n",
       "ZipCode                           575\n",
       "ChurnScore                        303\n",
       "AirportConnectionsDuration          0\n",
       "AirportConnectionsCount             0\n",
       "StationConnectionsDuration          0\n",
       "StationConnectionsCount             0\n",
       "ParkingConnectionsDuration          0\n",
       "ParkingConnectionsCount             0\n",
       "File-Transfer                       0\n",
       "Games                               0\n",
       "Instant-Messaging-Applications      0\n",
       "Mail                                0\n",
       "Music-Streaming                     0\n",
       "Network-Operation                   0\n",
       "P2P-Applications                    0\n",
       "Security                            0\n",
       "Streaming-Applications              0\n",
       "Terminals                           0\n",
       "Unclassified                        0\n",
       "VoIP                                0\n",
       "Web-Applications                    0\n",
       "CustomerAge                       131\n",
       "Region                            666\n",
       "Province                          666\n",
       "dtype: int64"
      ]
     },
     "execution_count": 14,
     "metadata": {},
     "output_type": "execute_result"
    }
   ],
   "source": [
    "test_data.isnull().sum()"
   ]
  },
  {
   "cell_type": "code",
   "execution_count": null,
   "metadata": {},
   "outputs": [],
   "source": [
    "'''\n",
    "\n",
    "MISSING VALUES FOR COLUMN IN THE TEST SET\n",
    "\n",
    "DataArpu                           757\n",
    "DataAllowanceContinuous            388\n",
    "DataAllowanceOneShot              3052\n",
    "\n",
    "MonthlyVoiceTrafficCount           110\n",
    "MonthlySMSTrafficCount             110\n",
    "CustomerAge                        131\n",
    "EstimatedDevicePrice              1900\n",
    "MonthlyDataTraffic                 110\n",
    "\n",
    "Province                           666\n",
    "Region                             666\n",
    "ZipCode                            575\n",
    "ChurnScore                         303\n",
    "'''"
   ]
  },
  {
   "cell_type": "code",
   "execution_count": null,
   "metadata": {},
   "outputs": [],
   "source": []
  },
  {
   "cell_type": "code",
   "execution_count": null,
   "metadata": {},
   "outputs": [],
   "source": []
  },
  {
   "cell_type": "code",
   "execution_count": 15,
   "metadata": {},
   "outputs": [],
   "source": [
    "def features_labels_split(data):\n",
    "    \n",
    "    features = data[['ID', 'DataAllowanceContinuous', 'MonthlyDataTraffic', 'CustomerGender',\n",
    "                     'CustomerExpatriate', 'ZipCode', 'Web-Applications', 'CustomerAge', 'Region', 'Province']]\n",
    "    labels = data['Product']\n",
    "    return features, labels"
   ]
  },
  {
   "cell_type": "code",
   "execution_count": 16,
   "metadata": {},
   "outputs": [],
   "source": [
    "def features_labels_split(data):\n",
    "    \n",
    "    features = data[['ID', 'DeviceFlag4G', \n",
    "       'DeviceFlagSmartphone',   'CustomerGender',\n",
    "       'CustomerExpatriate', \n",
    "       'AirportConnectionsDuration', 'AirportConnectionsCount',\n",
    "       'StationConnectionsDuration', 'StationConnectionsCount',\n",
    "       'ParkingConnectionsDuration', 'ParkingConnectionsCount',\n",
    "       'File-Transfer', 'Games', 'Instant-Messaging-Applications', 'Mail',\n",
    "       'Music-Streaming', 'Network-Operation', 'P2P-Applications', 'Security',\n",
    "       'Streaming-Applications', 'Terminals', 'Unclassified', 'VoIP',\n",
    "       'Web-Applications']]\n",
    "    labels = data['Product']\n",
    "    return features, labels"
   ]
  },
  {
   "cell_type": "code",
   "execution_count": 17,
   "metadata": {},
   "outputs": [],
   "source": [
    "from sklearn.preprocessing import MinMaxScaler\n",
    "from sklearn.preprocessing import StandardScaler\n",
    "def standardize_features(features):\n",
    "\n",
    "    scaler = MinMaxScaler().fit(features)\n",
    "    features = scaler.transform(features)\n",
    "    return features"
   ]
  },
  {
   "cell_type": "code",
   "execution_count": 18,
   "metadata": {},
   "outputs": [],
   "source": [
    "def train_test_validation_split(features, labels, val_samples, test_samples):\n",
    "\n",
    "    features = np.asarray(features)\n",
    "    labels =np.asarray(labels)\n",
    "    \n",
    "    X_test = features[0:test_samples]\n",
    "    y_test = labels[0:test_samples]\n",
    "\n",
    "    X_val = features[test_samples:test_samples + val_samples]\n",
    "    y_val = labels[test_samples:test_samples + val_samples]\n",
    "\n",
    "    X_train = features[test_samples + val_samples:]\n",
    "    y_train = labels[test_samples + val_samples:]\n",
    "\n",
    "    return X_train, X_test, X_val, y_train, y_test, y_val"
   ]
  },
  {
   "cell_type": "code",
   "execution_count": null,
   "metadata": {},
   "outputs": [],
   "source": []
  },
  {
   "cell_type": "markdown",
   "metadata": {},
   "source": [
    "Toy example"
   ]
  },
  {
   "cell_type": "code",
   "execution_count": 19,
   "metadata": {},
   "outputs": [],
   "source": [
    "train_feat, train_label = features_labels_split(prova)\n",
    "#train_feat = standardize_features(train_feat)"
   ]
  },
  {
   "cell_type": "code",
   "execution_count": 20,
   "metadata": {},
   "outputs": [],
   "source": [
    "num_val_samples = 0\n",
    "num_test_samples = 616\n",
    "X_train, X_test, X_val, y_train, y_test, y_val = train_test_validation_split(train_feat, train_label, num_val_samples, num_test_samples)"
   ]
  },
  {
   "cell_type": "code",
   "execution_count": 21,
   "metadata": {},
   "outputs": [],
   "source": [
    "from sklearn.metrics import f1_score\n",
    "from sklearn.model_selection import KFold"
   ]
  },
  {
   "cell_type": "code",
   "execution_count": 22,
   "metadata": {},
   "outputs": [
    {
     "name": "stdout",
     "output_type": "stream",
     "text": [
      "KFold(n_splits=10, random_state=None, shuffle=True)\n",
      "F1 score: 0.604\n",
      "F1 score: 0.650\n",
      "F1 score: 0.580\n",
      "F1 score: 0.649\n",
      "F1 score: 0.646\n",
      "F1 score: 0.596\n",
      "F1 score: 0.588\n",
      "F1 score: 0.614\n",
      "F1 score: 0.614\n",
      "F1 score: 0.626\n",
      "\n",
      "The final F1 score is 0.617 (+/- 0.024)\n"
     ]
    }
   ],
   "source": [
    "# kFOLD\n",
    "\n",
    "folds = 10\n",
    "scores = []\n",
    "\n",
    "\n",
    "kf = KFold(n_splits=folds, shuffle=True)\n",
    "print(kf)\n",
    "for train_index, test_index in kf.split(X_train):\n",
    "    X_train_kF, X_test_kF = X_train[train_index], X_train[test_index]\n",
    "    y_train_kF, y_test_kF = y_train[train_index], y_train[test_index]\n",
    "    model_kF = RandomForestClassifier()\n",
    "    model_kF.fit(X_train_kF, y_train_kF)\n",
    "    pred = model_kF.predict(X_test_kF)\n",
    "    f1 = f1_score(y_test_kF, pred, average='micro')\n",
    "    scores.append(f1)\n",
    "    print(\"F1 score: %.3f\" % f1)\n",
    "print(\"\\nThe final F1 score is %.3f (+/- %.3f)\" % (np.mean(scores), np.std(scores)))"
   ]
  },
  {
   "cell_type": "markdown",
   "metadata": {},
   "source": [
    "SOLO per avre un'idea di come dovrebbe performare su dati non visti"
   ]
  },
  {
   "cell_type": "code",
   "execution_count": 26,
   "metadata": {},
   "outputs": [
    {
     "name": "stdout",
     "output_type": "stream",
     "text": [
      "F1 score on unseen data: 0.643\n"
     ]
    }
   ],
   "source": [
    "# Test Performance\n",
    "\n",
    "model = RandomForestClassifier()\n",
    "model.fit(X_train, y_train)\n",
    "y_pred = model.predict(X_test)\n",
    "# F1\n",
    "print(\"F1 score on unseen data: %.3f\" % f1_score(y_test, y_pred, average='micro'))"
   ]
  },
  {
   "cell_type": "code",
   "execution_count": null,
   "metadata": {},
   "outputs": [],
   "source": []
  },
  {
   "cell_type": "code",
   "execution_count": null,
   "metadata": {},
   "outputs": [],
   "source": []
  },
  {
   "cell_type": "code",
   "execution_count": null,
   "metadata": {},
   "outputs": [],
   "source": []
  },
  {
   "cell_type": "code",
   "execution_count": null,
   "metadata": {},
   "outputs": [],
   "source": []
  },
  {
   "cell_type": "code",
   "execution_count": null,
   "metadata": {},
   "outputs": [],
   "source": []
  },
  {
   "cell_type": "code",
   "execution_count": null,
   "metadata": {},
   "outputs": [],
   "source": []
  },
  {
   "cell_type": "code",
   "execution_count": null,
   "metadata": {},
   "outputs": [],
   "source": []
  },
  {
   "cell_type": "code",
   "execution_count": 25,
   "metadata": {},
   "outputs": [],
   "source": []
  },
  {
   "cell_type": "code",
   "execution_count": 27,
   "metadata": {},
   "outputs": [],
   "source": [
    "# Build the default models to select the best one  \n",
    "# The commented classifiers are weak\n",
    "dtc = DecisionTreeClassifier()\n",
    "bnb = BernoulliNB()\n",
    "xtc = ExtraTreesClassifier()\n",
    "nb = GaussianNB()\n",
    "qda = QuadraticDiscriminantAnalysis()\n",
    "lr = LogisticRegression()\n",
    "lda = LinearDiscriminantAnalysis()\n",
    "ada = AdaBoostClassifier()\n",
    "rf = RandomForestClassifier()\n",
    "knn = KNeighborsClassifier()\n",
    "gbc = GradientBoostingClassifier()\n",
    "#gpc = GaussianProcessClassifier() #Too fucking slow\n",
    "perc = Perceptron()\n",
    "paggr = PassiveAggressiveClassifier()\n",
    "svc = SVC()\n",
    "lsvc = LinearSVC()\n",
    "sgd = SGDClassifier()\n",
    "\n",
    "\n",
    "\n",
    "# Append all the models into an array\n",
    "models = []\n",
    "models.append(('SGD', sgd))\n",
    "models.append(('SVC', svc))\n",
    "models.append(('LSVC', lsvc))\n",
    "models.append(('PAGGR', paggr))\n",
    "models.append(('PERC', perc))\n",
    "models.append(('LR', lr))\n",
    "models.append(('LDA', lda))\n",
    "models.append(('KNN', knn))\n",
    "models.append(('DTC', dtc))\n",
    "models.append(('NB', nb))\n",
    "models.append(('GBC', gbc))\n",
    "models.append(('RF', rf))\n",
    "models.append(('ADA', ada))\n",
    "models.append(('QDA', qda))\n",
    "models.append(('BNB', bnb))\n",
    "models.append(('XTC', xtc))\n",
    "\n"
   ]
  },
  {
   "cell_type": "code",
   "execution_count": 28,
   "metadata": {},
   "outputs": [
    {
     "name": "stdout",
     "output_type": "stream",
     "text": [
      "SGD: 0.438 (0.280)\n",
      "SVC: 0.652 (0.015)\n",
      "LSVC: 0.502 (0.201)\n",
      "PAGGR: 0.494 (0.213)\n",
      "PERC: 0.672 (0.015)\n",
      "LR: 0.672 (0.015)\n",
      "LDA: 0.663 (0.017)\n",
      "KNN: 0.637 (0.016)\n",
      "DTC: 0.517 (0.008)\n",
      "NB: 0.633 (0.014)\n",
      "GBC: 0.666 (0.016)\n",
      "RF: 0.617 (0.012)\n",
      "ADA: 0.669 (0.016)\n",
      "QDA: 0.599 (0.009)\n",
      "BNB: 0.454 (0.016)\n",
      "XTC: 0.611 (0.020)\n"
     ]
    },
    {
     "data": {
      "image/png": "[encoded data removed]",
      "text/plain": [
       "<Figure size 1080x576 with 1 Axes>"
      ]
     },
     "metadata": {},
     "output_type": "display_data"
    }
   ],
   "source": [
    "from sklearn.model_selection import cross_val_score\n",
    "\n",
    "\n",
    "# evaluate each model in turn\n",
    "results = []\n",
    "names = []\n",
    "for name, model in models:\n",
    "    kfold = KFold(n_splits=10, random_state=seed)\n",
    "    cv_results = cross_val_score(model, X_train, y_train, cv=kfold, scoring='f1_micro', n_jobs=-1)\n",
    "    results.append(cv_results)\n",
    "    names.append(name)\n",
    "    msg = \"%s: %.3f (%.3f)\" % (name, cv_results.mean(), cv_results.std())\n",
    "    print(msg)\n",
    "    \n",
    "# boxplot algorithm comparison\n",
    "fig = plt.figure(figsize=(15, 8))\n",
    "fig.suptitle('Algorithm Comparison', fontsize=24)\n",
    "ax = fig.add_subplot(1,1,1)\n",
    "plt.boxplot(results)\n",
    "plt.ylim([0.55,0.75])\n",
    "ax.set_xticklabels(names)\n",
    "plt.show()"
   ]
  },
  {
   "cell_type": "code",
   "execution_count": null,
   "metadata": {},
   "outputs": [],
   "source": []
  },
  {
   "cell_type": "markdown",
   "metadata": {},
   "source": [
    "# Parameter Tuning"
   ]
  },
  {
   "cell_type": "code",
   "execution_count": 29,
   "metadata": {},
   "outputs": [
    {
     "name": "stdout",
     "output_type": "stream",
     "text": [
      "0.6717171717171717\n",
      "{'C': 0.1, 'penalty': 'l1'}\n"
     ]
    }
   ],
   "source": [
    "from sklearn.model_selection import GridSearchCV\n",
    "\n",
    "classifier = LogisticRegression()\n",
    "\n",
    "penalty = ('l1','l2')\n",
    "dual = (True, False)\n",
    "C = np.arange(0.1,1,0.1)\n",
    "\n",
    "parameters = [{\n",
    "    'penalty' : penalty,\n",
    "    'C' : C,\n",
    "               }]\n",
    "\n",
    "grid_search = GridSearchCV(estimator = classifier,\n",
    "                           param_grid = parameters,\n",
    "                           scoring='f1_micro',\n",
    "                           cv = 10,\n",
    "                           n_jobs = -1)\n",
    "\n",
    "grid_search = grid_search.fit(X_train, y_train)\n",
    "best_f1 = grid_search.best_score_\n",
    "best_parameters = grid_search.best_params_\n",
    "print(best_f1)\n",
    "print(best_parameters)"
   ]
  },
  {
   "cell_type": "code",
   "execution_count": null,
   "metadata": {},
   "outputs": [],
   "source": []
  },
  {
   "cell_type": "code",
   "execution_count": null,
   "metadata": {},
   "outputs": [],
   "source": []
  },
  {
   "cell_type": "code",
   "execution_count": 30,
   "metadata": {},
   "outputs": [
    {
     "name": "stdout",
     "output_type": "stream",
     "text": [
      "KFold(n_splits=10, random_state=None, shuffle=False)\n",
      "F1 score: 0.647\n",
      "F1 score: 0.677\n",
      "F1 score: 0.641\n",
      "F1 score: 0.672\n",
      "F1 score: 0.662\n",
      "F1 score: 0.643\n",
      "F1 score: 0.668\n",
      "F1 score: 0.690\n",
      "F1 score: 0.679\n",
      "F1 score: 0.675\n",
      "\n",
      "The final F1 score is 0.665 (+/- 0.016)\n"
     ]
    }
   ],
   "source": [
    "# Proviamo a potenziare il Gaussian Process Classifier!\n",
    "\n",
    "# kFOLD\n",
    "\n",
    "folds = 10\n",
    "scores = []\n",
    "\n",
    "\n",
    "kf = KFold(n_splits=folds, shuffle=False)\n",
    "print(kf)\n",
    "for train_index, test_index in kf.split(X_train):\n",
    "    X_train_kF, X_test_kF = X_train[train_index], X_train[test_index]\n",
    "    y_train_kF, y_test_kF = y_train[train_index], y_train[test_index]\n",
    "    model_kF = GradientBoostingClassifier()\n",
    "    model_kF.fit(X_train_kF, y_train_kF)\n",
    "    pred = model_kF.predict(X_test_kF)\n",
    "    f1 = f1_score(y_test_kF, pred, average='micro')\n",
    "    scores.append(f1)\n",
    "    print(\"F1 score: %.3f\" % f1)\n",
    "print(\"\\nThe final F1 score is %.3f (+/- %.3f)\" % (np.mean(scores), np.std(scores)))"
   ]
  },
  {
   "cell_type": "code",
   "execution_count": 31,
   "metadata": {},
   "outputs": [
    {
     "name": "stdout",
     "output_type": "stream",
     "text": [
      "F1 score on unseen data: 0.662\n"
     ]
    }
   ],
   "source": [
    "# Test Performance\n",
    "\n",
    "model = GradientBoostingClassifier()\n",
    "model.fit(X_train, y_train)\n",
    "y_pred = model.predict(X_test)\n",
    "# F1\n",
    "print(\"F1 score on unseen data: %.3f\" % f1_score(y_test, y_pred, average='micro'))"
   ]
  },
  {
   "cell_type": "code",
   "execution_count": null,
   "metadata": {},
   "outputs": [],
   "source": []
  },
  {
   "cell_type": "code",
   "execution_count": null,
   "metadata": {},
   "outputs": [],
   "source": []
  },
  {
   "cell_type": "code",
   "execution_count": null,
   "metadata": {},
   "outputs": [],
   "source": []
  },
  {
   "cell_type": "code",
   "execution_count": null,
   "metadata": {},
   "outputs": [],
   "source": []
  },
  {
   "cell_type": "code",
   "execution_count": null,
   "metadata": {},
   "outputs": [],
   "source": []
  },
  {
   "cell_type": "code",
   "execution_count": null,
   "metadata": {},
   "outputs": [],
   "source": []
  },
  {
   "cell_type": "code",
   "execution_count": null,
   "metadata": {},
   "outputs": [],
   "source": []
  },
  {
   "cell_type": "code",
   "execution_count": null,
   "metadata": {},
   "outputs": [],
   "source": []
  },
  {
   "cell_type": "code",
   "execution_count": null,
   "metadata": {},
   "outputs": [],
   "source": []
  },
  {
   "cell_type": "code",
   "execution_count": null,
   "metadata": {},
   "outputs": [],
   "source": []
  },
  {
   "cell_type": "code",
   "execution_count": null,
   "metadata": {},
   "outputs": [],
   "source": []
  },
  {
   "cell_type": "code",
   "execution_count": null,
   "metadata": {},
   "outputs": [],
   "source": []
  },
  {
   "cell_type": "code",
   "execution_count": null,
   "metadata": {},
   "outputs": [],
   "source": []
  },
  {
   "cell_type": "code",
   "execution_count": null,
   "metadata": {},
   "outputs": [],
   "source": []
  },
  {
   "cell_type": "code",
   "execution_count": null,
   "metadata": {},
   "outputs": [],
   "source": []
  },
  {
   "cell_type": "code",
   "execution_count": null,
   "metadata": {},
   "outputs": [],
   "source": []
  },
  {
   "cell_type": "code",
   "execution_count": null,
   "metadata": {},
   "outputs": [],
   "source": []
  },
  {
   "cell_type": "code",
   "execution_count": null,
   "metadata": {},
   "outputs": [],
   "source": []
  },
  {
   "cell_type": "code",
   "execution_count": null,
   "metadata": {},
   "outputs": [],
   "source": []
  },
  {
   "cell_type": "code",
   "execution_count": null,
   "metadata": {},
   "outputs": [],
   "source": []
  },
  {
   "cell_type": "markdown",
   "metadata": {},
   "source": [
    "Da questo punto in avanti, riapplichiamo le stesse trasformazioni che abbiamo appricato al train per fare la predizione sul testset"
   ]
  },
  {
   "cell_type": "code",
   "execution_count": 32,
   "metadata": {},
   "outputs": [
    {
     "data": {
      "text/plain": [
       "ID                                  0\n",
       "DeviceFlag4G                        0\n",
       "DataArpu                          757\n",
       "DataAllowanceContinuous           388\n",
       "DeviceFlagSmartphone                0\n",
       "MonthlyVoiceTrafficCount          110\n",
       "MonthlySMSTrafficCount            110\n",
       "MonthlyDataTraffic                110\n",
       "CustomerGender                      0\n",
       "CustomerExpatriate                  0\n",
       "ZipCode                           575\n",
       "ChurnScore                        303\n",
       "AirportConnectionsDuration          0\n",
       "AirportConnectionsCount             0\n",
       "StationConnectionsDuration          0\n",
       "StationConnectionsCount             0\n",
       "ParkingConnectionsDuration          0\n",
       "ParkingConnectionsCount             0\n",
       "File-Transfer                       0\n",
       "Games                               0\n",
       "Instant-Messaging-Applications      0\n",
       "Mail                                0\n",
       "Music-Streaming                     0\n",
       "Network-Operation                   0\n",
       "P2P-Applications                    0\n",
       "Security                            0\n",
       "Streaming-Applications              0\n",
       "Terminals                           0\n",
       "Unclassified                        0\n",
       "VoIP                                0\n",
       "Web-Applications                    0\n",
       "CustomerAge                       131\n",
       "Region                            666\n",
       "Province                          666\n",
       "dtype: int64"
      ]
     },
     "execution_count": 32,
     "metadata": {},
     "output_type": "execute_result"
    }
   ],
   "source": [
    "test_data.isnull().sum()"
   ]
  },
  {
   "cell_type": "code",
   "execution_count": 33,
   "metadata": {},
   "outputs": [],
   "source": [
    "X_pred = test_data[['ID', 'DeviceFlag4G', \n",
    "       'DeviceFlagSmartphone',   'CustomerGender',\n",
    "       'CustomerExpatriate', \n",
    "       'AirportConnectionsDuration', 'AirportConnectionsCount',\n",
    "       'StationConnectionsDuration', 'StationConnectionsCount',\n",
    "       'ParkingConnectionsDuration', 'ParkingConnectionsCount',\n",
    "       'File-Transfer', 'Games', 'Instant-Messaging-Applications', 'Mail',\n",
    "       'Music-Streaming', 'Network-Operation', 'P2P-Applications', 'Security',\n",
    "       'Streaming-Applications', 'Terminals', 'Unclassified', 'VoIP',\n",
    "       'Web-Applications']]"
   ]
  },
  {
   "cell_type": "code",
   "execution_count": 34,
   "metadata": {},
   "outputs": [
    {
     "data": {
      "text/html": [
       "<div>\n",
       "<style scoped>\n",
       "    .dataframe tbody tr th:only-of-type {\n",
       "        vertical-align: middle;\n",
       "    }\n",
       "\n",
       "    .dataframe tbody tr th {\n",
       "        vertical-align: top;\n",
       "    }\n",
       "\n",
       "    .dataframe thead th {\n",
       "        text-align: right;\n",
       "    }\n",
       "</style>\n",
       "<table border=\"1\" class=\"dataframe\">\n",
       "  <thead>\n",
       "    <tr style=\"text-align: right;\">\n",
       "      <th></th>\n",
       "      <th>ID</th>\n",
       "      <th>DeviceFlag4G</th>\n",
       "      <th>DeviceFlagSmartphone</th>\n",
       "      <th>CustomerGender</th>\n",
       "      <th>CustomerExpatriate</th>\n",
       "      <th>AirportConnectionsDuration</th>\n",
       "      <th>AirportConnectionsCount</th>\n",
       "      <th>StationConnectionsDuration</th>\n",
       "      <th>StationConnectionsCount</th>\n",
       "      <th>ParkingConnectionsDuration</th>\n",
       "      <th>...</th>\n",
       "      <th>Mail</th>\n",
       "      <th>Music-Streaming</th>\n",
       "      <th>Network-Operation</th>\n",
       "      <th>P2P-Applications</th>\n",
       "      <th>Security</th>\n",
       "      <th>Streaming-Applications</th>\n",
       "      <th>Terminals</th>\n",
       "      <th>Unclassified</th>\n",
       "      <th>VoIP</th>\n",
       "      <th>Web-Applications</th>\n",
       "    </tr>\n",
       "  </thead>\n",
       "  <tbody>\n",
       "    <tr>\n",
       "      <th>0</th>\n",
       "      <td>271</td>\n",
       "      <td>0.0</td>\n",
       "      <td>1.0</td>\n",
       "      <td>1.0</td>\n",
       "      <td>0.0</td>\n",
       "      <td>0.000000</td>\n",
       "      <td>0.000000</td>\n",
       "      <td>0.000000</td>\n",
       "      <td>0.000000</td>\n",
       "      <td>0.000000</td>\n",
       "      <td>...</td>\n",
       "      <td>0.002183</td>\n",
       "      <td>0.065390</td>\n",
       "      <td>0.000697</td>\n",
       "      <td>1.007375e-03</td>\n",
       "      <td>0.002989</td>\n",
       "      <td>0.322016</td>\n",
       "      <td>0.0</td>\n",
       "      <td>0.000576</td>\n",
       "      <td>0.000083</td>\n",
       "      <td>0.563506</td>\n",
       "    </tr>\n",
       "    <tr>\n",
       "      <th>1</th>\n",
       "      <td>6929</td>\n",
       "      <td>0.0</td>\n",
       "      <td>0.0</td>\n",
       "      <td>0.0</td>\n",
       "      <td>0.0</td>\n",
       "      <td>0.000000</td>\n",
       "      <td>0.000000</td>\n",
       "      <td>0.000000</td>\n",
       "      <td>0.000000</td>\n",
       "      <td>0.000000</td>\n",
       "      <td>...</td>\n",
       "      <td>0.003745</td>\n",
       "      <td>0.004975</td>\n",
       "      <td>0.000310</td>\n",
       "      <td>2.141424e-07</td>\n",
       "      <td>0.000175</td>\n",
       "      <td>0.137171</td>\n",
       "      <td>0.0</td>\n",
       "      <td>0.000017</td>\n",
       "      <td>0.003834</td>\n",
       "      <td>0.692595</td>\n",
       "    </tr>\n",
       "    <tr>\n",
       "      <th>2</th>\n",
       "      <td>7381</td>\n",
       "      <td>0.0</td>\n",
       "      <td>1.0</td>\n",
       "      <td>1.0</td>\n",
       "      <td>0.0</td>\n",
       "      <td>0.040984</td>\n",
       "      <td>0.143229</td>\n",
       "      <td>0.706422</td>\n",
       "      <td>1.000000</td>\n",
       "      <td>0.494634</td>\n",
       "      <td>...</td>\n",
       "      <td>0.001136</td>\n",
       "      <td>0.000422</td>\n",
       "      <td>0.000000</td>\n",
       "      <td>1.082646e-04</td>\n",
       "      <td>0.000357</td>\n",
       "      <td>0.355736</td>\n",
       "      <td>0.0</td>\n",
       "      <td>0.012133</td>\n",
       "      <td>0.005795</td>\n",
       "      <td>0.512938</td>\n",
       "    </tr>\n",
       "    <tr>\n",
       "      <th>3</th>\n",
       "      <td>4408</td>\n",
       "      <td>0.0</td>\n",
       "      <td>0.0</td>\n",
       "      <td>0.0</td>\n",
       "      <td>0.0</td>\n",
       "      <td>0.000000</td>\n",
       "      <td>0.000000</td>\n",
       "      <td>0.000000</td>\n",
       "      <td>0.000000</td>\n",
       "      <td>0.000000</td>\n",
       "      <td>...</td>\n",
       "      <td>0.000000</td>\n",
       "      <td>0.000000</td>\n",
       "      <td>0.000000</td>\n",
       "      <td>0.000000e+00</td>\n",
       "      <td>0.000000</td>\n",
       "      <td>0.000000</td>\n",
       "      <td>0.0</td>\n",
       "      <td>0.000000</td>\n",
       "      <td>0.000000</td>\n",
       "      <td>0.000000</td>\n",
       "    </tr>\n",
       "    <tr>\n",
       "      <th>4</th>\n",
       "      <td>5440</td>\n",
       "      <td>1.0</td>\n",
       "      <td>1.0</td>\n",
       "      <td>1.0</td>\n",
       "      <td>0.0</td>\n",
       "      <td>0.013994</td>\n",
       "      <td>0.078125</td>\n",
       "      <td>0.000000</td>\n",
       "      <td>0.008372</td>\n",
       "      <td>0.000000</td>\n",
       "      <td>...</td>\n",
       "      <td>0.009998</td>\n",
       "      <td>0.005942</td>\n",
       "      <td>0.000000</td>\n",
       "      <td>3.891126e-03</td>\n",
       "      <td>0.007870</td>\n",
       "      <td>0.689116</td>\n",
       "      <td>0.0</td>\n",
       "      <td>0.011202</td>\n",
       "      <td>0.003883</td>\n",
       "      <td>0.216666</td>\n",
       "    </tr>\n",
       "  </tbody>\n",
       "</table>\n",
       "<p>5 rows × 24 columns</p>\n",
       "</div>"
      ],
      "text/plain": [
       "     ID  DeviceFlag4G  DeviceFlagSmartphone  CustomerGender  \\\n",
       "0   271           0.0                   1.0             1.0   \n",
       "1  6929           0.0                   0.0             0.0   \n",
       "2  7381           0.0                   1.0             1.0   \n",
       "3  4408           0.0                   0.0             0.0   \n",
       "4  5440           1.0                   1.0             1.0   \n",
       "\n",
       "   CustomerExpatriate  AirportConnectionsDuration  AirportConnectionsCount  \\\n",
       "0                 0.0                    0.000000                 0.000000   \n",
       "1                 0.0                    0.000000                 0.000000   \n",
       "2                 0.0                    0.040984                 0.143229   \n",
       "3                 0.0                    0.000000                 0.000000   \n",
       "4                 0.0                    0.013994                 0.078125   \n",
       "\n",
       "   StationConnectionsDuration  StationConnectionsCount  \\\n",
       "0                    0.000000                 0.000000   \n",
       "1                    0.000000                 0.000000   \n",
       "2                    0.706422                 1.000000   \n",
       "3                    0.000000                 0.000000   \n",
       "4                    0.000000                 0.008372   \n",
       "\n",
       "   ParkingConnectionsDuration        ...             Mail  Music-Streaming  \\\n",
       "0                    0.000000        ...         0.002183         0.065390   \n",
       "1                    0.000000        ...         0.003745         0.004975   \n",
       "2                    0.494634        ...         0.001136         0.000422   \n",
       "3                    0.000000        ...         0.000000         0.000000   \n",
       "4                    0.000000        ...         0.009998         0.005942   \n",
       "\n",
       "   Network-Operation  P2P-Applications  Security  Streaming-Applications  \\\n",
       "0           0.000697      1.007375e-03  0.002989                0.322016   \n",
       "1           0.000310      2.141424e-07  0.000175                0.137171   \n",
       "2           0.000000      1.082646e-04  0.000357                0.355736   \n",
       "3           0.000000      0.000000e+00  0.000000                0.000000   \n",
       "4           0.000000      3.891126e-03  0.007870                0.689116   \n",
       "\n",
       "   Terminals  Unclassified      VoIP  Web-Applications  \n",
       "0        0.0      0.000576  0.000083          0.563506  \n",
       "1        0.0      0.000017  0.003834          0.692595  \n",
       "2        0.0      0.012133  0.005795          0.512938  \n",
       "3        0.0      0.000000  0.000000          0.000000  \n",
       "4        0.0      0.011202  0.003883          0.216666  \n",
       "\n",
       "[5 rows x 24 columns]"
      ]
     },
     "execution_count": 34,
     "metadata": {},
     "output_type": "execute_result"
    }
   ],
   "source": [
    "X_pred.head()"
   ]
  },
  {
   "cell_type": "code",
   "execution_count": 35,
   "metadata": {},
   "outputs": [
    {
     "data": {
      "text/plain": [
       "Index(['ID', 'DeviceFlag4G', 'DeviceFlagSmartphone', 'CustomerGender',\n",
       "       'CustomerExpatriate', 'AirportConnectionsDuration',\n",
       "       'AirportConnectionsCount', 'StationConnectionsDuration',\n",
       "       'StationConnectionsCount', 'ParkingConnectionsDuration',\n",
       "       'ParkingConnectionsCount', 'File-Transfer', 'Games',\n",
       "       'Instant-Messaging-Applications', 'Mail', 'Music-Streaming',\n",
       "       'Network-Operation', 'P2P-Applications', 'Security',\n",
       "       'Streaming-Applications', 'Terminals', 'Unclassified', 'VoIP',\n",
       "       'Web-Applications'],\n",
       "      dtype='object')"
      ]
     },
     "execution_count": 35,
     "metadata": {},
     "output_type": "execute_result"
    }
   ],
   "source": [
    "X_pred.columns"
   ]
  },
  {
   "cell_type": "code",
   "execution_count": 36,
   "metadata": {},
   "outputs": [],
   "source": [
    "classifier = GradientBoostingClassifier()\n",
    "classifier.fit(train_feat, train_label)\n",
    "y_pred = classifier.predict(X_pred)"
   ]
  },
  {
   "cell_type": "code",
   "execution_count": 37,
   "metadata": {},
   "outputs": [],
   "source": [
    "submit = X_pred['ID']\n",
    "submit = pd.DataFrame({'ID': submit})\n",
    "\n",
    "pred = y_pred\n",
    "pred = pd.DataFrame({'Product': y_pred})\n",
    "\n",
    "product = []\n",
    "product = pred.Product\n",
    "product.replace({ \n",
    "    int(0) : 'Non-Customer', \n",
    "    int(1) : 'V-Bag', \n",
    "    int(2) : 'V-Pet', \n",
    "    int(3) : 'V-Auto'},\n",
    "    inplace=True)\n",
    "\n",
    "submit = submit.join(product)\n",
    "submit.to_csv('result.csv', index = False, encoding='utf-8', header=None)"
   ]
  },
  {
   "cell_type": "code",
   "execution_count": null,
   "metadata": {},
   "outputs": [],
   "source": []
  }
 ],
 "metadata": {
  "kernelspec": {
   "display_name": "Python 3",
   "language": "python",
   "name": "python3"
  },
  "language_info": {
   "codemirror_mode": {
    "name": "ipython",
    "version": 3
   },
   "file_extension": ".py",
   "mimetype": "text/x-python",
   "name": "python",
   "nbconvert_exporter": "python",
   "pygments_lexer": "ipython3",
   "version": "3.6.5"
  }
 },
 "nbformat": 4,
 "nbformat_minor": 2
}
