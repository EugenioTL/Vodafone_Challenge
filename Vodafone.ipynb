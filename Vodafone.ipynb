{
 "cells": [
  {
   "cell_type": "markdown",
   "metadata": {},
   "source": [
    "# Polimi-Vodafone Challenge"
   ]
  },
  {
   "cell_type": "markdown",
   "metadata": {},
   "source": [
    "Find the right IoT product for the customers"
   ]
  },
  {
   "cell_type": "code",
   "execution_count": 1,
   "metadata": {},
   "outputs": [],
   "source": [
    "# Import useful libraries\n",
    "import pandas as pd\n",
    "import numpy as np\n",
    "import matplotlib.pyplot as plt\n",
    "\n",
    "# Ignore warnings\n",
    "import warnings\n",
    "warnings.simplefilter('ignore')\n",
    "\n",
    "# Random seed for reproducibility\n",
    "seed = 202\n",
    "np.random.seed(seed)"
   ]
  },
  {
   "cell_type": "code",
   "execution_count": 2,
   "metadata": {},
   "outputs": [],
   "source": [
    "from sklearn.ensemble import ExtraTreesClassifier, AdaBoostClassifier, GradientBoostingClassifier\n",
    "from sklearn.ensemble import RandomForestClassifier, ExtraTreesClassifier\n",
    "from sklearn.linear_model import LogisticRegression\n",
    "from sklearn.linear_model import PassiveAggressiveClassifier, Perceptron, SGDClassifier\n",
    "from sklearn.tree import DecisionTreeClassifier\n",
    "from sklearn.neighbors import KNeighborsClassifier\n",
    "from sklearn.discriminant_analysis import LinearDiscriminantAnalysis, QuadraticDiscriminantAnalysis\n",
    "from sklearn.naive_bayes import GaussianNB, BernoulliNB\n",
    "from sklearn.svm import SVC, LinearSVC\n",
    "from sklearn.gaussian_process import GaussianProcessClassifier"
   ]
  },
  {
   "cell_type": "code",
   "execution_count": 3,
   "metadata": {},
   "outputs": [],
   "source": [
    "# Import the train set and test set\n",
    "train_data2 = pd.read_csv(\"trainset.csv\", delimiter=\",\")\n",
    "test_data2 = pd.read_csv(\"testset.csv\", delimiter=\",\")\n",
    "\n",
    "train_data = pd.read_csv(\"normalized_train_dataset_dis.csv\", delimiter=\",\")\n",
    "test_data = pd.read_csv(\"normalized_test_dataset_dis.csv\", delimiter=\",\")"
   ]
  },
  {
   "cell_type": "code",
   "execution_count": 4,
   "metadata": {},
   "outputs": [],
   "source": [
    "prova = train_data\n",
    "prova = prova.dropna()\n",
    "\n",
    "prova = prova.iloc[np.random.permutation(len(prova))]\n",
    "prova = prova.reset_index(drop=True)"
   ]
  },
  {
   "cell_type": "code",
   "execution_count": 5,
   "metadata": {},
   "outputs": [
    {
     "data": {
      "text/plain": [
       "(9567, 35)"
      ]
     },
     "execution_count": 5,
     "metadata": {},
     "output_type": "execute_result"
    }
   ],
   "source": [
    "prova.shape"
   ]
  },
  {
   "cell_type": "code",
   "execution_count": null,
   "metadata": {},
   "outputs": [],
   "source": []
  },
  {
   "cell_type": "markdown",
   "metadata": {},
   "source": [
    "Test di correlazione chiquadro"
   ]
  },
  {
   "cell_type": "code",
   "execution_count": 6,
   "metadata": {},
   "outputs": [],
   "source": [
    "array = np.asarray(prova)\n",
    "\n",
    "X = array[:,0:prova.shape[1]-1]\n",
    "X = np.asarray(X)\n",
    "Y = array[:,prova.shape[1]-1]\n",
    "Y = np.asarray(Y)"
   ]
  },
  {
   "cell_type": "code",
   "execution_count": 7,
   "metadata": {},
   "outputs": [],
   "source": [
    "from sklearn.feature_selection import SelectKBest\n",
    "from sklearn.feature_selection import chi2\n",
    "chi2_test = SelectKBest(score_func=chi2, k=34)\n",
    "fit = chi2_test.fit(X,Y)"
   ]
  },
  {
   "cell_type": "code",
   "execution_count": 8,
   "metadata": {},
   "outputs": [
    {
     "name": "stdout",
     "output_type": "stream",
     "text": [
      "[1.1e+04 2.4e+01 3.2e+00 2.6e+01 1.4e+01 8.7e+00 4.8e-01 8.1e+00 9.7e+01\n",
      " 3.1e+01 2.0e+06 2.2e+00 3.4e+01 3.5e+01 3.9e+01 3.5e+01 6.4e+01 6.5e+01\n",
      " 1.1e+01 1.3e-01 3.6e+00 2.2e+00 9.4e+00 2.3e-01 5.7e+00 3.0e+00 2.5e+00\n",
      " 2.0e+00 8.8e-01 4.5e-01 6.9e+00 7.0e+01 2.1e+02 7.5e+01]\n"
     ]
    }
   ],
   "source": [
    "# summarize scores\n",
    "np.set_printoptions(precision=1)\n",
    "print(fit.scores_)\n",
    "features = fit.transform(X)"
   ]
  },
  {
   "cell_type": "code",
   "execution_count": 9,
   "metadata": {},
   "outputs": [
    {
     "data": {
      "text/plain": [
       "Index(['ID', 'DeviceFlag4G', 'DataArpu', 'DataAllowanceContinuous',\n",
       "       'DeviceFlagSmartphone', 'MonthlyVoiceTrafficCount',\n",
       "       'MonthlySMSTrafficCount', 'MonthlyDataTraffic', 'CustomerGender',\n",
       "       'CustomerExpatriate', 'ZipCode', 'ChurnScore',\n",
       "       'AirportConnectionsDuration', 'AirportConnectionsCount',\n",
       "       'StationConnectionsDuration', 'StationConnectionsCount',\n",
       "       'ParkingConnectionsDuration', 'ParkingConnectionsCount',\n",
       "       'File-Transfer', 'Games', 'Instant-Messaging-Applications', 'Mail',\n",
       "       'Music-Streaming', 'Network-Operation', 'P2P-Applications', 'Security',\n",
       "       'Streaming-Applications', 'Terminals', 'Unclassified', 'VoIP',\n",
       "       'Web-Applications', 'Region', 'Province', 'CustomerAge'],\n",
       "      dtype='object')"
      ]
     },
     "execution_count": 9,
     "metadata": {},
     "output_type": "execute_result"
    }
   ],
   "source": [
    "train_data.columns[chi2_test.get_support(indices=True)]"
   ]
  },
  {
   "cell_type": "code",
   "execution_count": 10,
   "metadata": {},
   "outputs": [
    {
     "data": {
      "text/plain": [
       "Index(['ID', 'DeviceFlag4G', 'DataArpu', 'DataAllowanceContinuous',\n",
       "       'DeviceFlagSmartphone', 'MonthlyVoiceTrafficCount',\n",
       "       'MonthlySMSTrafficCount', 'MonthlyDataTraffic', 'CustomerGender',\n",
       "       'CustomerExpatriate', 'ZipCode', 'ChurnScore',\n",
       "       'AirportConnectionsDuration', 'AirportConnectionsCount',\n",
       "       'StationConnectionsDuration', 'StationConnectionsCount',\n",
       "       'ParkingConnectionsDuration', 'ParkingConnectionsCount',\n",
       "       'File-Transfer', 'Games', 'Instant-Messaging-Applications', 'Mail',\n",
       "       'Music-Streaming', 'Network-Operation', 'P2P-Applications', 'Security',\n",
       "       'Streaming-Applications', 'Terminals', 'Unclassified', 'VoIP',\n",
       "       'Web-Applications', 'Region', 'Province', 'CustomerAge', 'Product'],\n",
       "      dtype='object')"
      ]
     },
     "execution_count": 10,
     "metadata": {},
     "output_type": "execute_result"
    }
   ],
   "source": [
    "prova.columns"
   ]
  },
  {
   "cell_type": "code",
   "execution_count": 11,
   "metadata": {},
   "outputs": [
    {
     "data": {
      "text/plain": [
       "ID                                0\n",
       "DeviceFlag4G                      0\n",
       "DataArpu                          0\n",
       "DataAllowanceContinuous           0\n",
       "DeviceFlagSmartphone              0\n",
       "MonthlyVoiceTrafficCount          0\n",
       "MonthlySMSTrafficCount            0\n",
       "MonthlyDataTraffic                0\n",
       "CustomerGender                    0\n",
       "CustomerExpatriate                0\n",
       "ZipCode                           0\n",
       "ChurnScore                        0\n",
       "AirportConnectionsDuration        0\n",
       "AirportConnectionsCount           0\n",
       "StationConnectionsDuration        0\n",
       "StationConnectionsCount           0\n",
       "ParkingConnectionsDuration        0\n",
       "ParkingConnectionsCount           0\n",
       "File-Transfer                     0\n",
       "Games                             0\n",
       "Instant-Messaging-Applications    0\n",
       "Mail                              0\n",
       "Music-Streaming                   0\n",
       "Network-Operation                 0\n",
       "P2P-Applications                  0\n",
       "Security                          0\n",
       "Streaming-Applications            0\n",
       "Terminals                         0\n",
       "Unclassified                      0\n",
       "VoIP                              0\n",
       "Web-Applications                  0\n",
       "Region                            0\n",
       "Province                          0\n",
       "CustomerAge                       0\n",
       "dtype: int64"
      ]
     },
     "execution_count": 11,
     "metadata": {},
     "output_type": "execute_result"
    }
   ],
   "source": [
    "test_data.isnull().sum()"
   ]
  },
  {
   "cell_type": "code",
   "execution_count": 12,
   "metadata": {},
   "outputs": [
    {
     "data": {
      "text/plain": [
       "'\\n\\nMISSING VALUES FOR COLUMN IN THE TEST SET\\n\\nDataArpu                           757\\nDataAllowanceContinuous            388\\nDataAllowanceOneShot              3052\\n\\nMonthlyVoiceTrafficCount           110\\nMonthlySMSTrafficCount             110\\nCustomerAge                        131\\nEstimatedDevicePrice              1900\\nMonthlyDataTraffic                 110\\n\\nProvince                           666\\nRegion                             666\\nZipCode                            575\\nChurnScore                         303\\n'"
      ]
     },
     "execution_count": 12,
     "metadata": {},
     "output_type": "execute_result"
    }
   ],
   "source": [
    "'''\n",
    "\n",
    "MISSING VALUES FOR COLUMN IN THE TEST SET\n",
    "\n",
    "DataArpu                           757\n",
    "DataAllowanceContinuous            388\n",
    "DataAllowanceOneShot              3052\n",
    "\n",
    "MonthlyVoiceTrafficCount           110\n",
    "MonthlySMSTrafficCount             110\n",
    "CustomerAge                        131\n",
    "EstimatedDevicePrice              1900\n",
    "MonthlyDataTraffic                 110\n",
    "\n",
    "Province                           666\n",
    "Region                             666\n",
    "ZipCode                            575\n",
    "ChurnScore                         303\n",
    "'''"
   ]
  },
  {
   "cell_type": "code",
   "execution_count": null,
   "metadata": {},
   "outputs": [],
   "source": []
  },
  {
   "cell_type": "code",
   "execution_count": null,
   "metadata": {},
   "outputs": [],
   "source": []
  },
  {
   "cell_type": "code",
   "execution_count": 13,
   "metadata": {},
   "outputs": [],
   "source": [
    "# def features_labels_split(data):\n",
    "    \n",
    "#     features = data[['ID', 'DataAllowanceContinuous', 'MonthlyDataTraffic', 'CustomerGender',\n",
    "#                      'CustomerExpatriate', 'ZipCode', 'Web-Applications', 'CustomerAge', 'Region', 'Province']]\n",
    "#     labels = data['Product']\n",
    "#     return features, labels"
   ]
  },
  {
   "cell_type": "code",
   "execution_count": 14,
   "metadata": {},
   "outputs": [],
   "source": [
    "def features_labels_split(data):\n",
    "    \n",
    "    features = data[train_data.columns[chi2_test.get_support(indices=True)]]\n",
    "    labels = data['Product']\n",
    "    return features, labels"
   ]
  },
  {
   "cell_type": "code",
   "execution_count": 15,
   "metadata": {},
   "outputs": [],
   "source": [
    "from sklearn.preprocessing import MinMaxScaler\n",
    "from sklearn.preprocessing import StandardScaler\n",
    "def standardize_features(features):\n",
    "\n",
    "    scaler = MinMaxScaler().fit(features)\n",
    "    features = scaler.transform(features)\n",
    "    return features"
   ]
  },
  {
   "cell_type": "code",
   "execution_count": 16,
   "metadata": {},
   "outputs": [],
   "source": [
    "def train_test_validation_split(features, labels, val_samples, test_samples):\n",
    "\n",
    "    features = np.asarray(features)\n",
    "    labels =np.asarray(labels)\n",
    "    \n",
    "    X_test = features[0:test_samples]\n",
    "    y_test = labels[0:test_samples]\n",
    "\n",
    "    X_val = features[test_samples:test_samples + val_samples]\n",
    "    y_val = labels[test_samples:test_samples + val_samples]\n",
    "\n",
    "    X_train = features[test_samples + val_samples:]\n",
    "    y_train = labels[test_samples + val_samples:]\n",
    "\n",
    "    return X_train, X_test, X_val, y_train, y_test, y_val"
   ]
  },
  {
   "cell_type": "code",
   "execution_count": null,
   "metadata": {},
   "outputs": [],
   "source": []
  },
  {
   "cell_type": "markdown",
   "metadata": {},
   "source": [
    "Toy example"
   ]
  },
  {
   "cell_type": "code",
   "execution_count": 17,
   "metadata": {},
   "outputs": [
    {
     "data": {
      "text/plain": [
       "((9567, 34), (9567,))"
      ]
     },
     "execution_count": 17,
     "metadata": {},
     "output_type": "execute_result"
    }
   ],
   "source": [
    "train_feat, train_label = features_labels_split(prova)\n",
    "train_feat = standardize_features(train_feat)\n",
    "train_feat.shape, train_label.shape"
   ]
  },
  {
   "cell_type": "code",
   "execution_count": 18,
   "metadata": {},
   "outputs": [],
   "source": [
    "num_val_samples = 0\n",
    "num_test_samples = 616\n",
    "X_train, X_test, X_val, y_train, y_test, y_val = train_test_validation_split(train_feat, train_label, num_val_samples, num_test_samples)"
   ]
  },
  {
   "cell_type": "code",
   "execution_count": 19,
   "metadata": {},
   "outputs": [],
   "source": [
    "from sklearn.metrics import f1_score\n",
    "from sklearn.model_selection import KFold"
   ]
  },
  {
   "cell_type": "code",
   "execution_count": 20,
   "metadata": {},
   "outputs": [
    {
     "name": "stdout",
     "output_type": "stream",
     "text": [
      "KFold(n_splits=10, random_state=None, shuffle=True)\n",
      "F1 score: 0.533\n",
      "F1 score: 0.587\n",
      "F1 score: 0.555\n",
      "F1 score: 0.562\n",
      "F1 score: 0.565\n",
      "F1 score: 0.545\n",
      "F1 score: 0.532\n",
      "F1 score: 0.554\n",
      "F1 score: 0.575\n",
      "F1 score: 0.572\n",
      "\n",
      "The final F1 score is 0.558 (+/- 0.017)\n"
     ]
    }
   ],
   "source": [
    "# kFOLD\n",
    "\n",
    "folds = 10\n",
    "scores = []\n",
    "\n",
    "\n",
    "kf = KFold(n_splits=folds, shuffle=True)\n",
    "print(kf)\n",
    "for train_index, test_index in kf.split(X_train):\n",
    "    X_train_kF, X_test_kF = X_train[train_index], X_train[test_index]\n",
    "    y_train_kF, y_test_kF = y_train[train_index], y_train[test_index]\n",
    "    model_kF = RandomForestClassifier()\n",
    "    model_kF.fit(X_train_kF, y_train_kF)\n",
    "    pred = model_kF.predict(X_test_kF)\n",
    "    f1 = f1_score(y_test_kF, pred, average='micro')\n",
    "    scores.append(f1)\n",
    "    print(\"F1 score: %.3f\" % f1)\n",
    "print(\"\\nThe final F1 score is %.3f (+/- %.3f)\" % (np.mean(scores), np.std(scores)))"
   ]
  },
  {
   "cell_type": "markdown",
   "metadata": {},
   "source": [
    "SOLO per avre un'idea di come dovrebbe performare su dati non visti"
   ]
  },
  {
   "cell_type": "code",
   "execution_count": 21,
   "metadata": {},
   "outputs": [
    {
     "name": "stdout",
     "output_type": "stream",
     "text": [
      "F1 score on unseen data: 0.567\n"
     ]
    }
   ],
   "source": [
    "# Test Performance\n",
    "\n",
    "model = RandomForestClassifier()\n",
    "model.fit(X_train, y_train)\n",
    "y_pred = model.predict(X_test)\n",
    "# F1\n",
    "print(\"F1 score on unseen data: %.3f\" % f1_score(y_test, y_pred, average='micro'))"
   ]
  },
  {
   "cell_type": "code",
   "execution_count": null,
   "metadata": {},
   "outputs": [],
   "source": []
  },
  {
   "cell_type": "code",
   "execution_count": null,
   "metadata": {},
   "outputs": [],
   "source": []
  },
  {
   "cell_type": "code",
   "execution_count": null,
   "metadata": {},
   "outputs": [],
   "source": []
  },
  {
   "cell_type": "code",
   "execution_count": null,
   "metadata": {},
   "outputs": [],
   "source": []
  },
  {
   "cell_type": "code",
   "execution_count": null,
   "metadata": {},
   "outputs": [],
   "source": []
  },
  {
   "cell_type": "code",
   "execution_count": null,
   "metadata": {},
   "outputs": [],
   "source": []
  },
  {
   "cell_type": "code",
   "execution_count": null,
   "metadata": {},
   "outputs": [],
   "source": []
  },
  {
   "cell_type": "code",
   "execution_count": null,
   "metadata": {},
   "outputs": [],
   "source": []
  },
  {
   "cell_type": "code",
   "execution_count": 22,
   "metadata": {},
   "outputs": [],
   "source": [
    "# Build the default models to select the best one  \n",
    "# The commented classifiers are weak\n",
    "dtc = DecisionTreeClassifier()\n",
    "bnb = BernoulliNB()\n",
    "xtc = ExtraTreesClassifier()\n",
    "nb = GaussianNB()\n",
    "qda = QuadraticDiscriminantAnalysis()\n",
    "lr = LogisticRegression()\n",
    "lda = LinearDiscriminantAnalysis()\n",
    "ada = AdaBoostClassifier()\n",
    "rf = RandomForestClassifier()\n",
    "knn = KNeighborsClassifier()\n",
    "gbc = GradientBoostingClassifier()\n",
    "#gpc = GaussianProcessClassifier() #Too fucking slow\n",
    "perc = Perceptron()\n",
    "paggr = PassiveAggressiveClassifier()\n",
    "svc = SVC()\n",
    "lsvc = LinearSVC()\n",
    "sgd = SGDClassifier()\n",
    "\n",
    "\n",
    "\n",
    "# Append all the models into an array\n",
    "models = []\n",
    "models.append(('SGD', sgd))\n",
    "models.append(('SVC', svc))\n",
    "models.append(('LSVC', lsvc))\n",
    "models.append(('PAGGR', paggr))\n",
    "models.append(('PERC', perc))\n",
    "models.append(('LR', lr))\n",
    "models.append(('LDA', lda))\n",
    "models.append(('KNN', knn))\n",
    "models.append(('DTC', dtc))\n",
    "models.append(('NB', nb))\n",
    "models.append(('GBC', gbc))\n",
    "models.append(('RF', rf))\n",
    "models.append(('ADA', ada))\n",
    "models.append(('QDA', qda))\n",
    "models.append(('BNB', bnb))\n",
    "models.append(('XTC', xtc))\n",
    "\n"
   ]
  },
  {
   "cell_type": "code",
   "execution_count": 23,
   "metadata": {},
   "outputs": [
    {
     "name": "stdout",
     "output_type": "stream",
     "text": [
      "SGD: 0.482 (0.130)\n",
      "SVC: 0.562 (0.022)\n",
      "LSVC: 0.567 (0.017)\n",
      "PAGGR: 0.433 (0.120)\n",
      "PERC: 0.416 (0.131)\n",
      "LR: 0.566 (0.019)\n",
      "LDA: 0.564 (0.016)\n",
      "KNN: 0.524 (0.015)\n",
      "DTC: 0.457 (0.017)\n",
      "NB: 0.493 (0.022)\n",
      "GBC: 0.587 (0.024)\n",
      "RF: 0.559 (0.022)\n",
      "ADA: 0.577 (0.019)\n",
      "QDA: 0.500 (0.023)\n",
      "BNB: 0.469 (0.021)\n",
      "XTC: 0.552 (0.022)\n"
     ]
    },
    {
     "data": {
      "image/png": "[encoded data removed]",
      "text/plain": [
       "<Figure size 1080x576 with 1 Axes>"
      ]
     },
     "metadata": {},
     "output_type": "display_data"
    }
   ],
   "source": [
    "from sklearn.model_selection import cross_val_score\n",
    "\n",
    "\n",
    "# evaluate each model in turn\n",
    "results = []\n",
    "names = []\n",
    "for name, model in models:\n",
    "    kfold = KFold(n_splits=10, random_state=seed)\n",
    "    cv_results = cross_val_score(model, X_train, y_train, cv=kfold, scoring='f1_micro', n_jobs=-1)\n",
    "    results.append(cv_results)\n",
    "    names.append(name)\n",
    "    msg = \"%s: %.3f (%.3f)\" % (name, cv_results.mean(), cv_results.std())\n",
    "    print(msg)\n",
    "    \n",
    "# boxplot algorithm comparison\n",
    "fig = plt.figure(figsize=(15, 8))\n",
    "fig.suptitle(' Comparison', fontsize=24)\n",
    "ax = fig.add_subplot(1,1,1)\n",
    "plt.boxplot(results)\n",
    "plt.ylim([0.35,0.65])\n",
    "ax.set_xticklabels(names)\n",
    "plt.show()"
   ]
  },
  {
   "cell_type": "code",
   "execution_count": null,
   "metadata": {},
   "outputs": [],
   "source": []
  },
  {
   "cell_type": "markdown",
   "metadata": {},
   "source": [
    "# Parameter Tuning"
   ]
  },
  {
   "cell_type": "code",
   "execution_count": 24,
   "metadata": {},
   "outputs": [
    {
     "name": "stdout",
     "output_type": "stream",
     "text": [
      "0.5675343537034968\n",
      "{'C': 0.4, 'penalty': 'l1'}\n"
     ]
    }
   ],
   "source": [
    "from sklearn.model_selection import GridSearchCV\n",
    "\n",
    "classifier = LogisticRegression()\n",
    "\n",
    "penalty = ('l1','l2')\n",
    "dual = (True, False)\n",
    "C = np.arange(0.1,1,0.1)\n",
    "\n",
    "parameters = [{\n",
    "    'penalty' : penalty,\n",
    "    'C' : C,\n",
    "               }]\n",
    "\n",
    "grid_search = GridSearchCV(estimator = classifier,\n",
    "                           param_grid = parameters,\n",
    "                           scoring='f1_micro',\n",
    "                           cv = 10,\n",
    "                           n_jobs = -1)\n",
    "\n",
    "grid_search = grid_search.fit(X_train, y_train)\n",
    "best_f1 = grid_search.best_score_\n",
    "best_parameters = grid_search.best_params_\n",
    "print(best_f1)\n",
    "print(best_parameters)"
   ]
  },
  {
   "cell_type": "code",
   "execution_count": null,
   "metadata": {},
   "outputs": [],
   "source": []
  },
  {
   "cell_type": "code",
   "execution_count": null,
   "metadata": {},
   "outputs": [],
   "source": []
  },
  {
   "cell_type": "code",
   "execution_count": 25,
   "metadata": {},
   "outputs": [
    {
     "name": "stdout",
     "output_type": "stream",
     "text": [
      "KFold(n_splits=10, random_state=None, shuffle=False)\n",
      "F1 score: 0.607\n",
      "F1 score: 0.603\n",
      "F1 score: 0.631\n",
      "F1 score: 0.593\n",
      "F1 score: 0.550\n",
      "F1 score: 0.574\n",
      "F1 score: 0.571\n",
      "F1 score: 0.562\n",
      "F1 score: 0.577\n",
      "F1 score: 0.606\n",
      "\n",
      "The final F1 score is 0.587 (+/- 0.024)\n"
     ]
    }
   ],
   "source": [
    "# Proviamo a potenziare il Gaussian Process Classifier!\n",
    "\n",
    "# kFOLD\n",
    "\n",
    "folds = 10\n",
    "scores = []\n",
    "\n",
    "\n",
    "kf = KFold(n_splits=folds, shuffle=False)\n",
    "print(kf)\n",
    "for train_index, test_index in kf.split(X_train):\n",
    "    X_train_kF, X_test_kF = X_train[train_index], X_train[test_index]\n",
    "    y_train_kF, y_test_kF = y_train[train_index], y_train[test_index]\n",
    "    model_kF = GradientBoostingClassifier()\n",
    "    model_kF.fit(X_train_kF, y_train_kF)\n",
    "    pred = model_kF.predict(X_test_kF)\n",
    "    f1 = f1_score(y_test_kF, pred, average='micro')\n",
    "    scores.append(f1)\n",
    "    print(\"F1 score: %.3f\" % f1)\n",
    "print(\"\\nThe final F1 score is %.3f (+/- %.3f)\" % (np.mean(scores), np.std(scores)))"
   ]
  },
  {
   "cell_type": "code",
   "execution_count": 26,
   "metadata": {},
   "outputs": [
    {
     "name": "stdout",
     "output_type": "stream",
     "text": [
      "F1 score on unseen data: 0.591\n"
     ]
    }
   ],
   "source": [
    "# Test Performance\n",
    "\n",
    "model = GradientBoostingClassifier()\n",
    "model.fit(X_train, y_train)\n",
    "y_pred = model.predict(X_test)\n",
    "# F1\n",
    "print(\"F1 score on unseen data: %.3f\" % f1_score(y_test, y_pred, average='micro'))"
   ]
  },
  {
   "cell_type": "code",
   "execution_count": null,
   "metadata": {},
   "outputs": [],
   "source": []
  },
  {
   "cell_type": "code",
   "execution_count": null,
   "metadata": {},
   "outputs": [],
   "source": []
  },
  {
   "cell_type": "code",
   "execution_count": null,
   "metadata": {},
   "outputs": [],
   "source": []
  },
  {
   "cell_type": "code",
   "execution_count": null,
   "metadata": {},
   "outputs": [],
   "source": []
  },
  {
   "cell_type": "code",
   "execution_count": null,
   "metadata": {},
   "outputs": [],
   "source": []
  },
  {
   "cell_type": "code",
   "execution_count": null,
   "metadata": {},
   "outputs": [],
   "source": []
  },
  {
   "cell_type": "code",
   "execution_count": null,
   "metadata": {},
   "outputs": [],
   "source": []
  },
  {
   "cell_type": "code",
   "execution_count": null,
   "metadata": {},
   "outputs": [],
   "source": []
  },
  {
   "cell_type": "code",
   "execution_count": null,
   "metadata": {},
   "outputs": [],
   "source": []
  },
  {
   "cell_type": "code",
   "execution_count": null,
   "metadata": {},
   "outputs": [],
   "source": []
  },
  {
   "cell_type": "code",
   "execution_count": null,
   "metadata": {},
   "outputs": [],
   "source": []
  },
  {
   "cell_type": "code",
   "execution_count": null,
   "metadata": {},
   "outputs": [],
   "source": []
  },
  {
   "cell_type": "code",
   "execution_count": null,
   "metadata": {},
   "outputs": [],
   "source": []
  },
  {
   "cell_type": "code",
   "execution_count": null,
   "metadata": {},
   "outputs": [],
   "source": []
  },
  {
   "cell_type": "code",
   "execution_count": null,
   "metadata": {},
   "outputs": [],
   "source": []
  },
  {
   "cell_type": "code",
   "execution_count": null,
   "metadata": {},
   "outputs": [],
   "source": []
  },
  {
   "cell_type": "code",
   "execution_count": null,
   "metadata": {},
   "outputs": [],
   "source": []
  },
  {
   "cell_type": "code",
   "execution_count": null,
   "metadata": {},
   "outputs": [],
   "source": []
  },
  {
   "cell_type": "code",
   "execution_count": null,
   "metadata": {},
   "outputs": [],
   "source": []
  },
  {
   "cell_type": "code",
   "execution_count": null,
   "metadata": {},
   "outputs": [],
   "source": []
  },
  {
   "cell_type": "markdown",
   "metadata": {},
   "source": [
    "Da questo punto in avanti, riapplichiamo le stesse trasformazioni che abbiamo appricato al train per fare la predizione sul testset"
   ]
  },
  {
   "cell_type": "code",
   "execution_count": 27,
   "metadata": {},
   "outputs": [
    {
     "data": {
      "text/plain": [
       "ID                                0\n",
       "DeviceFlag4G                      0\n",
       "DataArpu                          0\n",
       "DataAllowanceContinuous           0\n",
       "DeviceFlagSmartphone              0\n",
       "MonthlyVoiceTrafficCount          0\n",
       "MonthlySMSTrafficCount            0\n",
       "MonthlyDataTraffic                0\n",
       "CustomerGender                    0\n",
       "CustomerExpatriate                0\n",
       "ZipCode                           0\n",
       "ChurnScore                        0\n",
       "AirportConnectionsDuration        0\n",
       "AirportConnectionsCount           0\n",
       "StationConnectionsDuration        0\n",
       "StationConnectionsCount           0\n",
       "ParkingConnectionsDuration        0\n",
       "ParkingConnectionsCount           0\n",
       "File-Transfer                     0\n",
       "Games                             0\n",
       "Instant-Messaging-Applications    0\n",
       "Mail                              0\n",
       "Music-Streaming                   0\n",
       "Network-Operation                 0\n",
       "P2P-Applications                  0\n",
       "Security                          0\n",
       "Streaming-Applications            0\n",
       "Terminals                         0\n",
       "Unclassified                      0\n",
       "VoIP                              0\n",
       "Web-Applications                  0\n",
       "Region                            0\n",
       "Province                          0\n",
       "CustomerAge                       0\n",
       "dtype: int64"
      ]
     },
     "execution_count": 27,
     "metadata": {},
     "output_type": "execute_result"
    }
   ],
   "source": [
    "test_data.isnull().sum()"
   ]
  },
  {
   "cell_type": "code",
   "execution_count": 28,
   "metadata": {},
   "outputs": [],
   "source": [
    "X_pred = test_data[train_data.columns[chi2_test.get_support(indices=True)]]"
   ]
  },
  {
   "cell_type": "code",
   "execution_count": 29,
   "metadata": {},
   "outputs": [
    {
     "data": {
      "text/html": [
       "<div>\n",
       "<style scoped>\n",
       "    .dataframe tbody tr th:only-of-type {\n",
       "        vertical-align: middle;\n",
       "    }\n",
       "\n",
       "    .dataframe tbody tr th {\n",
       "        vertical-align: top;\n",
       "    }\n",
       "\n",
       "    .dataframe thead th {\n",
       "        text-align: right;\n",
       "    }\n",
       "</style>\n",
       "<table border=\"1\" class=\"dataframe\">\n",
       "  <thead>\n",
       "    <tr style=\"text-align: right;\">\n",
       "      <th></th>\n",
       "      <th>ID</th>\n",
       "      <th>DeviceFlag4G</th>\n",
       "      <th>DataArpu</th>\n",
       "      <th>DataAllowanceContinuous</th>\n",
       "      <th>DeviceFlagSmartphone</th>\n",
       "      <th>MonthlyVoiceTrafficCount</th>\n",
       "      <th>MonthlySMSTrafficCount</th>\n",
       "      <th>MonthlyDataTraffic</th>\n",
       "      <th>CustomerGender</th>\n",
       "      <th>CustomerExpatriate</th>\n",
       "      <th>...</th>\n",
       "      <th>P2P-Applications</th>\n",
       "      <th>Security</th>\n",
       "      <th>Streaming-Applications</th>\n",
       "      <th>Terminals</th>\n",
       "      <th>Unclassified</th>\n",
       "      <th>VoIP</th>\n",
       "      <th>Web-Applications</th>\n",
       "      <th>Region</th>\n",
       "      <th>Province</th>\n",
       "      <th>CustomerAge</th>\n",
       "    </tr>\n",
       "  </thead>\n",
       "  <tbody>\n",
       "    <tr>\n",
       "      <th>0</th>\n",
       "      <td>10909</td>\n",
       "      <td>1.0</td>\n",
       "      <td>0.278966</td>\n",
       "      <td>0.088247</td>\n",
       "      <td>1.0</td>\n",
       "      <td>0.087240</td>\n",
       "      <td>0.002372</td>\n",
       "      <td>0.117077</td>\n",
       "      <td>0.0</td>\n",
       "      <td>0.0</td>\n",
       "      <td>...</td>\n",
       "      <td>1.191584e-03</td>\n",
       "      <td>0.000095</td>\n",
       "      <td>0.094630</td>\n",
       "      <td>0.000000</td>\n",
       "      <td>0.000751</td>\n",
       "      <td>0.010485</td>\n",
       "      <td>0.866945</td>\n",
       "      <td>0.0</td>\n",
       "      <td>71.0</td>\n",
       "      <td>25.0</td>\n",
       "    </tr>\n",
       "    <tr>\n",
       "      <th>1</th>\n",
       "      <td>11055</td>\n",
       "      <td>1.0</td>\n",
       "      <td>0.511595</td>\n",
       "      <td>0.054729</td>\n",
       "      <td>1.0</td>\n",
       "      <td>0.143229</td>\n",
       "      <td>0.001873</td>\n",
       "      <td>0.023151</td>\n",
       "      <td>1.0</td>\n",
       "      <td>0.0</td>\n",
       "      <td>...</td>\n",
       "      <td>5.463317e-05</td>\n",
       "      <td>0.007726</td>\n",
       "      <td>0.097810</td>\n",
       "      <td>0.000000</td>\n",
       "      <td>0.002750</td>\n",
       "      <td>0.007511</td>\n",
       "      <td>0.522451</td>\n",
       "      <td>0.0</td>\n",
       "      <td>42.0</td>\n",
       "      <td>55.0</td>\n",
       "    </tr>\n",
       "    <tr>\n",
       "      <th>2</th>\n",
       "      <td>1346</td>\n",
       "      <td>0.0</td>\n",
       "      <td>0.108560</td>\n",
       "      <td>0.043853</td>\n",
       "      <td>1.0</td>\n",
       "      <td>0.035807</td>\n",
       "      <td>0.000125</td>\n",
       "      <td>0.021345</td>\n",
       "      <td>1.0</td>\n",
       "      <td>1.0</td>\n",
       "      <td>...</td>\n",
       "      <td>0.000000e+00</td>\n",
       "      <td>0.001035</td>\n",
       "      <td>0.210621</td>\n",
       "      <td>0.000004</td>\n",
       "      <td>0.005871</td>\n",
       "      <td>0.001355</td>\n",
       "      <td>0.280302</td>\n",
       "      <td>0.0</td>\n",
       "      <td>42.0</td>\n",
       "      <td>55.0</td>\n",
       "    </tr>\n",
       "    <tr>\n",
       "      <th>3</th>\n",
       "      <td>11102</td>\n",
       "      <td>0.0</td>\n",
       "      <td>0.232629</td>\n",
       "      <td>0.027273</td>\n",
       "      <td>1.0</td>\n",
       "      <td>0.127604</td>\n",
       "      <td>0.001873</td>\n",
       "      <td>0.036968</td>\n",
       "      <td>0.0</td>\n",
       "      <td>0.0</td>\n",
       "      <td>...</td>\n",
       "      <td>1.019815e-04</td>\n",
       "      <td>0.002331</td>\n",
       "      <td>0.217483</td>\n",
       "      <td>0.000000</td>\n",
       "      <td>0.002814</td>\n",
       "      <td>0.000254</td>\n",
       "      <td>0.687266</td>\n",
       "      <td>0.0</td>\n",
       "      <td>24.0</td>\n",
       "      <td>35.0</td>\n",
       "    </tr>\n",
       "    <tr>\n",
       "      <th>4</th>\n",
       "      <td>7405</td>\n",
       "      <td>0.0</td>\n",
       "      <td>0.449560</td>\n",
       "      <td>0.115703</td>\n",
       "      <td>1.0</td>\n",
       "      <td>0.219401</td>\n",
       "      <td>0.002871</td>\n",
       "      <td>0.086984</td>\n",
       "      <td>1.0</td>\n",
       "      <td>0.0</td>\n",
       "      <td>...</td>\n",
       "      <td>9.328607e-07</td>\n",
       "      <td>0.000699</td>\n",
       "      <td>0.420700</td>\n",
       "      <td>0.000000</td>\n",
       "      <td>0.005276</td>\n",
       "      <td>0.000626</td>\n",
       "      <td>0.512064</td>\n",
       "      <td>0.0</td>\n",
       "      <td>42.0</td>\n",
       "      <td>35.0</td>\n",
       "    </tr>\n",
       "  </tbody>\n",
       "</table>\n",
       "<p>5 rows × 34 columns</p>\n",
       "</div>"
      ],
      "text/plain": [
       "      ID  DeviceFlag4G  DataArpu  DataAllowanceContinuous  \\\n",
       "0  10909           1.0  0.278966                 0.088247   \n",
       "1  11055           1.0  0.511595                 0.054729   \n",
       "2   1346           0.0  0.108560                 0.043853   \n",
       "3  11102           0.0  0.232629                 0.027273   \n",
       "4   7405           0.0  0.449560                 0.115703   \n",
       "\n",
       "   DeviceFlagSmartphone  MonthlyVoiceTrafficCount  MonthlySMSTrafficCount  \\\n",
       "0                   1.0                  0.087240                0.002372   \n",
       "1                   1.0                  0.143229                0.001873   \n",
       "2                   1.0                  0.035807                0.000125   \n",
       "3                   1.0                  0.127604                0.001873   \n",
       "4                   1.0                  0.219401                0.002871   \n",
       "\n",
       "   MonthlyDataTraffic  CustomerGender  CustomerExpatriate     ...       \\\n",
       "0            0.117077             0.0                 0.0     ...        \n",
       "1            0.023151             1.0                 0.0     ...        \n",
       "2            0.021345             1.0                 1.0     ...        \n",
       "3            0.036968             0.0                 0.0     ...        \n",
       "4            0.086984             1.0                 0.0     ...        \n",
       "\n",
       "   P2P-Applications  Security  Streaming-Applications  Terminals  \\\n",
       "0      1.191584e-03  0.000095                0.094630   0.000000   \n",
       "1      5.463317e-05  0.007726                0.097810   0.000000   \n",
       "2      0.000000e+00  0.001035                0.210621   0.000004   \n",
       "3      1.019815e-04  0.002331                0.217483   0.000000   \n",
       "4      9.328607e-07  0.000699                0.420700   0.000000   \n",
       "\n",
       "   Unclassified      VoIP  Web-Applications  Region  Province  CustomerAge  \n",
       "0      0.000751  0.010485          0.866945     0.0      71.0         25.0  \n",
       "1      0.002750  0.007511          0.522451     0.0      42.0         55.0  \n",
       "2      0.005871  0.001355          0.280302     0.0      42.0         55.0  \n",
       "3      0.002814  0.000254          0.687266     0.0      24.0         35.0  \n",
       "4      0.005276  0.000626          0.512064     0.0      42.0         35.0  \n",
       "\n",
       "[5 rows x 34 columns]"
      ]
     },
     "execution_count": 29,
     "metadata": {},
     "output_type": "execute_result"
    }
   ],
   "source": [
    "X_pred.head()"
   ]
  },
  {
   "cell_type": "code",
   "execution_count": 30,
   "metadata": {},
   "outputs": [
    {
     "data": {
      "text/plain": [
       "Index(['ID', 'DeviceFlag4G', 'DataArpu', 'DataAllowanceContinuous',\n",
       "       'DeviceFlagSmartphone', 'MonthlyVoiceTrafficCount',\n",
       "       'MonthlySMSTrafficCount', 'MonthlyDataTraffic', 'CustomerGender',\n",
       "       'CustomerExpatriate', 'ZipCode', 'ChurnScore',\n",
       "       'AirportConnectionsDuration', 'AirportConnectionsCount',\n",
       "       'StationConnectionsDuration', 'StationConnectionsCount',\n",
       "       'ParkingConnectionsDuration', 'ParkingConnectionsCount',\n",
       "       'File-Transfer', 'Games', 'Instant-Messaging-Applications', 'Mail',\n",
       "       'Music-Streaming', 'Network-Operation', 'P2P-Applications', 'Security',\n",
       "       'Streaming-Applications', 'Terminals', 'Unclassified', 'VoIP',\n",
       "       'Web-Applications', 'Region', 'Province', 'CustomerAge'],\n",
       "      dtype='object')"
      ]
     },
     "execution_count": 30,
     "metadata": {},
     "output_type": "execute_result"
    }
   ],
   "source": [
    "X_pred.columns"
   ]
  },
  {
   "cell_type": "code",
   "execution_count": 31,
   "metadata": {},
   "outputs": [],
   "source": [
    "classifier = GradientBoostingClassifier()\n",
    "classifier.fit(train_feat, train_label)\n",
    "y_pred = classifier.predict(X_pred)"
   ]
  },
  {
   "cell_type": "code",
   "execution_count": 32,
   "metadata": {},
   "outputs": [],
   "source": [
    "submit = X_pred['ID']\n",
    "submit = pd.DataFrame({'ID': submit})\n",
    "\n",
    "pred = y_pred\n",
    "pred = pd.DataFrame({'Product': y_pred})\n",
    "\n",
    "product = []\n",
    "product = pred.Product\n",
    "product.replace({ \n",
    "    int(0) : 'Non-Customer', \n",
    "    int(1) : 'V-Bag', \n",
    "    int(2) : 'V-Pet', \n",
    "    int(3) : 'V-Auto'},\n",
    "    inplace=True)\n",
    "\n",
    "submit = submit.join(product)\n",
    "submit.to_csv('result.csv', index = False, encoding='utf-8')"
   ]
  },
  {
   "cell_type": "code",
   "execution_count": 33,
   "metadata": {},
   "outputs": [
    {
     "name": "stdout",
     "output_type": "stream",
     "text": [
      "F1 score on unseen data: 0.484\n"
     ]
    }
   ],
   "source": [
    "# F1\n",
    "print(\"F1 score on unseen data: %.3f\" % f1_score(y_test, y_pred[:616], average='micro'))"
   ]
  },
  {
   "cell_type": "code",
   "execution_count": 34,
   "metadata": {},
   "outputs": [
    {
     "data": {
      "text/plain": [
       "count             3190\n",
       "unique               4\n",
       "top       Non-Customer\n",
       "freq              2636\n",
       "Name: Product, dtype: object"
      ]
     },
     "execution_count": 34,
     "metadata": {},
     "output_type": "execute_result"
    }
   ],
   "source": [
    "submit.Product.describe()"
   ]
  }
 ],
 "metadata": {
  "kernelspec": {
   "display_name": "Python 3",
   "language": "python",
   "name": "python3"
  },
  "language_info": {
   "codemirror_mode": {
    "name": "ipython",
    "version": 3
   },
   "file_extension": ".py",
   "mimetype": "text/x-python",
   "name": "python",
   "nbconvert_exporter": "python",
   "pygments_lexer": "ipython3",
   "version": "3.6.5"
  }
 },
 "nbformat": 4,
 "nbformat_minor": 2
}
